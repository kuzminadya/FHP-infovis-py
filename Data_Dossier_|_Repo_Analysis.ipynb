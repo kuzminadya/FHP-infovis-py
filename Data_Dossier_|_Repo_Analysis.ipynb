{
  "nbformat": 4,
  "nbformat_minor": 0,
  "metadata": {
    "colab": {
      "name": " Data Dossier | Repo Analysis.ipynb",
      "provenance": [],
      "collapsed_sections": [],
      "authorship_tag": "ABX9TyMLBxWUDc4GH9W3IS05IhIE",
      "include_colab_link": true
    },
    "kernelspec": {
      "name": "python3",
      "display_name": "Python 3"
    }
  },
  "cells": [
    {
      "cell_type": "markdown",
      "metadata": {
        "id": "view-in-github",
        "colab_type": "text"
      },
      "source": [
        "<a href=\"https://colab.research.google.com/github/kuzminadya/FHP-infovis-py/blob/master/Data_Dossier_%7C_Repo_Analysis.ipynb\" target=\"_parent\"><img src=\"https://colab.research.google.com/assets/colab-badge.svg\" alt=\"Open In Colab\"/></a>"
      ]
    },
    {
      "cell_type": "markdown",
      "metadata": {
        "id": "HQFKi_PJ6xYS",
        "colab_type": "text"
      },
      "source": [
        "# Font File Transformations, the 1st Use Case\n",
        "\n",
        "## An idea\n",
        "\n",
        "My idea is to analyse and visualise the transformation of font file changing over time. Creating a font, especially a large font family may take several years of work or it might be a result of collaboration of several designers and type engineers. Even after the first version is released, the contribution to the project and updating the font may last for several years.\n"
      ]
    },
    {
      "cell_type": "markdown",
      "metadata": {
        "id": "q2DiMqY__4fh",
        "colab_type": "text"
      },
      "source": [
        "### The first use case — analysis of a existed github repo\n",
        "\n",
        "As an examle I use IBM Plex® typeface which was active on Github for a 2 years and have more than 219 commits:\\\n",
        "https://github.com/IBM/plex "
      ]
    },
    {
      "cell_type": "markdown",
      "metadata": {
        "id": "emGvVC7IE-0P",
        "colab_type": "text"
      },
      "source": [
        "First of all I'm going to import our favorite libraries.\n"
      ]
    },
    {
      "cell_type": "code",
      "metadata": {
        "id": "q9ueJOVw7Lw1",
        "colab_type": "code",
        "colab": {}
      },
      "source": [
        "import pandas as pd\n",
        "import altair as alt"
      ],
      "execution_count": 2,
      "outputs": []
    },
    {
      "cell_type": "markdown",
      "metadata": {
        "id": "UuVFCkpKkYpb",
        "colab_type": "text"
      },
      "source": [
        "The first step is getting the dataset in JSON format from Github (https://developer.github.com/v3/repos/#get-a-repository\n",
        "). Here I have a description of repo itself."
      ]
    },
    {
      "cell_type": "code",
      "metadata": {
        "id": "xDKl58k9b2n8",
        "colab_type": "code",
        "colab": {
          "base_uri": "https://localhost:8080/",
          "height": 34
        },
        "outputId": "ed77ecd5-010f-442c-8a97-42579d75ad62"
      },
      "source": [
        "import requests \n",
        "\n",
        "url = ('https://api.github.com/repos/IBM/plex')\n",
        "\n",
        "response = requests.get(url)\n",
        "\n",
        "print(f\"Request returned {response.status_code} : '{response.reason}'\")\n",
        "dataset_repo_json = response.json()\n",
        "\n",
        "# dataset_repo_json"
      ],
      "execution_count": 3,
      "outputs": [
        {
          "output_type": "stream",
          "text": [
            "Request returned 200 : 'OK'\n"
          ],
          "name": "stdout"
        }
      ]
    },
    {
      "cell_type": "markdown",
      "metadata": {
        "id": "o4nxhHGKfT-X",
        "colab_type": "text"
      },
      "source": [
        "And then I get the list of commits (https://developer.github.com/v3/repos/commits/) in JSON format:"
      ]
    },
    {
      "cell_type": "code",
      "metadata": {
        "id": "kGM-cCYefYQ9",
        "colab_type": "code",
        "colab": {
          "base_uri": "https://localhost:8080/",
          "height": 34
        },
        "outputId": "0ce51d15-5e24-4daf-e515-bf48f6c02b92"
      },
      "source": [
        "url = ('https://api.github.com/repos/IBM/plex/commits')\n",
        "\n",
        "response = requests.get(url)\n",
        "\n",
        "print(f\"Request returned {response.status_code} : '{response.reason}'\")\n",
        "dataset_commits_json = response.json()\n",
        "\n",
        "# dataset_commits_json"
      ],
      "execution_count": 4,
      "outputs": [
        {
          "output_type": "stream",
          "text": [
            "Request returned 200 : 'OK'\n"
          ],
          "name": "stdout"
        }
      ]
    },
    {
      "cell_type": "markdown",
      "metadata": {
        "id": "eVTKav6SmNZP",
        "colab_type": "text"
      },
      "source": [
        "The next part is converting JSON into a dataframe. I will convert only the second file.\n",
        "\n",
        "With a help of: https://stackoverflow.com/questions/41168558/python-how-to-convert-json-file-to-dataframe"
      ]
    },
    {
      "cell_type": "code",
      "metadata": {
        "id": "Pj_LNtSxi1ru",
        "colab_type": "code",
        "colab": {
          "base_uri": "https://localhost:8080/",
          "height": 71
        },
        "outputId": "485a8dc0-ce42-474a-bd52-e7bafe975c63"
      },
      "source": [
        "from pandas.io.json import json_normalize\n",
        "df_commits = pd.DataFrame.from_dict(json_normalize(dataset_commits_json), orient='columns')"
      ],
      "execution_count": 5,
      "outputs": [
        {
          "output_type": "stream",
          "text": [
            "/usr/local/lib/python3.6/dist-packages/ipykernel_launcher.py:2: FutureWarning: pandas.io.json.json_normalize is deprecated, use pandas.json_normalize instead\n",
            "  \n"
          ],
          "name": "stderr"
        }
      ]
    },
    {
      "cell_type": "code",
      "metadata": {
        "id": "KweYihPU43Fu",
        "colab_type": "code",
        "colab": {
          "base_uri": "https://localhost:8080/",
          "height": 1000
        },
        "outputId": "e2e1810c-9aca-4739-ce96-5b11e24a5cff"
      },
      "source": [
        "df_commits.info()"
      ],
      "execution_count": 6,
      "outputs": [
        {
          "output_type": "stream",
          "text": [
            "<class 'pandas.core.frame.DataFrame'>\n",
            "RangeIndex: 30 entries, 0 to 29\n",
            "Data columns (total 59 columns):\n",
            " #   Column                         Non-Null Count  Dtype  \n",
            "---  ------                         --------------  -----  \n",
            " 0   sha                            30 non-null     object \n",
            " 1   node_id                        30 non-null     object \n",
            " 2   url                            30 non-null     object \n",
            " 3   html_url                       30 non-null     object \n",
            " 4   comments_url                   30 non-null     object \n",
            " 5   parents                        30 non-null     object \n",
            " 6   commit.author.name             30 non-null     object \n",
            " 7   commit.author.email            30 non-null     object \n",
            " 8   commit.author.date             30 non-null     object \n",
            " 9   commit.committer.name          30 non-null     object \n",
            " 10  commit.committer.email         30 non-null     object \n",
            " 11  commit.committer.date          30 non-null     object \n",
            " 12  commit.message                 30 non-null     object \n",
            " 13  commit.tree.sha                30 non-null     object \n",
            " 14  commit.tree.url                30 non-null     object \n",
            " 15  commit.url                     30 non-null     object \n",
            " 16  commit.comment_count           30 non-null     int64  \n",
            " 17  commit.verification.verified   30 non-null     bool   \n",
            " 18  commit.verification.reason     30 non-null     object \n",
            " 19  commit.verification.signature  12 non-null     object \n",
            " 20  commit.verification.payload    12 non-null     object \n",
            " 21  author.login                   12 non-null     object \n",
            " 22  author.id                      12 non-null     float64\n",
            " 23  author.node_id                 12 non-null     object \n",
            " 24  author.avatar_url              12 non-null     object \n",
            " 25  author.gravatar_id             12 non-null     object \n",
            " 26  author.url                     12 non-null     object \n",
            " 27  author.html_url                12 non-null     object \n",
            " 28  author.followers_url           12 non-null     object \n",
            " 29  author.following_url           12 non-null     object \n",
            " 30  author.gists_url               12 non-null     object \n",
            " 31  author.starred_url             12 non-null     object \n",
            " 32  author.subscriptions_url       12 non-null     object \n",
            " 33  author.organizations_url       12 non-null     object \n",
            " 34  author.repos_url               12 non-null     object \n",
            " 35  author.events_url              12 non-null     object \n",
            " 36  author.received_events_url     12 non-null     object \n",
            " 37  author.type                    12 non-null     object \n",
            " 38  author.site_admin              12 non-null     object \n",
            " 39  committer.login                12 non-null     object \n",
            " 40  committer.id                   12 non-null     float64\n",
            " 41  committer.node_id              12 non-null     object \n",
            " 42  committer.avatar_url           12 non-null     object \n",
            " 43  committer.gravatar_id          12 non-null     object \n",
            " 44  committer.url                  12 non-null     object \n",
            " 45  committer.html_url             12 non-null     object \n",
            " 46  committer.followers_url        12 non-null     object \n",
            " 47  committer.following_url        12 non-null     object \n",
            " 48  committer.gists_url            12 non-null     object \n",
            " 49  committer.starred_url          12 non-null     object \n",
            " 50  committer.subscriptions_url    12 non-null     object \n",
            " 51  committer.organizations_url    12 non-null     object \n",
            " 52  committer.repos_url            12 non-null     object \n",
            " 53  committer.events_url           12 non-null     object \n",
            " 54  committer.received_events_url  12 non-null     object \n",
            " 55  committer.type                 12 non-null     object \n",
            " 56  committer.site_admin           12 non-null     object \n",
            " 57  author                         0 non-null      float64\n",
            " 58  committer                      0 non-null      float64\n",
            "dtypes: bool(1), float64(4), int64(1), object(53)\n",
            "memory usage: 13.7+ KB\n"
          ],
          "name": "stdout"
        }
      ]
    },
    {
      "cell_type": "markdown",
      "metadata": {
        "id": "ZfPKhx_3Kvoh",
        "colab_type": "text"
      },
      "source": [
        "Some operations with df, like decreasing the amount of columns, haven't succeed with json file. To avoid it I transform the file in csv format and download it (to do it please uncomment the code below)."
      ]
    },
    {
      "cell_type": "code",
      "metadata": {
        "id": "VV2WBaZbv5hO",
        "colab_type": "code",
        "colab": {
          "base_uri": "https://localhost:8080/",
          "height": 17
        },
        "outputId": "84c380f1-c5c5-490a-fa96-167a9070a7bb"
      },
      "source": [
        "from google.colab import files\n",
        "\n",
        "df_commits.to_csv('df_commits_table.csv')\n",
        "# files.download('df_commits_table.csv')"
      ],
      "execution_count": 7,
      "outputs": [
        {
          "output_type": "display_data",
          "data": {
            "application/javascript": [
              "\n",
              "    async function download(id, filename, size) {\n",
              "      if (!google.colab.kernel.accessAllowed) {\n",
              "        return;\n",
              "      }\n",
              "      const div = document.createElement('div');\n",
              "      const label = document.createElement('label');\n",
              "      label.textContent = `Downloading \"${filename}\": `;\n",
              "      div.appendChild(label);\n",
              "      const progress = document.createElement('progress');\n",
              "      progress.max = size;\n",
              "      div.appendChild(progress);\n",
              "      document.body.appendChild(div);\n",
              "\n",
              "      const buffers = [];\n",
              "      let downloaded = 0;\n",
              "\n",
              "      const channel = await google.colab.kernel.comms.open(id);\n",
              "      // Send a message to notify the kernel that we're ready.\n",
              "      channel.send({})\n",
              "\n",
              "      for await (const message of channel.messages) {\n",
              "        // Send a message to notify the kernel that we're ready.\n",
              "        channel.send({})\n",
              "        if (message.buffers) {\n",
              "          for (const buffer of message.buffers) {\n",
              "            buffers.push(buffer);\n",
              "            downloaded += buffer.byteLength;\n",
              "            progress.value = downloaded;\n",
              "          }\n",
              "        }\n",
              "      }\n",
              "      const blob = new Blob(buffers, {type: 'application/binary'});\n",
              "      const a = document.createElement('a');\n",
              "      a.href = window.URL.createObjectURL(blob);\n",
              "      a.download = filename;\n",
              "      div.appendChild(a);\n",
              "      a.click();\n",
              "      div.remove();\n",
              "    }\n",
              "  "
            ],
            "text/plain": [
              "<IPython.core.display.Javascript object>"
            ]
          },
          "metadata": {
            "tags": []
          }
        },
        {
          "output_type": "display_data",
          "data": {
            "application/javascript": [
              "download(\"download_ab008e9d-9765-4e71-ad0d-5dcb1888eac1\", \"df_commits_table.csv\", 58887)"
            ],
            "text/plain": [
              "<IPython.core.display.Javascript object>"
            ]
          },
          "metadata": {
            "tags": []
          }
        }
      ]
    },
    {
      "cell_type": "code",
      "metadata": {
        "id": "JPWNUSS7R9gm",
        "colab_type": "code",
        "colab": {
          "base_uri": "https://localhost:8080/",
          "height": 394
        },
        "outputId": "9dd8c95a-173c-4669-ef56-08f9c66924b3"
      },
      "source": [
        "file_commits = open(\"df_commits_table.csv\")\n",
        "\n",
        "file_commits_csv = pd.read_csv(file_commits, sep=',', keep_default_na=False)\n",
        "file_commits_csv.head()"
      ],
      "execution_count": 8,
      "outputs": [
        {
          "output_type": "execute_result",
          "data": {
            "text/html": [
              "<div>\n",
              "<style scoped>\n",
              "    .dataframe tbody tr th:only-of-type {\n",
              "        vertical-align: middle;\n",
              "    }\n",
              "\n",
              "    .dataframe tbody tr th {\n",
              "        vertical-align: top;\n",
              "    }\n",
              "\n",
              "    .dataframe thead th {\n",
              "        text-align: right;\n",
              "    }\n",
              "</style>\n",
              "<table border=\"1\" class=\"dataframe\">\n",
              "  <thead>\n",
              "    <tr style=\"text-align: right;\">\n",
              "      <th></th>\n",
              "      <th>Unnamed: 0</th>\n",
              "      <th>sha</th>\n",
              "      <th>node_id</th>\n",
              "      <th>url</th>\n",
              "      <th>html_url</th>\n",
              "      <th>comments_url</th>\n",
              "      <th>parents</th>\n",
              "      <th>commit.author.name</th>\n",
              "      <th>commit.author.email</th>\n",
              "      <th>commit.author.date</th>\n",
              "      <th>commit.committer.name</th>\n",
              "      <th>commit.committer.email</th>\n",
              "      <th>commit.committer.date</th>\n",
              "      <th>commit.message</th>\n",
              "      <th>commit.tree.sha</th>\n",
              "      <th>commit.tree.url</th>\n",
              "      <th>commit.url</th>\n",
              "      <th>commit.comment_count</th>\n",
              "      <th>commit.verification.verified</th>\n",
              "      <th>commit.verification.reason</th>\n",
              "      <th>commit.verification.signature</th>\n",
              "      <th>commit.verification.payload</th>\n",
              "      <th>author.login</th>\n",
              "      <th>author.id</th>\n",
              "      <th>author.node_id</th>\n",
              "      <th>author.avatar_url</th>\n",
              "      <th>author.gravatar_id</th>\n",
              "      <th>author.url</th>\n",
              "      <th>author.html_url</th>\n",
              "      <th>author.followers_url</th>\n",
              "      <th>author.following_url</th>\n",
              "      <th>author.gists_url</th>\n",
              "      <th>author.starred_url</th>\n",
              "      <th>author.subscriptions_url</th>\n",
              "      <th>author.organizations_url</th>\n",
              "      <th>author.repos_url</th>\n",
              "      <th>author.events_url</th>\n",
              "      <th>author.received_events_url</th>\n",
              "      <th>author.type</th>\n",
              "      <th>author.site_admin</th>\n",
              "      <th>committer.login</th>\n",
              "      <th>committer.id</th>\n",
              "      <th>committer.node_id</th>\n",
              "      <th>committer.avatar_url</th>\n",
              "      <th>committer.gravatar_id</th>\n",
              "      <th>committer.url</th>\n",
              "      <th>committer.html_url</th>\n",
              "      <th>committer.followers_url</th>\n",
              "      <th>committer.following_url</th>\n",
              "      <th>committer.gists_url</th>\n",
              "      <th>committer.starred_url</th>\n",
              "      <th>committer.subscriptions_url</th>\n",
              "      <th>committer.organizations_url</th>\n",
              "      <th>committer.repos_url</th>\n",
              "      <th>committer.events_url</th>\n",
              "      <th>committer.received_events_url</th>\n",
              "      <th>committer.type</th>\n",
              "      <th>committer.site_admin</th>\n",
              "      <th>author</th>\n",
              "      <th>committer</th>\n",
              "    </tr>\n",
              "  </thead>\n",
              "  <tbody>\n",
              "    <tr>\n",
              "      <th>0</th>\n",
              "      <td>0</td>\n",
              "      <td>3fbdb5dd75d74379b7fba47dd889a1eb70771d73</td>\n",
              "      <td>MDY6Q29tbWl0MTA1NzAyNjMxOjNmYmRiNWRkNzVkNzQzNz...</td>\n",
              "      <td>https://api.github.com/repos/IBM/plex/commits/...</td>\n",
              "      <td>https://github.com/IBM/plex/commit/3fbdb5dd75d...</td>\n",
              "      <td>https://api.github.com/repos/IBM/plex/commits/...</td>\n",
              "      <td>[{'sha': '968081d61b6abe18cd0dc14a42704afdf483...</td>\n",
              "      <td>Vince Picone</td>\n",
              "      <td>vpicone@gmail.com</td>\n",
              "      <td>2020-06-30T23:58:27Z</td>\n",
              "      <td>GitHub</td>\n",
              "      <td>noreply@github.com</td>\n",
              "      <td>2020-06-30T23:58:27Z</td>\n",
              "      <td>Merge pull request #323 from dtinth/patch-1\\n\\...</td>\n",
              "      <td>099315db66b26edb264f5b68047ac8ebff714a25</td>\n",
              "      <td>https://api.github.com/repos/IBM/plex/git/tree...</td>\n",
              "      <td>https://api.github.com/repos/IBM/plex/git/comm...</td>\n",
              "      <td>0</td>\n",
              "      <td>True</td>\n",
              "      <td>valid</td>\n",
              "      <td>-----BEGIN PGP SIGNATURE-----\\n\\nwsBcBAABCAAQB...</td>\n",
              "      <td>tree 099315db66b26edb264f5b68047ac8ebff714a25\\...</td>\n",
              "      <td>vpicone</td>\n",
              "      <td>4078018.0</td>\n",
              "      <td>MDQ6VXNlcjQwNzgwMTg=</td>\n",
              "      <td>https://avatars1.githubusercontent.com/u/40780...</td>\n",
              "      <td></td>\n",
              "      <td>https://api.github.com/users/vpicone</td>\n",
              "      <td>https://github.com/vpicone</td>\n",
              "      <td>https://api.github.com/users/vpicone/followers</td>\n",
              "      <td>https://api.github.com/users/vpicone/following...</td>\n",
              "      <td>https://api.github.com/users/vpicone/gists{/gi...</td>\n",
              "      <td>https://api.github.com/users/vpicone/starred{/...</td>\n",
              "      <td>https://api.github.com/users/vpicone/subscript...</td>\n",
              "      <td>https://api.github.com/users/vpicone/orgs</td>\n",
              "      <td>https://api.github.com/users/vpicone/repos</td>\n",
              "      <td>https://api.github.com/users/vpicone/events{/p...</td>\n",
              "      <td>https://api.github.com/users/vpicone/received_...</td>\n",
              "      <td>User</td>\n",
              "      <td>False</td>\n",
              "      <td>web-flow</td>\n",
              "      <td>19864447.0</td>\n",
              "      <td>MDQ6VXNlcjE5ODY0NDQ3</td>\n",
              "      <td>https://avatars3.githubusercontent.com/u/19864...</td>\n",
              "      <td></td>\n",
              "      <td>https://api.github.com/users/web-flow</td>\n",
              "      <td>https://github.com/web-flow</td>\n",
              "      <td>https://api.github.com/users/web-flow/followers</td>\n",
              "      <td>https://api.github.com/users/web-flow/followin...</td>\n",
              "      <td>https://api.github.com/users/web-flow/gists{/g...</td>\n",
              "      <td>https://api.github.com/users/web-flow/starred{...</td>\n",
              "      <td>https://api.github.com/users/web-flow/subscrip...</td>\n",
              "      <td>https://api.github.com/users/web-flow/orgs</td>\n",
              "      <td>https://api.github.com/users/web-flow/repos</td>\n",
              "      <td>https://api.github.com/users/web-flow/events{/...</td>\n",
              "      <td>https://api.github.com/users/web-flow/received...</td>\n",
              "      <td>User</td>\n",
              "      <td>False</td>\n",
              "      <td></td>\n",
              "      <td></td>\n",
              "    </tr>\n",
              "    <tr>\n",
              "      <th>1</th>\n",
              "      <td>1</td>\n",
              "      <td>f90d92225eda9e0056d13446cc979a83e11bd0a1</td>\n",
              "      <td>MDY6Q29tbWl0MTA1NzAyNjMxOmY5MGQ5MjIyNWVkYTllMD...</td>\n",
              "      <td>https://api.github.com/repos/IBM/plex/commits/...</td>\n",
              "      <td>https://github.com/IBM/plex/commit/f90d92225ed...</td>\n",
              "      <td>https://api.github.com/repos/IBM/plex/commits/...</td>\n",
              "      <td>[{'sha': '968081d61b6abe18cd0dc14a42704afdf483...</td>\n",
              "      <td>Thai Pangsakulyanont</td>\n",
              "      <td>dtinth@spacet.me</td>\n",
              "      <td>2020-06-21T12:56:02Z</td>\n",
              "      <td>GitHub</td>\n",
              "      <td>noreply@github.com</td>\n",
              "      <td>2020-06-21T12:56:02Z</td>\n",
              "      <td>Add \"main\" field to \"package.json\"\\n\\nThis all...</td>\n",
              "      <td>099315db66b26edb264f5b68047ac8ebff714a25</td>\n",
              "      <td>https://api.github.com/repos/IBM/plex/git/tree...</td>\n",
              "      <td>https://api.github.com/repos/IBM/plex/git/comm...</td>\n",
              "      <td>0</td>\n",
              "      <td>True</td>\n",
              "      <td>valid</td>\n",
              "      <td>-----BEGIN PGP SIGNATURE-----\\n\\nwsBcBAABCAAQB...</td>\n",
              "      <td>tree 099315db66b26edb264f5b68047ac8ebff714a25\\...</td>\n",
              "      <td>dtinth</td>\n",
              "      <td>193136.0</td>\n",
              "      <td>MDQ6VXNlcjE5MzEzNg==</td>\n",
              "      <td>https://avatars3.githubusercontent.com/u/19313...</td>\n",
              "      <td></td>\n",
              "      <td>https://api.github.com/users/dtinth</td>\n",
              "      <td>https://github.com/dtinth</td>\n",
              "      <td>https://api.github.com/users/dtinth/followers</td>\n",
              "      <td>https://api.github.com/users/dtinth/following{...</td>\n",
              "      <td>https://api.github.com/users/dtinth/gists{/gis...</td>\n",
              "      <td>https://api.github.com/users/dtinth/starred{/o...</td>\n",
              "      <td>https://api.github.com/users/dtinth/subscriptions</td>\n",
              "      <td>https://api.github.com/users/dtinth/orgs</td>\n",
              "      <td>https://api.github.com/users/dtinth/repos</td>\n",
              "      <td>https://api.github.com/users/dtinth/events{/pr...</td>\n",
              "      <td>https://api.github.com/users/dtinth/received_e...</td>\n",
              "      <td>User</td>\n",
              "      <td>False</td>\n",
              "      <td>web-flow</td>\n",
              "      <td>19864447.0</td>\n",
              "      <td>MDQ6VXNlcjE5ODY0NDQ3</td>\n",
              "      <td>https://avatars3.githubusercontent.com/u/19864...</td>\n",
              "      <td></td>\n",
              "      <td>https://api.github.com/users/web-flow</td>\n",
              "      <td>https://github.com/web-flow</td>\n",
              "      <td>https://api.github.com/users/web-flow/followers</td>\n",
              "      <td>https://api.github.com/users/web-flow/followin...</td>\n",
              "      <td>https://api.github.com/users/web-flow/gists{/g...</td>\n",
              "      <td>https://api.github.com/users/web-flow/starred{...</td>\n",
              "      <td>https://api.github.com/users/web-flow/subscrip...</td>\n",
              "      <td>https://api.github.com/users/web-flow/orgs</td>\n",
              "      <td>https://api.github.com/users/web-flow/repos</td>\n",
              "      <td>https://api.github.com/users/web-flow/events{/...</td>\n",
              "      <td>https://api.github.com/users/web-flow/received...</td>\n",
              "      <td>User</td>\n",
              "      <td>False</td>\n",
              "      <td></td>\n",
              "      <td></td>\n",
              "    </tr>\n",
              "    <tr>\n",
              "      <th>2</th>\n",
              "      <td>2</td>\n",
              "      <td>968081d61b6abe18cd0dc14a42704afdf4831708</td>\n",
              "      <td>MDY6Q29tbWl0MTA1NzAyNjMxOjk2ODA4MWQ2MWI2YWJlMT...</td>\n",
              "      <td>https://api.github.com/repos/IBM/plex/commits/...</td>\n",
              "      <td>https://github.com/IBM/plex/commit/968081d61b6...</td>\n",
              "      <td>https://api.github.com/repos/IBM/plex/commits/...</td>\n",
              "      <td>[{'sha': 'cd46d0c4d5074736950d32ae2f62d0ae17fa...</td>\n",
              "      <td>Vince Picone</td>\n",
              "      <td>Vincent.Patrick.Picone@ibm.com</td>\n",
              "      <td>2020-06-08T17:15:33Z</td>\n",
              "      <td>Vince Picone</td>\n",
              "      <td>Vincent.Patrick.Picone@ibm.com</td>\n",
              "      <td>2020-06-08T17:15:33Z</td>\n",
              "      <td>5.0.0</td>\n",
              "      <td>409a2d2e56c6b6be9108471790f1980b2d5addab</td>\n",
              "      <td>https://api.github.com/repos/IBM/plex/git/tree...</td>\n",
              "      <td>https://api.github.com/repos/IBM/plex/git/comm...</td>\n",
              "      <td>0</td>\n",
              "      <td>False</td>\n",
              "      <td>unsigned</td>\n",
              "      <td></td>\n",
              "      <td></td>\n",
              "      <td></td>\n",
              "      <td></td>\n",
              "      <td></td>\n",
              "      <td></td>\n",
              "      <td></td>\n",
              "      <td></td>\n",
              "      <td></td>\n",
              "      <td></td>\n",
              "      <td></td>\n",
              "      <td></td>\n",
              "      <td></td>\n",
              "      <td></td>\n",
              "      <td></td>\n",
              "      <td></td>\n",
              "      <td></td>\n",
              "      <td></td>\n",
              "      <td></td>\n",
              "      <td></td>\n",
              "      <td></td>\n",
              "      <td></td>\n",
              "      <td></td>\n",
              "      <td></td>\n",
              "      <td></td>\n",
              "      <td></td>\n",
              "      <td></td>\n",
              "      <td></td>\n",
              "      <td></td>\n",
              "      <td></td>\n",
              "      <td></td>\n",
              "      <td></td>\n",
              "      <td></td>\n",
              "      <td></td>\n",
              "      <td></td>\n",
              "      <td></td>\n",
              "      <td></td>\n",
              "      <td></td>\n",
              "      <td></td>\n",
              "      <td></td>\n",
              "    </tr>\n",
              "    <tr>\n",
              "      <th>3</th>\n",
              "      <td>3</td>\n",
              "      <td>cd46d0c4d5074736950d32ae2f62d0ae17fa01d4</td>\n",
              "      <td>MDY6Q29tbWl0MTA1NzAyNjMxOmNkNDZkMGM0ZDUwNzQ3Mz...</td>\n",
              "      <td>https://api.github.com/repos/IBM/plex/commits/...</td>\n",
              "      <td>https://github.com/IBM/plex/commit/cd46d0c4d50...</td>\n",
              "      <td>https://api.github.com/repos/IBM/plex/commits/...</td>\n",
              "      <td>[{'sha': '6a3c09178035d2cc0503acd35c64d6f6dafb...</td>\n",
              "      <td>Vince Picone</td>\n",
              "      <td>vpicone@gmail.com</td>\n",
              "      <td>2020-06-08T16:42:11Z</td>\n",
              "      <td>GitHub</td>\n",
              "      <td>noreply@github.com</td>\n",
              "      <td>2020-06-08T16:42:11Z</td>\n",
              "      <td>Merge pull request #315 from vpicone/cross-lan...</td>\n",
              "      <td>debd4c51481ea01f6738f79b07407d00752f8d13</td>\n",
              "      <td>https://api.github.com/repos/IBM/plex/git/tree...</td>\n",
              "      <td>https://api.github.com/repos/IBM/plex/git/comm...</td>\n",
              "      <td>0</td>\n",
              "      <td>True</td>\n",
              "      <td>valid</td>\n",
              "      <td>-----BEGIN PGP SIGNATURE-----\\n\\nwsBcBAABCAAQB...</td>\n",
              "      <td>tree debd4c51481ea01f6738f79b07407d00752f8d13\\...</td>\n",
              "      <td>vpicone</td>\n",
              "      <td>4078018.0</td>\n",
              "      <td>MDQ6VXNlcjQwNzgwMTg=</td>\n",
              "      <td>https://avatars1.githubusercontent.com/u/40780...</td>\n",
              "      <td></td>\n",
              "      <td>https://api.github.com/users/vpicone</td>\n",
              "      <td>https://github.com/vpicone</td>\n",
              "      <td>https://api.github.com/users/vpicone/followers</td>\n",
              "      <td>https://api.github.com/users/vpicone/following...</td>\n",
              "      <td>https://api.github.com/users/vpicone/gists{/gi...</td>\n",
              "      <td>https://api.github.com/users/vpicone/starred{/...</td>\n",
              "      <td>https://api.github.com/users/vpicone/subscript...</td>\n",
              "      <td>https://api.github.com/users/vpicone/orgs</td>\n",
              "      <td>https://api.github.com/users/vpicone/repos</td>\n",
              "      <td>https://api.github.com/users/vpicone/events{/p...</td>\n",
              "      <td>https://api.github.com/users/vpicone/received_...</td>\n",
              "      <td>User</td>\n",
              "      <td>False</td>\n",
              "      <td>web-flow</td>\n",
              "      <td>19864447.0</td>\n",
              "      <td>MDQ6VXNlcjE5ODY0NDQ3</td>\n",
              "      <td>https://avatars3.githubusercontent.com/u/19864...</td>\n",
              "      <td></td>\n",
              "      <td>https://api.github.com/users/web-flow</td>\n",
              "      <td>https://github.com/web-flow</td>\n",
              "      <td>https://api.github.com/users/web-flow/followers</td>\n",
              "      <td>https://api.github.com/users/web-flow/followin...</td>\n",
              "      <td>https://api.github.com/users/web-flow/gists{/g...</td>\n",
              "      <td>https://api.github.com/users/web-flow/starred{...</td>\n",
              "      <td>https://api.github.com/users/web-flow/subscrip...</td>\n",
              "      <td>https://api.github.com/users/web-flow/orgs</td>\n",
              "      <td>https://api.github.com/users/web-flow/repos</td>\n",
              "      <td>https://api.github.com/users/web-flow/events{/...</td>\n",
              "      <td>https://api.github.com/users/web-flow/received...</td>\n",
              "      <td>User</td>\n",
              "      <td>False</td>\n",
              "      <td></td>\n",
              "      <td></td>\n",
              "    </tr>\n",
              "    <tr>\n",
              "      <th>4</th>\n",
              "      <td>4</td>\n",
              "      <td>e131c864d7cf500828cd08be657de4829880f197</td>\n",
              "      <td>MDY6Q29tbWl0MTA1NzAyNjMxOmUxMzFjODY0ZDdjZjUwMD...</td>\n",
              "      <td>https://api.github.com/repos/IBM/plex/commits/...</td>\n",
              "      <td>https://github.com/IBM/plex/commit/e131c864d7c...</td>\n",
              "      <td>https://api.github.com/repos/IBM/plex/commits/...</td>\n",
              "      <td>[{'sha': '612b878e01e31ec221017d973eee1df53078...</td>\n",
              "      <td>Vince Picone</td>\n",
              "      <td>Vincent.Patrick.Picone@ibm.com</td>\n",
              "      <td>2020-06-06T20:27:05Z</td>\n",
              "      <td>Vince Picone</td>\n",
              "      <td>Vincent.Patrick.Picone@ibm.com</td>\n",
              "      <td>2020-06-06T20:27:05Z</td>\n",
              "      <td>fix: tweak zip script to handle korean and var...</td>\n",
              "      <td>debd4c51481ea01f6738f79b07407d00752f8d13</td>\n",
              "      <td>https://api.github.com/repos/IBM/plex/git/tree...</td>\n",
              "      <td>https://api.github.com/repos/IBM/plex/git/comm...</td>\n",
              "      <td>0</td>\n",
              "      <td>False</td>\n",
              "      <td>unsigned</td>\n",
              "      <td></td>\n",
              "      <td></td>\n",
              "      <td></td>\n",
              "      <td></td>\n",
              "      <td></td>\n",
              "      <td></td>\n",
              "      <td></td>\n",
              "      <td></td>\n",
              "      <td></td>\n",
              "      <td></td>\n",
              "      <td></td>\n",
              "      <td></td>\n",
              "      <td></td>\n",
              "      <td></td>\n",
              "      <td></td>\n",
              "      <td></td>\n",
              "      <td></td>\n",
              "      <td></td>\n",
              "      <td></td>\n",
              "      <td></td>\n",
              "      <td></td>\n",
              "      <td></td>\n",
              "      <td></td>\n",
              "      <td></td>\n",
              "      <td></td>\n",
              "      <td></td>\n",
              "      <td></td>\n",
              "      <td></td>\n",
              "      <td></td>\n",
              "      <td></td>\n",
              "      <td></td>\n",
              "      <td></td>\n",
              "      <td></td>\n",
              "      <td></td>\n",
              "      <td></td>\n",
              "      <td></td>\n",
              "      <td></td>\n",
              "      <td></td>\n",
              "      <td></td>\n",
              "      <td></td>\n",
              "    </tr>\n",
              "  </tbody>\n",
              "</table>\n",
              "</div>"
            ],
            "text/plain": [
              "   Unnamed: 0                                       sha  ... author committer\n",
              "0           0  3fbdb5dd75d74379b7fba47dd889a1eb70771d73  ...                 \n",
              "1           1  f90d92225eda9e0056d13446cc979a83e11bd0a1  ...                 \n",
              "2           2  968081d61b6abe18cd0dc14a42704afdf4831708  ...                 \n",
              "3           3  cd46d0c4d5074736950d32ae2f62d0ae17fa01d4  ...                 \n",
              "4           4  e131c864d7cf500828cd08be657de4829880f197  ...                 \n",
              "\n",
              "[5 rows x 60 columns]"
            ]
          },
          "metadata": {
            "tags": []
          },
          "execution_count": 8
        }
      ]
    },
    {
      "cell_type": "code",
      "metadata": {
        "id": "SBCmn2UjUPS-",
        "colab_type": "code",
        "colab": {
          "base_uri": "https://localhost:8080/",
          "height": 1000
        },
        "outputId": "417c0924-38cf-4710-d973-4e629e815c58"
      },
      "source": [
        "file_commits_csv.info()"
      ],
      "execution_count": 9,
      "outputs": [
        {
          "output_type": "stream",
          "text": [
            "<class 'pandas.core.frame.DataFrame'>\n",
            "RangeIndex: 30 entries, 0 to 29\n",
            "Data columns (total 60 columns):\n",
            " #   Column                         Non-Null Count  Dtype \n",
            "---  ------                         --------------  ----- \n",
            " 0   Unnamed: 0                     30 non-null     int64 \n",
            " 1   sha                            30 non-null     object\n",
            " 2   node_id                        30 non-null     object\n",
            " 3   url                            30 non-null     object\n",
            " 4   html_url                       30 non-null     object\n",
            " 5   comments_url                   30 non-null     object\n",
            " 6   parents                        30 non-null     object\n",
            " 7   commit.author.name             30 non-null     object\n",
            " 8   commit.author.email            30 non-null     object\n",
            " 9   commit.author.date             30 non-null     object\n",
            " 10  commit.committer.name          30 non-null     object\n",
            " 11  commit.committer.email         30 non-null     object\n",
            " 12  commit.committer.date          30 non-null     object\n",
            " 13  commit.message                 30 non-null     object\n",
            " 14  commit.tree.sha                30 non-null     object\n",
            " 15  commit.tree.url                30 non-null     object\n",
            " 16  commit.url                     30 non-null     object\n",
            " 17  commit.comment_count           30 non-null     int64 \n",
            " 18  commit.verification.verified   30 non-null     bool  \n",
            " 19  commit.verification.reason     30 non-null     object\n",
            " 20  commit.verification.signature  30 non-null     object\n",
            " 21  commit.verification.payload    30 non-null     object\n",
            " 22  author.login                   30 non-null     object\n",
            " 23  author.id                      30 non-null     object\n",
            " 24  author.node_id                 30 non-null     object\n",
            " 25  author.avatar_url              30 non-null     object\n",
            " 26  author.gravatar_id             30 non-null     object\n",
            " 27  author.url                     30 non-null     object\n",
            " 28  author.html_url                30 non-null     object\n",
            " 29  author.followers_url           30 non-null     object\n",
            " 30  author.following_url           30 non-null     object\n",
            " 31  author.gists_url               30 non-null     object\n",
            " 32  author.starred_url             30 non-null     object\n",
            " 33  author.subscriptions_url       30 non-null     object\n",
            " 34  author.organizations_url       30 non-null     object\n",
            " 35  author.repos_url               30 non-null     object\n",
            " 36  author.events_url              30 non-null     object\n",
            " 37  author.received_events_url     30 non-null     object\n",
            " 38  author.type                    30 non-null     object\n",
            " 39  author.site_admin              30 non-null     object\n",
            " 40  committer.login                30 non-null     object\n",
            " 41  committer.id                   30 non-null     object\n",
            " 42  committer.node_id              30 non-null     object\n",
            " 43  committer.avatar_url           30 non-null     object\n",
            " 44  committer.gravatar_id          30 non-null     object\n",
            " 45  committer.url                  30 non-null     object\n",
            " 46  committer.html_url             30 non-null     object\n",
            " 47  committer.followers_url        30 non-null     object\n",
            " 48  committer.following_url        30 non-null     object\n",
            " 49  committer.gists_url            30 non-null     object\n",
            " 50  committer.starred_url          30 non-null     object\n",
            " 51  committer.subscriptions_url    30 non-null     object\n",
            " 52  committer.organizations_url    30 non-null     object\n",
            " 53  committer.repos_url            30 non-null     object\n",
            " 54  committer.events_url           30 non-null     object\n",
            " 55  committer.received_events_url  30 non-null     object\n",
            " 56  committer.type                 30 non-null     object\n",
            " 57  committer.site_admin           30 non-null     object\n",
            " 58  author                         30 non-null     object\n",
            " 59  committer                      30 non-null     object\n",
            "dtypes: bool(1), int64(2), object(57)\n",
            "memory usage: 14.0+ KB\n"
          ],
          "name": "stdout"
        }
      ]
    },
    {
      "cell_type": "markdown",
      "metadata": {
        "id": "TDsWgWOSgeQb",
        "colab_type": "text"
      },
      "source": [
        "Converting a column with time-based data"
      ]
    },
    {
      "cell_type": "code",
      "metadata": {
        "id": "NGD35B92ewbx",
        "colab_type": "code",
        "colab": {}
      },
      "source": [
        "file_commits_csv['commit.author.date'] = pd.to_datetime(file_commits_csv['commit.author.date'], format='%Y-%m-%d')"
      ],
      "execution_count": 10,
      "outputs": []
    },
    {
      "cell_type": "markdown",
      "metadata": {
        "id": "a3Sl8xxKmtlW",
        "colab_type": "text"
      },
      "source": [
        "Converting commit.author.name column to string"
      ]
    },
    {
      "cell_type": "code",
      "metadata": {
        "id": "LSQSQP5Ymz4C",
        "colab_type": "code",
        "colab": {}
      },
      "source": [
        "#  file_commits_csv['commit.author.name'] = file_commits_csv['commit.author.name'].astype('str')\n",
        "# file_commits_csv['commit.author.name.str'] = file_commits_csv['commit.author.name'].str.split(',') "
      ],
      "execution_count": 26,
      "outputs": []
    },
    {
      "cell_type": "code",
      "metadata": {
        "id": "35BKjfdzTX2l",
        "colab_type": "code",
        "colab": {
          "base_uri": "https://localhost:8080/",
          "height": 187
        },
        "outputId": "7b160420-94b3-4a58-9042-3b69b647536f"
      },
      "source": [
        "df_commits_reduced = file_commits_csv[[\"commit.author.name\", \"commit.author.date\", \"commit.message\"]]\n",
        "df_commits_reduced.info()"
      ],
      "execution_count": 27,
      "outputs": [
        {
          "output_type": "stream",
          "text": [
            "<class 'pandas.core.frame.DataFrame'>\n",
            "RangeIndex: 30 entries, 0 to 29\n",
            "Data columns (total 3 columns):\n",
            " #   Column              Non-Null Count  Dtype              \n",
            "---  ------              --------------  -----              \n",
            " 0   commit.author.name  30 non-null     object             \n",
            " 1   commit.author.date  30 non-null     datetime64[ns, UTC]\n",
            " 2   commit.message      30 non-null     object             \n",
            "dtypes: datetime64[ns, UTC](1), object(2)\n",
            "memory usage: 848.0+ bytes\n"
          ],
          "name": "stdout"
        }
      ]
    },
    {
      "cell_type": "markdown",
      "metadata": {
        "id": "MIWXf5zyzVzi",
        "colab_type": "text"
      },
      "source": [
        "Renaming the columns.\\\n",
        "(Thank you, Marian!) "
      ]
    },
    {
      "cell_type": "code",
      "metadata": {
        "id": "rCbwxP-Ozi5U",
        "colab_type": "code",
        "colab": {}
      },
      "source": [
        "df_commits_reduced.columns = [\"commit-author-name\", \"commit-author-date\", \"commit-message\"]"
      ],
      "execution_count": 28,
      "outputs": []
    },
    {
      "cell_type": "markdown",
      "metadata": {
        "id": "05K0vSXLbfdc",
        "colab_type": "text"
      },
      "source": [
        "Adding a column with an int value in order to count the amount of items. Prabably a cheap trick\n"
      ]
    },
    {
      "cell_type": "code",
      "metadata": {
        "id": "rB3rzEd8butV",
        "colab_type": "code",
        "colab": {
          "base_uri": "https://localhost:8080/",
          "height": 139
        },
        "outputId": "ccac2ad4-4324-431a-ea85-563b5260ce69"
      },
      "source": [
        "df_commits_reduced['value'] = 1"
      ],
      "execution_count": 30,
      "outputs": [
        {
          "output_type": "stream",
          "text": [
            "/usr/local/lib/python3.6/dist-packages/ipykernel_launcher.py:1: SettingWithCopyWarning: \n",
            "A value is trying to be set on a copy of a slice from a DataFrame.\n",
            "Try using .loc[row_indexer,col_indexer] = value instead\n",
            "\n",
            "See the caveats in the documentation: https://pandas.pydata.org/pandas-docs/stable/user_guide/indexing.html#returning-a-view-versus-a-copy\n",
            "  \"\"\"Entry point for launching an IPython kernel.\n"
          ],
          "name": "stderr"
        }
      ]
    },
    {
      "cell_type": "code",
      "metadata": {
        "id": "aW8ZY7urc3lv",
        "colab_type": "code",
        "colab": {
          "base_uri": "https://localhost:8080/",
          "height": 204
        },
        "outputId": "19e52d14-959f-482c-9f2b-a58b07ced654"
      },
      "source": [
        "df_commits_reduced.info()"
      ],
      "execution_count": 31,
      "outputs": [
        {
          "output_type": "stream",
          "text": [
            "<class 'pandas.core.frame.DataFrame'>\n",
            "RangeIndex: 30 entries, 0 to 29\n",
            "Data columns (total 4 columns):\n",
            " #   Column              Non-Null Count  Dtype              \n",
            "---  ------              --------------  -----              \n",
            " 0   commit-author-name  30 non-null     object             \n",
            " 1   commit-author-date  30 non-null     datetime64[ns, UTC]\n",
            " 2   commit-message      30 non-null     object             \n",
            " 3   value               30 non-null     int64              \n",
            "dtypes: datetime64[ns, UTC](1), int64(1), object(2)\n",
            "memory usage: 1.1+ KB\n"
          ],
          "name": "stdout"
        }
      ]
    },
    {
      "cell_type": "code",
      "metadata": {
        "id": "gqVfGlzrgJn6",
        "colab_type": "code",
        "colab": {}
      },
      "source": [
        "# list(df_commits_reduced.values)"
      ],
      "execution_count": 33,
      "outputs": []
    },
    {
      "cell_type": "code",
      "metadata": {
        "id": "7gl-VfbJyNKi",
        "colab_type": "code",
        "colab": {
          "base_uri": "https://localhost:8080/",
          "height": 204
        },
        "outputId": "fc88cc37-e222-4376-a9f3-99fc47238600"
      },
      "source": [
        "df_repo_groupby_name = df_commits_reduced.groupby('commit-author-name').count()\n",
        "df_repo_groupby_name"
      ],
      "execution_count": 34,
      "outputs": [
        {
          "output_type": "execute_result",
          "data": {
            "text/html": [
              "<div>\n",
              "<style scoped>\n",
              "    .dataframe tbody tr th:only-of-type {\n",
              "        vertical-align: middle;\n",
              "    }\n",
              "\n",
              "    .dataframe tbody tr th {\n",
              "        vertical-align: top;\n",
              "    }\n",
              "\n",
              "    .dataframe thead th {\n",
              "        text-align: right;\n",
              "    }\n",
              "</style>\n",
              "<table border=\"1\" class=\"dataframe\">\n",
              "  <thead>\n",
              "    <tr style=\"text-align: right;\">\n",
              "      <th></th>\n",
              "      <th>commit-author-date</th>\n",
              "      <th>commit-message</th>\n",
              "      <th>value</th>\n",
              "    </tr>\n",
              "    <tr>\n",
              "      <th>commit-author-name</th>\n",
              "      <th></th>\n",
              "      <th></th>\n",
              "      <th></th>\n",
              "    </tr>\n",
              "  </thead>\n",
              "  <tbody>\n",
              "    <tr>\n",
              "      <th>LMapes</th>\n",
              "      <td>1</td>\n",
              "      <td>1</td>\n",
              "      <td>1</td>\n",
              "    </tr>\n",
              "    <tr>\n",
              "      <th>Mike Abbink</th>\n",
              "      <td>1</td>\n",
              "      <td>1</td>\n",
              "      <td>1</td>\n",
              "    </tr>\n",
              "    <tr>\n",
              "      <th>Thai Pangsakulyanont</th>\n",
              "      <td>1</td>\n",
              "      <td>1</td>\n",
              "      <td>1</td>\n",
              "    </tr>\n",
              "    <tr>\n",
              "      <th>Vince Picone</th>\n",
              "      <td>27</td>\n",
              "      <td>27</td>\n",
              "      <td>27</td>\n",
              "    </tr>\n",
              "  </tbody>\n",
              "</table>\n",
              "</div>"
            ],
            "text/plain": [
              "                      commit-author-date  commit-message  value\n",
              "commit-author-name                                             \n",
              "LMapes                                 1               1      1\n",
              "Mike Abbink                            1               1      1\n",
              "Thai Pangsakulyanont                   1               1      1\n",
              "Vince Picone                          27              27     27"
            ]
          },
          "metadata": {
            "tags": []
          },
          "execution_count": 34
        }
      ]
    },
    {
      "cell_type": "code",
      "metadata": {
        "id": "CI8bmm_F06ET",
        "colab_type": "code",
        "colab": {}
      },
      "source": [
        "# import numpy as np\n",
        "# import matplotlib.pyplot as plt\n",
        "\n",
        "# df_commits_reduced.plot.scatter(x='commit.author.date', y='value')"
      ],
      "execution_count": 17,
      "outputs": []
    },
    {
      "cell_type": "markdown",
      "metadata": {
        "id": "KNQg9L53z7vE",
        "colab_type": "text"
      },
      "source": [
        "## List of broken visualisations :(\n",
        "\n"
      ]
    },
    {
      "cell_type": "code",
      "metadata": {
        "id": "h6wOweGKr5YW",
        "colab_type": "code",
        "colab": {
          "base_uri": "https://localhost:8080/",
          "height": 458
        },
        "outputId": "aeb5b20a-e64b-4f7a-ba72-976189464356"
      },
      "source": [
        "alt.Chart(df_commits_reduced).mark_area(interpolate='monotone',\n",
        "    fillOpacity=0.8,\n",
        "    stroke='white',\n",
        "    strokeWidth=0.2).encode(\n",
        "    alt.X('monthdate(commit-author-date):T',\n",
        "        axis=alt.Axis(format='%M', domain=False, tickSize=0)\n",
        "    ),\n",
        "    alt.Y('sum(value):Q', stack='center', axis=None),\n",
        "    alt.Color('commit-author-name:N',\n",
        "        scale=alt.Scale(scheme='category20b')\n",
        "    )\n",
        "# ).transform_aggregate(\n",
        "#     # sum_val='sum(value)',\n",
        "#     # groupby=['commit.author.name']\n",
        ").properties(\n",
        "    width=800,\n",
        "    height=400\n",
        ").interactive()"
      ],
      "execution_count": 35,
      "outputs": [
        {
          "output_type": "execute_result",
          "data": {
            "text/plain": [
              "alt.Chart(...)"
            ],
            "text/html": [
              "\n",
              "<div id=\"altair-viz-7f716e31a8244cb292210c409b44088b\"></div>\n",
              "<script type=\"text/javascript\">\n",
              "  (function(spec, embedOpt){\n",
              "    let outputDiv = document.currentScript.previousElementSibling;\n",
              "    if (outputDiv.id !== \"altair-viz-7f716e31a8244cb292210c409b44088b\") {\n",
              "      outputDiv = document.getElementById(\"altair-viz-7f716e31a8244cb292210c409b44088b\");\n",
              "    }\n",
              "    const paths = {\n",
              "      \"vega\": \"https://cdn.jsdelivr.net/npm//vega@5?noext\",\n",
              "      \"vega-lib\": \"https://cdn.jsdelivr.net/npm//vega-lib?noext\",\n",
              "      \"vega-lite\": \"https://cdn.jsdelivr.net/npm//vega-lite@4.8.1?noext\",\n",
              "      \"vega-embed\": \"https://cdn.jsdelivr.net/npm//vega-embed@6?noext\",\n",
              "    };\n",
              "\n",
              "    function loadScript(lib) {\n",
              "      return new Promise(function(resolve, reject) {\n",
              "        var s = document.createElement('script');\n",
              "        s.src = paths[lib];\n",
              "        s.async = true;\n",
              "        s.onload = () => resolve(paths[lib]);\n",
              "        s.onerror = () => reject(`Error loading script: ${paths[lib]}`);\n",
              "        document.getElementsByTagName(\"head\")[0].appendChild(s);\n",
              "      });\n",
              "    }\n",
              "\n",
              "    function showError(err) {\n",
              "      outputDiv.innerHTML = `<div class=\"error\" style=\"color:red;\">${err}</div>`;\n",
              "      throw err;\n",
              "    }\n",
              "\n",
              "    function displayChart(vegaEmbed) {\n",
              "      vegaEmbed(outputDiv, spec, embedOpt)\n",
              "        .catch(err => showError(`Javascript Error: ${err.message}<br>This usually means there's a typo in your chart specification. See the javascript console for the full traceback.`));\n",
              "    }\n",
              "\n",
              "    if(typeof define === \"function\" && define.amd) {\n",
              "      requirejs.config({paths});\n",
              "      require([\"vega-embed\"], displayChart, err => showError(`Error loading script: ${err.message}`));\n",
              "    } else if (typeof vegaEmbed === \"function\") {\n",
              "      displayChart(vegaEmbed);\n",
              "    } else {\n",
              "      loadScript(\"vega\")\n",
              "        .then(() => loadScript(\"vega-lite\"))\n",
              "        .then(() => loadScript(\"vega-embed\"))\n",
              "        .catch(showError)\n",
              "        .then(() => displayChart(vegaEmbed));\n",
              "    }\n",
              "  })({\"config\": {\"view\": {\"continuousWidth\": 400, \"continuousHeight\": 300}}, \"data\": {\"name\": \"data-7fec6b88a1a1503acbd5d0bc20edcbd5\"}, \"mark\": {\"type\": \"area\", \"fillOpacity\": 0.8, \"interpolate\": \"monotone\", \"stroke\": \"white\", \"strokeWidth\": 0.2}, \"encoding\": {\"color\": {\"type\": \"nominal\", \"field\": \"commit-author-name\", \"scale\": {\"scheme\": \"category20b\"}}, \"x\": {\"type\": \"temporal\", \"axis\": {\"domain\": false, \"format\": \"%M\", \"tickSize\": 0}, \"field\": \"commit-author-date\", \"timeUnit\": \"monthdate\"}, \"y\": {\"type\": \"quantitative\", \"aggregate\": \"sum\", \"axis\": null, \"field\": \"value\", \"stack\": \"center\"}}, \"height\": 400, \"selection\": {\"selector003\": {\"type\": \"interval\", \"bind\": \"scales\", \"encodings\": [\"x\", \"y\"]}}, \"width\": 800, \"$schema\": \"https://vega.github.io/schema/vega-lite/v4.8.1.json\", \"datasets\": {\"data-7fec6b88a1a1503acbd5d0bc20edcbd5\": [{\"commit-author-name\": \"Vince Picone\", \"commit-author-date\": \"2020-06-30T23:58:27+00:00\", \"commit-message\": \"Merge pull request #323 from dtinth/patch-1\\n\\nAdd \\\"main\\\" field to \\\"package.json\\\"\", \"value\": 1}, {\"commit-author-name\": \"Thai Pangsakulyanont\", \"commit-author-date\": \"2020-06-21T12:56:02+00:00\", \"commit-message\": \"Add \\\"main\\\" field to \\\"package.json\\\"\\n\\nThis allows the package\\u2019s CSS to be consumed directly, following how the typefaces project does it: https://github.com/KyleAMathews/typefaces\", \"value\": 1}, {\"commit-author-name\": \"Vince Picone\", \"commit-author-date\": \"2020-06-08T17:15:33+00:00\", \"commit-message\": \"5.0.0\", \"value\": 1}, {\"commit-author-name\": \"Vince Picone\", \"commit-author-date\": \"2020-06-08T16:42:11+00:00\", \"commit-message\": \"Merge pull request #315 from vpicone/cross-language-update\", \"value\": 1}, {\"commit-author-name\": \"Vince Picone\", \"commit-author-date\": \"2020-06-06T20:27:05+00:00\", \"commit-message\": \"fix: tweak zip script to handle korean and variable\", \"value\": 1}, {\"commit-author-name\": \"Vince Picone\", \"commit-author-date\": \"2020-06-01T21:31:54+00:00\", \"commit-message\": \"fix: temporarily exclude korean from zip\", \"value\": 1}, {\"commit-author-name\": \"Vince Picone\", \"commit-author-date\": \"2020-06-01T21:23:50+00:00\", \"commit-message\": \"feat: add korean\", \"value\": 1}, {\"commit-author-name\": \"Vince Picone\", \"commit-author-date\": \"2020-05-29T21:11:44+00:00\", \"commit-message\": \"fix: change internal family name for condensed, add glyphs\", \"value\": 1}, {\"commit-author-name\": \"Vince Picone\", \"commit-author-date\": \"2020-05-29T21:05:56+00:00\", \"commit-message\": \"fix(Serif): vertical metrics and glyph additions\", \"value\": 1}, {\"commit-author-name\": \"Vince Picone\", \"commit-author-date\": \"2020-05-29T21:03:33+00:00\", \"commit-message\": \"fix(Sans): new glyphs, fixed vertical metrics\", \"value\": 1}, {\"commit-author-name\": \"Vince Picone\", \"commit-author-date\": \"2020-05-29T20:56:13+00:00\", \"commit-message\": \"feat: mono update\", \"value\": 1}, {\"commit-author-name\": \"LMapes\", \"commit-author-date\": \"2020-05-12T17:20:44+00:00\", \"commit-message\": \"Update README.md (#310)\\n\\n* Update README.md\\n\\nThis change includes new non-Latin fonts and updates content based on the IBM Style guide.\\n\\n* Update README.md\\n\\nHi Vince, this is ready to merge now.\\n\\n* Update README.md\\n\\nChange to one sentence per Mike Abbink.\", \"value\": 1}, {\"commit-author-name\": \"Vince Picone\", \"commit-author-date\": \"2019-12-09T21:49:34+00:00\", \"commit-message\": \"4.0.2\", \"value\": 1}, {\"commit-author-name\": \"Vince Picone\", \"commit-author-date\": \"2019-12-09T21:48:01+00:00\", \"commit-message\": \"fix: update using new hebrew fixes (#289)\\n\\nfix: update using new hebrew fixes\", \"value\": 1}, {\"commit-author-name\": \"Vince Picone\", \"commit-author-date\": \"2019-12-09T21:43:01+00:00\", \"commit-message\": \"fix: update using new hebrew fixes\", \"value\": 1}, {\"commit-author-name\": \"Vince Picone\", \"commit-author-date\": \"2019-11-25T15:42:50+00:00\", \"commit-message\": \"Update README.md\", \"value\": 1}, {\"commit-author-name\": \"Mike Abbink\", \"commit-author-date\": \"2019-11-23T11:32:27+00:00\", \"commit-message\": \"Update README.md\", \"value\": 1}, {\"commit-author-name\": \"Vince Picone\", \"commit-author-date\": \"2019-11-18T16:30:10+00:00\", \"commit-message\": \"Update CHANGELOG.md\", \"value\": 1}, {\"commit-author-name\": \"Vince Picone\", \"commit-author-date\": \"2019-11-18T16:29:14+00:00\", \"commit-message\": \"Update CHANGELOG.md\", \"value\": 1}, {\"commit-author-name\": \"Vince Picone\", \"commit-author-date\": \"2019-11-18T16:15:37+00:00\", \"commit-message\": \"4.0.1\", \"value\": 1}, {\"commit-author-name\": \"Vince Picone\", \"commit-author-date\": \"2019-11-18T16:03:37+00:00\", \"commit-message\": \"4.0.0\", \"value\": 1}, {\"commit-author-name\": \"Vince Picone\", \"commit-author-date\": \"2019-11-18T15:58:02+00:00\", \"commit-message\": \"breaking: update  arabic family name to include sans (#286)\\n\\nbreaking: update  arabic family name to include sans\", \"value\": 1}, {\"commit-author-name\": \"Vince Picone\", \"commit-author-date\": \"2019-11-18T15:57:32+00:00\", \"commit-message\": \"Update README.md (#222)\\n\\nUpdate README.md\", \"value\": 1}, {\"commit-author-name\": \"Vince Picone\", \"commit-author-date\": \"2019-11-18T15:52:50+00:00\", \"commit-message\": \"breaking: update  arabic family name to include sans\", \"value\": 1}, {\"commit-author-name\": \"Vince Picone\", \"commit-author-date\": \"2019-10-05T03:30:32+00:00\", \"commit-message\": \"3.0.0\", \"value\": 1}, {\"commit-author-name\": \"Vince Picone\", \"commit-author-date\": \"2019-10-05T03:24:56+00:00\", \"commit-message\": \"Devanagari thai update (#277)\\n\\nDevanagari thai update\", \"value\": 1}, {\"commit-author-name\": \"Vince Picone\", \"commit-author-date\": \"2019-10-04T13:25:43+00:00\", \"commit-message\": \"fix: thai file names\", \"value\": 1}, {\"commit-author-name\": \"Vince Picone\", \"commit-author-date\": \"2019-10-03T19:20:14+00:00\", \"commit-message\": \"chore: add changelog\", \"value\": 1}, {\"commit-author-name\": \"Vince Picone\", \"commit-author-date\": \"2019-10-03T19:11:21+00:00\", \"commit-message\": \"fix: add Sans to extralight and semibold weights for thai\", \"value\": 1}, {\"commit-author-name\": \"Vince Picone\", \"commit-author-date\": \"2019-10-03T18:45:57+00:00\", \"commit-message\": \"breaking: update thai and devanagari typeface names and font files\", \"value\": 1}]}}, {\"mode\": \"vega-lite\"});\n",
              "</script>"
            ]
          },
          "metadata": {
            "tags": []
          },
          "execution_count": 35
        }
      ]
    },
    {
      "cell_type": "code",
      "metadata": {
        "id": "Ss2_dGv3qmyY",
        "colab_type": "code",
        "colab": {
          "base_uri": "https://localhost:8080/",
          "height": 363
        },
        "outputId": "efe1cc76-9619-40de-f91a-ed1275828576"
      },
      "source": [
        "alt.Chart(df_commits_reduced).mark_circle(size=50).encode(\n",
        "    alt.Y('hoursminutes(commit-author-date):T', title='hour of day'),\n",
        "    alt.X('monthdate(commit-author-date):T', title='date'),\n",
        "    alt.Color('commit-author-name:N')\n",
        ").interactive()"
      ],
      "execution_count": 37,
      "outputs": [
        {
          "output_type": "execute_result",
          "data": {
            "text/plain": [
              "alt.Chart(...)"
            ],
            "text/html": [
              "\n",
              "<div id=\"altair-viz-2bc8e63bd4804e838f5fdd409b06ae90\"></div>\n",
              "<script type=\"text/javascript\">\n",
              "  (function(spec, embedOpt){\n",
              "    let outputDiv = document.currentScript.previousElementSibling;\n",
              "    if (outputDiv.id !== \"altair-viz-2bc8e63bd4804e838f5fdd409b06ae90\") {\n",
              "      outputDiv = document.getElementById(\"altair-viz-2bc8e63bd4804e838f5fdd409b06ae90\");\n",
              "    }\n",
              "    const paths = {\n",
              "      \"vega\": \"https://cdn.jsdelivr.net/npm//vega@5?noext\",\n",
              "      \"vega-lib\": \"https://cdn.jsdelivr.net/npm//vega-lib?noext\",\n",
              "      \"vega-lite\": \"https://cdn.jsdelivr.net/npm//vega-lite@4.8.1?noext\",\n",
              "      \"vega-embed\": \"https://cdn.jsdelivr.net/npm//vega-embed@6?noext\",\n",
              "    };\n",
              "\n",
              "    function loadScript(lib) {\n",
              "      return new Promise(function(resolve, reject) {\n",
              "        var s = document.createElement('script');\n",
              "        s.src = paths[lib];\n",
              "        s.async = true;\n",
              "        s.onload = () => resolve(paths[lib]);\n",
              "        s.onerror = () => reject(`Error loading script: ${paths[lib]}`);\n",
              "        document.getElementsByTagName(\"head\")[0].appendChild(s);\n",
              "      });\n",
              "    }\n",
              "\n",
              "    function showError(err) {\n",
              "      outputDiv.innerHTML = `<div class=\"error\" style=\"color:red;\">${err}</div>`;\n",
              "      throw err;\n",
              "    }\n",
              "\n",
              "    function displayChart(vegaEmbed) {\n",
              "      vegaEmbed(outputDiv, spec, embedOpt)\n",
              "        .catch(err => showError(`Javascript Error: ${err.message}<br>This usually means there's a typo in your chart specification. See the javascript console for the full traceback.`));\n",
              "    }\n",
              "\n",
              "    if(typeof define === \"function\" && define.amd) {\n",
              "      requirejs.config({paths});\n",
              "      require([\"vega-embed\"], displayChart, err => showError(`Error loading script: ${err.message}`));\n",
              "    } else if (typeof vegaEmbed === \"function\") {\n",
              "      displayChart(vegaEmbed);\n",
              "    } else {\n",
              "      loadScript(\"vega\")\n",
              "        .then(() => loadScript(\"vega-lite\"))\n",
              "        .then(() => loadScript(\"vega-embed\"))\n",
              "        .catch(showError)\n",
              "        .then(() => displayChart(vegaEmbed));\n",
              "    }\n",
              "  })({\"config\": {\"view\": {\"continuousWidth\": 400, \"continuousHeight\": 300}}, \"data\": {\"name\": \"data-7fec6b88a1a1503acbd5d0bc20edcbd5\"}, \"mark\": {\"type\": \"circle\", \"size\": 50}, \"encoding\": {\"color\": {\"type\": \"nominal\", \"field\": \"commit-author-name\"}, \"x\": {\"type\": \"temporal\", \"field\": \"commit-author-date\", \"timeUnit\": \"monthdate\", \"title\": \"date\"}, \"y\": {\"type\": \"temporal\", \"field\": \"commit-author-date\", \"timeUnit\": \"hoursminutes\", \"title\": \"hour of day\"}}, \"selection\": {\"selector005\": {\"type\": \"interval\", \"bind\": \"scales\", \"encodings\": [\"x\", \"y\"]}}, \"$schema\": \"https://vega.github.io/schema/vega-lite/v4.8.1.json\", \"datasets\": {\"data-7fec6b88a1a1503acbd5d0bc20edcbd5\": [{\"commit-author-name\": \"Vince Picone\", \"commit-author-date\": \"2020-06-30T23:58:27+00:00\", \"commit-message\": \"Merge pull request #323 from dtinth/patch-1\\n\\nAdd \\\"main\\\" field to \\\"package.json\\\"\", \"value\": 1}, {\"commit-author-name\": \"Thai Pangsakulyanont\", \"commit-author-date\": \"2020-06-21T12:56:02+00:00\", \"commit-message\": \"Add \\\"main\\\" field to \\\"package.json\\\"\\n\\nThis allows the package\\u2019s CSS to be consumed directly, following how the typefaces project does it: https://github.com/KyleAMathews/typefaces\", \"value\": 1}, {\"commit-author-name\": \"Vince Picone\", \"commit-author-date\": \"2020-06-08T17:15:33+00:00\", \"commit-message\": \"5.0.0\", \"value\": 1}, {\"commit-author-name\": \"Vince Picone\", \"commit-author-date\": \"2020-06-08T16:42:11+00:00\", \"commit-message\": \"Merge pull request #315 from vpicone/cross-language-update\", \"value\": 1}, {\"commit-author-name\": \"Vince Picone\", \"commit-author-date\": \"2020-06-06T20:27:05+00:00\", \"commit-message\": \"fix: tweak zip script to handle korean and variable\", \"value\": 1}, {\"commit-author-name\": \"Vince Picone\", \"commit-author-date\": \"2020-06-01T21:31:54+00:00\", \"commit-message\": \"fix: temporarily exclude korean from zip\", \"value\": 1}, {\"commit-author-name\": \"Vince Picone\", \"commit-author-date\": \"2020-06-01T21:23:50+00:00\", \"commit-message\": \"feat: add korean\", \"value\": 1}, {\"commit-author-name\": \"Vince Picone\", \"commit-author-date\": \"2020-05-29T21:11:44+00:00\", \"commit-message\": \"fix: change internal family name for condensed, add glyphs\", \"value\": 1}, {\"commit-author-name\": \"Vince Picone\", \"commit-author-date\": \"2020-05-29T21:05:56+00:00\", \"commit-message\": \"fix(Serif): vertical metrics and glyph additions\", \"value\": 1}, {\"commit-author-name\": \"Vince Picone\", \"commit-author-date\": \"2020-05-29T21:03:33+00:00\", \"commit-message\": \"fix(Sans): new glyphs, fixed vertical metrics\", \"value\": 1}, {\"commit-author-name\": \"Vince Picone\", \"commit-author-date\": \"2020-05-29T20:56:13+00:00\", \"commit-message\": \"feat: mono update\", \"value\": 1}, {\"commit-author-name\": \"LMapes\", \"commit-author-date\": \"2020-05-12T17:20:44+00:00\", \"commit-message\": \"Update README.md (#310)\\n\\n* Update README.md\\n\\nThis change includes new non-Latin fonts and updates content based on the IBM Style guide.\\n\\n* Update README.md\\n\\nHi Vince, this is ready to merge now.\\n\\n* Update README.md\\n\\nChange to one sentence per Mike Abbink.\", \"value\": 1}, {\"commit-author-name\": \"Vince Picone\", \"commit-author-date\": \"2019-12-09T21:49:34+00:00\", \"commit-message\": \"4.0.2\", \"value\": 1}, {\"commit-author-name\": \"Vince Picone\", \"commit-author-date\": \"2019-12-09T21:48:01+00:00\", \"commit-message\": \"fix: update using new hebrew fixes (#289)\\n\\nfix: update using new hebrew fixes\", \"value\": 1}, {\"commit-author-name\": \"Vince Picone\", \"commit-author-date\": \"2019-12-09T21:43:01+00:00\", \"commit-message\": \"fix: update using new hebrew fixes\", \"value\": 1}, {\"commit-author-name\": \"Vince Picone\", \"commit-author-date\": \"2019-11-25T15:42:50+00:00\", \"commit-message\": \"Update README.md\", \"value\": 1}, {\"commit-author-name\": \"Mike Abbink\", \"commit-author-date\": \"2019-11-23T11:32:27+00:00\", \"commit-message\": \"Update README.md\", \"value\": 1}, {\"commit-author-name\": \"Vince Picone\", \"commit-author-date\": \"2019-11-18T16:30:10+00:00\", \"commit-message\": \"Update CHANGELOG.md\", \"value\": 1}, {\"commit-author-name\": \"Vince Picone\", \"commit-author-date\": \"2019-11-18T16:29:14+00:00\", \"commit-message\": \"Update CHANGELOG.md\", \"value\": 1}, {\"commit-author-name\": \"Vince Picone\", \"commit-author-date\": \"2019-11-18T16:15:37+00:00\", \"commit-message\": \"4.0.1\", \"value\": 1}, {\"commit-author-name\": \"Vince Picone\", \"commit-author-date\": \"2019-11-18T16:03:37+00:00\", \"commit-message\": \"4.0.0\", \"value\": 1}, {\"commit-author-name\": \"Vince Picone\", \"commit-author-date\": \"2019-11-18T15:58:02+00:00\", \"commit-message\": \"breaking: update  arabic family name to include sans (#286)\\n\\nbreaking: update  arabic family name to include sans\", \"value\": 1}, {\"commit-author-name\": \"Vince Picone\", \"commit-author-date\": \"2019-11-18T15:57:32+00:00\", \"commit-message\": \"Update README.md (#222)\\n\\nUpdate README.md\", \"value\": 1}, {\"commit-author-name\": \"Vince Picone\", \"commit-author-date\": \"2019-11-18T15:52:50+00:00\", \"commit-message\": \"breaking: update  arabic family name to include sans\", \"value\": 1}, {\"commit-author-name\": \"Vince Picone\", \"commit-author-date\": \"2019-10-05T03:30:32+00:00\", \"commit-message\": \"3.0.0\", \"value\": 1}, {\"commit-author-name\": \"Vince Picone\", \"commit-author-date\": \"2019-10-05T03:24:56+00:00\", \"commit-message\": \"Devanagari thai update (#277)\\n\\nDevanagari thai update\", \"value\": 1}, {\"commit-author-name\": \"Vince Picone\", \"commit-author-date\": \"2019-10-04T13:25:43+00:00\", \"commit-message\": \"fix: thai file names\", \"value\": 1}, {\"commit-author-name\": \"Vince Picone\", \"commit-author-date\": \"2019-10-03T19:20:14+00:00\", \"commit-message\": \"chore: add changelog\", \"value\": 1}, {\"commit-author-name\": \"Vince Picone\", \"commit-author-date\": \"2019-10-03T19:11:21+00:00\", \"commit-message\": \"fix: add Sans to extralight and semibold weights for thai\", \"value\": 1}, {\"commit-author-name\": \"Vince Picone\", \"commit-author-date\": \"2019-10-03T18:45:57+00:00\", \"commit-message\": \"breaking: update thai and devanagari typeface names and font files\", \"value\": 1}]}}, {\"mode\": \"vega-lite\"});\n",
              "</script>"
            ]
          },
          "metadata": {
            "tags": []
          },
          "execution_count": 37
        }
      ]
    },
    {
      "cell_type": "code",
      "metadata": {
        "id": "DS9CsldJHm3T",
        "colab_type": "code",
        "colab": {
          "base_uri": "https://localhost:8080/",
          "height": 452
        },
        "outputId": "beac3e62-215d-4f1a-b7d8-723317bd37a1"
      },
      "source": [
        "alt.Chart(df_commits_reduced).mark_bar().encode(\n",
        "    x='commit-author-name:O',\n",
        "    y='count_val:Q'\n",
        ").transform_aggregate(\n",
        "    count_val='count(value)',\n",
        "    groupby=['commit-author-name']\n",
        ")"
      ],
      "execution_count": 38,
      "outputs": [
        {
          "output_type": "execute_result",
          "data": {
            "text/plain": [
              "alt.Chart(...)"
            ],
            "text/html": [
              "\n",
              "<div id=\"altair-viz-7abda947f4e54b7bb5ba86ad954ccbab\"></div>\n",
              "<script type=\"text/javascript\">\n",
              "  (function(spec, embedOpt){\n",
              "    let outputDiv = document.currentScript.previousElementSibling;\n",
              "    if (outputDiv.id !== \"altair-viz-7abda947f4e54b7bb5ba86ad954ccbab\") {\n",
              "      outputDiv = document.getElementById(\"altair-viz-7abda947f4e54b7bb5ba86ad954ccbab\");\n",
              "    }\n",
              "    const paths = {\n",
              "      \"vega\": \"https://cdn.jsdelivr.net/npm//vega@5?noext\",\n",
              "      \"vega-lib\": \"https://cdn.jsdelivr.net/npm//vega-lib?noext\",\n",
              "      \"vega-lite\": \"https://cdn.jsdelivr.net/npm//vega-lite@4.8.1?noext\",\n",
              "      \"vega-embed\": \"https://cdn.jsdelivr.net/npm//vega-embed@6?noext\",\n",
              "    };\n",
              "\n",
              "    function loadScript(lib) {\n",
              "      return new Promise(function(resolve, reject) {\n",
              "        var s = document.createElement('script');\n",
              "        s.src = paths[lib];\n",
              "        s.async = true;\n",
              "        s.onload = () => resolve(paths[lib]);\n",
              "        s.onerror = () => reject(`Error loading script: ${paths[lib]}`);\n",
              "        document.getElementsByTagName(\"head\")[0].appendChild(s);\n",
              "      });\n",
              "    }\n",
              "\n",
              "    function showError(err) {\n",
              "      outputDiv.innerHTML = `<div class=\"error\" style=\"color:red;\">${err}</div>`;\n",
              "      throw err;\n",
              "    }\n",
              "\n",
              "    function displayChart(vegaEmbed) {\n",
              "      vegaEmbed(outputDiv, spec, embedOpt)\n",
              "        .catch(err => showError(`Javascript Error: ${err.message}<br>This usually means there's a typo in your chart specification. See the javascript console for the full traceback.`));\n",
              "    }\n",
              "\n",
              "    if(typeof define === \"function\" && define.amd) {\n",
              "      requirejs.config({paths});\n",
              "      require([\"vega-embed\"], displayChart, err => showError(`Error loading script: ${err.message}`));\n",
              "    } else if (typeof vegaEmbed === \"function\") {\n",
              "      displayChart(vegaEmbed);\n",
              "    } else {\n",
              "      loadScript(\"vega\")\n",
              "        .then(() => loadScript(\"vega-lite\"))\n",
              "        .then(() => loadScript(\"vega-embed\"))\n",
              "        .catch(showError)\n",
              "        .then(() => displayChart(vegaEmbed));\n",
              "    }\n",
              "  })({\"config\": {\"view\": {\"continuousWidth\": 400, \"continuousHeight\": 300}}, \"data\": {\"name\": \"data-7fec6b88a1a1503acbd5d0bc20edcbd5\"}, \"mark\": \"bar\", \"encoding\": {\"x\": {\"type\": \"ordinal\", \"field\": \"commit-author-name\"}, \"y\": {\"type\": \"quantitative\", \"field\": \"count_val\"}}, \"transform\": [{\"aggregate\": [{\"op\": \"count\", \"field\": \"value\", \"as\": \"count_val\"}], \"groupby\": [\"commit-author-name\"]}], \"$schema\": \"https://vega.github.io/schema/vega-lite/v4.8.1.json\", \"datasets\": {\"data-7fec6b88a1a1503acbd5d0bc20edcbd5\": [{\"commit-author-name\": \"Vince Picone\", \"commit-author-date\": \"2020-06-30T23:58:27+00:00\", \"commit-message\": \"Merge pull request #323 from dtinth/patch-1\\n\\nAdd \\\"main\\\" field to \\\"package.json\\\"\", \"value\": 1}, {\"commit-author-name\": \"Thai Pangsakulyanont\", \"commit-author-date\": \"2020-06-21T12:56:02+00:00\", \"commit-message\": \"Add \\\"main\\\" field to \\\"package.json\\\"\\n\\nThis allows the package\\u2019s CSS to be consumed directly, following how the typefaces project does it: https://github.com/KyleAMathews/typefaces\", \"value\": 1}, {\"commit-author-name\": \"Vince Picone\", \"commit-author-date\": \"2020-06-08T17:15:33+00:00\", \"commit-message\": \"5.0.0\", \"value\": 1}, {\"commit-author-name\": \"Vince Picone\", \"commit-author-date\": \"2020-06-08T16:42:11+00:00\", \"commit-message\": \"Merge pull request #315 from vpicone/cross-language-update\", \"value\": 1}, {\"commit-author-name\": \"Vince Picone\", \"commit-author-date\": \"2020-06-06T20:27:05+00:00\", \"commit-message\": \"fix: tweak zip script to handle korean and variable\", \"value\": 1}, {\"commit-author-name\": \"Vince Picone\", \"commit-author-date\": \"2020-06-01T21:31:54+00:00\", \"commit-message\": \"fix: temporarily exclude korean from zip\", \"value\": 1}, {\"commit-author-name\": \"Vince Picone\", \"commit-author-date\": \"2020-06-01T21:23:50+00:00\", \"commit-message\": \"feat: add korean\", \"value\": 1}, {\"commit-author-name\": \"Vince Picone\", \"commit-author-date\": \"2020-05-29T21:11:44+00:00\", \"commit-message\": \"fix: change internal family name for condensed, add glyphs\", \"value\": 1}, {\"commit-author-name\": \"Vince Picone\", \"commit-author-date\": \"2020-05-29T21:05:56+00:00\", \"commit-message\": \"fix(Serif): vertical metrics and glyph additions\", \"value\": 1}, {\"commit-author-name\": \"Vince Picone\", \"commit-author-date\": \"2020-05-29T21:03:33+00:00\", \"commit-message\": \"fix(Sans): new glyphs, fixed vertical metrics\", \"value\": 1}, {\"commit-author-name\": \"Vince Picone\", \"commit-author-date\": \"2020-05-29T20:56:13+00:00\", \"commit-message\": \"feat: mono update\", \"value\": 1}, {\"commit-author-name\": \"LMapes\", \"commit-author-date\": \"2020-05-12T17:20:44+00:00\", \"commit-message\": \"Update README.md (#310)\\n\\n* Update README.md\\n\\nThis change includes new non-Latin fonts and updates content based on the IBM Style guide.\\n\\n* Update README.md\\n\\nHi Vince, this is ready to merge now.\\n\\n* Update README.md\\n\\nChange to one sentence per Mike Abbink.\", \"value\": 1}, {\"commit-author-name\": \"Vince Picone\", \"commit-author-date\": \"2019-12-09T21:49:34+00:00\", \"commit-message\": \"4.0.2\", \"value\": 1}, {\"commit-author-name\": \"Vince Picone\", \"commit-author-date\": \"2019-12-09T21:48:01+00:00\", \"commit-message\": \"fix: update using new hebrew fixes (#289)\\n\\nfix: update using new hebrew fixes\", \"value\": 1}, {\"commit-author-name\": \"Vince Picone\", \"commit-author-date\": \"2019-12-09T21:43:01+00:00\", \"commit-message\": \"fix: update using new hebrew fixes\", \"value\": 1}, {\"commit-author-name\": \"Vince Picone\", \"commit-author-date\": \"2019-11-25T15:42:50+00:00\", \"commit-message\": \"Update README.md\", \"value\": 1}, {\"commit-author-name\": \"Mike Abbink\", \"commit-author-date\": \"2019-11-23T11:32:27+00:00\", \"commit-message\": \"Update README.md\", \"value\": 1}, {\"commit-author-name\": \"Vince Picone\", \"commit-author-date\": \"2019-11-18T16:30:10+00:00\", \"commit-message\": \"Update CHANGELOG.md\", \"value\": 1}, {\"commit-author-name\": \"Vince Picone\", \"commit-author-date\": \"2019-11-18T16:29:14+00:00\", \"commit-message\": \"Update CHANGELOG.md\", \"value\": 1}, {\"commit-author-name\": \"Vince Picone\", \"commit-author-date\": \"2019-11-18T16:15:37+00:00\", \"commit-message\": \"4.0.1\", \"value\": 1}, {\"commit-author-name\": \"Vince Picone\", \"commit-author-date\": \"2019-11-18T16:03:37+00:00\", \"commit-message\": \"4.0.0\", \"value\": 1}, {\"commit-author-name\": \"Vince Picone\", \"commit-author-date\": \"2019-11-18T15:58:02+00:00\", \"commit-message\": \"breaking: update  arabic family name to include sans (#286)\\n\\nbreaking: update  arabic family name to include sans\", \"value\": 1}, {\"commit-author-name\": \"Vince Picone\", \"commit-author-date\": \"2019-11-18T15:57:32+00:00\", \"commit-message\": \"Update README.md (#222)\\n\\nUpdate README.md\", \"value\": 1}, {\"commit-author-name\": \"Vince Picone\", \"commit-author-date\": \"2019-11-18T15:52:50+00:00\", \"commit-message\": \"breaking: update  arabic family name to include sans\", \"value\": 1}, {\"commit-author-name\": \"Vince Picone\", \"commit-author-date\": \"2019-10-05T03:30:32+00:00\", \"commit-message\": \"3.0.0\", \"value\": 1}, {\"commit-author-name\": \"Vince Picone\", \"commit-author-date\": \"2019-10-05T03:24:56+00:00\", \"commit-message\": \"Devanagari thai update (#277)\\n\\nDevanagari thai update\", \"value\": 1}, {\"commit-author-name\": \"Vince Picone\", \"commit-author-date\": \"2019-10-04T13:25:43+00:00\", \"commit-message\": \"fix: thai file names\", \"value\": 1}, {\"commit-author-name\": \"Vince Picone\", \"commit-author-date\": \"2019-10-03T19:20:14+00:00\", \"commit-message\": \"chore: add changelog\", \"value\": 1}, {\"commit-author-name\": \"Vince Picone\", \"commit-author-date\": \"2019-10-03T19:11:21+00:00\", \"commit-message\": \"fix: add Sans to extralight and semibold weights for thai\", \"value\": 1}, {\"commit-author-name\": \"Vince Picone\", \"commit-author-date\": \"2019-10-03T18:45:57+00:00\", \"commit-message\": \"breaking: update thai and devanagari typeface names and font files\", \"value\": 1}]}}, {\"mode\": \"vega-lite\"});\n",
              "</script>"
            ]
          },
          "metadata": {
            "tags": []
          },
          "execution_count": 38
        }
      ]
    },
    {
      "cell_type": "code",
      "metadata": {
        "id": "yyLr_TFHkdbm",
        "colab_type": "code",
        "colab": {}
      },
      "source": [
        "df_commits_reduced = df_commits_reduced.set_index(\"commit-author-date\")"
      ],
      "execution_count": 39,
      "outputs": []
    },
    {
      "cell_type": "code",
      "metadata": {
        "id": "kuJHyAu1kpFE",
        "colab_type": "code",
        "colab": {}
      },
      "source": [
        "days = df_commits_reduced.resample(\"D\").sum()"
      ],
      "execution_count": 40,
      "outputs": []
    },
    {
      "cell_type": "code",
      "metadata": {
        "id": "gfnRsDeClEPs",
        "colab_type": "code",
        "colab": {
          "base_uri": "https://localhost:8080/",
          "height": 450
        },
        "outputId": "699d1e0c-dafa-4925-b328-38723d69c396"
      },
      "source": [
        "days"
      ],
      "execution_count": 41,
      "outputs": [
        {
          "output_type": "execute_result",
          "data": {
            "text/html": [
              "<div>\n",
              "<style scoped>\n",
              "    .dataframe tbody tr th:only-of-type {\n",
              "        vertical-align: middle;\n",
              "    }\n",
              "\n",
              "    .dataframe tbody tr th {\n",
              "        vertical-align: top;\n",
              "    }\n",
              "\n",
              "    .dataframe thead th {\n",
              "        text-align: right;\n",
              "    }\n",
              "</style>\n",
              "<table border=\"1\" class=\"dataframe\">\n",
              "  <thead>\n",
              "    <tr style=\"text-align: right;\">\n",
              "      <th></th>\n",
              "      <th>value</th>\n",
              "    </tr>\n",
              "    <tr>\n",
              "      <th>commit-author-date</th>\n",
              "      <th></th>\n",
              "    </tr>\n",
              "  </thead>\n",
              "  <tbody>\n",
              "    <tr>\n",
              "      <th>2019-10-03 00:00:00+00:00</th>\n",
              "      <td>3</td>\n",
              "    </tr>\n",
              "    <tr>\n",
              "      <th>2019-10-04 00:00:00+00:00</th>\n",
              "      <td>1</td>\n",
              "    </tr>\n",
              "    <tr>\n",
              "      <th>2019-10-05 00:00:00+00:00</th>\n",
              "      <td>2</td>\n",
              "    </tr>\n",
              "    <tr>\n",
              "      <th>2019-10-06 00:00:00+00:00</th>\n",
              "      <td>0</td>\n",
              "    </tr>\n",
              "    <tr>\n",
              "      <th>2019-10-07 00:00:00+00:00</th>\n",
              "      <td>0</td>\n",
              "    </tr>\n",
              "    <tr>\n",
              "      <th>...</th>\n",
              "      <td>...</td>\n",
              "    </tr>\n",
              "    <tr>\n",
              "      <th>2020-06-26 00:00:00+00:00</th>\n",
              "      <td>0</td>\n",
              "    </tr>\n",
              "    <tr>\n",
              "      <th>2020-06-27 00:00:00+00:00</th>\n",
              "      <td>0</td>\n",
              "    </tr>\n",
              "    <tr>\n",
              "      <th>2020-06-28 00:00:00+00:00</th>\n",
              "      <td>0</td>\n",
              "    </tr>\n",
              "    <tr>\n",
              "      <th>2020-06-29 00:00:00+00:00</th>\n",
              "      <td>0</td>\n",
              "    </tr>\n",
              "    <tr>\n",
              "      <th>2020-06-30 00:00:00+00:00</th>\n",
              "      <td>1</td>\n",
              "    </tr>\n",
              "  </tbody>\n",
              "</table>\n",
              "<p>272 rows × 1 columns</p>\n",
              "</div>"
            ],
            "text/plain": [
              "                           value\n",
              "commit-author-date              \n",
              "2019-10-03 00:00:00+00:00      3\n",
              "2019-10-04 00:00:00+00:00      1\n",
              "2019-10-05 00:00:00+00:00      2\n",
              "2019-10-06 00:00:00+00:00      0\n",
              "2019-10-07 00:00:00+00:00      0\n",
              "...                          ...\n",
              "2020-06-26 00:00:00+00:00      0\n",
              "2020-06-27 00:00:00+00:00      0\n",
              "2020-06-28 00:00:00+00:00      0\n",
              "2020-06-29 00:00:00+00:00      0\n",
              "2020-06-30 00:00:00+00:00      1\n",
              "\n",
              "[272 rows x 1 columns]"
            ]
          },
          "metadata": {
            "tags": []
          },
          "execution_count": 41
        }
      ]
    },
    {
      "cell_type": "code",
      "metadata": {
        "id": "gA5wKqcxpVDd",
        "colab_type": "code",
        "colab": {}
      },
      "source": [
        "week = df_commits_reduced.resample(\"W\").sum()\n",
        "# week"
      ],
      "execution_count": 43,
      "outputs": []
    },
    {
      "cell_type": "code",
      "metadata": {
        "id": "iFb8avcApvGE",
        "colab_type": "code",
        "colab": {}
      },
      "source": [
        "# week.astype(int)\n",
        "# week.info()"
      ],
      "execution_count": 42,
      "outputs": []
    },
    {
      "cell_type": "code",
      "metadata": {
        "id": "kg8PzC-PlR1S",
        "colab_type": "code",
        "colab": {}
      },
      "source": [
        "# month = df_commits_reduced.resample(\"M\").sum()\n",
        "# month"
      ],
      "execution_count": null,
      "outputs": []
    },
    {
      "cell_type": "code",
      "metadata": {
        "id": "HmvLt_W3qSlJ",
        "colab_type": "code",
        "colab": {
          "base_uri": "https://localhost:8080/",
          "height": 468
        },
        "outputId": "9dfc1114-0faf-4358-8f02-6d79d669e000"
      },
      "source": [
        "alt.Chart(week.reset_index().melt(\"commit-author-date\")).mark_line(opacity=0.75, interpolate=\"basis\").encode(\n",
        "    x='commit-author-date',\n",
        "    y='value',\n",
        "    color='variable',\n",
        ").properties(width=800, height=400)"
      ],
      "execution_count": 44,
      "outputs": [
        {
          "output_type": "execute_result",
          "data": {
            "text/plain": [
              "alt.Chart(...)"
            ],
            "text/html": [
              "\n",
              "<div id=\"altair-viz-30865889613c46559d91e81f99431e66\"></div>\n",
              "<script type=\"text/javascript\">\n",
              "  (function(spec, embedOpt){\n",
              "    let outputDiv = document.currentScript.previousElementSibling;\n",
              "    if (outputDiv.id !== \"altair-viz-30865889613c46559d91e81f99431e66\") {\n",
              "      outputDiv = document.getElementById(\"altair-viz-30865889613c46559d91e81f99431e66\");\n",
              "    }\n",
              "    const paths = {\n",
              "      \"vega\": \"https://cdn.jsdelivr.net/npm//vega@5?noext\",\n",
              "      \"vega-lib\": \"https://cdn.jsdelivr.net/npm//vega-lib?noext\",\n",
              "      \"vega-lite\": \"https://cdn.jsdelivr.net/npm//vega-lite@4.8.1?noext\",\n",
              "      \"vega-embed\": \"https://cdn.jsdelivr.net/npm//vega-embed@6?noext\",\n",
              "    };\n",
              "\n",
              "    function loadScript(lib) {\n",
              "      return new Promise(function(resolve, reject) {\n",
              "        var s = document.createElement('script');\n",
              "        s.src = paths[lib];\n",
              "        s.async = true;\n",
              "        s.onload = () => resolve(paths[lib]);\n",
              "        s.onerror = () => reject(`Error loading script: ${paths[lib]}`);\n",
              "        document.getElementsByTagName(\"head\")[0].appendChild(s);\n",
              "      });\n",
              "    }\n",
              "\n",
              "    function showError(err) {\n",
              "      outputDiv.innerHTML = `<div class=\"error\" style=\"color:red;\">${err}</div>`;\n",
              "      throw err;\n",
              "    }\n",
              "\n",
              "    function displayChart(vegaEmbed) {\n",
              "      vegaEmbed(outputDiv, spec, embedOpt)\n",
              "        .catch(err => showError(`Javascript Error: ${err.message}<br>This usually means there's a typo in your chart specification. See the javascript console for the full traceback.`));\n",
              "    }\n",
              "\n",
              "    if(typeof define === \"function\" && define.amd) {\n",
              "      requirejs.config({paths});\n",
              "      require([\"vega-embed\"], displayChart, err => showError(`Error loading script: ${err.message}`));\n",
              "    } else if (typeof vegaEmbed === \"function\") {\n",
              "      displayChart(vegaEmbed);\n",
              "    } else {\n",
              "      loadScript(\"vega\")\n",
              "        .then(() => loadScript(\"vega-lite\"))\n",
              "        .then(() => loadScript(\"vega-embed\"))\n",
              "        .catch(showError)\n",
              "        .then(() => displayChart(vegaEmbed));\n",
              "    }\n",
              "  })({\"config\": {\"view\": {\"continuousWidth\": 400, \"continuousHeight\": 300}}, \"data\": {\"name\": \"data-9fbcd499278dd846db27de4721b4ddea\"}, \"mark\": {\"type\": \"line\", \"interpolate\": \"basis\", \"opacity\": 0.75}, \"encoding\": {\"color\": {\"type\": \"nominal\", \"field\": \"variable\"}, \"x\": {\"type\": \"temporal\", \"field\": \"commit-author-date\"}, \"y\": {\"type\": \"quantitative\", \"field\": \"value\"}}, \"height\": 400, \"width\": 800, \"$schema\": \"https://vega.github.io/schema/vega-lite/v4.8.1.json\", \"datasets\": {\"data-9fbcd499278dd846db27de4721b4ddea\": [{\"commit-author-date\": \"2019-10-06T00:00:00+00:00\", \"variable\": \"value\", \"value\": 6}, {\"commit-author-date\": \"2019-10-13T00:00:00+00:00\", \"variable\": \"value\", \"value\": 0}, {\"commit-author-date\": \"2019-10-20T00:00:00+00:00\", \"variable\": \"value\", \"value\": 0}, {\"commit-author-date\": \"2019-10-27T00:00:00+00:00\", \"variable\": \"value\", \"value\": 0}, {\"commit-author-date\": \"2019-11-03T00:00:00+00:00\", \"variable\": \"value\", \"value\": 0}, {\"commit-author-date\": \"2019-11-10T00:00:00+00:00\", \"variable\": \"value\", \"value\": 0}, {\"commit-author-date\": \"2019-11-17T00:00:00+00:00\", \"variable\": \"value\", \"value\": 0}, {\"commit-author-date\": \"2019-11-24T00:00:00+00:00\", \"variable\": \"value\", \"value\": 8}, {\"commit-author-date\": \"2019-12-01T00:00:00+00:00\", \"variable\": \"value\", \"value\": 1}, {\"commit-author-date\": \"2019-12-08T00:00:00+00:00\", \"variable\": \"value\", \"value\": 0}, {\"commit-author-date\": \"2019-12-15T00:00:00+00:00\", \"variable\": \"value\", \"value\": 3}, {\"commit-author-date\": \"2019-12-22T00:00:00+00:00\", \"variable\": \"value\", \"value\": 0}, {\"commit-author-date\": \"2019-12-29T00:00:00+00:00\", \"variable\": \"value\", \"value\": 0}, {\"commit-author-date\": \"2020-01-05T00:00:00+00:00\", \"variable\": \"value\", \"value\": 0}, {\"commit-author-date\": \"2020-01-12T00:00:00+00:00\", \"variable\": \"value\", \"value\": 0}, {\"commit-author-date\": \"2020-01-19T00:00:00+00:00\", \"variable\": \"value\", \"value\": 0}, {\"commit-author-date\": \"2020-01-26T00:00:00+00:00\", \"variable\": \"value\", \"value\": 0}, {\"commit-author-date\": \"2020-02-02T00:00:00+00:00\", \"variable\": \"value\", \"value\": 0}, {\"commit-author-date\": \"2020-02-09T00:00:00+00:00\", \"variable\": \"value\", \"value\": 0}, {\"commit-author-date\": \"2020-02-16T00:00:00+00:00\", \"variable\": \"value\", \"value\": 0}, {\"commit-author-date\": \"2020-02-23T00:00:00+00:00\", \"variable\": \"value\", \"value\": 0}, {\"commit-author-date\": \"2020-03-01T00:00:00+00:00\", \"variable\": \"value\", \"value\": 0}, {\"commit-author-date\": \"2020-03-08T00:00:00+00:00\", \"variable\": \"value\", \"value\": 0}, {\"commit-author-date\": \"2020-03-15T00:00:00+00:00\", \"variable\": \"value\", \"value\": 0}, {\"commit-author-date\": \"2020-03-22T00:00:00+00:00\", \"variable\": \"value\", \"value\": 0}, {\"commit-author-date\": \"2020-03-29T00:00:00+00:00\", \"variable\": \"value\", \"value\": 0}, {\"commit-author-date\": \"2020-04-05T00:00:00+00:00\", \"variable\": \"value\", \"value\": 0}, {\"commit-author-date\": \"2020-04-12T00:00:00+00:00\", \"variable\": \"value\", \"value\": 0}, {\"commit-author-date\": \"2020-04-19T00:00:00+00:00\", \"variable\": \"value\", \"value\": 0}, {\"commit-author-date\": \"2020-04-26T00:00:00+00:00\", \"variable\": \"value\", \"value\": 0}, {\"commit-author-date\": \"2020-05-03T00:00:00+00:00\", \"variable\": \"value\", \"value\": 0}, {\"commit-author-date\": \"2020-05-10T00:00:00+00:00\", \"variable\": \"value\", \"value\": 0}, {\"commit-author-date\": \"2020-05-17T00:00:00+00:00\", \"variable\": \"value\", \"value\": 1}, {\"commit-author-date\": \"2020-05-24T00:00:00+00:00\", \"variable\": \"value\", \"value\": 0}, {\"commit-author-date\": \"2020-05-31T00:00:00+00:00\", \"variable\": \"value\", \"value\": 4}, {\"commit-author-date\": \"2020-06-07T00:00:00+00:00\", \"variable\": \"value\", \"value\": 3}, {\"commit-author-date\": \"2020-06-14T00:00:00+00:00\", \"variable\": \"value\", \"value\": 2}, {\"commit-author-date\": \"2020-06-21T00:00:00+00:00\", \"variable\": \"value\", \"value\": 1}, {\"commit-author-date\": \"2020-06-28T00:00:00+00:00\", \"variable\": \"value\", \"value\": 0}, {\"commit-author-date\": \"2020-07-05T00:00:00+00:00\", \"variable\": \"value\", \"value\": 1}]}}, {\"mode\": \"vega-lite\"});\n",
              "</script>"
            ]
          },
          "metadata": {
            "tags": []
          },
          "execution_count": 44
        }
      ]
    }
  ]
}