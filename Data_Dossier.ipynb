{
  "nbformat": 4,
  "nbformat_minor": 0,
  "metadata": {
    "colab": {
      "name": " Data Dossier.ipynb",
      "provenance": [],
      "collapsed_sections": [],
      "toc_visible": true,
      "authorship_tag": "ABX9TyOpHldouJ+qVTsl42yomUTz",
      "include_colab_link": true
    },
    "kernelspec": {
      "name": "python3",
      "display_name": "Python 3"
    }
  },
  "cells": [
    {
      "cell_type": "markdown",
      "metadata": {
        "id": "view-in-github",
        "colab_type": "text"
      },
      "source": [
        "<a href=\"https://colab.research.google.com/github/kuzminadya/FHP-infovis-py/blob/master/Data_Dossier.ipynb\" target=\"_parent\"><img src=\"https://colab.research.google.com/assets/colab-badge.svg\" alt=\"Open In Colab\"/></a>"
      ]
    },
    {
      "cell_type": "markdown",
      "metadata": {
        "id": "HQFKi_PJ6xYS",
        "colab_type": "text"
      },
      "source": [
        "# Font File Transformations\n",
        "\n",
        "## An idea\n",
        "\n",
        "My idea is to analyse and visualise the transformation of font file changing over time. Creating a font, especially a large font family may take several years of work or it might be a result of collaboration of several designers and type engineers. Even after the first version is released, the contribution to the project and updating the font may last for several years. In my project, I would like to investigate what kind of changes had happened with a font file after it was published on GitHub.\n"
      ]
    },
    {
      "cell_type": "markdown",
      "metadata": {
        "id": "q2DiMqY__4fh",
        "colab_type": "text"
      },
      "source": [
        "### The first use case — analysis of a existed github repo\n",
        "\n",
        "As an examle I use IBM Plex® typeface repo on GitHub:\\\n",
        "https://github.com/IBM/plex "
      ]
    },
    {
      "cell_type": "markdown",
      "metadata": {
        "id": "emGvVC7IE-0P",
        "colab_type": "text"
      },
      "source": [
        "First of all I'm going to import our favorite libraries.\n"
      ]
    },
    {
      "cell_type": "code",
      "metadata": {
        "id": "q9ueJOVw7Lw1",
        "colab_type": "code",
        "colab": {}
      },
      "source": [
        "import pandas as pd\n",
        "import altair as alt"
      ],
      "execution_count": 124,
      "outputs": []
    },
    {
      "cell_type": "markdown",
      "metadata": {
        "id": "UuVFCkpKkYpb",
        "colab_type": "text"
      },
      "source": [
        "The first step is getting the dataset in JSON format from Github (https://developer.github.com/v3/repos/#get-a-repository\n",
        "). Here I have a description of repo itself."
      ]
    },
    {
      "cell_type": "code",
      "metadata": {
        "id": "xDKl58k9b2n8",
        "colab_type": "code",
        "colab": {
          "base_uri": "https://localhost:8080/",
          "height": 34
        },
        "outputId": "037c9bf1-7db0-40fe-8e8a-8ff7adaa7f3a"
      },
      "source": [
        "import requests \n",
        "\n",
        "url = ('https://api.github.com/repos/IBM/plex')\n",
        "\n",
        "response = requests.get(url)\n",
        "\n",
        "print(f\"Request returned {response.status_code} : '{response.reason}'\")\n",
        "dataset_repo_json = response.json()\n",
        "\n",
        "# dataset_repo_json"
      ],
      "execution_count": 125,
      "outputs": [
        {
          "output_type": "stream",
          "text": [
            "Request returned 200 : 'OK'\n"
          ],
          "name": "stdout"
        }
      ]
    },
    {
      "cell_type": "markdown",
      "metadata": {
        "id": "o4nxhHGKfT-X",
        "colab_type": "text"
      },
      "source": [
        "And then I get the list of commits (https://developer.github.com/v3/repos/commits/) in JSON format:"
      ]
    },
    {
      "cell_type": "code",
      "metadata": {
        "id": "kGM-cCYefYQ9",
        "colab_type": "code",
        "colab": {
          "base_uri": "https://localhost:8080/",
          "height": 34
        },
        "outputId": "3a426d9c-f1dd-464e-8435-141aaee68666"
      },
      "source": [
        "url = ('https://api.github.com/repos/IBM/plex/commits')\n",
        "\n",
        "response = requests.get(url)\n",
        "\n",
        "print(f\"Request returned {response.status_code} : '{response.reason}'\")\n",
        "dataset_commits_json = response.json()\n",
        "\n",
        "# dataset_commits_json"
      ],
      "execution_count": 126,
      "outputs": [
        {
          "output_type": "stream",
          "text": [
            "Request returned 200 : 'OK'\n"
          ],
          "name": "stdout"
        }
      ]
    },
    {
      "cell_type": "markdown",
      "metadata": {
        "id": "eVTKav6SmNZP",
        "colab_type": "text"
      },
      "source": [
        "The next part is converting JSON into a dataframe. I will convert only the second file.\n",
        "\n",
        "With a help of: https://stackoverflow.com/questions/41168558/python-how-to-convert-json-file-to-dataframe"
      ]
    },
    {
      "cell_type": "code",
      "metadata": {
        "id": "Pj_LNtSxi1ru",
        "colab_type": "code",
        "colab": {
          "base_uri": "https://localhost:8080/",
          "height": 71
        },
        "outputId": "3629a949-7e19-46c1-d894-ce7f4c18f156"
      },
      "source": [
        "from pandas.io.json import json_normalize\n",
        "df_commits = pd.DataFrame.from_dict(json_normalize(dataset_commits_json), orient='columns')"
      ],
      "execution_count": 127,
      "outputs": [
        {
          "output_type": "stream",
          "text": [
            "/usr/local/lib/python3.6/dist-packages/ipykernel_launcher.py:2: FutureWarning: pandas.io.json.json_normalize is deprecated, use pandas.json_normalize instead\n",
            "  \n"
          ],
          "name": "stderr"
        }
      ]
    },
    {
      "cell_type": "code",
      "metadata": {
        "id": "KweYihPU43Fu",
        "colab_type": "code",
        "colab": {
          "base_uri": "https://localhost:8080/",
          "height": 1000
        },
        "outputId": "bc3ba4e8-c30e-4e54-d443-9745fc379d4f"
      },
      "source": [
        "df_commits.info()"
      ],
      "execution_count": 128,
      "outputs": [
        {
          "output_type": "stream",
          "text": [
            "<class 'pandas.core.frame.DataFrame'>\n",
            "RangeIndex: 30 entries, 0 to 29\n",
            "Data columns (total 59 columns):\n",
            " #   Column                         Non-Null Count  Dtype  \n",
            "---  ------                         --------------  -----  \n",
            " 0   sha                            30 non-null     object \n",
            " 1   node_id                        30 non-null     object \n",
            " 2   url                            30 non-null     object \n",
            " 3   html_url                       30 non-null     object \n",
            " 4   comments_url                   30 non-null     object \n",
            " 5   parents                        30 non-null     object \n",
            " 6   commit.author.name             30 non-null     object \n",
            " 7   commit.author.email            30 non-null     object \n",
            " 8   commit.author.date             30 non-null     object \n",
            " 9   commit.committer.name          30 non-null     object \n",
            " 10  commit.committer.email         30 non-null     object \n",
            " 11  commit.committer.date          30 non-null     object \n",
            " 12  commit.message                 30 non-null     object \n",
            " 13  commit.tree.sha                30 non-null     object \n",
            " 14  commit.tree.url                30 non-null     object \n",
            " 15  commit.url                     30 non-null     object \n",
            " 16  commit.comment_count           30 non-null     int64  \n",
            " 17  commit.verification.verified   30 non-null     bool   \n",
            " 18  commit.verification.reason     30 non-null     object \n",
            " 19  commit.verification.signature  12 non-null     object \n",
            " 20  commit.verification.payload    12 non-null     object \n",
            " 21  author.login                   12 non-null     object \n",
            " 22  author.id                      12 non-null     float64\n",
            " 23  author.node_id                 12 non-null     object \n",
            " 24  author.avatar_url              12 non-null     object \n",
            " 25  author.gravatar_id             12 non-null     object \n",
            " 26  author.url                     12 non-null     object \n",
            " 27  author.html_url                12 non-null     object \n",
            " 28  author.followers_url           12 non-null     object \n",
            " 29  author.following_url           12 non-null     object \n",
            " 30  author.gists_url               12 non-null     object \n",
            " 31  author.starred_url             12 non-null     object \n",
            " 32  author.subscriptions_url       12 non-null     object \n",
            " 33  author.organizations_url       12 non-null     object \n",
            " 34  author.repos_url               12 non-null     object \n",
            " 35  author.events_url              12 non-null     object \n",
            " 36  author.received_events_url     12 non-null     object \n",
            " 37  author.type                    12 non-null     object \n",
            " 38  author.site_admin              12 non-null     object \n",
            " 39  committer.login                12 non-null     object \n",
            " 40  committer.id                   12 non-null     float64\n",
            " 41  committer.node_id              12 non-null     object \n",
            " 42  committer.avatar_url           12 non-null     object \n",
            " 43  committer.gravatar_id          12 non-null     object \n",
            " 44  committer.url                  12 non-null     object \n",
            " 45  committer.html_url             12 non-null     object \n",
            " 46  committer.followers_url        12 non-null     object \n",
            " 47  committer.following_url        12 non-null     object \n",
            " 48  committer.gists_url            12 non-null     object \n",
            " 49  committer.starred_url          12 non-null     object \n",
            " 50  committer.subscriptions_url    12 non-null     object \n",
            " 51  committer.organizations_url    12 non-null     object \n",
            " 52  committer.repos_url            12 non-null     object \n",
            " 53  committer.events_url           12 non-null     object \n",
            " 54  committer.received_events_url  12 non-null     object \n",
            " 55  committer.type                 12 non-null     object \n",
            " 56  committer.site_admin           12 non-null     object \n",
            " 57  author                         0 non-null      float64\n",
            " 58  committer                      0 non-null      float64\n",
            "dtypes: bool(1), float64(4), int64(1), object(53)\n",
            "memory usage: 13.7+ KB\n"
          ],
          "name": "stdout"
        }
      ]
    },
    {
      "cell_type": "markdown",
      "metadata": {
        "id": "ZfPKhx_3Kvoh",
        "colab_type": "text"
      },
      "source": [
        "Some operations with df, like decreasing the amount of columns, haven't succeed with json file. To avoid it I transform the file in csv format and download it (to do it please uncomment the code below)."
      ]
    },
    {
      "cell_type": "code",
      "metadata": {
        "id": "VV2WBaZbv5hO",
        "colab_type": "code",
        "colab": {}
      },
      "source": [
        "from google.colab import files\n",
        "\n",
        "df_commits.to_csv('df_commits_table.csv')\n",
        "# files.download('df_commits_table.csv')"
      ],
      "execution_count": 129,
      "outputs": []
    },
    {
      "cell_type": "code",
      "metadata": {
        "id": "JPWNUSS7R9gm",
        "colab_type": "code",
        "colab": {
          "base_uri": "https://localhost:8080/",
          "height": 394
        },
        "outputId": "8cb2e983-f349-455e-d5be-2cdd48b426f8"
      },
      "source": [
        "file_commits = open(\"df_commits_table.csv\")\n",
        "\n",
        "file_commits_csv = pd.read_csv(file_commits, sep=',', keep_default_na=False)\n",
        "file_commits_csv.head()"
      ],
      "execution_count": 130,
      "outputs": [
        {
          "output_type": "execute_result",
          "data": {
            "text/html": [
              "<div>\n",
              "<style scoped>\n",
              "    .dataframe tbody tr th:only-of-type {\n",
              "        vertical-align: middle;\n",
              "    }\n",
              "\n",
              "    .dataframe tbody tr th {\n",
              "        vertical-align: top;\n",
              "    }\n",
              "\n",
              "    .dataframe thead th {\n",
              "        text-align: right;\n",
              "    }\n",
              "</style>\n",
              "<table border=\"1\" class=\"dataframe\">\n",
              "  <thead>\n",
              "    <tr style=\"text-align: right;\">\n",
              "      <th></th>\n",
              "      <th>Unnamed: 0</th>\n",
              "      <th>sha</th>\n",
              "      <th>node_id</th>\n",
              "      <th>url</th>\n",
              "      <th>html_url</th>\n",
              "      <th>comments_url</th>\n",
              "      <th>parents</th>\n",
              "      <th>commit.author.name</th>\n",
              "      <th>commit.author.email</th>\n",
              "      <th>commit.author.date</th>\n",
              "      <th>commit.committer.name</th>\n",
              "      <th>commit.committer.email</th>\n",
              "      <th>commit.committer.date</th>\n",
              "      <th>commit.message</th>\n",
              "      <th>commit.tree.sha</th>\n",
              "      <th>commit.tree.url</th>\n",
              "      <th>commit.url</th>\n",
              "      <th>commit.comment_count</th>\n",
              "      <th>commit.verification.verified</th>\n",
              "      <th>commit.verification.reason</th>\n",
              "      <th>commit.verification.signature</th>\n",
              "      <th>commit.verification.payload</th>\n",
              "      <th>author.login</th>\n",
              "      <th>author.id</th>\n",
              "      <th>author.node_id</th>\n",
              "      <th>author.avatar_url</th>\n",
              "      <th>author.gravatar_id</th>\n",
              "      <th>author.url</th>\n",
              "      <th>author.html_url</th>\n",
              "      <th>author.followers_url</th>\n",
              "      <th>author.following_url</th>\n",
              "      <th>author.gists_url</th>\n",
              "      <th>author.starred_url</th>\n",
              "      <th>author.subscriptions_url</th>\n",
              "      <th>author.organizations_url</th>\n",
              "      <th>author.repos_url</th>\n",
              "      <th>author.events_url</th>\n",
              "      <th>author.received_events_url</th>\n",
              "      <th>author.type</th>\n",
              "      <th>author.site_admin</th>\n",
              "      <th>committer.login</th>\n",
              "      <th>committer.id</th>\n",
              "      <th>committer.node_id</th>\n",
              "      <th>committer.avatar_url</th>\n",
              "      <th>committer.gravatar_id</th>\n",
              "      <th>committer.url</th>\n",
              "      <th>committer.html_url</th>\n",
              "      <th>committer.followers_url</th>\n",
              "      <th>committer.following_url</th>\n",
              "      <th>committer.gists_url</th>\n",
              "      <th>committer.starred_url</th>\n",
              "      <th>committer.subscriptions_url</th>\n",
              "      <th>committer.organizations_url</th>\n",
              "      <th>committer.repos_url</th>\n",
              "      <th>committer.events_url</th>\n",
              "      <th>committer.received_events_url</th>\n",
              "      <th>committer.type</th>\n",
              "      <th>committer.site_admin</th>\n",
              "      <th>author</th>\n",
              "      <th>committer</th>\n",
              "    </tr>\n",
              "  </thead>\n",
              "  <tbody>\n",
              "    <tr>\n",
              "      <th>0</th>\n",
              "      <td>0</td>\n",
              "      <td>3fbdb5dd75d74379b7fba47dd889a1eb70771d73</td>\n",
              "      <td>MDY6Q29tbWl0MTA1NzAyNjMxOjNmYmRiNWRkNzVkNzQzNz...</td>\n",
              "      <td>https://api.github.com/repos/IBM/plex/commits/...</td>\n",
              "      <td>https://github.com/IBM/plex/commit/3fbdb5dd75d...</td>\n",
              "      <td>https://api.github.com/repos/IBM/plex/commits/...</td>\n",
              "      <td>[{'sha': '968081d61b6abe18cd0dc14a42704afdf483...</td>\n",
              "      <td>Vince Picone</td>\n",
              "      <td>vpicone@gmail.com</td>\n",
              "      <td>2020-06-30T23:58:27Z</td>\n",
              "      <td>GitHub</td>\n",
              "      <td>noreply@github.com</td>\n",
              "      <td>2020-06-30T23:58:27Z</td>\n",
              "      <td>Merge pull request #323 from dtinth/patch-1\\n\\...</td>\n",
              "      <td>099315db66b26edb264f5b68047ac8ebff714a25</td>\n",
              "      <td>https://api.github.com/repos/IBM/plex/git/tree...</td>\n",
              "      <td>https://api.github.com/repos/IBM/plex/git/comm...</td>\n",
              "      <td>0</td>\n",
              "      <td>True</td>\n",
              "      <td>valid</td>\n",
              "      <td>-----BEGIN PGP SIGNATURE-----\\n\\nwsBcBAABCAAQB...</td>\n",
              "      <td>tree 099315db66b26edb264f5b68047ac8ebff714a25\\...</td>\n",
              "      <td>vpicone</td>\n",
              "      <td>4078018.0</td>\n",
              "      <td>MDQ6VXNlcjQwNzgwMTg=</td>\n",
              "      <td>https://avatars1.githubusercontent.com/u/40780...</td>\n",
              "      <td></td>\n",
              "      <td>https://api.github.com/users/vpicone</td>\n",
              "      <td>https://github.com/vpicone</td>\n",
              "      <td>https://api.github.com/users/vpicone/followers</td>\n",
              "      <td>https://api.github.com/users/vpicone/following...</td>\n",
              "      <td>https://api.github.com/users/vpicone/gists{/gi...</td>\n",
              "      <td>https://api.github.com/users/vpicone/starred{/...</td>\n",
              "      <td>https://api.github.com/users/vpicone/subscript...</td>\n",
              "      <td>https://api.github.com/users/vpicone/orgs</td>\n",
              "      <td>https://api.github.com/users/vpicone/repos</td>\n",
              "      <td>https://api.github.com/users/vpicone/events{/p...</td>\n",
              "      <td>https://api.github.com/users/vpicone/received_...</td>\n",
              "      <td>User</td>\n",
              "      <td>False</td>\n",
              "      <td>web-flow</td>\n",
              "      <td>19864447.0</td>\n",
              "      <td>MDQ6VXNlcjE5ODY0NDQ3</td>\n",
              "      <td>https://avatars3.githubusercontent.com/u/19864...</td>\n",
              "      <td></td>\n",
              "      <td>https://api.github.com/users/web-flow</td>\n",
              "      <td>https://github.com/web-flow</td>\n",
              "      <td>https://api.github.com/users/web-flow/followers</td>\n",
              "      <td>https://api.github.com/users/web-flow/followin...</td>\n",
              "      <td>https://api.github.com/users/web-flow/gists{/g...</td>\n",
              "      <td>https://api.github.com/users/web-flow/starred{...</td>\n",
              "      <td>https://api.github.com/users/web-flow/subscrip...</td>\n",
              "      <td>https://api.github.com/users/web-flow/orgs</td>\n",
              "      <td>https://api.github.com/users/web-flow/repos</td>\n",
              "      <td>https://api.github.com/users/web-flow/events{/...</td>\n",
              "      <td>https://api.github.com/users/web-flow/received...</td>\n",
              "      <td>User</td>\n",
              "      <td>False</td>\n",
              "      <td></td>\n",
              "      <td></td>\n",
              "    </tr>\n",
              "    <tr>\n",
              "      <th>1</th>\n",
              "      <td>1</td>\n",
              "      <td>f90d92225eda9e0056d13446cc979a83e11bd0a1</td>\n",
              "      <td>MDY6Q29tbWl0MTA1NzAyNjMxOmY5MGQ5MjIyNWVkYTllMD...</td>\n",
              "      <td>https://api.github.com/repos/IBM/plex/commits/...</td>\n",
              "      <td>https://github.com/IBM/plex/commit/f90d92225ed...</td>\n",
              "      <td>https://api.github.com/repos/IBM/plex/commits/...</td>\n",
              "      <td>[{'sha': '968081d61b6abe18cd0dc14a42704afdf483...</td>\n",
              "      <td>Thai Pangsakulyanont</td>\n",
              "      <td>dtinth@spacet.me</td>\n",
              "      <td>2020-06-21T12:56:02Z</td>\n",
              "      <td>GitHub</td>\n",
              "      <td>noreply@github.com</td>\n",
              "      <td>2020-06-21T12:56:02Z</td>\n",
              "      <td>Add \"main\" field to \"package.json\"\\n\\nThis all...</td>\n",
              "      <td>099315db66b26edb264f5b68047ac8ebff714a25</td>\n",
              "      <td>https://api.github.com/repos/IBM/plex/git/tree...</td>\n",
              "      <td>https://api.github.com/repos/IBM/plex/git/comm...</td>\n",
              "      <td>0</td>\n",
              "      <td>True</td>\n",
              "      <td>valid</td>\n",
              "      <td>-----BEGIN PGP SIGNATURE-----\\n\\nwsBcBAABCAAQB...</td>\n",
              "      <td>tree 099315db66b26edb264f5b68047ac8ebff714a25\\...</td>\n",
              "      <td>dtinth</td>\n",
              "      <td>193136.0</td>\n",
              "      <td>MDQ6VXNlcjE5MzEzNg==</td>\n",
              "      <td>https://avatars3.githubusercontent.com/u/19313...</td>\n",
              "      <td></td>\n",
              "      <td>https://api.github.com/users/dtinth</td>\n",
              "      <td>https://github.com/dtinth</td>\n",
              "      <td>https://api.github.com/users/dtinth/followers</td>\n",
              "      <td>https://api.github.com/users/dtinth/following{...</td>\n",
              "      <td>https://api.github.com/users/dtinth/gists{/gis...</td>\n",
              "      <td>https://api.github.com/users/dtinth/starred{/o...</td>\n",
              "      <td>https://api.github.com/users/dtinth/subscriptions</td>\n",
              "      <td>https://api.github.com/users/dtinth/orgs</td>\n",
              "      <td>https://api.github.com/users/dtinth/repos</td>\n",
              "      <td>https://api.github.com/users/dtinth/events{/pr...</td>\n",
              "      <td>https://api.github.com/users/dtinth/received_e...</td>\n",
              "      <td>User</td>\n",
              "      <td>False</td>\n",
              "      <td>web-flow</td>\n",
              "      <td>19864447.0</td>\n",
              "      <td>MDQ6VXNlcjE5ODY0NDQ3</td>\n",
              "      <td>https://avatars3.githubusercontent.com/u/19864...</td>\n",
              "      <td></td>\n",
              "      <td>https://api.github.com/users/web-flow</td>\n",
              "      <td>https://github.com/web-flow</td>\n",
              "      <td>https://api.github.com/users/web-flow/followers</td>\n",
              "      <td>https://api.github.com/users/web-flow/followin...</td>\n",
              "      <td>https://api.github.com/users/web-flow/gists{/g...</td>\n",
              "      <td>https://api.github.com/users/web-flow/starred{...</td>\n",
              "      <td>https://api.github.com/users/web-flow/subscrip...</td>\n",
              "      <td>https://api.github.com/users/web-flow/orgs</td>\n",
              "      <td>https://api.github.com/users/web-flow/repos</td>\n",
              "      <td>https://api.github.com/users/web-flow/events{/...</td>\n",
              "      <td>https://api.github.com/users/web-flow/received...</td>\n",
              "      <td>User</td>\n",
              "      <td>False</td>\n",
              "      <td></td>\n",
              "      <td></td>\n",
              "    </tr>\n",
              "    <tr>\n",
              "      <th>2</th>\n",
              "      <td>2</td>\n",
              "      <td>968081d61b6abe18cd0dc14a42704afdf4831708</td>\n",
              "      <td>MDY6Q29tbWl0MTA1NzAyNjMxOjk2ODA4MWQ2MWI2YWJlMT...</td>\n",
              "      <td>https://api.github.com/repos/IBM/plex/commits/...</td>\n",
              "      <td>https://github.com/IBM/plex/commit/968081d61b6...</td>\n",
              "      <td>https://api.github.com/repos/IBM/plex/commits/...</td>\n",
              "      <td>[{'sha': 'cd46d0c4d5074736950d32ae2f62d0ae17fa...</td>\n",
              "      <td>Vince Picone</td>\n",
              "      <td>Vincent.Patrick.Picone@ibm.com</td>\n",
              "      <td>2020-06-08T17:15:33Z</td>\n",
              "      <td>Vince Picone</td>\n",
              "      <td>Vincent.Patrick.Picone@ibm.com</td>\n",
              "      <td>2020-06-08T17:15:33Z</td>\n",
              "      <td>5.0.0</td>\n",
              "      <td>409a2d2e56c6b6be9108471790f1980b2d5addab</td>\n",
              "      <td>https://api.github.com/repos/IBM/plex/git/tree...</td>\n",
              "      <td>https://api.github.com/repos/IBM/plex/git/comm...</td>\n",
              "      <td>0</td>\n",
              "      <td>False</td>\n",
              "      <td>unsigned</td>\n",
              "      <td></td>\n",
              "      <td></td>\n",
              "      <td></td>\n",
              "      <td></td>\n",
              "      <td></td>\n",
              "      <td></td>\n",
              "      <td></td>\n",
              "      <td></td>\n",
              "      <td></td>\n",
              "      <td></td>\n",
              "      <td></td>\n",
              "      <td></td>\n",
              "      <td></td>\n",
              "      <td></td>\n",
              "      <td></td>\n",
              "      <td></td>\n",
              "      <td></td>\n",
              "      <td></td>\n",
              "      <td></td>\n",
              "      <td></td>\n",
              "      <td></td>\n",
              "      <td></td>\n",
              "      <td></td>\n",
              "      <td></td>\n",
              "      <td></td>\n",
              "      <td></td>\n",
              "      <td></td>\n",
              "      <td></td>\n",
              "      <td></td>\n",
              "      <td></td>\n",
              "      <td></td>\n",
              "      <td></td>\n",
              "      <td></td>\n",
              "      <td></td>\n",
              "      <td></td>\n",
              "      <td></td>\n",
              "      <td></td>\n",
              "      <td></td>\n",
              "      <td></td>\n",
              "      <td></td>\n",
              "    </tr>\n",
              "    <tr>\n",
              "      <th>3</th>\n",
              "      <td>3</td>\n",
              "      <td>cd46d0c4d5074736950d32ae2f62d0ae17fa01d4</td>\n",
              "      <td>MDY6Q29tbWl0MTA1NzAyNjMxOmNkNDZkMGM0ZDUwNzQ3Mz...</td>\n",
              "      <td>https://api.github.com/repos/IBM/plex/commits/...</td>\n",
              "      <td>https://github.com/IBM/plex/commit/cd46d0c4d50...</td>\n",
              "      <td>https://api.github.com/repos/IBM/plex/commits/...</td>\n",
              "      <td>[{'sha': '6a3c09178035d2cc0503acd35c64d6f6dafb...</td>\n",
              "      <td>Vince Picone</td>\n",
              "      <td>vpicone@gmail.com</td>\n",
              "      <td>2020-06-08T16:42:11Z</td>\n",
              "      <td>GitHub</td>\n",
              "      <td>noreply@github.com</td>\n",
              "      <td>2020-06-08T16:42:11Z</td>\n",
              "      <td>Merge pull request #315 from vpicone/cross-lan...</td>\n",
              "      <td>debd4c51481ea01f6738f79b07407d00752f8d13</td>\n",
              "      <td>https://api.github.com/repos/IBM/plex/git/tree...</td>\n",
              "      <td>https://api.github.com/repos/IBM/plex/git/comm...</td>\n",
              "      <td>0</td>\n",
              "      <td>True</td>\n",
              "      <td>valid</td>\n",
              "      <td>-----BEGIN PGP SIGNATURE-----\\n\\nwsBcBAABCAAQB...</td>\n",
              "      <td>tree debd4c51481ea01f6738f79b07407d00752f8d13\\...</td>\n",
              "      <td>vpicone</td>\n",
              "      <td>4078018.0</td>\n",
              "      <td>MDQ6VXNlcjQwNzgwMTg=</td>\n",
              "      <td>https://avatars1.githubusercontent.com/u/40780...</td>\n",
              "      <td></td>\n",
              "      <td>https://api.github.com/users/vpicone</td>\n",
              "      <td>https://github.com/vpicone</td>\n",
              "      <td>https://api.github.com/users/vpicone/followers</td>\n",
              "      <td>https://api.github.com/users/vpicone/following...</td>\n",
              "      <td>https://api.github.com/users/vpicone/gists{/gi...</td>\n",
              "      <td>https://api.github.com/users/vpicone/starred{/...</td>\n",
              "      <td>https://api.github.com/users/vpicone/subscript...</td>\n",
              "      <td>https://api.github.com/users/vpicone/orgs</td>\n",
              "      <td>https://api.github.com/users/vpicone/repos</td>\n",
              "      <td>https://api.github.com/users/vpicone/events{/p...</td>\n",
              "      <td>https://api.github.com/users/vpicone/received_...</td>\n",
              "      <td>User</td>\n",
              "      <td>False</td>\n",
              "      <td>web-flow</td>\n",
              "      <td>19864447.0</td>\n",
              "      <td>MDQ6VXNlcjE5ODY0NDQ3</td>\n",
              "      <td>https://avatars3.githubusercontent.com/u/19864...</td>\n",
              "      <td></td>\n",
              "      <td>https://api.github.com/users/web-flow</td>\n",
              "      <td>https://github.com/web-flow</td>\n",
              "      <td>https://api.github.com/users/web-flow/followers</td>\n",
              "      <td>https://api.github.com/users/web-flow/followin...</td>\n",
              "      <td>https://api.github.com/users/web-flow/gists{/g...</td>\n",
              "      <td>https://api.github.com/users/web-flow/starred{...</td>\n",
              "      <td>https://api.github.com/users/web-flow/subscrip...</td>\n",
              "      <td>https://api.github.com/users/web-flow/orgs</td>\n",
              "      <td>https://api.github.com/users/web-flow/repos</td>\n",
              "      <td>https://api.github.com/users/web-flow/events{/...</td>\n",
              "      <td>https://api.github.com/users/web-flow/received...</td>\n",
              "      <td>User</td>\n",
              "      <td>False</td>\n",
              "      <td></td>\n",
              "      <td></td>\n",
              "    </tr>\n",
              "    <tr>\n",
              "      <th>4</th>\n",
              "      <td>4</td>\n",
              "      <td>e131c864d7cf500828cd08be657de4829880f197</td>\n",
              "      <td>MDY6Q29tbWl0MTA1NzAyNjMxOmUxMzFjODY0ZDdjZjUwMD...</td>\n",
              "      <td>https://api.github.com/repos/IBM/plex/commits/...</td>\n",
              "      <td>https://github.com/IBM/plex/commit/e131c864d7c...</td>\n",
              "      <td>https://api.github.com/repos/IBM/plex/commits/...</td>\n",
              "      <td>[{'sha': '612b878e01e31ec221017d973eee1df53078...</td>\n",
              "      <td>Vince Picone</td>\n",
              "      <td>Vincent.Patrick.Picone@ibm.com</td>\n",
              "      <td>2020-06-06T20:27:05Z</td>\n",
              "      <td>Vince Picone</td>\n",
              "      <td>Vincent.Patrick.Picone@ibm.com</td>\n",
              "      <td>2020-06-06T20:27:05Z</td>\n",
              "      <td>fix: tweak zip script to handle korean and var...</td>\n",
              "      <td>debd4c51481ea01f6738f79b07407d00752f8d13</td>\n",
              "      <td>https://api.github.com/repos/IBM/plex/git/tree...</td>\n",
              "      <td>https://api.github.com/repos/IBM/plex/git/comm...</td>\n",
              "      <td>0</td>\n",
              "      <td>False</td>\n",
              "      <td>unsigned</td>\n",
              "      <td></td>\n",
              "      <td></td>\n",
              "      <td></td>\n",
              "      <td></td>\n",
              "      <td></td>\n",
              "      <td></td>\n",
              "      <td></td>\n",
              "      <td></td>\n",
              "      <td></td>\n",
              "      <td></td>\n",
              "      <td></td>\n",
              "      <td></td>\n",
              "      <td></td>\n",
              "      <td></td>\n",
              "      <td></td>\n",
              "      <td></td>\n",
              "      <td></td>\n",
              "      <td></td>\n",
              "      <td></td>\n",
              "      <td></td>\n",
              "      <td></td>\n",
              "      <td></td>\n",
              "      <td></td>\n",
              "      <td></td>\n",
              "      <td></td>\n",
              "      <td></td>\n",
              "      <td></td>\n",
              "      <td></td>\n",
              "      <td></td>\n",
              "      <td></td>\n",
              "      <td></td>\n",
              "      <td></td>\n",
              "      <td></td>\n",
              "      <td></td>\n",
              "      <td></td>\n",
              "      <td></td>\n",
              "      <td></td>\n",
              "      <td></td>\n",
              "      <td></td>\n",
              "      <td></td>\n",
              "    </tr>\n",
              "  </tbody>\n",
              "</table>\n",
              "</div>"
            ],
            "text/plain": [
              "   Unnamed: 0                                       sha  ... author committer\n",
              "0           0  3fbdb5dd75d74379b7fba47dd889a1eb70771d73  ...                 \n",
              "1           1  f90d92225eda9e0056d13446cc979a83e11bd0a1  ...                 \n",
              "2           2  968081d61b6abe18cd0dc14a42704afdf4831708  ...                 \n",
              "3           3  cd46d0c4d5074736950d32ae2f62d0ae17fa01d4  ...                 \n",
              "4           4  e131c864d7cf500828cd08be657de4829880f197  ...                 \n",
              "\n",
              "[5 rows x 60 columns]"
            ]
          },
          "metadata": {
            "tags": []
          },
          "execution_count": 130
        }
      ]
    },
    {
      "cell_type": "code",
      "metadata": {
        "id": "SBCmn2UjUPS-",
        "colab_type": "code",
        "colab": {
          "base_uri": "https://localhost:8080/",
          "height": 1000
        },
        "outputId": "de18c472-bdaf-4f29-fae8-d12483d78161"
      },
      "source": [
        "file_commits_csv.info()"
      ],
      "execution_count": 131,
      "outputs": [
        {
          "output_type": "stream",
          "text": [
            "<class 'pandas.core.frame.DataFrame'>\n",
            "RangeIndex: 30 entries, 0 to 29\n",
            "Data columns (total 60 columns):\n",
            " #   Column                         Non-Null Count  Dtype \n",
            "---  ------                         --------------  ----- \n",
            " 0   Unnamed: 0                     30 non-null     int64 \n",
            " 1   sha                            30 non-null     object\n",
            " 2   node_id                        30 non-null     object\n",
            " 3   url                            30 non-null     object\n",
            " 4   html_url                       30 non-null     object\n",
            " 5   comments_url                   30 non-null     object\n",
            " 6   parents                        30 non-null     object\n",
            " 7   commit.author.name             30 non-null     object\n",
            " 8   commit.author.email            30 non-null     object\n",
            " 9   commit.author.date             30 non-null     object\n",
            " 10  commit.committer.name          30 non-null     object\n",
            " 11  commit.committer.email         30 non-null     object\n",
            " 12  commit.committer.date          30 non-null     object\n",
            " 13  commit.message                 30 non-null     object\n",
            " 14  commit.tree.sha                30 non-null     object\n",
            " 15  commit.tree.url                30 non-null     object\n",
            " 16  commit.url                     30 non-null     object\n",
            " 17  commit.comment_count           30 non-null     int64 \n",
            " 18  commit.verification.verified   30 non-null     bool  \n",
            " 19  commit.verification.reason     30 non-null     object\n",
            " 20  commit.verification.signature  30 non-null     object\n",
            " 21  commit.verification.payload    30 non-null     object\n",
            " 22  author.login                   30 non-null     object\n",
            " 23  author.id                      30 non-null     object\n",
            " 24  author.node_id                 30 non-null     object\n",
            " 25  author.avatar_url              30 non-null     object\n",
            " 26  author.gravatar_id             30 non-null     object\n",
            " 27  author.url                     30 non-null     object\n",
            " 28  author.html_url                30 non-null     object\n",
            " 29  author.followers_url           30 non-null     object\n",
            " 30  author.following_url           30 non-null     object\n",
            " 31  author.gists_url               30 non-null     object\n",
            " 32  author.starred_url             30 non-null     object\n",
            " 33  author.subscriptions_url       30 non-null     object\n",
            " 34  author.organizations_url       30 non-null     object\n",
            " 35  author.repos_url               30 non-null     object\n",
            " 36  author.events_url              30 non-null     object\n",
            " 37  author.received_events_url     30 non-null     object\n",
            " 38  author.type                    30 non-null     object\n",
            " 39  author.site_admin              30 non-null     object\n",
            " 40  committer.login                30 non-null     object\n",
            " 41  committer.id                   30 non-null     object\n",
            " 42  committer.node_id              30 non-null     object\n",
            " 43  committer.avatar_url           30 non-null     object\n",
            " 44  committer.gravatar_id          30 non-null     object\n",
            " 45  committer.url                  30 non-null     object\n",
            " 46  committer.html_url             30 non-null     object\n",
            " 47  committer.followers_url        30 non-null     object\n",
            " 48  committer.following_url        30 non-null     object\n",
            " 49  committer.gists_url            30 non-null     object\n",
            " 50  committer.starred_url          30 non-null     object\n",
            " 51  committer.subscriptions_url    30 non-null     object\n",
            " 52  committer.organizations_url    30 non-null     object\n",
            " 53  committer.repos_url            30 non-null     object\n",
            " 54  committer.events_url           30 non-null     object\n",
            " 55  committer.received_events_url  30 non-null     object\n",
            " 56  committer.type                 30 non-null     object\n",
            " 57  committer.site_admin           30 non-null     object\n",
            " 58  author                         30 non-null     object\n",
            " 59  committer                      30 non-null     object\n",
            "dtypes: bool(1), int64(2), object(57)\n",
            "memory usage: 14.0+ KB\n"
          ],
          "name": "stdout"
        }
      ]
    },
    {
      "cell_type": "markdown",
      "metadata": {
        "id": "TDsWgWOSgeQb",
        "colab_type": "text"
      },
      "source": [
        "Converting a column with time-based data"
      ]
    },
    {
      "cell_type": "code",
      "metadata": {
        "id": "NGD35B92ewbx",
        "colab_type": "code",
        "colab": {}
      },
      "source": [
        "file_commits_csv['commit.author.date'] = pd.to_datetime(file_commits_csv['commit.author.date'], format='%Y-%m-%d')"
      ],
      "execution_count": 132,
      "outputs": []
    },
    {
      "cell_type": "markdown",
      "metadata": {
        "id": "a3Sl8xxKmtlW",
        "colab_type": "text"
      },
      "source": [
        "Reducing the amount of columns:\n",
        "\n"
      ]
    },
    {
      "cell_type": "code",
      "metadata": {
        "id": "35BKjfdzTX2l",
        "colab_type": "code",
        "colab": {
          "base_uri": "https://localhost:8080/",
          "height": 204
        },
        "outputId": "b617271d-5234-4bb6-fbbb-b6ac5743a966"
      },
      "source": [
        "df_commits_reduced = file_commits_csv[[\"commit.author.name\", \"commit.author.date\", \"commit.message\", \"node_id\"]]\n",
        "df_commits_reduced.info()"
      ],
      "execution_count": 133,
      "outputs": [
        {
          "output_type": "stream",
          "text": [
            "<class 'pandas.core.frame.DataFrame'>\n",
            "RangeIndex: 30 entries, 0 to 29\n",
            "Data columns (total 4 columns):\n",
            " #   Column              Non-Null Count  Dtype              \n",
            "---  ------              --------------  -----              \n",
            " 0   commit.author.name  30 non-null     object             \n",
            " 1   commit.author.date  30 non-null     datetime64[ns, UTC]\n",
            " 2   commit.message      30 non-null     object             \n",
            " 3   node_id             30 non-null     object             \n",
            "dtypes: datetime64[ns, UTC](1), object(3)\n",
            "memory usage: 1.1+ KB\n"
          ],
          "name": "stdout"
        }
      ]
    },
    {
      "cell_type": "markdown",
      "metadata": {
        "id": "MIWXf5zyzVzi",
        "colab_type": "text"
      },
      "source": [
        "Renaming the columns. It was made in order to avoid periods in the column names. Thanks for Marian's help. Later I found an explanation https://altair-viz.github.io/user_guide/troubleshooting.html#encodings-with-special-characters"
      ]
    },
    {
      "cell_type": "code",
      "metadata": {
        "id": "rCbwxP-Ozi5U",
        "colab_type": "code",
        "colab": {}
      },
      "source": [
        "df_commits_reduced.columns = [\"commit-author-name\", \"commit-author-date\", \"commit-message\", \"node_id\"]"
      ],
      "execution_count": 134,
      "outputs": []
    },
    {
      "cell_type": "markdown",
      "metadata": {
        "id": "05K0vSXLbfdc",
        "colab_type": "text"
      },
      "source": [
        "Adding a column with an int value in order to count the amount of items. Prabably a cheap trick\n"
      ]
    },
    {
      "cell_type": "code",
      "metadata": {
        "id": "6aw2DSZTf6gy",
        "colab_type": "code",
        "colab": {
          "base_uri": "https://localhost:8080/",
          "height": 139
        },
        "outputId": "a5135406-a798-4402-b383-98144fe011cf"
      },
      "source": [
        "df_commits_reduced['value'] = 1"
      ],
      "execution_count": 135,
      "outputs": [
        {
          "output_type": "stream",
          "text": [
            "/usr/local/lib/python3.6/dist-packages/ipykernel_launcher.py:1: SettingWithCopyWarning: \n",
            "A value is trying to be set on a copy of a slice from a DataFrame.\n",
            "Try using .loc[row_indexer,col_indexer] = value instead\n",
            "\n",
            "See the caveats in the documentation: https://pandas.pydata.org/pandas-docs/stable/user_guide/indexing.html#returning-a-view-versus-a-copy\n",
            "  \"\"\"Entry point for launching an IPython kernel.\n"
          ],
          "name": "stderr"
        }
      ]
    },
    {
      "cell_type": "code",
      "metadata": {
        "id": "aW8ZY7urc3lv",
        "colab_type": "code",
        "colab": {
          "base_uri": "https://localhost:8080/",
          "height": 221
        },
        "outputId": "3106f3ac-4de6-4f63-def3-7be05db053bd"
      },
      "source": [
        "df_commits_reduced.info()"
      ],
      "execution_count": 136,
      "outputs": [
        {
          "output_type": "stream",
          "text": [
            "<class 'pandas.core.frame.DataFrame'>\n",
            "RangeIndex: 30 entries, 0 to 29\n",
            "Data columns (total 5 columns):\n",
            " #   Column              Non-Null Count  Dtype              \n",
            "---  ------              --------------  -----              \n",
            " 0   commit-author-name  30 non-null     object             \n",
            " 1   commit-author-date  30 non-null     datetime64[ns, UTC]\n",
            " 2   commit-message      30 non-null     object             \n",
            " 3   node_id             30 non-null     object             \n",
            " 4   value               30 non-null     int64              \n",
            "dtypes: datetime64[ns, UTC](1), int64(1), object(3)\n",
            "memory usage: 1.3+ KB\n"
          ],
          "name": "stdout"
        }
      ]
    },
    {
      "cell_type": "markdown",
      "metadata": {
        "id": "xLB8tXIfTUG9",
        "colab_type": "text"
      },
      "source": [
        "Here I made an overview to figure out how diverse is the list of contributors:"
      ]
    },
    {
      "cell_type": "code",
      "metadata": {
        "id": "7gl-VfbJyNKi",
        "colab_type": "code",
        "colab": {
          "base_uri": "https://localhost:8080/",
          "height": 204
        },
        "outputId": "d8afeaec-c3f4-40d0-eb18-a6043bcf4f2d"
      },
      "source": [
        "df_repo_groupby_name = df_commits_reduced.groupby('commit-author-name').count()\n",
        "df_repo_groupby_name"
      ],
      "execution_count": 137,
      "outputs": [
        {
          "output_type": "execute_result",
          "data": {
            "text/html": [
              "<div>\n",
              "<style scoped>\n",
              "    .dataframe tbody tr th:only-of-type {\n",
              "        vertical-align: middle;\n",
              "    }\n",
              "\n",
              "    .dataframe tbody tr th {\n",
              "        vertical-align: top;\n",
              "    }\n",
              "\n",
              "    .dataframe thead th {\n",
              "        text-align: right;\n",
              "    }\n",
              "</style>\n",
              "<table border=\"1\" class=\"dataframe\">\n",
              "  <thead>\n",
              "    <tr style=\"text-align: right;\">\n",
              "      <th></th>\n",
              "      <th>commit-author-date</th>\n",
              "      <th>commit-message</th>\n",
              "      <th>node_id</th>\n",
              "      <th>value</th>\n",
              "    </tr>\n",
              "    <tr>\n",
              "      <th>commit-author-name</th>\n",
              "      <th></th>\n",
              "      <th></th>\n",
              "      <th></th>\n",
              "      <th></th>\n",
              "    </tr>\n",
              "  </thead>\n",
              "  <tbody>\n",
              "    <tr>\n",
              "      <th>LMapes</th>\n",
              "      <td>1</td>\n",
              "      <td>1</td>\n",
              "      <td>1</td>\n",
              "      <td>1</td>\n",
              "    </tr>\n",
              "    <tr>\n",
              "      <th>Mike Abbink</th>\n",
              "      <td>1</td>\n",
              "      <td>1</td>\n",
              "      <td>1</td>\n",
              "      <td>1</td>\n",
              "    </tr>\n",
              "    <tr>\n",
              "      <th>Thai Pangsakulyanont</th>\n",
              "      <td>1</td>\n",
              "      <td>1</td>\n",
              "      <td>1</td>\n",
              "      <td>1</td>\n",
              "    </tr>\n",
              "    <tr>\n",
              "      <th>Vince Picone</th>\n",
              "      <td>27</td>\n",
              "      <td>27</td>\n",
              "      <td>27</td>\n",
              "      <td>27</td>\n",
              "    </tr>\n",
              "  </tbody>\n",
              "</table>\n",
              "</div>"
            ],
            "text/plain": [
              "                      commit-author-date  commit-message  node_id  value\n",
              "commit-author-name                                                      \n",
              "LMapes                                 1               1        1      1\n",
              "Mike Abbink                            1               1        1      1\n",
              "Thai Pangsakulyanont                   1               1        1      1\n",
              "Vince Picone                          27              27       27     27"
            ]
          },
          "metadata": {
            "tags": []
          },
          "execution_count": 137
        }
      ]
    },
    {
      "cell_type": "markdown",
      "metadata": {
        "id": "KNQg9L53z7vE",
        "colab_type": "text"
      },
      "source": [
        "## Visualisations\n",
        "\n"
      ]
    },
    {
      "cell_type": "markdown",
      "metadata": {
        "id": "8xeF4efjTl3b",
        "colab_type": "text"
      },
      "source": [
        "Let's visualise the dataset. Since I'm presenting a dataset that changes over time I've choosen streamgraph to show the repo overview."
      ]
    },
    {
      "cell_type": "code",
      "metadata": {
        "id": "h6wOweGKr5YW",
        "colab_type": "code",
        "colab": {
          "base_uri": "https://localhost:8080/",
          "height": 458
        },
        "outputId": "8f13d456-9cf7-4044-b4b8-a5842a934bb4"
      },
      "source": [
        "alt.Chart(df_commits_reduced).mark_area(interpolate='monotone',\n",
        "    fillOpacity=0.8,\n",
        "    stroke='white',\n",
        "    strokeWidth=0.2).encode(\n",
        "    alt.X('monthdate(commit-author-date):T',\n",
        "        axis=alt.Axis(format='%d.%m.%Y', domain=False, tickSize=0, title='Date')\n",
        "    ),\n",
        "    alt.Y('sum(value):Q', stack='center', axis=None, title='Commits'),\n",
        "    alt.Color('commit-author-name:N', title='Author Name',\n",
        "        scale=alt.Scale(scheme='category20b')\n",
        "    ),\n",
        "    tooltip = ['commit-author-name:N'],\n",
        ").properties(\n",
        "    width=800,\n",
        "    height=400\n",
        ").interactive()"
      ],
      "execution_count": 138,
      "outputs": [
        {
          "output_type": "execute_result",
          "data": {
            "text/plain": [
              "alt.Chart(...)"
            ],
            "text/html": [
              "\n",
              "<div id=\"altair-viz-625002e7647f4af09e1ef8b88b99cf8c\"></div>\n",
              "<script type=\"text/javascript\">\n",
              "  (function(spec, embedOpt){\n",
              "    let outputDiv = document.currentScript.previousElementSibling;\n",
              "    if (outputDiv.id !== \"altair-viz-625002e7647f4af09e1ef8b88b99cf8c\") {\n",
              "      outputDiv = document.getElementById(\"altair-viz-625002e7647f4af09e1ef8b88b99cf8c\");\n",
              "    }\n",
              "    const paths = {\n",
              "      \"vega\": \"https://cdn.jsdelivr.net/npm//vega@5?noext\",\n",
              "      \"vega-lib\": \"https://cdn.jsdelivr.net/npm//vega-lib?noext\",\n",
              "      \"vega-lite\": \"https://cdn.jsdelivr.net/npm//vega-lite@4.8.1?noext\",\n",
              "      \"vega-embed\": \"https://cdn.jsdelivr.net/npm//vega-embed@6?noext\",\n",
              "    };\n",
              "\n",
              "    function loadScript(lib) {\n",
              "      return new Promise(function(resolve, reject) {\n",
              "        var s = document.createElement('script');\n",
              "        s.src = paths[lib];\n",
              "        s.async = true;\n",
              "        s.onload = () => resolve(paths[lib]);\n",
              "        s.onerror = () => reject(`Error loading script: ${paths[lib]}`);\n",
              "        document.getElementsByTagName(\"head\")[0].appendChild(s);\n",
              "      });\n",
              "    }\n",
              "\n",
              "    function showError(err) {\n",
              "      outputDiv.innerHTML = `<div class=\"error\" style=\"color:red;\">${err}</div>`;\n",
              "      throw err;\n",
              "    }\n",
              "\n",
              "    function displayChart(vegaEmbed) {\n",
              "      vegaEmbed(outputDiv, spec, embedOpt)\n",
              "        .catch(err => showError(`Javascript Error: ${err.message}<br>This usually means there's a typo in your chart specification. See the javascript console for the full traceback.`));\n",
              "    }\n",
              "\n",
              "    if(typeof define === \"function\" && define.amd) {\n",
              "      requirejs.config({paths});\n",
              "      require([\"vega-embed\"], displayChart, err => showError(`Error loading script: ${err.message}`));\n",
              "    } else if (typeof vegaEmbed === \"function\") {\n",
              "      displayChart(vegaEmbed);\n",
              "    } else {\n",
              "      loadScript(\"vega\")\n",
              "        .then(() => loadScript(\"vega-lite\"))\n",
              "        .then(() => loadScript(\"vega-embed\"))\n",
              "        .catch(showError)\n",
              "        .then(() => displayChart(vegaEmbed));\n",
              "    }\n",
              "  })({\"config\": {\"view\": {\"continuousWidth\": 400, \"continuousHeight\": 300}}, \"data\": {\"name\": \"data-ca17941a7b85cd8f90c904bee7aa0546\"}, \"mark\": {\"type\": \"area\", \"fillOpacity\": 0.8, \"interpolate\": \"monotone\", \"stroke\": \"white\", \"strokeWidth\": 0.2}, \"encoding\": {\"color\": {\"type\": \"nominal\", \"field\": \"commit-author-name\", \"scale\": {\"scheme\": \"category20b\"}, \"title\": \"Author Name\"}, \"tooltip\": [{\"type\": \"nominal\", \"field\": \"commit-author-name\"}], \"x\": {\"type\": \"temporal\", \"axis\": {\"domain\": false, \"format\": \"%d.%m.%Y\", \"tickSize\": 0, \"title\": \"Date\"}, \"field\": \"commit-author-date\", \"timeUnit\": \"monthdate\"}, \"y\": {\"type\": \"quantitative\", \"aggregate\": \"sum\", \"axis\": null, \"field\": \"value\", \"stack\": \"center\", \"title\": \"Commits\"}}, \"height\": 400, \"selection\": {\"selector007\": {\"type\": \"interval\", \"bind\": \"scales\", \"encodings\": [\"x\", \"y\"]}}, \"width\": 800, \"$schema\": \"https://vega.github.io/schema/vega-lite/v4.8.1.json\", \"datasets\": {\"data-ca17941a7b85cd8f90c904bee7aa0546\": [{\"commit-author-name\": \"Vince Picone\", \"commit-author-date\": \"2020-06-30T23:58:27+00:00\", \"commit-message\": \"Merge pull request #323 from dtinth/patch-1\\n\\nAdd \\\"main\\\" field to \\\"package.json\\\"\", \"node_id\": \"MDY6Q29tbWl0MTA1NzAyNjMxOjNmYmRiNWRkNzVkNzQzNzliN2ZiYTQ3ZGQ4ODlhMWViNzA3NzFkNzM=\", \"value\": 1}, {\"commit-author-name\": \"Thai Pangsakulyanont\", \"commit-author-date\": \"2020-06-21T12:56:02+00:00\", \"commit-message\": \"Add \\\"main\\\" field to \\\"package.json\\\"\\n\\nThis allows the package\\u2019s CSS to be consumed directly, following how the typefaces project does it: https://github.com/KyleAMathews/typefaces\", \"node_id\": \"MDY6Q29tbWl0MTA1NzAyNjMxOmY5MGQ5MjIyNWVkYTllMDA1NmQxMzQ0NmNjOTc5YTgzZTExYmQwYTE=\", \"value\": 1}, {\"commit-author-name\": \"Vince Picone\", \"commit-author-date\": \"2020-06-08T17:15:33+00:00\", \"commit-message\": \"5.0.0\", \"node_id\": \"MDY6Q29tbWl0MTA1NzAyNjMxOjk2ODA4MWQ2MWI2YWJlMThjZDBkYzE0YTQyNzA0YWZkZjQ4MzE3MDg=\", \"value\": 1}, {\"commit-author-name\": \"Vince Picone\", \"commit-author-date\": \"2020-06-08T16:42:11+00:00\", \"commit-message\": \"Merge pull request #315 from vpicone/cross-language-update\", \"node_id\": \"MDY6Q29tbWl0MTA1NzAyNjMxOmNkNDZkMGM0ZDUwNzQ3MzY5NTBkMzJhZTJmNjJkMGFlMTdmYTAxZDQ=\", \"value\": 1}, {\"commit-author-name\": \"Vince Picone\", \"commit-author-date\": \"2020-06-06T20:27:05+00:00\", \"commit-message\": \"fix: tweak zip script to handle korean and variable\", \"node_id\": \"MDY6Q29tbWl0MTA1NzAyNjMxOmUxMzFjODY0ZDdjZjUwMDgyOGNkMDhiZTY1N2RlNDgyOTg4MGYxOTc=\", \"value\": 1}, {\"commit-author-name\": \"Vince Picone\", \"commit-author-date\": \"2020-06-01T21:31:54+00:00\", \"commit-message\": \"fix: temporarily exclude korean from zip\", \"node_id\": \"MDY6Q29tbWl0MTA1NzAyNjMxOjYxMmI4NzhlMDFlMzFlYzIyMTAxN2Q5NzNlZWUxZGY1MzA3ODVhMmQ=\", \"value\": 1}, {\"commit-author-name\": \"Vince Picone\", \"commit-author-date\": \"2020-06-01T21:23:50+00:00\", \"commit-message\": \"feat: add korean\", \"node_id\": \"MDY6Q29tbWl0MTA1NzAyNjMxOmFkNWNkN2ZlZGRkZWIxMjYzNjAzNWFjYjZkOWJlYTliNTAwY2E3MDk=\", \"value\": 1}, {\"commit-author-name\": \"Vince Picone\", \"commit-author-date\": \"2020-05-29T21:11:44+00:00\", \"commit-message\": \"fix: change internal family name for condensed, add glyphs\", \"node_id\": \"MDY6Q29tbWl0MTA1NzAyNjMxOjIyYTlhMzllMDcwYjJlZmRhMDIyNWIyMzBkZTA5NDRiZmE4OTM5M2Y=\", \"value\": 1}, {\"commit-author-name\": \"Vince Picone\", \"commit-author-date\": \"2020-05-29T21:05:56+00:00\", \"commit-message\": \"fix(Serif): vertical metrics and glyph additions\", \"node_id\": \"MDY6Q29tbWl0MTA1NzAyNjMxOjFjNjU0ZDQwMzYwY2Q1NTkxNTdiOGZkNjkwNGU4NjJlODA1NzljOTM=\", \"value\": 1}, {\"commit-author-name\": \"Vince Picone\", \"commit-author-date\": \"2020-05-29T21:03:33+00:00\", \"commit-message\": \"fix(Sans): new glyphs, fixed vertical metrics\", \"node_id\": \"MDY6Q29tbWl0MTA1NzAyNjMxOjc2YzM0MTgxOTM5OGU1MzM4YTBkZTZhYjA2MmZkYjNmYzE1MzFkYmY=\", \"value\": 1}, {\"commit-author-name\": \"Vince Picone\", \"commit-author-date\": \"2020-05-29T20:56:13+00:00\", \"commit-message\": \"feat: mono update\", \"node_id\": \"MDY6Q29tbWl0MTA1NzAyNjMxOjNjM2UwMGUzYjA4OWEwY2M5YWNjMDRlMzY2ZDY4NjJhNTA2YmVlOTE=\", \"value\": 1}, {\"commit-author-name\": \"LMapes\", \"commit-author-date\": \"2020-05-12T17:20:44+00:00\", \"commit-message\": \"Update README.md (#310)\\n\\n* Update README.md\\n\\nThis change includes new non-Latin fonts and updates content based on the IBM Style guide.\\n\\n* Update README.md\\n\\nHi Vince, this is ready to merge now.\\n\\n* Update README.md\\n\\nChange to one sentence per Mike Abbink.\", \"node_id\": \"MDY6Q29tbWl0MTA1NzAyNjMxOjZhM2MwOTE3ODAzNWQyY2MwNTAzYWNkMzVjNjRkNmY2ZGFmYjRiNzc=\", \"value\": 1}, {\"commit-author-name\": \"Vince Picone\", \"commit-author-date\": \"2019-12-09T21:49:34+00:00\", \"commit-message\": \"4.0.2\", \"node_id\": \"MDY6Q29tbWl0MTA1NzAyNjMxOmVmMGFiNDk5ODMyOWUxN2UzNGU5YWFhMzAxYjNlYmJlNDAzNWQ3MDk=\", \"value\": 1}, {\"commit-author-name\": \"Vince Picone\", \"commit-author-date\": \"2019-12-09T21:48:01+00:00\", \"commit-message\": \"fix: update using new hebrew fixes (#289)\\n\\nfix: update using new hebrew fixes\", \"node_id\": \"MDY6Q29tbWl0MTA1NzAyNjMxOmVjZTkzZmIyMzEwYjc5MWJmMjI5YTZmNGE5NGY3MTk1ZjMwMGJhN2Y=\", \"value\": 1}, {\"commit-author-name\": \"Vince Picone\", \"commit-author-date\": \"2019-12-09T21:43:01+00:00\", \"commit-message\": \"fix: update using new hebrew fixes\", \"node_id\": \"MDY6Q29tbWl0MTA1NzAyNjMxOjYzYTk0YWQzYjE0M2VlMDQ2ZGJjNzA1MDRmMGFkOTM0MGMwNWY1ZjQ=\", \"value\": 1}, {\"commit-author-name\": \"Vince Picone\", \"commit-author-date\": \"2019-11-25T15:42:50+00:00\", \"commit-message\": \"Update README.md\", \"node_id\": \"MDY6Q29tbWl0MTA1NzAyNjMxOmUxNjVkYmMxNGIwNDdjYTc0YjMyZTQ1YzlkYTZkYzI2MjU0MDVmZTU=\", \"value\": 1}, {\"commit-author-name\": \"Mike Abbink\", \"commit-author-date\": \"2019-11-23T11:32:27+00:00\", \"commit-message\": \"Update README.md\", \"node_id\": \"MDY6Q29tbWl0MTA1NzAyNjMxOjY2ZGJkZTQwODA4YzRkZmE0OTllN2NmOTg4MmFiNGY1YjY3YTdiN2U=\", \"value\": 1}, {\"commit-author-name\": \"Vince Picone\", \"commit-author-date\": \"2019-11-18T16:30:10+00:00\", \"commit-message\": \"Update CHANGELOG.md\", \"node_id\": \"MDY6Q29tbWl0MTA1NzAyNjMxOjU0OWRlOWM3Zjk4MWI0MDU2ZjU2YzhlNjE4ZTdmZjgyNGUxYjQwMDA=\", \"value\": 1}, {\"commit-author-name\": \"Vince Picone\", \"commit-author-date\": \"2019-11-18T16:29:14+00:00\", \"commit-message\": \"Update CHANGELOG.md\", \"node_id\": \"MDY6Q29tbWl0MTA1NzAyNjMxOjc0YTQ5OTA4MWQwNGNhOThjOWRmYzI2ZWNmYTI5ZjljZTFmZDk1NmE=\", \"value\": 1}, {\"commit-author-name\": \"Vince Picone\", \"commit-author-date\": \"2019-11-18T16:15:37+00:00\", \"commit-message\": \"4.0.1\", \"node_id\": \"MDY6Q29tbWl0MTA1NzAyNjMxOmU4MDVlYjQxMDZlYzdlYTAxOTE2ZGNlOTAxMmZjNzViODQ2OThlNjA=\", \"value\": 1}, {\"commit-author-name\": \"Vince Picone\", \"commit-author-date\": \"2019-11-18T16:03:37+00:00\", \"commit-message\": \"4.0.0\", \"node_id\": \"MDY6Q29tbWl0MTA1NzAyNjMxOjg3N2NkMzMxYTcwNzg2NGQ3MGFmOWFiYzM1NDFmNmZkOTM1NzFkYTM=\", \"value\": 1}, {\"commit-author-name\": \"Vince Picone\", \"commit-author-date\": \"2019-11-18T15:58:02+00:00\", \"commit-message\": \"breaking: update  arabic family name to include sans (#286)\\n\\nbreaking: update  arabic family name to include sans\", \"node_id\": \"MDY6Q29tbWl0MTA1NzAyNjMxOjcwYThiNDBjNzc1ZGY0NGZkOWFhMmQ0NmFjY2RkYzFkMzlkZjk5OGE=\", \"value\": 1}, {\"commit-author-name\": \"Vince Picone\", \"commit-author-date\": \"2019-11-18T15:57:32+00:00\", \"commit-message\": \"Update README.md (#222)\\n\\nUpdate README.md\", \"node_id\": \"MDY6Q29tbWl0MTA1NzAyNjMxOmIzNGM1MTU5NTU5Yjg2YjIxYTc1YzBmOWI1NzA5MGU3OTQxMzZiNzk=\", \"value\": 1}, {\"commit-author-name\": \"Vince Picone\", \"commit-author-date\": \"2019-11-18T15:52:50+00:00\", \"commit-message\": \"breaking: update  arabic family name to include sans\", \"node_id\": \"MDY6Q29tbWl0MTA1NzAyNjMxOjIxZDk0YmU3MWJlNTkyN2VhMWRkOGRjNzA0ZGM1OTc0NDdhM2M5NGE=\", \"value\": 1}, {\"commit-author-name\": \"Vince Picone\", \"commit-author-date\": \"2019-10-05T03:30:32+00:00\", \"commit-message\": \"3.0.0\", \"node_id\": \"MDY6Q29tbWl0MTA1NzAyNjMxOmY1MWQwNzIwMGFlNTRjYWVkMTFkYTRkZTE0MDE0MmVkNjFhZjFiZTM=\", \"value\": 1}, {\"commit-author-name\": \"Vince Picone\", \"commit-author-date\": \"2019-10-05T03:24:56+00:00\", \"commit-message\": \"Devanagari thai update (#277)\\n\\nDevanagari thai update\", \"node_id\": \"MDY6Q29tbWl0MTA1NzAyNjMxOjVjYmE2MjFlZjdjZjgyZDgxM2EwZTc5NGQ3NzhmNGM2MDVhYWZkNTE=\", \"value\": 1}, {\"commit-author-name\": \"Vince Picone\", \"commit-author-date\": \"2019-10-04T13:25:43+00:00\", \"commit-message\": \"fix: thai file names\", \"node_id\": \"MDY6Q29tbWl0MTA1NzAyNjMxOjBlNTY0NjMyYzBkOTM1NWY3OGFiNTM2YzUyNGEyZWFiZDY4ZjM4MTY=\", \"value\": 1}, {\"commit-author-name\": \"Vince Picone\", \"commit-author-date\": \"2019-10-03T19:20:14+00:00\", \"commit-message\": \"chore: add changelog\", \"node_id\": \"MDY6Q29tbWl0MTA1NzAyNjMxOjcyZWRjMDFhMmY2NmRjNTJmM2JiZGUzZDVmNTk5ZmMyODQ5MmNmOWI=\", \"value\": 1}, {\"commit-author-name\": \"Vince Picone\", \"commit-author-date\": \"2019-10-03T19:11:21+00:00\", \"commit-message\": \"fix: add Sans to extralight and semibold weights for thai\", \"node_id\": \"MDY6Q29tbWl0MTA1NzAyNjMxOjQ4MDMxMDZjMzFlNjRkMDE1N2JhY2ZkMjk4OTBlZDUzYjAyZjEzYjQ=\", \"value\": 1}, {\"commit-author-name\": \"Vince Picone\", \"commit-author-date\": \"2019-10-03T18:45:57+00:00\", \"commit-message\": \"breaking: update thai and devanagari typeface names and font files\", \"node_id\": \"MDY6Q29tbWl0MTA1NzAyNjMxOjIyMjRiNTdhODAxNGM4M2EyMzA2ZDU4OWM0YTFhM2IyNGZlNmEwYjc=\", \"value\": 1}]}}, {\"mode\": \"vega-lite\"});\n",
              "</script>"
            ]
          },
          "metadata": {
            "tags": []
          },
          "execution_count": 138
        }
      ]
    },
    {
      "cell_type": "markdown",
      "metadata": {
        "id": "L4C1skfzUGFD",
        "colab_type": "text"
      },
      "source": [
        "To find out how many commits were made by each particular author it is possible to visualise a part of the dataset with a simple bar chart. At the same it is interesting to figure out when exactly during the day each commit was posted. For this purpose I used simple scatterplot. With the ineractive tooltip option it is easy to dive into details and see the author name together with the commit message. "
      ]
    },
    {
      "cell_type": "code",
      "metadata": {
        "id": "PkSADOeBmySc",
        "colab_type": "code",
        "colab": {
          "base_uri": "https://localhost:8080/",
          "height": 464
        },
        "outputId": "91359a47-b211-41bc-8372-fd6faa4f5bd8"
      },
      "source": [
        "base = alt.Chart(df_commits_reduced).properties(width=400, height=300)\n",
        "\n",
        "scat = base.mark_circle(size=80, opacity=0.5).encode(\n",
        "    alt.Y('hoursminutes(commit-author-date):T', title='Hour'),\n",
        "    alt.X('monthdate(commit-author-date):T', title='Date'),\n",
        "    alt.Color('commit-author-name:N', title='Name of the author'),\n",
        "    tooltip = ['commit-author-name:N', 'commit-message:N']\n",
        ").interactive()\n",
        "\n",
        "bar = base.mark_bar().encode(\n",
        "    alt.X('commit-author-name:O', title='Name of the author', sort='-x', axis=alt.Axis(labelAngle=300)),\n",
        "    alt.Y('count_val:Q', title='Commits'),\n",
        "    color='commit-author-name:N',\n",
        ").transform_aggregate(\n",
        "    count_val='count(value)',\n",
        "    groupby=['commit-author-name']\n",
        ").interactive()\n",
        "\n",
        "bar | scat"
      ],
      "execution_count": 139,
      "outputs": [
        {
          "output_type": "execute_result",
          "data": {
            "text/plain": [
              "alt.HConcatChart(...)"
            ],
            "text/html": [
              "\n",
              "<div id=\"altair-viz-7d2c3a9421214391b44ef9ffd54546b5\"></div>\n",
              "<script type=\"text/javascript\">\n",
              "  (function(spec, embedOpt){\n",
              "    let outputDiv = document.currentScript.previousElementSibling;\n",
              "    if (outputDiv.id !== \"altair-viz-7d2c3a9421214391b44ef9ffd54546b5\") {\n",
              "      outputDiv = document.getElementById(\"altair-viz-7d2c3a9421214391b44ef9ffd54546b5\");\n",
              "    }\n",
              "    const paths = {\n",
              "      \"vega\": \"https://cdn.jsdelivr.net/npm//vega@5?noext\",\n",
              "      \"vega-lib\": \"https://cdn.jsdelivr.net/npm//vega-lib?noext\",\n",
              "      \"vega-lite\": \"https://cdn.jsdelivr.net/npm//vega-lite@4.8.1?noext\",\n",
              "      \"vega-embed\": \"https://cdn.jsdelivr.net/npm//vega-embed@6?noext\",\n",
              "    };\n",
              "\n",
              "    function loadScript(lib) {\n",
              "      return new Promise(function(resolve, reject) {\n",
              "        var s = document.createElement('script');\n",
              "        s.src = paths[lib];\n",
              "        s.async = true;\n",
              "        s.onload = () => resolve(paths[lib]);\n",
              "        s.onerror = () => reject(`Error loading script: ${paths[lib]}`);\n",
              "        document.getElementsByTagName(\"head\")[0].appendChild(s);\n",
              "      });\n",
              "    }\n",
              "\n",
              "    function showError(err) {\n",
              "      outputDiv.innerHTML = `<div class=\"error\" style=\"color:red;\">${err}</div>`;\n",
              "      throw err;\n",
              "    }\n",
              "\n",
              "    function displayChart(vegaEmbed) {\n",
              "      vegaEmbed(outputDiv, spec, embedOpt)\n",
              "        .catch(err => showError(`Javascript Error: ${err.message}<br>This usually means there's a typo in your chart specification. See the javascript console for the full traceback.`));\n",
              "    }\n",
              "\n",
              "    if(typeof define === \"function\" && define.amd) {\n",
              "      requirejs.config({paths});\n",
              "      require([\"vega-embed\"], displayChart, err => showError(`Error loading script: ${err.message}`));\n",
              "    } else if (typeof vegaEmbed === \"function\") {\n",
              "      displayChart(vegaEmbed);\n",
              "    } else {\n",
              "      loadScript(\"vega\")\n",
              "        .then(() => loadScript(\"vega-lite\"))\n",
              "        .then(() => loadScript(\"vega-embed\"))\n",
              "        .catch(showError)\n",
              "        .then(() => displayChart(vegaEmbed));\n",
              "    }\n",
              "  })({\"config\": {\"view\": {\"continuousWidth\": 400, \"continuousHeight\": 300}}, \"hconcat\": [{\"mark\": \"bar\", \"encoding\": {\"color\": {\"type\": \"nominal\", \"field\": \"commit-author-name\"}, \"x\": {\"type\": \"ordinal\", \"axis\": {\"labelAngle\": 300}, \"field\": \"commit-author-name\", \"sort\": \"-x\", \"title\": \"Name of the author\"}, \"y\": {\"type\": \"quantitative\", \"field\": \"count_val\", \"title\": \"Commits\"}}, \"height\": 300, \"selection\": {\"selector009\": {\"type\": \"interval\", \"bind\": \"scales\", \"encodings\": [\"x\", \"y\"]}}, \"transform\": [{\"aggregate\": [{\"op\": \"count\", \"field\": \"value\", \"as\": \"count_val\"}], \"groupby\": [\"commit-author-name\"]}], \"width\": 400}, {\"mark\": {\"type\": \"circle\", \"opacity\": 0.5, \"size\": 80}, \"encoding\": {\"color\": {\"type\": \"nominal\", \"field\": \"commit-author-name\", \"title\": \"Name of the author\"}, \"tooltip\": [{\"type\": \"nominal\", \"field\": \"commit-author-name\"}, {\"type\": \"nominal\", \"field\": \"commit-message\"}], \"x\": {\"type\": \"temporal\", \"field\": \"commit-author-date\", \"timeUnit\": \"monthdate\", \"title\": \"Date\"}, \"y\": {\"type\": \"temporal\", \"field\": \"commit-author-date\", \"timeUnit\": \"hoursminutes\", \"title\": \"Hour\"}}, \"height\": 300, \"selection\": {\"selector008\": {\"type\": \"interval\", \"bind\": \"scales\", \"encodings\": [\"x\", \"y\"]}}, \"width\": 400}], \"data\": {\"name\": \"data-ca17941a7b85cd8f90c904bee7aa0546\"}, \"$schema\": \"https://vega.github.io/schema/vega-lite/v4.8.1.json\", \"datasets\": {\"data-ca17941a7b85cd8f90c904bee7aa0546\": [{\"commit-author-name\": \"Vince Picone\", \"commit-author-date\": \"2020-06-30T23:58:27+00:00\", \"commit-message\": \"Merge pull request #323 from dtinth/patch-1\\n\\nAdd \\\"main\\\" field to \\\"package.json\\\"\", \"node_id\": \"MDY6Q29tbWl0MTA1NzAyNjMxOjNmYmRiNWRkNzVkNzQzNzliN2ZiYTQ3ZGQ4ODlhMWViNzA3NzFkNzM=\", \"value\": 1}, {\"commit-author-name\": \"Thai Pangsakulyanont\", \"commit-author-date\": \"2020-06-21T12:56:02+00:00\", \"commit-message\": \"Add \\\"main\\\" field to \\\"package.json\\\"\\n\\nThis allows the package\\u2019s CSS to be consumed directly, following how the typefaces project does it: https://github.com/KyleAMathews/typefaces\", \"node_id\": \"MDY6Q29tbWl0MTA1NzAyNjMxOmY5MGQ5MjIyNWVkYTllMDA1NmQxMzQ0NmNjOTc5YTgzZTExYmQwYTE=\", \"value\": 1}, {\"commit-author-name\": \"Vince Picone\", \"commit-author-date\": \"2020-06-08T17:15:33+00:00\", \"commit-message\": \"5.0.0\", \"node_id\": \"MDY6Q29tbWl0MTA1NzAyNjMxOjk2ODA4MWQ2MWI2YWJlMThjZDBkYzE0YTQyNzA0YWZkZjQ4MzE3MDg=\", \"value\": 1}, {\"commit-author-name\": \"Vince Picone\", \"commit-author-date\": \"2020-06-08T16:42:11+00:00\", \"commit-message\": \"Merge pull request #315 from vpicone/cross-language-update\", \"node_id\": \"MDY6Q29tbWl0MTA1NzAyNjMxOmNkNDZkMGM0ZDUwNzQ3MzY5NTBkMzJhZTJmNjJkMGFlMTdmYTAxZDQ=\", \"value\": 1}, {\"commit-author-name\": \"Vince Picone\", \"commit-author-date\": \"2020-06-06T20:27:05+00:00\", \"commit-message\": \"fix: tweak zip script to handle korean and variable\", \"node_id\": \"MDY6Q29tbWl0MTA1NzAyNjMxOmUxMzFjODY0ZDdjZjUwMDgyOGNkMDhiZTY1N2RlNDgyOTg4MGYxOTc=\", \"value\": 1}, {\"commit-author-name\": \"Vince Picone\", \"commit-author-date\": \"2020-06-01T21:31:54+00:00\", \"commit-message\": \"fix: temporarily exclude korean from zip\", \"node_id\": \"MDY6Q29tbWl0MTA1NzAyNjMxOjYxMmI4NzhlMDFlMzFlYzIyMTAxN2Q5NzNlZWUxZGY1MzA3ODVhMmQ=\", \"value\": 1}, {\"commit-author-name\": \"Vince Picone\", \"commit-author-date\": \"2020-06-01T21:23:50+00:00\", \"commit-message\": \"feat: add korean\", \"node_id\": \"MDY6Q29tbWl0MTA1NzAyNjMxOmFkNWNkN2ZlZGRkZWIxMjYzNjAzNWFjYjZkOWJlYTliNTAwY2E3MDk=\", \"value\": 1}, {\"commit-author-name\": \"Vince Picone\", \"commit-author-date\": \"2020-05-29T21:11:44+00:00\", \"commit-message\": \"fix: change internal family name for condensed, add glyphs\", \"node_id\": \"MDY6Q29tbWl0MTA1NzAyNjMxOjIyYTlhMzllMDcwYjJlZmRhMDIyNWIyMzBkZTA5NDRiZmE4OTM5M2Y=\", \"value\": 1}, {\"commit-author-name\": \"Vince Picone\", \"commit-author-date\": \"2020-05-29T21:05:56+00:00\", \"commit-message\": \"fix(Serif): vertical metrics and glyph additions\", \"node_id\": \"MDY6Q29tbWl0MTA1NzAyNjMxOjFjNjU0ZDQwMzYwY2Q1NTkxNTdiOGZkNjkwNGU4NjJlODA1NzljOTM=\", \"value\": 1}, {\"commit-author-name\": \"Vince Picone\", \"commit-author-date\": \"2020-05-29T21:03:33+00:00\", \"commit-message\": \"fix(Sans): new glyphs, fixed vertical metrics\", \"node_id\": \"MDY6Q29tbWl0MTA1NzAyNjMxOjc2YzM0MTgxOTM5OGU1MzM4YTBkZTZhYjA2MmZkYjNmYzE1MzFkYmY=\", \"value\": 1}, {\"commit-author-name\": \"Vince Picone\", \"commit-author-date\": \"2020-05-29T20:56:13+00:00\", \"commit-message\": \"feat: mono update\", \"node_id\": \"MDY6Q29tbWl0MTA1NzAyNjMxOjNjM2UwMGUzYjA4OWEwY2M5YWNjMDRlMzY2ZDY4NjJhNTA2YmVlOTE=\", \"value\": 1}, {\"commit-author-name\": \"LMapes\", \"commit-author-date\": \"2020-05-12T17:20:44+00:00\", \"commit-message\": \"Update README.md (#310)\\n\\n* Update README.md\\n\\nThis change includes new non-Latin fonts and updates content based on the IBM Style guide.\\n\\n* Update README.md\\n\\nHi Vince, this is ready to merge now.\\n\\n* Update README.md\\n\\nChange to one sentence per Mike Abbink.\", \"node_id\": \"MDY6Q29tbWl0MTA1NzAyNjMxOjZhM2MwOTE3ODAzNWQyY2MwNTAzYWNkMzVjNjRkNmY2ZGFmYjRiNzc=\", \"value\": 1}, {\"commit-author-name\": \"Vince Picone\", \"commit-author-date\": \"2019-12-09T21:49:34+00:00\", \"commit-message\": \"4.0.2\", \"node_id\": \"MDY6Q29tbWl0MTA1NzAyNjMxOmVmMGFiNDk5ODMyOWUxN2UzNGU5YWFhMzAxYjNlYmJlNDAzNWQ3MDk=\", \"value\": 1}, {\"commit-author-name\": \"Vince Picone\", \"commit-author-date\": \"2019-12-09T21:48:01+00:00\", \"commit-message\": \"fix: update using new hebrew fixes (#289)\\n\\nfix: update using new hebrew fixes\", \"node_id\": \"MDY6Q29tbWl0MTA1NzAyNjMxOmVjZTkzZmIyMzEwYjc5MWJmMjI5YTZmNGE5NGY3MTk1ZjMwMGJhN2Y=\", \"value\": 1}, {\"commit-author-name\": \"Vince Picone\", \"commit-author-date\": \"2019-12-09T21:43:01+00:00\", \"commit-message\": \"fix: update using new hebrew fixes\", \"node_id\": \"MDY6Q29tbWl0MTA1NzAyNjMxOjYzYTk0YWQzYjE0M2VlMDQ2ZGJjNzA1MDRmMGFkOTM0MGMwNWY1ZjQ=\", \"value\": 1}, {\"commit-author-name\": \"Vince Picone\", \"commit-author-date\": \"2019-11-25T15:42:50+00:00\", \"commit-message\": \"Update README.md\", \"node_id\": \"MDY6Q29tbWl0MTA1NzAyNjMxOmUxNjVkYmMxNGIwNDdjYTc0YjMyZTQ1YzlkYTZkYzI2MjU0MDVmZTU=\", \"value\": 1}, {\"commit-author-name\": \"Mike Abbink\", \"commit-author-date\": \"2019-11-23T11:32:27+00:00\", \"commit-message\": \"Update README.md\", \"node_id\": \"MDY6Q29tbWl0MTA1NzAyNjMxOjY2ZGJkZTQwODA4YzRkZmE0OTllN2NmOTg4MmFiNGY1YjY3YTdiN2U=\", \"value\": 1}, {\"commit-author-name\": \"Vince Picone\", \"commit-author-date\": \"2019-11-18T16:30:10+00:00\", \"commit-message\": \"Update CHANGELOG.md\", \"node_id\": \"MDY6Q29tbWl0MTA1NzAyNjMxOjU0OWRlOWM3Zjk4MWI0MDU2ZjU2YzhlNjE4ZTdmZjgyNGUxYjQwMDA=\", \"value\": 1}, {\"commit-author-name\": \"Vince Picone\", \"commit-author-date\": \"2019-11-18T16:29:14+00:00\", \"commit-message\": \"Update CHANGELOG.md\", \"node_id\": \"MDY6Q29tbWl0MTA1NzAyNjMxOjc0YTQ5OTA4MWQwNGNhOThjOWRmYzI2ZWNmYTI5ZjljZTFmZDk1NmE=\", \"value\": 1}, {\"commit-author-name\": \"Vince Picone\", \"commit-author-date\": \"2019-11-18T16:15:37+00:00\", \"commit-message\": \"4.0.1\", \"node_id\": \"MDY6Q29tbWl0MTA1NzAyNjMxOmU4MDVlYjQxMDZlYzdlYTAxOTE2ZGNlOTAxMmZjNzViODQ2OThlNjA=\", \"value\": 1}, {\"commit-author-name\": \"Vince Picone\", \"commit-author-date\": \"2019-11-18T16:03:37+00:00\", \"commit-message\": \"4.0.0\", \"node_id\": \"MDY6Q29tbWl0MTA1NzAyNjMxOjg3N2NkMzMxYTcwNzg2NGQ3MGFmOWFiYzM1NDFmNmZkOTM1NzFkYTM=\", \"value\": 1}, {\"commit-author-name\": \"Vince Picone\", \"commit-author-date\": \"2019-11-18T15:58:02+00:00\", \"commit-message\": \"breaking: update  arabic family name to include sans (#286)\\n\\nbreaking: update  arabic family name to include sans\", \"node_id\": \"MDY6Q29tbWl0MTA1NzAyNjMxOjcwYThiNDBjNzc1ZGY0NGZkOWFhMmQ0NmFjY2RkYzFkMzlkZjk5OGE=\", \"value\": 1}, {\"commit-author-name\": \"Vince Picone\", \"commit-author-date\": \"2019-11-18T15:57:32+00:00\", \"commit-message\": \"Update README.md (#222)\\n\\nUpdate README.md\", \"node_id\": \"MDY6Q29tbWl0MTA1NzAyNjMxOmIzNGM1MTU5NTU5Yjg2YjIxYTc1YzBmOWI1NzA5MGU3OTQxMzZiNzk=\", \"value\": 1}, {\"commit-author-name\": \"Vince Picone\", \"commit-author-date\": \"2019-11-18T15:52:50+00:00\", \"commit-message\": \"breaking: update  arabic family name to include sans\", \"node_id\": \"MDY6Q29tbWl0MTA1NzAyNjMxOjIxZDk0YmU3MWJlNTkyN2VhMWRkOGRjNzA0ZGM1OTc0NDdhM2M5NGE=\", \"value\": 1}, {\"commit-author-name\": \"Vince Picone\", \"commit-author-date\": \"2019-10-05T03:30:32+00:00\", \"commit-message\": \"3.0.0\", \"node_id\": \"MDY6Q29tbWl0MTA1NzAyNjMxOmY1MWQwNzIwMGFlNTRjYWVkMTFkYTRkZTE0MDE0MmVkNjFhZjFiZTM=\", \"value\": 1}, {\"commit-author-name\": \"Vince Picone\", \"commit-author-date\": \"2019-10-05T03:24:56+00:00\", \"commit-message\": \"Devanagari thai update (#277)\\n\\nDevanagari thai update\", \"node_id\": \"MDY6Q29tbWl0MTA1NzAyNjMxOjVjYmE2MjFlZjdjZjgyZDgxM2EwZTc5NGQ3NzhmNGM2MDVhYWZkNTE=\", \"value\": 1}, {\"commit-author-name\": \"Vince Picone\", \"commit-author-date\": \"2019-10-04T13:25:43+00:00\", \"commit-message\": \"fix: thai file names\", \"node_id\": \"MDY6Q29tbWl0MTA1NzAyNjMxOjBlNTY0NjMyYzBkOTM1NWY3OGFiNTM2YzUyNGEyZWFiZDY4ZjM4MTY=\", \"value\": 1}, {\"commit-author-name\": \"Vince Picone\", \"commit-author-date\": \"2019-10-03T19:20:14+00:00\", \"commit-message\": \"chore: add changelog\", \"node_id\": \"MDY6Q29tbWl0MTA1NzAyNjMxOjcyZWRjMDFhMmY2NmRjNTJmM2JiZGUzZDVmNTk5ZmMyODQ5MmNmOWI=\", \"value\": 1}, {\"commit-author-name\": \"Vince Picone\", \"commit-author-date\": \"2019-10-03T19:11:21+00:00\", \"commit-message\": \"fix: add Sans to extralight and semibold weights for thai\", \"node_id\": \"MDY6Q29tbWl0MTA1NzAyNjMxOjQ4MDMxMDZjMzFlNjRkMDE1N2JhY2ZkMjk4OTBlZDUzYjAyZjEzYjQ=\", \"value\": 1}, {\"commit-author-name\": \"Vince Picone\", \"commit-author-date\": \"2019-10-03T18:45:57+00:00\", \"commit-message\": \"breaking: update thai and devanagari typeface names and font files\", \"node_id\": \"MDY6Q29tbWl0MTA1NzAyNjMxOjIyMjRiNTdhODAxNGM4M2EyMzA2ZDU4OWM0YTFhM2IyNGZlNmEwYjc=\", \"value\": 1}]}}, {\"mode\": \"vega-lite\"});\n",
              "</script>"
            ]
          },
          "metadata": {
            "tags": []
          },
          "execution_count": 139
        }
      ]
    },
    {
      "cell_type": "markdown",
      "metadata": {
        "id": "bsyAa9PDULpA",
        "colab_type": "text"
      },
      "source": [
        "A next step can be the analysis of what commit messages contain. For this purpose I'm importing Natural Language Toolkit.\\\n",
        "Based on https://colab.research.google.com/drive/1y5j8DoczO57bUzUBbqqKd5lU2j_GlCuG?usp=sharing"
      ]
    },
    {
      "cell_type": "code",
      "metadata": {
        "id": "w9XyWYuFnwRQ",
        "colab_type": "code",
        "colab": {}
      },
      "source": [
        "import nltk"
      ],
      "execution_count": 140,
      "outputs": []
    },
    {
      "cell_type": "code",
      "metadata": {
        "id": "qLrm3CvMoMh8",
        "colab_type": "code",
        "colab": {
          "base_uri": "https://localhost:8080/",
          "height": 102
        },
        "outputId": "00a002db-9fd9-4051-f9dc-5f9e9c253bbf"
      },
      "source": [
        "nltk.download('punkt')\n",
        "nltk.download('words')"
      ],
      "execution_count": 141,
      "outputs": [
        {
          "output_type": "stream",
          "text": [
            "[nltk_data] Downloading package punkt to /root/nltk_data...\n",
            "[nltk_data]   Package punkt is already up-to-date!\n",
            "[nltk_data] Downloading package words to /root/nltk_data...\n",
            "[nltk_data]   Package words is already up-to-date!\n"
          ],
          "name": "stdout"
        },
        {
          "output_type": "execute_result",
          "data": {
            "text/plain": [
              "True"
            ]
          },
          "metadata": {
            "tags": []
          },
          "execution_count": 141
        }
      ]
    },
    {
      "cell_type": "markdown",
      "metadata": {
        "id": "0Wp1u6B72YEw",
        "colab_type": "text"
      },
      "source": [
        "In order to extract information from a particular column I should join all cells into one string.\\\n",
        "based on https://colab.research.google.com/drive/1y5j8DoczO57bUzUBbqqKd5lU2j_GlCuG?usp=sharing"
      ]
    },
    {
      "cell_type": "code",
      "metadata": {
        "id": "lnnoi_8g4ayh",
        "colab_type": "code",
        "colab": {
          "base_uri": "https://localhost:8080/",
          "height": 171
        },
        "outputId": "63a1746d-6420-4a50-881e-f791cedcd598"
      },
      "source": [
        "df_commits_string = df_commits_reduced[\"commit-message\"].tolist() \n",
        "df_commits_string = \"\".join(df_commits_string)\n",
        "df_commits_string"
      ],
      "execution_count": 142,
      "outputs": [
        {
          "output_type": "execute_result",
          "data": {
            "application/vnd.google.colaboratory.intrinsic": {
              "type": "string"
            },
            "text/plain": [
              "'Merge pull request #323 from dtinth/patch-1\\n\\nAdd \"main\" field to \"package.json\"Add \"main\" field to \"package.json\"\\n\\nThis allows the package’s CSS to be consumed directly, following how the typefaces project does it: https://github.com/KyleAMathews/typefaces5.0.0Merge pull request #315 from vpicone/cross-language-updatefix: tweak zip script to handle korean and variablefix: temporarily exclude korean from zipfeat: add koreanfix: change internal family name for condensed, add glyphsfix(Serif): vertical metrics and glyph additionsfix(Sans): new glyphs, fixed vertical metricsfeat: mono updateUpdate README.md (#310)\\n\\n* Update README.md\\n\\nThis change includes new non-Latin fonts and updates content based on the IBM Style guide.\\n\\n* Update README.md\\n\\nHi Vince, this is ready to merge now.\\n\\n* Update README.md\\n\\nChange to one sentence per Mike Abbink.4.0.2fix: update using new hebrew fixes (#289)\\n\\nfix: update using new hebrew fixesfix: update using new hebrew fixesUpdate README.mdUpdate README.mdUpdate CHANGELOG.mdUpdate CHANGELOG.md4.0.14.0.0breaking: update  arabic family name to include sans (#286)\\n\\nbreaking: update  arabic family name to include sansUpdate README.md (#222)\\n\\nUpdate README.mdbreaking: update  arabic family name to include sans3.0.0Devanagari thai update (#277)\\n\\nDevanagari thai updatefix: thai file nameschore: add changelogfix: add Sans to extralight and semibold weights for thaibreaking: update thai and devanagari typeface names and font files'"
            ]
          },
          "metadata": {
            "tags": []
          },
          "execution_count": 142
        }
      ]
    },
    {
      "cell_type": "markdown",
      "metadata": {
        "id": "mxeBen7mEgCc",
        "colab_type": "text"
      },
      "source": [
        "The next step is tokenisation:"
      ]
    },
    {
      "cell_type": "code",
      "metadata": {
        "id": "UlqACDi8UbZk",
        "colab_type": "code",
        "colab": {
          "base_uri": "https://localhost:8080/",
          "height": 187
        },
        "outputId": "0da28cf3-2e5b-40b9-ebce-9b5f1d9291bb"
      },
      "source": [
        "tokens = nltk.word_tokenize(df_commits_string)\n",
        "tokens[0:10]"
      ],
      "execution_count": 143,
      "outputs": [
        {
          "output_type": "execute_result",
          "data": {
            "text/plain": [
              "['Merge',\n",
              " 'pull',\n",
              " 'request',\n",
              " '#',\n",
              " '323',\n",
              " 'from',\n",
              " 'dtinth/patch-1',\n",
              " 'Add',\n",
              " '``',\n",
              " 'main']"
            ]
          },
          "metadata": {
            "tags": []
          },
          "execution_count": 143
        }
      ]
    },
    {
      "cell_type": "markdown",
      "metadata": {
        "id": "GVY5UXwFE0Ee",
        "colab_type": "text"
      },
      "source": [
        "Then counting words without stopwords:"
      ]
    },
    {
      "cell_type": "code",
      "metadata": {
        "id": "K7HNMhzv8aXp",
        "colab_type": "code",
        "colab": {
          "base_uri": "https://localhost:8080/",
          "height": 88
        },
        "outputId": "a9092cb4-ba3a-45cd-8431-a71d682743e8"
      },
      "source": [
        "import nltk\n",
        "nltk.download('stopwords')\n",
        "from nltk.corpus import stopwords as stop\n",
        "\n",
        "stopwords = stop.words(\"english\")\n",
        "\n",
        "print(stopwords)"
      ],
      "execution_count": 144,
      "outputs": [
        {
          "output_type": "stream",
          "text": [
            "[nltk_data] Downloading package stopwords to /root/nltk_data...\n",
            "[nltk_data]   Package stopwords is already up-to-date!\n",
            "['i', 'me', 'my', 'myself', 'we', 'our', 'ours', 'ourselves', 'you', \"you're\", \"you've\", \"you'll\", \"you'd\", 'your', 'yours', 'yourself', 'yourselves', 'he', 'him', 'his', 'himself', 'she', \"she's\", 'her', 'hers', 'herself', 'it', \"it's\", 'its', 'itself', 'they', 'them', 'their', 'theirs', 'themselves', 'what', 'which', 'who', 'whom', 'this', 'that', \"that'll\", 'these', 'those', 'am', 'is', 'are', 'was', 'were', 'be', 'been', 'being', 'have', 'has', 'had', 'having', 'do', 'does', 'did', 'doing', 'a', 'an', 'the', 'and', 'but', 'if', 'or', 'because', 'as', 'until', 'while', 'of', 'at', 'by', 'for', 'with', 'about', 'against', 'between', 'into', 'through', 'during', 'before', 'after', 'above', 'below', 'to', 'from', 'up', 'down', 'in', 'out', 'on', 'off', 'over', 'under', 'again', 'further', 'then', 'once', 'here', 'there', 'when', 'where', 'why', 'how', 'all', 'any', 'both', 'each', 'few', 'more', 'most', 'other', 'some', 'such', 'no', 'nor', 'not', 'only', 'own', 'same', 'so', 'than', 'too', 'very', 's', 't', 'can', 'will', 'just', 'don', \"don't\", 'should', \"should've\", 'now', 'd', 'll', 'm', 'o', 're', 've', 'y', 'ain', 'aren', \"aren't\", 'couldn', \"couldn't\", 'didn', \"didn't\", 'doesn', \"doesn't\", 'hadn', \"hadn't\", 'hasn', \"hasn't\", 'haven', \"haven't\", 'isn', \"isn't\", 'ma', 'mightn', \"mightn't\", 'mustn', \"mustn't\", 'needn', \"needn't\", 'shan', \"shan't\", 'shouldn', \"shouldn't\", 'wasn', \"wasn't\", 'weren', \"weren't\", 'won', \"won't\", 'wouldn', \"wouldn't\"]\n"
          ],
          "name": "stdout"
        }
      ]
    },
    {
      "cell_type": "markdown",
      "metadata": {
        "id": "v9kOIn4oNmx7",
        "colab_type": "text"
      },
      "source": [
        "Counting an amount of words in each group:\n"
      ]
    },
    {
      "cell_type": "code",
      "metadata": {
        "id": "yQoGoxlOEesa",
        "colab_type": "code",
        "colab": {
          "base_uri": "https://localhost:8080/",
          "height": 54
        },
        "outputId": "a0f3c133-38cb-44ac-c18c-9003c01c5142"
      },
      "source": [
        "words = [word for word in tokens if word not in stopwords]\n",
        "\n",
        "bow = {}\n",
        "\n",
        "for word in words:\n",
        "  bow[word] = words.count(word)\n",
        "\n",
        "words_frequency = sorted(bow.items(), key=lambda x: x[1], reverse=True)\n",
        "\n",
        "print(words_frequency[0:100])"
      ],
      "execution_count": 145,
      "outputs": [
        {
          "output_type": "stream",
          "text": [
            "[(':', 19), ('update', 8), ('#', 7), ('(', 7), (')', 7), ('new', 5), ('README.md', 5), ('``', 4), (\"''\", 4), (',', 4), ('add', 4), ('family', 4), ('name', 4), ('Update', 4), ('thai', 4), ('*', 3), ('using', 3), ('hebrew', 3), ('arabic', 3), ('include', 3), ('pull', 2), ('request', 2), ('Add', 2), ('main', 2), ('field', 2), ('package.json', 2), ('This', 2), ('korean', 2), ('change', 2), ('vertical', 2), ('Sans', 2), ('.', 2), ('README.mdUpdate', 2), ('Merge', 1), ('323', 1), ('dtinth/patch-1', 1), ('allows', 1), ('package', 1), ('’', 1), ('CSS', 1), ('consumed', 1), ('directly', 1), ('following', 1), ('typefaces', 1), ('project', 1), ('https', 1), ('//github.com/KyleAMathews/typefaces5.0.0Merge', 1), ('315', 1), ('vpicone/cross-language-updatefix', 1), ('tweak', 1), ('zip', 1), ('script', 1), ('handle', 1), ('variablefix', 1), ('temporarily', 1), ('exclude', 1), ('zipfeat', 1), ('koreanfix', 1), ('internal', 1), ('condensed', 1), ('glyphsfix', 1), ('Serif', 1), ('metrics', 1), ('glyph', 1), ('additionsfix', 1), ('glyphs', 1), ('fixed', 1), ('metricsfeat', 1), ('mono', 1), ('updateUpdate', 1), ('310', 1), ('includes', 1), ('non-Latin', 1), ('fonts', 1), ('updates', 1), ('content', 1), ('based', 1), ('IBM', 1), ('Style', 1), ('guide', 1), ('Hi', 1), ('Vince', 1), ('ready', 1), ('merge', 1), ('Change', 1), ('one', 1), ('sentence', 1), ('per', 1), ('Mike', 1), ('Abbink.4.0.2fix', 1), ('fixes', 1), ('289', 1), ('fix', 1), ('fixesfix', 1), ('fixesUpdate', 1), ('CHANGELOG.mdUpdate', 1), ('CHANGELOG.md4.0.14.0.0breaking', 1), ('sans', 1), ('286', 1), ('breaking', 1)]\n"
          ],
          "name": "stdout"
        }
      ]
    },
    {
      "cell_type": "markdown",
      "metadata": {
        "id": "dC4ETTw2O12e",
        "colab_type": "text"
      },
      "source": [
        "And the visualisation itself. A simple sorted bar chart which shows the frequency of appearing of each word in commits comments."
      ]
    },
    {
      "cell_type": "code",
      "metadata": {
        "id": "gs7juqcRAI4x",
        "colab_type": "code",
        "colab": {
          "base_uri": "https://localhost:8080/",
          "height": 1000
        },
        "outputId": "62fe5a92-6039-4f79-8a9f-6e3cf27c25b2"
      },
      "source": [
        "df = pd.DataFrame(words_frequency, columns=['word', 'count'])\n",
        " \n",
        "alt.Chart(df).mark_bar().encode(\n",
        "  x = 'count:Q',\n",
        "  y=alt.Y('word:N', sort='-x')\n",
        ")"
      ],
      "execution_count": 146,
      "outputs": [
        {
          "output_type": "execute_result",
          "data": {
            "text/plain": [
              "alt.Chart(...)"
            ],
            "text/html": [
              "\n",
              "<div id=\"altair-viz-b956faa691854b96b5279751869a5612\"></div>\n",
              "<script type=\"text/javascript\">\n",
              "  (function(spec, embedOpt){\n",
              "    let outputDiv = document.currentScript.previousElementSibling;\n",
              "    if (outputDiv.id !== \"altair-viz-b956faa691854b96b5279751869a5612\") {\n",
              "      outputDiv = document.getElementById(\"altair-viz-b956faa691854b96b5279751869a5612\");\n",
              "    }\n",
              "    const paths = {\n",
              "      \"vega\": \"https://cdn.jsdelivr.net/npm//vega@5?noext\",\n",
              "      \"vega-lib\": \"https://cdn.jsdelivr.net/npm//vega-lib?noext\",\n",
              "      \"vega-lite\": \"https://cdn.jsdelivr.net/npm//vega-lite@4.8.1?noext\",\n",
              "      \"vega-embed\": \"https://cdn.jsdelivr.net/npm//vega-embed@6?noext\",\n",
              "    };\n",
              "\n",
              "    function loadScript(lib) {\n",
              "      return new Promise(function(resolve, reject) {\n",
              "        var s = document.createElement('script');\n",
              "        s.src = paths[lib];\n",
              "        s.async = true;\n",
              "        s.onload = () => resolve(paths[lib]);\n",
              "        s.onerror = () => reject(`Error loading script: ${paths[lib]}`);\n",
              "        document.getElementsByTagName(\"head\")[0].appendChild(s);\n",
              "      });\n",
              "    }\n",
              "\n",
              "    function showError(err) {\n",
              "      outputDiv.innerHTML = `<div class=\"error\" style=\"color:red;\">${err}</div>`;\n",
              "      throw err;\n",
              "    }\n",
              "\n",
              "    function displayChart(vegaEmbed) {\n",
              "      vegaEmbed(outputDiv, spec, embedOpt)\n",
              "        .catch(err => showError(`Javascript Error: ${err.message}<br>This usually means there's a typo in your chart specification. See the javascript console for the full traceback.`));\n",
              "    }\n",
              "\n",
              "    if(typeof define === \"function\" && define.amd) {\n",
              "      requirejs.config({paths});\n",
              "      require([\"vega-embed\"], displayChart, err => showError(`Error loading script: ${err.message}`));\n",
              "    } else if (typeof vegaEmbed === \"function\") {\n",
              "      displayChart(vegaEmbed);\n",
              "    } else {\n",
              "      loadScript(\"vega\")\n",
              "        .then(() => loadScript(\"vega-lite\"))\n",
              "        .then(() => loadScript(\"vega-embed\"))\n",
              "        .catch(showError)\n",
              "        .then(() => displayChart(vegaEmbed));\n",
              "    }\n",
              "  })({\"config\": {\"view\": {\"continuousWidth\": 400, \"continuousHeight\": 300}}, \"data\": {\"name\": \"data-79b353e04fa0aeac2785e46b2dbe9260\"}, \"mark\": \"bar\", \"encoding\": {\"x\": {\"type\": \"quantitative\", \"field\": \"count\"}, \"y\": {\"type\": \"nominal\", \"field\": \"word\", \"sort\": \"-x\"}}, \"$schema\": \"https://vega.github.io/schema/vega-lite/v4.8.1.json\", \"datasets\": {\"data-79b353e04fa0aeac2785e46b2dbe9260\": [{\"word\": \":\", \"count\": 19}, {\"word\": \"update\", \"count\": 8}, {\"word\": \"#\", \"count\": 7}, {\"word\": \"(\", \"count\": 7}, {\"word\": \")\", \"count\": 7}, {\"word\": \"new\", \"count\": 5}, {\"word\": \"README.md\", \"count\": 5}, {\"word\": \"``\", \"count\": 4}, {\"word\": \"''\", \"count\": 4}, {\"word\": \",\", \"count\": 4}, {\"word\": \"add\", \"count\": 4}, {\"word\": \"family\", \"count\": 4}, {\"word\": \"name\", \"count\": 4}, {\"word\": \"Update\", \"count\": 4}, {\"word\": \"thai\", \"count\": 4}, {\"word\": \"*\", \"count\": 3}, {\"word\": \"using\", \"count\": 3}, {\"word\": \"hebrew\", \"count\": 3}, {\"word\": \"arabic\", \"count\": 3}, {\"word\": \"include\", \"count\": 3}, {\"word\": \"pull\", \"count\": 2}, {\"word\": \"request\", \"count\": 2}, {\"word\": \"Add\", \"count\": 2}, {\"word\": \"main\", \"count\": 2}, {\"word\": \"field\", \"count\": 2}, {\"word\": \"package.json\", \"count\": 2}, {\"word\": \"This\", \"count\": 2}, {\"word\": \"korean\", \"count\": 2}, {\"word\": \"change\", \"count\": 2}, {\"word\": \"vertical\", \"count\": 2}, {\"word\": \"Sans\", \"count\": 2}, {\"word\": \".\", \"count\": 2}, {\"word\": \"README.mdUpdate\", \"count\": 2}, {\"word\": \"Merge\", \"count\": 1}, {\"word\": \"323\", \"count\": 1}, {\"word\": \"dtinth/patch-1\", \"count\": 1}, {\"word\": \"allows\", \"count\": 1}, {\"word\": \"package\", \"count\": 1}, {\"word\": \"\\u2019\", \"count\": 1}, {\"word\": \"CSS\", \"count\": 1}, {\"word\": \"consumed\", \"count\": 1}, {\"word\": \"directly\", \"count\": 1}, {\"word\": \"following\", \"count\": 1}, {\"word\": \"typefaces\", \"count\": 1}, {\"word\": \"project\", \"count\": 1}, {\"word\": \"https\", \"count\": 1}, {\"word\": \"//github.com/KyleAMathews/typefaces5.0.0Merge\", \"count\": 1}, {\"word\": \"315\", \"count\": 1}, {\"word\": \"vpicone/cross-language-updatefix\", \"count\": 1}, {\"word\": \"tweak\", \"count\": 1}, {\"word\": \"zip\", \"count\": 1}, {\"word\": \"script\", \"count\": 1}, {\"word\": \"handle\", \"count\": 1}, {\"word\": \"variablefix\", \"count\": 1}, {\"word\": \"temporarily\", \"count\": 1}, {\"word\": \"exclude\", \"count\": 1}, {\"word\": \"zipfeat\", \"count\": 1}, {\"word\": \"koreanfix\", \"count\": 1}, {\"word\": \"internal\", \"count\": 1}, {\"word\": \"condensed\", \"count\": 1}, {\"word\": \"glyphsfix\", \"count\": 1}, {\"word\": \"Serif\", \"count\": 1}, {\"word\": \"metrics\", \"count\": 1}, {\"word\": \"glyph\", \"count\": 1}, {\"word\": \"additionsfix\", \"count\": 1}, {\"word\": \"glyphs\", \"count\": 1}, {\"word\": \"fixed\", \"count\": 1}, {\"word\": \"metricsfeat\", \"count\": 1}, {\"word\": \"mono\", \"count\": 1}, {\"word\": \"updateUpdate\", \"count\": 1}, {\"word\": \"310\", \"count\": 1}, {\"word\": \"includes\", \"count\": 1}, {\"word\": \"non-Latin\", \"count\": 1}, {\"word\": \"fonts\", \"count\": 1}, {\"word\": \"updates\", \"count\": 1}, {\"word\": \"content\", \"count\": 1}, {\"word\": \"based\", \"count\": 1}, {\"word\": \"IBM\", \"count\": 1}, {\"word\": \"Style\", \"count\": 1}, {\"word\": \"guide\", \"count\": 1}, {\"word\": \"Hi\", \"count\": 1}, {\"word\": \"Vince\", \"count\": 1}, {\"word\": \"ready\", \"count\": 1}, {\"word\": \"merge\", \"count\": 1}, {\"word\": \"Change\", \"count\": 1}, {\"word\": \"one\", \"count\": 1}, {\"word\": \"sentence\", \"count\": 1}, {\"word\": \"per\", \"count\": 1}, {\"word\": \"Mike\", \"count\": 1}, {\"word\": \"Abbink.4.0.2fix\", \"count\": 1}, {\"word\": \"fixes\", \"count\": 1}, {\"word\": \"289\", \"count\": 1}, {\"word\": \"fix\", \"count\": 1}, {\"word\": \"fixesfix\", \"count\": 1}, {\"word\": \"fixesUpdate\", \"count\": 1}, {\"word\": \"CHANGELOG.mdUpdate\", \"count\": 1}, {\"word\": \"CHANGELOG.md4.0.14.0.0breaking\", \"count\": 1}, {\"word\": \"sans\", \"count\": 1}, {\"word\": \"286\", \"count\": 1}, {\"word\": \"breaking\", \"count\": 1}, {\"word\": \"sansUpdate\", \"count\": 1}, {\"word\": \"222\", \"count\": 1}, {\"word\": \"README.mdbreaking\", \"count\": 1}, {\"word\": \"sans3.0.0Devanagari\", \"count\": 1}, {\"word\": \"277\", \"count\": 1}, {\"word\": \"Devanagari\", \"count\": 1}, {\"word\": \"updatefix\", \"count\": 1}, {\"word\": \"file\", \"count\": 1}, {\"word\": \"nameschore\", \"count\": 1}, {\"word\": \"changelogfix\", \"count\": 1}, {\"word\": \"extralight\", \"count\": 1}, {\"word\": \"semibold\", \"count\": 1}, {\"word\": \"weights\", \"count\": 1}, {\"word\": \"thaibreaking\", \"count\": 1}, {\"word\": \"devanagari\", \"count\": 1}, {\"word\": \"typeface\", \"count\": 1}, {\"word\": \"names\", \"count\": 1}, {\"word\": \"font\", \"count\": 1}, {\"word\": \"files\", \"count\": 1}]}}, {\"mode\": \"vega-lite\"});\n",
              "</script>"
            ]
          },
          "metadata": {
            "tags": []
          },
          "execution_count": 146
        }
      ]
    },
    {
      "cell_type": "markdown",
      "metadata": {
        "id": "ZPT5c21OeU4j",
        "colab_type": "text"
      },
      "source": [
        "### Conclution"
      ]
    },
    {
      "cell_type": "markdown",
      "metadata": {
        "id": "rlxip5-PeBIl",
        "colab_type": "text"
      },
      "source": [
        "In general I would like to thank you Marian for this brilliant course. As to myself I find the biggest challange in collecting and preparing your own dataset. During my work I faced the problem of incompartible data type too often. I can only imagine the reason is in the converting json file into csv and then into pandas dataframe. Still this course gave me important knowledge and motivation to dive deeper in the topic.\\"
      ]
    },
    {
      "cell_type": "code",
      "metadata": {
        "id": "TCneyfC5fZEt",
        "colab_type": "code",
        "colab": {}
      },
      "source": [
        ""
      ],
      "execution_count": null,
      "outputs": []
    }
  ]
}