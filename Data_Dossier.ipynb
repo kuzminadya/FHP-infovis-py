{
  "nbformat": 4,
  "nbformat_minor": 0,
  "metadata": {
    "colab": {
      "name": "Data Dossier | Consultations on 11 June.ipynb",
      "provenance": [],
      "authorship_tag": "ABX9TyOpYBfa0ycTZ/BArSRRNZZo",
      "include_colab_link": true
    },
    "kernelspec": {
      "name": "python3",
      "display_name": "Python 3"
    }
  },
  "cells": [
    {
      "cell_type": "markdown",
      "metadata": {
        "id": "view-in-github",
        "colab_type": "text"
      },
      "source": [
        "<a href=\"https://colab.research.google.com/github/kuzminadya/FHP-infovis-py/blob/master/Data_Dossier.ipynb\" target=\"_parent\"><img src=\"https://colab.research.google.com/assets/colab-badge.svg\" alt=\"Open In Colab\"/></a>"
      ]
    },
    {
      "cell_type": "markdown",
      "metadata": {
        "id": "HQFKi_PJ6xYS",
        "colab_type": "text"
      },
      "source": [
        "# Data Dossier | Consultation on 11 June\n",
        "\n",
        "## An idea\n",
        "\n",
        "My idea is to analyse and visualise the transformation of font file changing over time. Creating a font, especially a large font family may take several years of work or it might be a result of collaboration of several designers and type engineers. Even after the first version is released, the contribution to the project and updating the font may last for several years.\n",
        "\n",
        "*add text about version control system*\n",
        "\n",
        "## Title (the first version)\n",
        "\n",
        "Visualising font file transformation over time \n",
        "\n",
        "or\n",
        "\n",
        "Visualisation and analysis of font file transformation over time \n",
        "\n",
        "or\n",
        "\n",
        "As if the font was software. Visualization of the font development process\n",
        "\n",
        "## An approximate work plan\n",
        "\n",
        "[x] Choose a topic and/or dataset you are interested in\\\n",
        "[x] Prepare the data for the first use case\\\n",
        "[x] Prepare the data for the second use case\\\n",
        "[x] Pose a question to apply your visualization skills\\\n",
        "[ ] Generate several visualizations (static and interactive) → 25.06.2020\\\n",
        "[ ] Include the most informative in report on your process → 02.07.2020\\\n",
        "[ ] Share the resulting report as a Jupyter Notebook → 02.02.2020\n"
      ]
    },
    {
      "cell_type": "markdown",
      "metadata": {
        "id": "q2DiMqY__4fh",
        "colab_type": "text"
      },
      "source": [
        "## Use cases\n",
        "\n",
        "There are two possible ways of elaborating my experiment. I can visualise either the structure of the existing font (the first use case) or I can create one, using UFO format (the second use case). For the second story I need to prepare a sample dataset myself.\n",
        "\n",
        "### The first use case\n",
        "\n",
        "As an examle I use Source Code Pro Project from Adobe, which took part for 4 years:\\\n",
        "https://github.com/adobe-fonts/source-code-pro/commits/release\n",
        "\n",
        "And IBM Plex® typeface which was active on Github for a 2 years and have 219 commits:\\\n",
        "https://github.com/IBM/plex \n",
        "\n",
        "### The second use case\n",
        "\n",
        "For the second project I decided to use my own current project [Mogee font](http://nadyakuzmina.com/story-of-mogeefont)\n",
        "\n",
        "The font originally was made in glyphs and I need to prepare all the existing versions in UFO format.\n",
        "\n",
        "https://robofont.com/documentation/how-tos/using-git/\n",
        "\n",
        "> The UFO file format is perfect for version control, since it is text-based. A UFO is basically just a folder with many little XML-files in it. A UFO file could theoretically be created and modified in a text editor. This opens the field of digital type design for version control tools normally used only by software developers."
      ]
    },
    {
      "cell_type": "markdown",
      "metadata": {
        "id": "emGvVC7IE-0P",
        "colab_type": "text"
      },
      "source": [
        "## IBM Plex®\n",
        "\n",
        "Question\n",
        "\n",
        "https://github.com/IBM/plex/blob/master/LICENSE.txt\n"
      ]
    },
    {
      "cell_type": "code",
      "metadata": {
        "id": "q9ueJOVw7Lw1",
        "colab_type": "code",
        "colab": {}
      },
      "source": [
        "import pandas as pd\n",
        "import altair as alt"
      ],
      "execution_count": 0,
      "outputs": []
    },
    {
      "cell_type": "markdown",
      "metadata": {
        "id": "UuVFCkpKkYpb",
        "colab_type": "text"
      },
      "source": [
        "The first step is getting the dataset in JSON format from Github. It includes two files: a description of the repo and a list of commits."
      ]
    },
    {
      "cell_type": "markdown",
      "metadata": {
        "id": "hR50tHTqdhhd",
        "colab_type": "text"
      },
      "source": [
        "https://developer.github.com/v3/repos/#get-a-repository\n",
        "\n",
        "/repos/:owner/:repo"
      ]
    },
    {
      "cell_type": "code",
      "metadata": {
        "id": "xDKl58k9b2n8",
        "colab_type": "code",
        "outputId": "1f7207cc-6a0b-46cc-fcc9-8520b87af131",
        "colab": {
          "base_uri": "https://localhost:8080/",
          "height": 34
        }
      },
      "source": [
        "import requests \n",
        "\n",
        "url = ('https://api.github.com/repos/IBM/plex')\n",
        "\n",
        "response = requests.get(url)\n",
        "\n",
        "print(f\"Request returned {response.status_code} : '{response.reason}'\")\n",
        "dataset_repo_json = response.json()\n",
        "\n",
        "# dataset_repo_json"
      ],
      "execution_count": 58,
      "outputs": [
        {
          "output_type": "stream",
          "text": [
            "Request returned 200 : 'OK'\n"
          ],
          "name": "stdout"
        }
      ]
    },
    {
      "cell_type": "markdown",
      "metadata": {
        "id": "o4nxhHGKfT-X",
        "colab_type": "text"
      },
      "source": [
        "https://developer.github.com/v3/repos/commits/ \n",
        "\n",
        "GET /repos/:owner/:repo/commits"
      ]
    },
    {
      "cell_type": "code",
      "metadata": {
        "id": "kGM-cCYefYQ9",
        "colab_type": "code",
        "outputId": "9d703579-440a-4835-83a5-9940eccaaeac",
        "colab": {
          "base_uri": "https://localhost:8080/",
          "height": 34
        }
      },
      "source": [
        "url = ('https://api.github.com/repos/IBM/plex/commits')\n",
        "\n",
        "response = requests.get(url)\n",
        "\n",
        "print(f\"Request returned {response.status_code} : '{response.reason}'\")\n",
        "dataset_commits_json = response.json()\n",
        "\n",
        "# dataset_commits_json"
      ],
      "execution_count": 59,
      "outputs": [
        {
          "output_type": "stream",
          "text": [
            "Request returned 200 : 'OK'\n"
          ],
          "name": "stdout"
        }
      ]
    },
    {
      "cell_type": "markdown",
      "metadata": {
        "id": "eVTKav6SmNZP",
        "colab_type": "text"
      },
      "source": [
        "The next part is converting JSON into table.\n",
        "\n",
        "https://stackoverflow.com/questions/41168558/python-how-to-convert-json-file-to-dataframe"
      ]
    },
    {
      "cell_type": "code",
      "metadata": {
        "id": "Pj_LNtSxi1ru",
        "colab_type": "code",
        "outputId": "5d9cb9f5-199d-45e0-b2eb-f170197f6c06",
        "colab": {
          "base_uri": "https://localhost:8080/",
          "height": 411
        }
      },
      "source": [
        "from pandas.io.json import json_normalize\n",
        "df_commits_table = pd.DataFrame.from_dict(json_normalize(dataset_commits_json), orient='columns')\n",
        "df_repo_table = pd.DataFrame.from_dict(json_normalize(dataset_repo_json), orient='columns')\n",
        "df_commits_table.sample(5)\n",
        "# df_repo_table"
      ],
      "execution_count": 77,
      "outputs": [
        {
          "output_type": "stream",
          "text": [
            "/usr/local/lib/python3.6/dist-packages/ipykernel_launcher.py:2: FutureWarning: pandas.io.json.json_normalize is deprecated, use pandas.json_normalize instead\n",
            "  \n",
            "/usr/local/lib/python3.6/dist-packages/ipykernel_launcher.py:3: FutureWarning: pandas.io.json.json_normalize is deprecated, use pandas.json_normalize instead\n",
            "  This is separate from the ipykernel package so we can avoid doing imports until\n"
          ],
          "name": "stderr"
        },
        {
          "output_type": "execute_result",
          "data": {
            "text/html": [
              "<div>\n",
              "<style scoped>\n",
              "    .dataframe tbody tr th:only-of-type {\n",
              "        vertical-align: middle;\n",
              "    }\n",
              "\n",
              "    .dataframe tbody tr th {\n",
              "        vertical-align: top;\n",
              "    }\n",
              "\n",
              "    .dataframe thead th {\n",
              "        text-align: right;\n",
              "    }\n",
              "</style>\n",
              "<table border=\"1\" class=\"dataframe\">\n",
              "  <thead>\n",
              "    <tr style=\"text-align: right;\">\n",
              "      <th></th>\n",
              "      <th>sha</th>\n",
              "      <th>node_id</th>\n",
              "      <th>url</th>\n",
              "      <th>html_url</th>\n",
              "      <th>comments_url</th>\n",
              "      <th>author</th>\n",
              "      <th>committer</th>\n",
              "      <th>parents</th>\n",
              "      <th>commit.author.name</th>\n",
              "      <th>commit.author.email</th>\n",
              "      <th>commit.author.date</th>\n",
              "      <th>commit.committer.name</th>\n",
              "      <th>commit.committer.email</th>\n",
              "      <th>commit.committer.date</th>\n",
              "      <th>commit.message</th>\n",
              "      <th>commit.tree.sha</th>\n",
              "      <th>commit.tree.url</th>\n",
              "      <th>commit.url</th>\n",
              "      <th>commit.comment_count</th>\n",
              "      <th>commit.verification.verified</th>\n",
              "      <th>commit.verification.reason</th>\n",
              "      <th>commit.verification.signature</th>\n",
              "      <th>commit.verification.payload</th>\n",
              "      <th>author.login</th>\n",
              "      <th>author.id</th>\n",
              "      <th>author.node_id</th>\n",
              "      <th>author.avatar_url</th>\n",
              "      <th>author.gravatar_id</th>\n",
              "      <th>author.url</th>\n",
              "      <th>author.html_url</th>\n",
              "      <th>author.followers_url</th>\n",
              "      <th>author.following_url</th>\n",
              "      <th>author.gists_url</th>\n",
              "      <th>author.starred_url</th>\n",
              "      <th>author.subscriptions_url</th>\n",
              "      <th>author.organizations_url</th>\n",
              "      <th>author.repos_url</th>\n",
              "      <th>author.events_url</th>\n",
              "      <th>author.received_events_url</th>\n",
              "      <th>author.type</th>\n",
              "      <th>author.site_admin</th>\n",
              "      <th>committer.login</th>\n",
              "      <th>committer.id</th>\n",
              "      <th>committer.node_id</th>\n",
              "      <th>committer.avatar_url</th>\n",
              "      <th>committer.gravatar_id</th>\n",
              "      <th>committer.url</th>\n",
              "      <th>committer.html_url</th>\n",
              "      <th>committer.followers_url</th>\n",
              "      <th>committer.following_url</th>\n",
              "      <th>committer.gists_url</th>\n",
              "      <th>committer.starred_url</th>\n",
              "      <th>committer.subscriptions_url</th>\n",
              "      <th>committer.organizations_url</th>\n",
              "      <th>committer.repos_url</th>\n",
              "      <th>committer.events_url</th>\n",
              "      <th>committer.received_events_url</th>\n",
              "      <th>committer.type</th>\n",
              "      <th>committer.site_admin</th>\n",
              "    </tr>\n",
              "  </thead>\n",
              "  <tbody>\n",
              "    <tr>\n",
              "      <th>22</th>\n",
              "      <td>f51d07200ae54caed11da4de140142ed61af1be3</td>\n",
              "      <td>MDY6Q29tbWl0MTA1NzAyNjMxOmY1MWQwNzIwMGFlNTRjYW...</td>\n",
              "      <td>https://api.github.com/repos/IBM/plex/commits/...</td>\n",
              "      <td>https://github.com/IBM/plex/commit/f51d07200ae...</td>\n",
              "      <td>https://api.github.com/repos/IBM/plex/commits/...</td>\n",
              "      <td>NaN</td>\n",
              "      <td>NaN</td>\n",
              "      <td>[{'sha': '5cba621ef7cf82d813a0e794d778f4c605aa...</td>\n",
              "      <td>Vince Picone</td>\n",
              "      <td>Vincent.Patrick.Picone@ibm.com</td>\n",
              "      <td>2019-10-05T03:30:32Z</td>\n",
              "      <td>Vince Picone</td>\n",
              "      <td>Vincent.Patrick.Picone@ibm.com</td>\n",
              "      <td>2019-10-05T03:30:32Z</td>\n",
              "      <td>3.0.0</td>\n",
              "      <td>8845a8c10a253819c6e3eff3ea83d300de60c36e</td>\n",
              "      <td>https://api.github.com/repos/IBM/plex/git/tree...</td>\n",
              "      <td>https://api.github.com/repos/IBM/plex/git/comm...</td>\n",
              "      <td>0</td>\n",
              "      <td>False</td>\n",
              "      <td>unsigned</td>\n",
              "      <td>None</td>\n",
              "      <td>None</td>\n",
              "      <td>NaN</td>\n",
              "      <td>NaN</td>\n",
              "      <td>NaN</td>\n",
              "      <td>NaN</td>\n",
              "      <td>NaN</td>\n",
              "      <td>NaN</td>\n",
              "      <td>NaN</td>\n",
              "      <td>NaN</td>\n",
              "      <td>NaN</td>\n",
              "      <td>NaN</td>\n",
              "      <td>NaN</td>\n",
              "      <td>NaN</td>\n",
              "      <td>NaN</td>\n",
              "      <td>NaN</td>\n",
              "      <td>NaN</td>\n",
              "      <td>NaN</td>\n",
              "      <td>NaN</td>\n",
              "      <td>NaN</td>\n",
              "      <td>NaN</td>\n",
              "      <td>NaN</td>\n",
              "      <td>NaN</td>\n",
              "      <td>NaN</td>\n",
              "      <td>NaN</td>\n",
              "      <td>NaN</td>\n",
              "      <td>NaN</td>\n",
              "      <td>NaN</td>\n",
              "      <td>NaN</td>\n",
              "      <td>NaN</td>\n",
              "      <td>NaN</td>\n",
              "      <td>NaN</td>\n",
              "      <td>NaN</td>\n",
              "      <td>NaN</td>\n",
              "      <td>NaN</td>\n",
              "      <td>NaN</td>\n",
              "      <td>NaN</td>\n",
              "      <td>NaN</td>\n",
              "    </tr>\n",
              "    <tr>\n",
              "      <th>18</th>\n",
              "      <td>877cd331a707864d70af9abc3541f6fd93571da3</td>\n",
              "      <td>MDY6Q29tbWl0MTA1NzAyNjMxOjg3N2NkMzMxYTcwNzg2NG...</td>\n",
              "      <td>https://api.github.com/repos/IBM/plex/commits/...</td>\n",
              "      <td>https://github.com/IBM/plex/commit/877cd331a70...</td>\n",
              "      <td>https://api.github.com/repos/IBM/plex/commits/...</td>\n",
              "      <td>NaN</td>\n",
              "      <td>NaN</td>\n",
              "      <td>[{'sha': '70a8b40c775df44fd9aa2d46accddc1d39df...</td>\n",
              "      <td>Vince Picone</td>\n",
              "      <td>Vincent.Patrick.Picone@ibm.com</td>\n",
              "      <td>2019-11-18T16:03:37Z</td>\n",
              "      <td>Vince Picone</td>\n",
              "      <td>Vincent.Patrick.Picone@ibm.com</td>\n",
              "      <td>2019-11-18T16:03:37Z</td>\n",
              "      <td>4.0.0</td>\n",
              "      <td>ef5182f0512791fc4d8d6d14c75314a7a75a3884</td>\n",
              "      <td>https://api.github.com/repos/IBM/plex/git/tree...</td>\n",
              "      <td>https://api.github.com/repos/IBM/plex/git/comm...</td>\n",
              "      <td>0</td>\n",
              "      <td>False</td>\n",
              "      <td>unsigned</td>\n",
              "      <td>None</td>\n",
              "      <td>None</td>\n",
              "      <td>NaN</td>\n",
              "      <td>NaN</td>\n",
              "      <td>NaN</td>\n",
              "      <td>NaN</td>\n",
              "      <td>NaN</td>\n",
              "      <td>NaN</td>\n",
              "      <td>NaN</td>\n",
              "      <td>NaN</td>\n",
              "      <td>NaN</td>\n",
              "      <td>NaN</td>\n",
              "      <td>NaN</td>\n",
              "      <td>NaN</td>\n",
              "      <td>NaN</td>\n",
              "      <td>NaN</td>\n",
              "      <td>NaN</td>\n",
              "      <td>NaN</td>\n",
              "      <td>NaN</td>\n",
              "      <td>NaN</td>\n",
              "      <td>NaN</td>\n",
              "      <td>NaN</td>\n",
              "      <td>NaN</td>\n",
              "      <td>NaN</td>\n",
              "      <td>NaN</td>\n",
              "      <td>NaN</td>\n",
              "      <td>NaN</td>\n",
              "      <td>NaN</td>\n",
              "      <td>NaN</td>\n",
              "      <td>NaN</td>\n",
              "      <td>NaN</td>\n",
              "      <td>NaN</td>\n",
              "      <td>NaN</td>\n",
              "      <td>NaN</td>\n",
              "      <td>NaN</td>\n",
              "      <td>NaN</td>\n",
              "      <td>NaN</td>\n",
              "      <td>NaN</td>\n",
              "    </tr>\n",
              "    <tr>\n",
              "      <th>2</th>\n",
              "      <td>e131c864d7cf500828cd08be657de4829880f197</td>\n",
              "      <td>MDY6Q29tbWl0MTA1NzAyNjMxOmUxMzFjODY0ZDdjZjUwMD...</td>\n",
              "      <td>https://api.github.com/repos/IBM/plex/commits/...</td>\n",
              "      <td>https://github.com/IBM/plex/commit/e131c864d7c...</td>\n",
              "      <td>https://api.github.com/repos/IBM/plex/commits/...</td>\n",
              "      <td>NaN</td>\n",
              "      <td>NaN</td>\n",
              "      <td>[{'sha': '612b878e01e31ec221017d973eee1df53078...</td>\n",
              "      <td>Vince Picone</td>\n",
              "      <td>Vincent.Patrick.Picone@ibm.com</td>\n",
              "      <td>2020-06-06T20:27:05Z</td>\n",
              "      <td>Vince Picone</td>\n",
              "      <td>Vincent.Patrick.Picone@ibm.com</td>\n",
              "      <td>2020-06-06T20:27:05Z</td>\n",
              "      <td>fix: tweak zip script to handle korean and var...</td>\n",
              "      <td>debd4c51481ea01f6738f79b07407d00752f8d13</td>\n",
              "      <td>https://api.github.com/repos/IBM/plex/git/tree...</td>\n",
              "      <td>https://api.github.com/repos/IBM/plex/git/comm...</td>\n",
              "      <td>0</td>\n",
              "      <td>False</td>\n",
              "      <td>unsigned</td>\n",
              "      <td>None</td>\n",
              "      <td>None</td>\n",
              "      <td>NaN</td>\n",
              "      <td>NaN</td>\n",
              "      <td>NaN</td>\n",
              "      <td>NaN</td>\n",
              "      <td>NaN</td>\n",
              "      <td>NaN</td>\n",
              "      <td>NaN</td>\n",
              "      <td>NaN</td>\n",
              "      <td>NaN</td>\n",
              "      <td>NaN</td>\n",
              "      <td>NaN</td>\n",
              "      <td>NaN</td>\n",
              "      <td>NaN</td>\n",
              "      <td>NaN</td>\n",
              "      <td>NaN</td>\n",
              "      <td>NaN</td>\n",
              "      <td>NaN</td>\n",
              "      <td>NaN</td>\n",
              "      <td>NaN</td>\n",
              "      <td>NaN</td>\n",
              "      <td>NaN</td>\n",
              "      <td>NaN</td>\n",
              "      <td>NaN</td>\n",
              "      <td>NaN</td>\n",
              "      <td>NaN</td>\n",
              "      <td>NaN</td>\n",
              "      <td>NaN</td>\n",
              "      <td>NaN</td>\n",
              "      <td>NaN</td>\n",
              "      <td>NaN</td>\n",
              "      <td>NaN</td>\n",
              "      <td>NaN</td>\n",
              "      <td>NaN</td>\n",
              "      <td>NaN</td>\n",
              "      <td>NaN</td>\n",
              "      <td>NaN</td>\n",
              "    </tr>\n",
              "    <tr>\n",
              "      <th>3</th>\n",
              "      <td>612b878e01e31ec221017d973eee1df530785a2d</td>\n",
              "      <td>MDY6Q29tbWl0MTA1NzAyNjMxOjYxMmI4NzhlMDFlMzFlYz...</td>\n",
              "      <td>https://api.github.com/repos/IBM/plex/commits/...</td>\n",
              "      <td>https://github.com/IBM/plex/commit/612b878e01e...</td>\n",
              "      <td>https://api.github.com/repos/IBM/plex/commits/...</td>\n",
              "      <td>NaN</td>\n",
              "      <td>NaN</td>\n",
              "      <td>[{'sha': 'ad5cd7fedddeb12636035acb6d9bea9b500c...</td>\n",
              "      <td>Vince Picone</td>\n",
              "      <td>Vincent.Patrick.Picone@ibm.com</td>\n",
              "      <td>2020-06-01T21:31:54Z</td>\n",
              "      <td>Vince Picone</td>\n",
              "      <td>Vincent.Patrick.Picone@ibm.com</td>\n",
              "      <td>2020-06-01T21:31:54Z</td>\n",
              "      <td>fix: temporarily exclude korean from zip</td>\n",
              "      <td>aeda2c3a8100b8251b40059a832eaf53963ec6a5</td>\n",
              "      <td>https://api.github.com/repos/IBM/plex/git/tree...</td>\n",
              "      <td>https://api.github.com/repos/IBM/plex/git/comm...</td>\n",
              "      <td>0</td>\n",
              "      <td>False</td>\n",
              "      <td>unsigned</td>\n",
              "      <td>None</td>\n",
              "      <td>None</td>\n",
              "      <td>NaN</td>\n",
              "      <td>NaN</td>\n",
              "      <td>NaN</td>\n",
              "      <td>NaN</td>\n",
              "      <td>NaN</td>\n",
              "      <td>NaN</td>\n",
              "      <td>NaN</td>\n",
              "      <td>NaN</td>\n",
              "      <td>NaN</td>\n",
              "      <td>NaN</td>\n",
              "      <td>NaN</td>\n",
              "      <td>NaN</td>\n",
              "      <td>NaN</td>\n",
              "      <td>NaN</td>\n",
              "      <td>NaN</td>\n",
              "      <td>NaN</td>\n",
              "      <td>NaN</td>\n",
              "      <td>NaN</td>\n",
              "      <td>NaN</td>\n",
              "      <td>NaN</td>\n",
              "      <td>NaN</td>\n",
              "      <td>NaN</td>\n",
              "      <td>NaN</td>\n",
              "      <td>NaN</td>\n",
              "      <td>NaN</td>\n",
              "      <td>NaN</td>\n",
              "      <td>NaN</td>\n",
              "      <td>NaN</td>\n",
              "      <td>NaN</td>\n",
              "      <td>NaN</td>\n",
              "      <td>NaN</td>\n",
              "      <td>NaN</td>\n",
              "      <td>NaN</td>\n",
              "      <td>NaN</td>\n",
              "      <td>NaN</td>\n",
              "      <td>NaN</td>\n",
              "    </tr>\n",
              "    <tr>\n",
              "      <th>10</th>\n",
              "      <td>ef0ab4998329e17e34e9aaa301b3ebbe4035d709</td>\n",
              "      <td>MDY6Q29tbWl0MTA1NzAyNjMxOmVmMGFiNDk5ODMyOWUxN2...</td>\n",
              "      <td>https://api.github.com/repos/IBM/plex/commits/...</td>\n",
              "      <td>https://github.com/IBM/plex/commit/ef0ab499832...</td>\n",
              "      <td>https://api.github.com/repos/IBM/plex/commits/...</td>\n",
              "      <td>NaN</td>\n",
              "      <td>NaN</td>\n",
              "      <td>[{'sha': 'ece93fb2310b791bf229a6f4a94f7195f300...</td>\n",
              "      <td>Vince Picone</td>\n",
              "      <td>Vincent.Patrick.Picone@ibm.com</td>\n",
              "      <td>2019-12-09T21:49:34Z</td>\n",
              "      <td>Vince Picone</td>\n",
              "      <td>Vincent.Patrick.Picone@ibm.com</td>\n",
              "      <td>2019-12-09T21:49:34Z</td>\n",
              "      <td>4.0.2</td>\n",
              "      <td>d982c5cff6d95883ce86cd327107962f346f99cb</td>\n",
              "      <td>https://api.github.com/repos/IBM/plex/git/tree...</td>\n",
              "      <td>https://api.github.com/repos/IBM/plex/git/comm...</td>\n",
              "      <td>0</td>\n",
              "      <td>False</td>\n",
              "      <td>unsigned</td>\n",
              "      <td>None</td>\n",
              "      <td>None</td>\n",
              "      <td>NaN</td>\n",
              "      <td>NaN</td>\n",
              "      <td>NaN</td>\n",
              "      <td>NaN</td>\n",
              "      <td>NaN</td>\n",
              "      <td>NaN</td>\n",
              "      <td>NaN</td>\n",
              "      <td>NaN</td>\n",
              "      <td>NaN</td>\n",
              "      <td>NaN</td>\n",
              "      <td>NaN</td>\n",
              "      <td>NaN</td>\n",
              "      <td>NaN</td>\n",
              "      <td>NaN</td>\n",
              "      <td>NaN</td>\n",
              "      <td>NaN</td>\n",
              "      <td>NaN</td>\n",
              "      <td>NaN</td>\n",
              "      <td>NaN</td>\n",
              "      <td>NaN</td>\n",
              "      <td>NaN</td>\n",
              "      <td>NaN</td>\n",
              "      <td>NaN</td>\n",
              "      <td>NaN</td>\n",
              "      <td>NaN</td>\n",
              "      <td>NaN</td>\n",
              "      <td>NaN</td>\n",
              "      <td>NaN</td>\n",
              "      <td>NaN</td>\n",
              "      <td>NaN</td>\n",
              "      <td>NaN</td>\n",
              "      <td>NaN</td>\n",
              "      <td>NaN</td>\n",
              "      <td>NaN</td>\n",
              "      <td>NaN</td>\n",
              "      <td>NaN</td>\n",
              "    </tr>\n",
              "  </tbody>\n",
              "</table>\n",
              "</div>"
            ],
            "text/plain": [
              "                                         sha  ... committer.site_admin\n",
              "22  f51d07200ae54caed11da4de140142ed61af1be3  ...                  NaN\n",
              "18  877cd331a707864d70af9abc3541f6fd93571da3  ...                  NaN\n",
              "2   e131c864d7cf500828cd08be657de4829880f197  ...                  NaN\n",
              "3   612b878e01e31ec221017d973eee1df530785a2d  ...                  NaN\n",
              "10  ef0ab4998329e17e34e9aaa301b3ebbe4035d709  ...                  NaN\n",
              "\n",
              "[5 rows x 59 columns]"
            ]
          },
          "metadata": {
            "tags": []
          },
          "execution_count": 77
        }
      ]
    },
    {
      "cell_type": "code",
      "metadata": {
        "id": "VV2WBaZbv5hO",
        "colab_type": "code",
        "colab": {}
      },
      "source": [
        "from google.colab import files\n",
        "\n",
        "df_commits_table.to_csv('df_commits_table.csv')\n",
        "files.download('df_commits_table.csv')"
      ],
      "execution_count": 0,
      "outputs": []
    },
    {
      "cell_type": "code",
      "metadata": {
        "id": "KweYihPU43Fu",
        "colab_type": "code",
        "outputId": "a2750b2d-80b1-4de8-f768-39658be27291",
        "colab": {
          "base_uri": "https://localhost:8080/",
          "height": 102
        }
      },
      "source": [
        "df_repo_table.info()"
      ],
      "execution_count": 62,
      "outputs": [
        {
          "output_type": "stream",
          "text": [
            "<class 'pandas.core.frame.DataFrame'>\n",
            "RangeIndex: 1 entries, 0 to 0\n",
            "Columns: 115 entries, id to organization.site_admin\n",
            "dtypes: bool(11), int64(13), object(91)\n",
            "memory usage: 971.0+ bytes\n"
          ],
          "name": "stdout"
        }
      ]
    },
    {
      "cell_type": "markdown",
      "metadata": {
        "id": "nhDxXK8MzA9p",
        "colab_type": "text"
      },
      "source": [
        "Datawrapper visualisation\n",
        "https://datawrapper.dwcdn.net/wLs3F/1/"
      ]
    },
    {
      "cell_type": "code",
      "metadata": {
        "id": "V705F9VG13K-",
        "colab_type": "code",
        "colab": {}
      },
      "source": [
        "df_commits_table_reduced['commit.author.date'] = pd.to_datetime(df_commits_table_reduced['commit.author.date'], format='%Y-%m-%d')\n",
        "\n",
        "# df_commits_table_reduced['commit.author.date']"
      ],
      "execution_count": 0,
      "outputs": []
    },
    {
      "cell_type": "code",
      "metadata": {
        "id": "EyvxpyIyzqVh",
        "colab_type": "code",
        "colab": {
          "base_uri": "https://localhost:8080/",
          "height": 412
        },
        "outputId": "0a840deb-64e2-494d-d62e-a89e2f09155e"
      },
      "source": [
        "alt.Chart(df_repo_table).mark_circle(size=60).encode(\n",
        "    x='commit.author.date:T',\n",
        "    y='',\n",
        "    color='commit.author.name:N',\n",
        "    tooltip=['commit.author.name:N', 'commit.message:N']\n",
        ").interactive()"
      ],
      "execution_count": 64,
      "outputs": [
        {
          "output_type": "error",
          "ename": "ValueError",
          "evalue": "ignored",
          "traceback": [
            "\u001b[0;31m---------------------------------------------------------------------------\u001b[0m",
            "\u001b[0;31mValueError\u001b[0m                                Traceback (most recent call last)",
            "\u001b[0;32m/usr/local/lib/python3.6/dist-packages/altair/vegalite/v4/api.py\u001b[0m in \u001b[0;36mto_dict\u001b[0;34m(self, *args, **kwargs)\u001b[0m\n\u001b[1;32m    371\u001b[0m \u001b[0;34m\u001b[0m\u001b[0m\n\u001b[1;32m    372\u001b[0m         \u001b[0;32mtry\u001b[0m\u001b[0;34m:\u001b[0m\u001b[0;34m\u001b[0m\u001b[0;34m\u001b[0m\u001b[0m\n\u001b[0;32m--> 373\u001b[0;31m             \u001b[0mdct\u001b[0m \u001b[0;34m=\u001b[0m \u001b[0msuper\u001b[0m\u001b[0;34m(\u001b[0m\u001b[0mTopLevelMixin\u001b[0m\u001b[0;34m,\u001b[0m \u001b[0mcopy\u001b[0m\u001b[0;34m)\u001b[0m\u001b[0;34m.\u001b[0m\u001b[0mto_dict\u001b[0m\u001b[0;34m(\u001b[0m\u001b[0;34m*\u001b[0m\u001b[0margs\u001b[0m\u001b[0;34m,\u001b[0m \u001b[0;34m**\u001b[0m\u001b[0mkwargs\u001b[0m\u001b[0;34m)\u001b[0m\u001b[0;34m\u001b[0m\u001b[0;34m\u001b[0m\u001b[0m\n\u001b[0m\u001b[1;32m    374\u001b[0m         \u001b[0;32mexcept\u001b[0m \u001b[0mjsonschema\u001b[0m\u001b[0;34m.\u001b[0m\u001b[0mValidationError\u001b[0m\u001b[0;34m:\u001b[0m\u001b[0;34m\u001b[0m\u001b[0;34m\u001b[0m\u001b[0m\n\u001b[1;32m    375\u001b[0m             \u001b[0mdct\u001b[0m \u001b[0;34m=\u001b[0m \u001b[0;32mNone\u001b[0m\u001b[0;34m\u001b[0m\u001b[0;34m\u001b[0m\u001b[0m\n",
            "\u001b[0;32m/usr/local/lib/python3.6/dist-packages/altair/utils/schemapi.py\u001b[0m in \u001b[0;36mto_dict\u001b[0;34m(self, validate, ignore, context)\u001b[0m\n\u001b[1;32m    326\u001b[0m                 \u001b[0;34m{\u001b[0m\u001b[0mk\u001b[0m\u001b[0;34m:\u001b[0m \u001b[0mv\u001b[0m \u001b[0;32mfor\u001b[0m \u001b[0mk\u001b[0m\u001b[0;34m,\u001b[0m \u001b[0mv\u001b[0m \u001b[0;32min\u001b[0m \u001b[0mself\u001b[0m\u001b[0;34m.\u001b[0m\u001b[0m_kwds\u001b[0m\u001b[0;34m.\u001b[0m\u001b[0mitems\u001b[0m\u001b[0;34m(\u001b[0m\u001b[0;34m)\u001b[0m \u001b[0;32mif\u001b[0m \u001b[0mk\u001b[0m \u001b[0;32mnot\u001b[0m \u001b[0;32min\u001b[0m \u001b[0mignore\u001b[0m\u001b[0;34m}\u001b[0m\u001b[0;34m,\u001b[0m\u001b[0;34m\u001b[0m\u001b[0;34m\u001b[0m\u001b[0m\n\u001b[1;32m    327\u001b[0m                 \u001b[0mvalidate\u001b[0m\u001b[0;34m=\u001b[0m\u001b[0msub_validate\u001b[0m\u001b[0;34m,\u001b[0m\u001b[0;34m\u001b[0m\u001b[0;34m\u001b[0m\u001b[0m\n\u001b[0;32m--> 328\u001b[0;31m                 \u001b[0mcontext\u001b[0m\u001b[0;34m=\u001b[0m\u001b[0mcontext\u001b[0m\u001b[0;34m,\u001b[0m\u001b[0;34m\u001b[0m\u001b[0;34m\u001b[0m\u001b[0m\n\u001b[0m\u001b[1;32m    329\u001b[0m             )\n\u001b[1;32m    330\u001b[0m         \u001b[0;32melse\u001b[0m\u001b[0;34m:\u001b[0m\u001b[0;34m\u001b[0m\u001b[0;34m\u001b[0m\u001b[0m\n",
            "\u001b[0;32m/usr/local/lib/python3.6/dist-packages/altair/utils/schemapi.py\u001b[0m in \u001b[0;36m_todict\u001b[0;34m(obj, validate, context)\u001b[0m\n\u001b[1;32m     60\u001b[0m         return {\n\u001b[1;32m     61\u001b[0m             \u001b[0mk\u001b[0m\u001b[0;34m:\u001b[0m \u001b[0m_todict\u001b[0m\u001b[0;34m(\u001b[0m\u001b[0mv\u001b[0m\u001b[0;34m,\u001b[0m \u001b[0mvalidate\u001b[0m\u001b[0;34m,\u001b[0m \u001b[0mcontext\u001b[0m\u001b[0;34m)\u001b[0m\u001b[0;34m\u001b[0m\u001b[0;34m\u001b[0m\u001b[0m\n\u001b[0;32m---> 62\u001b[0;31m             \u001b[0;32mfor\u001b[0m \u001b[0mk\u001b[0m\u001b[0;34m,\u001b[0m \u001b[0mv\u001b[0m \u001b[0;32min\u001b[0m \u001b[0mobj\u001b[0m\u001b[0;34m.\u001b[0m\u001b[0mitems\u001b[0m\u001b[0;34m(\u001b[0m\u001b[0;34m)\u001b[0m\u001b[0;34m\u001b[0m\u001b[0;34m\u001b[0m\u001b[0m\n\u001b[0m\u001b[1;32m     63\u001b[0m             \u001b[0;32mif\u001b[0m \u001b[0mv\u001b[0m \u001b[0;32mis\u001b[0m \u001b[0;32mnot\u001b[0m \u001b[0mUndefined\u001b[0m\u001b[0;34m\u001b[0m\u001b[0;34m\u001b[0m\u001b[0m\n\u001b[1;32m     64\u001b[0m         }\n",
            "\u001b[0;32m/usr/local/lib/python3.6/dist-packages/altair/utils/schemapi.py\u001b[0m in \u001b[0;36m<dictcomp>\u001b[0;34m(.0)\u001b[0m\n\u001b[1;32m     61\u001b[0m             \u001b[0mk\u001b[0m\u001b[0;34m:\u001b[0m \u001b[0m_todict\u001b[0m\u001b[0;34m(\u001b[0m\u001b[0mv\u001b[0m\u001b[0;34m,\u001b[0m \u001b[0mvalidate\u001b[0m\u001b[0;34m,\u001b[0m \u001b[0mcontext\u001b[0m\u001b[0;34m)\u001b[0m\u001b[0;34m\u001b[0m\u001b[0;34m\u001b[0m\u001b[0m\n\u001b[1;32m     62\u001b[0m             \u001b[0;32mfor\u001b[0m \u001b[0mk\u001b[0m\u001b[0;34m,\u001b[0m \u001b[0mv\u001b[0m \u001b[0;32min\u001b[0m \u001b[0mobj\u001b[0m\u001b[0;34m.\u001b[0m\u001b[0mitems\u001b[0m\u001b[0;34m(\u001b[0m\u001b[0;34m)\u001b[0m\u001b[0;34m\u001b[0m\u001b[0;34m\u001b[0m\u001b[0m\n\u001b[0;32m---> 63\u001b[0;31m             \u001b[0;32mif\u001b[0m \u001b[0mv\u001b[0m \u001b[0;32mis\u001b[0m \u001b[0;32mnot\u001b[0m \u001b[0mUndefined\u001b[0m\u001b[0;34m\u001b[0m\u001b[0;34m\u001b[0m\u001b[0m\n\u001b[0m\u001b[1;32m     64\u001b[0m         }\n\u001b[1;32m     65\u001b[0m     \u001b[0;32melif\u001b[0m \u001b[0mhasattr\u001b[0m\u001b[0;34m(\u001b[0m\u001b[0mobj\u001b[0m\u001b[0;34m,\u001b[0m \u001b[0;34m\"to_dict\"\u001b[0m\u001b[0;34m)\u001b[0m\u001b[0;34m:\u001b[0m\u001b[0;34m\u001b[0m\u001b[0;34m\u001b[0m\u001b[0m\n",
            "\u001b[0;32m/usr/local/lib/python3.6/dist-packages/altair/utils/schemapi.py\u001b[0m in \u001b[0;36m_todict\u001b[0;34m(obj, validate, context)\u001b[0m\n\u001b[1;32m     54\u001b[0m     \u001b[0;34m\"\"\"Convert an object to a dict representation.\"\"\"\u001b[0m\u001b[0;34m\u001b[0m\u001b[0;34m\u001b[0m\u001b[0m\n\u001b[1;32m     55\u001b[0m     \u001b[0;32mif\u001b[0m \u001b[0misinstance\u001b[0m\u001b[0;34m(\u001b[0m\u001b[0mobj\u001b[0m\u001b[0;34m,\u001b[0m \u001b[0mSchemaBase\u001b[0m\u001b[0;34m)\u001b[0m\u001b[0;34m:\u001b[0m\u001b[0;34m\u001b[0m\u001b[0;34m\u001b[0m\u001b[0m\n\u001b[0;32m---> 56\u001b[0;31m         \u001b[0;32mreturn\u001b[0m \u001b[0mobj\u001b[0m\u001b[0;34m.\u001b[0m\u001b[0mto_dict\u001b[0m\u001b[0;34m(\u001b[0m\u001b[0mvalidate\u001b[0m\u001b[0;34m=\u001b[0m\u001b[0mvalidate\u001b[0m\u001b[0;34m,\u001b[0m \u001b[0mcontext\u001b[0m\u001b[0;34m=\u001b[0m\u001b[0mcontext\u001b[0m\u001b[0;34m)\u001b[0m\u001b[0;34m\u001b[0m\u001b[0;34m\u001b[0m\u001b[0m\n\u001b[0m\u001b[1;32m     57\u001b[0m     \u001b[0;32melif\u001b[0m \u001b[0misinstance\u001b[0m\u001b[0;34m(\u001b[0m\u001b[0mobj\u001b[0m\u001b[0;34m,\u001b[0m \u001b[0;34m(\u001b[0m\u001b[0mlist\u001b[0m\u001b[0;34m,\u001b[0m \u001b[0mtuple\u001b[0m\u001b[0;34m,\u001b[0m \u001b[0mnp\u001b[0m\u001b[0;34m.\u001b[0m\u001b[0mndarray\u001b[0m\u001b[0;34m)\u001b[0m\u001b[0;34m)\u001b[0m\u001b[0;34m:\u001b[0m\u001b[0;34m\u001b[0m\u001b[0;34m\u001b[0m\u001b[0m\n\u001b[1;32m     58\u001b[0m         \u001b[0;32mreturn\u001b[0m \u001b[0;34m[\u001b[0m\u001b[0m_todict\u001b[0m\u001b[0;34m(\u001b[0m\u001b[0mv\u001b[0m\u001b[0;34m,\u001b[0m \u001b[0mvalidate\u001b[0m\u001b[0;34m,\u001b[0m \u001b[0mcontext\u001b[0m\u001b[0;34m)\u001b[0m \u001b[0;32mfor\u001b[0m \u001b[0mv\u001b[0m \u001b[0;32min\u001b[0m \u001b[0mobj\u001b[0m\u001b[0;34m]\u001b[0m\u001b[0;34m\u001b[0m\u001b[0;34m\u001b[0m\u001b[0m\n",
            "\u001b[0;32m/usr/local/lib/python3.6/dist-packages/altair/utils/schemapi.py\u001b[0m in \u001b[0;36mto_dict\u001b[0;34m(self, validate, ignore, context)\u001b[0m\n\u001b[1;32m    326\u001b[0m                 \u001b[0;34m{\u001b[0m\u001b[0mk\u001b[0m\u001b[0;34m:\u001b[0m \u001b[0mv\u001b[0m \u001b[0;32mfor\u001b[0m \u001b[0mk\u001b[0m\u001b[0;34m,\u001b[0m \u001b[0mv\u001b[0m \u001b[0;32min\u001b[0m \u001b[0mself\u001b[0m\u001b[0;34m.\u001b[0m\u001b[0m_kwds\u001b[0m\u001b[0;34m.\u001b[0m\u001b[0mitems\u001b[0m\u001b[0;34m(\u001b[0m\u001b[0;34m)\u001b[0m \u001b[0;32mif\u001b[0m \u001b[0mk\u001b[0m \u001b[0;32mnot\u001b[0m \u001b[0;32min\u001b[0m \u001b[0mignore\u001b[0m\u001b[0;34m}\u001b[0m\u001b[0;34m,\u001b[0m\u001b[0;34m\u001b[0m\u001b[0;34m\u001b[0m\u001b[0m\n\u001b[1;32m    327\u001b[0m                 \u001b[0mvalidate\u001b[0m\u001b[0;34m=\u001b[0m\u001b[0msub_validate\u001b[0m\u001b[0;34m,\u001b[0m\u001b[0;34m\u001b[0m\u001b[0;34m\u001b[0m\u001b[0m\n\u001b[0;32m--> 328\u001b[0;31m                 \u001b[0mcontext\u001b[0m\u001b[0;34m=\u001b[0m\u001b[0mcontext\u001b[0m\u001b[0;34m,\u001b[0m\u001b[0;34m\u001b[0m\u001b[0;34m\u001b[0m\u001b[0m\n\u001b[0m\u001b[1;32m    329\u001b[0m             )\n\u001b[1;32m    330\u001b[0m         \u001b[0;32melse\u001b[0m\u001b[0;34m:\u001b[0m\u001b[0;34m\u001b[0m\u001b[0;34m\u001b[0m\u001b[0m\n",
            "\u001b[0;32m/usr/local/lib/python3.6/dist-packages/altair/utils/schemapi.py\u001b[0m in \u001b[0;36m_todict\u001b[0;34m(obj, validate, context)\u001b[0m\n\u001b[1;32m     60\u001b[0m         return {\n\u001b[1;32m     61\u001b[0m             \u001b[0mk\u001b[0m\u001b[0;34m:\u001b[0m \u001b[0m_todict\u001b[0m\u001b[0;34m(\u001b[0m\u001b[0mv\u001b[0m\u001b[0;34m,\u001b[0m \u001b[0mvalidate\u001b[0m\u001b[0;34m,\u001b[0m \u001b[0mcontext\u001b[0m\u001b[0;34m)\u001b[0m\u001b[0;34m\u001b[0m\u001b[0;34m\u001b[0m\u001b[0m\n\u001b[0;32m---> 62\u001b[0;31m             \u001b[0;32mfor\u001b[0m \u001b[0mk\u001b[0m\u001b[0;34m,\u001b[0m \u001b[0mv\u001b[0m \u001b[0;32min\u001b[0m \u001b[0mobj\u001b[0m\u001b[0;34m.\u001b[0m\u001b[0mitems\u001b[0m\u001b[0;34m(\u001b[0m\u001b[0;34m)\u001b[0m\u001b[0;34m\u001b[0m\u001b[0;34m\u001b[0m\u001b[0m\n\u001b[0m\u001b[1;32m     63\u001b[0m             \u001b[0;32mif\u001b[0m \u001b[0mv\u001b[0m \u001b[0;32mis\u001b[0m \u001b[0;32mnot\u001b[0m \u001b[0mUndefined\u001b[0m\u001b[0;34m\u001b[0m\u001b[0;34m\u001b[0m\u001b[0m\n\u001b[1;32m     64\u001b[0m         }\n",
            "\u001b[0;32m/usr/local/lib/python3.6/dist-packages/altair/utils/schemapi.py\u001b[0m in \u001b[0;36m<dictcomp>\u001b[0;34m(.0)\u001b[0m\n\u001b[1;32m     61\u001b[0m             \u001b[0mk\u001b[0m\u001b[0;34m:\u001b[0m \u001b[0m_todict\u001b[0m\u001b[0;34m(\u001b[0m\u001b[0mv\u001b[0m\u001b[0;34m,\u001b[0m \u001b[0mvalidate\u001b[0m\u001b[0;34m,\u001b[0m \u001b[0mcontext\u001b[0m\u001b[0;34m)\u001b[0m\u001b[0;34m\u001b[0m\u001b[0;34m\u001b[0m\u001b[0m\n\u001b[1;32m     62\u001b[0m             \u001b[0;32mfor\u001b[0m \u001b[0mk\u001b[0m\u001b[0;34m,\u001b[0m \u001b[0mv\u001b[0m \u001b[0;32min\u001b[0m \u001b[0mobj\u001b[0m\u001b[0;34m.\u001b[0m\u001b[0mitems\u001b[0m\u001b[0;34m(\u001b[0m\u001b[0;34m)\u001b[0m\u001b[0;34m\u001b[0m\u001b[0;34m\u001b[0m\u001b[0m\n\u001b[0;32m---> 63\u001b[0;31m             \u001b[0;32mif\u001b[0m \u001b[0mv\u001b[0m \u001b[0;32mis\u001b[0m \u001b[0;32mnot\u001b[0m \u001b[0mUndefined\u001b[0m\u001b[0;34m\u001b[0m\u001b[0;34m\u001b[0m\u001b[0m\n\u001b[0m\u001b[1;32m     64\u001b[0m         }\n\u001b[1;32m     65\u001b[0m     \u001b[0;32melif\u001b[0m \u001b[0mhasattr\u001b[0m\u001b[0;34m(\u001b[0m\u001b[0mobj\u001b[0m\u001b[0;34m,\u001b[0m \u001b[0;34m\"to_dict\"\u001b[0m\u001b[0;34m)\u001b[0m\u001b[0;34m:\u001b[0m\u001b[0;34m\u001b[0m\u001b[0;34m\u001b[0m\u001b[0m\n",
            "\u001b[0;32m/usr/local/lib/python3.6/dist-packages/altair/utils/schemapi.py\u001b[0m in \u001b[0;36m_todict\u001b[0;34m(obj, validate, context)\u001b[0m\n\u001b[1;32m     54\u001b[0m     \u001b[0;34m\"\"\"Convert an object to a dict representation.\"\"\"\u001b[0m\u001b[0;34m\u001b[0m\u001b[0;34m\u001b[0m\u001b[0m\n\u001b[1;32m     55\u001b[0m     \u001b[0;32mif\u001b[0m \u001b[0misinstance\u001b[0m\u001b[0;34m(\u001b[0m\u001b[0mobj\u001b[0m\u001b[0;34m,\u001b[0m \u001b[0mSchemaBase\u001b[0m\u001b[0;34m)\u001b[0m\u001b[0;34m:\u001b[0m\u001b[0;34m\u001b[0m\u001b[0;34m\u001b[0m\u001b[0m\n\u001b[0;32m---> 56\u001b[0;31m         \u001b[0;32mreturn\u001b[0m \u001b[0mobj\u001b[0m\u001b[0;34m.\u001b[0m\u001b[0mto_dict\u001b[0m\u001b[0;34m(\u001b[0m\u001b[0mvalidate\u001b[0m\u001b[0;34m=\u001b[0m\u001b[0mvalidate\u001b[0m\u001b[0;34m,\u001b[0m \u001b[0mcontext\u001b[0m\u001b[0;34m=\u001b[0m\u001b[0mcontext\u001b[0m\u001b[0;34m)\u001b[0m\u001b[0;34m\u001b[0m\u001b[0;34m\u001b[0m\u001b[0m\n\u001b[0m\u001b[1;32m     57\u001b[0m     \u001b[0;32melif\u001b[0m \u001b[0misinstance\u001b[0m\u001b[0;34m(\u001b[0m\u001b[0mobj\u001b[0m\u001b[0;34m,\u001b[0m \u001b[0;34m(\u001b[0m\u001b[0mlist\u001b[0m\u001b[0;34m,\u001b[0m \u001b[0mtuple\u001b[0m\u001b[0;34m,\u001b[0m \u001b[0mnp\u001b[0m\u001b[0;34m.\u001b[0m\u001b[0mndarray\u001b[0m\u001b[0;34m)\u001b[0m\u001b[0;34m)\u001b[0m\u001b[0;34m:\u001b[0m\u001b[0;34m\u001b[0m\u001b[0;34m\u001b[0m\u001b[0m\n\u001b[1;32m     58\u001b[0m         \u001b[0;32mreturn\u001b[0m \u001b[0;34m[\u001b[0m\u001b[0m_todict\u001b[0m\u001b[0;34m(\u001b[0m\u001b[0mv\u001b[0m\u001b[0;34m,\u001b[0m \u001b[0mvalidate\u001b[0m\u001b[0;34m,\u001b[0m \u001b[0mcontext\u001b[0m\u001b[0;34m)\u001b[0m \u001b[0;32mfor\u001b[0m \u001b[0mv\u001b[0m \u001b[0;32min\u001b[0m \u001b[0mobj\u001b[0m\u001b[0;34m]\u001b[0m\u001b[0;34m\u001b[0m\u001b[0;34m\u001b[0m\u001b[0m\n",
            "\u001b[0;32m/usr/local/lib/python3.6/dist-packages/altair/vegalite/v4/schema/channels.py\u001b[0m in \u001b[0;36mto_dict\u001b[0;34m(self, validate, ignore, context)\u001b[0m\n\u001b[1;32m     40\u001b[0m                     raise ValueError(\"{} encoding field is specified without a type; \"\n\u001b[1;32m     41\u001b[0m                                      \u001b[0;34m\"the type cannot be inferred because it does not \"\u001b[0m\u001b[0;34m\u001b[0m\u001b[0;34m\u001b[0m\u001b[0m\n\u001b[0;32m---> 42\u001b[0;31m                                      \"match any column in the data.\".format(shorthand))\n\u001b[0m\u001b[1;32m     43\u001b[0m                 \u001b[0;32melse\u001b[0m\u001b[0;34m:\u001b[0m\u001b[0;34m\u001b[0m\u001b[0;34m\u001b[0m\u001b[0m\n\u001b[1;32m     44\u001b[0m                     raise ValueError(\"{} encoding field is specified without a type; \"\n",
            "\u001b[0;31mValueError\u001b[0m:  encoding field is specified without a type; the type cannot be inferred because it does not match any column in the data."
          ]
        },
        {
          "output_type": "execute_result",
          "data": {
            "text/plain": [
              "alt.Chart(...)"
            ]
          },
          "metadata": {
            "tags": []
          },
          "execution_count": 64
        }
      ]
    },
    {
      "cell_type": "markdown",
      "metadata": {
        "id": "4xPucckP2VVX",
        "colab_type": "text"
      },
      "source": [
        "Error:\n",
        "ValueError:  encoding field is specified without a type; the type cannot be inferred because it does not match any column in the data."
      ]
    },
    {
      "cell_type": "markdown",
      "metadata": {
        "id": "FUyV-8QxzPRN",
        "colab_type": "text"
      },
      "source": [
        "### Some try outs"
      ]
    },
    {
      "cell_type": "markdown",
      "metadata": {
        "id": "3Qj4Pos1mZjP",
        "colab_type": "text"
      },
      "source": [
        "Then hiding unnecessary columns\n",
        "\n",
        "https://colab.research.google.com/drive/11zDWTJHup4A4rEUZq2evGVpXagElfTdT?usp=sharing"
      ]
    },
    {
      "cell_type": "code",
      "metadata": {
        "id": "ie3i6t81o3Sl",
        "colab_type": "code",
        "colab": {}
      },
      "source": [
        "df_commits_table_reduced = df_commits_table.drop(columns=[\"sha\", \"node_id\", \"parents\", \"commit.author.email\", \"commit.committer.email\", \"commit.tree.sha\", \"commit.verification.payload\",  \"author.login\", \"author.id\", \"author.node_id\", \"author.gravatar_id\", \"committer.id\", \"committer.node_id\", \"committer.gravatar_id\"])\n",
        "\n",
        "# df_commits_table_reduced"
      ],
      "execution_count": 0,
      "outputs": []
    },
    {
      "cell_type": "code",
      "metadata": {
        "id": "kQNNhvT63LOY",
        "colab_type": "code",
        "colab": {}
      },
      "source": [
        "# df_commits_table_reduced.info()"
      ],
      "execution_count": 0,
      "outputs": []
    },
    {
      "cell_type": "markdown",
      "metadata": {
        "id": "aqeY1wNEI3ci",
        "colab_type": "text"
      },
      "source": [
        "Then probably I can iterate through the dataset and collect the amount of commits that were made by each author.  "
      ]
    },
    {
      "cell_type": "code",
      "metadata": {
        "id": "et71vcA3Tixj",
        "colab_type": "code",
        "outputId": "9431fbe0-29bf-4679-d9bf-75f963a3c947",
        "colab": {
          "base_uri": "https://localhost:8080/",
          "height": 193
        }
      },
      "source": [
        "df_commits_groupby_name = df_commits_table_reduced.groupby('commit.author.name').count()\n",
        "df_commits_groupby_name"
      ],
      "execution_count": 67,
      "outputs": [
        {
          "output_type": "execute_result",
          "data": {
            "text/html": [
              "<div>\n",
              "<style scoped>\n",
              "    .dataframe tbody tr th:only-of-type {\n",
              "        vertical-align: middle;\n",
              "    }\n",
              "\n",
              "    .dataframe tbody tr th {\n",
              "        vertical-align: top;\n",
              "    }\n",
              "\n",
              "    .dataframe thead th {\n",
              "        text-align: right;\n",
              "    }\n",
              "</style>\n",
              "<table border=\"1\" class=\"dataframe\">\n",
              "  <thead>\n",
              "    <tr style=\"text-align: right;\">\n",
              "      <th></th>\n",
              "      <th>url</th>\n",
              "      <th>html_url</th>\n",
              "      <th>comments_url</th>\n",
              "      <th>author</th>\n",
              "      <th>committer</th>\n",
              "      <th>commit.author.date</th>\n",
              "      <th>commit.committer.name</th>\n",
              "      <th>commit.committer.date</th>\n",
              "      <th>commit.message</th>\n",
              "      <th>commit.tree.url</th>\n",
              "      <th>commit.url</th>\n",
              "      <th>commit.comment_count</th>\n",
              "      <th>commit.verification.verified</th>\n",
              "      <th>commit.verification.reason</th>\n",
              "      <th>commit.verification.signature</th>\n",
              "      <th>author.avatar_url</th>\n",
              "      <th>author.url</th>\n",
              "      <th>author.html_url</th>\n",
              "      <th>author.followers_url</th>\n",
              "      <th>author.following_url</th>\n",
              "      <th>author.gists_url</th>\n",
              "      <th>author.starred_url</th>\n",
              "      <th>author.subscriptions_url</th>\n",
              "      <th>author.organizations_url</th>\n",
              "      <th>author.repos_url</th>\n",
              "      <th>author.events_url</th>\n",
              "      <th>author.received_events_url</th>\n",
              "      <th>author.type</th>\n",
              "      <th>author.site_admin</th>\n",
              "      <th>committer.login</th>\n",
              "      <th>committer.avatar_url</th>\n",
              "      <th>committer.url</th>\n",
              "      <th>committer.html_url</th>\n",
              "      <th>committer.followers_url</th>\n",
              "      <th>committer.following_url</th>\n",
              "      <th>committer.gists_url</th>\n",
              "      <th>committer.starred_url</th>\n",
              "      <th>committer.subscriptions_url</th>\n",
              "      <th>committer.organizations_url</th>\n",
              "      <th>committer.repos_url</th>\n",
              "      <th>committer.events_url</th>\n",
              "      <th>committer.received_events_url</th>\n",
              "      <th>committer.type</th>\n",
              "      <th>committer.site_admin</th>\n",
              "    </tr>\n",
              "    <tr>\n",
              "      <th>commit.author.name</th>\n",
              "      <th></th>\n",
              "      <th></th>\n",
              "      <th></th>\n",
              "      <th></th>\n",
              "      <th></th>\n",
              "      <th></th>\n",
              "      <th></th>\n",
              "      <th></th>\n",
              "      <th></th>\n",
              "      <th></th>\n",
              "      <th></th>\n",
              "      <th></th>\n",
              "      <th></th>\n",
              "      <th></th>\n",
              "      <th></th>\n",
              "      <th></th>\n",
              "      <th></th>\n",
              "      <th></th>\n",
              "      <th></th>\n",
              "      <th></th>\n",
              "      <th></th>\n",
              "      <th></th>\n",
              "      <th></th>\n",
              "      <th></th>\n",
              "      <th></th>\n",
              "      <th></th>\n",
              "      <th></th>\n",
              "      <th></th>\n",
              "      <th></th>\n",
              "      <th></th>\n",
              "      <th></th>\n",
              "      <th></th>\n",
              "      <th></th>\n",
              "      <th></th>\n",
              "      <th></th>\n",
              "      <th></th>\n",
              "      <th></th>\n",
              "      <th></th>\n",
              "      <th></th>\n",
              "      <th></th>\n",
              "      <th></th>\n",
              "      <th></th>\n",
              "      <th></th>\n",
              "      <th></th>\n",
              "    </tr>\n",
              "  </thead>\n",
              "  <tbody>\n",
              "    <tr>\n",
              "      <th>LMapes</th>\n",
              "      <td>1</td>\n",
              "      <td>1</td>\n",
              "      <td>1</td>\n",
              "      <td>0</td>\n",
              "      <td>0</td>\n",
              "      <td>1</td>\n",
              "      <td>1</td>\n",
              "      <td>1</td>\n",
              "      <td>1</td>\n",
              "      <td>1</td>\n",
              "      <td>1</td>\n",
              "      <td>1</td>\n",
              "      <td>1</td>\n",
              "      <td>1</td>\n",
              "      <td>1</td>\n",
              "      <td>1</td>\n",
              "      <td>1</td>\n",
              "      <td>1</td>\n",
              "      <td>1</td>\n",
              "      <td>1</td>\n",
              "      <td>1</td>\n",
              "      <td>1</td>\n",
              "      <td>1</td>\n",
              "      <td>1</td>\n",
              "      <td>1</td>\n",
              "      <td>1</td>\n",
              "      <td>1</td>\n",
              "      <td>1</td>\n",
              "      <td>1</td>\n",
              "      <td>1</td>\n",
              "      <td>1</td>\n",
              "      <td>1</td>\n",
              "      <td>1</td>\n",
              "      <td>1</td>\n",
              "      <td>1</td>\n",
              "      <td>1</td>\n",
              "      <td>1</td>\n",
              "      <td>1</td>\n",
              "      <td>1</td>\n",
              "      <td>1</td>\n",
              "      <td>1</td>\n",
              "      <td>1</td>\n",
              "      <td>1</td>\n",
              "      <td>1</td>\n",
              "    </tr>\n",
              "    <tr>\n",
              "      <th>Mike Abbink</th>\n",
              "      <td>1</td>\n",
              "      <td>1</td>\n",
              "      <td>1</td>\n",
              "      <td>0</td>\n",
              "      <td>0</td>\n",
              "      <td>1</td>\n",
              "      <td>1</td>\n",
              "      <td>1</td>\n",
              "      <td>1</td>\n",
              "      <td>1</td>\n",
              "      <td>1</td>\n",
              "      <td>1</td>\n",
              "      <td>1</td>\n",
              "      <td>1</td>\n",
              "      <td>1</td>\n",
              "      <td>1</td>\n",
              "      <td>1</td>\n",
              "      <td>1</td>\n",
              "      <td>1</td>\n",
              "      <td>1</td>\n",
              "      <td>1</td>\n",
              "      <td>1</td>\n",
              "      <td>1</td>\n",
              "      <td>1</td>\n",
              "      <td>1</td>\n",
              "      <td>1</td>\n",
              "      <td>1</td>\n",
              "      <td>1</td>\n",
              "      <td>1</td>\n",
              "      <td>1</td>\n",
              "      <td>1</td>\n",
              "      <td>1</td>\n",
              "      <td>1</td>\n",
              "      <td>1</td>\n",
              "      <td>1</td>\n",
              "      <td>1</td>\n",
              "      <td>1</td>\n",
              "      <td>1</td>\n",
              "      <td>1</td>\n",
              "      <td>1</td>\n",
              "      <td>1</td>\n",
              "      <td>1</td>\n",
              "      <td>1</td>\n",
              "      <td>1</td>\n",
              "    </tr>\n",
              "    <tr>\n",
              "      <th>Vince Picone</th>\n",
              "      <td>28</td>\n",
              "      <td>28</td>\n",
              "      <td>28</td>\n",
              "      <td>0</td>\n",
              "      <td>0</td>\n",
              "      <td>28</td>\n",
              "      <td>28</td>\n",
              "      <td>28</td>\n",
              "      <td>28</td>\n",
              "      <td>28</td>\n",
              "      <td>28</td>\n",
              "      <td>28</td>\n",
              "      <td>28</td>\n",
              "      <td>28</td>\n",
              "      <td>9</td>\n",
              "      <td>9</td>\n",
              "      <td>9</td>\n",
              "      <td>9</td>\n",
              "      <td>9</td>\n",
              "      <td>9</td>\n",
              "      <td>9</td>\n",
              "      <td>9</td>\n",
              "      <td>9</td>\n",
              "      <td>9</td>\n",
              "      <td>9</td>\n",
              "      <td>9</td>\n",
              "      <td>9</td>\n",
              "      <td>9</td>\n",
              "      <td>9</td>\n",
              "      <td>9</td>\n",
              "      <td>9</td>\n",
              "      <td>9</td>\n",
              "      <td>9</td>\n",
              "      <td>9</td>\n",
              "      <td>9</td>\n",
              "      <td>9</td>\n",
              "      <td>9</td>\n",
              "      <td>9</td>\n",
              "      <td>9</td>\n",
              "      <td>9</td>\n",
              "      <td>9</td>\n",
              "      <td>9</td>\n",
              "      <td>9</td>\n",
              "      <td>9</td>\n",
              "    </tr>\n",
              "  </tbody>\n",
              "</table>\n",
              "</div>"
            ],
            "text/plain": [
              "                    url  html_url  ...  committer.type  committer.site_admin\n",
              "commit.author.name                 ...                                      \n",
              "LMapes                1         1  ...               1                     1\n",
              "Mike Abbink           1         1  ...               1                     1\n",
              "Vince Picone         28        28  ...               9                     9\n",
              "\n",
              "[3 rows x 44 columns]"
            ]
          },
          "metadata": {
            "tags": []
          },
          "execution_count": 67
        }
      ]
    },
    {
      "cell_type": "markdown",
      "metadata": {
        "id": "Hn99zXcjTbmZ",
        "colab_type": "text"
      },
      "source": [
        "Then parsing *commit.committer.date          30 non-null     object* in datetime format\n"
      ]
    },
    {
      "cell_type": "code",
      "metadata": {
        "id": "0c8PCB6XVe7n",
        "colab_type": "code",
        "colab": {}
      },
      "source": [
        "# df_commits_table_reduced"
      ],
      "execution_count": 0,
      "outputs": []
    },
    {
      "cell_type": "markdown",
      "metadata": {
        "id": "4xcphRm3IkMu",
        "colab_type": "text"
      },
      "source": [
        "Couinting amount of commits for each day "
      ]
    },
    {
      "cell_type": "code",
      "metadata": {
        "id": "svsVSuL5HsKX",
        "colab_type": "code",
        "colab": {}
      },
      "source": [
        "# df_time_index = df_commits_table_reduced.set_index(\"commit.author.date\")\n",
        "# commits_date_sums = df_time_index.resample(\"D\").sum()\n",
        "# commits_date_sums\n",
        "\n",
        "# ha-ha, doesn't work"
      ],
      "execution_count": 0,
      "outputs": []
    },
    {
      "cell_type": "markdown",
      "metadata": {
        "id": "y0b7ARaR4KIz",
        "colab_type": "text"
      },
      "source": [
        "## Second use case\n",
        "\n",
        "The second use case — analyse and comperison of UFO font files"
      ]
    },
    {
      "cell_type": "markdown",
      "metadata": {
        "id": "pPSPH2kmURvB",
        "colab_type": "text"
      },
      "source": [
        "xml\n",
        "\n",
        "https://colab.research.google.com/drive/1u4gucw1Lndk_Wpuo3pAhojEUp5iiq19u\n",
        "\n",
        "https://docs.python.org/2/library/xml.etree.elementtree.html\n",
        "\n",
        "ufo\n",
        "\n",
        "http://unifiedfontobject.org/versions/ufo3/"
      ]
    },
    {
      "cell_type": "markdown",
      "metadata": {
        "id": "1jEVVRtwTVvY",
        "colab_type": "text"
      },
      "source": [
        "**The question:\\\n",
        "how to iterate through all font files on github?**\n"
      ]
    },
    {
      "cell_type": "code",
      "metadata": {
        "id": "MwwvtW8nvQBi",
        "colab_type": "code",
        "colab": {}
      },
      "source": [
        "import xml.etree.ElementTree as ET\n",
        "import requests"
      ],
      "execution_count": 0,
      "outputs": []
    },
    {
      "cell_type": "markdown",
      "metadata": {
        "id": "wQgMF0JcT4xl",
        "colab_type": "text"
      },
      "source": [
        "In order to test it I've upload each lip.plist file from all 3 versions via url to compare amount of glyphs"
      ]
    },
    {
      "cell_type": "code",
      "metadata": {
        "id": "9hpzDl_ESUhs",
        "colab_type": "code",
        "colab": {}
      },
      "source": [
        "url_ver3_1 = 'https://raw.githubusercontent.com/kuzminadya/FHP-infovis-py/master/ufo/2020.04.11mogeefont-v3.1.ufo/lib.plist'\n",
        "url_ver3_2 = 'https://raw.githubusercontent.com/kuzminadya/FHP-infovis-py/master/ufo/2020.04.12mogeefont-v3.2.ufo/lib.plist'\n",
        "url_ver3_3 = 'https://raw.githubusercontent.com/kuzminadya/FHP-infovis-py/master/ufo/2020.04.13mogeefont-v3.3.ufo/lib.plist'\n",
        "url_ver3_4 = 'https://raw.githubusercontent.com/kuzminadya/FHP-infovis-py/master/ufo/2020.04.13mogeefont-v3.4.ufo/lib.plist'"
      ],
      "execution_count": 0,
      "outputs": []
    },
    {
      "cell_type": "code",
      "metadata": {
        "id": "WcEk6eXQWJgA",
        "colab_type": "code",
        "colab": {
          "base_uri": "https://localhost:8080/",
          "height": 54
        },
        "outputId": "38b38bc3-29ba-415e-fd04-f9821807104d"
      },
      "source": [
        "response_ver3 = requests.get(url_ver3_1)\n",
        "ufo3_1_xml = response_ver3.text\n",
        "ufo3_1_xml"
      ],
      "execution_count": 72,
      "outputs": [
        {
          "output_type": "execute_result",
          "data": {
            "text/plain": [
              "'<?xml version=\"1.0\" encoding=\"UTF-8\"?>\\n<!DOCTYPE plist PUBLIC \"-//Apple Computer//DTD PLIST 1.0//EN\" \"http://www.apple.com/DTDs/PropertyList-1.0.dtd\">\\n<plist version=\"1.0\">\\n<dict>\\n\\t<key>com.schriftgestaltung.disablesAutomaticAlignment</key>\\n\\t<true/>\\n\\t<key>com.schriftgestaltung.font.customParameters</key>\\n\\t<array>\\n\\t\\t<dict>\\n\\t\\t\\t<key>name</key>\\n\\t\\t\\t<string>glyphOrder</string>\\n\\t\\t\\t<key>value</key>\\n\\t\\t\\t<array>\\n\\t\\t\\t\\t<string>space</string>\\n\\t\\t\\t\\t<string>exclam</string>\\n\\t\\t\\t\\t<string>quotesingle</string>\\n\\t\\t\\t\\t<string>quotedbl</string>\\n\\t\\t\\t\\t<string>numbersign</string>\\n\\t\\t\\t\\t<string>dollar</string>\\n\\t\\t\\t\\t<string>percent</string>\\n\\t\\t\\t\\t<string>ampersand</string>\\n\\t\\t\\t\\t<string>parenleft</string>\\n\\t\\t\\t\\t<string>parenright</string>\\n\\t\\t\\t\\t<string>asterisk</string>\\n\\t\\t\\t\\t<string>plus</string>\\n\\t\\t\\t\\t<string>comma</string>\\n\\t\\t\\t\\t<string>hyphen</string>\\n\\t\\t\\t\\t<string>period</string>\\n\\t\\t\\t\\t<string>slash</string>\\n\\t\\t\\t\\t<string>zero</string>\\n\\t\\t\\t\\t<string>one</string>\\n\\t\\t\\t\\t<string>two</string>\\n\\t\\t\\t\\t<string>three</string>\\n\\t\\t\\t\\t<string>four</string>\\n\\t\\t\\t\\t<string>five</string>\\n\\t\\t\\t\\t<string>six</string>\\n\\t\\t\\t\\t<string>seven</string>\\n\\t\\t\\t\\t<string>eight</string>\\n\\t\\t\\t\\t<string>nine</string>\\n\\t\\t\\t\\t<string>colon</string>\\n\\t\\t\\t\\t<string>semicolon</string>\\n\\t\\t\\t\\t<string>less</string>\\n\\t\\t\\t\\t<string>equal</string>\\n\\t\\t\\t\\t<string>greater</string>\\n\\t\\t\\t\\t<string>question</string>\\n\\t\\t\\t\\t<string>at</string>\\n\\t\\t\\t\\t<string>A</string>\\n\\t\\t\\t\\t<string>B</string>\\n\\t\\t\\t\\t<string>C</string>\\n\\t\\t\\t\\t<string>D</string>\\n\\t\\t\\t\\t<string>E</string>\\n\\t\\t\\t\\t<string>F</string>\\n\\t\\t\\t\\t<string>G</string>\\n\\t\\t\\t\\t<string>H</string>\\n\\t\\t\\t\\t<string>I</string>\\n\\t\\t\\t\\t<string>J</string>\\n\\t\\t\\t\\t<string>K</string>\\n\\t\\t\\t\\t<string>L</string>\\n\\t\\t\\t\\t<string>M</string>\\n\\t\\t\\t\\t<string>N</string>\\n\\t\\t\\t\\t<string>O</string>\\n\\t\\t\\t\\t<string>P</string>\\n\\t\\t\\t\\t<string>Q</string>\\n\\t\\t\\t\\t<string>R</string>\\n\\t\\t\\t\\t<string>S</string>\\n\\t\\t\\t\\t<string>T</string>\\n\\t\\t\\t\\t<string>U</string>\\n\\t\\t\\t\\t<string>V</string>\\n\\t\\t\\t\\t<string>W</string>\\n\\t\\t\\t\\t<string>X</string>\\n\\t\\t\\t\\t<string>Y</string>\\n\\t\\t\\t\\t<string>Z</string>\\n\\t\\t\\t\\t<string>bracketleft</string>\\n\\t\\t\\t\\t<string>backslash</string>\\n\\t\\t\\t\\t<string>bracketright</string>\\n\\t\\t\\t\\t<string>asciicircum</string>\\n\\t\\t\\t\\t<string>underscore</string>\\n\\t\\t\\t\\t<string>grave</string>\\n\\t\\t\\t\\t<string>a</string>\\n\\t\\t\\t\\t<string>b</string>\\n\\t\\t\\t\\t<string>c</string>\\n\\t\\t\\t\\t<string>d</string>\\n\\t\\t\\t\\t<string>e</string>\\n\\t\\t\\t\\t<string>f</string>\\n\\t\\t\\t\\t<string>g</string>\\n\\t\\t\\t\\t<string>h</string>\\n\\t\\t\\t\\t<string>i</string>\\n\\t\\t\\t\\t<string>j</string>\\n\\t\\t\\t\\t<string>k</string>\\n\\t\\t\\t\\t<string>l</string>\\n\\t\\t\\t\\t<string>m</string>\\n\\t\\t\\t\\t<string>n</string>\\n\\t\\t\\t\\t<string>o</string>\\n\\t\\t\\t\\t<string>p</string>\\n\\t\\t\\t\\t<string>q</string>\\n\\t\\t\\t\\t<string>r</string>\\n\\t\\t\\t\\t<string>s</string>\\n\\t\\t\\t\\t<string>t</string>\\n\\t\\t\\t\\t<string>u</string>\\n\\t\\t\\t\\t<string>v</string>\\n\\t\\t\\t\\t<string>w</string>\\n\\t\\t\\t\\t<string>x</string>\\n\\t\\t\\t\\t<string>y</string>\\n\\t\\t\\t\\t<string>z</string>\\n\\t\\t\\t\\t<string>braceleft</string>\\n\\t\\t\\t\\t<string>bar</string>\\n\\t\\t\\t\\t<string>braceright</string>\\n\\t\\t\\t\\t<string>asciitilde</string>\\n\\t\\t\\t\\t<string>exclamdown</string>\\n\\t\\t\\t\\t<string>cent</string>\\n\\t\\t\\t\\t<string>sterling</string>\\n\\t\\t\\t\\t<string>currency</string>\\n\\t\\t\\t\\t<string>yen</string>\\n\\t\\t\\t\\t<string>brokenbar</string>\\n\\t\\t\\t\\t<string>section</string>\\n\\t\\t\\t\\t<string>dieresis</string>\\n\\t\\t\\t\\t<string>copyright</string>\\n\\t\\t\\t\\t<string>ordfeminine</string>\\n\\t\\t\\t\\t<string>guillemotleft</string>\\n\\t\\t\\t\\t<string>logicalnot</string>\\n\\t\\t\\t\\t<string>registered</string>\\n\\t\\t\\t\\t<string>macron</string>\\n\\t\\t\\t\\t<string>degree</string>\\n\\t\\t\\t\\t<string>plusminus</string>\\n\\t\\t\\t\\t<string>twosuperior</string>\\n\\t\\t\\t\\t<string>threesuperior</string>\\n\\t\\t\\t\\t<string>acute</string>\\n\\t\\t\\t\\t<string>mu</string>\\n\\t\\t\\t\\t<string>paragraph</string>\\n\\t\\t\\t\\t<string>periodcentered</string>\\n\\t\\t\\t\\t<string>cedilla</string>\\n\\t\\t\\t\\t<string>onesuperior</string>\\n\\t\\t\\t\\t<string>ordmasculine</string>\\n\\t\\t\\t\\t<string>guillemotright</string>\\n\\t\\t\\t\\t<string>onequarter</string>\\n\\t\\t\\t\\t<string>onehalf</string>\\n\\t\\t\\t\\t<string>threequarters</string>\\n\\t\\t\\t\\t<string>questiondown</string>\\n\\t\\t\\t\\t<string>Agrave</string>\\n\\t\\t\\t\\t<string>Aacute</string>\\n\\t\\t\\t\\t<string>Acircumflex</string>\\n\\t\\t\\t\\t<string>Atilde</string>\\n\\t\\t\\t\\t<string>Adieresis</string>\\n\\t\\t\\t\\t<string>Aring</string>\\n\\t\\t\\t\\t<string>AE</string>\\n\\t\\t\\t\\t<string>Ccedilla</string>\\n\\t\\t\\t\\t<string>Egrave</string>\\n\\t\\t\\t\\t<string>Eacute</string>\\n\\t\\t\\t\\t<string>Ecircumflex</string>\\n\\t\\t\\t\\t<string>Edieresis</string>\\n\\t\\t\\t\\t<string>Igrave</string>\\n\\t\\t\\t\\t<string>Iacute</string>\\n\\t\\t\\t\\t<string>Icircumflex</string>\\n\\t\\t\\t\\t<string>Idieresis</string>\\n\\t\\t\\t\\t<string>Eth</string>\\n\\t\\t\\t\\t<string>Ntilde</string>\\n\\t\\t\\t\\t<string>Ograve</string>\\n\\t\\t\\t\\t<string>Oacute</string>\\n\\t\\t\\t\\t<string>Ocircumflex</string>\\n\\t\\t\\t\\t<string>Otilde</string>\\n\\t\\t\\t\\t<string>Odieresis</string>\\n\\t\\t\\t\\t<string>multiply</string>\\n\\t\\t\\t\\t<string>Oslash</string>\\n\\t\\t\\t\\t<string>Ugrave</string>\\n\\t\\t\\t\\t<string>Uacute</string>\\n\\t\\t\\t\\t<string>Ucircumflex</string>\\n\\t\\t\\t\\t<string>Udieresis</string>\\n\\t\\t\\t\\t<string>Yacute</string>\\n\\t\\t\\t\\t<string>Thorn</string>\\n\\t\\t\\t\\t<string>germandbls</string>\\n\\t\\t\\t\\t<string>agrave</string>\\n\\t\\t\\t\\t<string>aacute</string>\\n\\t\\t\\t\\t<string>acircumflex</string>\\n\\t\\t\\t\\t<string>atilde</string>\\n\\t\\t\\t\\t<string>adieresis</string>\\n\\t\\t\\t\\t<string>aring</string>\\n\\t\\t\\t\\t<string>ae</string>\\n\\t\\t\\t\\t<string>ccedilla</string>\\n\\t\\t\\t\\t<string>egrave</string>\\n\\t\\t\\t\\t<string>eacute</string>\\n\\t\\t\\t\\t<string>ecircumflex</string>\\n\\t\\t\\t\\t<string>edieresis</string>\\n\\t\\t\\t\\t<string>igrave</string>\\n\\t\\t\\t\\t<string>iacute</string>\\n\\t\\t\\t\\t<string>icircumflex</string>\\n\\t\\t\\t\\t<string>idieresis</string>\\n\\t\\t\\t\\t<string>eth</string>\\n\\t\\t\\t\\t<string>ntilde</string>\\n\\t\\t\\t\\t<string>ograve</string>\\n\\t\\t\\t\\t<string>oacute</string>\\n\\t\\t\\t\\t<string>ocircumflex</string>\\n\\t\\t\\t\\t<string>otilde</string>\\n\\t\\t\\t\\t<string>odieresis</string>\\n\\t\\t\\t\\t<string>divide</string>\\n\\t\\t\\t\\t<string>oslash</string>\\n\\t\\t\\t\\t<string>ugrave</string>\\n\\t\\t\\t\\t<string>uacute</string>\\n\\t\\t\\t\\t<string>ucircumflex</string>\\n\\t\\t\\t\\t<string>udieresis</string>\\n\\t\\t\\t\\t<string>yacute</string>\\n\\t\\t\\t\\t<string>thorn</string>\\n\\t\\t\\t\\t<string>ydieresis</string>\\n\\t\\t\\t\\t<string>dotlessi</string>\\n\\t\\t\\t\\t<string>circumflex</string>\\n\\t\\t\\t\\t<string>caron</string>\\n\\t\\t\\t\\t<string>breve</string>\\n\\t\\t\\t\\t<string>dotaccent</string>\\n\\t\\t\\t\\t<string>ring</string>\\n\\t\\t\\t\\t<string>ogonek</string>\\n\\t\\t\\t\\t<string>tilde</string>\\n\\t\\t\\t\\t<string>hungarumlaut</string>\\n\\t\\t\\t\\t<string>quoteleft</string>\\n\\t\\t\\t\\t<string>quoteright</string>\\n\\t\\t\\t\\t<string>minus</string>\\n\\t\\t\\t\\t<string>p.10</string>\\n\\t\\t\\t\\t<string>p.9</string>\\n\\t\\t\\t\\t<string>p.3</string>\\n\\t\\t\\t\\t<string>p.8</string>\\n\\t\\t\\t\\t<string>p.2</string>\\n\\t\\t\\t\\t<string>p.4</string>\\n\\t\\t\\t\\t<string>p.7</string>\\n\\t\\t\\t\\t<string>p.6</string>\\n\\t\\t\\t\\t<string>p.1</string>\\n\\t\\t\\t\\t<string>p.5</string>\\n\\t\\t\\t\\t<string>p.3.copy_1</string>\\n\\t\\t\\t\\t<string>p.8.copy_2.copy_1</string>\\n\\t\\t\\t\\t<string>p.8.copy_1.copy_2</string>\\n\\t\\t\\t\\t<string>p.8.copy_1.copy_3</string>\\n\\t\\t\\t\\t<string>p.8.copy_1.copy_1</string>\\n\\t\\t\\t\\t<string>p.8.copy_1</string>\\n\\t\\t\\t\\t<string>p.8.copy_2</string>\\n\\t\\t\\t\\t<string>p.9.copy_1</string>\\n\\t\\t\\t\\t<string>p.2.copy_2</string>\\n\\t\\t\\t\\t<string>p.2.copy_3</string>\\n\\t\\t\\t\\t<string>p.2.copy_1</string>\\n\\t\\t\\t\\t<string>p_.8</string>\\n\\t\\t\\t\\t<string>p.8.copy_1.copy_3.copy_1</string>\\n\\t\\t\\t\\t<string>four.tl</string>\\n\\t\\t\\t\\t<string>two.tl</string>\\n\\t\\t\\t\\t<string>eight.tl</string>\\n\\t\\t\\t\\t<string>seven.tl</string>\\n\\t\\t\\t\\t<string>six.tl</string>\\n\\t\\t\\t\\t<string>five.tl</string>\\n\\t\\t\\t\\t<string>three.tl</string>\\n\\t\\t\\t\\t<string>nine.tl</string>\\n\\t\\t\\t\\t<string>one.tl</string>\\n\\t\\t\\t\\t<string>zero.tl</string>\\n\\t\\t\\t</array>\\n\\t\\t</dict>\\n\\t\\t<dict>\\n\\t\\t\\t<key>name</key>\\n\\t\\t\\t<string>Use Typo Metrics</string>\\n\\t\\t\\t<key>value</key>\\n\\t\\t\\t<true/>\\n\\t\\t</dict>\\n\\t</array>\\n\\t<key>com.schriftgestaltung.fontMasterID</key>\\n\\t<string>master01</string>\\n\\t<key>com.schriftgestaltung.glyphOrder</key>\\n\\t<array>\\n\\t\\t<string>space</string>\\n\\t\\t<string>exclam</string>\\n\\t\\t<string>quotesingle</string>\\n\\t\\t<string>quotedbl</string>\\n\\t\\t<string>numbersign</string>\\n\\t\\t<string>dollar</string>\\n\\t\\t<string>percent</string>\\n\\t\\t<string>ampersand</string>\\n\\t\\t<string>parenleft</string>\\n\\t\\t<string>parenright</string>\\n\\t\\t<string>asterisk</string>\\n\\t\\t<string>plus</string>\\n\\t\\t<string>comma</string>\\n\\t\\t<string>hyphen</string>\\n\\t\\t<string>period</string>\\n\\t\\t<string>slash</string>\\n\\t\\t<string>zero</string>\\n\\t\\t<string>one</string>\\n\\t\\t<string>two</string>\\n\\t\\t<string>three</string>\\n\\t\\t<string>four</string>\\n\\t\\t<string>five</string>\\n\\t\\t<string>six</string>\\n\\t\\t<string>seven</string>\\n\\t\\t<string>eight</string>\\n\\t\\t<string>nine</string>\\n\\t\\t<string>colon</string>\\n\\t\\t<string>semicolon</string>\\n\\t\\t<string>less</string>\\n\\t\\t<string>equal</string>\\n\\t\\t<string>greater</string>\\n\\t\\t<string>question</string>\\n\\t\\t<string>at</string>\\n\\t\\t<string>A</string>\\n\\t\\t<string>B</string>\\n\\t\\t<string>C</string>\\n\\t\\t<string>D</string>\\n\\t\\t<string>E</string>\\n\\t\\t<string>F</string>\\n\\t\\t<string>G</string>\\n\\t\\t<string>H</string>\\n\\t\\t<string>I</string>\\n\\t\\t<string>J</string>\\n\\t\\t<string>K</string>\\n\\t\\t<string>L</string>\\n\\t\\t<string>M</string>\\n\\t\\t<string>N</string>\\n\\t\\t<string>O</string>\\n\\t\\t<string>P</string>\\n\\t\\t<string>Q</string>\\n\\t\\t<string>R</string>\\n\\t\\t<string>S</string>\\n\\t\\t<string>T</string>\\n\\t\\t<string>U</string>\\n\\t\\t<string>V</string>\\n\\t\\t<string>W</string>\\n\\t\\t<string>X</string>\\n\\t\\t<string>Y</string>\\n\\t\\t<string>Z</string>\\n\\t\\t<string>bracketleft</string>\\n\\t\\t<string>backslash</string>\\n\\t\\t<string>bracketright</string>\\n\\t\\t<string>asciicircum</string>\\n\\t\\t<string>underscore</string>\\n\\t\\t<string>grave</string>\\n\\t\\t<string>a</string>\\n\\t\\t<string>b</string>\\n\\t\\t<string>c</string>\\n\\t\\t<string>d</string>\\n\\t\\t<string>e</string>\\n\\t\\t<string>f</string>\\n\\t\\t<string>g</string>\\n\\t\\t<string>h</string>\\n\\t\\t<string>i</string>\\n\\t\\t<string>j</string>\\n\\t\\t<string>k</string>\\n\\t\\t<string>l</string>\\n\\t\\t<string>m</string>\\n\\t\\t<string>n</string>\\n\\t\\t<string>o</string>\\n\\t\\t<string>p</string>\\n\\t\\t<string>q</string>\\n\\t\\t<string>r</string>\\n\\t\\t<string>s</string>\\n\\t\\t<string>t</string>\\n\\t\\t<string>u</string>\\n\\t\\t<string>v</string>\\n\\t\\t<string>w</string>\\n\\t\\t<string>x</string>\\n\\t\\t<string>y</string>\\n\\t\\t<string>z</string>\\n\\t\\t<string>braceleft</string>\\n\\t\\t<string>bar</string>\\n\\t\\t<string>braceright</string>\\n\\t\\t<string>asciitilde</string>\\n\\t\\t<string>exclamdown</string>\\n\\t\\t<string>cent</string>\\n\\t\\t<string>sterling</string>\\n\\t\\t<string>currency</string>\\n\\t\\t<string>yen</string>\\n\\t\\t<string>brokenbar</string>\\n\\t\\t<string>section</string>\\n\\t\\t<string>dieresis</string>\\n\\t\\t<string>copyright</string>\\n\\t\\t<string>ordfeminine</string>\\n\\t\\t<string>guillemotleft</string>\\n\\t\\t<string>logicalnot</string>\\n\\t\\t<string>registered</string>\\n\\t\\t<string>macron</string>\\n\\t\\t<string>degree</string>\\n\\t\\t<string>plusminus</string>\\n\\t\\t<string>twosuperior</string>\\n\\t\\t<string>threesuperior</string>\\n\\t\\t<string>acute</string>\\n\\t\\t<string>mu</string>\\n\\t\\t<string>paragraph</string>\\n\\t\\t<string>periodcentered</string>\\n\\t\\t<string>cedilla</string>\\n\\t\\t<string>onesuperior</string>\\n\\t\\t<string>ordmasculine</string>\\n\\t\\t<string>guillemotright</string>\\n\\t\\t<string>onequarter</string>\\n\\t\\t<string>onehalf</string>\\n\\t\\t<string>threequarters</string>\\n\\t\\t<string>questiondown</string>\\n\\t\\t<string>Agrave</string>\\n\\t\\t<string>Aacute</string>\\n\\t\\t<string>Acircumflex</string>\\n\\t\\t<string>Atilde</string>\\n\\t\\t<string>Adieresis</string>\\n\\t\\t<string>Aring</string>\\n\\t\\t<string>AE</string>\\n\\t\\t<string>Ccedilla</string>\\n\\t\\t<string>Egrave</string>\\n\\t\\t<string>Eacute</string>\\n\\t\\t<string>Ecircumflex</string>\\n\\t\\t<string>Edieresis</string>\\n\\t\\t<string>Igrave</string>\\n\\t\\t<string>Iacute</string>\\n\\t\\t<string>Icircumflex</string>\\n\\t\\t<string>Idieresis</string>\\n\\t\\t<string>Eth</string>\\n\\t\\t<string>Ntilde</string>\\n\\t\\t<string>Ograve</string>\\n\\t\\t<string>Oacute</string>\\n\\t\\t<string>Ocircumflex</string>\\n\\t\\t<string>Otilde</string>\\n\\t\\t<string>Odieresis</string>\\n\\t\\t<string>multiply</string>\\n\\t\\t<string>Oslash</string>\\n\\t\\t<string>Ugrave</string>\\n\\t\\t<string>Uacute</string>\\n\\t\\t<string>Ucircumflex</string>\\n\\t\\t<string>Udieresis</string>\\n\\t\\t<string>Yacute</string>\\n\\t\\t<string>Thorn</string>\\n\\t\\t<string>germandbls</string>\\n\\t\\t<string>agrave</string>\\n\\t\\t<string>aacute</string>\\n\\t\\t<string>acircumflex</string>\\n\\t\\t<string>atilde</string>\\n\\t\\t<string>adieresis</string>\\n\\t\\t<string>aring</string>\\n\\t\\t<string>ae</string>\\n\\t\\t<string>ccedilla</string>\\n\\t\\t<string>egrave</string>\\n\\t\\t<string>eacute</string>\\n\\t\\t<string>ecircumflex</string>\\n\\t\\t<string>edieresis</string>\\n\\t\\t<string>igrave</string>\\n\\t\\t<string>iacute</string>\\n\\t\\t<string>icircumflex</string>\\n\\t\\t<string>idieresis</string>\\n\\t\\t<string>eth</string>\\n\\t\\t<string>ntilde</string>\\n\\t\\t<string>ograve</string>\\n\\t\\t<string>oacute</string>\\n\\t\\t<string>ocircumflex</string>\\n\\t\\t<string>otilde</string>\\n\\t\\t<string>odieresis</string>\\n\\t\\t<string>divide</string>\\n\\t\\t<string>oslash</string>\\n\\t\\t<string>ugrave</string>\\n\\t\\t<string>uacute</string>\\n\\t\\t<string>ucircumflex</string>\\n\\t\\t<string>udieresis</string>\\n\\t\\t<string>yacute</string>\\n\\t\\t<string>thorn</string>\\n\\t\\t<string>ydieresis</string>\\n\\t\\t<string>dotlessi</string>\\n\\t\\t<string>circumflex</string>\\n\\t\\t<string>caron</string>\\n\\t\\t<string>breve</string>\\n\\t\\t<string>dotaccent</string>\\n\\t\\t<string>ring</string>\\n\\t\\t<string>ogonek</string>\\n\\t\\t<string>tilde</string>\\n\\t\\t<string>hungarumlaut</string>\\n\\t\\t<string>quoteleft</string>\\n\\t\\t<string>quoteright</string>\\n\\t\\t<string>minus</string>\\n\\t\\t<string>p.10</string>\\n\\t\\t<string>p.9</string>\\n\\t\\t<string>p.3</string>\\n\\t\\t<string>p.8</string>\\n\\t\\t<string>p.2</string>\\n\\t\\t<string>p.4</string>\\n\\t\\t<string>p.7</string>\\n\\t\\t<string>p.6</string>\\n\\t\\t<string>p.1</string>\\n\\t\\t<string>p.5</string>\\n\\t\\t<string>p.3.copy_1</string>\\n\\t\\t<string>p.8.copy_2.copy_1</string>\\n\\t\\t<string>p.8.copy_1.copy_2</string>\\n\\t\\t<string>p.8.copy_1.copy_3</string>\\n\\t\\t<string>p.8.copy_1.copy_1</string>\\n\\t\\t<string>p.8.copy_1</string>\\n\\t\\t<string>p.8.copy_2</string>\\n\\t\\t<string>p.9.copy_1</string>\\n\\t\\t<string>p.2.copy_2</string>\\n\\t\\t<string>p.2.copy_3</string>\\n\\t\\t<string>p.2.copy_1</string>\\n\\t\\t<string>p_.8</string>\\n\\t\\t<string>p.8.copy_1.copy_3.copy_1</string>\\n\\t\\t<string>four.tl</string>\\n\\t\\t<string>two.tl</string>\\n\\t\\t<string>eight.tl</string>\\n\\t\\t<string>seven.tl</string>\\n\\t\\t<string>six.tl</string>\\n\\t\\t<string>five.tl</string>\\n\\t\\t<string>three.tl</string>\\n\\t\\t<string>nine.tl</string>\\n\\t\\t<string>one.tl</string>\\n\\t\\t<string>zero.tl</string>\\n\\t</array>\\n\\t<key>com.schriftgestaltung.gridSize</key>\\n\\t<integer>80</integer>\\n\\t<key>com.schriftgestaltung.useNiceNames</key>\\n\\t<false/>\\n\\t<key>com.schriftgestaltung.weightValue</key>\\n\\t<integer>400</integer>\\n\\t<key>com.typemytype.robofont.background.layerStrokeColor</key>\\n\\t<array>\\n\\t\\t<integer>0</integer>\\n\\t\\t<real>0.8</real>\\n\\t\\t<real>0.2</real>\\n\\t\\t<real>0.7</real>\\n\\t</array>\\n\\t<key>com.typemytype.robofont.compileSettings.autohint</key>\\n\\t<integer>1</integer>\\n\\t<key>com.typemytype.robofont.compileSettings.checkOutlines</key>\\n\\t<integer>0</integer>\\n\\t<key>com.typemytype.robofont.compileSettings.decompose</key>\\n\\t<integer>0</integer>\\n\\t<key>com.typemytype.robofont.compileSettings.generateFormat</key>\\n\\t<integer>0</integer>\\n\\t<key>com.typemytype.robofont.compileSettings.releaseMode</key>\\n\\t<integer>0</integer>\\n\\t<key>com.typemytype.robofont.foreground.layerStrokeColor</key>\\n\\t<array>\\n\\t\\t<real>0.5</real>\\n\\t\\t<integer>0</integer>\\n\\t\\t<real>0.5</real>\\n\\t\\t<real>0.7</real>\\n\\t</array>\\n\\t<key>com.typemytype.robofont.italicSlantOffset</key>\\n\\t<integer>0</integer>\\n\\t<key>com.typemytype.robofont.layerOrder</key>\\n\\t<array>\\n\\t\\t<string>background</string>\\n\\t</array>\\n\\t<key>com.typemytype.robofont.segmentType</key>\\n\\t<string>curve</string>\\n\\t<key>com.typemytype.robofont.shouldAddPointsInSplineConversion</key>\\n\\t<integer>0</integer>\\n\\t<key>com.typemytype.robofont.sort</key>\\n\\t<array>\\n\\t\\t<dict>\\n\\t\\t\\t<key>ascending</key>\\n\\t\\t\\t<array>\\n\\t\\t\\t\\t<string>space</string>\\n\\t\\t\\t\\t<string>exclam</string>\\n\\t\\t\\t\\t<string>quotesingle</string>\\n\\t\\t\\t\\t<string>quotedbl</string>\\n\\t\\t\\t\\t<string>numbersign</string>\\n\\t\\t\\t\\t<string>dollar</string>\\n\\t\\t\\t\\t<string>percent</string>\\n\\t\\t\\t\\t<string>ampersand</string>\\n\\t\\t\\t\\t<string>parenleft</string>\\n\\t\\t\\t\\t<string>parenright</string>\\n\\t\\t\\t\\t<string>asterisk</string>\\n\\t\\t\\t\\t<string>plus</string>\\n\\t\\t\\t\\t<string>comma</string>\\n\\t\\t\\t\\t<string>hyphen</string>\\n\\t\\t\\t\\t<string>period</string>\\n\\t\\t\\t\\t<string>slash</string>\\n\\t\\t\\t\\t<string>zero</string>\\n\\t\\t\\t\\t<string>one</string>\\n\\t\\t\\t\\t<string>two</string>\\n\\t\\t\\t\\t<string>three</string>\\n\\t\\t\\t\\t<string>four</string>\\n\\t\\t\\t\\t<string>five</string>\\n\\t\\t\\t\\t<string>six</string>\\n\\t\\t\\t\\t<string>seven</string>\\n\\t\\t\\t\\t<string>eight</string>\\n\\t\\t\\t\\t<string>nine</string>\\n\\t\\t\\t\\t<string>colon</string>\\n\\t\\t\\t\\t<string>semicolon</string>\\n\\t\\t\\t\\t<string>less</string>\\n\\t\\t\\t\\t<string>equal</string>\\n\\t\\t\\t\\t<string>greater</string>\\n\\t\\t\\t\\t<string>question</string>\\n\\t\\t\\t\\t<string>at</string>\\n\\t\\t\\t\\t<string>A</string>\\n\\t\\t\\t\\t<string>B</string>\\n\\t\\t\\t\\t<string>C</string>\\n\\t\\t\\t\\t<string>D</string>\\n\\t\\t\\t\\t<string>E</string>\\n\\t\\t\\t\\t<string>F</string>\\n\\t\\t\\t\\t<string>G</string>\\n\\t\\t\\t\\t<string>H</string>\\n\\t\\t\\t\\t<string>I</string>\\n\\t\\t\\t\\t<string>J</string>\\n\\t\\t\\t\\t<string>K</string>\\n\\t\\t\\t\\t<string>L</string>\\n\\t\\t\\t\\t<string>M</string>\\n\\t\\t\\t\\t<string>N</string>\\n\\t\\t\\t\\t<string>O</string>\\n\\t\\t\\t\\t<string>P</string>\\n\\t\\t\\t\\t<string>Q</string>\\n\\t\\t\\t\\t<string>R</string>\\n\\t\\t\\t\\t<string>S</string>\\n\\t\\t\\t\\t<string>T</string>\\n\\t\\t\\t\\t<string>U</string>\\n\\t\\t\\t\\t<string>V</string>\\n\\t\\t\\t\\t<string>W</string>\\n\\t\\t\\t\\t<string>X</string>\\n\\t\\t\\t\\t<string>Y</string>\\n\\t\\t\\t\\t<string>Z</string>\\n\\t\\t\\t\\t<string>bracketleft</string>\\n\\t\\t\\t\\t<string>backslash</string>\\n\\t\\t\\t\\t<string>bracketright</string>\\n\\t\\t\\t\\t<string>asciicircum</string>\\n\\t\\t\\t\\t<string>underscore</string>\\n\\t\\t\\t\\t<string>grave</string>\\n\\t\\t\\t\\t<string>a</string>\\n\\t\\t\\t\\t<string>b</string>\\n\\t\\t\\t\\t<string>c</string>\\n\\t\\t\\t\\t<string>d</string>\\n\\t\\t\\t\\t<string>e</string>\\n\\t\\t\\t\\t<string>f</string>\\n\\t\\t\\t\\t<string>g</string>\\n\\t\\t\\t\\t<string>h</string>\\n\\t\\t\\t\\t<string>i</string>\\n\\t\\t\\t\\t<string>j</string>\\n\\t\\t\\t\\t<string>k</string>\\n\\t\\t\\t\\t<string>l</string>\\n\\t\\t\\t\\t<string>m</string>\\n\\t\\t\\t\\t<string>n</string>\\n\\t\\t\\t\\t<string>o</string>\\n\\t\\t\\t\\t<string>p</string>\\n\\t\\t\\t\\t<string>q</string>\\n\\t\\t\\t\\t<string>r</string>\\n\\t\\t\\t\\t<string>s</string>\\n\\t\\t\\t\\t<string>t</string>\\n\\t\\t\\t\\t<string>u</string>\\n\\t\\t\\t\\t<string>v</string>\\n\\t\\t\\t\\t<string>w</string>\\n\\t\\t\\t\\t<string>x</string>\\n\\t\\t\\t\\t<string>y</string>\\n\\t\\t\\t\\t<string>z</string>\\n\\t\\t\\t\\t<string>braceleft</string>\\n\\t\\t\\t\\t<string>bar</string>\\n\\t\\t\\t\\t<string>braceright</string>\\n\\t\\t\\t\\t<string>asciitilde</string>\\n\\t\\t\\t\\t<string>exclamdown</string>\\n\\t\\t\\t\\t<string>cent</string>\\n\\t\\t\\t\\t<string>sterling</string>\\n\\t\\t\\t\\t<string>currency</string>\\n\\t\\t\\t\\t<string>yen</string>\\n\\t\\t\\t\\t<string>brokenbar</string>\\n\\t\\t\\t\\t<string>section</string>\\n\\t\\t\\t\\t<string>dieresis</string>\\n\\t\\t\\t\\t<string>copyright</string>\\n\\t\\t\\t\\t<string>ordfeminine</string>\\n\\t\\t\\t\\t<string>guillemotleft</string>\\n\\t\\t\\t\\t<string>logicalnot</string>\\n\\t\\t\\t\\t<string>registered</string>\\n\\t\\t\\t\\t<string>macron</string>\\n\\t\\t\\t\\t<string>degree</string>\\n\\t\\t\\t\\t<string>plusminus</string>\\n\\t\\t\\t\\t<string>twosuperior</string>\\n\\t\\t\\t\\t<string>threesuperior</string>\\n\\t\\t\\t\\t<string>acute</string>\\n\\t\\t\\t\\t<string>mu</string>\\n\\t\\t\\t\\t<string>paragraph</string>\\n\\t\\t\\t\\t<string>periodcentered</string>\\n\\t\\t\\t\\t<string>cedilla</string>\\n\\t\\t\\t\\t<string>onesuperior</string>\\n\\t\\t\\t\\t<string>ordmasculine</string>\\n\\t\\t\\t\\t<string>guillemotright</string>\\n\\t\\t\\t\\t<string>onequarter</string>\\n\\t\\t\\t\\t<string>onehalf</string>\\n\\t\\t\\t\\t<string>threequarters</string>\\n\\t\\t\\t\\t<string>questiondown</string>\\n\\t\\t\\t\\t<string>Agrave</string>\\n\\t\\t\\t\\t<string>Aacute</string>\\n\\t\\t\\t\\t<string>Acircumflex</string>\\n\\t\\t\\t\\t<string>Atilde</string>\\n\\t\\t\\t\\t<string>Adieresis</string>\\n\\t\\t\\t\\t<string>Aring</string>\\n\\t\\t\\t\\t<string>AE</string>\\n\\t\\t\\t\\t<string>Ccedilla</string>\\n\\t\\t\\t\\t<string>Egrave</string>\\n\\t\\t\\t\\t<string>Eacute</string>\\n\\t\\t\\t\\t<string>Ecircumflex</string>\\n\\t\\t\\t\\t<string>Edieresis</string>\\n\\t\\t\\t\\t<string>Igrave</string>\\n\\t\\t\\t\\t<string>Iacute</string>\\n\\t\\t\\t\\t<string>Icircumflex</string>\\n\\t\\t\\t\\t<string>Idieresis</string>\\n\\t\\t\\t\\t<string>Eth</string>\\n\\t\\t\\t\\t<string>Ntilde</string>\\n\\t\\t\\t\\t<string>Ograve</string>\\n\\t\\t\\t\\t<string>Oacute</string>\\n\\t\\t\\t\\t<string>Ocircumflex</string>\\n\\t\\t\\t\\t<string>Otilde</string>\\n\\t\\t\\t\\t<string>Odieresis</string>\\n\\t\\t\\t\\t<string>multiply</string>\\n\\t\\t\\t\\t<string>Oslash</string>\\n\\t\\t\\t\\t<string>Ugrave</string>\\n\\t\\t\\t\\t<string>Uacute</string>\\n\\t\\t\\t\\t<string>Ucircumflex</string>\\n\\t\\t\\t\\t<string>Udieresis</string>\\n\\t\\t\\t\\t<string>Yacute</string>\\n\\t\\t\\t\\t<string>Thorn</string>\\n\\t\\t\\t\\t<string>germandbls</string>\\n\\t\\t\\t\\t<string>agrave</string>\\n\\t\\t\\t\\t<string>aacute</string>\\n\\t\\t\\t\\t<string>acircumflex</string>\\n\\t\\t\\t\\t<string>atilde</string>\\n\\t\\t\\t\\t<string>adieresis</string>\\n\\t\\t\\t\\t<string>aring</string>\\n\\t\\t\\t\\t<string>ae</string>\\n\\t\\t\\t\\t<string>ccedilla</string>\\n\\t\\t\\t\\t<string>egrave</string>\\n\\t\\t\\t\\t<string>eacute</string>\\n\\t\\t\\t\\t<string>ecircumflex</string>\\n\\t\\t\\t\\t<string>edieresis</string>\\n\\t\\t\\t\\t<string>igrave</string>\\n\\t\\t\\t\\t<string>iacute</string>\\n\\t\\t\\t\\t<string>icircumflex</string>\\n\\t\\t\\t\\t<string>idieresis</string>\\n\\t\\t\\t\\t<string>eth</string>\\n\\t\\t\\t\\t<string>ntilde</string>\\n\\t\\t\\t\\t<string>ograve</string>\\n\\t\\t\\t\\t<string>oacute</string>\\n\\t\\t\\t\\t<string>ocircumflex</string>\\n\\t\\t\\t\\t<string>otilde</string>\\n\\t\\t\\t\\t<string>odieresis</string>\\n\\t\\t\\t\\t<string>divide</string>\\n\\t\\t\\t\\t<string>oslash</string>\\n\\t\\t\\t\\t<string>ugrave</string>\\n\\t\\t\\t\\t<string>uacute</string>\\n\\t\\t\\t\\t<string>ucircumflex</string>\\n\\t\\t\\t\\t<string>udieresis</string>\\n\\t\\t\\t\\t<string>yacute</string>\\n\\t\\t\\t\\t<string>thorn</string>\\n\\t\\t\\t\\t<string>ydieresis</string>\\n\\t\\t\\t\\t<string>dotlessi</string>\\n\\t\\t\\t\\t<string>circumflex</string>\\n\\t\\t\\t\\t<string>caron</string>\\n\\t\\t\\t\\t<string>breve</string>\\n\\t\\t\\t\\t<string>dotaccent</string>\\n\\t\\t\\t\\t<string>ring</string>\\n\\t\\t\\t\\t<string>ogonek</string>\\n\\t\\t\\t\\t<string>tilde</string>\\n\\t\\t\\t\\t<string>hungarumlaut</string>\\n\\t\\t\\t\\t<string>quoteleft</string>\\n\\t\\t\\t\\t<string>quoteright</string>\\n\\t\\t\\t\\t<string>minus</string>\\n\\t\\t\\t\\t<string>p.10</string>\\n\\t\\t\\t\\t<string>p.9</string>\\n\\t\\t\\t\\t<string>p.3</string>\\n\\t\\t\\t\\t<string>p.8</string>\\n\\t\\t\\t\\t<string>p.2</string>\\n\\t\\t\\t\\t<string>p.4</string>\\n\\t\\t\\t\\t<string>p.7</string>\\n\\t\\t\\t\\t<string>p.6</string>\\n\\t\\t\\t\\t<string>p.1</string>\\n\\t\\t\\t\\t<string>p.5</string>\\n\\t\\t\\t\\t<string>p.3.copy_1</string>\\n\\t\\t\\t\\t<string>p.8.copy_2.copy_1</string>\\n\\t\\t\\t\\t<string>p.8.copy_1.copy_2</string>\\n\\t\\t\\t\\t<string>p.8.copy_1.copy_3</string>\\n\\t\\t\\t\\t<string>p.8.copy_1.copy_1</string>\\n\\t\\t\\t\\t<string>p.8.copy_1</string>\\n\\t\\t\\t\\t<string>p.8.copy_2</string>\\n\\t\\t\\t\\t<string>p.9.copy_1</string>\\n\\t\\t\\t\\t<string>p.2.copy_2</string>\\n\\t\\t\\t\\t<string>p.2.copy_3</string>\\n\\t\\t\\t\\t<string>p.2.copy_1</string>\\n\\t\\t\\t\\t<string>p_.8</string>\\n\\t\\t\\t\\t<string>p.8.copy_1.copy_3.copy_1</string>\\n\\t\\t\\t\\t<string>four.tl</string>\\n\\t\\t\\t\\t<string>two.tl</string>\\n\\t\\t\\t\\t<string>eight.tl</string>\\n\\t\\t\\t\\t<string>seven.tl</string>\\n\\t\\t\\t\\t<string>six.tl</string>\\n\\t\\t\\t\\t<string>five.tl</string>\\n\\t\\t\\t\\t<string>three.tl</string>\\n\\t\\t\\t\\t<string>nine.tl</string>\\n\\t\\t\\t\\t<string>one.tl</string>\\n\\t\\t\\t\\t<string>zero.tl</string>\\n\\t\\t\\t</array>\\n\\t\\t\\t<key>type</key>\\n\\t\\t\\t<string>glyphList</string>\\n\\t\\t</dict>\\n\\t</array>\\n\\t<key>public.glyphOrder</key>\\n\\t<array>\\n\\t\\t<string>space</string>\\n\\t\\t<string>exclam</string>\\n\\t\\t<string>quotesingle</string>\\n\\t\\t<string>quotedbl</string>\\n\\t\\t<string>numbersign</string>\\n\\t\\t<string>dollar</string>\\n\\t\\t<string>percent</string>\\n\\t\\t<string>ampersand</string>\\n\\t\\t<string>parenleft</string>\\n\\t\\t<string>parenright</string>\\n\\t\\t<string>asterisk</string>\\n\\t\\t<string>plus</string>\\n\\t\\t<string>comma</string>\\n\\t\\t<string>hyphen</string>\\n\\t\\t<string>period</string>\\n\\t\\t<string>slash</string>\\n\\t\\t<string>zero</string>\\n\\t\\t<string>one</string>\\n\\t\\t<string>two</string>\\n\\t\\t<string>three</string>\\n\\t\\t<string>four</string>\\n\\t\\t<string>five</string>\\n\\t\\t<string>six</string>\\n\\t\\t<string>seven</string>\\n\\t\\t<string>eight</string>\\n\\t\\t<string>nine</string>\\n\\t\\t<string>colon</string>\\n\\t\\t<string>semicolon</string>\\n\\t\\t<string>less</string>\\n\\t\\t<string>equal</string>\\n\\t\\t<string>greater</string>\\n\\t\\t<string>question</string>\\n\\t\\t<string>at</string>\\n\\t\\t<string>A</string>\\n\\t\\t<string>B</string>\\n\\t\\t<string>C</string>\\n\\t\\t<string>D</string>\\n\\t\\t<string>E</string>\\n\\t\\t<string>F</string>\\n\\t\\t<string>G</string>\\n\\t\\t<string>H</string>\\n\\t\\t<string>I</string>\\n\\t\\t<string>J</string>\\n\\t\\t<string>K</string>\\n\\t\\t<string>L</string>\\n\\t\\t<string>M</string>\\n\\t\\t<string>N</string>\\n\\t\\t<string>O</string>\\n\\t\\t<string>P</string>\\n\\t\\t<string>Q</string>\\n\\t\\t<string>R</string>\\n\\t\\t<string>S</string>\\n\\t\\t<string>T</string>\\n\\t\\t<string>U</string>\\n\\t\\t<string>V</string>\\n\\t\\t<string>W</string>\\n\\t\\t<string>X</string>\\n\\t\\t<string>Y</string>\\n\\t\\t<string>Z</string>\\n\\t\\t<string>bracketleft</string>\\n\\t\\t<string>backslash</string>\\n\\t\\t<string>bracketright</string>\\n\\t\\t<string>asciicircum</string>\\n\\t\\t<string>underscore</string>\\n\\t\\t<string>grave</string>\\n\\t\\t<string>a</string>\\n\\t\\t<string>b</string>\\n\\t\\t<string>c</string>\\n\\t\\t<string>d</string>\\n\\t\\t<string>e</string>\\n\\t\\t<string>f</string>\\n\\t\\t<string>g</string>\\n\\t\\t<string>h</string>\\n\\t\\t<string>i</string>\\n\\t\\t<string>j</string>\\n\\t\\t<string>k</string>\\n\\t\\t<string>l</string>\\n\\t\\t<string>m</string>\\n\\t\\t<string>n</string>\\n\\t\\t<string>o</string>\\n\\t\\t<string>p</string>\\n\\t\\t<string>q</string>\\n\\t\\t<string>r</string>\\n\\t\\t<string>s</string>\\n\\t\\t<string>t</string>\\n\\t\\t<string>u</string>\\n\\t\\t<string>v</string>\\n\\t\\t<string>w</string>\\n\\t\\t<string>x</string>\\n\\t\\t<string>y</string>\\n\\t\\t<string>z</string>\\n\\t\\t<string>braceleft</string>\\n\\t\\t<string>bar</string>\\n\\t\\t<string>braceright</string>\\n\\t\\t<string>asciitilde</string>\\n\\t\\t<string>exclamdown</string>\\n\\t\\t<string>brokenbar</string>\\n\\t\\t<string>section</string>\\n\\t\\t<string>dieresis</string>\\n\\t\\t<string>copyright</string>\\n\\t\\t<string>logicalnot</string>\\n\\t\\t<string>registered</string>\\n\\t\\t<string>macron</string>\\n\\t\\t<string>degree</string>\\n\\t\\t<string>plusminus</string>\\n\\t\\t<string>acute</string>\\n\\t\\t<string>paragraph</string>\\n\\t\\t<string>periodcentered</string>\\n\\t\\t<string>cedilla</string>\\n\\t\\t<string>questiondown</string>\\n\\t\\t<string>Agrave</string>\\n\\t\\t<string>Aacute</string>\\n\\t\\t<string>Acircumflex</string>\\n\\t\\t<string>Atilde</string>\\n\\t\\t<string>Adieresis</string>\\n\\t\\t<string>Aring</string>\\n\\t\\t<string>AE</string>\\n\\t\\t<string>Ccedilla</string>\\n\\t\\t<string>Egrave</string>\\n\\t\\t<string>Eacute</string>\\n\\t\\t<string>Ecircumflex</string>\\n\\t\\t<string>Edieresis</string>\\n\\t\\t<string>Igrave</string>\\n\\t\\t<string>Iacute</string>\\n\\t\\t<string>Icircumflex</string>\\n\\t\\t<string>Idieresis</string>\\n\\t\\t<string>Eth</string>\\n\\t\\t<string>Ntilde</string>\\n\\t\\t<string>Ograve</string>\\n\\t\\t<string>Oacute</string>\\n\\t\\t<string>Ocircumflex</string>\\n\\t\\t<string>Otilde</string>\\n\\t\\t<string>Odieresis</string>\\n\\t\\t<string>multiply</string>\\n\\t\\t<string>Oslash</string>\\n\\t\\t<string>Ugrave</string>\\n\\t\\t<string>Uacute</string>\\n\\t\\t<string>Ucircumflex</string>\\n\\t\\t<string>Udieresis</string>\\n\\t\\t<string>Yacute</string>\\n\\t\\t<string>Thorn</string>\\n\\t\\t<string>germandbls</string>\\n\\t\\t<string>agrave</string>\\n\\t\\t<string>aacute</string>\\n\\t\\t<string>acircumflex</string>\\n\\t\\t<string>atilde</string>\\n\\t\\t<string>adieresis</string>\\n\\t\\t<string>aring</string>\\n\\t\\t<string>ae</string>\\n\\t\\t<string>ccedilla</string>\\n\\t\\t<string>egrave</string>\\n\\t\\t<string>eacute</string>\\n\\t\\t<string>ecircumflex</string>\\n\\t\\t<string>edieresis</string>\\n\\t\\t<string>igrave</string>\\n\\t\\t<string>iacute</string>\\n\\t\\t<string>icircumflex</string>\\n\\t\\t<string>idieresis</string>\\n\\t\\t<string>eth</string>\\n\\t\\t<string>ntilde</string>\\n\\t\\t<string>ograve</string>\\n\\t\\t<string>oacute</string>\\n\\t\\t<string>ocircumflex</string>\\n\\t\\t<string>otilde</string>\\n\\t\\t<string>odieresis</string>\\n\\t\\t<string>divide</string>\\n\\t\\t<string>oslash</string>\\n\\t\\t<string>ugrave</string>\\n\\t\\t<string>uacute</string>\\n\\t\\t<string>ucircumflex</string>\\n\\t\\t<string>udieresis</string>\\n\\t\\t<string>yacute</string>\\n\\t\\t<string>thorn</string>\\n\\t\\t<string>ydieresis</string>\\n\\t\\t<string>circumflex</string>\\n\\t\\t<string>caron</string>\\n\\t\\t<string>breve</string>\\n\\t\\t<string>dotaccent</string>\\n\\t\\t<string>ring</string>\\n\\t\\t<string>ogonek</string>\\n\\t\\t<string>tilde</string>\\n\\t\\t<string>hungarumlaut</string>\\n\\t\\t<string>minus</string>\\n\\t\\t<string>OE</string>\\n\\t\\t<string>Germandbls</string>\\n\\t\\t<string>Wacute</string>\\n\\t\\t<string>Wcircumflex</string>\\n\\t\\t<string>Wdieresis</string>\\n\\t\\t<string>Wgrave</string>\\n\\t\\t<string>Ycircumflex</string>\\n\\t\\t<string>Ydieresis</string>\\n\\t\\t<string>Ygrave</string>\\n\\t\\t<string>oe</string>\\n\\t\\t<string>wacute</string>\\n\\t\\t<string>wcircumflex</string>\\n\\t\\t<string>wdieresis</string>\\n\\t\\t<string>wgrave</string>\\n\\t\\t<string>ycircumflex</string>\\n\\t\\t<string>ygrave</string>\\n\\t\\t<string>f_f_i</string>\\n\\t\\t<string>fi</string>\\n\\t\\t<string>f_j.liga</string>\\n\\t\\t<string>g_j.liga</string>\\n\\t\\t<string>j_j.liga</string>\\n\\t\\t<string>s_s.liga</string>\\n\\t\\t<string>y_j.liga</string>\\n\\t\\t<string>A-cy</string>\\n\\t\\t<string>Be-cy</string>\\n\\t\\t<string>Ve-cy</string>\\n\\t\\t<string>Ge-cy</string>\\n\\t\\t<string>De-cy</string>\\n\\t\\t<string>Ie-cy</string>\\n\\t\\t<string>Io-cy</string>\\n\\t\\t<string>Zhe-cy</string>\\n\\t\\t<string>Ze-cy</string>\\n\\t\\t<string>Ii-cy</string>\\n\\t\\t<string>Iishort-cy</string>\\n\\t\\t<string>Ka-cy</string>\\n\\t\\t<string>El-cy</string>\\n\\t\\t<string>Em-cy</string>\\n\\t\\t<string>En-cy</string>\\n\\t\\t<string>O-cy</string>\\n\\t\\t<string>Pe-cy</string>\\n\\t\\t<string>Er-cy</string>\\n\\t\\t<string>Es-cy</string>\\n\\t\\t<string>Te-cy</string>\\n\\t\\t<string>U-cy</string>\\n\\t\\t<string>Ef-cy</string>\\n\\t\\t<string>Ha-cy</string>\\n\\t\\t<string>Che-cy</string>\\n\\t\\t<string>Tse-cy</string>\\n\\t\\t<string>Sha-cy</string>\\n\\t\\t<string>Shcha-cy</string>\\n\\t\\t<string>Softsign-cy</string>\\n\\t\\t<string>Hardsign-cy</string>\\n\\t\\t<string>Yeru-cy</string>\\n\\t\\t<string>Ereversed-cy</string>\\n\\t\\t<string>Iu-cy</string>\\n\\t\\t<string>Ia-cy</string>\\n\\t\\t<string>De-cy.001</string>\\n\\t\\t<string>Ii-cy.001</string>\\n\\t\\t<string>El-cy.001</string>\\n\\t\\t<string>U-cy.001</string>\\n\\t\\t<string>a-cy</string>\\n\\t\\t<string>be-cy</string>\\n\\t\\t<string>ve-cy</string>\\n\\t\\t<string>ge-cy</string>\\n\\t\\t<string>de-cy</string>\\n\\t\\t<string>ie-cy</string>\\n\\t\\t<string>io-cy</string>\\n\\t\\t<string>zhe-cy</string>\\n\\t\\t<string>ze-cy</string>\\n\\t\\t<string>ii-cy</string>\\n\\t\\t<string>iishort-cy</string>\\n\\t\\t<string>ka-cy</string>\\n\\t\\t<string>el-cy</string>\\n\\t\\t<string>em-cy</string>\\n\\t\\t<string>en-cy</string>\\n\\t\\t<string>o-cy</string>\\n\\t\\t<string>pe-cy</string>\\n\\t\\t<string>er-cy</string>\\n\\t\\t<string>es-cy</string>\\n\\t\\t<string>te-cy</string>\\n\\t\\t<string>u-cy</string>\\n\\t\\t<string>ef-cy</string>\\n\\t\\t<string>ha-cy</string>\\n\\t\\t<string>che-cy</string>\\n\\t\\t<string>tse-cy</string>\\n\\t\\t<string>sha-cy</string>\\n\\t\\t<string>shcha-cy</string>\\n\\t\\t<string>softsign-cy</string>\\n\\t\\t<string>hardsign-cy</string>\\n\\t\\t<string>yeru-cy</string>\\n\\t\\t<string>ereversed-cy</string>\\n\\t\\t<string>iu-cy</string>\\n\\t\\t<string>ia-cy</string>\\n\\t\\t<string>be-cy.001</string>\\n\\t\\t<string>ii-cy.001</string>\\n\\t\\t<string>be-cy.002</string>\\n\\t\\t<string>ii-cy.002</string>\\n\\t\\t<string>be-cy.003</string>\\n\\t\\t<string>fraction</string>\\n\\t\\t<string>ellipsis</string>\\n\\t\\t<string>bullet</string>\\n\\t\\t<string>endash</string>\\n\\t\\t<string>emdash</string>\\n\\t\\t<string>notequal</string>\\n\\t\\t<string>greaterequal</string>\\n\\t\\t<string>lessequal</string>\\n\\t\\t<string>approxequal</string>\\n\\t\\t<string>emptyset</string>\\n\\t\\t<string>infinity</string>\\n\\t\\t<string>integral</string>\\n\\t\\t<string>product</string>\\n\\t\\t<string>summation</string>\\n\\t\\t<string>radical</string>\\n\\t\\t<string>partialdiff</string>\\n\\t\\t<string>perthousand</string>\\n\\t\\t<string>upArrow</string>\\n\\t\\t<string>rightArrow</string>\\n\\t\\t<string>downArrow</string>\\n\\t\\t<string>leftArrow</string>\\n\\t\\t<string>lozenge</string>\\n\\t\\t<string>trademark</string>\\n\\t\\t<string>dagger</string>\\n\\t\\t<string>daggerdbl</string>\\n\\t\\t<string>dieresiscomb</string>\\n\\t\\t<string>dotaccentcomb</string>\\n\\t\\t<string>gravecomb</string>\\n\\t\\t<string>acutecomb</string>\\n\\t\\t<string>circumflexcomb</string>\\n\\t\\t<string>ringcomb</string>\\n\\t\\t<string>tildecomb</string>\\n\\t\\t<string>cedillacomb</string>\\n\\t\\t<string>brevecomb-cy</string>\\n\\t\\t<string>bubble</string>\\n\\t\\t<string>pixel</string>\\n\\t</array>\\n\\t<key>public.postscriptNames</key>\\n\\t<dict>\\n\\t\\t<key>downArrow</key>\\n\\t\\t<string>arrowdown</string>\\n\\t\\t<key>leftArrow</key>\\n\\t\\t<string>arrowleft</string>\\n\\t\\t<key>rightArrow</key>\\n\\t\\t<string>arrowright</string>\\n\\t\\t<key>upArrow</key>\\n\\t\\t<string>arrowup</string>\\n\\t</dict>\\n</dict>\\n</plist>\\n'"
            ]
          },
          "metadata": {
            "tags": []
          },
          "execution_count": 72
        }
      ]
    },
    {
      "cell_type": "code",
      "metadata": {
        "id": "VFX8Ej39YU4n",
        "colab_type": "code",
        "colab": {}
      },
      "source": [
        "#  print(ufo3_1_xml)"
      ],
      "execution_count": 0,
      "outputs": []
    },
    {
      "cell_type": "code",
      "metadata": {
        "id": "CKQDfsMwAICu",
        "colab_type": "code",
        "colab": {
          "base_uri": "https://localhost:8080/",
          "height": 34
        },
        "outputId": "afe5f838-39db-4d61-9670-9614541e5bdd"
      },
      "source": [
        "ufo3_1_xml_form = ET.fromstring(ufo3_1_xml)\n",
        "ufo3_1_xml_form"
      ],
      "execution_count": 75,
      "outputs": [
        {
          "output_type": "execute_result",
          "data": {
            "text/plain": [
              "<Element 'plist' at 0x7f1af57f81d8>"
            ]
          },
          "metadata": {
            "tags": []
          },
          "execution_count": 75
        }
      ]
    },
    {
      "cell_type": "code",
      "metadata": {
        "id": "qOrCGkVoBppL",
        "colab_type": "code",
        "colab": {
          "base_uri": "https://localhost:8080/",
          "height": 232
        },
        "outputId": "cc8118cd-2d07-4dfa-e00c-0cabe3ff9c9e"
      },
      "source": [
        "# I need to collect <string> inside \n",
        "# <array>\n",
        "# \t\t<dict>\n",
        "# \t\t\t<key>ascending</key>\n",
        "# \t\t\t<array>\n",
        "glyphs = []\n",
        "\n",
        "for glyph in ufo3_1_xml_form.findall('.//array'): \n",
        "  glyphs.append( glyph.find('.//string').text )\n",
        "\n",
        "# creating a dataframe \n",
        "glyphs_df = pd.DataFrame(    \n",
        "    {'glyphs': glyphs,\n",
        "    })  \n",
        "\n",
        "glyphs_df"
      ],
      "execution_count": 76,
      "outputs": [
        {
          "output_type": "error",
          "ename": "AttributeError",
          "evalue": "ignored",
          "traceback": [
            "\u001b[0;31m---------------------------------------------------------------------------\u001b[0m",
            "\u001b[0;31mAttributeError\u001b[0m                            Traceback (most recent call last)",
            "\u001b[0;32m<ipython-input-76-fa80086878b8>\u001b[0m in \u001b[0;36m<module>\u001b[0;34m()\u001b[0m\n\u001b[1;32m      7\u001b[0m \u001b[0;34m\u001b[0m\u001b[0m\n\u001b[1;32m      8\u001b[0m \u001b[0;32mfor\u001b[0m \u001b[0mglyph\u001b[0m \u001b[0;32min\u001b[0m \u001b[0mufo3_1_xml_form\u001b[0m\u001b[0;34m.\u001b[0m\u001b[0mfindall\u001b[0m\u001b[0;34m(\u001b[0m\u001b[0;34m'.//array'\u001b[0m\u001b[0;34m)\u001b[0m\u001b[0;34m:\u001b[0m\u001b[0;34m\u001b[0m\u001b[0;34m\u001b[0m\u001b[0m\n\u001b[0;32m----> 9\u001b[0;31m   \u001b[0mglyphs\u001b[0m\u001b[0;34m.\u001b[0m\u001b[0mappend\u001b[0m\u001b[0;34m(\u001b[0m \u001b[0mglyph\u001b[0m\u001b[0;34m.\u001b[0m\u001b[0mfind\u001b[0m\u001b[0;34m(\u001b[0m\u001b[0;34m'.//string'\u001b[0m\u001b[0;34m)\u001b[0m\u001b[0;34m.\u001b[0m\u001b[0mtext\u001b[0m \u001b[0;34m)\u001b[0m\u001b[0;34m\u001b[0m\u001b[0;34m\u001b[0m\u001b[0m\n\u001b[0m\u001b[1;32m     10\u001b[0m \u001b[0;34m\u001b[0m\u001b[0m\n\u001b[1;32m     11\u001b[0m \u001b[0;31m# creating a dataframe\u001b[0m\u001b[0;34m\u001b[0m\u001b[0;34m\u001b[0m\u001b[0;34m\u001b[0m\u001b[0m\n",
            "\u001b[0;31mAttributeError\u001b[0m: 'NoneType' object has no attribute 'text'"
          ]
        }
      ]
    },
    {
      "cell_type": "markdown",
      "metadata": {
        "id": "2lQkN9jSDnIm",
        "colab_type": "text"
      },
      "source": [
        "Error:\n",
        "AttributeError                            Traceback (most recent call last)\n",
        "<ipython-input-63-fa80086878b8> in <module>()\n",
        "      7 \n",
        "      8 for glyph in ufo3_1_xml_form.findall('.//array'):\n",
        "----> 9   glyphs.append( glyph.find('.//string').text )\n",
        "     10 \n",
        "     11 # creating a dataframe\n",
        "\n",
        "AttributeError: 'NoneType' object has no attribute 'text'"
      ]
    },
    {
      "cell_type": "markdown",
      "metadata": {
        "id": "FvpLIskTZM3n",
        "colab_type": "text"
      },
      "source": [
        "connect commits + visualise which particular changes has happened?\\\n",
        "what kind of statistic can I aggregate based on the whole font file?\\\n",
        "github: font file structure + commit comment // font file // each glyph separatly\n"
      ]
    }
  ]
}