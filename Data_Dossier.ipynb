{
  "nbformat": 4,
  "nbformat_minor": 0,
  "metadata": {
    "colab": {
      "name": "Data Dossier | Consultations on 11 June.ipynb",
      "provenance": [],
      "authorship_tag": "ABX9TyMCHJwDSN7UUnuOBgP0vEkE",
      "include_colab_link": true
    },
    "kernelspec": {
      "name": "python3",
      "display_name": "Python 3"
    }
  },
  "cells": [
    {
      "cell_type": "markdown",
      "metadata": {
        "id": "view-in-github",
        "colab_type": "text"
      },
      "source": [
        "<a href=\"https://colab.research.google.com/github/kuzminadya/FHP-infovis-py/blob/master/Data_Dossier.ipynb\" target=\"_parent\"><img src=\"https://colab.research.google.com/assets/colab-badge.svg\" alt=\"Open In Colab\"/></a>"
      ]
    },
    {
      "cell_type": "markdown",
      "metadata": {
        "id": "HQFKi_PJ6xYS",
        "colab_type": "text"
      },
      "source": [
        "# Data Dossier | Consultation on 11 June\n",
        "\n",
        "## An idea\n",
        "\n",
        "My idea is to analyse and visualise the transformation of font file changing over time. Creating a font, especially a large font family may take several years of work or it might be a result of collaboration of several designers and type engineers. Even after the first version is released, the contribution to the project and updating the font may last for several years.\n",
        "\n",
        "*add text about version control system*\n",
        "\n",
        "## Title (the first version)\n",
        "\n",
        "Visualisation and analysis of font file transformation over time. \n",
        "\n",
        "## Note\n",
        "\n",
        "For now the notebook covers three different approaches. In the final version, I hope I'll choose and visualize only one. \n",
        "\n",
        "## An approximate work plan\n",
        "\n",
        "[x] Choose a topic and/or dataset you are interested in\\\n",
        "[x] Prepare the data for the first use case\\\n",
        "[x] Prepare the data for the second use case\\\n",
        "[ ] Pose a question to apply your visualization skills → 11.06.2020\\\n",
        "[ ] Generate several visualizations (static and interactive) → 25.06.2020\\\n",
        "[ ] Include the most informative in report on your process → 02.07.2020\\\n",
        "[ ] Share the resulting report as a Jupyter Notebook → 02.02.2020\n"
      ]
    },
    {
      "cell_type": "markdown",
      "metadata": {
        "id": "q2DiMqY__4fh",
        "colab_type": "text"
      },
      "source": [
        "## Use cases\n",
        "\n",
        "There are two possible ways of elaborating my experiment. I can visualise either the structure of the existing font (the first use case) or I can create one, using UFO format (the second use case). For the second story I need to prepare a sample dataset myself.\n",
        "\n",
        "### The first use case\n",
        "\n",
        "As an examle I use Source Code Pro Project from Adobe, which took part for 4 years:\\\n",
        "https://github.com/adobe-fonts/source-code-pro/commits/release\n",
        "\n",
        "And IBM Plex® typeface which was active on Github for a 2 years and have 219 commits:\\\n",
        "https://github.com/IBM/plex \n",
        "\n",
        "### The second use case\n",
        "\n",
        "For the second project I decided to use my own current project [Mogee font](http://nadyakuzmina.com/story-of-mogeefont)\n",
        "\n",
        "The font originally was made in glyphs and I need to prepare all the existing versions in UFO format.\n",
        "\n",
        "https://robofont.com/documentation/how-tos/using-git/\n",
        "\n",
        "> The UFO file format is perfect for version control, since it is text-based. A UFO is basically just a folder with many little XML-files in it. A UFO file could theoretically be created and modified in a text editor. This opens the field of digital type design for version control tools normally used only by software developers."
      ]
    },
    {
      "cell_type": "markdown",
      "metadata": {
        "id": "emGvVC7IE-0P",
        "colab_type": "text"
      },
      "source": [
        "## IBM Plex®\n",
        "\n",
        "Question\n",
        "\n",
        "https://github.com/IBM/plex/blob/master/LICENSE.txt\n"
      ]
    },
    {
      "cell_type": "code",
      "metadata": {
        "id": "q9ueJOVw7Lw1",
        "colab_type": "code",
        "colab": {}
      },
      "source": [
        "import pandas as pd\n",
        "import altair as alt"
      ],
      "execution_count": 0,
      "outputs": []
    },
    {
      "cell_type": "markdown",
      "metadata": {
        "id": "UuVFCkpKkYpb",
        "colab_type": "text"
      },
      "source": [
        "The first step is getting the dataset in JSON format from Github. It includes two files: a description of the repo and a list of commits."
      ]
    },
    {
      "cell_type": "markdown",
      "metadata": {
        "id": "hR50tHTqdhhd",
        "colab_type": "text"
      },
      "source": [
        "https://developer.github.com/v3/repos/#get-a-repository\n",
        "\n",
        "/repos/:owner/:repo"
      ]
    },
    {
      "cell_type": "code",
      "metadata": {
        "id": "xDKl58k9b2n8",
        "colab_type": "code",
        "outputId": "a887d334-7029-4a3c-e0f3-c33aab56be84",
        "colab": {
          "base_uri": "https://localhost:8080/",
          "height": 34
        }
      },
      "source": [
        "import requests \n",
        "\n",
        "url = ('https://api.github.com/repos/IBM/plex')\n",
        "\n",
        "response = requests.get(url)\n",
        "\n",
        "print(f\"Request returned {response.status_code} : '{response.reason}'\")\n",
        "dataset_repo_json = response.json()\n",
        "\n",
        "# dataset_repo_json"
      ],
      "execution_count": 3,
      "outputs": [
        {
          "output_type": "stream",
          "text": [
            "Request returned 200 : 'OK'\n"
          ],
          "name": "stdout"
        }
      ]
    },
    {
      "cell_type": "markdown",
      "metadata": {
        "id": "o4nxhHGKfT-X",
        "colab_type": "text"
      },
      "source": [
        "https://developer.github.com/v3/repos/commits/ \n",
        "\n",
        "GET /repos/:owner/:repo/commits"
      ]
    },
    {
      "cell_type": "code",
      "metadata": {
        "id": "kGM-cCYefYQ9",
        "colab_type": "code",
        "outputId": "86e9300b-ac71-4e13-821a-ef9378980110",
        "colab": {
          "base_uri": "https://localhost:8080/",
          "height": 34
        }
      },
      "source": [
        "url = ('https://api.github.com/repos/IBM/plex/commits')\n",
        "\n",
        "response = requests.get(url)\n",
        "\n",
        "print(f\"Request returned {response.status_code} : '{response.reason}'\")\n",
        "dataset_commits_json = response.json()\n",
        "\n",
        "# dataset_commits_json"
      ],
      "execution_count": 4,
      "outputs": [
        {
          "output_type": "stream",
          "text": [
            "Request returned 200 : 'OK'\n"
          ],
          "name": "stdout"
        }
      ]
    },
    {
      "cell_type": "markdown",
      "metadata": {
        "id": "eVTKav6SmNZP",
        "colab_type": "text"
      },
      "source": [
        "The next part is converting JSON into table.\n",
        "\n",
        "https://stackoverflow.com/questions/41168558/python-how-to-convert-json-file-to-dataframe"
      ]
    },
    {
      "cell_type": "code",
      "metadata": {
        "id": "Pj_LNtSxi1ru",
        "colab_type": "code",
        "outputId": "60432c77-1290-4828-f666-b5590ae3dbcb",
        "colab": {
          "base_uri": "https://localhost:8080/",
          "height": 105
        }
      },
      "source": [
        "from pandas.io.json import json_normalize\n",
        "df_commits_table = pd.DataFrame.from_dict(json_normalize(dataset_commits_json), orient='columns')\n",
        "df_repo_table = pd.DataFrame.from_dict(json_normalize(dataset_repo_json), orient='columns')\n",
        "# df_commits_table\n",
        "# df_repo_table"
      ],
      "execution_count": 5,
      "outputs": [
        {
          "output_type": "stream",
          "text": [
            "/usr/local/lib/python3.6/dist-packages/ipykernel_launcher.py:2: FutureWarning: pandas.io.json.json_normalize is deprecated, use pandas.json_normalize instead\n",
            "  \n",
            "/usr/local/lib/python3.6/dist-packages/ipykernel_launcher.py:3: FutureWarning: pandas.io.json.json_normalize is deprecated, use pandas.json_normalize instead\n",
            "  This is separate from the ipykernel package so we can avoid doing imports until\n"
          ],
          "name": "stderr"
        }
      ]
    },
    {
      "cell_type": "markdown",
      "metadata": {
        "id": "3Qj4Pos1mZjP",
        "colab_type": "text"
      },
      "source": [
        "Then hiding unnecessary columns\n",
        "\n",
        "https://colab.research.google.com/drive/11zDWTJHup4A4rEUZq2evGVpXagElfTdT?usp=sharing"
      ]
    },
    {
      "cell_type": "code",
      "metadata": {
        "id": "ie3i6t81o3Sl",
        "colab_type": "code",
        "outputId": "82f81d5c-e383-4314-d579-a38bb5f17887",
        "colab": {
          "base_uri": "https://localhost:8080/",
          "height": 309
        }
      },
      "source": [
        "df_commits_table_reduced = df_commits_table.drop(columns=[\"sha\", \"node_id\", \"parents\", \"commit.author.email\", \"commit.committer.email\", \"commit.tree.sha\", \"commit.verification.payload\",  \"author.login\", \"author.id\", \"author.node_id\", \"author.gravatar_id\", \"committer.id\", \"committer.node_id\", \"committer.gravatar_id\"])\n",
        "\n",
        "df_commits_table_reduced.sample(5)"
      ],
      "execution_count": 6,
      "outputs": [
        {
          "output_type": "execute_result",
          "data": {
            "text/html": [
              "<div>\n",
              "<style scoped>\n",
              "    .dataframe tbody tr th:only-of-type {\n",
              "        vertical-align: middle;\n",
              "    }\n",
              "\n",
              "    .dataframe tbody tr th {\n",
              "        vertical-align: top;\n",
              "    }\n",
              "\n",
              "    .dataframe thead th {\n",
              "        text-align: right;\n",
              "    }\n",
              "</style>\n",
              "<table border=\"1\" class=\"dataframe\">\n",
              "  <thead>\n",
              "    <tr style=\"text-align: right;\">\n",
              "      <th></th>\n",
              "      <th>url</th>\n",
              "      <th>html_url</th>\n",
              "      <th>comments_url</th>\n",
              "      <th>commit.author.name</th>\n",
              "      <th>commit.author.date</th>\n",
              "      <th>commit.committer.name</th>\n",
              "      <th>commit.committer.date</th>\n",
              "      <th>commit.message</th>\n",
              "      <th>commit.tree.url</th>\n",
              "      <th>commit.url</th>\n",
              "      <th>commit.comment_count</th>\n",
              "      <th>commit.verification.verified</th>\n",
              "      <th>commit.verification.reason</th>\n",
              "      <th>commit.verification.signature</th>\n",
              "      <th>author.avatar_url</th>\n",
              "      <th>author.url</th>\n",
              "      <th>author.html_url</th>\n",
              "      <th>author.followers_url</th>\n",
              "      <th>author.following_url</th>\n",
              "      <th>author.gists_url</th>\n",
              "      <th>author.starred_url</th>\n",
              "      <th>author.subscriptions_url</th>\n",
              "      <th>author.organizations_url</th>\n",
              "      <th>author.repos_url</th>\n",
              "      <th>author.events_url</th>\n",
              "      <th>author.received_events_url</th>\n",
              "      <th>author.type</th>\n",
              "      <th>author.site_admin</th>\n",
              "      <th>committer.login</th>\n",
              "      <th>committer.avatar_url</th>\n",
              "      <th>committer.url</th>\n",
              "      <th>committer.html_url</th>\n",
              "      <th>committer.followers_url</th>\n",
              "      <th>committer.following_url</th>\n",
              "      <th>committer.gists_url</th>\n",
              "      <th>committer.starred_url</th>\n",
              "      <th>committer.subscriptions_url</th>\n",
              "      <th>committer.organizations_url</th>\n",
              "      <th>committer.repos_url</th>\n",
              "      <th>committer.events_url</th>\n",
              "      <th>committer.received_events_url</th>\n",
              "      <th>committer.type</th>\n",
              "      <th>committer.site_admin</th>\n",
              "      <th>author</th>\n",
              "      <th>committer</th>\n",
              "    </tr>\n",
              "  </thead>\n",
              "  <tbody>\n",
              "    <tr>\n",
              "      <th>18</th>\n",
              "      <td>https://api.github.com/repos/IBM/plex/commits/...</td>\n",
              "      <td>https://github.com/IBM/plex/commit/2224b57a801...</td>\n",
              "      <td>https://api.github.com/repos/IBM/plex/commits/...</td>\n",
              "      <td>Vince Picone</td>\n",
              "      <td>2019-10-03T18:45:57Z</td>\n",
              "      <td>Vince Picone</td>\n",
              "      <td>2019-10-03T18:45:57Z</td>\n",
              "      <td>breaking: update thai and devanagari typeface ...</td>\n",
              "      <td>https://api.github.com/repos/IBM/plex/git/tree...</td>\n",
              "      <td>https://api.github.com/repos/IBM/plex/git/comm...</td>\n",
              "      <td>0</td>\n",
              "      <td>False</td>\n",
              "      <td>unsigned</td>\n",
              "      <td>None</td>\n",
              "      <td>NaN</td>\n",
              "      <td>NaN</td>\n",
              "      <td>NaN</td>\n",
              "      <td>NaN</td>\n",
              "      <td>NaN</td>\n",
              "      <td>NaN</td>\n",
              "      <td>NaN</td>\n",
              "      <td>NaN</td>\n",
              "      <td>NaN</td>\n",
              "      <td>NaN</td>\n",
              "      <td>NaN</td>\n",
              "      <td>NaN</td>\n",
              "      <td>NaN</td>\n",
              "      <td>NaN</td>\n",
              "      <td>NaN</td>\n",
              "      <td>NaN</td>\n",
              "      <td>NaN</td>\n",
              "      <td>NaN</td>\n",
              "      <td>NaN</td>\n",
              "      <td>NaN</td>\n",
              "      <td>NaN</td>\n",
              "      <td>NaN</td>\n",
              "      <td>NaN</td>\n",
              "      <td>NaN</td>\n",
              "      <td>NaN</td>\n",
              "      <td>NaN</td>\n",
              "      <td>NaN</td>\n",
              "      <td>NaN</td>\n",
              "      <td>NaN</td>\n",
              "      <td>NaN</td>\n",
              "      <td>NaN</td>\n",
              "    </tr>\n",
              "    <tr>\n",
              "      <th>1</th>\n",
              "      <td>https://api.github.com/repos/IBM/plex/commits/...</td>\n",
              "      <td>https://github.com/IBM/plex/commit/ef0ab499832...</td>\n",
              "      <td>https://api.github.com/repos/IBM/plex/commits/...</td>\n",
              "      <td>Vince Picone</td>\n",
              "      <td>2019-12-09T21:49:34Z</td>\n",
              "      <td>Vince Picone</td>\n",
              "      <td>2019-12-09T21:49:34Z</td>\n",
              "      <td>4.0.2</td>\n",
              "      <td>https://api.github.com/repos/IBM/plex/git/tree...</td>\n",
              "      <td>https://api.github.com/repos/IBM/plex/git/comm...</td>\n",
              "      <td>0</td>\n",
              "      <td>False</td>\n",
              "      <td>unsigned</td>\n",
              "      <td>None</td>\n",
              "      <td>NaN</td>\n",
              "      <td>NaN</td>\n",
              "      <td>NaN</td>\n",
              "      <td>NaN</td>\n",
              "      <td>NaN</td>\n",
              "      <td>NaN</td>\n",
              "      <td>NaN</td>\n",
              "      <td>NaN</td>\n",
              "      <td>NaN</td>\n",
              "      <td>NaN</td>\n",
              "      <td>NaN</td>\n",
              "      <td>NaN</td>\n",
              "      <td>NaN</td>\n",
              "      <td>NaN</td>\n",
              "      <td>NaN</td>\n",
              "      <td>NaN</td>\n",
              "      <td>NaN</td>\n",
              "      <td>NaN</td>\n",
              "      <td>NaN</td>\n",
              "      <td>NaN</td>\n",
              "      <td>NaN</td>\n",
              "      <td>NaN</td>\n",
              "      <td>NaN</td>\n",
              "      <td>NaN</td>\n",
              "      <td>NaN</td>\n",
              "      <td>NaN</td>\n",
              "      <td>NaN</td>\n",
              "      <td>NaN</td>\n",
              "      <td>NaN</td>\n",
              "      <td>NaN</td>\n",
              "      <td>NaN</td>\n",
              "    </tr>\n",
              "    <tr>\n",
              "      <th>8</th>\n",
              "      <td>https://api.github.com/repos/IBM/plex/commits/...</td>\n",
              "      <td>https://github.com/IBM/plex/commit/e805eb4106e...</td>\n",
              "      <td>https://api.github.com/repos/IBM/plex/commits/...</td>\n",
              "      <td>Vince Picone</td>\n",
              "      <td>2019-11-18T16:15:37Z</td>\n",
              "      <td>Vince Picone</td>\n",
              "      <td>2019-11-18T16:15:37Z</td>\n",
              "      <td>4.0.1</td>\n",
              "      <td>https://api.github.com/repos/IBM/plex/git/tree...</td>\n",
              "      <td>https://api.github.com/repos/IBM/plex/git/comm...</td>\n",
              "      <td>0</td>\n",
              "      <td>False</td>\n",
              "      <td>unsigned</td>\n",
              "      <td>None</td>\n",
              "      <td>NaN</td>\n",
              "      <td>NaN</td>\n",
              "      <td>NaN</td>\n",
              "      <td>NaN</td>\n",
              "      <td>NaN</td>\n",
              "      <td>NaN</td>\n",
              "      <td>NaN</td>\n",
              "      <td>NaN</td>\n",
              "      <td>NaN</td>\n",
              "      <td>NaN</td>\n",
              "      <td>NaN</td>\n",
              "      <td>NaN</td>\n",
              "      <td>NaN</td>\n",
              "      <td>NaN</td>\n",
              "      <td>NaN</td>\n",
              "      <td>NaN</td>\n",
              "      <td>NaN</td>\n",
              "      <td>NaN</td>\n",
              "      <td>NaN</td>\n",
              "      <td>NaN</td>\n",
              "      <td>NaN</td>\n",
              "      <td>NaN</td>\n",
              "      <td>NaN</td>\n",
              "      <td>NaN</td>\n",
              "      <td>NaN</td>\n",
              "      <td>NaN</td>\n",
              "      <td>NaN</td>\n",
              "      <td>NaN</td>\n",
              "      <td>NaN</td>\n",
              "      <td>NaN</td>\n",
              "      <td>NaN</td>\n",
              "    </tr>\n",
              "    <tr>\n",
              "      <th>28</th>\n",
              "      <td>https://api.github.com/repos/IBM/plex/commits/...</td>\n",
              "      <td>https://github.com/IBM/plex/commit/ceee77eadc0...</td>\n",
              "      <td>https://api.github.com/repos/IBM/plex/commits/...</td>\n",
              "      <td>Vince Picone</td>\n",
              "      <td>2019-04-05T18:34:31Z</td>\n",
              "      <td>Vince Picone</td>\n",
              "      <td>2019-04-05T18:34:31Z</td>\n",
              "      <td>chore: npm ignore .DS_Store</td>\n",
              "      <td>https://api.github.com/repos/IBM/plex/git/tree...</td>\n",
              "      <td>https://api.github.com/repos/IBM/plex/git/comm...</td>\n",
              "      <td>0</td>\n",
              "      <td>False</td>\n",
              "      <td>unsigned</td>\n",
              "      <td>None</td>\n",
              "      <td>NaN</td>\n",
              "      <td>NaN</td>\n",
              "      <td>NaN</td>\n",
              "      <td>NaN</td>\n",
              "      <td>NaN</td>\n",
              "      <td>NaN</td>\n",
              "      <td>NaN</td>\n",
              "      <td>NaN</td>\n",
              "      <td>NaN</td>\n",
              "      <td>NaN</td>\n",
              "      <td>NaN</td>\n",
              "      <td>NaN</td>\n",
              "      <td>NaN</td>\n",
              "      <td>NaN</td>\n",
              "      <td>NaN</td>\n",
              "      <td>NaN</td>\n",
              "      <td>NaN</td>\n",
              "      <td>NaN</td>\n",
              "      <td>NaN</td>\n",
              "      <td>NaN</td>\n",
              "      <td>NaN</td>\n",
              "      <td>NaN</td>\n",
              "      <td>NaN</td>\n",
              "      <td>NaN</td>\n",
              "      <td>NaN</td>\n",
              "      <td>NaN</td>\n",
              "      <td>NaN</td>\n",
              "      <td>NaN</td>\n",
              "      <td>NaN</td>\n",
              "      <td>NaN</td>\n",
              "      <td>NaN</td>\n",
              "    </tr>\n",
              "    <tr>\n",
              "      <th>19</th>\n",
              "      <td>https://api.github.com/repos/IBM/plex/commits/...</td>\n",
              "      <td>https://github.com/IBM/plex/commit/be666280d04...</td>\n",
              "      <td>https://api.github.com/repos/IBM/plex/commits/...</td>\n",
              "      <td>Vince Picone</td>\n",
              "      <td>2019-06-04T19:07:41Z</td>\n",
              "      <td>GitHub</td>\n",
              "      <td>2019-06-04T19:07:41Z</td>\n",
              "      <td>Update CHANGELOG.md</td>\n",
              "      <td>https://api.github.com/repos/IBM/plex/git/tree...</td>\n",
              "      <td>https://api.github.com/repos/IBM/plex/git/comm...</td>\n",
              "      <td>0</td>\n",
              "      <td>True</td>\n",
              "      <td>valid</td>\n",
              "      <td>-----BEGIN PGP SIGNATURE-----\\n\\nwsBcBAABCAAQB...</td>\n",
              "      <td>https://avatars1.githubusercontent.com/u/40780...</td>\n",
              "      <td>https://api.github.com/users/vpicone</td>\n",
              "      <td>https://github.com/vpicone</td>\n",
              "      <td>https://api.github.com/users/vpicone/followers</td>\n",
              "      <td>https://api.github.com/users/vpicone/following...</td>\n",
              "      <td>https://api.github.com/users/vpicone/gists{/gi...</td>\n",
              "      <td>https://api.github.com/users/vpicone/starred{/...</td>\n",
              "      <td>https://api.github.com/users/vpicone/subscript...</td>\n",
              "      <td>https://api.github.com/users/vpicone/orgs</td>\n",
              "      <td>https://api.github.com/users/vpicone/repos</td>\n",
              "      <td>https://api.github.com/users/vpicone/events{/p...</td>\n",
              "      <td>https://api.github.com/users/vpicone/received_...</td>\n",
              "      <td>User</td>\n",
              "      <td>False</td>\n",
              "      <td>web-flow</td>\n",
              "      <td>https://avatars3.githubusercontent.com/u/19864...</td>\n",
              "      <td>https://api.github.com/users/web-flow</td>\n",
              "      <td>https://github.com/web-flow</td>\n",
              "      <td>https://api.github.com/users/web-flow/followers</td>\n",
              "      <td>https://api.github.com/users/web-flow/followin...</td>\n",
              "      <td>https://api.github.com/users/web-flow/gists{/g...</td>\n",
              "      <td>https://api.github.com/users/web-flow/starred{...</td>\n",
              "      <td>https://api.github.com/users/web-flow/subscrip...</td>\n",
              "      <td>https://api.github.com/users/web-flow/orgs</td>\n",
              "      <td>https://api.github.com/users/web-flow/repos</td>\n",
              "      <td>https://api.github.com/users/web-flow/events{/...</td>\n",
              "      <td>https://api.github.com/users/web-flow/received...</td>\n",
              "      <td>User</td>\n",
              "      <td>False</td>\n",
              "      <td>NaN</td>\n",
              "      <td>NaN</td>\n",
              "    </tr>\n",
              "  </tbody>\n",
              "</table>\n",
              "</div>"
            ],
            "text/plain": [
              "                                                  url  ... committer\n",
              "18  https://api.github.com/repos/IBM/plex/commits/...  ...       NaN\n",
              "1   https://api.github.com/repos/IBM/plex/commits/...  ...       NaN\n",
              "8   https://api.github.com/repos/IBM/plex/commits/...  ...       NaN\n",
              "28  https://api.github.com/repos/IBM/plex/commits/...  ...       NaN\n",
              "19  https://api.github.com/repos/IBM/plex/commits/...  ...       NaN\n",
              "\n",
              "[5 rows x 45 columns]"
            ]
          },
          "metadata": {
            "tags": []
          },
          "execution_count": 6
        }
      ]
    },
    {
      "cell_type": "code",
      "metadata": {
        "id": "KweYihPU43Fu",
        "colab_type": "code",
        "outputId": "0a049964-8d59-43aa-82c9-0ae5eeb56ab1",
        "colab": {
          "base_uri": "https://localhost:8080/",
          "height": 102
        }
      },
      "source": [
        "df_repo_table.info()"
      ],
      "execution_count": 7,
      "outputs": [
        {
          "output_type": "stream",
          "text": [
            "<class 'pandas.core.frame.DataFrame'>\n",
            "RangeIndex: 1 entries, 0 to 0\n",
            "Columns: 115 entries, id to organization.site_admin\n",
            "dtypes: bool(11), int64(13), object(91)\n",
            "memory usage: 971.0+ bytes\n"
          ],
          "name": "stdout"
        }
      ]
    },
    {
      "cell_type": "code",
      "metadata": {
        "id": "kQNNhvT63LOY",
        "colab_type": "code",
        "outputId": "598a44a9-ccac-4fef-8417-01d091a91833",
        "colab": {
          "base_uri": "https://localhost:8080/",
          "height": 901
        }
      },
      "source": [
        "df_commits_table_reduced.info()"
      ],
      "execution_count": 8,
      "outputs": [
        {
          "output_type": "stream",
          "text": [
            "<class 'pandas.core.frame.DataFrame'>\n",
            "RangeIndex: 30 entries, 0 to 29\n",
            "Data columns (total 45 columns):\n",
            " #   Column                         Non-Null Count  Dtype  \n",
            "---  ------                         --------------  -----  \n",
            " 0   url                            30 non-null     object \n",
            " 1   html_url                       30 non-null     object \n",
            " 2   comments_url                   30 non-null     object \n",
            " 3   commit.author.name             30 non-null     object \n",
            " 4   commit.author.date             30 non-null     object \n",
            " 5   commit.committer.name          30 non-null     object \n",
            " 6   commit.committer.date          30 non-null     object \n",
            " 7   commit.message                 30 non-null     object \n",
            " 8   commit.tree.url                30 non-null     object \n",
            " 9   commit.url                     30 non-null     object \n",
            " 10  commit.comment_count           30 non-null     int64  \n",
            " 11  commit.verification.verified   30 non-null     bool   \n",
            " 12  commit.verification.reason     30 non-null     object \n",
            " 13  commit.verification.signature  13 non-null     object \n",
            " 14  author.avatar_url              13 non-null     object \n",
            " 15  author.url                     13 non-null     object \n",
            " 16  author.html_url                13 non-null     object \n",
            " 17  author.followers_url           13 non-null     object \n",
            " 18  author.following_url           13 non-null     object \n",
            " 19  author.gists_url               13 non-null     object \n",
            " 20  author.starred_url             13 non-null     object \n",
            " 21  author.subscriptions_url       13 non-null     object \n",
            " 22  author.organizations_url       13 non-null     object \n",
            " 23  author.repos_url               13 non-null     object \n",
            " 24  author.events_url              13 non-null     object \n",
            " 25  author.received_events_url     13 non-null     object \n",
            " 26  author.type                    13 non-null     object \n",
            " 27  author.site_admin              13 non-null     object \n",
            " 28  committer.login                13 non-null     object \n",
            " 29  committer.avatar_url           13 non-null     object \n",
            " 30  committer.url                  13 non-null     object \n",
            " 31  committer.html_url             13 non-null     object \n",
            " 32  committer.followers_url        13 non-null     object \n",
            " 33  committer.following_url        13 non-null     object \n",
            " 34  committer.gists_url            13 non-null     object \n",
            " 35  committer.starred_url          13 non-null     object \n",
            " 36  committer.subscriptions_url    13 non-null     object \n",
            " 37  committer.organizations_url    13 non-null     object \n",
            " 38  committer.repos_url            13 non-null     object \n",
            " 39  committer.events_url           13 non-null     object \n",
            " 40  committer.received_events_url  13 non-null     object \n",
            " 41  committer.type                 13 non-null     object \n",
            " 42  committer.site_admin           13 non-null     object \n",
            " 43  author                         0 non-null      float64\n",
            " 44  committer                      0 non-null      float64\n",
            "dtypes: bool(1), float64(2), int64(1), object(41)\n",
            "memory usage: 10.5+ KB\n"
          ],
          "name": "stdout"
        }
      ]
    },
    {
      "cell_type": "markdown",
      "metadata": {
        "id": "iiF5QTiX5sTB",
        "colab_type": "text"
      },
      "source": [
        "Then parsing *commit.committer.date          30 non-null     object* in datetime format\n"
      ]
    },
    {
      "cell_type": "code",
      "metadata": {
        "id": "DSauipTJ6BpM",
        "colab_type": "code",
        "outputId": "b846732d-a3c8-4855-9963-2c216216216e",
        "colab": {
          "base_uri": "https://localhost:8080/",
          "height": 119
        }
      },
      "source": [
        "df_commits_table_reduced['commit.author.date'] = pd.to_datetime(df_commits_table_reduced['commit.author.date'], format='%Y-%m-%d')\n",
        "\n",
        "df_commits_table_reduced['commit.author.date'].sample(5)"
      ],
      "execution_count": 9,
      "outputs": [
        {
          "output_type": "execute_result",
          "data": {
            "text/plain": [
              "18   2019-10-03 18:45:57+00:00\n",
              "11   2019-11-18 15:57:32+00:00\n",
              "24   2019-04-08 00:27:52+00:00\n",
              "7    2019-11-18 16:29:14+00:00\n",
              "2    2019-12-09 21:48:01+00:00\n",
              "Name: commit.author.date, dtype: datetime64[ns, UTC]"
            ]
          },
          "metadata": {
            "tags": []
          },
          "execution_count": 9
        }
      ]
    },
    {
      "cell_type": "markdown",
      "metadata": {
        "id": "4xcphRm3IkMu",
        "colab_type": "text"
      },
      "source": [
        "Couinting amount of commits for each day "
      ]
    },
    {
      "cell_type": "code",
      "metadata": {
        "id": "svsVSuL5HsKX",
        "colab_type": "code",
        "outputId": "cf307150-b594-438e-8f46-6dcd2cafbd05",
        "colab": {
          "base_uri": "https://localhost:8080/",
          "height": 450
        }
      },
      "source": [
        "df_time_index = df_commits_table_reduced.set_index(\"commit.author.date\")\n",
        "commits_sums = df_time_index.resample(\"D\").sum()\n",
        "commits_sums\n",
        "\n",
        "# ha-ha, doesn't work"
      ],
      "execution_count": 13,
      "outputs": [
        {
          "output_type": "execute_result",
          "data": {
            "text/html": [
              "<div>\n",
              "<style scoped>\n",
              "    .dataframe tbody tr th:only-of-type {\n",
              "        vertical-align: middle;\n",
              "    }\n",
              "\n",
              "    .dataframe tbody tr th {\n",
              "        vertical-align: top;\n",
              "    }\n",
              "\n",
              "    .dataframe thead th {\n",
              "        text-align: right;\n",
              "    }\n",
              "</style>\n",
              "<table border=\"1\" class=\"dataframe\">\n",
              "  <thead>\n",
              "    <tr style=\"text-align: right;\">\n",
              "      <th></th>\n",
              "      <th>commit.comment_count</th>\n",
              "      <th>commit.verification.verified</th>\n",
              "      <th>author</th>\n",
              "      <th>committer</th>\n",
              "    </tr>\n",
              "    <tr>\n",
              "      <th>commit.author.date</th>\n",
              "      <th></th>\n",
              "      <th></th>\n",
              "      <th></th>\n",
              "      <th></th>\n",
              "    </tr>\n",
              "  </thead>\n",
              "  <tbody>\n",
              "    <tr>\n",
              "      <th>2019-04-05 00:00:00+00:00</th>\n",
              "      <td>0</td>\n",
              "      <td>1.0</td>\n",
              "      <td>0.0</td>\n",
              "      <td>0.0</td>\n",
              "    </tr>\n",
              "    <tr>\n",
              "      <th>2019-04-06 00:00:00+00:00</th>\n",
              "      <td>0</td>\n",
              "      <td>0.0</td>\n",
              "      <td>0.0</td>\n",
              "      <td>0.0</td>\n",
              "    </tr>\n",
              "    <tr>\n",
              "      <th>2019-04-07 00:00:00+00:00</th>\n",
              "      <td>0</td>\n",
              "      <td>0.0</td>\n",
              "      <td>0.0</td>\n",
              "      <td>0.0</td>\n",
              "    </tr>\n",
              "    <tr>\n",
              "      <th>2019-04-08 00:00:00+00:00</th>\n",
              "      <td>0</td>\n",
              "      <td>1.0</td>\n",
              "      <td>0.0</td>\n",
              "      <td>0.0</td>\n",
              "    </tr>\n",
              "    <tr>\n",
              "      <th>2019-04-09 00:00:00+00:00</th>\n",
              "      <td>0</td>\n",
              "      <td>0.0</td>\n",
              "      <td>0.0</td>\n",
              "      <td>0.0</td>\n",
              "    </tr>\n",
              "    <tr>\n",
              "      <th>...</th>\n",
              "      <td>...</td>\n",
              "      <td>...</td>\n",
              "      <td>...</td>\n",
              "      <td>...</td>\n",
              "    </tr>\n",
              "    <tr>\n",
              "      <th>2020-05-08 00:00:00+00:00</th>\n",
              "      <td>0</td>\n",
              "      <td>0.0</td>\n",
              "      <td>0.0</td>\n",
              "      <td>0.0</td>\n",
              "    </tr>\n",
              "    <tr>\n",
              "      <th>2020-05-09 00:00:00+00:00</th>\n",
              "      <td>0</td>\n",
              "      <td>0.0</td>\n",
              "      <td>0.0</td>\n",
              "      <td>0.0</td>\n",
              "    </tr>\n",
              "    <tr>\n",
              "      <th>2020-05-10 00:00:00+00:00</th>\n",
              "      <td>0</td>\n",
              "      <td>0.0</td>\n",
              "      <td>0.0</td>\n",
              "      <td>0.0</td>\n",
              "    </tr>\n",
              "    <tr>\n",
              "      <th>2020-05-11 00:00:00+00:00</th>\n",
              "      <td>0</td>\n",
              "      <td>0.0</td>\n",
              "      <td>0.0</td>\n",
              "      <td>0.0</td>\n",
              "    </tr>\n",
              "    <tr>\n",
              "      <th>2020-05-12 00:00:00+00:00</th>\n",
              "      <td>0</td>\n",
              "      <td>1.0</td>\n",
              "      <td>0.0</td>\n",
              "      <td>0.0</td>\n",
              "    </tr>\n",
              "  </tbody>\n",
              "</table>\n",
              "<p>404 rows × 4 columns</p>\n",
              "</div>"
            ],
            "text/plain": [
              "                           commit.comment_count  ...  committer\n",
              "commit.author.date                               ...           \n",
              "2019-04-05 00:00:00+00:00                     0  ...        0.0\n",
              "2019-04-06 00:00:00+00:00                     0  ...        0.0\n",
              "2019-04-07 00:00:00+00:00                     0  ...        0.0\n",
              "2019-04-08 00:00:00+00:00                     0  ...        0.0\n",
              "2019-04-09 00:00:00+00:00                     0  ...        0.0\n",
              "...                                         ...  ...        ...\n",
              "2020-05-08 00:00:00+00:00                     0  ...        0.0\n",
              "2020-05-09 00:00:00+00:00                     0  ...        0.0\n",
              "2020-05-10 00:00:00+00:00                     0  ...        0.0\n",
              "2020-05-11 00:00:00+00:00                     0  ...        0.0\n",
              "2020-05-12 00:00:00+00:00                     0  ...        0.0\n",
              "\n",
              "[404 rows x 4 columns]"
            ]
          },
          "metadata": {
            "tags": []
          },
          "execution_count": 13
        }
      ]
    },
    {
      "cell_type": "markdown",
      "metadata": {
        "id": "Kjffr3i-q-7T",
        "colab_type": "text"
      },
      "source": [
        "A test visualisation:"
      ]
    },
    {
      "cell_type": "markdown",
      "metadata": {
        "id": "aAbY9iem5o3Z",
        "colab_type": "text"
      },
      "source": [
        "it could be a visualisation of amount of commits each day + commit comments on hover"
      ]
    },
    {
      "cell_type": "markdown",
      "metadata": {
        "id": "y0b7ARaR4KIz",
        "colab_type": "text"
      },
      "source": [
        "## Second use case\n",
        "\n",
        "The second use case — analyse of a UFO font file"
      ]
    },
    {
      "cell_type": "code",
      "metadata": {
        "id": "MwwvtW8nvQBi",
        "colab_type": "code",
        "colab": {}
      },
      "source": [
        "import xml.etree.ElementTree as ET"
      ],
      "execution_count": 0,
      "outputs": []
    },
    {
      "cell_type": "code",
      "metadata": {
        "id": "xbluMGVRv6nV",
        "colab_type": "code",
        "colab": {}
      },
      "source": [
        "glyph = []\n",
        "advance_width = []\n",
        "unicode = []\n",
        "outline = []\n",
        "\n"
      ],
      "execution_count": 0,
      "outputs": []
    },
    {
      "cell_type": "markdown",
      "metadata": {
        "id": "FwamTc0jUlVx",
        "colab_type": "text"
      },
      "source": [
        "https://docs.python.org/2/library/xml.etree.elementtree.html"
      ]
    }
  ]
}