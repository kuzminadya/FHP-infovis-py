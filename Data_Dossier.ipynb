{
  "nbformat": 4,
  "nbformat_minor": 0,
  "metadata": {
    "colab": {
      "name": "Data Dossier | Consultations on 25 June.ipynb",
      "provenance": [],
      "collapsed_sections": [],
      "toc_visible": true,
      "authorship_tag": "ABX9TyNegSOV8CiOinhut7SUlQxA",
      "include_colab_link": true
    },
    "kernelspec": {
      "name": "python3",
      "display_name": "Python 3"
    }
  },
  "cells": [
    {
      "cell_type": "markdown",
      "metadata": {
        "id": "view-in-github",
        "colab_type": "text"
      },
      "source": [
        "<a href=\"https://colab.research.google.com/github/kuzminadya/FHP-infovis-py/blob/master/Data_Dossier.ipynb\" target=\"_parent\"><img src=\"https://colab.research.google.com/assets/colab-badge.svg\" alt=\"Open In Colab\"/></a>"
      ]
    },
    {
      "cell_type": "markdown",
      "metadata": {
        "id": "HQFKi_PJ6xYS",
        "colab_type": "text"
      },
      "source": [
        "# Data Dossier | Consultation on 25th of June\n",
        "\n",
        "## An idea\n",
        "\n",
        "My idea is to analyse and visualise the transformation of font file changing over time. Creating a font, especially a large font family may take several years of work or it might be a result of collaboration of several designers and type engineers. Even after the first version is released, the contribution to the project and updating the font may last for several years.\n",
        "\n",
        "*add text about version control system*\n",
        "\n",
        "## Title (the first version)\n",
        "\n",
        "Visualising font file transformation over time \n",
        "\n",
        "or\n",
        "\n",
        "Visualisation and analysis of font file transformation over time \n",
        "\n",
        "or\n",
        "\n",
        "As if the font was software. Visualization of the font development process\n",
        "\n",
        "## An approximate work plan\n",
        "\n",
        "[x] Choose a topic and/or dataset you are interested in\\\n",
        "[x] Prepare the data for the first use case\\\n",
        "[x] Prepare the data for the second use case\\\n",
        "[x] Pose a question to apply your visualization skills\\\n",
        "[ ] Generate several visualizations (static and interactive) → 25.06.2020\\\n",
        "[ ] Include the most informative in report on your process → 02.07.2020\\\n",
        "[ ] Share the resulting report as a Jupyter Notebook → 02.02.2020\n"
      ]
    },
    {
      "cell_type": "markdown",
      "metadata": {
        "id": "q2DiMqY__4fh",
        "colab_type": "text"
      },
      "source": [
        "## Use cases\n",
        "\n",
        "There are two possible ways of elaborating my experiment. I can visualise either the structure of the existing font (the first use case) or I can create one, using UFO format (the second use case). For the second story I need to prepare a sample dataset myself.\n",
        "\n",
        "### The first use case\n",
        "\n",
        "As an examle I use Source Code Pro Project from Adobe, which took part for 4 years:\\\n",
        "https://github.com/adobe-fonts/source-code-pro/commits/release\n",
        "\n",
        "And IBM Plex® typeface which was active on Github for a 2 years and have 219 commits:\\\n",
        "https://github.com/IBM/plex \n",
        "\n",
        "### The second use case\n",
        "\n",
        "For the second project I decided to use my own current project [Mogee font](http://nadyakuzmina.com/story-of-mogeefont)\n",
        "\n",
        "The font originally was made in glyphs and I need to prepare all the existing versions in UFO format.\n",
        "\n",
        "https://robofont.com/documentation/how-tos/using-git/\n",
        "\n",
        "> The UFO file format is perfect for version control, since it is text-based. A UFO is basically just a folder with many little XML-files in it. A UFO file could theoretically be created and modified in a text editor. This opens the field of digital type design for version control tools normally used only by software developers."
      ]
    },
    {
      "cell_type": "markdown",
      "metadata": {
        "id": "emGvVC7IE-0P",
        "colab_type": "text"
      },
      "source": [
        "## IBM Plex®\n",
        "\n",
        "Question\n",
        "\n",
        "https://github.com/IBM/plex/blob/master/LICENSE.txt\n"
      ]
    },
    {
      "cell_type": "code",
      "metadata": {
        "id": "q9ueJOVw7Lw1",
        "colab_type": "code",
        "colab": {}
      },
      "source": [
        "import pandas as pd\n",
        "import altair as alt"
      ],
      "execution_count": 95,
      "outputs": []
    },
    {
      "cell_type": "markdown",
      "metadata": {
        "id": "UuVFCkpKkYpb",
        "colab_type": "text"
      },
      "source": [
        "The first step is getting the dataset in JSON format from Github. It includes two files: a description of the repo and a list of commits."
      ]
    },
    {
      "cell_type": "markdown",
      "metadata": {
        "id": "hR50tHTqdhhd",
        "colab_type": "text"
      },
      "source": [
        "https://developer.github.com/v3/repos/#get-a-repository\n",
        "\n",
        "/repos/:owner/:repo"
      ]
    },
    {
      "cell_type": "code",
      "metadata": {
        "id": "xDKl58k9b2n8",
        "colab_type": "code",
        "colab": {
          "base_uri": "https://localhost:8080/",
          "height": 34
        },
        "outputId": "6be80334-70ca-4e1d-e1cd-bf7b20c0684f"
      },
      "source": [
        "import requests \n",
        "\n",
        "url = ('https://api.github.com/repos/IBM/plex')\n",
        "\n",
        "response = requests.get(url)\n",
        "\n",
        "print(f\"Request returned {response.status_code} : '{response.reason}'\")\n",
        "dataset_repo_json = response.json()\n",
        "\n",
        "# dataset_repo_json"
      ],
      "execution_count": 96,
      "outputs": [
        {
          "output_type": "stream",
          "text": [
            "Request returned 200 : 'OK'\n"
          ],
          "name": "stdout"
        }
      ]
    },
    {
      "cell_type": "markdown",
      "metadata": {
        "id": "o4nxhHGKfT-X",
        "colab_type": "text"
      },
      "source": [
        "https://developer.github.com/v3/repos/commits/ \n",
        "\n",
        "GET /repos/:owner/:repo/commits"
      ]
    },
    {
      "cell_type": "code",
      "metadata": {
        "id": "kGM-cCYefYQ9",
        "colab_type": "code",
        "colab": {
          "base_uri": "https://localhost:8080/",
          "height": 34
        },
        "outputId": "77ada373-80e0-4ccd-8d43-85713e11fdd2"
      },
      "source": [
        "url = ('https://api.github.com/repos/IBM/plex/commits')\n",
        "\n",
        "response = requests.get(url)\n",
        "\n",
        "print(f\"Request returned {response.status_code} : '{response.reason}'\")\n",
        "dataset_commits_json = response.json()\n",
        "\n",
        "# dataset_commits_json"
      ],
      "execution_count": 97,
      "outputs": [
        {
          "output_type": "stream",
          "text": [
            "Request returned 200 : 'OK'\n"
          ],
          "name": "stdout"
        }
      ]
    },
    {
      "cell_type": "markdown",
      "metadata": {
        "id": "eVTKav6SmNZP",
        "colab_type": "text"
      },
      "source": [
        "The next part is converting JSON into table.\n",
        "\n",
        "https://stackoverflow.com/questions/41168558/python-how-to-convert-json-file-to-dataframe"
      ]
    },
    {
      "cell_type": "code",
      "metadata": {
        "id": "Pj_LNtSxi1ru",
        "colab_type": "code",
        "colab": {
          "base_uri": "https://localhost:8080/",
          "height": 394
        },
        "outputId": "4106e360-df3c-40b2-acf6-6b36d7947dbf"
      },
      "source": [
        "from pandas.io.json import json_normalize\n",
        "df_commits_table = pd.DataFrame.from_dict(json_normalize(dataset_commits_json), orient='columns')\n",
        "df_repo_table = pd.DataFrame.from_dict(json_normalize(dataset_repo_json), orient='columns')\n",
        "df_commits_table.sample(5)\n",
        "# df_repo_table"
      ],
      "execution_count": 98,
      "outputs": [
        {
          "output_type": "stream",
          "text": [
            "/usr/local/lib/python3.6/dist-packages/ipykernel_launcher.py:2: FutureWarning: pandas.io.json.json_normalize is deprecated, use pandas.json_normalize instead\n",
            "  \n",
            "/usr/local/lib/python3.6/dist-packages/ipykernel_launcher.py:3: FutureWarning: pandas.io.json.json_normalize is deprecated, use pandas.json_normalize instead\n",
            "  This is separate from the ipykernel package so we can avoid doing imports until\n"
          ],
          "name": "stderr"
        },
        {
          "output_type": "execute_result",
          "data": {
            "text/html": [
              "<div>\n",
              "<style scoped>\n",
              "    .dataframe tbody tr th:only-of-type {\n",
              "        vertical-align: middle;\n",
              "    }\n",
              "\n",
              "    .dataframe tbody tr th {\n",
              "        vertical-align: top;\n",
              "    }\n",
              "\n",
              "    .dataframe thead th {\n",
              "        text-align: right;\n",
              "    }\n",
              "</style>\n",
              "<table border=\"1\" class=\"dataframe\">\n",
              "  <thead>\n",
              "    <tr style=\"text-align: right;\">\n",
              "      <th></th>\n",
              "      <th>sha</th>\n",
              "      <th>node_id</th>\n",
              "      <th>url</th>\n",
              "      <th>html_url</th>\n",
              "      <th>comments_url</th>\n",
              "      <th>author</th>\n",
              "      <th>committer</th>\n",
              "      <th>parents</th>\n",
              "      <th>commit.author.name</th>\n",
              "      <th>commit.author.email</th>\n",
              "      <th>commit.author.date</th>\n",
              "      <th>commit.committer.name</th>\n",
              "      <th>commit.committer.email</th>\n",
              "      <th>commit.committer.date</th>\n",
              "      <th>commit.message</th>\n",
              "      <th>commit.tree.sha</th>\n",
              "      <th>commit.tree.url</th>\n",
              "      <th>commit.url</th>\n",
              "      <th>commit.comment_count</th>\n",
              "      <th>commit.verification.verified</th>\n",
              "      <th>commit.verification.reason</th>\n",
              "      <th>commit.verification.signature</th>\n",
              "      <th>commit.verification.payload</th>\n",
              "      <th>author.login</th>\n",
              "      <th>author.id</th>\n",
              "      <th>author.node_id</th>\n",
              "      <th>author.avatar_url</th>\n",
              "      <th>author.gravatar_id</th>\n",
              "      <th>author.url</th>\n",
              "      <th>author.html_url</th>\n",
              "      <th>author.followers_url</th>\n",
              "      <th>author.following_url</th>\n",
              "      <th>author.gists_url</th>\n",
              "      <th>author.starred_url</th>\n",
              "      <th>author.subscriptions_url</th>\n",
              "      <th>author.organizations_url</th>\n",
              "      <th>author.repos_url</th>\n",
              "      <th>author.events_url</th>\n",
              "      <th>author.received_events_url</th>\n",
              "      <th>author.type</th>\n",
              "      <th>author.site_admin</th>\n",
              "      <th>committer.login</th>\n",
              "      <th>committer.id</th>\n",
              "      <th>committer.node_id</th>\n",
              "      <th>committer.avatar_url</th>\n",
              "      <th>committer.gravatar_id</th>\n",
              "      <th>committer.url</th>\n",
              "      <th>committer.html_url</th>\n",
              "      <th>committer.followers_url</th>\n",
              "      <th>committer.following_url</th>\n",
              "      <th>committer.gists_url</th>\n",
              "      <th>committer.starred_url</th>\n",
              "      <th>committer.subscriptions_url</th>\n",
              "      <th>committer.organizations_url</th>\n",
              "      <th>committer.repos_url</th>\n",
              "      <th>committer.events_url</th>\n",
              "      <th>committer.received_events_url</th>\n",
              "      <th>committer.type</th>\n",
              "      <th>committer.site_admin</th>\n",
              "    </tr>\n",
              "  </thead>\n",
              "  <tbody>\n",
              "    <tr>\n",
              "      <th>22</th>\n",
              "      <td>f51d07200ae54caed11da4de140142ed61af1be3</td>\n",
              "      <td>MDY6Q29tbWl0MTA1NzAyNjMxOmY1MWQwNzIwMGFlNTRjYW...</td>\n",
              "      <td>https://api.github.com/repos/IBM/plex/commits/...</td>\n",
              "      <td>https://github.com/IBM/plex/commit/f51d07200ae...</td>\n",
              "      <td>https://api.github.com/repos/IBM/plex/commits/...</td>\n",
              "      <td>NaN</td>\n",
              "      <td>NaN</td>\n",
              "      <td>[{'sha': '5cba621ef7cf82d813a0e794d778f4c605aa...</td>\n",
              "      <td>Vince Picone</td>\n",
              "      <td>Vincent.Patrick.Picone@ibm.com</td>\n",
              "      <td>2019-10-05T03:30:32Z</td>\n",
              "      <td>Vince Picone</td>\n",
              "      <td>Vincent.Patrick.Picone@ibm.com</td>\n",
              "      <td>2019-10-05T03:30:32Z</td>\n",
              "      <td>3.0.0</td>\n",
              "      <td>8845a8c10a253819c6e3eff3ea83d300de60c36e</td>\n",
              "      <td>https://api.github.com/repos/IBM/plex/git/tree...</td>\n",
              "      <td>https://api.github.com/repos/IBM/plex/git/comm...</td>\n",
              "      <td>0</td>\n",
              "      <td>False</td>\n",
              "      <td>unsigned</td>\n",
              "      <td>None</td>\n",
              "      <td>None</td>\n",
              "      <td>NaN</td>\n",
              "      <td>NaN</td>\n",
              "      <td>NaN</td>\n",
              "      <td>NaN</td>\n",
              "      <td>NaN</td>\n",
              "      <td>NaN</td>\n",
              "      <td>NaN</td>\n",
              "      <td>NaN</td>\n",
              "      <td>NaN</td>\n",
              "      <td>NaN</td>\n",
              "      <td>NaN</td>\n",
              "      <td>NaN</td>\n",
              "      <td>NaN</td>\n",
              "      <td>NaN</td>\n",
              "      <td>NaN</td>\n",
              "      <td>NaN</td>\n",
              "      <td>NaN</td>\n",
              "      <td>NaN</td>\n",
              "      <td>NaN</td>\n",
              "      <td>NaN</td>\n",
              "      <td>NaN</td>\n",
              "      <td>NaN</td>\n",
              "      <td>NaN</td>\n",
              "      <td>NaN</td>\n",
              "      <td>NaN</td>\n",
              "      <td>NaN</td>\n",
              "      <td>NaN</td>\n",
              "      <td>NaN</td>\n",
              "      <td>NaN</td>\n",
              "      <td>NaN</td>\n",
              "      <td>NaN</td>\n",
              "      <td>NaN</td>\n",
              "      <td>NaN</td>\n",
              "      <td>NaN</td>\n",
              "      <td>NaN</td>\n",
              "      <td>NaN</td>\n",
              "    </tr>\n",
              "    <tr>\n",
              "      <th>15</th>\n",
              "      <td>549de9c7f981b4056f56c8e618e7ff824e1b4000</td>\n",
              "      <td>MDY6Q29tbWl0MTA1NzAyNjMxOjU0OWRlOWM3Zjk4MWI0MD...</td>\n",
              "      <td>https://api.github.com/repos/IBM/plex/commits/...</td>\n",
              "      <td>https://github.com/IBM/plex/commit/549de9c7f98...</td>\n",
              "      <td>https://api.github.com/repos/IBM/plex/commits/...</td>\n",
              "      <td>NaN</td>\n",
              "      <td>NaN</td>\n",
              "      <td>[{'sha': '74a499081d04ca98c9dfc26ecfa29f9ce1fd...</td>\n",
              "      <td>Vince Picone</td>\n",
              "      <td>vpicone@gmail.com</td>\n",
              "      <td>2019-11-18T16:30:10Z</td>\n",
              "      <td>GitHub</td>\n",
              "      <td>noreply@github.com</td>\n",
              "      <td>2019-11-18T16:30:10Z</td>\n",
              "      <td>Update CHANGELOG.md</td>\n",
              "      <td>da66a22dc472b4c64e946542f5edca12b21132f1</td>\n",
              "      <td>https://api.github.com/repos/IBM/plex/git/tree...</td>\n",
              "      <td>https://api.github.com/repos/IBM/plex/git/comm...</td>\n",
              "      <td>0</td>\n",
              "      <td>True</td>\n",
              "      <td>valid</td>\n",
              "      <td>-----BEGIN PGP SIGNATURE-----\\n\\nwsBcBAABCAAQB...</td>\n",
              "      <td>tree da66a22dc472b4c64e946542f5edca12b21132f1\\...</td>\n",
              "      <td>vpicone</td>\n",
              "      <td>4078018.0</td>\n",
              "      <td>MDQ6VXNlcjQwNzgwMTg=</td>\n",
              "      <td>https://avatars1.githubusercontent.com/u/40780...</td>\n",
              "      <td></td>\n",
              "      <td>https://api.github.com/users/vpicone</td>\n",
              "      <td>https://github.com/vpicone</td>\n",
              "      <td>https://api.github.com/users/vpicone/followers</td>\n",
              "      <td>https://api.github.com/users/vpicone/following...</td>\n",
              "      <td>https://api.github.com/users/vpicone/gists{/gi...</td>\n",
              "      <td>https://api.github.com/users/vpicone/starred{/...</td>\n",
              "      <td>https://api.github.com/users/vpicone/subscript...</td>\n",
              "      <td>https://api.github.com/users/vpicone/orgs</td>\n",
              "      <td>https://api.github.com/users/vpicone/repos</td>\n",
              "      <td>https://api.github.com/users/vpicone/events{/p...</td>\n",
              "      <td>https://api.github.com/users/vpicone/received_...</td>\n",
              "      <td>User</td>\n",
              "      <td>False</td>\n",
              "      <td>web-flow</td>\n",
              "      <td>19864447.0</td>\n",
              "      <td>MDQ6VXNlcjE5ODY0NDQ3</td>\n",
              "      <td>https://avatars3.githubusercontent.com/u/19864...</td>\n",
              "      <td></td>\n",
              "      <td>https://api.github.com/users/web-flow</td>\n",
              "      <td>https://github.com/web-flow</td>\n",
              "      <td>https://api.github.com/users/web-flow/followers</td>\n",
              "      <td>https://api.github.com/users/web-flow/followin...</td>\n",
              "      <td>https://api.github.com/users/web-flow/gists{/g...</td>\n",
              "      <td>https://api.github.com/users/web-flow/starred{...</td>\n",
              "      <td>https://api.github.com/users/web-flow/subscrip...</td>\n",
              "      <td>https://api.github.com/users/web-flow/orgs</td>\n",
              "      <td>https://api.github.com/users/web-flow/repos</td>\n",
              "      <td>https://api.github.com/users/web-flow/events{/...</td>\n",
              "      <td>https://api.github.com/users/web-flow/received...</td>\n",
              "      <td>User</td>\n",
              "      <td>False</td>\n",
              "    </tr>\n",
              "    <tr>\n",
              "      <th>3</th>\n",
              "      <td>612b878e01e31ec221017d973eee1df530785a2d</td>\n",
              "      <td>MDY6Q29tbWl0MTA1NzAyNjMxOjYxMmI4NzhlMDFlMzFlYz...</td>\n",
              "      <td>https://api.github.com/repos/IBM/plex/commits/...</td>\n",
              "      <td>https://github.com/IBM/plex/commit/612b878e01e...</td>\n",
              "      <td>https://api.github.com/repos/IBM/plex/commits/...</td>\n",
              "      <td>NaN</td>\n",
              "      <td>NaN</td>\n",
              "      <td>[{'sha': 'ad5cd7fedddeb12636035acb6d9bea9b500c...</td>\n",
              "      <td>Vince Picone</td>\n",
              "      <td>Vincent.Patrick.Picone@ibm.com</td>\n",
              "      <td>2020-06-01T21:31:54Z</td>\n",
              "      <td>Vince Picone</td>\n",
              "      <td>Vincent.Patrick.Picone@ibm.com</td>\n",
              "      <td>2020-06-01T21:31:54Z</td>\n",
              "      <td>fix: temporarily exclude korean from zip</td>\n",
              "      <td>aeda2c3a8100b8251b40059a832eaf53963ec6a5</td>\n",
              "      <td>https://api.github.com/repos/IBM/plex/git/tree...</td>\n",
              "      <td>https://api.github.com/repos/IBM/plex/git/comm...</td>\n",
              "      <td>0</td>\n",
              "      <td>False</td>\n",
              "      <td>unsigned</td>\n",
              "      <td>None</td>\n",
              "      <td>None</td>\n",
              "      <td>NaN</td>\n",
              "      <td>NaN</td>\n",
              "      <td>NaN</td>\n",
              "      <td>NaN</td>\n",
              "      <td>NaN</td>\n",
              "      <td>NaN</td>\n",
              "      <td>NaN</td>\n",
              "      <td>NaN</td>\n",
              "      <td>NaN</td>\n",
              "      <td>NaN</td>\n",
              "      <td>NaN</td>\n",
              "      <td>NaN</td>\n",
              "      <td>NaN</td>\n",
              "      <td>NaN</td>\n",
              "      <td>NaN</td>\n",
              "      <td>NaN</td>\n",
              "      <td>NaN</td>\n",
              "      <td>NaN</td>\n",
              "      <td>NaN</td>\n",
              "      <td>NaN</td>\n",
              "      <td>NaN</td>\n",
              "      <td>NaN</td>\n",
              "      <td>NaN</td>\n",
              "      <td>NaN</td>\n",
              "      <td>NaN</td>\n",
              "      <td>NaN</td>\n",
              "      <td>NaN</td>\n",
              "      <td>NaN</td>\n",
              "      <td>NaN</td>\n",
              "      <td>NaN</td>\n",
              "      <td>NaN</td>\n",
              "      <td>NaN</td>\n",
              "      <td>NaN</td>\n",
              "      <td>NaN</td>\n",
              "      <td>NaN</td>\n",
              "      <td>NaN</td>\n",
              "    </tr>\n",
              "    <tr>\n",
              "      <th>29</th>\n",
              "      <td>34edf7ba16e8c2f6dcbfbbf0abbe705bfb30e0b3</td>\n",
              "      <td>MDY6Q29tbWl0MTA1NzAyNjMxOjM0ZWRmN2JhMTZlOGMyZj...</td>\n",
              "      <td>https://api.github.com/repos/IBM/plex/commits/...</td>\n",
              "      <td>https://github.com/IBM/plex/commit/34edf7ba16e...</td>\n",
              "      <td>https://api.github.com/repos/IBM/plex/commits/...</td>\n",
              "      <td>NaN</td>\n",
              "      <td>NaN</td>\n",
              "      <td>[{'sha': 'ad27880ae510ff126f0fe98c14c9a02164ac...</td>\n",
              "      <td>Vince Picone</td>\n",
              "      <td>Vincent.Patrick.Picone@ibm.com</td>\n",
              "      <td>2019-06-04T19:03:25Z</td>\n",
              "      <td>Vince Picone</td>\n",
              "      <td>Vincent.Patrick.Picone@ibm.com</td>\n",
              "      <td>2019-06-04T19:03:25Z</td>\n",
              "      <td>2.0.0</td>\n",
              "      <td>8a8557dd0c245d3f564ea960875a81015dd98d49</td>\n",
              "      <td>https://api.github.com/repos/IBM/plex/git/tree...</td>\n",
              "      <td>https://api.github.com/repos/IBM/plex/git/comm...</td>\n",
              "      <td>0</td>\n",
              "      <td>False</td>\n",
              "      <td>unsigned</td>\n",
              "      <td>None</td>\n",
              "      <td>None</td>\n",
              "      <td>NaN</td>\n",
              "      <td>NaN</td>\n",
              "      <td>NaN</td>\n",
              "      <td>NaN</td>\n",
              "      <td>NaN</td>\n",
              "      <td>NaN</td>\n",
              "      <td>NaN</td>\n",
              "      <td>NaN</td>\n",
              "      <td>NaN</td>\n",
              "      <td>NaN</td>\n",
              "      <td>NaN</td>\n",
              "      <td>NaN</td>\n",
              "      <td>NaN</td>\n",
              "      <td>NaN</td>\n",
              "      <td>NaN</td>\n",
              "      <td>NaN</td>\n",
              "      <td>NaN</td>\n",
              "      <td>NaN</td>\n",
              "      <td>NaN</td>\n",
              "      <td>NaN</td>\n",
              "      <td>NaN</td>\n",
              "      <td>NaN</td>\n",
              "      <td>NaN</td>\n",
              "      <td>NaN</td>\n",
              "      <td>NaN</td>\n",
              "      <td>NaN</td>\n",
              "      <td>NaN</td>\n",
              "      <td>NaN</td>\n",
              "      <td>NaN</td>\n",
              "      <td>NaN</td>\n",
              "      <td>NaN</td>\n",
              "      <td>NaN</td>\n",
              "      <td>NaN</td>\n",
              "      <td>NaN</td>\n",
              "      <td>NaN</td>\n",
              "      <td>NaN</td>\n",
              "    </tr>\n",
              "    <tr>\n",
              "      <th>13</th>\n",
              "      <td>e165dbc14b047ca74b32e45c9da6dc2625405fe5</td>\n",
              "      <td>MDY6Q29tbWl0MTA1NzAyNjMxOmUxNjVkYmMxNGIwNDdjYT...</td>\n",
              "      <td>https://api.github.com/repos/IBM/plex/commits/...</td>\n",
              "      <td>https://github.com/IBM/plex/commit/e165dbc14b0...</td>\n",
              "      <td>https://api.github.com/repos/IBM/plex/commits/...</td>\n",
              "      <td>NaN</td>\n",
              "      <td>NaN</td>\n",
              "      <td>[{'sha': '66dbde40808c4dfa499e7cf9882ab4f5b67a...</td>\n",
              "      <td>Vince Picone</td>\n",
              "      <td>vpicone@gmail.com</td>\n",
              "      <td>2019-11-25T15:42:50Z</td>\n",
              "      <td>GitHub</td>\n",
              "      <td>noreply@github.com</td>\n",
              "      <td>2019-11-25T15:42:50Z</td>\n",
              "      <td>Update README.md</td>\n",
              "      <td>4dda612593d98baabdb0b96ddd66eae865fa2bf0</td>\n",
              "      <td>https://api.github.com/repos/IBM/plex/git/tree...</td>\n",
              "      <td>https://api.github.com/repos/IBM/plex/git/comm...</td>\n",
              "      <td>0</td>\n",
              "      <td>True</td>\n",
              "      <td>valid</td>\n",
              "      <td>-----BEGIN PGP SIGNATURE-----\\n\\nwsBcBAABCAAQB...</td>\n",
              "      <td>tree 4dda612593d98baabdb0b96ddd66eae865fa2bf0\\...</td>\n",
              "      <td>vpicone</td>\n",
              "      <td>4078018.0</td>\n",
              "      <td>MDQ6VXNlcjQwNzgwMTg=</td>\n",
              "      <td>https://avatars1.githubusercontent.com/u/40780...</td>\n",
              "      <td></td>\n",
              "      <td>https://api.github.com/users/vpicone</td>\n",
              "      <td>https://github.com/vpicone</td>\n",
              "      <td>https://api.github.com/users/vpicone/followers</td>\n",
              "      <td>https://api.github.com/users/vpicone/following...</td>\n",
              "      <td>https://api.github.com/users/vpicone/gists{/gi...</td>\n",
              "      <td>https://api.github.com/users/vpicone/starred{/...</td>\n",
              "      <td>https://api.github.com/users/vpicone/subscript...</td>\n",
              "      <td>https://api.github.com/users/vpicone/orgs</td>\n",
              "      <td>https://api.github.com/users/vpicone/repos</td>\n",
              "      <td>https://api.github.com/users/vpicone/events{/p...</td>\n",
              "      <td>https://api.github.com/users/vpicone/received_...</td>\n",
              "      <td>User</td>\n",
              "      <td>False</td>\n",
              "      <td>web-flow</td>\n",
              "      <td>19864447.0</td>\n",
              "      <td>MDQ6VXNlcjE5ODY0NDQ3</td>\n",
              "      <td>https://avatars3.githubusercontent.com/u/19864...</td>\n",
              "      <td></td>\n",
              "      <td>https://api.github.com/users/web-flow</td>\n",
              "      <td>https://github.com/web-flow</td>\n",
              "      <td>https://api.github.com/users/web-flow/followers</td>\n",
              "      <td>https://api.github.com/users/web-flow/followin...</td>\n",
              "      <td>https://api.github.com/users/web-flow/gists{/g...</td>\n",
              "      <td>https://api.github.com/users/web-flow/starred{...</td>\n",
              "      <td>https://api.github.com/users/web-flow/subscrip...</td>\n",
              "      <td>https://api.github.com/users/web-flow/orgs</td>\n",
              "      <td>https://api.github.com/users/web-flow/repos</td>\n",
              "      <td>https://api.github.com/users/web-flow/events{/...</td>\n",
              "      <td>https://api.github.com/users/web-flow/received...</td>\n",
              "      <td>User</td>\n",
              "      <td>False</td>\n",
              "    </tr>\n",
              "  </tbody>\n",
              "</table>\n",
              "</div>"
            ],
            "text/plain": [
              "                                         sha  ... committer.site_admin\n",
              "22  f51d07200ae54caed11da4de140142ed61af1be3  ...                  NaN\n",
              "15  549de9c7f981b4056f56c8e618e7ff824e1b4000  ...                False\n",
              "3   612b878e01e31ec221017d973eee1df530785a2d  ...                  NaN\n",
              "29  34edf7ba16e8c2f6dcbfbbf0abbe705bfb30e0b3  ...                  NaN\n",
              "13  e165dbc14b047ca74b32e45c9da6dc2625405fe5  ...                False\n",
              "\n",
              "[5 rows x 59 columns]"
            ]
          },
          "metadata": {
            "tags": []
          },
          "execution_count": 98
        }
      ]
    },
    {
      "cell_type": "code",
      "metadata": {
        "id": "V705F9VG13K-",
        "colab_type": "code",
        "colab": {}
      },
      "source": [
        "df_commits_table_reduced = df_commits_table.drop(columns=[\"sha\", \"node_id\", \"parents\", \"commit.author.email\", \"commit.committer.email\", \"commit.tree.sha\", \"commit.verification.payload\",  \"author.login\", \"author.id\", \"author.node_id\", \"author.gravatar_id\", \"committer.id\", \"committer.node_id\", \"committer.gravatar_id\"])\n",
        "\n",
        "# df_commits_table_reduced['commit.author.date'] = pd.to_datetime(df_commits_table_reduced['commit.author.date'], format='%Y-%m-%d')\n",
        "\n",
        "# df_commits_table_reduced['commit.author.date']"
      ],
      "execution_count": 99,
      "outputs": []
    },
    {
      "cell_type": "markdown",
      "metadata": {
        "id": "ZfPKhx_3Kvoh",
        "colab_type": "text"
      },
      "source": [
        "For testing purposes I've downloaded csv file.\n",
        "\n",
        "The result:\n",
        "\n",
        "Datawrapper visualisation\n",
        "https://datawrapper.dwcdn.net/wLs3F/1/"
      ]
    },
    {
      "cell_type": "code",
      "metadata": {
        "id": "VV2WBaZbv5hO",
        "colab_type": "code",
        "colab": {}
      },
      "source": [
        "from google.colab import files\n",
        "\n",
        "df_commits_table.to_csv('df_commits_table.csv')\n",
        "# files.download('df_commits_table.csv')"
      ],
      "execution_count": 100,
      "outputs": []
    },
    {
      "cell_type": "code",
      "metadata": {
        "id": "KweYihPU43Fu",
        "colab_type": "code",
        "colab": {
          "base_uri": "https://localhost:8080/",
          "height": 102
        },
        "outputId": "3d56fcd5-d988-4c19-df57-9ed83c364269"
      },
      "source": [
        "df_repo_table.info()"
      ],
      "execution_count": 101,
      "outputs": [
        {
          "output_type": "stream",
          "text": [
            "<class 'pandas.core.frame.DataFrame'>\n",
            "RangeIndex: 1 entries, 0 to 0\n",
            "Columns: 115 entries, id to organization.site_admin\n",
            "dtypes: bool(11), int64(13), object(91)\n",
            "memory usage: 971.0+ bytes\n"
          ],
          "name": "stdout"
        }
      ]
    },
    {
      "cell_type": "code",
      "metadata": {
        "id": "YPSu2F2dLHc3",
        "colab_type": "code",
        "colab": {
          "base_uri": "https://localhost:8080/",
          "height": 180
        },
        "outputId": "d1ddeb50-944b-4d73-ae63-678a03a0aeb8"
      },
      "source": [
        "df_repo_table.head()"
      ],
      "execution_count": 102,
      "outputs": [
        {
          "output_type": "execute_result",
          "data": {
            "text/html": [
              "<div>\n",
              "<style scoped>\n",
              "    .dataframe tbody tr th:only-of-type {\n",
              "        vertical-align: middle;\n",
              "    }\n",
              "\n",
              "    .dataframe tbody tr th {\n",
              "        vertical-align: top;\n",
              "    }\n",
              "\n",
              "    .dataframe thead th {\n",
              "        text-align: right;\n",
              "    }\n",
              "</style>\n",
              "<table border=\"1\" class=\"dataframe\">\n",
              "  <thead>\n",
              "    <tr style=\"text-align: right;\">\n",
              "      <th></th>\n",
              "      <th>id</th>\n",
              "      <th>node_id</th>\n",
              "      <th>name</th>\n",
              "      <th>full_name</th>\n",
              "      <th>private</th>\n",
              "      <th>html_url</th>\n",
              "      <th>description</th>\n",
              "      <th>fork</th>\n",
              "      <th>url</th>\n",
              "      <th>forks_url</th>\n",
              "      <th>keys_url</th>\n",
              "      <th>collaborators_url</th>\n",
              "      <th>teams_url</th>\n",
              "      <th>hooks_url</th>\n",
              "      <th>issue_events_url</th>\n",
              "      <th>events_url</th>\n",
              "      <th>assignees_url</th>\n",
              "      <th>branches_url</th>\n",
              "      <th>tags_url</th>\n",
              "      <th>blobs_url</th>\n",
              "      <th>git_tags_url</th>\n",
              "      <th>git_refs_url</th>\n",
              "      <th>trees_url</th>\n",
              "      <th>statuses_url</th>\n",
              "      <th>languages_url</th>\n",
              "      <th>stargazers_url</th>\n",
              "      <th>contributors_url</th>\n",
              "      <th>subscribers_url</th>\n",
              "      <th>subscription_url</th>\n",
              "      <th>commits_url</th>\n",
              "      <th>git_commits_url</th>\n",
              "      <th>comments_url</th>\n",
              "      <th>issue_comment_url</th>\n",
              "      <th>contents_url</th>\n",
              "      <th>compare_url</th>\n",
              "      <th>merges_url</th>\n",
              "      <th>archive_url</th>\n",
              "      <th>downloads_url</th>\n",
              "      <th>issues_url</th>\n",
              "      <th>pulls_url</th>\n",
              "      <th>...</th>\n",
              "      <th>owner.id</th>\n",
              "      <th>owner.node_id</th>\n",
              "      <th>owner.avatar_url</th>\n",
              "      <th>owner.gravatar_id</th>\n",
              "      <th>owner.url</th>\n",
              "      <th>owner.html_url</th>\n",
              "      <th>owner.followers_url</th>\n",
              "      <th>owner.following_url</th>\n",
              "      <th>owner.gists_url</th>\n",
              "      <th>owner.starred_url</th>\n",
              "      <th>owner.subscriptions_url</th>\n",
              "      <th>owner.organizations_url</th>\n",
              "      <th>owner.repos_url</th>\n",
              "      <th>owner.events_url</th>\n",
              "      <th>owner.received_events_url</th>\n",
              "      <th>owner.type</th>\n",
              "      <th>owner.site_admin</th>\n",
              "      <th>license.key</th>\n",
              "      <th>license.name</th>\n",
              "      <th>license.spdx_id</th>\n",
              "      <th>license.url</th>\n",
              "      <th>license.node_id</th>\n",
              "      <th>organization.login</th>\n",
              "      <th>organization.id</th>\n",
              "      <th>organization.node_id</th>\n",
              "      <th>organization.avatar_url</th>\n",
              "      <th>organization.gravatar_id</th>\n",
              "      <th>organization.url</th>\n",
              "      <th>organization.html_url</th>\n",
              "      <th>organization.followers_url</th>\n",
              "      <th>organization.following_url</th>\n",
              "      <th>organization.gists_url</th>\n",
              "      <th>organization.starred_url</th>\n",
              "      <th>organization.subscriptions_url</th>\n",
              "      <th>organization.organizations_url</th>\n",
              "      <th>organization.repos_url</th>\n",
              "      <th>organization.events_url</th>\n",
              "      <th>organization.received_events_url</th>\n",
              "      <th>organization.type</th>\n",
              "      <th>organization.site_admin</th>\n",
              "    </tr>\n",
              "  </thead>\n",
              "  <tbody>\n",
              "    <tr>\n",
              "      <th>0</th>\n",
              "      <td>105702631</td>\n",
              "      <td>MDEwOlJlcG9zaXRvcnkxMDU3MDI2MzE=</td>\n",
              "      <td>plex</td>\n",
              "      <td>IBM/plex</td>\n",
              "      <td>False</td>\n",
              "      <td>https://github.com/IBM/plex</td>\n",
              "      <td>The package of IBM’s typeface, IBM Plex.</td>\n",
              "      <td>False</td>\n",
              "      <td>https://api.github.com/repos/IBM/plex</td>\n",
              "      <td>https://api.github.com/repos/IBM/plex/forks</td>\n",
              "      <td>https://api.github.com/repos/IBM/plex/keys{/ke...</td>\n",
              "      <td>https://api.github.com/repos/IBM/plex/collabor...</td>\n",
              "      <td>https://api.github.com/repos/IBM/plex/teams</td>\n",
              "      <td>https://api.github.com/repos/IBM/plex/hooks</td>\n",
              "      <td>https://api.github.com/repos/IBM/plex/issues/e...</td>\n",
              "      <td>https://api.github.com/repos/IBM/plex/events</td>\n",
              "      <td>https://api.github.com/repos/IBM/plex/assignee...</td>\n",
              "      <td>https://api.github.com/repos/IBM/plex/branches...</td>\n",
              "      <td>https://api.github.com/repos/IBM/plex/tags</td>\n",
              "      <td>https://api.github.com/repos/IBM/plex/git/blob...</td>\n",
              "      <td>https://api.github.com/repos/IBM/plex/git/tags...</td>\n",
              "      <td>https://api.github.com/repos/IBM/plex/git/refs...</td>\n",
              "      <td>https://api.github.com/repos/IBM/plex/git/tree...</td>\n",
              "      <td>https://api.github.com/repos/IBM/plex/statuses...</td>\n",
              "      <td>https://api.github.com/repos/IBM/plex/languages</td>\n",
              "      <td>https://api.github.com/repos/IBM/plex/stargazers</td>\n",
              "      <td>https://api.github.com/repos/IBM/plex/contribu...</td>\n",
              "      <td>https://api.github.com/repos/IBM/plex/subscribers</td>\n",
              "      <td>https://api.github.com/repos/IBM/plex/subscrip...</td>\n",
              "      <td>https://api.github.com/repos/IBM/plex/commits{...</td>\n",
              "      <td>https://api.github.com/repos/IBM/plex/git/comm...</td>\n",
              "      <td>https://api.github.com/repos/IBM/plex/comments...</td>\n",
              "      <td>https://api.github.com/repos/IBM/plex/issues/c...</td>\n",
              "      <td>https://api.github.com/repos/IBM/plex/contents...</td>\n",
              "      <td>https://api.github.com/repos/IBM/plex/compare/...</td>\n",
              "      <td>https://api.github.com/repos/IBM/plex/merges</td>\n",
              "      <td>https://api.github.com/repos/IBM/plex/{archive...</td>\n",
              "      <td>https://api.github.com/repos/IBM/plex/downloads</td>\n",
              "      <td>https://api.github.com/repos/IBM/plex/issues{/...</td>\n",
              "      <td>https://api.github.com/repos/IBM/plex/pulls{/n...</td>\n",
              "      <td>...</td>\n",
              "      <td>1459110</td>\n",
              "      <td>MDEyOk9yZ2FuaXphdGlvbjE0NTkxMTA=</td>\n",
              "      <td>https://avatars0.githubusercontent.com/u/14591...</td>\n",
              "      <td></td>\n",
              "      <td>https://api.github.com/users/IBM</td>\n",
              "      <td>https://github.com/IBM</td>\n",
              "      <td>https://api.github.com/users/IBM/followers</td>\n",
              "      <td>https://api.github.com/users/IBM/following{/ot...</td>\n",
              "      <td>https://api.github.com/users/IBM/gists{/gist_id}</td>\n",
              "      <td>https://api.github.com/users/IBM/starred{/owne...</td>\n",
              "      <td>https://api.github.com/users/IBM/subscriptions</td>\n",
              "      <td>https://api.github.com/users/IBM/orgs</td>\n",
              "      <td>https://api.github.com/users/IBM/repos</td>\n",
              "      <td>https://api.github.com/users/IBM/events{/privacy}</td>\n",
              "      <td>https://api.github.com/users/IBM/received_events</td>\n",
              "      <td>Organization</td>\n",
              "      <td>False</td>\n",
              "      <td>ofl-1.1</td>\n",
              "      <td>SIL Open Font License 1.1</td>\n",
              "      <td>OFL-1.1</td>\n",
              "      <td>https://api.github.com/licenses/ofl-1.1</td>\n",
              "      <td>MDc6TGljZW5zZTE3</td>\n",
              "      <td>IBM</td>\n",
              "      <td>1459110</td>\n",
              "      <td>MDEyOk9yZ2FuaXphdGlvbjE0NTkxMTA=</td>\n",
              "      <td>https://avatars0.githubusercontent.com/u/14591...</td>\n",
              "      <td></td>\n",
              "      <td>https://api.github.com/users/IBM</td>\n",
              "      <td>https://github.com/IBM</td>\n",
              "      <td>https://api.github.com/users/IBM/followers</td>\n",
              "      <td>https://api.github.com/users/IBM/following{/ot...</td>\n",
              "      <td>https://api.github.com/users/IBM/gists{/gist_id}</td>\n",
              "      <td>https://api.github.com/users/IBM/starred{/owne...</td>\n",
              "      <td>https://api.github.com/users/IBM/subscriptions</td>\n",
              "      <td>https://api.github.com/users/IBM/orgs</td>\n",
              "      <td>https://api.github.com/users/IBM/repos</td>\n",
              "      <td>https://api.github.com/users/IBM/events{/privacy}</td>\n",
              "      <td>https://api.github.com/users/IBM/received_events</td>\n",
              "      <td>Organization</td>\n",
              "      <td>False</td>\n",
              "    </tr>\n",
              "  </tbody>\n",
              "</table>\n",
              "<p>1 rows × 115 columns</p>\n",
              "</div>"
            ],
            "text/plain": [
              "          id  ... organization.site_admin\n",
              "0  105702631  ...                   False\n",
              "\n",
              "[1 rows x 115 columns]"
            ]
          },
          "metadata": {
            "tags": []
          },
          "execution_count": 102
        }
      ]
    },
    {
      "cell_type": "markdown",
      "metadata": {
        "id": "ga9iqSOfLsbP",
        "colab_type": "text"
      },
      "source": [
        "Trying to reduce amount of columns in df based on json. Doesn't work."
      ]
    },
    {
      "cell_type": "code",
      "metadata": {
        "id": "7FzmYhC7Pk-6",
        "colab_type": "code",
        "colab": {}
      },
      "source": [
        "# df_repo_table.set_index('id')"
      ],
      "execution_count": 103,
      "outputs": []
    },
    {
      "cell_type": "code",
      "metadata": {
        "id": "TOcngrp3PB7F",
        "colab_type": "code",
        "colab": {}
      },
      "source": [
        "# df_repo_table_red = df_repo_table[[\"commit.author.name\", \"commit.author.date\", \"commit.message\"]]"
      ],
      "execution_count": 104,
      "outputs": []
    },
    {
      "cell_type": "markdown",
      "metadata": {
        "id": "R7NYiaVuRlU0",
        "colab_type": "text"
      },
      "source": [
        "Error: KeyError: \"None of [Index(['commit.author.name', 'commit.author.date', 'commit.message'], dtype='object')] are in the [columns]\"\n"
      ]
    },
    {
      "cell_type": "markdown",
      "metadata": {
        "id": "HGHDtHOdf9yU",
        "colab_type": "text"
      },
      "source": [
        "Alternatively I've tried to use a csv file as a source file for df\n"
      ]
    },
    {
      "cell_type": "code",
      "metadata": {
        "id": "JPWNUSS7R9gm",
        "colab_type": "code",
        "colab": {
          "base_uri": "https://localhost:8080/",
          "height": 394
        },
        "outputId": "7bcaaad1-62d7-4bfd-cad7-2663dc3f84d2"
      },
      "source": [
        "file_repos = open(\"sample_data/df_commits_table.csv\")\n",
        "\n",
        "file_repos_from_csv = pd.read_csv(file_repos, sep=',', keep_default_na=False)\n",
        "file_repos_from_csv.head()"
      ],
      "execution_count": 105,
      "outputs": [
        {
          "output_type": "execute_result",
          "data": {
            "text/html": [
              "<div>\n",
              "<style scoped>\n",
              "    .dataframe tbody tr th:only-of-type {\n",
              "        vertical-align: middle;\n",
              "    }\n",
              "\n",
              "    .dataframe tbody tr th {\n",
              "        vertical-align: top;\n",
              "    }\n",
              "\n",
              "    .dataframe thead th {\n",
              "        text-align: right;\n",
              "    }\n",
              "</style>\n",
              "<table border=\"1\" class=\"dataframe\">\n",
              "  <thead>\n",
              "    <tr style=\"text-align: right;\">\n",
              "      <th></th>\n",
              "      <th>Unnamed: 0</th>\n",
              "      <th>sha</th>\n",
              "      <th>node_id</th>\n",
              "      <th>url</th>\n",
              "      <th>html_url</th>\n",
              "      <th>comments_url</th>\n",
              "      <th>author</th>\n",
              "      <th>committer</th>\n",
              "      <th>parents</th>\n",
              "      <th>commit.author.name</th>\n",
              "      <th>commit.author.email</th>\n",
              "      <th>commit.author.date</th>\n",
              "      <th>commit.committer.name</th>\n",
              "      <th>commit.committer.email</th>\n",
              "      <th>commit.committer.date</th>\n",
              "      <th>commit.message</th>\n",
              "      <th>commit.tree.sha</th>\n",
              "      <th>commit.tree.url</th>\n",
              "      <th>commit.url</th>\n",
              "      <th>commit.comment_count</th>\n",
              "      <th>commit.verification.verified</th>\n",
              "      <th>commit.verification.reason</th>\n",
              "      <th>commit.verification.signature</th>\n",
              "      <th>commit.verification.payload</th>\n",
              "      <th>author.login</th>\n",
              "      <th>author.id</th>\n",
              "      <th>author.node_id</th>\n",
              "      <th>author.avatar_url</th>\n",
              "      <th>author.gravatar_id</th>\n",
              "      <th>author.url</th>\n",
              "      <th>author.html_url</th>\n",
              "      <th>author.followers_url</th>\n",
              "      <th>author.following_url</th>\n",
              "      <th>author.gists_url</th>\n",
              "      <th>author.starred_url</th>\n",
              "      <th>author.subscriptions_url</th>\n",
              "      <th>author.organizations_url</th>\n",
              "      <th>author.repos_url</th>\n",
              "      <th>author.events_url</th>\n",
              "      <th>author.received_events_url</th>\n",
              "      <th>author.type</th>\n",
              "      <th>author.site_admin</th>\n",
              "      <th>committer.login</th>\n",
              "      <th>committer.id</th>\n",
              "      <th>committer.node_id</th>\n",
              "      <th>committer.avatar_url</th>\n",
              "      <th>committer.gravatar_id</th>\n",
              "      <th>committer.url</th>\n",
              "      <th>committer.html_url</th>\n",
              "      <th>committer.followers_url</th>\n",
              "      <th>committer.following_url</th>\n",
              "      <th>committer.gists_url</th>\n",
              "      <th>committer.starred_url</th>\n",
              "      <th>committer.subscriptions_url</th>\n",
              "      <th>committer.organizations_url</th>\n",
              "      <th>committer.repos_url</th>\n",
              "      <th>committer.events_url</th>\n",
              "      <th>committer.received_events_url</th>\n",
              "      <th>committer.type</th>\n",
              "      <th>committer.site_admin</th>\n",
              "    </tr>\n",
              "  </thead>\n",
              "  <tbody>\n",
              "    <tr>\n",
              "      <th>0</th>\n",
              "      <td>0</td>\n",
              "      <td>968081d61b6abe18cd0dc14a42704afdf4831708</td>\n",
              "      <td>MDY6Q29tbWl0MTA1NzAyNjMxOjk2ODA4MWQ2MWI2YWJlMT...</td>\n",
              "      <td>https://api.github.com/repos/IBM/plex/commits/...</td>\n",
              "      <td>https://github.com/IBM/plex/commit/968081d61b6...</td>\n",
              "      <td>https://api.github.com/repos/IBM/plex/commits/...</td>\n",
              "      <td></td>\n",
              "      <td></td>\n",
              "      <td>[{'sha': 'cd46d0c4d5074736950d32ae2f62d0ae17fa...</td>\n",
              "      <td>Vince Picone</td>\n",
              "      <td>Vincent.Patrick.Picone@ibm.com</td>\n",
              "      <td>2020-06-08T17:15:33Z</td>\n",
              "      <td>Vince Picone</td>\n",
              "      <td>Vincent.Patrick.Picone@ibm.com</td>\n",
              "      <td>2020-06-08T17:15:33Z</td>\n",
              "      <td>5.0.0</td>\n",
              "      <td>409a2d2e56c6b6be9108471790f1980b2d5addab</td>\n",
              "      <td>https://api.github.com/repos/IBM/plex/git/tree...</td>\n",
              "      <td>https://api.github.com/repos/IBM/plex/git/comm...</td>\n",
              "      <td>0</td>\n",
              "      <td>False</td>\n",
              "      <td>unsigned</td>\n",
              "      <td></td>\n",
              "      <td></td>\n",
              "      <td></td>\n",
              "      <td></td>\n",
              "      <td></td>\n",
              "      <td></td>\n",
              "      <td></td>\n",
              "      <td></td>\n",
              "      <td></td>\n",
              "      <td></td>\n",
              "      <td></td>\n",
              "      <td></td>\n",
              "      <td></td>\n",
              "      <td></td>\n",
              "      <td></td>\n",
              "      <td></td>\n",
              "      <td></td>\n",
              "      <td></td>\n",
              "      <td></td>\n",
              "      <td></td>\n",
              "      <td></td>\n",
              "      <td></td>\n",
              "      <td></td>\n",
              "      <td></td>\n",
              "      <td></td>\n",
              "      <td></td>\n",
              "      <td></td>\n",
              "      <td></td>\n",
              "      <td></td>\n",
              "      <td></td>\n",
              "      <td></td>\n",
              "      <td></td>\n",
              "      <td></td>\n",
              "      <td></td>\n",
              "      <td></td>\n",
              "      <td></td>\n",
              "      <td></td>\n",
              "      <td></td>\n",
              "    </tr>\n",
              "    <tr>\n",
              "      <th>1</th>\n",
              "      <td>1</td>\n",
              "      <td>cd46d0c4d5074736950d32ae2f62d0ae17fa01d4</td>\n",
              "      <td>MDY6Q29tbWl0MTA1NzAyNjMxOmNkNDZkMGM0ZDUwNzQ3Mz...</td>\n",
              "      <td>https://api.github.com/repos/IBM/plex/commits/...</td>\n",
              "      <td>https://github.com/IBM/plex/commit/cd46d0c4d50...</td>\n",
              "      <td>https://api.github.com/repos/IBM/plex/commits/...</td>\n",
              "      <td></td>\n",
              "      <td></td>\n",
              "      <td>[{'sha': '6a3c09178035d2cc0503acd35c64d6f6dafb...</td>\n",
              "      <td>Vince Picone</td>\n",
              "      <td>vpicone@gmail.com</td>\n",
              "      <td>2020-06-08T16:42:11Z</td>\n",
              "      <td>GitHub</td>\n",
              "      <td>noreply@github.com</td>\n",
              "      <td>2020-06-08T16:42:11Z</td>\n",
              "      <td>Merge pull request #315 from vpicone/cross-lan...</td>\n",
              "      <td>debd4c51481ea01f6738f79b07407d00752f8d13</td>\n",
              "      <td>https://api.github.com/repos/IBM/plex/git/tree...</td>\n",
              "      <td>https://api.github.com/repos/IBM/plex/git/comm...</td>\n",
              "      <td>0</td>\n",
              "      <td>True</td>\n",
              "      <td>valid</td>\n",
              "      <td>-----BEGIN PGP SIGNATURE-----\\n\\nwsBcBAABCAAQB...</td>\n",
              "      <td>tree debd4c51481ea01f6738f79b07407d00752f8d13\\...</td>\n",
              "      <td>vpicone</td>\n",
              "      <td>4078018.0</td>\n",
              "      <td>MDQ6VXNlcjQwNzgwMTg=</td>\n",
              "      <td>https://avatars1.githubusercontent.com/u/40780...</td>\n",
              "      <td></td>\n",
              "      <td>https://api.github.com/users/vpicone</td>\n",
              "      <td>https://github.com/vpicone</td>\n",
              "      <td>https://api.github.com/users/vpicone/followers</td>\n",
              "      <td>https://api.github.com/users/vpicone/following...</td>\n",
              "      <td>https://api.github.com/users/vpicone/gists{/gi...</td>\n",
              "      <td>https://api.github.com/users/vpicone/starred{/...</td>\n",
              "      <td>https://api.github.com/users/vpicone/subscript...</td>\n",
              "      <td>https://api.github.com/users/vpicone/orgs</td>\n",
              "      <td>https://api.github.com/users/vpicone/repos</td>\n",
              "      <td>https://api.github.com/users/vpicone/events{/p...</td>\n",
              "      <td>https://api.github.com/users/vpicone/received_...</td>\n",
              "      <td>User</td>\n",
              "      <td>False</td>\n",
              "      <td>web-flow</td>\n",
              "      <td>19864447.0</td>\n",
              "      <td>MDQ6VXNlcjE5ODY0NDQ3</td>\n",
              "      <td>https://avatars3.githubusercontent.com/u/19864...</td>\n",
              "      <td></td>\n",
              "      <td>https://api.github.com/users/web-flow</td>\n",
              "      <td>https://github.com/web-flow</td>\n",
              "      <td>https://api.github.com/users/web-flow/followers</td>\n",
              "      <td>https://api.github.com/users/web-flow/followin...</td>\n",
              "      <td>https://api.github.com/users/web-flow/gists{/g...</td>\n",
              "      <td>https://api.github.com/users/web-flow/starred{...</td>\n",
              "      <td>https://api.github.com/users/web-flow/subscrip...</td>\n",
              "      <td>https://api.github.com/users/web-flow/orgs</td>\n",
              "      <td>https://api.github.com/users/web-flow/repos</td>\n",
              "      <td>https://api.github.com/users/web-flow/events{/...</td>\n",
              "      <td>https://api.github.com/users/web-flow/received...</td>\n",
              "      <td>User</td>\n",
              "      <td>False</td>\n",
              "    </tr>\n",
              "    <tr>\n",
              "      <th>2</th>\n",
              "      <td>2</td>\n",
              "      <td>e131c864d7cf500828cd08be657de4829880f197</td>\n",
              "      <td>MDY6Q29tbWl0MTA1NzAyNjMxOmUxMzFjODY0ZDdjZjUwMD...</td>\n",
              "      <td>https://api.github.com/repos/IBM/plex/commits/...</td>\n",
              "      <td>https://github.com/IBM/plex/commit/e131c864d7c...</td>\n",
              "      <td>https://api.github.com/repos/IBM/plex/commits/...</td>\n",
              "      <td></td>\n",
              "      <td></td>\n",
              "      <td>[{'sha': '612b878e01e31ec221017d973eee1df53078...</td>\n",
              "      <td>Vince Picone</td>\n",
              "      <td>Vincent.Patrick.Picone@ibm.com</td>\n",
              "      <td>2020-06-06T20:27:05Z</td>\n",
              "      <td>Vince Picone</td>\n",
              "      <td>Vincent.Patrick.Picone@ibm.com</td>\n",
              "      <td>2020-06-06T20:27:05Z</td>\n",
              "      <td>fix: tweak zip script to handle korean and var...</td>\n",
              "      <td>debd4c51481ea01f6738f79b07407d00752f8d13</td>\n",
              "      <td>https://api.github.com/repos/IBM/plex/git/tree...</td>\n",
              "      <td>https://api.github.com/repos/IBM/plex/git/comm...</td>\n",
              "      <td>0</td>\n",
              "      <td>False</td>\n",
              "      <td>unsigned</td>\n",
              "      <td></td>\n",
              "      <td></td>\n",
              "      <td></td>\n",
              "      <td></td>\n",
              "      <td></td>\n",
              "      <td></td>\n",
              "      <td></td>\n",
              "      <td></td>\n",
              "      <td></td>\n",
              "      <td></td>\n",
              "      <td></td>\n",
              "      <td></td>\n",
              "      <td></td>\n",
              "      <td></td>\n",
              "      <td></td>\n",
              "      <td></td>\n",
              "      <td></td>\n",
              "      <td></td>\n",
              "      <td></td>\n",
              "      <td></td>\n",
              "      <td></td>\n",
              "      <td></td>\n",
              "      <td></td>\n",
              "      <td></td>\n",
              "      <td></td>\n",
              "      <td></td>\n",
              "      <td></td>\n",
              "      <td></td>\n",
              "      <td></td>\n",
              "      <td></td>\n",
              "      <td></td>\n",
              "      <td></td>\n",
              "      <td></td>\n",
              "      <td></td>\n",
              "      <td></td>\n",
              "      <td></td>\n",
              "      <td></td>\n",
              "      <td></td>\n",
              "    </tr>\n",
              "    <tr>\n",
              "      <th>3</th>\n",
              "      <td>3</td>\n",
              "      <td>612b878e01e31ec221017d973eee1df530785a2d</td>\n",
              "      <td>MDY6Q29tbWl0MTA1NzAyNjMxOjYxMmI4NzhlMDFlMzFlYz...</td>\n",
              "      <td>https://api.github.com/repos/IBM/plex/commits/...</td>\n",
              "      <td>https://github.com/IBM/plex/commit/612b878e01e...</td>\n",
              "      <td>https://api.github.com/repos/IBM/plex/commits/...</td>\n",
              "      <td></td>\n",
              "      <td></td>\n",
              "      <td>[{'sha': 'ad5cd7fedddeb12636035acb6d9bea9b500c...</td>\n",
              "      <td>Vince Picone</td>\n",
              "      <td>Vincent.Patrick.Picone@ibm.com</td>\n",
              "      <td>2020-06-01T21:31:54Z</td>\n",
              "      <td>Vince Picone</td>\n",
              "      <td>Vincent.Patrick.Picone@ibm.com</td>\n",
              "      <td>2020-06-01T21:31:54Z</td>\n",
              "      <td>fix: temporarily exclude korean from zip</td>\n",
              "      <td>aeda2c3a8100b8251b40059a832eaf53963ec6a5</td>\n",
              "      <td>https://api.github.com/repos/IBM/plex/git/tree...</td>\n",
              "      <td>https://api.github.com/repos/IBM/plex/git/comm...</td>\n",
              "      <td>0</td>\n",
              "      <td>False</td>\n",
              "      <td>unsigned</td>\n",
              "      <td></td>\n",
              "      <td></td>\n",
              "      <td></td>\n",
              "      <td></td>\n",
              "      <td></td>\n",
              "      <td></td>\n",
              "      <td></td>\n",
              "      <td></td>\n",
              "      <td></td>\n",
              "      <td></td>\n",
              "      <td></td>\n",
              "      <td></td>\n",
              "      <td></td>\n",
              "      <td></td>\n",
              "      <td></td>\n",
              "      <td></td>\n",
              "      <td></td>\n",
              "      <td></td>\n",
              "      <td></td>\n",
              "      <td></td>\n",
              "      <td></td>\n",
              "      <td></td>\n",
              "      <td></td>\n",
              "      <td></td>\n",
              "      <td></td>\n",
              "      <td></td>\n",
              "      <td></td>\n",
              "      <td></td>\n",
              "      <td></td>\n",
              "      <td></td>\n",
              "      <td></td>\n",
              "      <td></td>\n",
              "      <td></td>\n",
              "      <td></td>\n",
              "      <td></td>\n",
              "      <td></td>\n",
              "      <td></td>\n",
              "      <td></td>\n",
              "    </tr>\n",
              "    <tr>\n",
              "      <th>4</th>\n",
              "      <td>4</td>\n",
              "      <td>ad5cd7fedddeb12636035acb6d9bea9b500ca709</td>\n",
              "      <td>MDY6Q29tbWl0MTA1NzAyNjMxOmFkNWNkN2ZlZGRkZWIxMj...</td>\n",
              "      <td>https://api.github.com/repos/IBM/plex/commits/...</td>\n",
              "      <td>https://github.com/IBM/plex/commit/ad5cd7feddd...</td>\n",
              "      <td>https://api.github.com/repos/IBM/plex/commits/...</td>\n",
              "      <td></td>\n",
              "      <td></td>\n",
              "      <td>[{'sha': '22a9a39e070b2efda0225b230de0944bfa89...</td>\n",
              "      <td>Vince Picone</td>\n",
              "      <td>Vincent.Patrick.Picone@ibm.com</td>\n",
              "      <td>2020-06-01T21:23:50Z</td>\n",
              "      <td>Vince Picone</td>\n",
              "      <td>Vincent.Patrick.Picone@ibm.com</td>\n",
              "      <td>2020-06-01T21:23:50Z</td>\n",
              "      <td>feat: add korean</td>\n",
              "      <td>b61ce9d1b0a5dd84e198232c3dc73e1d7493997a</td>\n",
              "      <td>https://api.github.com/repos/IBM/plex/git/tree...</td>\n",
              "      <td>https://api.github.com/repos/IBM/plex/git/comm...</td>\n",
              "      <td>0</td>\n",
              "      <td>False</td>\n",
              "      <td>unsigned</td>\n",
              "      <td></td>\n",
              "      <td></td>\n",
              "      <td></td>\n",
              "      <td></td>\n",
              "      <td></td>\n",
              "      <td></td>\n",
              "      <td></td>\n",
              "      <td></td>\n",
              "      <td></td>\n",
              "      <td></td>\n",
              "      <td></td>\n",
              "      <td></td>\n",
              "      <td></td>\n",
              "      <td></td>\n",
              "      <td></td>\n",
              "      <td></td>\n",
              "      <td></td>\n",
              "      <td></td>\n",
              "      <td></td>\n",
              "      <td></td>\n",
              "      <td></td>\n",
              "      <td></td>\n",
              "      <td></td>\n",
              "      <td></td>\n",
              "      <td></td>\n",
              "      <td></td>\n",
              "      <td></td>\n",
              "      <td></td>\n",
              "      <td></td>\n",
              "      <td></td>\n",
              "      <td></td>\n",
              "      <td></td>\n",
              "      <td></td>\n",
              "      <td></td>\n",
              "      <td></td>\n",
              "      <td></td>\n",
              "      <td></td>\n",
              "      <td></td>\n",
              "    </tr>\n",
              "  </tbody>\n",
              "</table>\n",
              "</div>"
            ],
            "text/plain": [
              "   Unnamed: 0  ... committer.site_admin\n",
              "0           0  ...                     \n",
              "1           1  ...                False\n",
              "2           2  ...                     \n",
              "3           3  ...                     \n",
              "4           4  ...                     \n",
              "\n",
              "[5 rows x 60 columns]"
            ]
          },
          "metadata": {
            "tags": []
          },
          "execution_count": 105
        }
      ]
    },
    {
      "cell_type": "code",
      "metadata": {
        "id": "SBCmn2UjUPS-",
        "colab_type": "code",
        "colab": {
          "base_uri": "https://localhost:8080/",
          "height": 1000
        },
        "outputId": "06c78c0a-403b-4371-fdc0-7065bf8bcd40"
      },
      "source": [
        "file_repos_from_csv.info()"
      ],
      "execution_count": 106,
      "outputs": [
        {
          "output_type": "stream",
          "text": [
            "<class 'pandas.core.frame.DataFrame'>\n",
            "RangeIndex: 30 entries, 0 to 29\n",
            "Data columns (total 60 columns):\n",
            " #   Column                         Non-Null Count  Dtype \n",
            "---  ------                         --------------  ----- \n",
            " 0   Unnamed: 0                     30 non-null     int64 \n",
            " 1   sha                            30 non-null     object\n",
            " 2   node_id                        30 non-null     object\n",
            " 3   url                            30 non-null     object\n",
            " 4   html_url                       30 non-null     object\n",
            " 5   comments_url                   30 non-null     object\n",
            " 6   author                         30 non-null     object\n",
            " 7   committer                      30 non-null     object\n",
            " 8   parents                        30 non-null     object\n",
            " 9   commit.author.name             30 non-null     object\n",
            " 10  commit.author.email            30 non-null     object\n",
            " 11  commit.author.date             30 non-null     object\n",
            " 12  commit.committer.name          30 non-null     object\n",
            " 13  commit.committer.email         30 non-null     object\n",
            " 14  commit.committer.date          30 non-null     object\n",
            " 15  commit.message                 30 non-null     object\n",
            " 16  commit.tree.sha                30 non-null     object\n",
            " 17  commit.tree.url                30 non-null     object\n",
            " 18  commit.url                     30 non-null     object\n",
            " 19  commit.comment_count           30 non-null     int64 \n",
            " 20  commit.verification.verified   30 non-null     bool  \n",
            " 21  commit.verification.reason     30 non-null     object\n",
            " 22  commit.verification.signature  30 non-null     object\n",
            " 23  commit.verification.payload    30 non-null     object\n",
            " 24  author.login                   30 non-null     object\n",
            " 25  author.id                      30 non-null     object\n",
            " 26  author.node_id                 30 non-null     object\n",
            " 27  author.avatar_url              30 non-null     object\n",
            " 28  author.gravatar_id             30 non-null     object\n",
            " 29  author.url                     30 non-null     object\n",
            " 30  author.html_url                30 non-null     object\n",
            " 31  author.followers_url           30 non-null     object\n",
            " 32  author.following_url           30 non-null     object\n",
            " 33  author.gists_url               30 non-null     object\n",
            " 34  author.starred_url             30 non-null     object\n",
            " 35  author.subscriptions_url       30 non-null     object\n",
            " 36  author.organizations_url       30 non-null     object\n",
            " 37  author.repos_url               30 non-null     object\n",
            " 38  author.events_url              30 non-null     object\n",
            " 39  author.received_events_url     30 non-null     object\n",
            " 40  author.type                    30 non-null     object\n",
            " 41  author.site_admin              30 non-null     object\n",
            " 42  committer.login                30 non-null     object\n",
            " 43  committer.id                   30 non-null     object\n",
            " 44  committer.node_id              30 non-null     object\n",
            " 45  committer.avatar_url           30 non-null     object\n",
            " 46  committer.gravatar_id          30 non-null     object\n",
            " 47  committer.url                  30 non-null     object\n",
            " 48  committer.html_url             30 non-null     object\n",
            " 49  committer.followers_url        30 non-null     object\n",
            " 50  committer.following_url        30 non-null     object\n",
            " 51  committer.gists_url            30 non-null     object\n",
            " 52  committer.starred_url          30 non-null     object\n",
            " 53  committer.subscriptions_url    30 non-null     object\n",
            " 54  committer.organizations_url    30 non-null     object\n",
            " 55  committer.repos_url            30 non-null     object\n",
            " 56  committer.events_url           30 non-null     object\n",
            " 57  committer.received_events_url  30 non-null     object\n",
            " 58  committer.type                 30 non-null     object\n",
            " 59  committer.site_admin           30 non-null     object\n",
            "dtypes: bool(1), int64(2), object(57)\n",
            "memory usage: 14.0+ KB\n"
          ],
          "name": "stdout"
        }
      ]
    },
    {
      "cell_type": "markdown",
      "metadata": {
        "id": "TDsWgWOSgeQb",
        "colab_type": "text"
      },
      "source": [
        "Converting a column with time-based data"
      ]
    },
    {
      "cell_type": "code",
      "metadata": {
        "id": "NGD35B92ewbx",
        "colab_type": "code",
        "colab": {}
      },
      "source": [
        "file_repos_from_csv['commit.author.date'] = pd.to_datetime(file_repos_from_csv['commit.author.date'], format='%Y-%m-%d')"
      ],
      "execution_count": 107,
      "outputs": []
    },
    {
      "cell_type": "code",
      "metadata": {
        "id": "35BKjfdzTX2l",
        "colab_type": "code",
        "colab": {
          "base_uri": "https://localhost:8080/",
          "height": 204
        },
        "outputId": "5084a483-ef25-4ab0-f07e-1ae74d1ab603"
      },
      "source": [
        "df_repo_table_red = file_repos_from_csv[[\"node_id\", \"commit.author.name\", \"commit.author.date\", \"commit.message\"]]\n",
        "df_repo_table_red.info()"
      ],
      "execution_count": 108,
      "outputs": [
        {
          "output_type": "stream",
          "text": [
            "<class 'pandas.core.frame.DataFrame'>\n",
            "RangeIndex: 30 entries, 0 to 29\n",
            "Data columns (total 4 columns):\n",
            " #   Column              Non-Null Count  Dtype              \n",
            "---  ------              --------------  -----              \n",
            " 0   node_id             30 non-null     object             \n",
            " 1   commit.author.name  30 non-null     object             \n",
            " 2   commit.author.date  30 non-null     datetime64[ns, UTC]\n",
            " 3   commit.message      30 non-null     object             \n",
            "dtypes: datetime64[ns, UTC](1), object(3)\n",
            "memory usage: 1.1+ KB\n"
          ],
          "name": "stdout"
        }
      ]
    },
    {
      "cell_type": "code",
      "metadata": {
        "id": "EyvxpyIyzqVh",
        "colab_type": "code",
        "colab": {
          "base_uri": "https://localhost:8080/",
          "height": 346
        },
        "outputId": "313e215a-d51a-48c6-d9f0-6bf500ba9a7a"
      },
      "source": [
        "alt.Chart(df_repo_table_red).mark_circle(size=50).encode(\n",
        "    x='commit.author.date:T',\n",
        "    y='count(commit.author.name):Q',\n",
        "    # color='commit.author.name:N',\n",
        "    color='commit.author.name:N',\n",
        "    tooltip=['commit.author.name:N', 'commit.message:N']\n",
        ").interactive()"
      ],
      "execution_count": 109,
      "outputs": [
        {
          "output_type": "execute_result",
          "data": {
            "text/plain": [
              "alt.Chart(...)"
            ],
            "text/html": [
              "\n",
              "<div id=\"altair-viz-eae2548506674ba59d64025d2d02c4cb\"></div>\n",
              "<script type=\"text/javascript\">\n",
              "  (function(spec, embedOpt){\n",
              "    let outputDiv = document.currentScript.previousElementSibling;\n",
              "    if (outputDiv.id !== \"altair-viz-eae2548506674ba59d64025d2d02c4cb\") {\n",
              "      outputDiv = document.getElementById(\"altair-viz-eae2548506674ba59d64025d2d02c4cb\");\n",
              "    }\n",
              "    const paths = {\n",
              "      \"vega\": \"https://cdn.jsdelivr.net/npm//vega@5?noext\",\n",
              "      \"vega-lib\": \"https://cdn.jsdelivr.net/npm//vega-lib?noext\",\n",
              "      \"vega-lite\": \"https://cdn.jsdelivr.net/npm//vega-lite@4.8.1?noext\",\n",
              "      \"vega-embed\": \"https://cdn.jsdelivr.net/npm//vega-embed@6?noext\",\n",
              "    };\n",
              "\n",
              "    function loadScript(lib) {\n",
              "      return new Promise(function(resolve, reject) {\n",
              "        var s = document.createElement('script');\n",
              "        s.src = paths[lib];\n",
              "        s.async = true;\n",
              "        s.onload = () => resolve(paths[lib]);\n",
              "        s.onerror = () => reject(`Error loading script: ${paths[lib]}`);\n",
              "        document.getElementsByTagName(\"head\")[0].appendChild(s);\n",
              "      });\n",
              "    }\n",
              "\n",
              "    function showError(err) {\n",
              "      outputDiv.innerHTML = `<div class=\"error\" style=\"color:red;\">${err}</div>`;\n",
              "      throw err;\n",
              "    }\n",
              "\n",
              "    function displayChart(vegaEmbed) {\n",
              "      vegaEmbed(outputDiv, spec, embedOpt)\n",
              "        .catch(err => showError(`Javascript Error: ${err.message}<br>This usually means there's a typo in your chart specification. See the javascript console for the full traceback.`));\n",
              "    }\n",
              "\n",
              "    if(typeof define === \"function\" && define.amd) {\n",
              "      requirejs.config({paths});\n",
              "      require([\"vega-embed\"], displayChart, err => showError(`Error loading script: ${err.message}`));\n",
              "    } else if (typeof vegaEmbed === \"function\") {\n",
              "      displayChart(vegaEmbed);\n",
              "    } else {\n",
              "      loadScript(\"vega\")\n",
              "        .then(() => loadScript(\"vega-lite\"))\n",
              "        .then(() => loadScript(\"vega-embed\"))\n",
              "        .catch(showError)\n",
              "        .then(() => displayChart(vegaEmbed));\n",
              "    }\n",
              "  })({\"config\": {\"view\": {\"continuousWidth\": 400, \"continuousHeight\": 300}}, \"data\": {\"name\": \"data-55869660dbf2ca8b779adaa96efa7480\"}, \"mark\": {\"type\": \"circle\", \"size\": 50}, \"encoding\": {\"color\": {\"type\": \"nominal\", \"field\": \"commit.author.name\"}, \"tooltip\": [{\"type\": \"nominal\", \"field\": \"commit.author.name\"}, {\"type\": \"nominal\", \"field\": \"commit.message\"}], \"x\": {\"type\": \"temporal\", \"field\": \"commit.author.date\"}, \"y\": {\"type\": \"quantitative\", \"aggregate\": \"count\", \"field\": \"commit.author.name\"}}, \"selection\": {\"selector007\": {\"type\": \"interval\", \"bind\": \"scales\", \"encodings\": [\"x\", \"y\"]}}, \"$schema\": \"https://vega.github.io/schema/vega-lite/v4.8.1.json\", \"datasets\": {\"data-55869660dbf2ca8b779adaa96efa7480\": [{\"node_id\": \"MDY6Q29tbWl0MTA1NzAyNjMxOjk2ODA4MWQ2MWI2YWJlMThjZDBkYzE0YTQyNzA0YWZkZjQ4MzE3MDg=\", \"commit.author.name\": \"Vince Picone\", \"commit.author.date\": \"2020-06-08T17:15:33+00:00\", \"commit.message\": \"5.0.0\"}, {\"node_id\": \"MDY6Q29tbWl0MTA1NzAyNjMxOmNkNDZkMGM0ZDUwNzQ3MzY5NTBkMzJhZTJmNjJkMGFlMTdmYTAxZDQ=\", \"commit.author.name\": \"Vince Picone\", \"commit.author.date\": \"2020-06-08T16:42:11+00:00\", \"commit.message\": \"Merge pull request #315 from vpicone/cross-language-update\"}, {\"node_id\": \"MDY6Q29tbWl0MTA1NzAyNjMxOmUxMzFjODY0ZDdjZjUwMDgyOGNkMDhiZTY1N2RlNDgyOTg4MGYxOTc=\", \"commit.author.name\": \"Vince Picone\", \"commit.author.date\": \"2020-06-06T20:27:05+00:00\", \"commit.message\": \"fix: tweak zip script to handle korean and variable\"}, {\"node_id\": \"MDY6Q29tbWl0MTA1NzAyNjMxOjYxMmI4NzhlMDFlMzFlYzIyMTAxN2Q5NzNlZWUxZGY1MzA3ODVhMmQ=\", \"commit.author.name\": \"Vince Picone\", \"commit.author.date\": \"2020-06-01T21:31:54+00:00\", \"commit.message\": \"fix: temporarily exclude korean from zip\"}, {\"node_id\": \"MDY6Q29tbWl0MTA1NzAyNjMxOmFkNWNkN2ZlZGRkZWIxMjYzNjAzNWFjYjZkOWJlYTliNTAwY2E3MDk=\", \"commit.author.name\": \"Vince Picone\", \"commit.author.date\": \"2020-06-01T21:23:50+00:00\", \"commit.message\": \"feat: add korean\"}, {\"node_id\": \"MDY6Q29tbWl0MTA1NzAyNjMxOjIyYTlhMzllMDcwYjJlZmRhMDIyNWIyMzBkZTA5NDRiZmE4OTM5M2Y=\", \"commit.author.name\": \"Vince Picone\", \"commit.author.date\": \"2020-05-29T21:11:44+00:00\", \"commit.message\": \"fix: change internal family name for condensed, add glyphs\"}, {\"node_id\": \"MDY6Q29tbWl0MTA1NzAyNjMxOjFjNjU0ZDQwMzYwY2Q1NTkxNTdiOGZkNjkwNGU4NjJlODA1NzljOTM=\", \"commit.author.name\": \"Vince Picone\", \"commit.author.date\": \"2020-05-29T21:05:56+00:00\", \"commit.message\": \"fix(Serif): vertical metrics and glyph additions\"}, {\"node_id\": \"MDY6Q29tbWl0MTA1NzAyNjMxOjc2YzM0MTgxOTM5OGU1MzM4YTBkZTZhYjA2MmZkYjNmYzE1MzFkYmY=\", \"commit.author.name\": \"Vince Picone\", \"commit.author.date\": \"2020-05-29T21:03:33+00:00\", \"commit.message\": \"fix(Sans): new glyphs, fixed vertical metrics\"}, {\"node_id\": \"MDY6Q29tbWl0MTA1NzAyNjMxOjNjM2UwMGUzYjA4OWEwY2M5YWNjMDRlMzY2ZDY4NjJhNTA2YmVlOTE=\", \"commit.author.name\": \"Vince Picone\", \"commit.author.date\": \"2020-05-29T20:56:13+00:00\", \"commit.message\": \"feat: mono update\"}, {\"node_id\": \"MDY6Q29tbWl0MTA1NzAyNjMxOjZhM2MwOTE3ODAzNWQyY2MwNTAzYWNkMzVjNjRkNmY2ZGFmYjRiNzc=\", \"commit.author.name\": \"LMapes\", \"commit.author.date\": \"2020-05-12T17:20:44+00:00\", \"commit.message\": \"Update README.md (#310)\\n\\n* Update README.md\\n\\nThis change includes new non-Latin fonts and updates content based on the IBM Style guide.\\n\\n* Update README.md\\n\\nHi Vince, this is ready to merge now.\\n\\n* Update README.md\\n\\nChange to one sentence per Mike Abbink.\"}, {\"node_id\": \"MDY6Q29tbWl0MTA1NzAyNjMxOmVmMGFiNDk5ODMyOWUxN2UzNGU5YWFhMzAxYjNlYmJlNDAzNWQ3MDk=\", \"commit.author.name\": \"Vince Picone\", \"commit.author.date\": \"2019-12-09T21:49:34+00:00\", \"commit.message\": \"4.0.2\"}, {\"node_id\": \"MDY6Q29tbWl0MTA1NzAyNjMxOmVjZTkzZmIyMzEwYjc5MWJmMjI5YTZmNGE5NGY3MTk1ZjMwMGJhN2Y=\", \"commit.author.name\": \"Vince Picone\", \"commit.author.date\": \"2019-12-09T21:48:01+00:00\", \"commit.message\": \"fix: update using new hebrew fixes (#289)\\n\\nfix: update using new hebrew fixes\"}, {\"node_id\": \"MDY6Q29tbWl0MTA1NzAyNjMxOjYzYTk0YWQzYjE0M2VlMDQ2ZGJjNzA1MDRmMGFkOTM0MGMwNWY1ZjQ=\", \"commit.author.name\": \"Vince Picone\", \"commit.author.date\": \"2019-12-09T21:43:01+00:00\", \"commit.message\": \"fix: update using new hebrew fixes\"}, {\"node_id\": \"MDY6Q29tbWl0MTA1NzAyNjMxOmUxNjVkYmMxNGIwNDdjYTc0YjMyZTQ1YzlkYTZkYzI2MjU0MDVmZTU=\", \"commit.author.name\": \"Vince Picone\", \"commit.author.date\": \"2019-11-25T15:42:50+00:00\", \"commit.message\": \"Update README.md\"}, {\"node_id\": \"MDY6Q29tbWl0MTA1NzAyNjMxOjY2ZGJkZTQwODA4YzRkZmE0OTllN2NmOTg4MmFiNGY1YjY3YTdiN2U=\", \"commit.author.name\": \"Mike Abbink\", \"commit.author.date\": \"2019-11-23T11:32:27+00:00\", \"commit.message\": \"Update README.md\"}, {\"node_id\": \"MDY6Q29tbWl0MTA1NzAyNjMxOjU0OWRlOWM3Zjk4MWI0MDU2ZjU2YzhlNjE4ZTdmZjgyNGUxYjQwMDA=\", \"commit.author.name\": \"Vince Picone\", \"commit.author.date\": \"2019-11-18T16:30:10+00:00\", \"commit.message\": \"Update CHANGELOG.md\"}, {\"node_id\": \"MDY6Q29tbWl0MTA1NzAyNjMxOjc0YTQ5OTA4MWQwNGNhOThjOWRmYzI2ZWNmYTI5ZjljZTFmZDk1NmE=\", \"commit.author.name\": \"Vince Picone\", \"commit.author.date\": \"2019-11-18T16:29:14+00:00\", \"commit.message\": \"Update CHANGELOG.md\"}, {\"node_id\": \"MDY6Q29tbWl0MTA1NzAyNjMxOmU4MDVlYjQxMDZlYzdlYTAxOTE2ZGNlOTAxMmZjNzViODQ2OThlNjA=\", \"commit.author.name\": \"Vince Picone\", \"commit.author.date\": \"2019-11-18T16:15:37+00:00\", \"commit.message\": \"4.0.1\"}, {\"node_id\": \"MDY6Q29tbWl0MTA1NzAyNjMxOjg3N2NkMzMxYTcwNzg2NGQ3MGFmOWFiYzM1NDFmNmZkOTM1NzFkYTM=\", \"commit.author.name\": \"Vince Picone\", \"commit.author.date\": \"2019-11-18T16:03:37+00:00\", \"commit.message\": \"4.0.0\"}, {\"node_id\": \"MDY6Q29tbWl0MTA1NzAyNjMxOjcwYThiNDBjNzc1ZGY0NGZkOWFhMmQ0NmFjY2RkYzFkMzlkZjk5OGE=\", \"commit.author.name\": \"Vince Picone\", \"commit.author.date\": \"2019-11-18T15:58:02+00:00\", \"commit.message\": \"breaking: update  arabic family name to include sans (#286)\\n\\nbreaking: update  arabic family name to include sans\"}, {\"node_id\": \"MDY6Q29tbWl0MTA1NzAyNjMxOmIzNGM1MTU5NTU5Yjg2YjIxYTc1YzBmOWI1NzA5MGU3OTQxMzZiNzk=\", \"commit.author.name\": \"Vince Picone\", \"commit.author.date\": \"2019-11-18T15:57:32+00:00\", \"commit.message\": \"Update README.md (#222)\\n\\nUpdate README.md\"}, {\"node_id\": \"MDY6Q29tbWl0MTA1NzAyNjMxOjIxZDk0YmU3MWJlNTkyN2VhMWRkOGRjNzA0ZGM1OTc0NDdhM2M5NGE=\", \"commit.author.name\": \"Vince Picone\", \"commit.author.date\": \"2019-11-18T15:52:50+00:00\", \"commit.message\": \"breaking: update  arabic family name to include sans\"}, {\"node_id\": \"MDY6Q29tbWl0MTA1NzAyNjMxOmY1MWQwNzIwMGFlNTRjYWVkMTFkYTRkZTE0MDE0MmVkNjFhZjFiZTM=\", \"commit.author.name\": \"Vince Picone\", \"commit.author.date\": \"2019-10-05T03:30:32+00:00\", \"commit.message\": \"3.0.0\"}, {\"node_id\": \"MDY6Q29tbWl0MTA1NzAyNjMxOjVjYmE2MjFlZjdjZjgyZDgxM2EwZTc5NGQ3NzhmNGM2MDVhYWZkNTE=\", \"commit.author.name\": \"Vince Picone\", \"commit.author.date\": \"2019-10-05T03:24:56+00:00\", \"commit.message\": \"Devanagari thai update (#277)\\n\\nDevanagari thai update\"}, {\"node_id\": \"MDY6Q29tbWl0MTA1NzAyNjMxOjBlNTY0NjMyYzBkOTM1NWY3OGFiNTM2YzUyNGEyZWFiZDY4ZjM4MTY=\", \"commit.author.name\": \"Vince Picone\", \"commit.author.date\": \"2019-10-04T13:25:43+00:00\", \"commit.message\": \"fix: thai file names\"}, {\"node_id\": \"MDY6Q29tbWl0MTA1NzAyNjMxOjcyZWRjMDFhMmY2NmRjNTJmM2JiZGUzZDVmNTk5ZmMyODQ5MmNmOWI=\", \"commit.author.name\": \"Vince Picone\", \"commit.author.date\": \"2019-10-03T19:20:14+00:00\", \"commit.message\": \"chore: add changelog\"}, {\"node_id\": \"MDY6Q29tbWl0MTA1NzAyNjMxOjQ4MDMxMDZjMzFlNjRkMDE1N2JhY2ZkMjk4OTBlZDUzYjAyZjEzYjQ=\", \"commit.author.name\": \"Vince Picone\", \"commit.author.date\": \"2019-10-03T19:11:21+00:00\", \"commit.message\": \"fix: add Sans to extralight and semibold weights for thai\"}, {\"node_id\": \"MDY6Q29tbWl0MTA1NzAyNjMxOjIyMjRiNTdhODAxNGM4M2EyMzA2ZDU4OWM0YTFhM2IyNGZlNmEwYjc=\", \"commit.author.name\": \"Vince Picone\", \"commit.author.date\": \"2019-10-03T18:45:57+00:00\", \"commit.message\": \"breaking: update thai and devanagari typeface names and font files\"}, {\"node_id\": \"MDY6Q29tbWl0MTA1NzAyNjMxOmJlNjY2MjgwZDA0MmZlN2MzZjE4NTgxMzM4YTY4YmMwMjU4ZDA5NmE=\", \"commit.author.name\": \"Vince Picone\", \"commit.author.date\": \"2019-06-04T19:07:41+00:00\", \"commit.message\": \"Update CHANGELOG.md\"}, {\"node_id\": \"MDY6Q29tbWl0MTA1NzAyNjMxOjM0ZWRmN2JhMTZlOGMyZjZkY2JmYmJmMGFiYmU3MDViZmIzMGUwYjM=\", \"commit.author.name\": \"Vince Picone\", \"commit.author.date\": \"2019-06-04T19:03:25+00:00\", \"commit.message\": \"2.0.0\"}]}}, {\"mode\": \"vega-lite\"});\n",
              "</script>"
            ]
          },
          "metadata": {
            "tags": []
          },
          "execution_count": 109
        }
      ]
    },
    {
      "cell_type": "markdown",
      "metadata": {
        "id": "05K0vSXLbfdc",
        "colab_type": "text"
      },
      "source": [
        "Adding a column with an int value in order to count the amount of items. Prabably a cheap trick\n"
      ]
    },
    {
      "cell_type": "code",
      "metadata": {
        "id": "rB3rzEd8butV",
        "colab_type": "code",
        "colab": {
          "base_uri": "https://localhost:8080/",
          "height": 139
        },
        "outputId": "57d1203d-9995-4789-c980-e03675829464"
      },
      "source": [
        "df_repo_table_red['value'] = 1"
      ],
      "execution_count": 110,
      "outputs": [
        {
          "output_type": "stream",
          "text": [
            "/usr/local/lib/python3.6/dist-packages/ipykernel_launcher.py:1: SettingWithCopyWarning: \n",
            "A value is trying to be set on a copy of a slice from a DataFrame.\n",
            "Try using .loc[row_indexer,col_indexer] = value instead\n",
            "\n",
            "See the caveats in the documentation: https://pandas.pydata.org/pandas-docs/stable/user_guide/indexing.html#returning-a-view-versus-a-copy\n",
            "  \"\"\"Entry point for launching an IPython kernel.\n"
          ],
          "name": "stderr"
        }
      ]
    },
    {
      "cell_type": "code",
      "metadata": {
        "id": "aW8ZY7urc3lv",
        "colab_type": "code",
        "colab": {
          "base_uri": "https://localhost:8080/",
          "height": 221
        },
        "outputId": "00172d20-6524-4fe0-8b95-c1a28df46235"
      },
      "source": [
        "df_repo_table_red.info()"
      ],
      "execution_count": 111,
      "outputs": [
        {
          "output_type": "stream",
          "text": [
            "<class 'pandas.core.frame.DataFrame'>\n",
            "RangeIndex: 30 entries, 0 to 29\n",
            "Data columns (total 5 columns):\n",
            " #   Column              Non-Null Count  Dtype              \n",
            "---  ------              --------------  -----              \n",
            " 0   node_id             30 non-null     object             \n",
            " 1   commit.author.name  30 non-null     object             \n",
            " 2   commit.author.date  30 non-null     datetime64[ns, UTC]\n",
            " 3   commit.message      30 non-null     object             \n",
            " 4   value               30 non-null     int64              \n",
            "dtypes: datetime64[ns, UTC](1), int64(1), object(3)\n",
            "memory usage: 1.3+ KB\n"
          ],
          "name": "stdout"
        }
      ]
    },
    {
      "cell_type": "code",
      "metadata": {
        "id": "g0VPOgORdGB0",
        "colab_type": "code",
        "colab": {
          "base_uri": "https://localhost:8080/",
          "height": 377
        },
        "outputId": "f34a622b-a635-42d5-9b48-818688c66e82"
      },
      "source": [
        "df_repo_table_red.head()"
      ],
      "execution_count": 112,
      "outputs": [
        {
          "output_type": "execute_result",
          "data": {
            "text/html": [
              "<div>\n",
              "<style scoped>\n",
              "    .dataframe tbody tr th:only-of-type {\n",
              "        vertical-align: middle;\n",
              "    }\n",
              "\n",
              "    .dataframe tbody tr th {\n",
              "        vertical-align: top;\n",
              "    }\n",
              "\n",
              "    .dataframe thead th {\n",
              "        text-align: right;\n",
              "    }\n",
              "</style>\n",
              "<table border=\"1\" class=\"dataframe\">\n",
              "  <thead>\n",
              "    <tr style=\"text-align: right;\">\n",
              "      <th></th>\n",
              "      <th>node_id</th>\n",
              "      <th>commit.author.name</th>\n",
              "      <th>commit.author.date</th>\n",
              "      <th>commit.message</th>\n",
              "      <th>value</th>\n",
              "    </tr>\n",
              "  </thead>\n",
              "  <tbody>\n",
              "    <tr>\n",
              "      <th>0</th>\n",
              "      <td>MDY6Q29tbWl0MTA1NzAyNjMxOjk2ODA4MWQ2MWI2YWJlMT...</td>\n",
              "      <td>Vince Picone</td>\n",
              "      <td>2020-06-08 17:15:33+00:00</td>\n",
              "      <td>5.0.0</td>\n",
              "      <td>1</td>\n",
              "    </tr>\n",
              "    <tr>\n",
              "      <th>1</th>\n",
              "      <td>MDY6Q29tbWl0MTA1NzAyNjMxOmNkNDZkMGM0ZDUwNzQ3Mz...</td>\n",
              "      <td>Vince Picone</td>\n",
              "      <td>2020-06-08 16:42:11+00:00</td>\n",
              "      <td>Merge pull request #315 from vpicone/cross-lan...</td>\n",
              "      <td>1</td>\n",
              "    </tr>\n",
              "    <tr>\n",
              "      <th>2</th>\n",
              "      <td>MDY6Q29tbWl0MTA1NzAyNjMxOmUxMzFjODY0ZDdjZjUwMD...</td>\n",
              "      <td>Vince Picone</td>\n",
              "      <td>2020-06-06 20:27:05+00:00</td>\n",
              "      <td>fix: tweak zip script to handle korean and var...</td>\n",
              "      <td>1</td>\n",
              "    </tr>\n",
              "    <tr>\n",
              "      <th>3</th>\n",
              "      <td>MDY6Q29tbWl0MTA1NzAyNjMxOjYxMmI4NzhlMDFlMzFlYz...</td>\n",
              "      <td>Vince Picone</td>\n",
              "      <td>2020-06-01 21:31:54+00:00</td>\n",
              "      <td>fix: temporarily exclude korean from zip</td>\n",
              "      <td>1</td>\n",
              "    </tr>\n",
              "    <tr>\n",
              "      <th>4</th>\n",
              "      <td>MDY6Q29tbWl0MTA1NzAyNjMxOmFkNWNkN2ZlZGRkZWIxMj...</td>\n",
              "      <td>Vince Picone</td>\n",
              "      <td>2020-06-01 21:23:50+00:00</td>\n",
              "      <td>feat: add korean</td>\n",
              "      <td>1</td>\n",
              "    </tr>\n",
              "  </tbody>\n",
              "</table>\n",
              "</div>"
            ],
            "text/plain": [
              "                                             node_id  ... value\n",
              "0  MDY6Q29tbWl0MTA1NzAyNjMxOjk2ODA4MWQ2MWI2YWJlMT...  ...     1\n",
              "1  MDY6Q29tbWl0MTA1NzAyNjMxOmNkNDZkMGM0ZDUwNzQ3Mz...  ...     1\n",
              "2  MDY6Q29tbWl0MTA1NzAyNjMxOmUxMzFjODY0ZDdjZjUwMD...  ...     1\n",
              "3  MDY6Q29tbWl0MTA1NzAyNjMxOjYxMmI4NzhlMDFlMzFlYz...  ...     1\n",
              "4  MDY6Q29tbWl0MTA1NzAyNjMxOmFkNWNkN2ZlZGRkZWIxMj...  ...     1\n",
              "\n",
              "[5 rows x 5 columns]"
            ]
          },
          "metadata": {
            "tags": []
          },
          "execution_count": 112
        }
      ]
    },
    {
      "cell_type": "code",
      "metadata": {
        "id": "yyLr_TFHkdbm",
        "colab_type": "code",
        "colab": {}
      },
      "source": [
        "df_repo_table_red = df_repo_table_red.set_index(\"commit.author.date\")"
      ],
      "execution_count": 113,
      "outputs": []
    },
    {
      "cell_type": "code",
      "metadata": {
        "id": "kuJHyAu1kpFE",
        "colab_type": "code",
        "colab": {}
      },
      "source": [
        "days = df_repo_table_red.resample(\"D\").sum()"
      ],
      "execution_count": 114,
      "outputs": []
    },
    {
      "cell_type": "code",
      "metadata": {
        "id": "gfnRsDeClEPs",
        "colab_type": "code",
        "colab": {
          "base_uri": "https://localhost:8080/",
          "height": 450
        },
        "outputId": "b74007f2-638f-4a57-8ae7-9bfbff75e5f8"
      },
      "source": [
        "days"
      ],
      "execution_count": 115,
      "outputs": [
        {
          "output_type": "execute_result",
          "data": {
            "text/html": [
              "<div>\n",
              "<style scoped>\n",
              "    .dataframe tbody tr th:only-of-type {\n",
              "        vertical-align: middle;\n",
              "    }\n",
              "\n",
              "    .dataframe tbody tr th {\n",
              "        vertical-align: top;\n",
              "    }\n",
              "\n",
              "    .dataframe thead th {\n",
              "        text-align: right;\n",
              "    }\n",
              "</style>\n",
              "<table border=\"1\" class=\"dataframe\">\n",
              "  <thead>\n",
              "    <tr style=\"text-align: right;\">\n",
              "      <th></th>\n",
              "      <th>value</th>\n",
              "    </tr>\n",
              "    <tr>\n",
              "      <th>commit.author.date</th>\n",
              "      <th></th>\n",
              "    </tr>\n",
              "  </thead>\n",
              "  <tbody>\n",
              "    <tr>\n",
              "      <th>2019-06-04 00:00:00+00:00</th>\n",
              "      <td>2</td>\n",
              "    </tr>\n",
              "    <tr>\n",
              "      <th>2019-06-05 00:00:00+00:00</th>\n",
              "      <td>0</td>\n",
              "    </tr>\n",
              "    <tr>\n",
              "      <th>2019-06-06 00:00:00+00:00</th>\n",
              "      <td>0</td>\n",
              "    </tr>\n",
              "    <tr>\n",
              "      <th>2019-06-07 00:00:00+00:00</th>\n",
              "      <td>0</td>\n",
              "    </tr>\n",
              "    <tr>\n",
              "      <th>2019-06-08 00:00:00+00:00</th>\n",
              "      <td>0</td>\n",
              "    </tr>\n",
              "    <tr>\n",
              "      <th>...</th>\n",
              "      <td>...</td>\n",
              "    </tr>\n",
              "    <tr>\n",
              "      <th>2020-06-04 00:00:00+00:00</th>\n",
              "      <td>0</td>\n",
              "    </tr>\n",
              "    <tr>\n",
              "      <th>2020-06-05 00:00:00+00:00</th>\n",
              "      <td>0</td>\n",
              "    </tr>\n",
              "    <tr>\n",
              "      <th>2020-06-06 00:00:00+00:00</th>\n",
              "      <td>1</td>\n",
              "    </tr>\n",
              "    <tr>\n",
              "      <th>2020-06-07 00:00:00+00:00</th>\n",
              "      <td>0</td>\n",
              "    </tr>\n",
              "    <tr>\n",
              "      <th>2020-06-08 00:00:00+00:00</th>\n",
              "      <td>2</td>\n",
              "    </tr>\n",
              "  </tbody>\n",
              "</table>\n",
              "<p>371 rows × 1 columns</p>\n",
              "</div>"
            ],
            "text/plain": [
              "                           value\n",
              "commit.author.date              \n",
              "2019-06-04 00:00:00+00:00      2\n",
              "2019-06-05 00:00:00+00:00      0\n",
              "2019-06-06 00:00:00+00:00      0\n",
              "2019-06-07 00:00:00+00:00      0\n",
              "2019-06-08 00:00:00+00:00      0\n",
              "...                          ...\n",
              "2020-06-04 00:00:00+00:00      0\n",
              "2020-06-05 00:00:00+00:00      0\n",
              "2020-06-06 00:00:00+00:00      1\n",
              "2020-06-07 00:00:00+00:00      0\n",
              "2020-06-08 00:00:00+00:00      2\n",
              "\n",
              "[371 rows x 1 columns]"
            ]
          },
          "metadata": {
            "tags": []
          },
          "execution_count": 115
        }
      ]
    },
    {
      "cell_type": "code",
      "metadata": {
        "id": "gA5wKqcxpVDd",
        "colab_type": "code",
        "colab": {
          "base_uri": "https://localhost:8080/",
          "height": 1000
        },
        "outputId": "f98077ea-0fae-4a64-a93c-15d809394e62"
      },
      "source": [
        "week = df_repo_table_red.resample(\"W\").sum()\n",
        "week"
      ],
      "execution_count": 116,
      "outputs": [
        {
          "output_type": "execute_result",
          "data": {
            "text/html": [
              "<div>\n",
              "<style scoped>\n",
              "    .dataframe tbody tr th:only-of-type {\n",
              "        vertical-align: middle;\n",
              "    }\n",
              "\n",
              "    .dataframe tbody tr th {\n",
              "        vertical-align: top;\n",
              "    }\n",
              "\n",
              "    .dataframe thead th {\n",
              "        text-align: right;\n",
              "    }\n",
              "</style>\n",
              "<table border=\"1\" class=\"dataframe\">\n",
              "  <thead>\n",
              "    <tr style=\"text-align: right;\">\n",
              "      <th></th>\n",
              "      <th>value</th>\n",
              "    </tr>\n",
              "    <tr>\n",
              "      <th>commit.author.date</th>\n",
              "      <th></th>\n",
              "    </tr>\n",
              "  </thead>\n",
              "  <tbody>\n",
              "    <tr>\n",
              "      <th>2019-06-09 00:00:00+00:00</th>\n",
              "      <td>2</td>\n",
              "    </tr>\n",
              "    <tr>\n",
              "      <th>2019-06-16 00:00:00+00:00</th>\n",
              "      <td>0</td>\n",
              "    </tr>\n",
              "    <tr>\n",
              "      <th>2019-06-23 00:00:00+00:00</th>\n",
              "      <td>0</td>\n",
              "    </tr>\n",
              "    <tr>\n",
              "      <th>2019-06-30 00:00:00+00:00</th>\n",
              "      <td>0</td>\n",
              "    </tr>\n",
              "    <tr>\n",
              "      <th>2019-07-07 00:00:00+00:00</th>\n",
              "      <td>0</td>\n",
              "    </tr>\n",
              "    <tr>\n",
              "      <th>2019-07-14 00:00:00+00:00</th>\n",
              "      <td>0</td>\n",
              "    </tr>\n",
              "    <tr>\n",
              "      <th>2019-07-21 00:00:00+00:00</th>\n",
              "      <td>0</td>\n",
              "    </tr>\n",
              "    <tr>\n",
              "      <th>2019-07-28 00:00:00+00:00</th>\n",
              "      <td>0</td>\n",
              "    </tr>\n",
              "    <tr>\n",
              "      <th>2019-08-04 00:00:00+00:00</th>\n",
              "      <td>0</td>\n",
              "    </tr>\n",
              "    <tr>\n",
              "      <th>2019-08-11 00:00:00+00:00</th>\n",
              "      <td>0</td>\n",
              "    </tr>\n",
              "    <tr>\n",
              "      <th>2019-08-18 00:00:00+00:00</th>\n",
              "      <td>0</td>\n",
              "    </tr>\n",
              "    <tr>\n",
              "      <th>2019-08-25 00:00:00+00:00</th>\n",
              "      <td>0</td>\n",
              "    </tr>\n",
              "    <tr>\n",
              "      <th>2019-09-01 00:00:00+00:00</th>\n",
              "      <td>0</td>\n",
              "    </tr>\n",
              "    <tr>\n",
              "      <th>2019-09-08 00:00:00+00:00</th>\n",
              "      <td>0</td>\n",
              "    </tr>\n",
              "    <tr>\n",
              "      <th>2019-09-15 00:00:00+00:00</th>\n",
              "      <td>0</td>\n",
              "    </tr>\n",
              "    <tr>\n",
              "      <th>2019-09-22 00:00:00+00:00</th>\n",
              "      <td>0</td>\n",
              "    </tr>\n",
              "    <tr>\n",
              "      <th>2019-09-29 00:00:00+00:00</th>\n",
              "      <td>0</td>\n",
              "    </tr>\n",
              "    <tr>\n",
              "      <th>2019-10-06 00:00:00+00:00</th>\n",
              "      <td>6</td>\n",
              "    </tr>\n",
              "    <tr>\n",
              "      <th>2019-10-13 00:00:00+00:00</th>\n",
              "      <td>0</td>\n",
              "    </tr>\n",
              "    <tr>\n",
              "      <th>2019-10-20 00:00:00+00:00</th>\n",
              "      <td>0</td>\n",
              "    </tr>\n",
              "    <tr>\n",
              "      <th>2019-10-27 00:00:00+00:00</th>\n",
              "      <td>0</td>\n",
              "    </tr>\n",
              "    <tr>\n",
              "      <th>2019-11-03 00:00:00+00:00</th>\n",
              "      <td>0</td>\n",
              "    </tr>\n",
              "    <tr>\n",
              "      <th>2019-11-10 00:00:00+00:00</th>\n",
              "      <td>0</td>\n",
              "    </tr>\n",
              "    <tr>\n",
              "      <th>2019-11-17 00:00:00+00:00</th>\n",
              "      <td>0</td>\n",
              "    </tr>\n",
              "    <tr>\n",
              "      <th>2019-11-24 00:00:00+00:00</th>\n",
              "      <td>8</td>\n",
              "    </tr>\n",
              "    <tr>\n",
              "      <th>2019-12-01 00:00:00+00:00</th>\n",
              "      <td>1</td>\n",
              "    </tr>\n",
              "    <tr>\n",
              "      <th>2019-12-08 00:00:00+00:00</th>\n",
              "      <td>0</td>\n",
              "    </tr>\n",
              "    <tr>\n",
              "      <th>2019-12-15 00:00:00+00:00</th>\n",
              "      <td>3</td>\n",
              "    </tr>\n",
              "    <tr>\n",
              "      <th>2019-12-22 00:00:00+00:00</th>\n",
              "      <td>0</td>\n",
              "    </tr>\n",
              "    <tr>\n",
              "      <th>2019-12-29 00:00:00+00:00</th>\n",
              "      <td>0</td>\n",
              "    </tr>\n",
              "    <tr>\n",
              "      <th>2020-01-05 00:00:00+00:00</th>\n",
              "      <td>0</td>\n",
              "    </tr>\n",
              "    <tr>\n",
              "      <th>2020-01-12 00:00:00+00:00</th>\n",
              "      <td>0</td>\n",
              "    </tr>\n",
              "    <tr>\n",
              "      <th>2020-01-19 00:00:00+00:00</th>\n",
              "      <td>0</td>\n",
              "    </tr>\n",
              "    <tr>\n",
              "      <th>2020-01-26 00:00:00+00:00</th>\n",
              "      <td>0</td>\n",
              "    </tr>\n",
              "    <tr>\n",
              "      <th>2020-02-02 00:00:00+00:00</th>\n",
              "      <td>0</td>\n",
              "    </tr>\n",
              "    <tr>\n",
              "      <th>2020-02-09 00:00:00+00:00</th>\n",
              "      <td>0</td>\n",
              "    </tr>\n",
              "    <tr>\n",
              "      <th>2020-02-16 00:00:00+00:00</th>\n",
              "      <td>0</td>\n",
              "    </tr>\n",
              "    <tr>\n",
              "      <th>2020-02-23 00:00:00+00:00</th>\n",
              "      <td>0</td>\n",
              "    </tr>\n",
              "    <tr>\n",
              "      <th>2020-03-01 00:00:00+00:00</th>\n",
              "      <td>0</td>\n",
              "    </tr>\n",
              "    <tr>\n",
              "      <th>2020-03-08 00:00:00+00:00</th>\n",
              "      <td>0</td>\n",
              "    </tr>\n",
              "    <tr>\n",
              "      <th>2020-03-15 00:00:00+00:00</th>\n",
              "      <td>0</td>\n",
              "    </tr>\n",
              "    <tr>\n",
              "      <th>2020-03-22 00:00:00+00:00</th>\n",
              "      <td>0</td>\n",
              "    </tr>\n",
              "    <tr>\n",
              "      <th>2020-03-29 00:00:00+00:00</th>\n",
              "      <td>0</td>\n",
              "    </tr>\n",
              "    <tr>\n",
              "      <th>2020-04-05 00:00:00+00:00</th>\n",
              "      <td>0</td>\n",
              "    </tr>\n",
              "    <tr>\n",
              "      <th>2020-04-12 00:00:00+00:00</th>\n",
              "      <td>0</td>\n",
              "    </tr>\n",
              "    <tr>\n",
              "      <th>2020-04-19 00:00:00+00:00</th>\n",
              "      <td>0</td>\n",
              "    </tr>\n",
              "    <tr>\n",
              "      <th>2020-04-26 00:00:00+00:00</th>\n",
              "      <td>0</td>\n",
              "    </tr>\n",
              "    <tr>\n",
              "      <th>2020-05-03 00:00:00+00:00</th>\n",
              "      <td>0</td>\n",
              "    </tr>\n",
              "    <tr>\n",
              "      <th>2020-05-10 00:00:00+00:00</th>\n",
              "      <td>0</td>\n",
              "    </tr>\n",
              "    <tr>\n",
              "      <th>2020-05-17 00:00:00+00:00</th>\n",
              "      <td>1</td>\n",
              "    </tr>\n",
              "    <tr>\n",
              "      <th>2020-05-24 00:00:00+00:00</th>\n",
              "      <td>0</td>\n",
              "    </tr>\n",
              "    <tr>\n",
              "      <th>2020-05-31 00:00:00+00:00</th>\n",
              "      <td>4</td>\n",
              "    </tr>\n",
              "    <tr>\n",
              "      <th>2020-06-07 00:00:00+00:00</th>\n",
              "      <td>3</td>\n",
              "    </tr>\n",
              "    <tr>\n",
              "      <th>2020-06-14 00:00:00+00:00</th>\n",
              "      <td>2</td>\n",
              "    </tr>\n",
              "  </tbody>\n",
              "</table>\n",
              "</div>"
            ],
            "text/plain": [
              "                           value\n",
              "commit.author.date              \n",
              "2019-06-09 00:00:00+00:00      2\n",
              "2019-06-16 00:00:00+00:00      0\n",
              "2019-06-23 00:00:00+00:00      0\n",
              "2019-06-30 00:00:00+00:00      0\n",
              "2019-07-07 00:00:00+00:00      0\n",
              "2019-07-14 00:00:00+00:00      0\n",
              "2019-07-21 00:00:00+00:00      0\n",
              "2019-07-28 00:00:00+00:00      0\n",
              "2019-08-04 00:00:00+00:00      0\n",
              "2019-08-11 00:00:00+00:00      0\n",
              "2019-08-18 00:00:00+00:00      0\n",
              "2019-08-25 00:00:00+00:00      0\n",
              "2019-09-01 00:00:00+00:00      0\n",
              "2019-09-08 00:00:00+00:00      0\n",
              "2019-09-15 00:00:00+00:00      0\n",
              "2019-09-22 00:00:00+00:00      0\n",
              "2019-09-29 00:00:00+00:00      0\n",
              "2019-10-06 00:00:00+00:00      6\n",
              "2019-10-13 00:00:00+00:00      0\n",
              "2019-10-20 00:00:00+00:00      0\n",
              "2019-10-27 00:00:00+00:00      0\n",
              "2019-11-03 00:00:00+00:00      0\n",
              "2019-11-10 00:00:00+00:00      0\n",
              "2019-11-17 00:00:00+00:00      0\n",
              "2019-11-24 00:00:00+00:00      8\n",
              "2019-12-01 00:00:00+00:00      1\n",
              "2019-12-08 00:00:00+00:00      0\n",
              "2019-12-15 00:00:00+00:00      3\n",
              "2019-12-22 00:00:00+00:00      0\n",
              "2019-12-29 00:00:00+00:00      0\n",
              "2020-01-05 00:00:00+00:00      0\n",
              "2020-01-12 00:00:00+00:00      0\n",
              "2020-01-19 00:00:00+00:00      0\n",
              "2020-01-26 00:00:00+00:00      0\n",
              "2020-02-02 00:00:00+00:00      0\n",
              "2020-02-09 00:00:00+00:00      0\n",
              "2020-02-16 00:00:00+00:00      0\n",
              "2020-02-23 00:00:00+00:00      0\n",
              "2020-03-01 00:00:00+00:00      0\n",
              "2020-03-08 00:00:00+00:00      0\n",
              "2020-03-15 00:00:00+00:00      0\n",
              "2020-03-22 00:00:00+00:00      0\n",
              "2020-03-29 00:00:00+00:00      0\n",
              "2020-04-05 00:00:00+00:00      0\n",
              "2020-04-12 00:00:00+00:00      0\n",
              "2020-04-19 00:00:00+00:00      0\n",
              "2020-04-26 00:00:00+00:00      0\n",
              "2020-05-03 00:00:00+00:00      0\n",
              "2020-05-10 00:00:00+00:00      0\n",
              "2020-05-17 00:00:00+00:00      1\n",
              "2020-05-24 00:00:00+00:00      0\n",
              "2020-05-31 00:00:00+00:00      4\n",
              "2020-06-07 00:00:00+00:00      3\n",
              "2020-06-14 00:00:00+00:00      2"
            ]
          },
          "metadata": {
            "tags": []
          },
          "execution_count": 116
        }
      ]
    },
    {
      "cell_type": "code",
      "metadata": {
        "id": "iFb8avcApvGE",
        "colab_type": "code",
        "colab": {
          "base_uri": "https://localhost:8080/",
          "height": 170
        },
        "outputId": "dad0044f-18c3-40ea-c294-6c8c0bb0db7d"
      },
      "source": [
        "week.astype(int)\n",
        "week.info()"
      ],
      "execution_count": 117,
      "outputs": [
        {
          "output_type": "stream",
          "text": [
            "<class 'pandas.core.frame.DataFrame'>\n",
            "DatetimeIndex: 54 entries, 2019-06-09 00:00:00+00:00 to 2020-06-14 00:00:00+00:00\n",
            "Freq: W-SUN\n",
            "Data columns (total 1 columns):\n",
            " #   Column  Non-Null Count  Dtype\n",
            "---  ------  --------------  -----\n",
            " 0   value   54 non-null     int64\n",
            "dtypes: int64(1)\n",
            "memory usage: 864.0 bytes\n"
          ],
          "name": "stdout"
        }
      ]
    },
    {
      "cell_type": "code",
      "metadata": {
        "id": "kg8PzC-PlR1S",
        "colab_type": "code",
        "colab": {}
      },
      "source": [
        "# month = df_repo_table_red.resample(\"M\").sum()\n",
        "# month"
      ],
      "execution_count": 118,
      "outputs": []
    },
    {
      "cell_type": "code",
      "metadata": {
        "id": "HmvLt_W3qSlJ",
        "colab_type": "code",
        "colab": {
          "base_uri": "https://localhost:8080/",
          "height": 471
        },
        "outputId": "7cbb19bb-8f81-4a81-c5a3-2cb4c6d2730f"
      },
      "source": [
        "alt.Chart(week.reset_index().melt(\"commit.author.date\")).mark_line(opacity=0.75, interpolate=\"basis\").encode(\n",
        "    x='commit.author.date',\n",
        "    y='value',\n",
        "    color='variable',\n",
        ").properties(width=800, height=400)"
      ],
      "execution_count": 119,
      "outputs": [
        {
          "output_type": "execute_result",
          "data": {
            "text/plain": [
              "alt.Chart(...)"
            ],
            "text/html": [
              "\n",
              "<div id=\"altair-viz-345113c3b17642419c0e3156d254bc1d\"></div>\n",
              "<script type=\"text/javascript\">\n",
              "  (function(spec, embedOpt){\n",
              "    let outputDiv = document.currentScript.previousElementSibling;\n",
              "    if (outputDiv.id !== \"altair-viz-345113c3b17642419c0e3156d254bc1d\") {\n",
              "      outputDiv = document.getElementById(\"altair-viz-345113c3b17642419c0e3156d254bc1d\");\n",
              "    }\n",
              "    const paths = {\n",
              "      \"vega\": \"https://cdn.jsdelivr.net/npm//vega@5?noext\",\n",
              "      \"vega-lib\": \"https://cdn.jsdelivr.net/npm//vega-lib?noext\",\n",
              "      \"vega-lite\": \"https://cdn.jsdelivr.net/npm//vega-lite@4.8.1?noext\",\n",
              "      \"vega-embed\": \"https://cdn.jsdelivr.net/npm//vega-embed@6?noext\",\n",
              "    };\n",
              "\n",
              "    function loadScript(lib) {\n",
              "      return new Promise(function(resolve, reject) {\n",
              "        var s = document.createElement('script');\n",
              "        s.src = paths[lib];\n",
              "        s.async = true;\n",
              "        s.onload = () => resolve(paths[lib]);\n",
              "        s.onerror = () => reject(`Error loading script: ${paths[lib]}`);\n",
              "        document.getElementsByTagName(\"head\")[0].appendChild(s);\n",
              "      });\n",
              "    }\n",
              "\n",
              "    function showError(err) {\n",
              "      outputDiv.innerHTML = `<div class=\"error\" style=\"color:red;\">${err}</div>`;\n",
              "      throw err;\n",
              "    }\n",
              "\n",
              "    function displayChart(vegaEmbed) {\n",
              "      vegaEmbed(outputDiv, spec, embedOpt)\n",
              "        .catch(err => showError(`Javascript Error: ${err.message}<br>This usually means there's a typo in your chart specification. See the javascript console for the full traceback.`));\n",
              "    }\n",
              "\n",
              "    if(typeof define === \"function\" && define.amd) {\n",
              "      requirejs.config({paths});\n",
              "      require([\"vega-embed\"], displayChart, err => showError(`Error loading script: ${err.message}`));\n",
              "    } else if (typeof vegaEmbed === \"function\") {\n",
              "      displayChart(vegaEmbed);\n",
              "    } else {\n",
              "      loadScript(\"vega\")\n",
              "        .then(() => loadScript(\"vega-lite\"))\n",
              "        .then(() => loadScript(\"vega-embed\"))\n",
              "        .catch(showError)\n",
              "        .then(() => displayChart(vegaEmbed));\n",
              "    }\n",
              "  })({\"config\": {\"view\": {\"continuousWidth\": 400, \"continuousHeight\": 300}}, \"data\": {\"name\": \"data-6aaac0cd4cbb81de08e33254dd4c5345\"}, \"mark\": {\"type\": \"line\", \"interpolate\": \"basis\", \"opacity\": 0.75}, \"encoding\": {\"color\": {\"type\": \"nominal\", \"field\": \"variable\"}, \"x\": {\"type\": \"temporal\", \"field\": \"commit.author.date\"}, \"y\": {\"type\": \"quantitative\", \"field\": \"value\"}}, \"height\": 400, \"width\": 800, \"$schema\": \"https://vega.github.io/schema/vega-lite/v4.8.1.json\", \"datasets\": {\"data-6aaac0cd4cbb81de08e33254dd4c5345\": [{\"commit.author.date\": \"2019-06-09T00:00:00+00:00\", \"variable\": \"value\", \"value\": 2}, {\"commit.author.date\": \"2019-06-16T00:00:00+00:00\", \"variable\": \"value\", \"value\": 0}, {\"commit.author.date\": \"2019-06-23T00:00:00+00:00\", \"variable\": \"value\", \"value\": 0}, {\"commit.author.date\": \"2019-06-30T00:00:00+00:00\", \"variable\": \"value\", \"value\": 0}, {\"commit.author.date\": \"2019-07-07T00:00:00+00:00\", \"variable\": \"value\", \"value\": 0}, {\"commit.author.date\": \"2019-07-14T00:00:00+00:00\", \"variable\": \"value\", \"value\": 0}, {\"commit.author.date\": \"2019-07-21T00:00:00+00:00\", \"variable\": \"value\", \"value\": 0}, {\"commit.author.date\": \"2019-07-28T00:00:00+00:00\", \"variable\": \"value\", \"value\": 0}, {\"commit.author.date\": \"2019-08-04T00:00:00+00:00\", \"variable\": \"value\", \"value\": 0}, {\"commit.author.date\": \"2019-08-11T00:00:00+00:00\", \"variable\": \"value\", \"value\": 0}, {\"commit.author.date\": \"2019-08-18T00:00:00+00:00\", \"variable\": \"value\", \"value\": 0}, {\"commit.author.date\": \"2019-08-25T00:00:00+00:00\", \"variable\": \"value\", \"value\": 0}, {\"commit.author.date\": \"2019-09-01T00:00:00+00:00\", \"variable\": \"value\", \"value\": 0}, {\"commit.author.date\": \"2019-09-08T00:00:00+00:00\", \"variable\": \"value\", \"value\": 0}, {\"commit.author.date\": \"2019-09-15T00:00:00+00:00\", \"variable\": \"value\", \"value\": 0}, {\"commit.author.date\": \"2019-09-22T00:00:00+00:00\", \"variable\": \"value\", \"value\": 0}, {\"commit.author.date\": \"2019-09-29T00:00:00+00:00\", \"variable\": \"value\", \"value\": 0}, {\"commit.author.date\": \"2019-10-06T00:00:00+00:00\", \"variable\": \"value\", \"value\": 6}, {\"commit.author.date\": \"2019-10-13T00:00:00+00:00\", \"variable\": \"value\", \"value\": 0}, {\"commit.author.date\": \"2019-10-20T00:00:00+00:00\", \"variable\": \"value\", \"value\": 0}, {\"commit.author.date\": \"2019-10-27T00:00:00+00:00\", \"variable\": \"value\", \"value\": 0}, {\"commit.author.date\": \"2019-11-03T00:00:00+00:00\", \"variable\": \"value\", \"value\": 0}, {\"commit.author.date\": \"2019-11-10T00:00:00+00:00\", \"variable\": \"value\", \"value\": 0}, {\"commit.author.date\": \"2019-11-17T00:00:00+00:00\", \"variable\": \"value\", \"value\": 0}, {\"commit.author.date\": \"2019-11-24T00:00:00+00:00\", \"variable\": \"value\", \"value\": 8}, {\"commit.author.date\": \"2019-12-01T00:00:00+00:00\", \"variable\": \"value\", \"value\": 1}, {\"commit.author.date\": \"2019-12-08T00:00:00+00:00\", \"variable\": \"value\", \"value\": 0}, {\"commit.author.date\": \"2019-12-15T00:00:00+00:00\", \"variable\": \"value\", \"value\": 3}, {\"commit.author.date\": \"2019-12-22T00:00:00+00:00\", \"variable\": \"value\", \"value\": 0}, {\"commit.author.date\": \"2019-12-29T00:00:00+00:00\", \"variable\": \"value\", \"value\": 0}, {\"commit.author.date\": \"2020-01-05T00:00:00+00:00\", \"variable\": \"value\", \"value\": 0}, {\"commit.author.date\": \"2020-01-12T00:00:00+00:00\", \"variable\": \"value\", \"value\": 0}, {\"commit.author.date\": \"2020-01-19T00:00:00+00:00\", \"variable\": \"value\", \"value\": 0}, {\"commit.author.date\": \"2020-01-26T00:00:00+00:00\", \"variable\": \"value\", \"value\": 0}, {\"commit.author.date\": \"2020-02-02T00:00:00+00:00\", \"variable\": \"value\", \"value\": 0}, {\"commit.author.date\": \"2020-02-09T00:00:00+00:00\", \"variable\": \"value\", \"value\": 0}, {\"commit.author.date\": \"2020-02-16T00:00:00+00:00\", \"variable\": \"value\", \"value\": 0}, {\"commit.author.date\": \"2020-02-23T00:00:00+00:00\", \"variable\": \"value\", \"value\": 0}, {\"commit.author.date\": \"2020-03-01T00:00:00+00:00\", \"variable\": \"value\", \"value\": 0}, {\"commit.author.date\": \"2020-03-08T00:00:00+00:00\", \"variable\": \"value\", \"value\": 0}, {\"commit.author.date\": \"2020-03-15T00:00:00+00:00\", \"variable\": \"value\", \"value\": 0}, {\"commit.author.date\": \"2020-03-22T00:00:00+00:00\", \"variable\": \"value\", \"value\": 0}, {\"commit.author.date\": \"2020-03-29T00:00:00+00:00\", \"variable\": \"value\", \"value\": 0}, {\"commit.author.date\": \"2020-04-05T00:00:00+00:00\", \"variable\": \"value\", \"value\": 0}, {\"commit.author.date\": \"2020-04-12T00:00:00+00:00\", \"variable\": \"value\", \"value\": 0}, {\"commit.author.date\": \"2020-04-19T00:00:00+00:00\", \"variable\": \"value\", \"value\": 0}, {\"commit.author.date\": \"2020-04-26T00:00:00+00:00\", \"variable\": \"value\", \"value\": 0}, {\"commit.author.date\": \"2020-05-03T00:00:00+00:00\", \"variable\": \"value\", \"value\": 0}, {\"commit.author.date\": \"2020-05-10T00:00:00+00:00\", \"variable\": \"value\", \"value\": 0}, {\"commit.author.date\": \"2020-05-17T00:00:00+00:00\", \"variable\": \"value\", \"value\": 1}, {\"commit.author.date\": \"2020-05-24T00:00:00+00:00\", \"variable\": \"value\", \"value\": 0}, {\"commit.author.date\": \"2020-05-31T00:00:00+00:00\", \"variable\": \"value\", \"value\": 4}, {\"commit.author.date\": \"2020-06-07T00:00:00+00:00\", \"variable\": \"value\", \"value\": 3}, {\"commit.author.date\": \"2020-06-14T00:00:00+00:00\", \"variable\": \"value\", \"value\": 2}]}}, {\"mode\": \"vega-lite\"});\n",
              "</script>"
            ]
          },
          "metadata": {
            "tags": []
          },
          "execution_count": 119
        }
      ]
    },
    {
      "cell_type": "code",
      "metadata": {
        "id": "a87bDzBAdMtl",
        "colab_type": "code",
        "colab": {
          "base_uri": "https://localhost:8080/",
          "height": 346
        },
        "outputId": "67044cd2-38de-4384-8446-4bd5607c2221"
      },
      "source": [
        "alt.Chart(df_repo_table_red).mark_circle(size=50).encode(\n",
        "    x='commit.author.date:T',\n",
        "    # y='value',\n",
        "    # y='value:Q',\n",
        "    # y='count(value):Q',\n",
        "    y='commit.author.name:Q',\n",
        "    color='commit.author.name:N',\n",
        "    # color='commit.author.name',\n",
        "    tooltip=['commit.author.name:N', 'commit.message:N']\n",
        ").interactive()"
      ],
      "execution_count": 120,
      "outputs": [
        {
          "output_type": "execute_result",
          "data": {
            "text/plain": [
              "alt.Chart(...)"
            ],
            "text/html": [
              "\n",
              "<div id=\"altair-viz-c6c644ec6139463f8c00ce80863a86a9\"></div>\n",
              "<script type=\"text/javascript\">\n",
              "  (function(spec, embedOpt){\n",
              "    let outputDiv = document.currentScript.previousElementSibling;\n",
              "    if (outputDiv.id !== \"altair-viz-c6c644ec6139463f8c00ce80863a86a9\") {\n",
              "      outputDiv = document.getElementById(\"altair-viz-c6c644ec6139463f8c00ce80863a86a9\");\n",
              "    }\n",
              "    const paths = {\n",
              "      \"vega\": \"https://cdn.jsdelivr.net/npm//vega@5?noext\",\n",
              "      \"vega-lib\": \"https://cdn.jsdelivr.net/npm//vega-lib?noext\",\n",
              "      \"vega-lite\": \"https://cdn.jsdelivr.net/npm//vega-lite@4.8.1?noext\",\n",
              "      \"vega-embed\": \"https://cdn.jsdelivr.net/npm//vega-embed@6?noext\",\n",
              "    };\n",
              "\n",
              "    function loadScript(lib) {\n",
              "      return new Promise(function(resolve, reject) {\n",
              "        var s = document.createElement('script');\n",
              "        s.src = paths[lib];\n",
              "        s.async = true;\n",
              "        s.onload = () => resolve(paths[lib]);\n",
              "        s.onerror = () => reject(`Error loading script: ${paths[lib]}`);\n",
              "        document.getElementsByTagName(\"head\")[0].appendChild(s);\n",
              "      });\n",
              "    }\n",
              "\n",
              "    function showError(err) {\n",
              "      outputDiv.innerHTML = `<div class=\"error\" style=\"color:red;\">${err}</div>`;\n",
              "      throw err;\n",
              "    }\n",
              "\n",
              "    function displayChart(vegaEmbed) {\n",
              "      vegaEmbed(outputDiv, spec, embedOpt)\n",
              "        .catch(err => showError(`Javascript Error: ${err.message}<br>This usually means there's a typo in your chart specification. See the javascript console for the full traceback.`));\n",
              "    }\n",
              "\n",
              "    if(typeof define === \"function\" && define.amd) {\n",
              "      requirejs.config({paths});\n",
              "      require([\"vega-embed\"], displayChart, err => showError(`Error loading script: ${err.message}`));\n",
              "    } else if (typeof vegaEmbed === \"function\") {\n",
              "      displayChart(vegaEmbed);\n",
              "    } else {\n",
              "      loadScript(\"vega\")\n",
              "        .then(() => loadScript(\"vega-lite\"))\n",
              "        .then(() => loadScript(\"vega-embed\"))\n",
              "        .catch(showError)\n",
              "        .then(() => displayChart(vegaEmbed));\n",
              "    }\n",
              "  })({\"config\": {\"view\": {\"continuousWidth\": 400, \"continuousHeight\": 300}}, \"data\": {\"name\": \"data-697f03b1f692210d8c315aad1dda2fb1\"}, \"mark\": {\"type\": \"circle\", \"size\": 50}, \"encoding\": {\"color\": {\"type\": \"nominal\", \"field\": \"commit.author.name\"}, \"tooltip\": [{\"type\": \"nominal\", \"field\": \"commit.author.name\"}, {\"type\": \"nominal\", \"field\": \"commit.message\"}], \"x\": {\"type\": \"temporal\", \"field\": \"commit.author.date\"}, \"y\": {\"type\": \"quantitative\", \"field\": \"commit.author.name\"}}, \"selection\": {\"selector008\": {\"type\": \"interval\", \"bind\": \"scales\", \"encodings\": [\"x\", \"y\"]}}, \"$schema\": \"https://vega.github.io/schema/vega-lite/v4.8.1.json\", \"datasets\": {\"data-697f03b1f692210d8c315aad1dda2fb1\": [{\"node_id\": \"MDY6Q29tbWl0MTA1NzAyNjMxOjk2ODA4MWQ2MWI2YWJlMThjZDBkYzE0YTQyNzA0YWZkZjQ4MzE3MDg=\", \"commit.author.name\": \"Vince Picone\", \"commit.message\": \"5.0.0\", \"value\": 1}, {\"node_id\": \"MDY6Q29tbWl0MTA1NzAyNjMxOmNkNDZkMGM0ZDUwNzQ3MzY5NTBkMzJhZTJmNjJkMGFlMTdmYTAxZDQ=\", \"commit.author.name\": \"Vince Picone\", \"commit.message\": \"Merge pull request #315 from vpicone/cross-language-update\", \"value\": 1}, {\"node_id\": \"MDY6Q29tbWl0MTA1NzAyNjMxOmUxMzFjODY0ZDdjZjUwMDgyOGNkMDhiZTY1N2RlNDgyOTg4MGYxOTc=\", \"commit.author.name\": \"Vince Picone\", \"commit.message\": \"fix: tweak zip script to handle korean and variable\", \"value\": 1}, {\"node_id\": \"MDY6Q29tbWl0MTA1NzAyNjMxOjYxMmI4NzhlMDFlMzFlYzIyMTAxN2Q5NzNlZWUxZGY1MzA3ODVhMmQ=\", \"commit.author.name\": \"Vince Picone\", \"commit.message\": \"fix: temporarily exclude korean from zip\", \"value\": 1}, {\"node_id\": \"MDY6Q29tbWl0MTA1NzAyNjMxOmFkNWNkN2ZlZGRkZWIxMjYzNjAzNWFjYjZkOWJlYTliNTAwY2E3MDk=\", \"commit.author.name\": \"Vince Picone\", \"commit.message\": \"feat: add korean\", \"value\": 1}, {\"node_id\": \"MDY6Q29tbWl0MTA1NzAyNjMxOjIyYTlhMzllMDcwYjJlZmRhMDIyNWIyMzBkZTA5NDRiZmE4OTM5M2Y=\", \"commit.author.name\": \"Vince Picone\", \"commit.message\": \"fix: change internal family name for condensed, add glyphs\", \"value\": 1}, {\"node_id\": \"MDY6Q29tbWl0MTA1NzAyNjMxOjFjNjU0ZDQwMzYwY2Q1NTkxNTdiOGZkNjkwNGU4NjJlODA1NzljOTM=\", \"commit.author.name\": \"Vince Picone\", \"commit.message\": \"fix(Serif): vertical metrics and glyph additions\", \"value\": 1}, {\"node_id\": \"MDY6Q29tbWl0MTA1NzAyNjMxOjc2YzM0MTgxOTM5OGU1MzM4YTBkZTZhYjA2MmZkYjNmYzE1MzFkYmY=\", \"commit.author.name\": \"Vince Picone\", \"commit.message\": \"fix(Sans): new glyphs, fixed vertical metrics\", \"value\": 1}, {\"node_id\": \"MDY6Q29tbWl0MTA1NzAyNjMxOjNjM2UwMGUzYjA4OWEwY2M5YWNjMDRlMzY2ZDY4NjJhNTA2YmVlOTE=\", \"commit.author.name\": \"Vince Picone\", \"commit.message\": \"feat: mono update\", \"value\": 1}, {\"node_id\": \"MDY6Q29tbWl0MTA1NzAyNjMxOjZhM2MwOTE3ODAzNWQyY2MwNTAzYWNkMzVjNjRkNmY2ZGFmYjRiNzc=\", \"commit.author.name\": \"LMapes\", \"commit.message\": \"Update README.md (#310)\\n\\n* Update README.md\\n\\nThis change includes new non-Latin fonts and updates content based on the IBM Style guide.\\n\\n* Update README.md\\n\\nHi Vince, this is ready to merge now.\\n\\n* Update README.md\\n\\nChange to one sentence per Mike Abbink.\", \"value\": 1}, {\"node_id\": \"MDY6Q29tbWl0MTA1NzAyNjMxOmVmMGFiNDk5ODMyOWUxN2UzNGU5YWFhMzAxYjNlYmJlNDAzNWQ3MDk=\", \"commit.author.name\": \"Vince Picone\", \"commit.message\": \"4.0.2\", \"value\": 1}, {\"node_id\": \"MDY6Q29tbWl0MTA1NzAyNjMxOmVjZTkzZmIyMzEwYjc5MWJmMjI5YTZmNGE5NGY3MTk1ZjMwMGJhN2Y=\", \"commit.author.name\": \"Vince Picone\", \"commit.message\": \"fix: update using new hebrew fixes (#289)\\n\\nfix: update using new hebrew fixes\", \"value\": 1}, {\"node_id\": \"MDY6Q29tbWl0MTA1NzAyNjMxOjYzYTk0YWQzYjE0M2VlMDQ2ZGJjNzA1MDRmMGFkOTM0MGMwNWY1ZjQ=\", \"commit.author.name\": \"Vince Picone\", \"commit.message\": \"fix: update using new hebrew fixes\", \"value\": 1}, {\"node_id\": \"MDY6Q29tbWl0MTA1NzAyNjMxOmUxNjVkYmMxNGIwNDdjYTc0YjMyZTQ1YzlkYTZkYzI2MjU0MDVmZTU=\", \"commit.author.name\": \"Vince Picone\", \"commit.message\": \"Update README.md\", \"value\": 1}, {\"node_id\": \"MDY6Q29tbWl0MTA1NzAyNjMxOjY2ZGJkZTQwODA4YzRkZmE0OTllN2NmOTg4MmFiNGY1YjY3YTdiN2U=\", \"commit.author.name\": \"Mike Abbink\", \"commit.message\": \"Update README.md\", \"value\": 1}, {\"node_id\": \"MDY6Q29tbWl0MTA1NzAyNjMxOjU0OWRlOWM3Zjk4MWI0MDU2ZjU2YzhlNjE4ZTdmZjgyNGUxYjQwMDA=\", \"commit.author.name\": \"Vince Picone\", \"commit.message\": \"Update CHANGELOG.md\", \"value\": 1}, {\"node_id\": \"MDY6Q29tbWl0MTA1NzAyNjMxOjc0YTQ5OTA4MWQwNGNhOThjOWRmYzI2ZWNmYTI5ZjljZTFmZDk1NmE=\", \"commit.author.name\": \"Vince Picone\", \"commit.message\": \"Update CHANGELOG.md\", \"value\": 1}, {\"node_id\": \"MDY6Q29tbWl0MTA1NzAyNjMxOmU4MDVlYjQxMDZlYzdlYTAxOTE2ZGNlOTAxMmZjNzViODQ2OThlNjA=\", \"commit.author.name\": \"Vince Picone\", \"commit.message\": \"4.0.1\", \"value\": 1}, {\"node_id\": \"MDY6Q29tbWl0MTA1NzAyNjMxOjg3N2NkMzMxYTcwNzg2NGQ3MGFmOWFiYzM1NDFmNmZkOTM1NzFkYTM=\", \"commit.author.name\": \"Vince Picone\", \"commit.message\": \"4.0.0\", \"value\": 1}, {\"node_id\": \"MDY6Q29tbWl0MTA1NzAyNjMxOjcwYThiNDBjNzc1ZGY0NGZkOWFhMmQ0NmFjY2RkYzFkMzlkZjk5OGE=\", \"commit.author.name\": \"Vince Picone\", \"commit.message\": \"breaking: update  arabic family name to include sans (#286)\\n\\nbreaking: update  arabic family name to include sans\", \"value\": 1}, {\"node_id\": \"MDY6Q29tbWl0MTA1NzAyNjMxOmIzNGM1MTU5NTU5Yjg2YjIxYTc1YzBmOWI1NzA5MGU3OTQxMzZiNzk=\", \"commit.author.name\": \"Vince Picone\", \"commit.message\": \"Update README.md (#222)\\n\\nUpdate README.md\", \"value\": 1}, {\"node_id\": \"MDY6Q29tbWl0MTA1NzAyNjMxOjIxZDk0YmU3MWJlNTkyN2VhMWRkOGRjNzA0ZGM1OTc0NDdhM2M5NGE=\", \"commit.author.name\": \"Vince Picone\", \"commit.message\": \"breaking: update  arabic family name to include sans\", \"value\": 1}, {\"node_id\": \"MDY6Q29tbWl0MTA1NzAyNjMxOmY1MWQwNzIwMGFlNTRjYWVkMTFkYTRkZTE0MDE0MmVkNjFhZjFiZTM=\", \"commit.author.name\": \"Vince Picone\", \"commit.message\": \"3.0.0\", \"value\": 1}, {\"node_id\": \"MDY6Q29tbWl0MTA1NzAyNjMxOjVjYmE2MjFlZjdjZjgyZDgxM2EwZTc5NGQ3NzhmNGM2MDVhYWZkNTE=\", \"commit.author.name\": \"Vince Picone\", \"commit.message\": \"Devanagari thai update (#277)\\n\\nDevanagari thai update\", \"value\": 1}, {\"node_id\": \"MDY6Q29tbWl0MTA1NzAyNjMxOjBlNTY0NjMyYzBkOTM1NWY3OGFiNTM2YzUyNGEyZWFiZDY4ZjM4MTY=\", \"commit.author.name\": \"Vince Picone\", \"commit.message\": \"fix: thai file names\", \"value\": 1}, {\"node_id\": \"MDY6Q29tbWl0MTA1NzAyNjMxOjcyZWRjMDFhMmY2NmRjNTJmM2JiZGUzZDVmNTk5ZmMyODQ5MmNmOWI=\", \"commit.author.name\": \"Vince Picone\", \"commit.message\": \"chore: add changelog\", \"value\": 1}, {\"node_id\": \"MDY6Q29tbWl0MTA1NzAyNjMxOjQ4MDMxMDZjMzFlNjRkMDE1N2JhY2ZkMjk4OTBlZDUzYjAyZjEzYjQ=\", \"commit.author.name\": \"Vince Picone\", \"commit.message\": \"fix: add Sans to extralight and semibold weights for thai\", \"value\": 1}, {\"node_id\": \"MDY6Q29tbWl0MTA1NzAyNjMxOjIyMjRiNTdhODAxNGM4M2EyMzA2ZDU4OWM0YTFhM2IyNGZlNmEwYjc=\", \"commit.author.name\": \"Vince Picone\", \"commit.message\": \"breaking: update thai and devanagari typeface names and font files\", \"value\": 1}, {\"node_id\": \"MDY6Q29tbWl0MTA1NzAyNjMxOmJlNjY2MjgwZDA0MmZlN2MzZjE4NTgxMzM4YTY4YmMwMjU4ZDA5NmE=\", \"commit.author.name\": \"Vince Picone\", \"commit.message\": \"Update CHANGELOG.md\", \"value\": 1}, {\"node_id\": \"MDY6Q29tbWl0MTA1NzAyNjMxOjM0ZWRmN2JhMTZlOGMyZjZkY2JmYmJmMGFiYmU3MDViZmIzMGUwYjM=\", \"commit.author.name\": \"Vince Picone\", \"commit.message\": \"2.0.0\", \"value\": 1}]}}, {\"mode\": \"vega-lite\"});\n",
              "</script>"
            ]
          },
          "metadata": {
            "tags": []
          },
          "execution_count": 120
        }
      ]
    },
    {
      "cell_type": "code",
      "metadata": {
        "id": "LfHZ80vUdyJ8",
        "colab_type": "code",
        "colab": {
          "base_uri": "https://localhost:8080/",
          "height": 331
        },
        "outputId": "63065140-1c4e-4958-abc3-382d48f25e5a"
      },
      "source": [
        "alt.Chart(df_repo_table_red).mark_area().encode(\n",
        "    alt.X('month(commit.author.date):T',\n",
        "        axis=alt.Axis(format='%M', domain=False, tickSize=0)\n",
        "    ),\n",
        "    alt.Y('sum(commit.author.name):Q', stack='center', axis=None),\n",
        "    alt.Color('commit.author.name:N',\n",
        "        scale=alt.Scale(scheme='category20b')\n",
        "    )\n",
        ").interactive()"
      ],
      "execution_count": 121,
      "outputs": [
        {
          "output_type": "execute_result",
          "data": {
            "text/plain": [
              "alt.Chart(...)"
            ],
            "text/html": [
              "\n",
              "<div id=\"altair-viz-b879217c93f842c99972a91eabcd22da\"></div>\n",
              "<script type=\"text/javascript\">\n",
              "  (function(spec, embedOpt){\n",
              "    let outputDiv = document.currentScript.previousElementSibling;\n",
              "    if (outputDiv.id !== \"altair-viz-b879217c93f842c99972a91eabcd22da\") {\n",
              "      outputDiv = document.getElementById(\"altair-viz-b879217c93f842c99972a91eabcd22da\");\n",
              "    }\n",
              "    const paths = {\n",
              "      \"vega\": \"https://cdn.jsdelivr.net/npm//vega@5?noext\",\n",
              "      \"vega-lib\": \"https://cdn.jsdelivr.net/npm//vega-lib?noext\",\n",
              "      \"vega-lite\": \"https://cdn.jsdelivr.net/npm//vega-lite@4.8.1?noext\",\n",
              "      \"vega-embed\": \"https://cdn.jsdelivr.net/npm//vega-embed@6?noext\",\n",
              "    };\n",
              "\n",
              "    function loadScript(lib) {\n",
              "      return new Promise(function(resolve, reject) {\n",
              "        var s = document.createElement('script');\n",
              "        s.src = paths[lib];\n",
              "        s.async = true;\n",
              "        s.onload = () => resolve(paths[lib]);\n",
              "        s.onerror = () => reject(`Error loading script: ${paths[lib]}`);\n",
              "        document.getElementsByTagName(\"head\")[0].appendChild(s);\n",
              "      });\n",
              "    }\n",
              "\n",
              "    function showError(err) {\n",
              "      outputDiv.innerHTML = `<div class=\"error\" style=\"color:red;\">${err}</div>`;\n",
              "      throw err;\n",
              "    }\n",
              "\n",
              "    function displayChart(vegaEmbed) {\n",
              "      vegaEmbed(outputDiv, spec, embedOpt)\n",
              "        .catch(err => showError(`Javascript Error: ${err.message}<br>This usually means there's a typo in your chart specification. See the javascript console for the full traceback.`));\n",
              "    }\n",
              "\n",
              "    if(typeof define === \"function\" && define.amd) {\n",
              "      requirejs.config({paths});\n",
              "      require([\"vega-embed\"], displayChart, err => showError(`Error loading script: ${err.message}`));\n",
              "    } else if (typeof vegaEmbed === \"function\") {\n",
              "      displayChart(vegaEmbed);\n",
              "    } else {\n",
              "      loadScript(\"vega\")\n",
              "        .then(() => loadScript(\"vega-lite\"))\n",
              "        .then(() => loadScript(\"vega-embed\"))\n",
              "        .catch(showError)\n",
              "        .then(() => displayChart(vegaEmbed));\n",
              "    }\n",
              "  })({\"config\": {\"view\": {\"continuousWidth\": 400, \"continuousHeight\": 300}}, \"data\": {\"name\": \"data-697f03b1f692210d8c315aad1dda2fb1\"}, \"mark\": \"area\", \"encoding\": {\"color\": {\"type\": \"nominal\", \"field\": \"commit.author.name\", \"scale\": {\"scheme\": \"category20b\"}}, \"x\": {\"type\": \"temporal\", \"axis\": {\"domain\": false, \"format\": \"%M\", \"tickSize\": 0}, \"field\": \"commit.author.date\", \"timeUnit\": \"month\"}, \"y\": {\"type\": \"quantitative\", \"aggregate\": \"sum\", \"axis\": null, \"field\": \"commit.author.name\", \"stack\": \"center\"}}, \"selection\": {\"selector009\": {\"type\": \"interval\", \"bind\": \"scales\", \"encodings\": [\"x\", \"y\"]}}, \"$schema\": \"https://vega.github.io/schema/vega-lite/v4.8.1.json\", \"datasets\": {\"data-697f03b1f692210d8c315aad1dda2fb1\": [{\"node_id\": \"MDY6Q29tbWl0MTA1NzAyNjMxOjk2ODA4MWQ2MWI2YWJlMThjZDBkYzE0YTQyNzA0YWZkZjQ4MzE3MDg=\", \"commit.author.name\": \"Vince Picone\", \"commit.message\": \"5.0.0\", \"value\": 1}, {\"node_id\": \"MDY6Q29tbWl0MTA1NzAyNjMxOmNkNDZkMGM0ZDUwNzQ3MzY5NTBkMzJhZTJmNjJkMGFlMTdmYTAxZDQ=\", \"commit.author.name\": \"Vince Picone\", \"commit.message\": \"Merge pull request #315 from vpicone/cross-language-update\", \"value\": 1}, {\"node_id\": \"MDY6Q29tbWl0MTA1NzAyNjMxOmUxMzFjODY0ZDdjZjUwMDgyOGNkMDhiZTY1N2RlNDgyOTg4MGYxOTc=\", \"commit.author.name\": \"Vince Picone\", \"commit.message\": \"fix: tweak zip script to handle korean and variable\", \"value\": 1}, {\"node_id\": \"MDY6Q29tbWl0MTA1NzAyNjMxOjYxMmI4NzhlMDFlMzFlYzIyMTAxN2Q5NzNlZWUxZGY1MzA3ODVhMmQ=\", \"commit.author.name\": \"Vince Picone\", \"commit.message\": \"fix: temporarily exclude korean from zip\", \"value\": 1}, {\"node_id\": \"MDY6Q29tbWl0MTA1NzAyNjMxOmFkNWNkN2ZlZGRkZWIxMjYzNjAzNWFjYjZkOWJlYTliNTAwY2E3MDk=\", \"commit.author.name\": \"Vince Picone\", \"commit.message\": \"feat: add korean\", \"value\": 1}, {\"node_id\": \"MDY6Q29tbWl0MTA1NzAyNjMxOjIyYTlhMzllMDcwYjJlZmRhMDIyNWIyMzBkZTA5NDRiZmE4OTM5M2Y=\", \"commit.author.name\": \"Vince Picone\", \"commit.message\": \"fix: change internal family name for condensed, add glyphs\", \"value\": 1}, {\"node_id\": \"MDY6Q29tbWl0MTA1NzAyNjMxOjFjNjU0ZDQwMzYwY2Q1NTkxNTdiOGZkNjkwNGU4NjJlODA1NzljOTM=\", \"commit.author.name\": \"Vince Picone\", \"commit.message\": \"fix(Serif): vertical metrics and glyph additions\", \"value\": 1}, {\"node_id\": \"MDY6Q29tbWl0MTA1NzAyNjMxOjc2YzM0MTgxOTM5OGU1MzM4YTBkZTZhYjA2MmZkYjNmYzE1MzFkYmY=\", \"commit.author.name\": \"Vince Picone\", \"commit.message\": \"fix(Sans): new glyphs, fixed vertical metrics\", \"value\": 1}, {\"node_id\": \"MDY6Q29tbWl0MTA1NzAyNjMxOjNjM2UwMGUzYjA4OWEwY2M5YWNjMDRlMzY2ZDY4NjJhNTA2YmVlOTE=\", \"commit.author.name\": \"Vince Picone\", \"commit.message\": \"feat: mono update\", \"value\": 1}, {\"node_id\": \"MDY6Q29tbWl0MTA1NzAyNjMxOjZhM2MwOTE3ODAzNWQyY2MwNTAzYWNkMzVjNjRkNmY2ZGFmYjRiNzc=\", \"commit.author.name\": \"LMapes\", \"commit.message\": \"Update README.md (#310)\\n\\n* Update README.md\\n\\nThis change includes new non-Latin fonts and updates content based on the IBM Style guide.\\n\\n* Update README.md\\n\\nHi Vince, this is ready to merge now.\\n\\n* Update README.md\\n\\nChange to one sentence per Mike Abbink.\", \"value\": 1}, {\"node_id\": \"MDY6Q29tbWl0MTA1NzAyNjMxOmVmMGFiNDk5ODMyOWUxN2UzNGU5YWFhMzAxYjNlYmJlNDAzNWQ3MDk=\", \"commit.author.name\": \"Vince Picone\", \"commit.message\": \"4.0.2\", \"value\": 1}, {\"node_id\": \"MDY6Q29tbWl0MTA1NzAyNjMxOmVjZTkzZmIyMzEwYjc5MWJmMjI5YTZmNGE5NGY3MTk1ZjMwMGJhN2Y=\", \"commit.author.name\": \"Vince Picone\", \"commit.message\": \"fix: update using new hebrew fixes (#289)\\n\\nfix: update using new hebrew fixes\", \"value\": 1}, {\"node_id\": \"MDY6Q29tbWl0MTA1NzAyNjMxOjYzYTk0YWQzYjE0M2VlMDQ2ZGJjNzA1MDRmMGFkOTM0MGMwNWY1ZjQ=\", \"commit.author.name\": \"Vince Picone\", \"commit.message\": \"fix: update using new hebrew fixes\", \"value\": 1}, {\"node_id\": \"MDY6Q29tbWl0MTA1NzAyNjMxOmUxNjVkYmMxNGIwNDdjYTc0YjMyZTQ1YzlkYTZkYzI2MjU0MDVmZTU=\", \"commit.author.name\": \"Vince Picone\", \"commit.message\": \"Update README.md\", \"value\": 1}, {\"node_id\": \"MDY6Q29tbWl0MTA1NzAyNjMxOjY2ZGJkZTQwODA4YzRkZmE0OTllN2NmOTg4MmFiNGY1YjY3YTdiN2U=\", \"commit.author.name\": \"Mike Abbink\", \"commit.message\": \"Update README.md\", \"value\": 1}, {\"node_id\": \"MDY6Q29tbWl0MTA1NzAyNjMxOjU0OWRlOWM3Zjk4MWI0MDU2ZjU2YzhlNjE4ZTdmZjgyNGUxYjQwMDA=\", \"commit.author.name\": \"Vince Picone\", \"commit.message\": \"Update CHANGELOG.md\", \"value\": 1}, {\"node_id\": \"MDY6Q29tbWl0MTA1NzAyNjMxOjc0YTQ5OTA4MWQwNGNhOThjOWRmYzI2ZWNmYTI5ZjljZTFmZDk1NmE=\", \"commit.author.name\": \"Vince Picone\", \"commit.message\": \"Update CHANGELOG.md\", \"value\": 1}, {\"node_id\": \"MDY6Q29tbWl0MTA1NzAyNjMxOmU4MDVlYjQxMDZlYzdlYTAxOTE2ZGNlOTAxMmZjNzViODQ2OThlNjA=\", \"commit.author.name\": \"Vince Picone\", \"commit.message\": \"4.0.1\", \"value\": 1}, {\"node_id\": \"MDY6Q29tbWl0MTA1NzAyNjMxOjg3N2NkMzMxYTcwNzg2NGQ3MGFmOWFiYzM1NDFmNmZkOTM1NzFkYTM=\", \"commit.author.name\": \"Vince Picone\", \"commit.message\": \"4.0.0\", \"value\": 1}, {\"node_id\": \"MDY6Q29tbWl0MTA1NzAyNjMxOjcwYThiNDBjNzc1ZGY0NGZkOWFhMmQ0NmFjY2RkYzFkMzlkZjk5OGE=\", \"commit.author.name\": \"Vince Picone\", \"commit.message\": \"breaking: update  arabic family name to include sans (#286)\\n\\nbreaking: update  arabic family name to include sans\", \"value\": 1}, {\"node_id\": \"MDY6Q29tbWl0MTA1NzAyNjMxOmIzNGM1MTU5NTU5Yjg2YjIxYTc1YzBmOWI1NzA5MGU3OTQxMzZiNzk=\", \"commit.author.name\": \"Vince Picone\", \"commit.message\": \"Update README.md (#222)\\n\\nUpdate README.md\", \"value\": 1}, {\"node_id\": \"MDY6Q29tbWl0MTA1NzAyNjMxOjIxZDk0YmU3MWJlNTkyN2VhMWRkOGRjNzA0ZGM1OTc0NDdhM2M5NGE=\", \"commit.author.name\": \"Vince Picone\", \"commit.message\": \"breaking: update  arabic family name to include sans\", \"value\": 1}, {\"node_id\": \"MDY6Q29tbWl0MTA1NzAyNjMxOmY1MWQwNzIwMGFlNTRjYWVkMTFkYTRkZTE0MDE0MmVkNjFhZjFiZTM=\", \"commit.author.name\": \"Vince Picone\", \"commit.message\": \"3.0.0\", \"value\": 1}, {\"node_id\": \"MDY6Q29tbWl0MTA1NzAyNjMxOjVjYmE2MjFlZjdjZjgyZDgxM2EwZTc5NGQ3NzhmNGM2MDVhYWZkNTE=\", \"commit.author.name\": \"Vince Picone\", \"commit.message\": \"Devanagari thai update (#277)\\n\\nDevanagari thai update\", \"value\": 1}, {\"node_id\": \"MDY6Q29tbWl0MTA1NzAyNjMxOjBlNTY0NjMyYzBkOTM1NWY3OGFiNTM2YzUyNGEyZWFiZDY4ZjM4MTY=\", \"commit.author.name\": \"Vince Picone\", \"commit.message\": \"fix: thai file names\", \"value\": 1}, {\"node_id\": \"MDY6Q29tbWl0MTA1NzAyNjMxOjcyZWRjMDFhMmY2NmRjNTJmM2JiZGUzZDVmNTk5ZmMyODQ5MmNmOWI=\", \"commit.author.name\": \"Vince Picone\", \"commit.message\": \"chore: add changelog\", \"value\": 1}, {\"node_id\": \"MDY6Q29tbWl0MTA1NzAyNjMxOjQ4MDMxMDZjMzFlNjRkMDE1N2JhY2ZkMjk4OTBlZDUzYjAyZjEzYjQ=\", \"commit.author.name\": \"Vince Picone\", \"commit.message\": \"fix: add Sans to extralight and semibold weights for thai\", \"value\": 1}, {\"node_id\": \"MDY6Q29tbWl0MTA1NzAyNjMxOjIyMjRiNTdhODAxNGM4M2EyMzA2ZDU4OWM0YTFhM2IyNGZlNmEwYjc=\", \"commit.author.name\": \"Vince Picone\", \"commit.message\": \"breaking: update thai and devanagari typeface names and font files\", \"value\": 1}, {\"node_id\": \"MDY6Q29tbWl0MTA1NzAyNjMxOmJlNjY2MjgwZDA0MmZlN2MzZjE4NTgxMzM4YTY4YmMwMjU4ZDA5NmE=\", \"commit.author.name\": \"Vince Picone\", \"commit.message\": \"Update CHANGELOG.md\", \"value\": 1}, {\"node_id\": \"MDY6Q29tbWl0MTA1NzAyNjMxOjM0ZWRmN2JhMTZlOGMyZjZkY2JmYmJmMGFiYmU3MDViZmIzMGUwYjM=\", \"commit.author.name\": \"Vince Picone\", \"commit.message\": \"2.0.0\", \"value\": 1}]}}, {\"mode\": \"vega-lite\"});\n",
              "</script>"
            ]
          },
          "metadata": {
            "tags": []
          },
          "execution_count": 121
        }
      ]
    },
    {
      "cell_type": "code",
      "metadata": {
        "id": "j7NDSL7Preil",
        "colab_type": "code",
        "colab": {
          "base_uri": "https://localhost:8080/",
          "height": 173
        },
        "outputId": "257c93aa-2272-4fd5-9585-3a45b87e2b36"
      },
      "source": [
        "df_repo_table_red_groupby_name = df_repo_table_red.groupby('commit.author.name').count()\n",
        "df_repo_table_red_groupby_name"
      ],
      "execution_count": 122,
      "outputs": [
        {
          "output_type": "execute_result",
          "data": {
            "text/html": [
              "<div>\n",
              "<style scoped>\n",
              "    .dataframe tbody tr th:only-of-type {\n",
              "        vertical-align: middle;\n",
              "    }\n",
              "\n",
              "    .dataframe tbody tr th {\n",
              "        vertical-align: top;\n",
              "    }\n",
              "\n",
              "    .dataframe thead th {\n",
              "        text-align: right;\n",
              "    }\n",
              "</style>\n",
              "<table border=\"1\" class=\"dataframe\">\n",
              "  <thead>\n",
              "    <tr style=\"text-align: right;\">\n",
              "      <th></th>\n",
              "      <th>node_id</th>\n",
              "      <th>commit.message</th>\n",
              "      <th>value</th>\n",
              "    </tr>\n",
              "    <tr>\n",
              "      <th>commit.author.name</th>\n",
              "      <th></th>\n",
              "      <th></th>\n",
              "      <th></th>\n",
              "    </tr>\n",
              "  </thead>\n",
              "  <tbody>\n",
              "    <tr>\n",
              "      <th>LMapes</th>\n",
              "      <td>1</td>\n",
              "      <td>1</td>\n",
              "      <td>1</td>\n",
              "    </tr>\n",
              "    <tr>\n",
              "      <th>Mike Abbink</th>\n",
              "      <td>1</td>\n",
              "      <td>1</td>\n",
              "      <td>1</td>\n",
              "    </tr>\n",
              "    <tr>\n",
              "      <th>Vince Picone</th>\n",
              "      <td>28</td>\n",
              "      <td>28</td>\n",
              "      <td>28</td>\n",
              "    </tr>\n",
              "  </tbody>\n",
              "</table>\n",
              "</div>"
            ],
            "text/plain": [
              "                    node_id  commit.message  value\n",
              "commit.author.name                                \n",
              "LMapes                    1               1      1\n",
              "Mike Abbink               1               1      1\n",
              "Vince Picone             28              28     28"
            ]
          },
          "metadata": {
            "tags": []
          },
          "execution_count": 122
        }
      ]
    },
    {
      "cell_type": "markdown",
      "metadata": {
        "id": "y0b7ARaR4KIz",
        "colab_type": "text"
      },
      "source": [
        "## Second use case\n",
        "\n",
        "The second use case — analyse and comperison of UFO font files"
      ]
    },
    {
      "cell_type": "markdown",
      "metadata": {
        "id": "pPSPH2kmURvB",
        "colab_type": "text"
      },
      "source": [
        "xml\n",
        "\n",
        "https://colab.research.google.com/drive/1u4gucw1Lndk_Wpuo3pAhojEUp5iiq19u\n",
        "\n",
        "https://docs.python.org/2/library/xml.etree.elementtree.html\n",
        "\n",
        "ufo\n",
        "\n",
        "http://unifiedfontobject.org/versions/ufo3/"
      ]
    },
    {
      "cell_type": "code",
      "metadata": {
        "id": "MwwvtW8nvQBi",
        "colab_type": "code",
        "colab": {}
      },
      "source": [
        "import xml.etree.ElementTree as ET\n",
        "import requests"
      ],
      "execution_count": 123,
      "outputs": []
    },
    {
      "cell_type": "markdown",
      "metadata": {
        "id": "wQgMF0JcT4xl",
        "colab_type": "text"
      },
      "source": [
        "In order to test it I've upload each lip.plist file from all 3 versions via url to compare amount of glyphs"
      ]
    },
    {
      "cell_type": "code",
      "metadata": {
        "id": "9hpzDl_ESUhs",
        "colab_type": "code",
        "colab": {}
      },
      "source": [
        "url_ver3_1 = 'https://raw.githubusercontent.com/kuzminadya/FHP-infovis-py/master/ufo/2020.04.11mogeefont-v3.1.ufo/lib.plist'\n",
        "url_ver3_2 = 'https://raw.githubusercontent.com/kuzminadya/FHP-infovis-py/master/ufo/2020.04.12mogeefont-v3.2.ufo/lib.plist'\n",
        "url_ver3_3 = 'https://raw.githubusercontent.com/kuzminadya/FHP-infovis-py/master/ufo/2020.04.13mogeefont-v3.3.ufo/lib.plist'\n",
        "url_ver3_4 = 'https://raw.githubusercontent.com/kuzminadya/FHP-infovis-py/master/ufo/2020.04.13mogeefont-v3.4.ufo/lib.plist'"
      ],
      "execution_count": 124,
      "outputs": []
    },
    {
      "cell_type": "code",
      "metadata": {
        "id": "WcEk6eXQWJgA",
        "colab_type": "code",
        "colab": {
          "base_uri": "https://localhost:8080/",
          "height": 54
        },
        "outputId": "5096d4b6-1f24-434d-968b-93c342839b0d"
      },
      "source": [
        "response_ver3 = requests.get(url_ver3_1)\n",
        "ufo3_1_xml = response_ver3.text\n",
        "ufo3_1_xml"
      ],
      "execution_count": 125,
      "outputs": [
        {
          "output_type": "execute_result",
          "data": {
            "text/plain": [
              "'<?xml version=\"1.0\" encoding=\"UTF-8\"?>\\n<!DOCTYPE plist PUBLIC \"-//Apple Computer//DTD PLIST 1.0//EN\" \"http://www.apple.com/DTDs/PropertyList-1.0.dtd\">\\n<plist version=\"1.0\">\\n<dict>\\n\\t<key>com.schriftgestaltung.disablesAutomaticAlignment</key>\\n\\t<true/>\\n\\t<key>com.schriftgestaltung.font.customParameters</key>\\n\\t<array>\\n\\t\\t<dict>\\n\\t\\t\\t<key>name</key>\\n\\t\\t\\t<string>glyphOrder</string>\\n\\t\\t\\t<key>value</key>\\n\\t\\t\\t<array>\\n\\t\\t\\t\\t<string>space</string>\\n\\t\\t\\t\\t<string>exclam</string>\\n\\t\\t\\t\\t<string>quotesingle</string>\\n\\t\\t\\t\\t<string>quotedbl</string>\\n\\t\\t\\t\\t<string>numbersign</string>\\n\\t\\t\\t\\t<string>dollar</string>\\n\\t\\t\\t\\t<string>percent</string>\\n\\t\\t\\t\\t<string>ampersand</string>\\n\\t\\t\\t\\t<string>parenleft</string>\\n\\t\\t\\t\\t<string>parenright</string>\\n\\t\\t\\t\\t<string>asterisk</string>\\n\\t\\t\\t\\t<string>plus</string>\\n\\t\\t\\t\\t<string>comma</string>\\n\\t\\t\\t\\t<string>hyphen</string>\\n\\t\\t\\t\\t<string>period</string>\\n\\t\\t\\t\\t<string>slash</string>\\n\\t\\t\\t\\t<string>zero</string>\\n\\t\\t\\t\\t<string>one</string>\\n\\t\\t\\t\\t<string>two</string>\\n\\t\\t\\t\\t<string>three</string>\\n\\t\\t\\t\\t<string>four</string>\\n\\t\\t\\t\\t<string>five</string>\\n\\t\\t\\t\\t<string>six</string>\\n\\t\\t\\t\\t<string>seven</string>\\n\\t\\t\\t\\t<string>eight</string>\\n\\t\\t\\t\\t<string>nine</string>\\n\\t\\t\\t\\t<string>colon</string>\\n\\t\\t\\t\\t<string>semicolon</string>\\n\\t\\t\\t\\t<string>less</string>\\n\\t\\t\\t\\t<string>equal</string>\\n\\t\\t\\t\\t<string>greater</string>\\n\\t\\t\\t\\t<string>question</string>\\n\\t\\t\\t\\t<string>at</string>\\n\\t\\t\\t\\t<string>A</string>\\n\\t\\t\\t\\t<string>B</string>\\n\\t\\t\\t\\t<string>C</string>\\n\\t\\t\\t\\t<string>D</string>\\n\\t\\t\\t\\t<string>E</string>\\n\\t\\t\\t\\t<string>F</string>\\n\\t\\t\\t\\t<string>G</string>\\n\\t\\t\\t\\t<string>H</string>\\n\\t\\t\\t\\t<string>I</string>\\n\\t\\t\\t\\t<string>J</string>\\n\\t\\t\\t\\t<string>K</string>\\n\\t\\t\\t\\t<string>L</string>\\n\\t\\t\\t\\t<string>M</string>\\n\\t\\t\\t\\t<string>N</string>\\n\\t\\t\\t\\t<string>O</string>\\n\\t\\t\\t\\t<string>P</string>\\n\\t\\t\\t\\t<string>Q</string>\\n\\t\\t\\t\\t<string>R</string>\\n\\t\\t\\t\\t<string>S</string>\\n\\t\\t\\t\\t<string>T</string>\\n\\t\\t\\t\\t<string>U</string>\\n\\t\\t\\t\\t<string>V</string>\\n\\t\\t\\t\\t<string>W</string>\\n\\t\\t\\t\\t<string>X</string>\\n\\t\\t\\t\\t<string>Y</string>\\n\\t\\t\\t\\t<string>Z</string>\\n\\t\\t\\t\\t<string>bracketleft</string>\\n\\t\\t\\t\\t<string>backslash</string>\\n\\t\\t\\t\\t<string>bracketright</string>\\n\\t\\t\\t\\t<string>asciicircum</string>\\n\\t\\t\\t\\t<string>underscore</string>\\n\\t\\t\\t\\t<string>grave</string>\\n\\t\\t\\t\\t<string>a</string>\\n\\t\\t\\t\\t<string>b</string>\\n\\t\\t\\t\\t<string>c</string>\\n\\t\\t\\t\\t<string>d</string>\\n\\t\\t\\t\\t<string>e</string>\\n\\t\\t\\t\\t<string>f</string>\\n\\t\\t\\t\\t<string>g</string>\\n\\t\\t\\t\\t<string>h</string>\\n\\t\\t\\t\\t<string>i</string>\\n\\t\\t\\t\\t<string>j</string>\\n\\t\\t\\t\\t<string>k</string>\\n\\t\\t\\t\\t<string>l</string>\\n\\t\\t\\t\\t<string>m</string>\\n\\t\\t\\t\\t<string>n</string>\\n\\t\\t\\t\\t<string>o</string>\\n\\t\\t\\t\\t<string>p</string>\\n\\t\\t\\t\\t<string>q</string>\\n\\t\\t\\t\\t<string>r</string>\\n\\t\\t\\t\\t<string>s</string>\\n\\t\\t\\t\\t<string>t</string>\\n\\t\\t\\t\\t<string>u</string>\\n\\t\\t\\t\\t<string>v</string>\\n\\t\\t\\t\\t<string>w</string>\\n\\t\\t\\t\\t<string>x</string>\\n\\t\\t\\t\\t<string>y</string>\\n\\t\\t\\t\\t<string>z</string>\\n\\t\\t\\t\\t<string>braceleft</string>\\n\\t\\t\\t\\t<string>bar</string>\\n\\t\\t\\t\\t<string>braceright</string>\\n\\t\\t\\t\\t<string>asciitilde</string>\\n\\t\\t\\t\\t<string>exclamdown</string>\\n\\t\\t\\t\\t<string>cent</string>\\n\\t\\t\\t\\t<string>sterling</string>\\n\\t\\t\\t\\t<string>currency</string>\\n\\t\\t\\t\\t<string>yen</string>\\n\\t\\t\\t\\t<string>brokenbar</string>\\n\\t\\t\\t\\t<string>section</string>\\n\\t\\t\\t\\t<string>dieresis</string>\\n\\t\\t\\t\\t<string>copyright</string>\\n\\t\\t\\t\\t<string>ordfeminine</string>\\n\\t\\t\\t\\t<string>guillemotleft</string>\\n\\t\\t\\t\\t<string>logicalnot</string>\\n\\t\\t\\t\\t<string>registered</string>\\n\\t\\t\\t\\t<string>macron</string>\\n\\t\\t\\t\\t<string>degree</string>\\n\\t\\t\\t\\t<string>plusminus</string>\\n\\t\\t\\t\\t<string>twosuperior</string>\\n\\t\\t\\t\\t<string>threesuperior</string>\\n\\t\\t\\t\\t<string>acute</string>\\n\\t\\t\\t\\t<string>mu</string>\\n\\t\\t\\t\\t<string>paragraph</string>\\n\\t\\t\\t\\t<string>periodcentered</string>\\n\\t\\t\\t\\t<string>cedilla</string>\\n\\t\\t\\t\\t<string>onesuperior</string>\\n\\t\\t\\t\\t<string>ordmasculine</string>\\n\\t\\t\\t\\t<string>guillemotright</string>\\n\\t\\t\\t\\t<string>onequarter</string>\\n\\t\\t\\t\\t<string>onehalf</string>\\n\\t\\t\\t\\t<string>threequarters</string>\\n\\t\\t\\t\\t<string>questiondown</string>\\n\\t\\t\\t\\t<string>Agrave</string>\\n\\t\\t\\t\\t<string>Aacute</string>\\n\\t\\t\\t\\t<string>Acircumflex</string>\\n\\t\\t\\t\\t<string>Atilde</string>\\n\\t\\t\\t\\t<string>Adieresis</string>\\n\\t\\t\\t\\t<string>Aring</string>\\n\\t\\t\\t\\t<string>AE</string>\\n\\t\\t\\t\\t<string>Ccedilla</string>\\n\\t\\t\\t\\t<string>Egrave</string>\\n\\t\\t\\t\\t<string>Eacute</string>\\n\\t\\t\\t\\t<string>Ecircumflex</string>\\n\\t\\t\\t\\t<string>Edieresis</string>\\n\\t\\t\\t\\t<string>Igrave</string>\\n\\t\\t\\t\\t<string>Iacute</string>\\n\\t\\t\\t\\t<string>Icircumflex</string>\\n\\t\\t\\t\\t<string>Idieresis</string>\\n\\t\\t\\t\\t<string>Eth</string>\\n\\t\\t\\t\\t<string>Ntilde</string>\\n\\t\\t\\t\\t<string>Ograve</string>\\n\\t\\t\\t\\t<string>Oacute</string>\\n\\t\\t\\t\\t<string>Ocircumflex</string>\\n\\t\\t\\t\\t<string>Otilde</string>\\n\\t\\t\\t\\t<string>Odieresis</string>\\n\\t\\t\\t\\t<string>multiply</string>\\n\\t\\t\\t\\t<string>Oslash</string>\\n\\t\\t\\t\\t<string>Ugrave</string>\\n\\t\\t\\t\\t<string>Uacute</string>\\n\\t\\t\\t\\t<string>Ucircumflex</string>\\n\\t\\t\\t\\t<string>Udieresis</string>\\n\\t\\t\\t\\t<string>Yacute</string>\\n\\t\\t\\t\\t<string>Thorn</string>\\n\\t\\t\\t\\t<string>germandbls</string>\\n\\t\\t\\t\\t<string>agrave</string>\\n\\t\\t\\t\\t<string>aacute</string>\\n\\t\\t\\t\\t<string>acircumflex</string>\\n\\t\\t\\t\\t<string>atilde</string>\\n\\t\\t\\t\\t<string>adieresis</string>\\n\\t\\t\\t\\t<string>aring</string>\\n\\t\\t\\t\\t<string>ae</string>\\n\\t\\t\\t\\t<string>ccedilla</string>\\n\\t\\t\\t\\t<string>egrave</string>\\n\\t\\t\\t\\t<string>eacute</string>\\n\\t\\t\\t\\t<string>ecircumflex</string>\\n\\t\\t\\t\\t<string>edieresis</string>\\n\\t\\t\\t\\t<string>igrave</string>\\n\\t\\t\\t\\t<string>iacute</string>\\n\\t\\t\\t\\t<string>icircumflex</string>\\n\\t\\t\\t\\t<string>idieresis</string>\\n\\t\\t\\t\\t<string>eth</string>\\n\\t\\t\\t\\t<string>ntilde</string>\\n\\t\\t\\t\\t<string>ograve</string>\\n\\t\\t\\t\\t<string>oacute</string>\\n\\t\\t\\t\\t<string>ocircumflex</string>\\n\\t\\t\\t\\t<string>otilde</string>\\n\\t\\t\\t\\t<string>odieresis</string>\\n\\t\\t\\t\\t<string>divide</string>\\n\\t\\t\\t\\t<string>oslash</string>\\n\\t\\t\\t\\t<string>ugrave</string>\\n\\t\\t\\t\\t<string>uacute</string>\\n\\t\\t\\t\\t<string>ucircumflex</string>\\n\\t\\t\\t\\t<string>udieresis</string>\\n\\t\\t\\t\\t<string>yacute</string>\\n\\t\\t\\t\\t<string>thorn</string>\\n\\t\\t\\t\\t<string>ydieresis</string>\\n\\t\\t\\t\\t<string>dotlessi</string>\\n\\t\\t\\t\\t<string>circumflex</string>\\n\\t\\t\\t\\t<string>caron</string>\\n\\t\\t\\t\\t<string>breve</string>\\n\\t\\t\\t\\t<string>dotaccent</string>\\n\\t\\t\\t\\t<string>ring</string>\\n\\t\\t\\t\\t<string>ogonek</string>\\n\\t\\t\\t\\t<string>tilde</string>\\n\\t\\t\\t\\t<string>hungarumlaut</string>\\n\\t\\t\\t\\t<string>quoteleft</string>\\n\\t\\t\\t\\t<string>quoteright</string>\\n\\t\\t\\t\\t<string>minus</string>\\n\\t\\t\\t\\t<string>p.10</string>\\n\\t\\t\\t\\t<string>p.9</string>\\n\\t\\t\\t\\t<string>p.3</string>\\n\\t\\t\\t\\t<string>p.8</string>\\n\\t\\t\\t\\t<string>p.2</string>\\n\\t\\t\\t\\t<string>p.4</string>\\n\\t\\t\\t\\t<string>p.7</string>\\n\\t\\t\\t\\t<string>p.6</string>\\n\\t\\t\\t\\t<string>p.1</string>\\n\\t\\t\\t\\t<string>p.5</string>\\n\\t\\t\\t\\t<string>p.3.copy_1</string>\\n\\t\\t\\t\\t<string>p.8.copy_2.copy_1</string>\\n\\t\\t\\t\\t<string>p.8.copy_1.copy_2</string>\\n\\t\\t\\t\\t<string>p.8.copy_1.copy_3</string>\\n\\t\\t\\t\\t<string>p.8.copy_1.copy_1</string>\\n\\t\\t\\t\\t<string>p.8.copy_1</string>\\n\\t\\t\\t\\t<string>p.8.copy_2</string>\\n\\t\\t\\t\\t<string>p.9.copy_1</string>\\n\\t\\t\\t\\t<string>p.2.copy_2</string>\\n\\t\\t\\t\\t<string>p.2.copy_3</string>\\n\\t\\t\\t\\t<string>p.2.copy_1</string>\\n\\t\\t\\t\\t<string>p_.8</string>\\n\\t\\t\\t\\t<string>p.8.copy_1.copy_3.copy_1</string>\\n\\t\\t\\t\\t<string>four.tl</string>\\n\\t\\t\\t\\t<string>two.tl</string>\\n\\t\\t\\t\\t<string>eight.tl</string>\\n\\t\\t\\t\\t<string>seven.tl</string>\\n\\t\\t\\t\\t<string>six.tl</string>\\n\\t\\t\\t\\t<string>five.tl</string>\\n\\t\\t\\t\\t<string>three.tl</string>\\n\\t\\t\\t\\t<string>nine.tl</string>\\n\\t\\t\\t\\t<string>one.tl</string>\\n\\t\\t\\t\\t<string>zero.tl</string>\\n\\t\\t\\t</array>\\n\\t\\t</dict>\\n\\t\\t<dict>\\n\\t\\t\\t<key>name</key>\\n\\t\\t\\t<string>Use Typo Metrics</string>\\n\\t\\t\\t<key>value</key>\\n\\t\\t\\t<true/>\\n\\t\\t</dict>\\n\\t</array>\\n\\t<key>com.schriftgestaltung.fontMasterID</key>\\n\\t<string>master01</string>\\n\\t<key>com.schriftgestaltung.glyphOrder</key>\\n\\t<array>\\n\\t\\t<string>space</string>\\n\\t\\t<string>exclam</string>\\n\\t\\t<string>quotesingle</string>\\n\\t\\t<string>quotedbl</string>\\n\\t\\t<string>numbersign</string>\\n\\t\\t<string>dollar</string>\\n\\t\\t<string>percent</string>\\n\\t\\t<string>ampersand</string>\\n\\t\\t<string>parenleft</string>\\n\\t\\t<string>parenright</string>\\n\\t\\t<string>asterisk</string>\\n\\t\\t<string>plus</string>\\n\\t\\t<string>comma</string>\\n\\t\\t<string>hyphen</string>\\n\\t\\t<string>period</string>\\n\\t\\t<string>slash</string>\\n\\t\\t<string>zero</string>\\n\\t\\t<string>one</string>\\n\\t\\t<string>two</string>\\n\\t\\t<string>three</string>\\n\\t\\t<string>four</string>\\n\\t\\t<string>five</string>\\n\\t\\t<string>six</string>\\n\\t\\t<string>seven</string>\\n\\t\\t<string>eight</string>\\n\\t\\t<string>nine</string>\\n\\t\\t<string>colon</string>\\n\\t\\t<string>semicolon</string>\\n\\t\\t<string>less</string>\\n\\t\\t<string>equal</string>\\n\\t\\t<string>greater</string>\\n\\t\\t<string>question</string>\\n\\t\\t<string>at</string>\\n\\t\\t<string>A</string>\\n\\t\\t<string>B</string>\\n\\t\\t<string>C</string>\\n\\t\\t<string>D</string>\\n\\t\\t<string>E</string>\\n\\t\\t<string>F</string>\\n\\t\\t<string>G</string>\\n\\t\\t<string>H</string>\\n\\t\\t<string>I</string>\\n\\t\\t<string>J</string>\\n\\t\\t<string>K</string>\\n\\t\\t<string>L</string>\\n\\t\\t<string>M</string>\\n\\t\\t<string>N</string>\\n\\t\\t<string>O</string>\\n\\t\\t<string>P</string>\\n\\t\\t<string>Q</string>\\n\\t\\t<string>R</string>\\n\\t\\t<string>S</string>\\n\\t\\t<string>T</string>\\n\\t\\t<string>U</string>\\n\\t\\t<string>V</string>\\n\\t\\t<string>W</string>\\n\\t\\t<string>X</string>\\n\\t\\t<string>Y</string>\\n\\t\\t<string>Z</string>\\n\\t\\t<string>bracketleft</string>\\n\\t\\t<string>backslash</string>\\n\\t\\t<string>bracketright</string>\\n\\t\\t<string>asciicircum</string>\\n\\t\\t<string>underscore</string>\\n\\t\\t<string>grave</string>\\n\\t\\t<string>a</string>\\n\\t\\t<string>b</string>\\n\\t\\t<string>c</string>\\n\\t\\t<string>d</string>\\n\\t\\t<string>e</string>\\n\\t\\t<string>f</string>\\n\\t\\t<string>g</string>\\n\\t\\t<string>h</string>\\n\\t\\t<string>i</string>\\n\\t\\t<string>j</string>\\n\\t\\t<string>k</string>\\n\\t\\t<string>l</string>\\n\\t\\t<string>m</string>\\n\\t\\t<string>n</string>\\n\\t\\t<string>o</string>\\n\\t\\t<string>p</string>\\n\\t\\t<string>q</string>\\n\\t\\t<string>r</string>\\n\\t\\t<string>s</string>\\n\\t\\t<string>t</string>\\n\\t\\t<string>u</string>\\n\\t\\t<string>v</string>\\n\\t\\t<string>w</string>\\n\\t\\t<string>x</string>\\n\\t\\t<string>y</string>\\n\\t\\t<string>z</string>\\n\\t\\t<string>braceleft</string>\\n\\t\\t<string>bar</string>\\n\\t\\t<string>braceright</string>\\n\\t\\t<string>asciitilde</string>\\n\\t\\t<string>exclamdown</string>\\n\\t\\t<string>cent</string>\\n\\t\\t<string>sterling</string>\\n\\t\\t<string>currency</string>\\n\\t\\t<string>yen</string>\\n\\t\\t<string>brokenbar</string>\\n\\t\\t<string>section</string>\\n\\t\\t<string>dieresis</string>\\n\\t\\t<string>copyright</string>\\n\\t\\t<string>ordfeminine</string>\\n\\t\\t<string>guillemotleft</string>\\n\\t\\t<string>logicalnot</string>\\n\\t\\t<string>registered</string>\\n\\t\\t<string>macron</string>\\n\\t\\t<string>degree</string>\\n\\t\\t<string>plusminus</string>\\n\\t\\t<string>twosuperior</string>\\n\\t\\t<string>threesuperior</string>\\n\\t\\t<string>acute</string>\\n\\t\\t<string>mu</string>\\n\\t\\t<string>paragraph</string>\\n\\t\\t<string>periodcentered</string>\\n\\t\\t<string>cedilla</string>\\n\\t\\t<string>onesuperior</string>\\n\\t\\t<string>ordmasculine</string>\\n\\t\\t<string>guillemotright</string>\\n\\t\\t<string>onequarter</string>\\n\\t\\t<string>onehalf</string>\\n\\t\\t<string>threequarters</string>\\n\\t\\t<string>questiondown</string>\\n\\t\\t<string>Agrave</string>\\n\\t\\t<string>Aacute</string>\\n\\t\\t<string>Acircumflex</string>\\n\\t\\t<string>Atilde</string>\\n\\t\\t<string>Adieresis</string>\\n\\t\\t<string>Aring</string>\\n\\t\\t<string>AE</string>\\n\\t\\t<string>Ccedilla</string>\\n\\t\\t<string>Egrave</string>\\n\\t\\t<string>Eacute</string>\\n\\t\\t<string>Ecircumflex</string>\\n\\t\\t<string>Edieresis</string>\\n\\t\\t<string>Igrave</string>\\n\\t\\t<string>Iacute</string>\\n\\t\\t<string>Icircumflex</string>\\n\\t\\t<string>Idieresis</string>\\n\\t\\t<string>Eth</string>\\n\\t\\t<string>Ntilde</string>\\n\\t\\t<string>Ograve</string>\\n\\t\\t<string>Oacute</string>\\n\\t\\t<string>Ocircumflex</string>\\n\\t\\t<string>Otilde</string>\\n\\t\\t<string>Odieresis</string>\\n\\t\\t<string>multiply</string>\\n\\t\\t<string>Oslash</string>\\n\\t\\t<string>Ugrave</string>\\n\\t\\t<string>Uacute</string>\\n\\t\\t<string>Ucircumflex</string>\\n\\t\\t<string>Udieresis</string>\\n\\t\\t<string>Yacute</string>\\n\\t\\t<string>Thorn</string>\\n\\t\\t<string>germandbls</string>\\n\\t\\t<string>agrave</string>\\n\\t\\t<string>aacute</string>\\n\\t\\t<string>acircumflex</string>\\n\\t\\t<string>atilde</string>\\n\\t\\t<string>adieresis</string>\\n\\t\\t<string>aring</string>\\n\\t\\t<string>ae</string>\\n\\t\\t<string>ccedilla</string>\\n\\t\\t<string>egrave</string>\\n\\t\\t<string>eacute</string>\\n\\t\\t<string>ecircumflex</string>\\n\\t\\t<string>edieresis</string>\\n\\t\\t<string>igrave</string>\\n\\t\\t<string>iacute</string>\\n\\t\\t<string>icircumflex</string>\\n\\t\\t<string>idieresis</string>\\n\\t\\t<string>eth</string>\\n\\t\\t<string>ntilde</string>\\n\\t\\t<string>ograve</string>\\n\\t\\t<string>oacute</string>\\n\\t\\t<string>ocircumflex</string>\\n\\t\\t<string>otilde</string>\\n\\t\\t<string>odieresis</string>\\n\\t\\t<string>divide</string>\\n\\t\\t<string>oslash</string>\\n\\t\\t<string>ugrave</string>\\n\\t\\t<string>uacute</string>\\n\\t\\t<string>ucircumflex</string>\\n\\t\\t<string>udieresis</string>\\n\\t\\t<string>yacute</string>\\n\\t\\t<string>thorn</string>\\n\\t\\t<string>ydieresis</string>\\n\\t\\t<string>dotlessi</string>\\n\\t\\t<string>circumflex</string>\\n\\t\\t<string>caron</string>\\n\\t\\t<string>breve</string>\\n\\t\\t<string>dotaccent</string>\\n\\t\\t<string>ring</string>\\n\\t\\t<string>ogonek</string>\\n\\t\\t<string>tilde</string>\\n\\t\\t<string>hungarumlaut</string>\\n\\t\\t<string>quoteleft</string>\\n\\t\\t<string>quoteright</string>\\n\\t\\t<string>minus</string>\\n\\t\\t<string>p.10</string>\\n\\t\\t<string>p.9</string>\\n\\t\\t<string>p.3</string>\\n\\t\\t<string>p.8</string>\\n\\t\\t<string>p.2</string>\\n\\t\\t<string>p.4</string>\\n\\t\\t<string>p.7</string>\\n\\t\\t<string>p.6</string>\\n\\t\\t<string>p.1</string>\\n\\t\\t<string>p.5</string>\\n\\t\\t<string>p.3.copy_1</string>\\n\\t\\t<string>p.8.copy_2.copy_1</string>\\n\\t\\t<string>p.8.copy_1.copy_2</string>\\n\\t\\t<string>p.8.copy_1.copy_3</string>\\n\\t\\t<string>p.8.copy_1.copy_1</string>\\n\\t\\t<string>p.8.copy_1</string>\\n\\t\\t<string>p.8.copy_2</string>\\n\\t\\t<string>p.9.copy_1</string>\\n\\t\\t<string>p.2.copy_2</string>\\n\\t\\t<string>p.2.copy_3</string>\\n\\t\\t<string>p.2.copy_1</string>\\n\\t\\t<string>p_.8</string>\\n\\t\\t<string>p.8.copy_1.copy_3.copy_1</string>\\n\\t\\t<string>four.tl</string>\\n\\t\\t<string>two.tl</string>\\n\\t\\t<string>eight.tl</string>\\n\\t\\t<string>seven.tl</string>\\n\\t\\t<string>six.tl</string>\\n\\t\\t<string>five.tl</string>\\n\\t\\t<string>three.tl</string>\\n\\t\\t<string>nine.tl</string>\\n\\t\\t<string>one.tl</string>\\n\\t\\t<string>zero.tl</string>\\n\\t</array>\\n\\t<key>com.schriftgestaltung.gridSize</key>\\n\\t<integer>80</integer>\\n\\t<key>com.schriftgestaltung.useNiceNames</key>\\n\\t<false/>\\n\\t<key>com.schriftgestaltung.weightValue</key>\\n\\t<integer>400</integer>\\n\\t<key>com.typemytype.robofont.background.layerStrokeColor</key>\\n\\t<array>\\n\\t\\t<integer>0</integer>\\n\\t\\t<real>0.8</real>\\n\\t\\t<real>0.2</real>\\n\\t\\t<real>0.7</real>\\n\\t</array>\\n\\t<key>com.typemytype.robofont.compileSettings.autohint</key>\\n\\t<integer>1</integer>\\n\\t<key>com.typemytype.robofont.compileSettings.checkOutlines</key>\\n\\t<integer>0</integer>\\n\\t<key>com.typemytype.robofont.compileSettings.decompose</key>\\n\\t<integer>0</integer>\\n\\t<key>com.typemytype.robofont.compileSettings.generateFormat</key>\\n\\t<integer>0</integer>\\n\\t<key>com.typemytype.robofont.compileSettings.releaseMode</key>\\n\\t<integer>0</integer>\\n\\t<key>com.typemytype.robofont.foreground.layerStrokeColor</key>\\n\\t<array>\\n\\t\\t<real>0.5</real>\\n\\t\\t<integer>0</integer>\\n\\t\\t<real>0.5</real>\\n\\t\\t<real>0.7</real>\\n\\t</array>\\n\\t<key>com.typemytype.robofont.italicSlantOffset</key>\\n\\t<integer>0</integer>\\n\\t<key>com.typemytype.robofont.layerOrder</key>\\n\\t<array>\\n\\t\\t<string>background</string>\\n\\t</array>\\n\\t<key>com.typemytype.robofont.segmentType</key>\\n\\t<string>curve</string>\\n\\t<key>com.typemytype.robofont.shouldAddPointsInSplineConversion</key>\\n\\t<integer>0</integer>\\n\\t<key>com.typemytype.robofont.sort</key>\\n\\t<array>\\n\\t\\t<dict>\\n\\t\\t\\t<key>ascending</key>\\n\\t\\t\\t<array>\\n\\t\\t\\t\\t<string>space</string>\\n\\t\\t\\t\\t<string>exclam</string>\\n\\t\\t\\t\\t<string>quotesingle</string>\\n\\t\\t\\t\\t<string>quotedbl</string>\\n\\t\\t\\t\\t<string>numbersign</string>\\n\\t\\t\\t\\t<string>dollar</string>\\n\\t\\t\\t\\t<string>percent</string>\\n\\t\\t\\t\\t<string>ampersand</string>\\n\\t\\t\\t\\t<string>parenleft</string>\\n\\t\\t\\t\\t<string>parenright</string>\\n\\t\\t\\t\\t<string>asterisk</string>\\n\\t\\t\\t\\t<string>plus</string>\\n\\t\\t\\t\\t<string>comma</string>\\n\\t\\t\\t\\t<string>hyphen</string>\\n\\t\\t\\t\\t<string>period</string>\\n\\t\\t\\t\\t<string>slash</string>\\n\\t\\t\\t\\t<string>zero</string>\\n\\t\\t\\t\\t<string>one</string>\\n\\t\\t\\t\\t<string>two</string>\\n\\t\\t\\t\\t<string>three</string>\\n\\t\\t\\t\\t<string>four</string>\\n\\t\\t\\t\\t<string>five</string>\\n\\t\\t\\t\\t<string>six</string>\\n\\t\\t\\t\\t<string>seven</string>\\n\\t\\t\\t\\t<string>eight</string>\\n\\t\\t\\t\\t<string>nine</string>\\n\\t\\t\\t\\t<string>colon</string>\\n\\t\\t\\t\\t<string>semicolon</string>\\n\\t\\t\\t\\t<string>less</string>\\n\\t\\t\\t\\t<string>equal</string>\\n\\t\\t\\t\\t<string>greater</string>\\n\\t\\t\\t\\t<string>question</string>\\n\\t\\t\\t\\t<string>at</string>\\n\\t\\t\\t\\t<string>A</string>\\n\\t\\t\\t\\t<string>B</string>\\n\\t\\t\\t\\t<string>C</string>\\n\\t\\t\\t\\t<string>D</string>\\n\\t\\t\\t\\t<string>E</string>\\n\\t\\t\\t\\t<string>F</string>\\n\\t\\t\\t\\t<string>G</string>\\n\\t\\t\\t\\t<string>H</string>\\n\\t\\t\\t\\t<string>I</string>\\n\\t\\t\\t\\t<string>J</string>\\n\\t\\t\\t\\t<string>K</string>\\n\\t\\t\\t\\t<string>L</string>\\n\\t\\t\\t\\t<string>M</string>\\n\\t\\t\\t\\t<string>N</string>\\n\\t\\t\\t\\t<string>O</string>\\n\\t\\t\\t\\t<string>P</string>\\n\\t\\t\\t\\t<string>Q</string>\\n\\t\\t\\t\\t<string>R</string>\\n\\t\\t\\t\\t<string>S</string>\\n\\t\\t\\t\\t<string>T</string>\\n\\t\\t\\t\\t<string>U</string>\\n\\t\\t\\t\\t<string>V</string>\\n\\t\\t\\t\\t<string>W</string>\\n\\t\\t\\t\\t<string>X</string>\\n\\t\\t\\t\\t<string>Y</string>\\n\\t\\t\\t\\t<string>Z</string>\\n\\t\\t\\t\\t<string>bracketleft</string>\\n\\t\\t\\t\\t<string>backslash</string>\\n\\t\\t\\t\\t<string>bracketright</string>\\n\\t\\t\\t\\t<string>asciicircum</string>\\n\\t\\t\\t\\t<string>underscore</string>\\n\\t\\t\\t\\t<string>grave</string>\\n\\t\\t\\t\\t<string>a</string>\\n\\t\\t\\t\\t<string>b</string>\\n\\t\\t\\t\\t<string>c</string>\\n\\t\\t\\t\\t<string>d</string>\\n\\t\\t\\t\\t<string>e</string>\\n\\t\\t\\t\\t<string>f</string>\\n\\t\\t\\t\\t<string>g</string>\\n\\t\\t\\t\\t<string>h</string>\\n\\t\\t\\t\\t<string>i</string>\\n\\t\\t\\t\\t<string>j</string>\\n\\t\\t\\t\\t<string>k</string>\\n\\t\\t\\t\\t<string>l</string>\\n\\t\\t\\t\\t<string>m</string>\\n\\t\\t\\t\\t<string>n</string>\\n\\t\\t\\t\\t<string>o</string>\\n\\t\\t\\t\\t<string>p</string>\\n\\t\\t\\t\\t<string>q</string>\\n\\t\\t\\t\\t<string>r</string>\\n\\t\\t\\t\\t<string>s</string>\\n\\t\\t\\t\\t<string>t</string>\\n\\t\\t\\t\\t<string>u</string>\\n\\t\\t\\t\\t<string>v</string>\\n\\t\\t\\t\\t<string>w</string>\\n\\t\\t\\t\\t<string>x</string>\\n\\t\\t\\t\\t<string>y</string>\\n\\t\\t\\t\\t<string>z</string>\\n\\t\\t\\t\\t<string>braceleft</string>\\n\\t\\t\\t\\t<string>bar</string>\\n\\t\\t\\t\\t<string>braceright</string>\\n\\t\\t\\t\\t<string>asciitilde</string>\\n\\t\\t\\t\\t<string>exclamdown</string>\\n\\t\\t\\t\\t<string>cent</string>\\n\\t\\t\\t\\t<string>sterling</string>\\n\\t\\t\\t\\t<string>currency</string>\\n\\t\\t\\t\\t<string>yen</string>\\n\\t\\t\\t\\t<string>brokenbar</string>\\n\\t\\t\\t\\t<string>section</string>\\n\\t\\t\\t\\t<string>dieresis</string>\\n\\t\\t\\t\\t<string>copyright</string>\\n\\t\\t\\t\\t<string>ordfeminine</string>\\n\\t\\t\\t\\t<string>guillemotleft</string>\\n\\t\\t\\t\\t<string>logicalnot</string>\\n\\t\\t\\t\\t<string>registered</string>\\n\\t\\t\\t\\t<string>macron</string>\\n\\t\\t\\t\\t<string>degree</string>\\n\\t\\t\\t\\t<string>plusminus</string>\\n\\t\\t\\t\\t<string>twosuperior</string>\\n\\t\\t\\t\\t<string>threesuperior</string>\\n\\t\\t\\t\\t<string>acute</string>\\n\\t\\t\\t\\t<string>mu</string>\\n\\t\\t\\t\\t<string>paragraph</string>\\n\\t\\t\\t\\t<string>periodcentered</string>\\n\\t\\t\\t\\t<string>cedilla</string>\\n\\t\\t\\t\\t<string>onesuperior</string>\\n\\t\\t\\t\\t<string>ordmasculine</string>\\n\\t\\t\\t\\t<string>guillemotright</string>\\n\\t\\t\\t\\t<string>onequarter</string>\\n\\t\\t\\t\\t<string>onehalf</string>\\n\\t\\t\\t\\t<string>threequarters</string>\\n\\t\\t\\t\\t<string>questiondown</string>\\n\\t\\t\\t\\t<string>Agrave</string>\\n\\t\\t\\t\\t<string>Aacute</string>\\n\\t\\t\\t\\t<string>Acircumflex</string>\\n\\t\\t\\t\\t<string>Atilde</string>\\n\\t\\t\\t\\t<string>Adieresis</string>\\n\\t\\t\\t\\t<string>Aring</string>\\n\\t\\t\\t\\t<string>AE</string>\\n\\t\\t\\t\\t<string>Ccedilla</string>\\n\\t\\t\\t\\t<string>Egrave</string>\\n\\t\\t\\t\\t<string>Eacute</string>\\n\\t\\t\\t\\t<string>Ecircumflex</string>\\n\\t\\t\\t\\t<string>Edieresis</string>\\n\\t\\t\\t\\t<string>Igrave</string>\\n\\t\\t\\t\\t<string>Iacute</string>\\n\\t\\t\\t\\t<string>Icircumflex</string>\\n\\t\\t\\t\\t<string>Idieresis</string>\\n\\t\\t\\t\\t<string>Eth</string>\\n\\t\\t\\t\\t<string>Ntilde</string>\\n\\t\\t\\t\\t<string>Ograve</string>\\n\\t\\t\\t\\t<string>Oacute</string>\\n\\t\\t\\t\\t<string>Ocircumflex</string>\\n\\t\\t\\t\\t<string>Otilde</string>\\n\\t\\t\\t\\t<string>Odieresis</string>\\n\\t\\t\\t\\t<string>multiply</string>\\n\\t\\t\\t\\t<string>Oslash</string>\\n\\t\\t\\t\\t<string>Ugrave</string>\\n\\t\\t\\t\\t<string>Uacute</string>\\n\\t\\t\\t\\t<string>Ucircumflex</string>\\n\\t\\t\\t\\t<string>Udieresis</string>\\n\\t\\t\\t\\t<string>Yacute</string>\\n\\t\\t\\t\\t<string>Thorn</string>\\n\\t\\t\\t\\t<string>germandbls</string>\\n\\t\\t\\t\\t<string>agrave</string>\\n\\t\\t\\t\\t<string>aacute</string>\\n\\t\\t\\t\\t<string>acircumflex</string>\\n\\t\\t\\t\\t<string>atilde</string>\\n\\t\\t\\t\\t<string>adieresis</string>\\n\\t\\t\\t\\t<string>aring</string>\\n\\t\\t\\t\\t<string>ae</string>\\n\\t\\t\\t\\t<string>ccedilla</string>\\n\\t\\t\\t\\t<string>egrave</string>\\n\\t\\t\\t\\t<string>eacute</string>\\n\\t\\t\\t\\t<string>ecircumflex</string>\\n\\t\\t\\t\\t<string>edieresis</string>\\n\\t\\t\\t\\t<string>igrave</string>\\n\\t\\t\\t\\t<string>iacute</string>\\n\\t\\t\\t\\t<string>icircumflex</string>\\n\\t\\t\\t\\t<string>idieresis</string>\\n\\t\\t\\t\\t<string>eth</string>\\n\\t\\t\\t\\t<string>ntilde</string>\\n\\t\\t\\t\\t<string>ograve</string>\\n\\t\\t\\t\\t<string>oacute</string>\\n\\t\\t\\t\\t<string>ocircumflex</string>\\n\\t\\t\\t\\t<string>otilde</string>\\n\\t\\t\\t\\t<string>odieresis</string>\\n\\t\\t\\t\\t<string>divide</string>\\n\\t\\t\\t\\t<string>oslash</string>\\n\\t\\t\\t\\t<string>ugrave</string>\\n\\t\\t\\t\\t<string>uacute</string>\\n\\t\\t\\t\\t<string>ucircumflex</string>\\n\\t\\t\\t\\t<string>udieresis</string>\\n\\t\\t\\t\\t<string>yacute</string>\\n\\t\\t\\t\\t<string>thorn</string>\\n\\t\\t\\t\\t<string>ydieresis</string>\\n\\t\\t\\t\\t<string>dotlessi</string>\\n\\t\\t\\t\\t<string>circumflex</string>\\n\\t\\t\\t\\t<string>caron</string>\\n\\t\\t\\t\\t<string>breve</string>\\n\\t\\t\\t\\t<string>dotaccent</string>\\n\\t\\t\\t\\t<string>ring</string>\\n\\t\\t\\t\\t<string>ogonek</string>\\n\\t\\t\\t\\t<string>tilde</string>\\n\\t\\t\\t\\t<string>hungarumlaut</string>\\n\\t\\t\\t\\t<string>quoteleft</string>\\n\\t\\t\\t\\t<string>quoteright</string>\\n\\t\\t\\t\\t<string>minus</string>\\n\\t\\t\\t\\t<string>p.10</string>\\n\\t\\t\\t\\t<string>p.9</string>\\n\\t\\t\\t\\t<string>p.3</string>\\n\\t\\t\\t\\t<string>p.8</string>\\n\\t\\t\\t\\t<string>p.2</string>\\n\\t\\t\\t\\t<string>p.4</string>\\n\\t\\t\\t\\t<string>p.7</string>\\n\\t\\t\\t\\t<string>p.6</string>\\n\\t\\t\\t\\t<string>p.1</string>\\n\\t\\t\\t\\t<string>p.5</string>\\n\\t\\t\\t\\t<string>p.3.copy_1</string>\\n\\t\\t\\t\\t<string>p.8.copy_2.copy_1</string>\\n\\t\\t\\t\\t<string>p.8.copy_1.copy_2</string>\\n\\t\\t\\t\\t<string>p.8.copy_1.copy_3</string>\\n\\t\\t\\t\\t<string>p.8.copy_1.copy_1</string>\\n\\t\\t\\t\\t<string>p.8.copy_1</string>\\n\\t\\t\\t\\t<string>p.8.copy_2</string>\\n\\t\\t\\t\\t<string>p.9.copy_1</string>\\n\\t\\t\\t\\t<string>p.2.copy_2</string>\\n\\t\\t\\t\\t<string>p.2.copy_3</string>\\n\\t\\t\\t\\t<string>p.2.copy_1</string>\\n\\t\\t\\t\\t<string>p_.8</string>\\n\\t\\t\\t\\t<string>p.8.copy_1.copy_3.copy_1</string>\\n\\t\\t\\t\\t<string>four.tl</string>\\n\\t\\t\\t\\t<string>two.tl</string>\\n\\t\\t\\t\\t<string>eight.tl</string>\\n\\t\\t\\t\\t<string>seven.tl</string>\\n\\t\\t\\t\\t<string>six.tl</string>\\n\\t\\t\\t\\t<string>five.tl</string>\\n\\t\\t\\t\\t<string>three.tl</string>\\n\\t\\t\\t\\t<string>nine.tl</string>\\n\\t\\t\\t\\t<string>one.tl</string>\\n\\t\\t\\t\\t<string>zero.tl</string>\\n\\t\\t\\t</array>\\n\\t\\t\\t<key>type</key>\\n\\t\\t\\t<string>glyphList</string>\\n\\t\\t</dict>\\n\\t</array>\\n\\t<key>public.glyphOrder</key>\\n\\t<array>\\n\\t\\t<string>space</string>\\n\\t\\t<string>exclam</string>\\n\\t\\t<string>quotesingle</string>\\n\\t\\t<string>quotedbl</string>\\n\\t\\t<string>numbersign</string>\\n\\t\\t<string>dollar</string>\\n\\t\\t<string>percent</string>\\n\\t\\t<string>ampersand</string>\\n\\t\\t<string>parenleft</string>\\n\\t\\t<string>parenright</string>\\n\\t\\t<string>asterisk</string>\\n\\t\\t<string>plus</string>\\n\\t\\t<string>comma</string>\\n\\t\\t<string>hyphen</string>\\n\\t\\t<string>period</string>\\n\\t\\t<string>slash</string>\\n\\t\\t<string>zero</string>\\n\\t\\t<string>one</string>\\n\\t\\t<string>two</string>\\n\\t\\t<string>three</string>\\n\\t\\t<string>four</string>\\n\\t\\t<string>five</string>\\n\\t\\t<string>six</string>\\n\\t\\t<string>seven</string>\\n\\t\\t<string>eight</string>\\n\\t\\t<string>nine</string>\\n\\t\\t<string>colon</string>\\n\\t\\t<string>semicolon</string>\\n\\t\\t<string>less</string>\\n\\t\\t<string>equal</string>\\n\\t\\t<string>greater</string>\\n\\t\\t<string>question</string>\\n\\t\\t<string>at</string>\\n\\t\\t<string>A</string>\\n\\t\\t<string>B</string>\\n\\t\\t<string>C</string>\\n\\t\\t<string>D</string>\\n\\t\\t<string>E</string>\\n\\t\\t<string>F</string>\\n\\t\\t<string>G</string>\\n\\t\\t<string>H</string>\\n\\t\\t<string>I</string>\\n\\t\\t<string>J</string>\\n\\t\\t<string>K</string>\\n\\t\\t<string>L</string>\\n\\t\\t<string>M</string>\\n\\t\\t<string>N</string>\\n\\t\\t<string>O</string>\\n\\t\\t<string>P</string>\\n\\t\\t<string>Q</string>\\n\\t\\t<string>R</string>\\n\\t\\t<string>S</string>\\n\\t\\t<string>T</string>\\n\\t\\t<string>U</string>\\n\\t\\t<string>V</string>\\n\\t\\t<string>W</string>\\n\\t\\t<string>X</string>\\n\\t\\t<string>Y</string>\\n\\t\\t<string>Z</string>\\n\\t\\t<string>bracketleft</string>\\n\\t\\t<string>backslash</string>\\n\\t\\t<string>bracketright</string>\\n\\t\\t<string>asciicircum</string>\\n\\t\\t<string>underscore</string>\\n\\t\\t<string>grave</string>\\n\\t\\t<string>a</string>\\n\\t\\t<string>b</string>\\n\\t\\t<string>c</string>\\n\\t\\t<string>d</string>\\n\\t\\t<string>e</string>\\n\\t\\t<string>f</string>\\n\\t\\t<string>g</string>\\n\\t\\t<string>h</string>\\n\\t\\t<string>i</string>\\n\\t\\t<string>j</string>\\n\\t\\t<string>k</string>\\n\\t\\t<string>l</string>\\n\\t\\t<string>m</string>\\n\\t\\t<string>n</string>\\n\\t\\t<string>o</string>\\n\\t\\t<string>p</string>\\n\\t\\t<string>q</string>\\n\\t\\t<string>r</string>\\n\\t\\t<string>s</string>\\n\\t\\t<string>t</string>\\n\\t\\t<string>u</string>\\n\\t\\t<string>v</string>\\n\\t\\t<string>w</string>\\n\\t\\t<string>x</string>\\n\\t\\t<string>y</string>\\n\\t\\t<string>z</string>\\n\\t\\t<string>braceleft</string>\\n\\t\\t<string>bar</string>\\n\\t\\t<string>braceright</string>\\n\\t\\t<string>asciitilde</string>\\n\\t\\t<string>exclamdown</string>\\n\\t\\t<string>brokenbar</string>\\n\\t\\t<string>section</string>\\n\\t\\t<string>dieresis</string>\\n\\t\\t<string>copyright</string>\\n\\t\\t<string>logicalnot</string>\\n\\t\\t<string>registered</string>\\n\\t\\t<string>macron</string>\\n\\t\\t<string>degree</string>\\n\\t\\t<string>plusminus</string>\\n\\t\\t<string>acute</string>\\n\\t\\t<string>paragraph</string>\\n\\t\\t<string>periodcentered</string>\\n\\t\\t<string>cedilla</string>\\n\\t\\t<string>questiondown</string>\\n\\t\\t<string>Agrave</string>\\n\\t\\t<string>Aacute</string>\\n\\t\\t<string>Acircumflex</string>\\n\\t\\t<string>Atilde</string>\\n\\t\\t<string>Adieresis</string>\\n\\t\\t<string>Aring</string>\\n\\t\\t<string>AE</string>\\n\\t\\t<string>Ccedilla</string>\\n\\t\\t<string>Egrave</string>\\n\\t\\t<string>Eacute</string>\\n\\t\\t<string>Ecircumflex</string>\\n\\t\\t<string>Edieresis</string>\\n\\t\\t<string>Igrave</string>\\n\\t\\t<string>Iacute</string>\\n\\t\\t<string>Icircumflex</string>\\n\\t\\t<string>Idieresis</string>\\n\\t\\t<string>Eth</string>\\n\\t\\t<string>Ntilde</string>\\n\\t\\t<string>Ograve</string>\\n\\t\\t<string>Oacute</string>\\n\\t\\t<string>Ocircumflex</string>\\n\\t\\t<string>Otilde</string>\\n\\t\\t<string>Odieresis</string>\\n\\t\\t<string>multiply</string>\\n\\t\\t<string>Oslash</string>\\n\\t\\t<string>Ugrave</string>\\n\\t\\t<string>Uacute</string>\\n\\t\\t<string>Ucircumflex</string>\\n\\t\\t<string>Udieresis</string>\\n\\t\\t<string>Yacute</string>\\n\\t\\t<string>Thorn</string>\\n\\t\\t<string>germandbls</string>\\n\\t\\t<string>agrave</string>\\n\\t\\t<string>aacute</string>\\n\\t\\t<string>acircumflex</string>\\n\\t\\t<string>atilde</string>\\n\\t\\t<string>adieresis</string>\\n\\t\\t<string>aring</string>\\n\\t\\t<string>ae</string>\\n\\t\\t<string>ccedilla</string>\\n\\t\\t<string>egrave</string>\\n\\t\\t<string>eacute</string>\\n\\t\\t<string>ecircumflex</string>\\n\\t\\t<string>edieresis</string>\\n\\t\\t<string>igrave</string>\\n\\t\\t<string>iacute</string>\\n\\t\\t<string>icircumflex</string>\\n\\t\\t<string>idieresis</string>\\n\\t\\t<string>eth</string>\\n\\t\\t<string>ntilde</string>\\n\\t\\t<string>ograve</string>\\n\\t\\t<string>oacute</string>\\n\\t\\t<string>ocircumflex</string>\\n\\t\\t<string>otilde</string>\\n\\t\\t<string>odieresis</string>\\n\\t\\t<string>divide</string>\\n\\t\\t<string>oslash</string>\\n\\t\\t<string>ugrave</string>\\n\\t\\t<string>uacute</string>\\n\\t\\t<string>ucircumflex</string>\\n\\t\\t<string>udieresis</string>\\n\\t\\t<string>yacute</string>\\n\\t\\t<string>thorn</string>\\n\\t\\t<string>ydieresis</string>\\n\\t\\t<string>circumflex</string>\\n\\t\\t<string>caron</string>\\n\\t\\t<string>breve</string>\\n\\t\\t<string>dotaccent</string>\\n\\t\\t<string>ring</string>\\n\\t\\t<string>ogonek</string>\\n\\t\\t<string>tilde</string>\\n\\t\\t<string>hungarumlaut</string>\\n\\t\\t<string>minus</string>\\n\\t\\t<string>OE</string>\\n\\t\\t<string>Germandbls</string>\\n\\t\\t<string>Wacute</string>\\n\\t\\t<string>Wcircumflex</string>\\n\\t\\t<string>Wdieresis</string>\\n\\t\\t<string>Wgrave</string>\\n\\t\\t<string>Ycircumflex</string>\\n\\t\\t<string>Ydieresis</string>\\n\\t\\t<string>Ygrave</string>\\n\\t\\t<string>oe</string>\\n\\t\\t<string>wacute</string>\\n\\t\\t<string>wcircumflex</string>\\n\\t\\t<string>wdieresis</string>\\n\\t\\t<string>wgrave</string>\\n\\t\\t<string>ycircumflex</string>\\n\\t\\t<string>ygrave</string>\\n\\t\\t<string>f_f_i</string>\\n\\t\\t<string>fi</string>\\n\\t\\t<string>f_j.liga</string>\\n\\t\\t<string>g_j.liga</string>\\n\\t\\t<string>j_j.liga</string>\\n\\t\\t<string>s_s.liga</string>\\n\\t\\t<string>y_j.liga</string>\\n\\t\\t<string>A-cy</string>\\n\\t\\t<string>Be-cy</string>\\n\\t\\t<string>Ve-cy</string>\\n\\t\\t<string>Ge-cy</string>\\n\\t\\t<string>De-cy</string>\\n\\t\\t<string>Ie-cy</string>\\n\\t\\t<string>Io-cy</string>\\n\\t\\t<string>Zhe-cy</string>\\n\\t\\t<string>Ze-cy</string>\\n\\t\\t<string>Ii-cy</string>\\n\\t\\t<string>Iishort-cy</string>\\n\\t\\t<string>Ka-cy</string>\\n\\t\\t<string>El-cy</string>\\n\\t\\t<string>Em-cy</string>\\n\\t\\t<string>En-cy</string>\\n\\t\\t<string>O-cy</string>\\n\\t\\t<string>Pe-cy</string>\\n\\t\\t<string>Er-cy</string>\\n\\t\\t<string>Es-cy</string>\\n\\t\\t<string>Te-cy</string>\\n\\t\\t<string>U-cy</string>\\n\\t\\t<string>Ef-cy</string>\\n\\t\\t<string>Ha-cy</string>\\n\\t\\t<string>Che-cy</string>\\n\\t\\t<string>Tse-cy</string>\\n\\t\\t<string>Sha-cy</string>\\n\\t\\t<string>Shcha-cy</string>\\n\\t\\t<string>Softsign-cy</string>\\n\\t\\t<string>Hardsign-cy</string>\\n\\t\\t<string>Yeru-cy</string>\\n\\t\\t<string>Ereversed-cy</string>\\n\\t\\t<string>Iu-cy</string>\\n\\t\\t<string>Ia-cy</string>\\n\\t\\t<string>De-cy.001</string>\\n\\t\\t<string>Ii-cy.001</string>\\n\\t\\t<string>El-cy.001</string>\\n\\t\\t<string>U-cy.001</string>\\n\\t\\t<string>a-cy</string>\\n\\t\\t<string>be-cy</string>\\n\\t\\t<string>ve-cy</string>\\n\\t\\t<string>ge-cy</string>\\n\\t\\t<string>de-cy</string>\\n\\t\\t<string>ie-cy</string>\\n\\t\\t<string>io-cy</string>\\n\\t\\t<string>zhe-cy</string>\\n\\t\\t<string>ze-cy</string>\\n\\t\\t<string>ii-cy</string>\\n\\t\\t<string>iishort-cy</string>\\n\\t\\t<string>ka-cy</string>\\n\\t\\t<string>el-cy</string>\\n\\t\\t<string>em-cy</string>\\n\\t\\t<string>en-cy</string>\\n\\t\\t<string>o-cy</string>\\n\\t\\t<string>pe-cy</string>\\n\\t\\t<string>er-cy</string>\\n\\t\\t<string>es-cy</string>\\n\\t\\t<string>te-cy</string>\\n\\t\\t<string>u-cy</string>\\n\\t\\t<string>ef-cy</string>\\n\\t\\t<string>ha-cy</string>\\n\\t\\t<string>che-cy</string>\\n\\t\\t<string>tse-cy</string>\\n\\t\\t<string>sha-cy</string>\\n\\t\\t<string>shcha-cy</string>\\n\\t\\t<string>softsign-cy</string>\\n\\t\\t<string>hardsign-cy</string>\\n\\t\\t<string>yeru-cy</string>\\n\\t\\t<string>ereversed-cy</string>\\n\\t\\t<string>iu-cy</string>\\n\\t\\t<string>ia-cy</string>\\n\\t\\t<string>be-cy.001</string>\\n\\t\\t<string>ii-cy.001</string>\\n\\t\\t<string>be-cy.002</string>\\n\\t\\t<string>ii-cy.002</string>\\n\\t\\t<string>be-cy.003</string>\\n\\t\\t<string>fraction</string>\\n\\t\\t<string>ellipsis</string>\\n\\t\\t<string>bullet</string>\\n\\t\\t<string>endash</string>\\n\\t\\t<string>emdash</string>\\n\\t\\t<string>notequal</string>\\n\\t\\t<string>greaterequal</string>\\n\\t\\t<string>lessequal</string>\\n\\t\\t<string>approxequal</string>\\n\\t\\t<string>emptyset</string>\\n\\t\\t<string>infinity</string>\\n\\t\\t<string>integral</string>\\n\\t\\t<string>product</string>\\n\\t\\t<string>summation</string>\\n\\t\\t<string>radical</string>\\n\\t\\t<string>partialdiff</string>\\n\\t\\t<string>perthousand</string>\\n\\t\\t<string>upArrow</string>\\n\\t\\t<string>rightArrow</string>\\n\\t\\t<string>downArrow</string>\\n\\t\\t<string>leftArrow</string>\\n\\t\\t<string>lozenge</string>\\n\\t\\t<string>trademark</string>\\n\\t\\t<string>dagger</string>\\n\\t\\t<string>daggerdbl</string>\\n\\t\\t<string>dieresiscomb</string>\\n\\t\\t<string>dotaccentcomb</string>\\n\\t\\t<string>gravecomb</string>\\n\\t\\t<string>acutecomb</string>\\n\\t\\t<string>circumflexcomb</string>\\n\\t\\t<string>ringcomb</string>\\n\\t\\t<string>tildecomb</string>\\n\\t\\t<string>cedillacomb</string>\\n\\t\\t<string>brevecomb-cy</string>\\n\\t\\t<string>bubble</string>\\n\\t\\t<string>pixel</string>\\n\\t</array>\\n\\t<key>public.postscriptNames</key>\\n\\t<dict>\\n\\t\\t<key>downArrow</key>\\n\\t\\t<string>arrowdown</string>\\n\\t\\t<key>leftArrow</key>\\n\\t\\t<string>arrowleft</string>\\n\\t\\t<key>rightArrow</key>\\n\\t\\t<string>arrowright</string>\\n\\t\\t<key>upArrow</key>\\n\\t\\t<string>arrowup</string>\\n\\t</dict>\\n</dict>\\n</plist>\\n'"
            ]
          },
          "metadata": {
            "tags": []
          },
          "execution_count": 125
        }
      ]
    },
    {
      "cell_type": "markdown",
      "metadata": {
        "id": "ON6urKJWIll3",
        "colab_type": "text"
      },
      "source": [
        "Add root element to "
      ]
    },
    {
      "cell_type": "code",
      "metadata": {
        "id": "AAtWi2p6Ijs1",
        "colab_type": "code",
        "colab": {
          "base_uri": "https://localhost:8080/",
          "height": 34
        },
        "outputId": "1a69766e-42fc-45a3-f152-9a738b5bc268"
      },
      "source": [
        "ufo3_1_xml_form = ET.fromstring(ufo3_1_xml)\n",
        "ufo3_1_xml_form"
      ],
      "execution_count": 126,
      "outputs": [
        {
          "output_type": "execute_result",
          "data": {
            "text/plain": [
              "<Element 'plist' at 0x7f4ff6ab5e08>"
            ]
          },
          "metadata": {
            "tags": []
          },
          "execution_count": 126
        }
      ]
    },
    {
      "cell_type": "markdown",
      "metadata": {
        "id": "WaWK3zUE-YvT",
        "colab_type": "text"
      },
      "source": [
        "The second option"
      ]
    },
    {
      "cell_type": "code",
      "metadata": {
        "id": "ybaxYNK563PG",
        "colab_type": "code",
        "colab": {
          "base_uri": "https://localhost:8080/",
          "height": 54
        },
        "outputId": "c1bcf579-fb66-4b4e-ee8e-22a6d4ecadf0"
      },
      "source": [
        "!git clone https://github.com/kuzminadya/FHP-infovis-py.git\n"
      ],
      "execution_count": 127,
      "outputs": [
        {
          "output_type": "stream",
          "text": [
            "fatal: destination path 'FHP-infovis-py' already exists and is not an empty directory.\n"
          ],
          "name": "stdout"
        }
      ]
    },
    {
      "cell_type": "markdown",
      "metadata": {
        "id": "0zNDgDhzGYzt",
        "colab_type": "text"
      },
      "source": [
        "Read the file (with help of https://stackoverflow.com/questions/50843764/attributeerror-io-textiowrapper-object-has-no-attribute-split-error)"
      ]
    },
    {
      "cell_type": "code",
      "metadata": {
        "id": "UVg5z21xGhtd",
        "colab_type": "code",
        "colab": {
          "base_uri": "https://localhost:8080/",
          "height": 54
        },
        "outputId": "d29452ab-1ebb-4aaf-a64c-5726f20777e1"
      },
      "source": [
        "response_ver3 = open(\"FHP-infovis-py/ufo/2020.04.11mogeefont-v3.1.ufo/lib.plist\",\"r\")\n",
        "ufo3_1_xml = response_ver3.read()\n",
        "# print (ufo3_1_xml.split(\",\"))\n",
        "ufo3_1_xml"
      ],
      "execution_count": 128,
      "outputs": [
        {
          "output_type": "execute_result",
          "data": {
            "text/plain": [
              "'<?xml version=\"1.0\" encoding=\"UTF-8\"?>\\n<!DOCTYPE plist PUBLIC \"-//Apple Computer//DTD PLIST 1.0//EN\" \"http://www.apple.com/DTDs/PropertyList-1.0.dtd\">\\n<plist version=\"1.0\">\\n<dict>\\n\\t<key>com.schriftgestaltung.disablesAutomaticAlignment</key>\\n\\t<true/>\\n\\t<key>com.schriftgestaltung.font.customParameters</key>\\n\\t<array>\\n\\t\\t<dict>\\n\\t\\t\\t<key>name</key>\\n\\t\\t\\t<string>glyphOrder</string>\\n\\t\\t\\t<key>value</key>\\n\\t\\t\\t<array>\\n\\t\\t\\t\\t<string>space</string>\\n\\t\\t\\t\\t<string>exclam</string>\\n\\t\\t\\t\\t<string>quotesingle</string>\\n\\t\\t\\t\\t<string>quotedbl</string>\\n\\t\\t\\t\\t<string>numbersign</string>\\n\\t\\t\\t\\t<string>dollar</string>\\n\\t\\t\\t\\t<string>percent</string>\\n\\t\\t\\t\\t<string>ampersand</string>\\n\\t\\t\\t\\t<string>parenleft</string>\\n\\t\\t\\t\\t<string>parenright</string>\\n\\t\\t\\t\\t<string>asterisk</string>\\n\\t\\t\\t\\t<string>plus</string>\\n\\t\\t\\t\\t<string>comma</string>\\n\\t\\t\\t\\t<string>hyphen</string>\\n\\t\\t\\t\\t<string>period</string>\\n\\t\\t\\t\\t<string>slash</string>\\n\\t\\t\\t\\t<string>zero</string>\\n\\t\\t\\t\\t<string>one</string>\\n\\t\\t\\t\\t<string>two</string>\\n\\t\\t\\t\\t<string>three</string>\\n\\t\\t\\t\\t<string>four</string>\\n\\t\\t\\t\\t<string>five</string>\\n\\t\\t\\t\\t<string>six</string>\\n\\t\\t\\t\\t<string>seven</string>\\n\\t\\t\\t\\t<string>eight</string>\\n\\t\\t\\t\\t<string>nine</string>\\n\\t\\t\\t\\t<string>colon</string>\\n\\t\\t\\t\\t<string>semicolon</string>\\n\\t\\t\\t\\t<string>less</string>\\n\\t\\t\\t\\t<string>equal</string>\\n\\t\\t\\t\\t<string>greater</string>\\n\\t\\t\\t\\t<string>question</string>\\n\\t\\t\\t\\t<string>at</string>\\n\\t\\t\\t\\t<string>A</string>\\n\\t\\t\\t\\t<string>B</string>\\n\\t\\t\\t\\t<string>C</string>\\n\\t\\t\\t\\t<string>D</string>\\n\\t\\t\\t\\t<string>E</string>\\n\\t\\t\\t\\t<string>F</string>\\n\\t\\t\\t\\t<string>G</string>\\n\\t\\t\\t\\t<string>H</string>\\n\\t\\t\\t\\t<string>I</string>\\n\\t\\t\\t\\t<string>J</string>\\n\\t\\t\\t\\t<string>K</string>\\n\\t\\t\\t\\t<string>L</string>\\n\\t\\t\\t\\t<string>M</string>\\n\\t\\t\\t\\t<string>N</string>\\n\\t\\t\\t\\t<string>O</string>\\n\\t\\t\\t\\t<string>P</string>\\n\\t\\t\\t\\t<string>Q</string>\\n\\t\\t\\t\\t<string>R</string>\\n\\t\\t\\t\\t<string>S</string>\\n\\t\\t\\t\\t<string>T</string>\\n\\t\\t\\t\\t<string>U</string>\\n\\t\\t\\t\\t<string>V</string>\\n\\t\\t\\t\\t<string>W</string>\\n\\t\\t\\t\\t<string>X</string>\\n\\t\\t\\t\\t<string>Y</string>\\n\\t\\t\\t\\t<string>Z</string>\\n\\t\\t\\t\\t<string>bracketleft</string>\\n\\t\\t\\t\\t<string>backslash</string>\\n\\t\\t\\t\\t<string>bracketright</string>\\n\\t\\t\\t\\t<string>asciicircum</string>\\n\\t\\t\\t\\t<string>underscore</string>\\n\\t\\t\\t\\t<string>grave</string>\\n\\t\\t\\t\\t<string>a</string>\\n\\t\\t\\t\\t<string>b</string>\\n\\t\\t\\t\\t<string>c</string>\\n\\t\\t\\t\\t<string>d</string>\\n\\t\\t\\t\\t<string>e</string>\\n\\t\\t\\t\\t<string>f</string>\\n\\t\\t\\t\\t<string>g</string>\\n\\t\\t\\t\\t<string>h</string>\\n\\t\\t\\t\\t<string>i</string>\\n\\t\\t\\t\\t<string>j</string>\\n\\t\\t\\t\\t<string>k</string>\\n\\t\\t\\t\\t<string>l</string>\\n\\t\\t\\t\\t<string>m</string>\\n\\t\\t\\t\\t<string>n</string>\\n\\t\\t\\t\\t<string>o</string>\\n\\t\\t\\t\\t<string>p</string>\\n\\t\\t\\t\\t<string>q</string>\\n\\t\\t\\t\\t<string>r</string>\\n\\t\\t\\t\\t<string>s</string>\\n\\t\\t\\t\\t<string>t</string>\\n\\t\\t\\t\\t<string>u</string>\\n\\t\\t\\t\\t<string>v</string>\\n\\t\\t\\t\\t<string>w</string>\\n\\t\\t\\t\\t<string>x</string>\\n\\t\\t\\t\\t<string>y</string>\\n\\t\\t\\t\\t<string>z</string>\\n\\t\\t\\t\\t<string>braceleft</string>\\n\\t\\t\\t\\t<string>bar</string>\\n\\t\\t\\t\\t<string>braceright</string>\\n\\t\\t\\t\\t<string>asciitilde</string>\\n\\t\\t\\t\\t<string>exclamdown</string>\\n\\t\\t\\t\\t<string>cent</string>\\n\\t\\t\\t\\t<string>sterling</string>\\n\\t\\t\\t\\t<string>currency</string>\\n\\t\\t\\t\\t<string>yen</string>\\n\\t\\t\\t\\t<string>brokenbar</string>\\n\\t\\t\\t\\t<string>section</string>\\n\\t\\t\\t\\t<string>dieresis</string>\\n\\t\\t\\t\\t<string>copyright</string>\\n\\t\\t\\t\\t<string>ordfeminine</string>\\n\\t\\t\\t\\t<string>guillemotleft</string>\\n\\t\\t\\t\\t<string>logicalnot</string>\\n\\t\\t\\t\\t<string>registered</string>\\n\\t\\t\\t\\t<string>macron</string>\\n\\t\\t\\t\\t<string>degree</string>\\n\\t\\t\\t\\t<string>plusminus</string>\\n\\t\\t\\t\\t<string>twosuperior</string>\\n\\t\\t\\t\\t<string>threesuperior</string>\\n\\t\\t\\t\\t<string>acute</string>\\n\\t\\t\\t\\t<string>mu</string>\\n\\t\\t\\t\\t<string>paragraph</string>\\n\\t\\t\\t\\t<string>periodcentered</string>\\n\\t\\t\\t\\t<string>cedilla</string>\\n\\t\\t\\t\\t<string>onesuperior</string>\\n\\t\\t\\t\\t<string>ordmasculine</string>\\n\\t\\t\\t\\t<string>guillemotright</string>\\n\\t\\t\\t\\t<string>onequarter</string>\\n\\t\\t\\t\\t<string>onehalf</string>\\n\\t\\t\\t\\t<string>threequarters</string>\\n\\t\\t\\t\\t<string>questiondown</string>\\n\\t\\t\\t\\t<string>Agrave</string>\\n\\t\\t\\t\\t<string>Aacute</string>\\n\\t\\t\\t\\t<string>Acircumflex</string>\\n\\t\\t\\t\\t<string>Atilde</string>\\n\\t\\t\\t\\t<string>Adieresis</string>\\n\\t\\t\\t\\t<string>Aring</string>\\n\\t\\t\\t\\t<string>AE</string>\\n\\t\\t\\t\\t<string>Ccedilla</string>\\n\\t\\t\\t\\t<string>Egrave</string>\\n\\t\\t\\t\\t<string>Eacute</string>\\n\\t\\t\\t\\t<string>Ecircumflex</string>\\n\\t\\t\\t\\t<string>Edieresis</string>\\n\\t\\t\\t\\t<string>Igrave</string>\\n\\t\\t\\t\\t<string>Iacute</string>\\n\\t\\t\\t\\t<string>Icircumflex</string>\\n\\t\\t\\t\\t<string>Idieresis</string>\\n\\t\\t\\t\\t<string>Eth</string>\\n\\t\\t\\t\\t<string>Ntilde</string>\\n\\t\\t\\t\\t<string>Ograve</string>\\n\\t\\t\\t\\t<string>Oacute</string>\\n\\t\\t\\t\\t<string>Ocircumflex</string>\\n\\t\\t\\t\\t<string>Otilde</string>\\n\\t\\t\\t\\t<string>Odieresis</string>\\n\\t\\t\\t\\t<string>multiply</string>\\n\\t\\t\\t\\t<string>Oslash</string>\\n\\t\\t\\t\\t<string>Ugrave</string>\\n\\t\\t\\t\\t<string>Uacute</string>\\n\\t\\t\\t\\t<string>Ucircumflex</string>\\n\\t\\t\\t\\t<string>Udieresis</string>\\n\\t\\t\\t\\t<string>Yacute</string>\\n\\t\\t\\t\\t<string>Thorn</string>\\n\\t\\t\\t\\t<string>germandbls</string>\\n\\t\\t\\t\\t<string>agrave</string>\\n\\t\\t\\t\\t<string>aacute</string>\\n\\t\\t\\t\\t<string>acircumflex</string>\\n\\t\\t\\t\\t<string>atilde</string>\\n\\t\\t\\t\\t<string>adieresis</string>\\n\\t\\t\\t\\t<string>aring</string>\\n\\t\\t\\t\\t<string>ae</string>\\n\\t\\t\\t\\t<string>ccedilla</string>\\n\\t\\t\\t\\t<string>egrave</string>\\n\\t\\t\\t\\t<string>eacute</string>\\n\\t\\t\\t\\t<string>ecircumflex</string>\\n\\t\\t\\t\\t<string>edieresis</string>\\n\\t\\t\\t\\t<string>igrave</string>\\n\\t\\t\\t\\t<string>iacute</string>\\n\\t\\t\\t\\t<string>icircumflex</string>\\n\\t\\t\\t\\t<string>idieresis</string>\\n\\t\\t\\t\\t<string>eth</string>\\n\\t\\t\\t\\t<string>ntilde</string>\\n\\t\\t\\t\\t<string>ograve</string>\\n\\t\\t\\t\\t<string>oacute</string>\\n\\t\\t\\t\\t<string>ocircumflex</string>\\n\\t\\t\\t\\t<string>otilde</string>\\n\\t\\t\\t\\t<string>odieresis</string>\\n\\t\\t\\t\\t<string>divide</string>\\n\\t\\t\\t\\t<string>oslash</string>\\n\\t\\t\\t\\t<string>ugrave</string>\\n\\t\\t\\t\\t<string>uacute</string>\\n\\t\\t\\t\\t<string>ucircumflex</string>\\n\\t\\t\\t\\t<string>udieresis</string>\\n\\t\\t\\t\\t<string>yacute</string>\\n\\t\\t\\t\\t<string>thorn</string>\\n\\t\\t\\t\\t<string>ydieresis</string>\\n\\t\\t\\t\\t<string>dotlessi</string>\\n\\t\\t\\t\\t<string>circumflex</string>\\n\\t\\t\\t\\t<string>caron</string>\\n\\t\\t\\t\\t<string>breve</string>\\n\\t\\t\\t\\t<string>dotaccent</string>\\n\\t\\t\\t\\t<string>ring</string>\\n\\t\\t\\t\\t<string>ogonek</string>\\n\\t\\t\\t\\t<string>tilde</string>\\n\\t\\t\\t\\t<string>hungarumlaut</string>\\n\\t\\t\\t\\t<string>quoteleft</string>\\n\\t\\t\\t\\t<string>quoteright</string>\\n\\t\\t\\t\\t<string>minus</string>\\n\\t\\t\\t\\t<string>p.10</string>\\n\\t\\t\\t\\t<string>p.9</string>\\n\\t\\t\\t\\t<string>p.3</string>\\n\\t\\t\\t\\t<string>p.8</string>\\n\\t\\t\\t\\t<string>p.2</string>\\n\\t\\t\\t\\t<string>p.4</string>\\n\\t\\t\\t\\t<string>p.7</string>\\n\\t\\t\\t\\t<string>p.6</string>\\n\\t\\t\\t\\t<string>p.1</string>\\n\\t\\t\\t\\t<string>p.5</string>\\n\\t\\t\\t\\t<string>p.3.copy_1</string>\\n\\t\\t\\t\\t<string>p.8.copy_2.copy_1</string>\\n\\t\\t\\t\\t<string>p.8.copy_1.copy_2</string>\\n\\t\\t\\t\\t<string>p.8.copy_1.copy_3</string>\\n\\t\\t\\t\\t<string>p.8.copy_1.copy_1</string>\\n\\t\\t\\t\\t<string>p.8.copy_1</string>\\n\\t\\t\\t\\t<string>p.8.copy_2</string>\\n\\t\\t\\t\\t<string>p.9.copy_1</string>\\n\\t\\t\\t\\t<string>p.2.copy_2</string>\\n\\t\\t\\t\\t<string>p.2.copy_3</string>\\n\\t\\t\\t\\t<string>p.2.copy_1</string>\\n\\t\\t\\t\\t<string>p_.8</string>\\n\\t\\t\\t\\t<string>p.8.copy_1.copy_3.copy_1</string>\\n\\t\\t\\t\\t<string>four.tl</string>\\n\\t\\t\\t\\t<string>two.tl</string>\\n\\t\\t\\t\\t<string>eight.tl</string>\\n\\t\\t\\t\\t<string>seven.tl</string>\\n\\t\\t\\t\\t<string>six.tl</string>\\n\\t\\t\\t\\t<string>five.tl</string>\\n\\t\\t\\t\\t<string>three.tl</string>\\n\\t\\t\\t\\t<string>nine.tl</string>\\n\\t\\t\\t\\t<string>one.tl</string>\\n\\t\\t\\t\\t<string>zero.tl</string>\\n\\t\\t\\t</array>\\n\\t\\t</dict>\\n\\t\\t<dict>\\n\\t\\t\\t<key>name</key>\\n\\t\\t\\t<string>Use Typo Metrics</string>\\n\\t\\t\\t<key>value</key>\\n\\t\\t\\t<true/>\\n\\t\\t</dict>\\n\\t</array>\\n\\t<key>com.schriftgestaltung.fontMasterID</key>\\n\\t<string>master01</string>\\n\\t<key>com.schriftgestaltung.glyphOrder</key>\\n\\t<array>\\n\\t\\t<string>space</string>\\n\\t\\t<string>exclam</string>\\n\\t\\t<string>quotesingle</string>\\n\\t\\t<string>quotedbl</string>\\n\\t\\t<string>numbersign</string>\\n\\t\\t<string>dollar</string>\\n\\t\\t<string>percent</string>\\n\\t\\t<string>ampersand</string>\\n\\t\\t<string>parenleft</string>\\n\\t\\t<string>parenright</string>\\n\\t\\t<string>asterisk</string>\\n\\t\\t<string>plus</string>\\n\\t\\t<string>comma</string>\\n\\t\\t<string>hyphen</string>\\n\\t\\t<string>period</string>\\n\\t\\t<string>slash</string>\\n\\t\\t<string>zero</string>\\n\\t\\t<string>one</string>\\n\\t\\t<string>two</string>\\n\\t\\t<string>three</string>\\n\\t\\t<string>four</string>\\n\\t\\t<string>five</string>\\n\\t\\t<string>six</string>\\n\\t\\t<string>seven</string>\\n\\t\\t<string>eight</string>\\n\\t\\t<string>nine</string>\\n\\t\\t<string>colon</string>\\n\\t\\t<string>semicolon</string>\\n\\t\\t<string>less</string>\\n\\t\\t<string>equal</string>\\n\\t\\t<string>greater</string>\\n\\t\\t<string>question</string>\\n\\t\\t<string>at</string>\\n\\t\\t<string>A</string>\\n\\t\\t<string>B</string>\\n\\t\\t<string>C</string>\\n\\t\\t<string>D</string>\\n\\t\\t<string>E</string>\\n\\t\\t<string>F</string>\\n\\t\\t<string>G</string>\\n\\t\\t<string>H</string>\\n\\t\\t<string>I</string>\\n\\t\\t<string>J</string>\\n\\t\\t<string>K</string>\\n\\t\\t<string>L</string>\\n\\t\\t<string>M</string>\\n\\t\\t<string>N</string>\\n\\t\\t<string>O</string>\\n\\t\\t<string>P</string>\\n\\t\\t<string>Q</string>\\n\\t\\t<string>R</string>\\n\\t\\t<string>S</string>\\n\\t\\t<string>T</string>\\n\\t\\t<string>U</string>\\n\\t\\t<string>V</string>\\n\\t\\t<string>W</string>\\n\\t\\t<string>X</string>\\n\\t\\t<string>Y</string>\\n\\t\\t<string>Z</string>\\n\\t\\t<string>bracketleft</string>\\n\\t\\t<string>backslash</string>\\n\\t\\t<string>bracketright</string>\\n\\t\\t<string>asciicircum</string>\\n\\t\\t<string>underscore</string>\\n\\t\\t<string>grave</string>\\n\\t\\t<string>a</string>\\n\\t\\t<string>b</string>\\n\\t\\t<string>c</string>\\n\\t\\t<string>d</string>\\n\\t\\t<string>e</string>\\n\\t\\t<string>f</string>\\n\\t\\t<string>g</string>\\n\\t\\t<string>h</string>\\n\\t\\t<string>i</string>\\n\\t\\t<string>j</string>\\n\\t\\t<string>k</string>\\n\\t\\t<string>l</string>\\n\\t\\t<string>m</string>\\n\\t\\t<string>n</string>\\n\\t\\t<string>o</string>\\n\\t\\t<string>p</string>\\n\\t\\t<string>q</string>\\n\\t\\t<string>r</string>\\n\\t\\t<string>s</string>\\n\\t\\t<string>t</string>\\n\\t\\t<string>u</string>\\n\\t\\t<string>v</string>\\n\\t\\t<string>w</string>\\n\\t\\t<string>x</string>\\n\\t\\t<string>y</string>\\n\\t\\t<string>z</string>\\n\\t\\t<string>braceleft</string>\\n\\t\\t<string>bar</string>\\n\\t\\t<string>braceright</string>\\n\\t\\t<string>asciitilde</string>\\n\\t\\t<string>exclamdown</string>\\n\\t\\t<string>cent</string>\\n\\t\\t<string>sterling</string>\\n\\t\\t<string>currency</string>\\n\\t\\t<string>yen</string>\\n\\t\\t<string>brokenbar</string>\\n\\t\\t<string>section</string>\\n\\t\\t<string>dieresis</string>\\n\\t\\t<string>copyright</string>\\n\\t\\t<string>ordfeminine</string>\\n\\t\\t<string>guillemotleft</string>\\n\\t\\t<string>logicalnot</string>\\n\\t\\t<string>registered</string>\\n\\t\\t<string>macron</string>\\n\\t\\t<string>degree</string>\\n\\t\\t<string>plusminus</string>\\n\\t\\t<string>twosuperior</string>\\n\\t\\t<string>threesuperior</string>\\n\\t\\t<string>acute</string>\\n\\t\\t<string>mu</string>\\n\\t\\t<string>paragraph</string>\\n\\t\\t<string>periodcentered</string>\\n\\t\\t<string>cedilla</string>\\n\\t\\t<string>onesuperior</string>\\n\\t\\t<string>ordmasculine</string>\\n\\t\\t<string>guillemotright</string>\\n\\t\\t<string>onequarter</string>\\n\\t\\t<string>onehalf</string>\\n\\t\\t<string>threequarters</string>\\n\\t\\t<string>questiondown</string>\\n\\t\\t<string>Agrave</string>\\n\\t\\t<string>Aacute</string>\\n\\t\\t<string>Acircumflex</string>\\n\\t\\t<string>Atilde</string>\\n\\t\\t<string>Adieresis</string>\\n\\t\\t<string>Aring</string>\\n\\t\\t<string>AE</string>\\n\\t\\t<string>Ccedilla</string>\\n\\t\\t<string>Egrave</string>\\n\\t\\t<string>Eacute</string>\\n\\t\\t<string>Ecircumflex</string>\\n\\t\\t<string>Edieresis</string>\\n\\t\\t<string>Igrave</string>\\n\\t\\t<string>Iacute</string>\\n\\t\\t<string>Icircumflex</string>\\n\\t\\t<string>Idieresis</string>\\n\\t\\t<string>Eth</string>\\n\\t\\t<string>Ntilde</string>\\n\\t\\t<string>Ograve</string>\\n\\t\\t<string>Oacute</string>\\n\\t\\t<string>Ocircumflex</string>\\n\\t\\t<string>Otilde</string>\\n\\t\\t<string>Odieresis</string>\\n\\t\\t<string>multiply</string>\\n\\t\\t<string>Oslash</string>\\n\\t\\t<string>Ugrave</string>\\n\\t\\t<string>Uacute</string>\\n\\t\\t<string>Ucircumflex</string>\\n\\t\\t<string>Udieresis</string>\\n\\t\\t<string>Yacute</string>\\n\\t\\t<string>Thorn</string>\\n\\t\\t<string>germandbls</string>\\n\\t\\t<string>agrave</string>\\n\\t\\t<string>aacute</string>\\n\\t\\t<string>acircumflex</string>\\n\\t\\t<string>atilde</string>\\n\\t\\t<string>adieresis</string>\\n\\t\\t<string>aring</string>\\n\\t\\t<string>ae</string>\\n\\t\\t<string>ccedilla</string>\\n\\t\\t<string>egrave</string>\\n\\t\\t<string>eacute</string>\\n\\t\\t<string>ecircumflex</string>\\n\\t\\t<string>edieresis</string>\\n\\t\\t<string>igrave</string>\\n\\t\\t<string>iacute</string>\\n\\t\\t<string>icircumflex</string>\\n\\t\\t<string>idieresis</string>\\n\\t\\t<string>eth</string>\\n\\t\\t<string>ntilde</string>\\n\\t\\t<string>ograve</string>\\n\\t\\t<string>oacute</string>\\n\\t\\t<string>ocircumflex</string>\\n\\t\\t<string>otilde</string>\\n\\t\\t<string>odieresis</string>\\n\\t\\t<string>divide</string>\\n\\t\\t<string>oslash</string>\\n\\t\\t<string>ugrave</string>\\n\\t\\t<string>uacute</string>\\n\\t\\t<string>ucircumflex</string>\\n\\t\\t<string>udieresis</string>\\n\\t\\t<string>yacute</string>\\n\\t\\t<string>thorn</string>\\n\\t\\t<string>ydieresis</string>\\n\\t\\t<string>dotlessi</string>\\n\\t\\t<string>circumflex</string>\\n\\t\\t<string>caron</string>\\n\\t\\t<string>breve</string>\\n\\t\\t<string>dotaccent</string>\\n\\t\\t<string>ring</string>\\n\\t\\t<string>ogonek</string>\\n\\t\\t<string>tilde</string>\\n\\t\\t<string>hungarumlaut</string>\\n\\t\\t<string>quoteleft</string>\\n\\t\\t<string>quoteright</string>\\n\\t\\t<string>minus</string>\\n\\t\\t<string>p.10</string>\\n\\t\\t<string>p.9</string>\\n\\t\\t<string>p.3</string>\\n\\t\\t<string>p.8</string>\\n\\t\\t<string>p.2</string>\\n\\t\\t<string>p.4</string>\\n\\t\\t<string>p.7</string>\\n\\t\\t<string>p.6</string>\\n\\t\\t<string>p.1</string>\\n\\t\\t<string>p.5</string>\\n\\t\\t<string>p.3.copy_1</string>\\n\\t\\t<string>p.8.copy_2.copy_1</string>\\n\\t\\t<string>p.8.copy_1.copy_2</string>\\n\\t\\t<string>p.8.copy_1.copy_3</string>\\n\\t\\t<string>p.8.copy_1.copy_1</string>\\n\\t\\t<string>p.8.copy_1</string>\\n\\t\\t<string>p.8.copy_2</string>\\n\\t\\t<string>p.9.copy_1</string>\\n\\t\\t<string>p.2.copy_2</string>\\n\\t\\t<string>p.2.copy_3</string>\\n\\t\\t<string>p.2.copy_1</string>\\n\\t\\t<string>p_.8</string>\\n\\t\\t<string>p.8.copy_1.copy_3.copy_1</string>\\n\\t\\t<string>four.tl</string>\\n\\t\\t<string>two.tl</string>\\n\\t\\t<string>eight.tl</string>\\n\\t\\t<string>seven.tl</string>\\n\\t\\t<string>six.tl</string>\\n\\t\\t<string>five.tl</string>\\n\\t\\t<string>three.tl</string>\\n\\t\\t<string>nine.tl</string>\\n\\t\\t<string>one.tl</string>\\n\\t\\t<string>zero.tl</string>\\n\\t</array>\\n\\t<key>com.schriftgestaltung.gridSize</key>\\n\\t<integer>80</integer>\\n\\t<key>com.schriftgestaltung.useNiceNames</key>\\n\\t<false/>\\n\\t<key>com.schriftgestaltung.weightValue</key>\\n\\t<integer>400</integer>\\n\\t<key>com.typemytype.robofont.background.layerStrokeColor</key>\\n\\t<array>\\n\\t\\t<integer>0</integer>\\n\\t\\t<real>0.8</real>\\n\\t\\t<real>0.2</real>\\n\\t\\t<real>0.7</real>\\n\\t</array>\\n\\t<key>com.typemytype.robofont.compileSettings.autohint</key>\\n\\t<integer>1</integer>\\n\\t<key>com.typemytype.robofont.compileSettings.checkOutlines</key>\\n\\t<integer>0</integer>\\n\\t<key>com.typemytype.robofont.compileSettings.decompose</key>\\n\\t<integer>0</integer>\\n\\t<key>com.typemytype.robofont.compileSettings.generateFormat</key>\\n\\t<integer>0</integer>\\n\\t<key>com.typemytype.robofont.compileSettings.releaseMode</key>\\n\\t<integer>0</integer>\\n\\t<key>com.typemytype.robofont.foreground.layerStrokeColor</key>\\n\\t<array>\\n\\t\\t<real>0.5</real>\\n\\t\\t<integer>0</integer>\\n\\t\\t<real>0.5</real>\\n\\t\\t<real>0.7</real>\\n\\t</array>\\n\\t<key>com.typemytype.robofont.italicSlantOffset</key>\\n\\t<integer>0</integer>\\n\\t<key>com.typemytype.robofont.layerOrder</key>\\n\\t<array>\\n\\t\\t<string>background</string>\\n\\t</array>\\n\\t<key>com.typemytype.robofont.segmentType</key>\\n\\t<string>curve</string>\\n\\t<key>com.typemytype.robofont.shouldAddPointsInSplineConversion</key>\\n\\t<integer>0</integer>\\n\\t<key>com.typemytype.robofont.sort</key>\\n\\t<array>\\n\\t\\t<dict>\\n\\t\\t\\t<key>ascending</key>\\n\\t\\t\\t<array>\\n\\t\\t\\t\\t<string>space</string>\\n\\t\\t\\t\\t<string>exclam</string>\\n\\t\\t\\t\\t<string>quotesingle</string>\\n\\t\\t\\t\\t<string>quotedbl</string>\\n\\t\\t\\t\\t<string>numbersign</string>\\n\\t\\t\\t\\t<string>dollar</string>\\n\\t\\t\\t\\t<string>percent</string>\\n\\t\\t\\t\\t<string>ampersand</string>\\n\\t\\t\\t\\t<string>parenleft</string>\\n\\t\\t\\t\\t<string>parenright</string>\\n\\t\\t\\t\\t<string>asterisk</string>\\n\\t\\t\\t\\t<string>plus</string>\\n\\t\\t\\t\\t<string>comma</string>\\n\\t\\t\\t\\t<string>hyphen</string>\\n\\t\\t\\t\\t<string>period</string>\\n\\t\\t\\t\\t<string>slash</string>\\n\\t\\t\\t\\t<string>zero</string>\\n\\t\\t\\t\\t<string>one</string>\\n\\t\\t\\t\\t<string>two</string>\\n\\t\\t\\t\\t<string>three</string>\\n\\t\\t\\t\\t<string>four</string>\\n\\t\\t\\t\\t<string>five</string>\\n\\t\\t\\t\\t<string>six</string>\\n\\t\\t\\t\\t<string>seven</string>\\n\\t\\t\\t\\t<string>eight</string>\\n\\t\\t\\t\\t<string>nine</string>\\n\\t\\t\\t\\t<string>colon</string>\\n\\t\\t\\t\\t<string>semicolon</string>\\n\\t\\t\\t\\t<string>less</string>\\n\\t\\t\\t\\t<string>equal</string>\\n\\t\\t\\t\\t<string>greater</string>\\n\\t\\t\\t\\t<string>question</string>\\n\\t\\t\\t\\t<string>at</string>\\n\\t\\t\\t\\t<string>A</string>\\n\\t\\t\\t\\t<string>B</string>\\n\\t\\t\\t\\t<string>C</string>\\n\\t\\t\\t\\t<string>D</string>\\n\\t\\t\\t\\t<string>E</string>\\n\\t\\t\\t\\t<string>F</string>\\n\\t\\t\\t\\t<string>G</string>\\n\\t\\t\\t\\t<string>H</string>\\n\\t\\t\\t\\t<string>I</string>\\n\\t\\t\\t\\t<string>J</string>\\n\\t\\t\\t\\t<string>K</string>\\n\\t\\t\\t\\t<string>L</string>\\n\\t\\t\\t\\t<string>M</string>\\n\\t\\t\\t\\t<string>N</string>\\n\\t\\t\\t\\t<string>O</string>\\n\\t\\t\\t\\t<string>P</string>\\n\\t\\t\\t\\t<string>Q</string>\\n\\t\\t\\t\\t<string>R</string>\\n\\t\\t\\t\\t<string>S</string>\\n\\t\\t\\t\\t<string>T</string>\\n\\t\\t\\t\\t<string>U</string>\\n\\t\\t\\t\\t<string>V</string>\\n\\t\\t\\t\\t<string>W</string>\\n\\t\\t\\t\\t<string>X</string>\\n\\t\\t\\t\\t<string>Y</string>\\n\\t\\t\\t\\t<string>Z</string>\\n\\t\\t\\t\\t<string>bracketleft</string>\\n\\t\\t\\t\\t<string>backslash</string>\\n\\t\\t\\t\\t<string>bracketright</string>\\n\\t\\t\\t\\t<string>asciicircum</string>\\n\\t\\t\\t\\t<string>underscore</string>\\n\\t\\t\\t\\t<string>grave</string>\\n\\t\\t\\t\\t<string>a</string>\\n\\t\\t\\t\\t<string>b</string>\\n\\t\\t\\t\\t<string>c</string>\\n\\t\\t\\t\\t<string>d</string>\\n\\t\\t\\t\\t<string>e</string>\\n\\t\\t\\t\\t<string>f</string>\\n\\t\\t\\t\\t<string>g</string>\\n\\t\\t\\t\\t<string>h</string>\\n\\t\\t\\t\\t<string>i</string>\\n\\t\\t\\t\\t<string>j</string>\\n\\t\\t\\t\\t<string>k</string>\\n\\t\\t\\t\\t<string>l</string>\\n\\t\\t\\t\\t<string>m</string>\\n\\t\\t\\t\\t<string>n</string>\\n\\t\\t\\t\\t<string>o</string>\\n\\t\\t\\t\\t<string>p</string>\\n\\t\\t\\t\\t<string>q</string>\\n\\t\\t\\t\\t<string>r</string>\\n\\t\\t\\t\\t<string>s</string>\\n\\t\\t\\t\\t<string>t</string>\\n\\t\\t\\t\\t<string>u</string>\\n\\t\\t\\t\\t<string>v</string>\\n\\t\\t\\t\\t<string>w</string>\\n\\t\\t\\t\\t<string>x</string>\\n\\t\\t\\t\\t<string>y</string>\\n\\t\\t\\t\\t<string>z</string>\\n\\t\\t\\t\\t<string>braceleft</string>\\n\\t\\t\\t\\t<string>bar</string>\\n\\t\\t\\t\\t<string>braceright</string>\\n\\t\\t\\t\\t<string>asciitilde</string>\\n\\t\\t\\t\\t<string>exclamdown</string>\\n\\t\\t\\t\\t<string>cent</string>\\n\\t\\t\\t\\t<string>sterling</string>\\n\\t\\t\\t\\t<string>currency</string>\\n\\t\\t\\t\\t<string>yen</string>\\n\\t\\t\\t\\t<string>brokenbar</string>\\n\\t\\t\\t\\t<string>section</string>\\n\\t\\t\\t\\t<string>dieresis</string>\\n\\t\\t\\t\\t<string>copyright</string>\\n\\t\\t\\t\\t<string>ordfeminine</string>\\n\\t\\t\\t\\t<string>guillemotleft</string>\\n\\t\\t\\t\\t<string>logicalnot</string>\\n\\t\\t\\t\\t<string>registered</string>\\n\\t\\t\\t\\t<string>macron</string>\\n\\t\\t\\t\\t<string>degree</string>\\n\\t\\t\\t\\t<string>plusminus</string>\\n\\t\\t\\t\\t<string>twosuperior</string>\\n\\t\\t\\t\\t<string>threesuperior</string>\\n\\t\\t\\t\\t<string>acute</string>\\n\\t\\t\\t\\t<string>mu</string>\\n\\t\\t\\t\\t<string>paragraph</string>\\n\\t\\t\\t\\t<string>periodcentered</string>\\n\\t\\t\\t\\t<string>cedilla</string>\\n\\t\\t\\t\\t<string>onesuperior</string>\\n\\t\\t\\t\\t<string>ordmasculine</string>\\n\\t\\t\\t\\t<string>guillemotright</string>\\n\\t\\t\\t\\t<string>onequarter</string>\\n\\t\\t\\t\\t<string>onehalf</string>\\n\\t\\t\\t\\t<string>threequarters</string>\\n\\t\\t\\t\\t<string>questiondown</string>\\n\\t\\t\\t\\t<string>Agrave</string>\\n\\t\\t\\t\\t<string>Aacute</string>\\n\\t\\t\\t\\t<string>Acircumflex</string>\\n\\t\\t\\t\\t<string>Atilde</string>\\n\\t\\t\\t\\t<string>Adieresis</string>\\n\\t\\t\\t\\t<string>Aring</string>\\n\\t\\t\\t\\t<string>AE</string>\\n\\t\\t\\t\\t<string>Ccedilla</string>\\n\\t\\t\\t\\t<string>Egrave</string>\\n\\t\\t\\t\\t<string>Eacute</string>\\n\\t\\t\\t\\t<string>Ecircumflex</string>\\n\\t\\t\\t\\t<string>Edieresis</string>\\n\\t\\t\\t\\t<string>Igrave</string>\\n\\t\\t\\t\\t<string>Iacute</string>\\n\\t\\t\\t\\t<string>Icircumflex</string>\\n\\t\\t\\t\\t<string>Idieresis</string>\\n\\t\\t\\t\\t<string>Eth</string>\\n\\t\\t\\t\\t<string>Ntilde</string>\\n\\t\\t\\t\\t<string>Ograve</string>\\n\\t\\t\\t\\t<string>Oacute</string>\\n\\t\\t\\t\\t<string>Ocircumflex</string>\\n\\t\\t\\t\\t<string>Otilde</string>\\n\\t\\t\\t\\t<string>Odieresis</string>\\n\\t\\t\\t\\t<string>multiply</string>\\n\\t\\t\\t\\t<string>Oslash</string>\\n\\t\\t\\t\\t<string>Ugrave</string>\\n\\t\\t\\t\\t<string>Uacute</string>\\n\\t\\t\\t\\t<string>Ucircumflex</string>\\n\\t\\t\\t\\t<string>Udieresis</string>\\n\\t\\t\\t\\t<string>Yacute</string>\\n\\t\\t\\t\\t<string>Thorn</string>\\n\\t\\t\\t\\t<string>germandbls</string>\\n\\t\\t\\t\\t<string>agrave</string>\\n\\t\\t\\t\\t<string>aacute</string>\\n\\t\\t\\t\\t<string>acircumflex</string>\\n\\t\\t\\t\\t<string>atilde</string>\\n\\t\\t\\t\\t<string>adieresis</string>\\n\\t\\t\\t\\t<string>aring</string>\\n\\t\\t\\t\\t<string>ae</string>\\n\\t\\t\\t\\t<string>ccedilla</string>\\n\\t\\t\\t\\t<string>egrave</string>\\n\\t\\t\\t\\t<string>eacute</string>\\n\\t\\t\\t\\t<string>ecircumflex</string>\\n\\t\\t\\t\\t<string>edieresis</string>\\n\\t\\t\\t\\t<string>igrave</string>\\n\\t\\t\\t\\t<string>iacute</string>\\n\\t\\t\\t\\t<string>icircumflex</string>\\n\\t\\t\\t\\t<string>idieresis</string>\\n\\t\\t\\t\\t<string>eth</string>\\n\\t\\t\\t\\t<string>ntilde</string>\\n\\t\\t\\t\\t<string>ograve</string>\\n\\t\\t\\t\\t<string>oacute</string>\\n\\t\\t\\t\\t<string>ocircumflex</string>\\n\\t\\t\\t\\t<string>otilde</string>\\n\\t\\t\\t\\t<string>odieresis</string>\\n\\t\\t\\t\\t<string>divide</string>\\n\\t\\t\\t\\t<string>oslash</string>\\n\\t\\t\\t\\t<string>ugrave</string>\\n\\t\\t\\t\\t<string>uacute</string>\\n\\t\\t\\t\\t<string>ucircumflex</string>\\n\\t\\t\\t\\t<string>udieresis</string>\\n\\t\\t\\t\\t<string>yacute</string>\\n\\t\\t\\t\\t<string>thorn</string>\\n\\t\\t\\t\\t<string>ydieresis</string>\\n\\t\\t\\t\\t<string>dotlessi</string>\\n\\t\\t\\t\\t<string>circumflex</string>\\n\\t\\t\\t\\t<string>caron</string>\\n\\t\\t\\t\\t<string>breve</string>\\n\\t\\t\\t\\t<string>dotaccent</string>\\n\\t\\t\\t\\t<string>ring</string>\\n\\t\\t\\t\\t<string>ogonek</string>\\n\\t\\t\\t\\t<string>tilde</string>\\n\\t\\t\\t\\t<string>hungarumlaut</string>\\n\\t\\t\\t\\t<string>quoteleft</string>\\n\\t\\t\\t\\t<string>quoteright</string>\\n\\t\\t\\t\\t<string>minus</string>\\n\\t\\t\\t\\t<string>p.10</string>\\n\\t\\t\\t\\t<string>p.9</string>\\n\\t\\t\\t\\t<string>p.3</string>\\n\\t\\t\\t\\t<string>p.8</string>\\n\\t\\t\\t\\t<string>p.2</string>\\n\\t\\t\\t\\t<string>p.4</string>\\n\\t\\t\\t\\t<string>p.7</string>\\n\\t\\t\\t\\t<string>p.6</string>\\n\\t\\t\\t\\t<string>p.1</string>\\n\\t\\t\\t\\t<string>p.5</string>\\n\\t\\t\\t\\t<string>p.3.copy_1</string>\\n\\t\\t\\t\\t<string>p.8.copy_2.copy_1</string>\\n\\t\\t\\t\\t<string>p.8.copy_1.copy_2</string>\\n\\t\\t\\t\\t<string>p.8.copy_1.copy_3</string>\\n\\t\\t\\t\\t<string>p.8.copy_1.copy_1</string>\\n\\t\\t\\t\\t<string>p.8.copy_1</string>\\n\\t\\t\\t\\t<string>p.8.copy_2</string>\\n\\t\\t\\t\\t<string>p.9.copy_1</string>\\n\\t\\t\\t\\t<string>p.2.copy_2</string>\\n\\t\\t\\t\\t<string>p.2.copy_3</string>\\n\\t\\t\\t\\t<string>p.2.copy_1</string>\\n\\t\\t\\t\\t<string>p_.8</string>\\n\\t\\t\\t\\t<string>p.8.copy_1.copy_3.copy_1</string>\\n\\t\\t\\t\\t<string>four.tl</string>\\n\\t\\t\\t\\t<string>two.tl</string>\\n\\t\\t\\t\\t<string>eight.tl</string>\\n\\t\\t\\t\\t<string>seven.tl</string>\\n\\t\\t\\t\\t<string>six.tl</string>\\n\\t\\t\\t\\t<string>five.tl</string>\\n\\t\\t\\t\\t<string>three.tl</string>\\n\\t\\t\\t\\t<string>nine.tl</string>\\n\\t\\t\\t\\t<string>one.tl</string>\\n\\t\\t\\t\\t<string>zero.tl</string>\\n\\t\\t\\t</array>\\n\\t\\t\\t<key>type</key>\\n\\t\\t\\t<string>glyphList</string>\\n\\t\\t</dict>\\n\\t</array>\\n\\t<key>public.glyphOrder</key>\\n\\t<array>\\n\\t\\t<string>space</string>\\n\\t\\t<string>exclam</string>\\n\\t\\t<string>quotesingle</string>\\n\\t\\t<string>quotedbl</string>\\n\\t\\t<string>numbersign</string>\\n\\t\\t<string>dollar</string>\\n\\t\\t<string>percent</string>\\n\\t\\t<string>ampersand</string>\\n\\t\\t<string>parenleft</string>\\n\\t\\t<string>parenright</string>\\n\\t\\t<string>asterisk</string>\\n\\t\\t<string>plus</string>\\n\\t\\t<string>comma</string>\\n\\t\\t<string>hyphen</string>\\n\\t\\t<string>period</string>\\n\\t\\t<string>slash</string>\\n\\t\\t<string>zero</string>\\n\\t\\t<string>one</string>\\n\\t\\t<string>two</string>\\n\\t\\t<string>three</string>\\n\\t\\t<string>four</string>\\n\\t\\t<string>five</string>\\n\\t\\t<string>six</string>\\n\\t\\t<string>seven</string>\\n\\t\\t<string>eight</string>\\n\\t\\t<string>nine</string>\\n\\t\\t<string>colon</string>\\n\\t\\t<string>semicolon</string>\\n\\t\\t<string>less</string>\\n\\t\\t<string>equal</string>\\n\\t\\t<string>greater</string>\\n\\t\\t<string>question</string>\\n\\t\\t<string>at</string>\\n\\t\\t<string>A</string>\\n\\t\\t<string>B</string>\\n\\t\\t<string>C</string>\\n\\t\\t<string>D</string>\\n\\t\\t<string>E</string>\\n\\t\\t<string>F</string>\\n\\t\\t<string>G</string>\\n\\t\\t<string>H</string>\\n\\t\\t<string>I</string>\\n\\t\\t<string>J</string>\\n\\t\\t<string>K</string>\\n\\t\\t<string>L</string>\\n\\t\\t<string>M</string>\\n\\t\\t<string>N</string>\\n\\t\\t<string>O</string>\\n\\t\\t<string>P</string>\\n\\t\\t<string>Q</string>\\n\\t\\t<string>R</string>\\n\\t\\t<string>S</string>\\n\\t\\t<string>T</string>\\n\\t\\t<string>U</string>\\n\\t\\t<string>V</string>\\n\\t\\t<string>W</string>\\n\\t\\t<string>X</string>\\n\\t\\t<string>Y</string>\\n\\t\\t<string>Z</string>\\n\\t\\t<string>bracketleft</string>\\n\\t\\t<string>backslash</string>\\n\\t\\t<string>bracketright</string>\\n\\t\\t<string>asciicircum</string>\\n\\t\\t<string>underscore</string>\\n\\t\\t<string>grave</string>\\n\\t\\t<string>a</string>\\n\\t\\t<string>b</string>\\n\\t\\t<string>c</string>\\n\\t\\t<string>d</string>\\n\\t\\t<string>e</string>\\n\\t\\t<string>f</string>\\n\\t\\t<string>g</string>\\n\\t\\t<string>h</string>\\n\\t\\t<string>i</string>\\n\\t\\t<string>j</string>\\n\\t\\t<string>k</string>\\n\\t\\t<string>l</string>\\n\\t\\t<string>m</string>\\n\\t\\t<string>n</string>\\n\\t\\t<string>o</string>\\n\\t\\t<string>p</string>\\n\\t\\t<string>q</string>\\n\\t\\t<string>r</string>\\n\\t\\t<string>s</string>\\n\\t\\t<string>t</string>\\n\\t\\t<string>u</string>\\n\\t\\t<string>v</string>\\n\\t\\t<string>w</string>\\n\\t\\t<string>x</string>\\n\\t\\t<string>y</string>\\n\\t\\t<string>z</string>\\n\\t\\t<string>braceleft</string>\\n\\t\\t<string>bar</string>\\n\\t\\t<string>braceright</string>\\n\\t\\t<string>asciitilde</string>\\n\\t\\t<string>exclamdown</string>\\n\\t\\t<string>brokenbar</string>\\n\\t\\t<string>section</string>\\n\\t\\t<string>dieresis</string>\\n\\t\\t<string>copyright</string>\\n\\t\\t<string>logicalnot</string>\\n\\t\\t<string>registered</string>\\n\\t\\t<string>macron</string>\\n\\t\\t<string>degree</string>\\n\\t\\t<string>plusminus</string>\\n\\t\\t<string>acute</string>\\n\\t\\t<string>paragraph</string>\\n\\t\\t<string>periodcentered</string>\\n\\t\\t<string>cedilla</string>\\n\\t\\t<string>questiondown</string>\\n\\t\\t<string>Agrave</string>\\n\\t\\t<string>Aacute</string>\\n\\t\\t<string>Acircumflex</string>\\n\\t\\t<string>Atilde</string>\\n\\t\\t<string>Adieresis</string>\\n\\t\\t<string>Aring</string>\\n\\t\\t<string>AE</string>\\n\\t\\t<string>Ccedilla</string>\\n\\t\\t<string>Egrave</string>\\n\\t\\t<string>Eacute</string>\\n\\t\\t<string>Ecircumflex</string>\\n\\t\\t<string>Edieresis</string>\\n\\t\\t<string>Igrave</string>\\n\\t\\t<string>Iacute</string>\\n\\t\\t<string>Icircumflex</string>\\n\\t\\t<string>Idieresis</string>\\n\\t\\t<string>Eth</string>\\n\\t\\t<string>Ntilde</string>\\n\\t\\t<string>Ograve</string>\\n\\t\\t<string>Oacute</string>\\n\\t\\t<string>Ocircumflex</string>\\n\\t\\t<string>Otilde</string>\\n\\t\\t<string>Odieresis</string>\\n\\t\\t<string>multiply</string>\\n\\t\\t<string>Oslash</string>\\n\\t\\t<string>Ugrave</string>\\n\\t\\t<string>Uacute</string>\\n\\t\\t<string>Ucircumflex</string>\\n\\t\\t<string>Udieresis</string>\\n\\t\\t<string>Yacute</string>\\n\\t\\t<string>Thorn</string>\\n\\t\\t<string>germandbls</string>\\n\\t\\t<string>agrave</string>\\n\\t\\t<string>aacute</string>\\n\\t\\t<string>acircumflex</string>\\n\\t\\t<string>atilde</string>\\n\\t\\t<string>adieresis</string>\\n\\t\\t<string>aring</string>\\n\\t\\t<string>ae</string>\\n\\t\\t<string>ccedilla</string>\\n\\t\\t<string>egrave</string>\\n\\t\\t<string>eacute</string>\\n\\t\\t<string>ecircumflex</string>\\n\\t\\t<string>edieresis</string>\\n\\t\\t<string>igrave</string>\\n\\t\\t<string>iacute</string>\\n\\t\\t<string>icircumflex</string>\\n\\t\\t<string>idieresis</string>\\n\\t\\t<string>eth</string>\\n\\t\\t<string>ntilde</string>\\n\\t\\t<string>ograve</string>\\n\\t\\t<string>oacute</string>\\n\\t\\t<string>ocircumflex</string>\\n\\t\\t<string>otilde</string>\\n\\t\\t<string>odieresis</string>\\n\\t\\t<string>divide</string>\\n\\t\\t<string>oslash</string>\\n\\t\\t<string>ugrave</string>\\n\\t\\t<string>uacute</string>\\n\\t\\t<string>ucircumflex</string>\\n\\t\\t<string>udieresis</string>\\n\\t\\t<string>yacute</string>\\n\\t\\t<string>thorn</string>\\n\\t\\t<string>ydieresis</string>\\n\\t\\t<string>circumflex</string>\\n\\t\\t<string>caron</string>\\n\\t\\t<string>breve</string>\\n\\t\\t<string>dotaccent</string>\\n\\t\\t<string>ring</string>\\n\\t\\t<string>ogonek</string>\\n\\t\\t<string>tilde</string>\\n\\t\\t<string>hungarumlaut</string>\\n\\t\\t<string>minus</string>\\n\\t\\t<string>OE</string>\\n\\t\\t<string>Germandbls</string>\\n\\t\\t<string>Wacute</string>\\n\\t\\t<string>Wcircumflex</string>\\n\\t\\t<string>Wdieresis</string>\\n\\t\\t<string>Wgrave</string>\\n\\t\\t<string>Ycircumflex</string>\\n\\t\\t<string>Ydieresis</string>\\n\\t\\t<string>Ygrave</string>\\n\\t\\t<string>oe</string>\\n\\t\\t<string>wacute</string>\\n\\t\\t<string>wcircumflex</string>\\n\\t\\t<string>wdieresis</string>\\n\\t\\t<string>wgrave</string>\\n\\t\\t<string>ycircumflex</string>\\n\\t\\t<string>ygrave</string>\\n\\t\\t<string>f_f_i</string>\\n\\t\\t<string>fi</string>\\n\\t\\t<string>f_j.liga</string>\\n\\t\\t<string>g_j.liga</string>\\n\\t\\t<string>j_j.liga</string>\\n\\t\\t<string>s_s.liga</string>\\n\\t\\t<string>y_j.liga</string>\\n\\t\\t<string>A-cy</string>\\n\\t\\t<string>Be-cy</string>\\n\\t\\t<string>Ve-cy</string>\\n\\t\\t<string>Ge-cy</string>\\n\\t\\t<string>De-cy</string>\\n\\t\\t<string>Ie-cy</string>\\n\\t\\t<string>Io-cy</string>\\n\\t\\t<string>Zhe-cy</string>\\n\\t\\t<string>Ze-cy</string>\\n\\t\\t<string>Ii-cy</string>\\n\\t\\t<string>Iishort-cy</string>\\n\\t\\t<string>Ka-cy</string>\\n\\t\\t<string>El-cy</string>\\n\\t\\t<string>Em-cy</string>\\n\\t\\t<string>En-cy</string>\\n\\t\\t<string>O-cy</string>\\n\\t\\t<string>Pe-cy</string>\\n\\t\\t<string>Er-cy</string>\\n\\t\\t<string>Es-cy</string>\\n\\t\\t<string>Te-cy</string>\\n\\t\\t<string>U-cy</string>\\n\\t\\t<string>Ef-cy</string>\\n\\t\\t<string>Ha-cy</string>\\n\\t\\t<string>Che-cy</string>\\n\\t\\t<string>Tse-cy</string>\\n\\t\\t<string>Sha-cy</string>\\n\\t\\t<string>Shcha-cy</string>\\n\\t\\t<string>Softsign-cy</string>\\n\\t\\t<string>Hardsign-cy</string>\\n\\t\\t<string>Yeru-cy</string>\\n\\t\\t<string>Ereversed-cy</string>\\n\\t\\t<string>Iu-cy</string>\\n\\t\\t<string>Ia-cy</string>\\n\\t\\t<string>De-cy.001</string>\\n\\t\\t<string>Ii-cy.001</string>\\n\\t\\t<string>El-cy.001</string>\\n\\t\\t<string>U-cy.001</string>\\n\\t\\t<string>a-cy</string>\\n\\t\\t<string>be-cy</string>\\n\\t\\t<string>ve-cy</string>\\n\\t\\t<string>ge-cy</string>\\n\\t\\t<string>de-cy</string>\\n\\t\\t<string>ie-cy</string>\\n\\t\\t<string>io-cy</string>\\n\\t\\t<string>zhe-cy</string>\\n\\t\\t<string>ze-cy</string>\\n\\t\\t<string>ii-cy</string>\\n\\t\\t<string>iishort-cy</string>\\n\\t\\t<string>ka-cy</string>\\n\\t\\t<string>el-cy</string>\\n\\t\\t<string>em-cy</string>\\n\\t\\t<string>en-cy</string>\\n\\t\\t<string>o-cy</string>\\n\\t\\t<string>pe-cy</string>\\n\\t\\t<string>er-cy</string>\\n\\t\\t<string>es-cy</string>\\n\\t\\t<string>te-cy</string>\\n\\t\\t<string>u-cy</string>\\n\\t\\t<string>ef-cy</string>\\n\\t\\t<string>ha-cy</string>\\n\\t\\t<string>che-cy</string>\\n\\t\\t<string>tse-cy</string>\\n\\t\\t<string>sha-cy</string>\\n\\t\\t<string>shcha-cy</string>\\n\\t\\t<string>softsign-cy</string>\\n\\t\\t<string>hardsign-cy</string>\\n\\t\\t<string>yeru-cy</string>\\n\\t\\t<string>ereversed-cy</string>\\n\\t\\t<string>iu-cy</string>\\n\\t\\t<string>ia-cy</string>\\n\\t\\t<string>be-cy.001</string>\\n\\t\\t<string>ii-cy.001</string>\\n\\t\\t<string>be-cy.002</string>\\n\\t\\t<string>ii-cy.002</string>\\n\\t\\t<string>be-cy.003</string>\\n\\t\\t<string>fraction</string>\\n\\t\\t<string>ellipsis</string>\\n\\t\\t<string>bullet</string>\\n\\t\\t<string>endash</string>\\n\\t\\t<string>emdash</string>\\n\\t\\t<string>notequal</string>\\n\\t\\t<string>greaterequal</string>\\n\\t\\t<string>lessequal</string>\\n\\t\\t<string>approxequal</string>\\n\\t\\t<string>emptyset</string>\\n\\t\\t<string>infinity</string>\\n\\t\\t<string>integral</string>\\n\\t\\t<string>product</string>\\n\\t\\t<string>summation</string>\\n\\t\\t<string>radical</string>\\n\\t\\t<string>partialdiff</string>\\n\\t\\t<string>perthousand</string>\\n\\t\\t<string>upArrow</string>\\n\\t\\t<string>rightArrow</string>\\n\\t\\t<string>downArrow</string>\\n\\t\\t<string>leftArrow</string>\\n\\t\\t<string>lozenge</string>\\n\\t\\t<string>trademark</string>\\n\\t\\t<string>dagger</string>\\n\\t\\t<string>daggerdbl</string>\\n\\t\\t<string>dieresiscomb</string>\\n\\t\\t<string>dotaccentcomb</string>\\n\\t\\t<string>gravecomb</string>\\n\\t\\t<string>acutecomb</string>\\n\\t\\t<string>circumflexcomb</string>\\n\\t\\t<string>ringcomb</string>\\n\\t\\t<string>tildecomb</string>\\n\\t\\t<string>cedillacomb</string>\\n\\t\\t<string>brevecomb-cy</string>\\n\\t\\t<string>bubble</string>\\n\\t\\t<string>pixel</string>\\n\\t</array>\\n\\t<key>public.postscriptNames</key>\\n\\t<dict>\\n\\t\\t<key>downArrow</key>\\n\\t\\t<string>arrowdown</string>\\n\\t\\t<key>leftArrow</key>\\n\\t\\t<string>arrowleft</string>\\n\\t\\t<key>rightArrow</key>\\n\\t\\t<string>arrowright</string>\\n\\t\\t<key>upArrow</key>\\n\\t\\t<string>arrowup</string>\\n\\t</dict>\\n</dict>\\n</plist>\\n'"
            ]
          },
          "metadata": {
            "tags": []
          },
          "execution_count": 128
        }
      ]
    },
    {
      "cell_type": "code",
      "metadata": {
        "id": "uA0xDP6RHdgg",
        "colab_type": "code",
        "colab": {
          "base_uri": "https://localhost:8080/",
          "height": 54
        },
        "outputId": "aa937b07-09dc-45fd-e4d1-4f1b3c842428"
      },
      "source": [
        "response_ver3_2 = open(\"FHP-infovis-py/ufo/2020.04.12mogeefont-v3.2.ufo/lib.plist\")\n",
        "ufo3_2_xml = response_ver3_2.read()\n",
        "# print (ufo3_1_xml.split(\",\"))\n",
        "ufo3_2_xml"
      ],
      "execution_count": 129,
      "outputs": [
        {
          "output_type": "execute_result",
          "data": {
            "text/plain": [
              "'<?xml version=\"1.0\" encoding=\"UTF-8\"?>\\n<!DOCTYPE plist PUBLIC \"-//Apple Computer//DTD PLIST 1.0//EN\" \"http://www.apple.com/DTDs/PropertyList-1.0.dtd\">\\n<plist version=\"1.0\">\\n<dict>\\n\\t<key>com.schriftgestaltung.disablesAutomaticAlignment</key>\\n\\t<true/>\\n\\t<key>com.schriftgestaltung.font.customParameters</key>\\n\\t<array>\\n\\t\\t<dict>\\n\\t\\t\\t<key>name</key>\\n\\t\\t\\t<string>glyphOrder</string>\\n\\t\\t\\t<key>value</key>\\n\\t\\t\\t<array>\\n\\t\\t\\t\\t<string>space</string>\\n\\t\\t\\t\\t<string>exclam</string>\\n\\t\\t\\t\\t<string>quotesingle</string>\\n\\t\\t\\t\\t<string>quotedbl</string>\\n\\t\\t\\t\\t<string>numbersign</string>\\n\\t\\t\\t\\t<string>dollar</string>\\n\\t\\t\\t\\t<string>percent</string>\\n\\t\\t\\t\\t<string>ampersand</string>\\n\\t\\t\\t\\t<string>parenleft</string>\\n\\t\\t\\t\\t<string>parenright</string>\\n\\t\\t\\t\\t<string>asterisk</string>\\n\\t\\t\\t\\t<string>plus</string>\\n\\t\\t\\t\\t<string>comma</string>\\n\\t\\t\\t\\t<string>hyphen</string>\\n\\t\\t\\t\\t<string>period</string>\\n\\t\\t\\t\\t<string>slash</string>\\n\\t\\t\\t\\t<string>zero</string>\\n\\t\\t\\t\\t<string>one</string>\\n\\t\\t\\t\\t<string>two</string>\\n\\t\\t\\t\\t<string>three</string>\\n\\t\\t\\t\\t<string>four</string>\\n\\t\\t\\t\\t<string>five</string>\\n\\t\\t\\t\\t<string>six</string>\\n\\t\\t\\t\\t<string>seven</string>\\n\\t\\t\\t\\t<string>eight</string>\\n\\t\\t\\t\\t<string>nine</string>\\n\\t\\t\\t\\t<string>colon</string>\\n\\t\\t\\t\\t<string>semicolon</string>\\n\\t\\t\\t\\t<string>less</string>\\n\\t\\t\\t\\t<string>equal</string>\\n\\t\\t\\t\\t<string>greater</string>\\n\\t\\t\\t\\t<string>question</string>\\n\\t\\t\\t\\t<string>at</string>\\n\\t\\t\\t\\t<string>A</string>\\n\\t\\t\\t\\t<string>B</string>\\n\\t\\t\\t\\t<string>C</string>\\n\\t\\t\\t\\t<string>D</string>\\n\\t\\t\\t\\t<string>E</string>\\n\\t\\t\\t\\t<string>F</string>\\n\\t\\t\\t\\t<string>G</string>\\n\\t\\t\\t\\t<string>H</string>\\n\\t\\t\\t\\t<string>I</string>\\n\\t\\t\\t\\t<string>J</string>\\n\\t\\t\\t\\t<string>K</string>\\n\\t\\t\\t\\t<string>L</string>\\n\\t\\t\\t\\t<string>M</string>\\n\\t\\t\\t\\t<string>N</string>\\n\\t\\t\\t\\t<string>O</string>\\n\\t\\t\\t\\t<string>P</string>\\n\\t\\t\\t\\t<string>Q</string>\\n\\t\\t\\t\\t<string>R</string>\\n\\t\\t\\t\\t<string>S</string>\\n\\t\\t\\t\\t<string>T</string>\\n\\t\\t\\t\\t<string>U</string>\\n\\t\\t\\t\\t<string>V</string>\\n\\t\\t\\t\\t<string>W</string>\\n\\t\\t\\t\\t<string>X</string>\\n\\t\\t\\t\\t<string>Y</string>\\n\\t\\t\\t\\t<string>Z</string>\\n\\t\\t\\t\\t<string>bracketleft</string>\\n\\t\\t\\t\\t<string>backslash</string>\\n\\t\\t\\t\\t<string>bracketright</string>\\n\\t\\t\\t\\t<string>asciicircum</string>\\n\\t\\t\\t\\t<string>underscore</string>\\n\\t\\t\\t\\t<string>grave</string>\\n\\t\\t\\t\\t<string>a</string>\\n\\t\\t\\t\\t<string>b</string>\\n\\t\\t\\t\\t<string>c</string>\\n\\t\\t\\t\\t<string>d</string>\\n\\t\\t\\t\\t<string>e</string>\\n\\t\\t\\t\\t<string>f</string>\\n\\t\\t\\t\\t<string>g</string>\\n\\t\\t\\t\\t<string>h</string>\\n\\t\\t\\t\\t<string>i</string>\\n\\t\\t\\t\\t<string>j</string>\\n\\t\\t\\t\\t<string>k</string>\\n\\t\\t\\t\\t<string>l</string>\\n\\t\\t\\t\\t<string>m</string>\\n\\t\\t\\t\\t<string>n</string>\\n\\t\\t\\t\\t<string>o</string>\\n\\t\\t\\t\\t<string>p</string>\\n\\t\\t\\t\\t<string>q</string>\\n\\t\\t\\t\\t<string>r</string>\\n\\t\\t\\t\\t<string>s</string>\\n\\t\\t\\t\\t<string>t</string>\\n\\t\\t\\t\\t<string>u</string>\\n\\t\\t\\t\\t<string>v</string>\\n\\t\\t\\t\\t<string>w</string>\\n\\t\\t\\t\\t<string>x</string>\\n\\t\\t\\t\\t<string>y</string>\\n\\t\\t\\t\\t<string>z</string>\\n\\t\\t\\t\\t<string>braceleft</string>\\n\\t\\t\\t\\t<string>bar</string>\\n\\t\\t\\t\\t<string>braceright</string>\\n\\t\\t\\t\\t<string>asciitilde</string>\\n\\t\\t\\t\\t<string>exclamdown</string>\\n\\t\\t\\t\\t<string>cent</string>\\n\\t\\t\\t\\t<string>sterling</string>\\n\\t\\t\\t\\t<string>currency</string>\\n\\t\\t\\t\\t<string>yen</string>\\n\\t\\t\\t\\t<string>brokenbar</string>\\n\\t\\t\\t\\t<string>section</string>\\n\\t\\t\\t\\t<string>dieresis</string>\\n\\t\\t\\t\\t<string>copyright</string>\\n\\t\\t\\t\\t<string>ordfeminine</string>\\n\\t\\t\\t\\t<string>guillemotleft</string>\\n\\t\\t\\t\\t<string>logicalnot</string>\\n\\t\\t\\t\\t<string>registered</string>\\n\\t\\t\\t\\t<string>macron</string>\\n\\t\\t\\t\\t<string>degree</string>\\n\\t\\t\\t\\t<string>plusminus</string>\\n\\t\\t\\t\\t<string>twosuperior</string>\\n\\t\\t\\t\\t<string>threesuperior</string>\\n\\t\\t\\t\\t<string>acute</string>\\n\\t\\t\\t\\t<string>mu</string>\\n\\t\\t\\t\\t<string>paragraph</string>\\n\\t\\t\\t\\t<string>periodcentered</string>\\n\\t\\t\\t\\t<string>cedilla</string>\\n\\t\\t\\t\\t<string>onesuperior</string>\\n\\t\\t\\t\\t<string>ordmasculine</string>\\n\\t\\t\\t\\t<string>guillemotright</string>\\n\\t\\t\\t\\t<string>onequarter</string>\\n\\t\\t\\t\\t<string>onehalf</string>\\n\\t\\t\\t\\t<string>threequarters</string>\\n\\t\\t\\t\\t<string>questiondown</string>\\n\\t\\t\\t\\t<string>Agrave</string>\\n\\t\\t\\t\\t<string>Aacute</string>\\n\\t\\t\\t\\t<string>Acircumflex</string>\\n\\t\\t\\t\\t<string>Atilde</string>\\n\\t\\t\\t\\t<string>Adieresis</string>\\n\\t\\t\\t\\t<string>Aring</string>\\n\\t\\t\\t\\t<string>AE</string>\\n\\t\\t\\t\\t<string>Ccedilla</string>\\n\\t\\t\\t\\t<string>Egrave</string>\\n\\t\\t\\t\\t<string>Eacute</string>\\n\\t\\t\\t\\t<string>Ecircumflex</string>\\n\\t\\t\\t\\t<string>Edieresis</string>\\n\\t\\t\\t\\t<string>Igrave</string>\\n\\t\\t\\t\\t<string>Iacute</string>\\n\\t\\t\\t\\t<string>Icircumflex</string>\\n\\t\\t\\t\\t<string>Idieresis</string>\\n\\t\\t\\t\\t<string>Eth</string>\\n\\t\\t\\t\\t<string>Ntilde</string>\\n\\t\\t\\t\\t<string>Ograve</string>\\n\\t\\t\\t\\t<string>Oacute</string>\\n\\t\\t\\t\\t<string>Ocircumflex</string>\\n\\t\\t\\t\\t<string>Otilde</string>\\n\\t\\t\\t\\t<string>Odieresis</string>\\n\\t\\t\\t\\t<string>multiply</string>\\n\\t\\t\\t\\t<string>Oslash</string>\\n\\t\\t\\t\\t<string>Ugrave</string>\\n\\t\\t\\t\\t<string>Uacute</string>\\n\\t\\t\\t\\t<string>Ucircumflex</string>\\n\\t\\t\\t\\t<string>Udieresis</string>\\n\\t\\t\\t\\t<string>Yacute</string>\\n\\t\\t\\t\\t<string>Thorn</string>\\n\\t\\t\\t\\t<string>germandbls</string>\\n\\t\\t\\t\\t<string>agrave</string>\\n\\t\\t\\t\\t<string>aacute</string>\\n\\t\\t\\t\\t<string>acircumflex</string>\\n\\t\\t\\t\\t<string>atilde</string>\\n\\t\\t\\t\\t<string>adieresis</string>\\n\\t\\t\\t\\t<string>aring</string>\\n\\t\\t\\t\\t<string>ae</string>\\n\\t\\t\\t\\t<string>ccedilla</string>\\n\\t\\t\\t\\t<string>egrave</string>\\n\\t\\t\\t\\t<string>eacute</string>\\n\\t\\t\\t\\t<string>ecircumflex</string>\\n\\t\\t\\t\\t<string>edieresis</string>\\n\\t\\t\\t\\t<string>igrave</string>\\n\\t\\t\\t\\t<string>iacute</string>\\n\\t\\t\\t\\t<string>icircumflex</string>\\n\\t\\t\\t\\t<string>idieresis</string>\\n\\t\\t\\t\\t<string>eth</string>\\n\\t\\t\\t\\t<string>ntilde</string>\\n\\t\\t\\t\\t<string>ograve</string>\\n\\t\\t\\t\\t<string>oacute</string>\\n\\t\\t\\t\\t<string>ocircumflex</string>\\n\\t\\t\\t\\t<string>otilde</string>\\n\\t\\t\\t\\t<string>odieresis</string>\\n\\t\\t\\t\\t<string>divide</string>\\n\\t\\t\\t\\t<string>oslash</string>\\n\\t\\t\\t\\t<string>ugrave</string>\\n\\t\\t\\t\\t<string>uacute</string>\\n\\t\\t\\t\\t<string>ucircumflex</string>\\n\\t\\t\\t\\t<string>udieresis</string>\\n\\t\\t\\t\\t<string>yacute</string>\\n\\t\\t\\t\\t<string>thorn</string>\\n\\t\\t\\t\\t<string>ydieresis</string>\\n\\t\\t\\t\\t<string>dotlessi</string>\\n\\t\\t\\t\\t<string>circumflex</string>\\n\\t\\t\\t\\t<string>caron</string>\\n\\t\\t\\t\\t<string>breve</string>\\n\\t\\t\\t\\t<string>dotaccent</string>\\n\\t\\t\\t\\t<string>ring</string>\\n\\t\\t\\t\\t<string>ogonek</string>\\n\\t\\t\\t\\t<string>tilde</string>\\n\\t\\t\\t\\t<string>hungarumlaut</string>\\n\\t\\t\\t\\t<string>quoteleft</string>\\n\\t\\t\\t\\t<string>quoteright</string>\\n\\t\\t\\t\\t<string>minus</string>\\n\\t\\t\\t\\t<string>p.10</string>\\n\\t\\t\\t\\t<string>p.9</string>\\n\\t\\t\\t\\t<string>p.3</string>\\n\\t\\t\\t\\t<string>p.8</string>\\n\\t\\t\\t\\t<string>p.2</string>\\n\\t\\t\\t\\t<string>p.4</string>\\n\\t\\t\\t\\t<string>p.7</string>\\n\\t\\t\\t\\t<string>p.6</string>\\n\\t\\t\\t\\t<string>p.1</string>\\n\\t\\t\\t\\t<string>p.5</string>\\n\\t\\t\\t\\t<string>p.3.copy_1</string>\\n\\t\\t\\t\\t<string>p.8.copy_2.copy_1</string>\\n\\t\\t\\t\\t<string>p.8.copy_1.copy_2</string>\\n\\t\\t\\t\\t<string>p.8.copy_1.copy_3</string>\\n\\t\\t\\t\\t<string>p.8.copy_1.copy_1</string>\\n\\t\\t\\t\\t<string>p.8.copy_1</string>\\n\\t\\t\\t\\t<string>p.8.copy_2</string>\\n\\t\\t\\t\\t<string>p.9.copy_1</string>\\n\\t\\t\\t\\t<string>p.2.copy_2</string>\\n\\t\\t\\t\\t<string>p.2.copy_3</string>\\n\\t\\t\\t\\t<string>p.2.copy_1</string>\\n\\t\\t\\t\\t<string>p_.8</string>\\n\\t\\t\\t\\t<string>p.8.copy_1.copy_3.copy_1</string>\\n\\t\\t\\t\\t<string>four.tl</string>\\n\\t\\t\\t\\t<string>two.tl</string>\\n\\t\\t\\t\\t<string>eight.tl</string>\\n\\t\\t\\t\\t<string>seven.tl</string>\\n\\t\\t\\t\\t<string>six.tl</string>\\n\\t\\t\\t\\t<string>five.tl</string>\\n\\t\\t\\t\\t<string>three.tl</string>\\n\\t\\t\\t\\t<string>nine.tl</string>\\n\\t\\t\\t\\t<string>one.tl</string>\\n\\t\\t\\t\\t<string>zero.tl</string>\\n\\t\\t\\t</array>\\n\\t\\t</dict>\\n\\t\\t<dict>\\n\\t\\t\\t<key>name</key>\\n\\t\\t\\t<string>Use Typo Metrics</string>\\n\\t\\t\\t<key>value</key>\\n\\t\\t\\t<true/>\\n\\t\\t</dict>\\n\\t</array>\\n\\t<key>com.schriftgestaltung.fontMasterID</key>\\n\\t<string>master01</string>\\n\\t<key>com.schriftgestaltung.glyphOrder</key>\\n\\t<array>\\n\\t\\t<string>space</string>\\n\\t\\t<string>exclam</string>\\n\\t\\t<string>quotesingle</string>\\n\\t\\t<string>quotedbl</string>\\n\\t\\t<string>numbersign</string>\\n\\t\\t<string>dollar</string>\\n\\t\\t<string>percent</string>\\n\\t\\t<string>ampersand</string>\\n\\t\\t<string>parenleft</string>\\n\\t\\t<string>parenright</string>\\n\\t\\t<string>asterisk</string>\\n\\t\\t<string>plus</string>\\n\\t\\t<string>comma</string>\\n\\t\\t<string>hyphen</string>\\n\\t\\t<string>period</string>\\n\\t\\t<string>slash</string>\\n\\t\\t<string>zero</string>\\n\\t\\t<string>one</string>\\n\\t\\t<string>two</string>\\n\\t\\t<string>three</string>\\n\\t\\t<string>four</string>\\n\\t\\t<string>five</string>\\n\\t\\t<string>six</string>\\n\\t\\t<string>seven</string>\\n\\t\\t<string>eight</string>\\n\\t\\t<string>nine</string>\\n\\t\\t<string>colon</string>\\n\\t\\t<string>semicolon</string>\\n\\t\\t<string>less</string>\\n\\t\\t<string>equal</string>\\n\\t\\t<string>greater</string>\\n\\t\\t<string>question</string>\\n\\t\\t<string>at</string>\\n\\t\\t<string>A</string>\\n\\t\\t<string>B</string>\\n\\t\\t<string>C</string>\\n\\t\\t<string>D</string>\\n\\t\\t<string>E</string>\\n\\t\\t<string>F</string>\\n\\t\\t<string>G</string>\\n\\t\\t<string>H</string>\\n\\t\\t<string>I</string>\\n\\t\\t<string>J</string>\\n\\t\\t<string>K</string>\\n\\t\\t<string>L</string>\\n\\t\\t<string>M</string>\\n\\t\\t<string>N</string>\\n\\t\\t<string>O</string>\\n\\t\\t<string>P</string>\\n\\t\\t<string>Q</string>\\n\\t\\t<string>R</string>\\n\\t\\t<string>S</string>\\n\\t\\t<string>T</string>\\n\\t\\t<string>U</string>\\n\\t\\t<string>V</string>\\n\\t\\t<string>W</string>\\n\\t\\t<string>X</string>\\n\\t\\t<string>Y</string>\\n\\t\\t<string>Z</string>\\n\\t\\t<string>bracketleft</string>\\n\\t\\t<string>backslash</string>\\n\\t\\t<string>bracketright</string>\\n\\t\\t<string>asciicircum</string>\\n\\t\\t<string>underscore</string>\\n\\t\\t<string>grave</string>\\n\\t\\t<string>a</string>\\n\\t\\t<string>b</string>\\n\\t\\t<string>c</string>\\n\\t\\t<string>d</string>\\n\\t\\t<string>e</string>\\n\\t\\t<string>f</string>\\n\\t\\t<string>g</string>\\n\\t\\t<string>h</string>\\n\\t\\t<string>i</string>\\n\\t\\t<string>j</string>\\n\\t\\t<string>k</string>\\n\\t\\t<string>l</string>\\n\\t\\t<string>m</string>\\n\\t\\t<string>n</string>\\n\\t\\t<string>o</string>\\n\\t\\t<string>p</string>\\n\\t\\t<string>q</string>\\n\\t\\t<string>r</string>\\n\\t\\t<string>s</string>\\n\\t\\t<string>t</string>\\n\\t\\t<string>u</string>\\n\\t\\t<string>v</string>\\n\\t\\t<string>w</string>\\n\\t\\t<string>x</string>\\n\\t\\t<string>y</string>\\n\\t\\t<string>z</string>\\n\\t\\t<string>braceleft</string>\\n\\t\\t<string>bar</string>\\n\\t\\t<string>braceright</string>\\n\\t\\t<string>asciitilde</string>\\n\\t\\t<string>exclamdown</string>\\n\\t\\t<string>cent</string>\\n\\t\\t<string>sterling</string>\\n\\t\\t<string>currency</string>\\n\\t\\t<string>yen</string>\\n\\t\\t<string>brokenbar</string>\\n\\t\\t<string>section</string>\\n\\t\\t<string>dieresis</string>\\n\\t\\t<string>copyright</string>\\n\\t\\t<string>ordfeminine</string>\\n\\t\\t<string>guillemotleft</string>\\n\\t\\t<string>logicalnot</string>\\n\\t\\t<string>registered</string>\\n\\t\\t<string>macron</string>\\n\\t\\t<string>degree</string>\\n\\t\\t<string>plusminus</string>\\n\\t\\t<string>twosuperior</string>\\n\\t\\t<string>threesuperior</string>\\n\\t\\t<string>acute</string>\\n\\t\\t<string>mu</string>\\n\\t\\t<string>paragraph</string>\\n\\t\\t<string>periodcentered</string>\\n\\t\\t<string>cedilla</string>\\n\\t\\t<string>onesuperior</string>\\n\\t\\t<string>ordmasculine</string>\\n\\t\\t<string>guillemotright</string>\\n\\t\\t<string>onequarter</string>\\n\\t\\t<string>onehalf</string>\\n\\t\\t<string>threequarters</string>\\n\\t\\t<string>questiondown</string>\\n\\t\\t<string>Agrave</string>\\n\\t\\t<string>Aacute</string>\\n\\t\\t<string>Acircumflex</string>\\n\\t\\t<string>Atilde</string>\\n\\t\\t<string>Adieresis</string>\\n\\t\\t<string>Aring</string>\\n\\t\\t<string>AE</string>\\n\\t\\t<string>Ccedilla</string>\\n\\t\\t<string>Egrave</string>\\n\\t\\t<string>Eacute</string>\\n\\t\\t<string>Ecircumflex</string>\\n\\t\\t<string>Edieresis</string>\\n\\t\\t<string>Igrave</string>\\n\\t\\t<string>Iacute</string>\\n\\t\\t<string>Icircumflex</string>\\n\\t\\t<string>Idieresis</string>\\n\\t\\t<string>Eth</string>\\n\\t\\t<string>Ntilde</string>\\n\\t\\t<string>Ograve</string>\\n\\t\\t<string>Oacute</string>\\n\\t\\t<string>Ocircumflex</string>\\n\\t\\t<string>Otilde</string>\\n\\t\\t<string>Odieresis</string>\\n\\t\\t<string>multiply</string>\\n\\t\\t<string>Oslash</string>\\n\\t\\t<string>Ugrave</string>\\n\\t\\t<string>Uacute</string>\\n\\t\\t<string>Ucircumflex</string>\\n\\t\\t<string>Udieresis</string>\\n\\t\\t<string>Yacute</string>\\n\\t\\t<string>Thorn</string>\\n\\t\\t<string>germandbls</string>\\n\\t\\t<string>agrave</string>\\n\\t\\t<string>aacute</string>\\n\\t\\t<string>acircumflex</string>\\n\\t\\t<string>atilde</string>\\n\\t\\t<string>adieresis</string>\\n\\t\\t<string>aring</string>\\n\\t\\t<string>ae</string>\\n\\t\\t<string>ccedilla</string>\\n\\t\\t<string>egrave</string>\\n\\t\\t<string>eacute</string>\\n\\t\\t<string>ecircumflex</string>\\n\\t\\t<string>edieresis</string>\\n\\t\\t<string>igrave</string>\\n\\t\\t<string>iacute</string>\\n\\t\\t<string>icircumflex</string>\\n\\t\\t<string>idieresis</string>\\n\\t\\t<string>eth</string>\\n\\t\\t<string>ntilde</string>\\n\\t\\t<string>ograve</string>\\n\\t\\t<string>oacute</string>\\n\\t\\t<string>ocircumflex</string>\\n\\t\\t<string>otilde</string>\\n\\t\\t<string>odieresis</string>\\n\\t\\t<string>divide</string>\\n\\t\\t<string>oslash</string>\\n\\t\\t<string>ugrave</string>\\n\\t\\t<string>uacute</string>\\n\\t\\t<string>ucircumflex</string>\\n\\t\\t<string>udieresis</string>\\n\\t\\t<string>yacute</string>\\n\\t\\t<string>thorn</string>\\n\\t\\t<string>ydieresis</string>\\n\\t\\t<string>dotlessi</string>\\n\\t\\t<string>circumflex</string>\\n\\t\\t<string>caron</string>\\n\\t\\t<string>breve</string>\\n\\t\\t<string>dotaccent</string>\\n\\t\\t<string>ring</string>\\n\\t\\t<string>ogonek</string>\\n\\t\\t<string>tilde</string>\\n\\t\\t<string>hungarumlaut</string>\\n\\t\\t<string>quoteleft</string>\\n\\t\\t<string>quoteright</string>\\n\\t\\t<string>minus</string>\\n\\t\\t<string>p.10</string>\\n\\t\\t<string>p.9</string>\\n\\t\\t<string>p.3</string>\\n\\t\\t<string>p.8</string>\\n\\t\\t<string>p.2</string>\\n\\t\\t<string>p.4</string>\\n\\t\\t<string>p.7</string>\\n\\t\\t<string>p.6</string>\\n\\t\\t<string>p.1</string>\\n\\t\\t<string>p.5</string>\\n\\t\\t<string>p.3.copy_1</string>\\n\\t\\t<string>p.8.copy_2.copy_1</string>\\n\\t\\t<string>p.8.copy_1.copy_2</string>\\n\\t\\t<string>p.8.copy_1.copy_3</string>\\n\\t\\t<string>p.8.copy_1.copy_1</string>\\n\\t\\t<string>p.8.copy_1</string>\\n\\t\\t<string>p.8.copy_2</string>\\n\\t\\t<string>p.9.copy_1</string>\\n\\t\\t<string>p.2.copy_2</string>\\n\\t\\t<string>p.2.copy_3</string>\\n\\t\\t<string>p.2.copy_1</string>\\n\\t\\t<string>p_.8</string>\\n\\t\\t<string>p.8.copy_1.copy_3.copy_1</string>\\n\\t\\t<string>four.tl</string>\\n\\t\\t<string>two.tl</string>\\n\\t\\t<string>eight.tl</string>\\n\\t\\t<string>seven.tl</string>\\n\\t\\t<string>six.tl</string>\\n\\t\\t<string>five.tl</string>\\n\\t\\t<string>three.tl</string>\\n\\t\\t<string>nine.tl</string>\\n\\t\\t<string>one.tl</string>\\n\\t\\t<string>zero.tl</string>\\n\\t</array>\\n\\t<key>com.schriftgestaltung.gridSize</key>\\n\\t<integer>80</integer>\\n\\t<key>com.schriftgestaltung.useNiceNames</key>\\n\\t<false/>\\n\\t<key>com.schriftgestaltung.weightValue</key>\\n\\t<integer>400</integer>\\n\\t<key>com.typemytype.robofont.background.layerStrokeColor</key>\\n\\t<array>\\n\\t\\t<integer>0</integer>\\n\\t\\t<real>0.8</real>\\n\\t\\t<real>0.2</real>\\n\\t\\t<real>0.7</real>\\n\\t</array>\\n\\t<key>com.typemytype.robofont.compileSettings.autohint</key>\\n\\t<integer>1</integer>\\n\\t<key>com.typemytype.robofont.compileSettings.checkOutlines</key>\\n\\t<integer>0</integer>\\n\\t<key>com.typemytype.robofont.compileSettings.decompose</key>\\n\\t<integer>0</integer>\\n\\t<key>com.typemytype.robofont.compileSettings.generateFormat</key>\\n\\t<integer>0</integer>\\n\\t<key>com.typemytype.robofont.compileSettings.releaseMode</key>\\n\\t<integer>0</integer>\\n\\t<key>com.typemytype.robofont.foreground.layerStrokeColor</key>\\n\\t<array>\\n\\t\\t<real>0.5</real>\\n\\t\\t<integer>0</integer>\\n\\t\\t<real>0.5</real>\\n\\t\\t<real>0.7</real>\\n\\t</array>\\n\\t<key>com.typemytype.robofont.italicSlantOffset</key>\\n\\t<integer>0</integer>\\n\\t<key>com.typemytype.robofont.layerOrder</key>\\n\\t<array>\\n\\t\\t<string>background</string>\\n\\t</array>\\n\\t<key>com.typemytype.robofont.segmentType</key>\\n\\t<string>curve</string>\\n\\t<key>com.typemytype.robofont.shouldAddPointsInSplineConversion</key>\\n\\t<integer>0</integer>\\n\\t<key>com.typemytype.robofont.sort</key>\\n\\t<array>\\n\\t\\t<dict>\\n\\t\\t\\t<key>ascending</key>\\n\\t\\t\\t<array>\\n\\t\\t\\t\\t<string>space</string>\\n\\t\\t\\t\\t<string>exclam</string>\\n\\t\\t\\t\\t<string>quotesingle</string>\\n\\t\\t\\t\\t<string>quotedbl</string>\\n\\t\\t\\t\\t<string>numbersign</string>\\n\\t\\t\\t\\t<string>dollar</string>\\n\\t\\t\\t\\t<string>percent</string>\\n\\t\\t\\t\\t<string>ampersand</string>\\n\\t\\t\\t\\t<string>parenleft</string>\\n\\t\\t\\t\\t<string>parenright</string>\\n\\t\\t\\t\\t<string>asterisk</string>\\n\\t\\t\\t\\t<string>plus</string>\\n\\t\\t\\t\\t<string>comma</string>\\n\\t\\t\\t\\t<string>hyphen</string>\\n\\t\\t\\t\\t<string>period</string>\\n\\t\\t\\t\\t<string>slash</string>\\n\\t\\t\\t\\t<string>zero</string>\\n\\t\\t\\t\\t<string>one</string>\\n\\t\\t\\t\\t<string>two</string>\\n\\t\\t\\t\\t<string>three</string>\\n\\t\\t\\t\\t<string>four</string>\\n\\t\\t\\t\\t<string>five</string>\\n\\t\\t\\t\\t<string>six</string>\\n\\t\\t\\t\\t<string>seven</string>\\n\\t\\t\\t\\t<string>eight</string>\\n\\t\\t\\t\\t<string>nine</string>\\n\\t\\t\\t\\t<string>colon</string>\\n\\t\\t\\t\\t<string>semicolon</string>\\n\\t\\t\\t\\t<string>less</string>\\n\\t\\t\\t\\t<string>equal</string>\\n\\t\\t\\t\\t<string>greater</string>\\n\\t\\t\\t\\t<string>question</string>\\n\\t\\t\\t\\t<string>at</string>\\n\\t\\t\\t\\t<string>A</string>\\n\\t\\t\\t\\t<string>B</string>\\n\\t\\t\\t\\t<string>C</string>\\n\\t\\t\\t\\t<string>D</string>\\n\\t\\t\\t\\t<string>E</string>\\n\\t\\t\\t\\t<string>F</string>\\n\\t\\t\\t\\t<string>G</string>\\n\\t\\t\\t\\t<string>H</string>\\n\\t\\t\\t\\t<string>I</string>\\n\\t\\t\\t\\t<string>J</string>\\n\\t\\t\\t\\t<string>K</string>\\n\\t\\t\\t\\t<string>L</string>\\n\\t\\t\\t\\t<string>M</string>\\n\\t\\t\\t\\t<string>N</string>\\n\\t\\t\\t\\t<string>O</string>\\n\\t\\t\\t\\t<string>P</string>\\n\\t\\t\\t\\t<string>Q</string>\\n\\t\\t\\t\\t<string>R</string>\\n\\t\\t\\t\\t<string>S</string>\\n\\t\\t\\t\\t<string>T</string>\\n\\t\\t\\t\\t<string>U</string>\\n\\t\\t\\t\\t<string>V</string>\\n\\t\\t\\t\\t<string>W</string>\\n\\t\\t\\t\\t<string>X</string>\\n\\t\\t\\t\\t<string>Y</string>\\n\\t\\t\\t\\t<string>Z</string>\\n\\t\\t\\t\\t<string>bracketleft</string>\\n\\t\\t\\t\\t<string>backslash</string>\\n\\t\\t\\t\\t<string>bracketright</string>\\n\\t\\t\\t\\t<string>asciicircum</string>\\n\\t\\t\\t\\t<string>underscore</string>\\n\\t\\t\\t\\t<string>grave</string>\\n\\t\\t\\t\\t<string>a</string>\\n\\t\\t\\t\\t<string>b</string>\\n\\t\\t\\t\\t<string>c</string>\\n\\t\\t\\t\\t<string>d</string>\\n\\t\\t\\t\\t<string>e</string>\\n\\t\\t\\t\\t<string>f</string>\\n\\t\\t\\t\\t<string>g</string>\\n\\t\\t\\t\\t<string>h</string>\\n\\t\\t\\t\\t<string>i</string>\\n\\t\\t\\t\\t<string>j</string>\\n\\t\\t\\t\\t<string>k</string>\\n\\t\\t\\t\\t<string>l</string>\\n\\t\\t\\t\\t<string>m</string>\\n\\t\\t\\t\\t<string>n</string>\\n\\t\\t\\t\\t<string>o</string>\\n\\t\\t\\t\\t<string>p</string>\\n\\t\\t\\t\\t<string>q</string>\\n\\t\\t\\t\\t<string>r</string>\\n\\t\\t\\t\\t<string>s</string>\\n\\t\\t\\t\\t<string>t</string>\\n\\t\\t\\t\\t<string>u</string>\\n\\t\\t\\t\\t<string>v</string>\\n\\t\\t\\t\\t<string>w</string>\\n\\t\\t\\t\\t<string>x</string>\\n\\t\\t\\t\\t<string>y</string>\\n\\t\\t\\t\\t<string>z</string>\\n\\t\\t\\t\\t<string>braceleft</string>\\n\\t\\t\\t\\t<string>bar</string>\\n\\t\\t\\t\\t<string>braceright</string>\\n\\t\\t\\t\\t<string>asciitilde</string>\\n\\t\\t\\t\\t<string>exclamdown</string>\\n\\t\\t\\t\\t<string>cent</string>\\n\\t\\t\\t\\t<string>sterling</string>\\n\\t\\t\\t\\t<string>currency</string>\\n\\t\\t\\t\\t<string>yen</string>\\n\\t\\t\\t\\t<string>brokenbar</string>\\n\\t\\t\\t\\t<string>section</string>\\n\\t\\t\\t\\t<string>dieresis</string>\\n\\t\\t\\t\\t<string>copyright</string>\\n\\t\\t\\t\\t<string>ordfeminine</string>\\n\\t\\t\\t\\t<string>guillemotleft</string>\\n\\t\\t\\t\\t<string>logicalnot</string>\\n\\t\\t\\t\\t<string>registered</string>\\n\\t\\t\\t\\t<string>macron</string>\\n\\t\\t\\t\\t<string>degree</string>\\n\\t\\t\\t\\t<string>plusminus</string>\\n\\t\\t\\t\\t<string>twosuperior</string>\\n\\t\\t\\t\\t<string>threesuperior</string>\\n\\t\\t\\t\\t<string>acute</string>\\n\\t\\t\\t\\t<string>mu</string>\\n\\t\\t\\t\\t<string>paragraph</string>\\n\\t\\t\\t\\t<string>periodcentered</string>\\n\\t\\t\\t\\t<string>cedilla</string>\\n\\t\\t\\t\\t<string>onesuperior</string>\\n\\t\\t\\t\\t<string>ordmasculine</string>\\n\\t\\t\\t\\t<string>guillemotright</string>\\n\\t\\t\\t\\t<string>onequarter</string>\\n\\t\\t\\t\\t<string>onehalf</string>\\n\\t\\t\\t\\t<string>threequarters</string>\\n\\t\\t\\t\\t<string>questiondown</string>\\n\\t\\t\\t\\t<string>Agrave</string>\\n\\t\\t\\t\\t<string>Aacute</string>\\n\\t\\t\\t\\t<string>Acircumflex</string>\\n\\t\\t\\t\\t<string>Atilde</string>\\n\\t\\t\\t\\t<string>Adieresis</string>\\n\\t\\t\\t\\t<string>Aring</string>\\n\\t\\t\\t\\t<string>AE</string>\\n\\t\\t\\t\\t<string>Ccedilla</string>\\n\\t\\t\\t\\t<string>Egrave</string>\\n\\t\\t\\t\\t<string>Eacute</string>\\n\\t\\t\\t\\t<string>Ecircumflex</string>\\n\\t\\t\\t\\t<string>Edieresis</string>\\n\\t\\t\\t\\t<string>Igrave</string>\\n\\t\\t\\t\\t<string>Iacute</string>\\n\\t\\t\\t\\t<string>Icircumflex</string>\\n\\t\\t\\t\\t<string>Idieresis</string>\\n\\t\\t\\t\\t<string>Eth</string>\\n\\t\\t\\t\\t<string>Ntilde</string>\\n\\t\\t\\t\\t<string>Ograve</string>\\n\\t\\t\\t\\t<string>Oacute</string>\\n\\t\\t\\t\\t<string>Ocircumflex</string>\\n\\t\\t\\t\\t<string>Otilde</string>\\n\\t\\t\\t\\t<string>Odieresis</string>\\n\\t\\t\\t\\t<string>multiply</string>\\n\\t\\t\\t\\t<string>Oslash</string>\\n\\t\\t\\t\\t<string>Ugrave</string>\\n\\t\\t\\t\\t<string>Uacute</string>\\n\\t\\t\\t\\t<string>Ucircumflex</string>\\n\\t\\t\\t\\t<string>Udieresis</string>\\n\\t\\t\\t\\t<string>Yacute</string>\\n\\t\\t\\t\\t<string>Thorn</string>\\n\\t\\t\\t\\t<string>germandbls</string>\\n\\t\\t\\t\\t<string>agrave</string>\\n\\t\\t\\t\\t<string>aacute</string>\\n\\t\\t\\t\\t<string>acircumflex</string>\\n\\t\\t\\t\\t<string>atilde</string>\\n\\t\\t\\t\\t<string>adieresis</string>\\n\\t\\t\\t\\t<string>aring</string>\\n\\t\\t\\t\\t<string>ae</string>\\n\\t\\t\\t\\t<string>ccedilla</string>\\n\\t\\t\\t\\t<string>egrave</string>\\n\\t\\t\\t\\t<string>eacute</string>\\n\\t\\t\\t\\t<string>ecircumflex</string>\\n\\t\\t\\t\\t<string>edieresis</string>\\n\\t\\t\\t\\t<string>igrave</string>\\n\\t\\t\\t\\t<string>iacute</string>\\n\\t\\t\\t\\t<string>icircumflex</string>\\n\\t\\t\\t\\t<string>idieresis</string>\\n\\t\\t\\t\\t<string>eth</string>\\n\\t\\t\\t\\t<string>ntilde</string>\\n\\t\\t\\t\\t<string>ograve</string>\\n\\t\\t\\t\\t<string>oacute</string>\\n\\t\\t\\t\\t<string>ocircumflex</string>\\n\\t\\t\\t\\t<string>otilde</string>\\n\\t\\t\\t\\t<string>odieresis</string>\\n\\t\\t\\t\\t<string>divide</string>\\n\\t\\t\\t\\t<string>oslash</string>\\n\\t\\t\\t\\t<string>ugrave</string>\\n\\t\\t\\t\\t<string>uacute</string>\\n\\t\\t\\t\\t<string>ucircumflex</string>\\n\\t\\t\\t\\t<string>udieresis</string>\\n\\t\\t\\t\\t<string>yacute</string>\\n\\t\\t\\t\\t<string>thorn</string>\\n\\t\\t\\t\\t<string>ydieresis</string>\\n\\t\\t\\t\\t<string>dotlessi</string>\\n\\t\\t\\t\\t<string>circumflex</string>\\n\\t\\t\\t\\t<string>caron</string>\\n\\t\\t\\t\\t<string>breve</string>\\n\\t\\t\\t\\t<string>dotaccent</string>\\n\\t\\t\\t\\t<string>ring</string>\\n\\t\\t\\t\\t<string>ogonek</string>\\n\\t\\t\\t\\t<string>tilde</string>\\n\\t\\t\\t\\t<string>hungarumlaut</string>\\n\\t\\t\\t\\t<string>quoteleft</string>\\n\\t\\t\\t\\t<string>quoteright</string>\\n\\t\\t\\t\\t<string>minus</string>\\n\\t\\t\\t\\t<string>p.10</string>\\n\\t\\t\\t\\t<string>p.9</string>\\n\\t\\t\\t\\t<string>p.3</string>\\n\\t\\t\\t\\t<string>p.8</string>\\n\\t\\t\\t\\t<string>p.2</string>\\n\\t\\t\\t\\t<string>p.4</string>\\n\\t\\t\\t\\t<string>p.7</string>\\n\\t\\t\\t\\t<string>p.6</string>\\n\\t\\t\\t\\t<string>p.1</string>\\n\\t\\t\\t\\t<string>p.5</string>\\n\\t\\t\\t\\t<string>p.3.copy_1</string>\\n\\t\\t\\t\\t<string>p.8.copy_2.copy_1</string>\\n\\t\\t\\t\\t<string>p.8.copy_1.copy_2</string>\\n\\t\\t\\t\\t<string>p.8.copy_1.copy_3</string>\\n\\t\\t\\t\\t<string>p.8.copy_1.copy_1</string>\\n\\t\\t\\t\\t<string>p.8.copy_1</string>\\n\\t\\t\\t\\t<string>p.8.copy_2</string>\\n\\t\\t\\t\\t<string>p.9.copy_1</string>\\n\\t\\t\\t\\t<string>p.2.copy_2</string>\\n\\t\\t\\t\\t<string>p.2.copy_3</string>\\n\\t\\t\\t\\t<string>p.2.copy_1</string>\\n\\t\\t\\t\\t<string>p_.8</string>\\n\\t\\t\\t\\t<string>p.8.copy_1.copy_3.copy_1</string>\\n\\t\\t\\t\\t<string>four.tl</string>\\n\\t\\t\\t\\t<string>two.tl</string>\\n\\t\\t\\t\\t<string>eight.tl</string>\\n\\t\\t\\t\\t<string>seven.tl</string>\\n\\t\\t\\t\\t<string>six.tl</string>\\n\\t\\t\\t\\t<string>five.tl</string>\\n\\t\\t\\t\\t<string>three.tl</string>\\n\\t\\t\\t\\t<string>nine.tl</string>\\n\\t\\t\\t\\t<string>one.tl</string>\\n\\t\\t\\t\\t<string>zero.tl</string>\\n\\t\\t\\t</array>\\n\\t\\t\\t<key>type</key>\\n\\t\\t\\t<string>glyphList</string>\\n\\t\\t</dict>\\n\\t</array>\\n\\t<key>public.glyphOrder</key>\\n\\t<array>\\n\\t\\t<string>space</string>\\n\\t\\t<string>exclam</string>\\n\\t\\t<string>quotesingle</string>\\n\\t\\t<string>quotedbl</string>\\n\\t\\t<string>numbersign</string>\\n\\t\\t<string>dollar</string>\\n\\t\\t<string>percent</string>\\n\\t\\t<string>ampersand</string>\\n\\t\\t<string>parenleft</string>\\n\\t\\t<string>parenright</string>\\n\\t\\t<string>asterisk</string>\\n\\t\\t<string>plus</string>\\n\\t\\t<string>comma</string>\\n\\t\\t<string>hyphen</string>\\n\\t\\t<string>period</string>\\n\\t\\t<string>slash</string>\\n\\t\\t<string>zero</string>\\n\\t\\t<string>one</string>\\n\\t\\t<string>two</string>\\n\\t\\t<string>three</string>\\n\\t\\t<string>four</string>\\n\\t\\t<string>five</string>\\n\\t\\t<string>six</string>\\n\\t\\t<string>seven</string>\\n\\t\\t<string>eight</string>\\n\\t\\t<string>nine</string>\\n\\t\\t<string>colon</string>\\n\\t\\t<string>semicolon</string>\\n\\t\\t<string>less</string>\\n\\t\\t<string>equal</string>\\n\\t\\t<string>greater</string>\\n\\t\\t<string>question</string>\\n\\t\\t<string>at</string>\\n\\t\\t<string>A</string>\\n\\t\\t<string>B</string>\\n\\t\\t<string>C</string>\\n\\t\\t<string>D</string>\\n\\t\\t<string>E</string>\\n\\t\\t<string>F</string>\\n\\t\\t<string>G</string>\\n\\t\\t<string>H</string>\\n\\t\\t<string>I</string>\\n\\t\\t<string>J</string>\\n\\t\\t<string>K</string>\\n\\t\\t<string>L</string>\\n\\t\\t<string>M</string>\\n\\t\\t<string>N</string>\\n\\t\\t<string>O</string>\\n\\t\\t<string>P</string>\\n\\t\\t<string>Q</string>\\n\\t\\t<string>R</string>\\n\\t\\t<string>S</string>\\n\\t\\t<string>T</string>\\n\\t\\t<string>U</string>\\n\\t\\t<string>V</string>\\n\\t\\t<string>W</string>\\n\\t\\t<string>X</string>\\n\\t\\t<string>Y</string>\\n\\t\\t<string>Z</string>\\n\\t\\t<string>bracketleft</string>\\n\\t\\t<string>backslash</string>\\n\\t\\t<string>bracketright</string>\\n\\t\\t<string>asciicircum</string>\\n\\t\\t<string>underscore</string>\\n\\t\\t<string>grave</string>\\n\\t\\t<string>a</string>\\n\\t\\t<string>b</string>\\n\\t\\t<string>c</string>\\n\\t\\t<string>d</string>\\n\\t\\t<string>e</string>\\n\\t\\t<string>f</string>\\n\\t\\t<string>g</string>\\n\\t\\t<string>h</string>\\n\\t\\t<string>i</string>\\n\\t\\t<string>j</string>\\n\\t\\t<string>k</string>\\n\\t\\t<string>l</string>\\n\\t\\t<string>m</string>\\n\\t\\t<string>n</string>\\n\\t\\t<string>o</string>\\n\\t\\t<string>p</string>\\n\\t\\t<string>q</string>\\n\\t\\t<string>r</string>\\n\\t\\t<string>s</string>\\n\\t\\t<string>t</string>\\n\\t\\t<string>u</string>\\n\\t\\t<string>v</string>\\n\\t\\t<string>w</string>\\n\\t\\t<string>x</string>\\n\\t\\t<string>y</string>\\n\\t\\t<string>z</string>\\n\\t\\t<string>braceleft</string>\\n\\t\\t<string>bar</string>\\n\\t\\t<string>braceright</string>\\n\\t\\t<string>asciitilde</string>\\n\\t\\t<string>exclamdown</string>\\n\\t\\t<string>brokenbar</string>\\n\\t\\t<string>section</string>\\n\\t\\t<string>dieresis</string>\\n\\t\\t<string>copyright</string>\\n\\t\\t<string>logicalnot</string>\\n\\t\\t<string>registered</string>\\n\\t\\t<string>macron</string>\\n\\t\\t<string>degree</string>\\n\\t\\t<string>plusminus</string>\\n\\t\\t<string>acute</string>\\n\\t\\t<string>paragraph</string>\\n\\t\\t<string>periodcentered</string>\\n\\t\\t<string>cedilla</string>\\n\\t\\t<string>questiondown</string>\\n\\t\\t<string>Agrave</string>\\n\\t\\t<string>Aacute</string>\\n\\t\\t<string>Acircumflex</string>\\n\\t\\t<string>Atilde</string>\\n\\t\\t<string>Adieresis</string>\\n\\t\\t<string>Aring</string>\\n\\t\\t<string>AE</string>\\n\\t\\t<string>Ccedilla</string>\\n\\t\\t<string>Egrave</string>\\n\\t\\t<string>Eacute</string>\\n\\t\\t<string>Ecircumflex</string>\\n\\t\\t<string>Edieresis</string>\\n\\t\\t<string>Igrave</string>\\n\\t\\t<string>Iacute</string>\\n\\t\\t<string>Icircumflex</string>\\n\\t\\t<string>Idieresis</string>\\n\\t\\t<string>Eth</string>\\n\\t\\t<string>Ntilde</string>\\n\\t\\t<string>Ograve</string>\\n\\t\\t<string>Oacute</string>\\n\\t\\t<string>Ocircumflex</string>\\n\\t\\t<string>Otilde</string>\\n\\t\\t<string>Odieresis</string>\\n\\t\\t<string>multiply</string>\\n\\t\\t<string>Oslash</string>\\n\\t\\t<string>Ugrave</string>\\n\\t\\t<string>Uacute</string>\\n\\t\\t<string>Ucircumflex</string>\\n\\t\\t<string>Udieresis</string>\\n\\t\\t<string>Yacute</string>\\n\\t\\t<string>Thorn</string>\\n\\t\\t<string>germandbls</string>\\n\\t\\t<string>agrave</string>\\n\\t\\t<string>aacute</string>\\n\\t\\t<string>acircumflex</string>\\n\\t\\t<string>atilde</string>\\n\\t\\t<string>adieresis</string>\\n\\t\\t<string>aring</string>\\n\\t\\t<string>ae</string>\\n\\t\\t<string>ccedilla</string>\\n\\t\\t<string>egrave</string>\\n\\t\\t<string>eacute</string>\\n\\t\\t<string>ecircumflex</string>\\n\\t\\t<string>edieresis</string>\\n\\t\\t<string>igrave</string>\\n\\t\\t<string>iacute</string>\\n\\t\\t<string>icircumflex</string>\\n\\t\\t<string>idieresis</string>\\n\\t\\t<string>eth</string>\\n\\t\\t<string>ntilde</string>\\n\\t\\t<string>ograve</string>\\n\\t\\t<string>oacute</string>\\n\\t\\t<string>ocircumflex</string>\\n\\t\\t<string>otilde</string>\\n\\t\\t<string>odieresis</string>\\n\\t\\t<string>divide</string>\\n\\t\\t<string>oslash</string>\\n\\t\\t<string>ugrave</string>\\n\\t\\t<string>uacute</string>\\n\\t\\t<string>ucircumflex</string>\\n\\t\\t<string>udieresis</string>\\n\\t\\t<string>yacute</string>\\n\\t\\t<string>thorn</string>\\n\\t\\t<string>ydieresis</string>\\n\\t\\t<string>circumflex</string>\\n\\t\\t<string>caron</string>\\n\\t\\t<string>breve</string>\\n\\t\\t<string>dotaccent</string>\\n\\t\\t<string>ring</string>\\n\\t\\t<string>ogonek</string>\\n\\t\\t<string>tilde</string>\\n\\t\\t<string>hungarumlaut</string>\\n\\t\\t<string>minus</string>\\n\\t\\t<string>OE</string>\\n\\t\\t<string>Germandbls</string>\\n\\t\\t<string>Wacute</string>\\n\\t\\t<string>Wcircumflex</string>\\n\\t\\t<string>Wdieresis</string>\\n\\t\\t<string>Wgrave</string>\\n\\t\\t<string>Ycircumflex</string>\\n\\t\\t<string>Ydieresis</string>\\n\\t\\t<string>Ygrave</string>\\n\\t\\t<string>oe</string>\\n\\t\\t<string>wacute</string>\\n\\t\\t<string>wcircumflex</string>\\n\\t\\t<string>wdieresis</string>\\n\\t\\t<string>wgrave</string>\\n\\t\\t<string>ycircumflex</string>\\n\\t\\t<string>ygrave</string>\\n\\t\\t<string>f_f_i</string>\\n\\t\\t<string>fi</string>\\n\\t\\t<string>f_j.liga</string>\\n\\t\\t<string>g_j.liga</string>\\n\\t\\t<string>j_j.liga</string>\\n\\t\\t<string>s_s.liga</string>\\n\\t\\t<string>y_j.liga</string>\\n\\t\\t<string>A-cy</string>\\n\\t\\t<string>Be-cy</string>\\n\\t\\t<string>Ve-cy</string>\\n\\t\\t<string>Ge-cy</string>\\n\\t\\t<string>De-cy</string>\\n\\t\\t<string>Ie-cy</string>\\n\\t\\t<string>Io-cy</string>\\n\\t\\t<string>Zhe-cy</string>\\n\\t\\t<string>Ze-cy</string>\\n\\t\\t<string>Ii-cy</string>\\n\\t\\t<string>Iishort-cy</string>\\n\\t\\t<string>Ka-cy</string>\\n\\t\\t<string>El-cy</string>\\n\\t\\t<string>Em-cy</string>\\n\\t\\t<string>En-cy</string>\\n\\t\\t<string>O-cy</string>\\n\\t\\t<string>Pe-cy</string>\\n\\t\\t<string>Er-cy</string>\\n\\t\\t<string>Es-cy</string>\\n\\t\\t<string>Te-cy</string>\\n\\t\\t<string>U-cy</string>\\n\\t\\t<string>Ef-cy</string>\\n\\t\\t<string>Ha-cy</string>\\n\\t\\t<string>Che-cy</string>\\n\\t\\t<string>Tse-cy</string>\\n\\t\\t<string>Sha-cy</string>\\n\\t\\t<string>Shcha-cy</string>\\n\\t\\t<string>Softsign-cy</string>\\n\\t\\t<string>Hardsign-cy</string>\\n\\t\\t<string>Yeru-cy</string>\\n\\t\\t<string>Ereversed-cy</string>\\n\\t\\t<string>Iu-cy</string>\\n\\t\\t<string>Ia-cy</string>\\n\\t\\t<string>De-cy.001</string>\\n\\t\\t<string>Ii-cy.001</string>\\n\\t\\t<string>El-cy.001</string>\\n\\t\\t<string>U-cy.001</string>\\n\\t\\t<string>a-cy</string>\\n\\t\\t<string>be-cy</string>\\n\\t\\t<string>ve-cy</string>\\n\\t\\t<string>ge-cy</string>\\n\\t\\t<string>de-cy</string>\\n\\t\\t<string>ie-cy</string>\\n\\t\\t<string>io-cy</string>\\n\\t\\t<string>zhe-cy</string>\\n\\t\\t<string>ze-cy</string>\\n\\t\\t<string>ii-cy</string>\\n\\t\\t<string>iishort-cy</string>\\n\\t\\t<string>ka-cy</string>\\n\\t\\t<string>el-cy</string>\\n\\t\\t<string>em-cy</string>\\n\\t\\t<string>en-cy</string>\\n\\t\\t<string>o-cy</string>\\n\\t\\t<string>pe-cy</string>\\n\\t\\t<string>er-cy</string>\\n\\t\\t<string>es-cy</string>\\n\\t\\t<string>te-cy</string>\\n\\t\\t<string>u-cy</string>\\n\\t\\t<string>ef-cy</string>\\n\\t\\t<string>ha-cy</string>\\n\\t\\t<string>che-cy</string>\\n\\t\\t<string>tse-cy</string>\\n\\t\\t<string>sha-cy</string>\\n\\t\\t<string>shcha-cy</string>\\n\\t\\t<string>softsign-cy</string>\\n\\t\\t<string>hardsign-cy</string>\\n\\t\\t<string>yeru-cy</string>\\n\\t\\t<string>ereversed-cy</string>\\n\\t\\t<string>iu-cy</string>\\n\\t\\t<string>ia-cy</string>\\n\\t\\t<string>be-cy.001</string>\\n\\t\\t<string>ii-cy.001</string>\\n\\t\\t<string>be-cy.002</string>\\n\\t\\t<string>ii-cy.002</string>\\n\\t\\t<string>be-cy.003</string>\\n\\t\\t<string>fraction</string>\\n\\t\\t<string>ellipsis</string>\\n\\t\\t<string>bullet</string>\\n\\t\\t<string>endash</string>\\n\\t\\t<string>emdash</string>\\n\\t\\t<string>notequal</string>\\n\\t\\t<string>greaterequal</string>\\n\\t\\t<string>lessequal</string>\\n\\t\\t<string>approxequal</string>\\n\\t\\t<string>emptyset</string>\\n\\t\\t<string>infinity</string>\\n\\t\\t<string>integral</string>\\n\\t\\t<string>product</string>\\n\\t\\t<string>summation</string>\\n\\t\\t<string>radical</string>\\n\\t\\t<string>partialdiff</string>\\n\\t\\t<string>perthousand</string>\\n\\t\\t<string>upArrow</string>\\n\\t\\t<string>rightArrow</string>\\n\\t\\t<string>downArrow</string>\\n\\t\\t<string>leftArrow</string>\\n\\t\\t<string>lozenge</string>\\n\\t\\t<string>trademark</string>\\n\\t\\t<string>dagger</string>\\n\\t\\t<string>daggerdbl</string>\\n\\t\\t<string>pixel</string>\\n\\t</array>\\n\\t<key>public.postscriptNames</key>\\n\\t<dict>\\n\\t\\t<key>downArrow</key>\\n\\t\\t<string>arrowdown</string>\\n\\t\\t<key>leftArrow</key>\\n\\t\\t<string>arrowleft</string>\\n\\t\\t<key>rightArrow</key>\\n\\t\\t<string>arrowright</string>\\n\\t\\t<key>upArrow</key>\\n\\t\\t<string>arrowup</string>\\n\\t</dict>\\n</dict>\\n</plist>\\n'"
            ]
          },
          "metadata": {
            "tags": []
          },
          "execution_count": 129
        }
      ]
    },
    {
      "cell_type": "markdown",
      "metadata": {
        "id": "5G2BMdaZ-lXo",
        "colab_type": "text"
      },
      "source": [
        "Add root element to XML feed"
      ]
    },
    {
      "cell_type": "code",
      "metadata": {
        "id": "U4xyhMjcAyc-",
        "colab_type": "code",
        "colab": {
          "base_uri": "https://localhost:8080/",
          "height": 34
        },
        "outputId": "9c3295b2-5893-49df-b6f2-059faf419b1a"
      },
      "source": [
        "ufo3_1_xml_root = ET.fromstring(ufo3_1_xml)\n",
        "ufo3_1_xml_root"
      ],
      "execution_count": 130,
      "outputs": [
        {
          "output_type": "execute_result",
          "data": {
            "text/plain": [
              "<Element 'plist' at 0x7f4ff5102638>"
            ]
          },
          "metadata": {
            "tags": []
          },
          "execution_count": 130
        }
      ]
    },
    {
      "cell_type": "markdown",
      "metadata": {
        "id": "M8RGcCKmIIAu",
        "colab_type": "text"
      },
      "source": [
        "Error: a bytes-like object is required, not '_io.TextIOWrapper'"
      ]
    },
    {
      "cell_type": "code",
      "metadata": {
        "id": "qOrCGkVoBppL",
        "colab_type": "code",
        "colab": {}
      },
      "source": [
        "# I need to collect <string> inside \n",
        "# <array>\n",
        "# \t\t<dict>\n",
        "# \t\t\t<key>ascending</key>\n",
        "# \t\t\t<array>\n",
        "# glyphs = []\n",
        "\n",
        "# for glyph in ufo3_1_xml_form.findall('.//array'): \n",
        "#   glyphs.append( glyph.find('.//string').text )\n",
        "\n",
        "# # creating a dataframe \n",
        "# glyphs_df = pd.DataFrame(    \n",
        "#     {'glyphs': glyphs,\n",
        "#     })  \n",
        "\n",
        "# glyphs_df"
      ],
      "execution_count": 131,
      "outputs": []
    },
    {
      "cell_type": "markdown",
      "metadata": {
        "id": "2lQkN9jSDnIm",
        "colab_type": "text"
      },
      "source": [
        "Error:\n",
        "AttributeError                            Traceback (most recent call last)\n",
        "<ipython-input-63-fa80086878b8> in <module>()\n",
        "      7 \n",
        "      8 for glyph in ufo3_1_xml_form.findall('.//array'):\n",
        "----> 9   glyphs.append( glyph.find('.//string').text )\n",
        "     10 \n",
        "     11 # creating a dataframe\n",
        "\n",
        "AttributeError: 'NoneType' object has no attribute 'text'"
      ]
    },
    {
      "cell_type": "markdown",
      "metadata": {
        "id": "FvpLIskTZM3n",
        "colab_type": "text"
      },
      "source": [
        "connect commits + visualise which particular changes has happened?\\\n",
        "what kind of statistic can I aggregate based on the whole font file?\\\n",
        "github: font file structure + commit comment // font file // each glyph separatly\n"
      ]
    }
  ]
}