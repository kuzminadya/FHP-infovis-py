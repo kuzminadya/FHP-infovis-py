{
  "nbformat": 4,
  "nbformat_minor": 0,
  "metadata": {
    "colab": {
      "name": "Data Dossier | 2nd use case.ipynb",
      "provenance": [],
      "collapsed_sections": [],
      "toc_visible": true,
      "authorship_tag": "ABX9TyM+6ZbLQGKnFXZiONut5XF2",
      "include_colab_link": true
    },
    "kernelspec": {
      "name": "python3",
      "display_name": "Python 3"
    }
  },
  "cells": [
    {
      "cell_type": "markdown",
      "metadata": {
        "id": "view-in-github",
        "colab_type": "text"
      },
      "source": [
        "<a href=\"https://colab.research.google.com/github/kuzminadya/FHP-infovis-py/blob/master/Data_Dossier_%7C_2nd_use_case.ipynb\" target=\"_parent\"><img src=\"https://colab.research.google.com/assets/colab-badge.svg\" alt=\"Open In Colab\"/></a>"
      ]
    },
    {
      "cell_type": "markdown",
      "metadata": {
        "id": "HQFKi_PJ6xYS",
        "colab_type": "text"
      },
      "source": [
        "# Font file transformation, 2nd Use Case\n",
        "\n",
        "\n"
      ]
    },
    {
      "cell_type": "markdown",
      "metadata": {
        "id": "ivr3gUu0N92j",
        "colab_type": "text"
      },
      "source": [
        "## An idea\n",
        "\n",
        "My idea is to analyse and visualise the transformation of font file changing over time. Creating a font, especially a large font family may take several years of work or it might be a result of collaboration of several designers and type engineers. Even after the first version is released, the contribution to the project and updating the font may last for several years."
      ]
    },
    {
      "cell_type": "markdown",
      "metadata": {
        "id": "y0b7ARaR4KIz",
        "colab_type": "text"
      },
      "source": [
        "## Second use case\n",
        "\n",
        "The second use case — analyse and comperison of UFO (xml-based) and TTF font files"
      ]
    },
    {
      "cell_type": "code",
      "metadata": {
        "id": "iQBjNlGPZ3tq",
        "colab_type": "code",
        "colab": {}
      },
      "source": [
        "import pandas as pd\n",
        "import altair as alt"
      ],
      "execution_count": 187,
      "outputs": []
    },
    {
      "cell_type": "markdown",
      "metadata": {
        "id": "pPSPH2kmURvB",
        "colab_type": "text"
      },
      "source": [
        "xml\n",
        "\n",
        "https://colab.research.google.com/drive/1u4gucw1Lndk_Wpuo3pAhojEUp5iiq19u\n",
        "\n",
        "https://docs.python.org/2/library/xml.etree.elementtree.html\n",
        "\n",
        "ufo\n",
        "\n",
        "http://unifiedfontobject.org/versions/ufo3/"
      ]
    },
    {
      "cell_type": "code",
      "metadata": {
        "id": "MwwvtW8nvQBi",
        "colab_type": "code",
        "colab": {}
      },
      "source": [
        "import xml.etree.ElementTree as ET\n",
        "import requests"
      ],
      "execution_count": 188,
      "outputs": []
    },
    {
      "cell_type": "markdown",
      "metadata": {
        "id": "wQgMF0JcT4xl",
        "colab_type": "text"
      },
      "source": [
        "In order to test it I've upload each lip.plist file from all 3 versions via url to compare amount of glyphs"
      ]
    },
    {
      "cell_type": "code",
      "metadata": {
        "id": "9hpzDl_ESUhs",
        "colab_type": "code",
        "colab": {}
      },
      "source": [
        "url_ver3_1 = 'https://raw.githubusercontent.com/kuzminadya/FHP-infovis-py/master/ufo/2020.04.11mogeefont-v3.1.ufo/lib.plist'\n",
        "url_ver3_2 = 'https://raw.githubusercontent.com/kuzminadya/FHP-infovis-py/master/ufo/2020.04.12mogeefont-v3.2.ufo/lib.plist'\n",
        "url_ver3_3 = 'https://raw.githubusercontent.com/kuzminadya/FHP-infovis-py/master/ufo/2020.04.13mogeefont-v3.3.ufo/lib.plist'\n",
        "url_ver3_4 = 'https://raw.githubusercontent.com/kuzminadya/FHP-infovis-py/master/ufo/2020.04.13mogeefont-v3.4.ufo/lib.plist'"
      ],
      "execution_count": 189,
      "outputs": []
    },
    {
      "cell_type": "code",
      "metadata": {
        "id": "WcEk6eXQWJgA",
        "colab_type": "code",
        "colab": {
          "base_uri": "https://localhost:8080/",
          "height": 188
        },
        "outputId": "a130f0d3-f447-4852-e431-d42f79c03d49"
      },
      "source": [
        "response_ver3 = requests.get(url_ver3_1)\n",
        "ufo3_1_xml = response_ver3.text\n",
        "ufo3_1_xml"
      ],
      "execution_count": 190,
      "outputs": [
        {
          "output_type": "execute_result",
          "data": {
            "application/vnd.google.colaboratory.intrinsic": {
              "type": "string"
            },
            "text/plain": [
              "'<?xml version=\"1.0\" encoding=\"UTF-8\"?>\\n<!DOCTYPE plist PUBLIC \"-//Apple Computer//DTD PLIST 1.0//EN\" \"http://www.apple.com/DTDs/PropertyList-1.0.dtd\">\\n<plist version=\"1.0\">\\n<dict>\\n\\t<key>com.schriftgestaltung.disablesAutomaticAlignment</key>\\n\\t<true/>\\n\\t<key>com.schriftgestaltung.font.customParameters</key>\\n\\t<array>\\n\\t\\t<dict>\\n\\t\\t\\t<key>name</key>\\n\\t\\t\\t<string>glyphOrder</string>\\n\\t\\t\\t<key>value</key>\\n\\t\\t\\t<array>\\n\\t\\t\\t\\t<string>space</string>\\n\\t\\t\\t\\t<string>exclam</string>\\n\\t\\t\\t\\t<string>quotesingle</string>\\n\\t\\t\\t\\t<string>quotedbl</string>\\n\\t\\t\\t\\t<string>numbersign</string>\\n\\t\\t\\t\\t<string>dollar</string>\\n\\t\\t\\t\\t<string>percent</string>\\n\\t\\t\\t\\t<string>ampersand</string>\\n\\t\\t\\t\\t<string>parenleft</string>\\n\\t\\t\\t\\t<string>parenright</string>\\n\\t\\t\\t\\t<string>asterisk</string>\\n\\t\\t\\t\\t<string>plus</string>\\n\\t\\t\\t\\t<string>comma</string>\\n\\t\\t\\t\\t<string>hyphen</string>\\n\\t\\t\\t\\t<string>period</string>\\n\\t\\t\\t\\t<string>slash</string>\\n\\t\\t\\t\\t<string>zero</string>\\n\\t\\t\\t\\t<string>one</string>\\n\\t\\t\\t\\t<string>two</string>\\n\\t\\t\\t\\t<string>three</string>\\n\\t\\t\\t\\t<string>four</string>\\n\\t\\t\\t\\t<string>five</string>\\n\\t\\t\\t\\t<string>six</string>\\n\\t\\t\\t\\t<string>seven</string>\\n\\t\\t\\t\\t<string>eight</string>\\n\\t\\t\\t\\t<string>nine</string>\\n\\t\\t\\t\\t<string>colon</string>\\n\\t\\t\\t\\t<string>semicolon</string>\\n\\t\\t\\t\\t<string>less</string>\\n\\t\\t\\t\\t<string>equal</string>\\n\\t\\t\\t\\t<string>greater</string>\\n\\t\\t\\t\\t<string>question</string>\\n\\t\\t\\t\\t<string>at</string>\\n\\t\\t\\t\\t<string>A</string>\\n\\t\\t\\t\\t<string>B</string>\\n\\t\\t\\t\\t<string>C</string>\\n\\t\\t\\t\\t<string>D</string>\\n\\t\\t\\t\\t<string>E</string>\\n\\t\\t\\t\\t<string>F</string>\\n\\t\\t\\t\\t<string>G</string>\\n\\t\\t\\t\\t<string>H</string>\\n\\t\\t\\t\\t<string>I</string>\\n\\t\\t\\t\\t<string>J</string>\\n\\t\\t\\t\\t<string>K</string>\\n\\t\\t\\t\\t<string>L</string>\\n\\t\\t\\t\\t<string>M</string>\\n\\t\\t\\t\\t<string>N</string>\\n\\t\\t\\t\\t<string>O</string>\\n\\t\\t\\t\\t<string>P</string>\\n\\t\\t\\t\\t<string>Q</string>\\n\\t\\t\\t\\t<string>R</string>\\n\\t\\t\\t\\t<string>S</string>\\n\\t\\t\\t\\t<string>T</string>\\n\\t\\t\\t\\t<string>U</string>\\n\\t\\t\\t\\t<string>V</string>\\n\\t\\t\\t\\t<string>W</string>\\n\\t\\t\\t\\t<string>X</string>\\n\\t\\t\\t\\t<string>Y</string>\\n\\t\\t\\t\\t<string>Z</string>\\n\\t\\t\\t\\t<string>bracketleft</string>\\n\\t\\t\\t\\t<string>backslash</string>\\n\\t\\t\\t\\t<string>bracketright</string>\\n\\t\\t\\t\\t<string>asciicircum</string>\\n\\t\\t\\t\\t<string>underscore</string>\\n\\t\\t\\t\\t<string>grave</string>\\n\\t\\t\\t\\t<string>a</string>\\n\\t\\t\\t\\t<string>b</string>\\n\\t\\t\\t\\t<string>c</string>\\n\\t\\t\\t\\t<string>d</string>\\n\\t\\t\\t\\t<string>e</string>\\n\\t\\t\\t\\t<string>f</string>\\n\\t\\t\\t\\t<string>g</string>\\n\\t\\t\\t\\t<string>h</string>\\n\\t\\t\\t\\t<string>i</string>\\n\\t\\t\\t\\t<string>j</string>\\n\\t\\t\\t\\t<string>k</string>\\n\\t\\t\\t\\t<string>l</string>\\n\\t\\t\\t\\t<string>m</string>\\n\\t\\t\\t\\t<string>n</string>\\n\\t\\t\\t\\t<string>o</string>\\n\\t\\t\\t\\t<string>p</string>\\n\\t\\t\\t\\t<string>q</string>\\n\\t\\t\\t\\t<string>r</string>\\n\\t\\t\\t\\t<string>s</string>\\n\\t\\t\\t\\t<string>t</string>\\n\\t\\t\\t\\t<string>u</string>\\n\\t\\t\\t\\t<string>v</string>\\n\\t\\t\\t\\t<string>w</string>\\n\\t\\t\\t\\t<string>x</string>\\n\\t\\t\\t\\t<string>y</string>\\n\\t\\t\\t\\t<string>z</string>\\n\\t\\t\\t\\t<string>braceleft</string>\\n\\t\\t\\t\\t<string>bar</string>\\n\\t\\t\\t\\t<string>braceright</string>\\n\\t\\t\\t\\t<string>asciitilde</string>\\n\\t\\t\\t\\t<string>exclamdown</string>\\n\\t\\t\\t\\t<string>cent</string>\\n\\t\\t\\t\\t<string>sterling</string>\\n\\t\\t\\t\\t<string>currency</string>\\n\\t\\t\\t\\t<string>yen</string>\\n\\t\\t\\t\\t<string>brokenbar</string>\\n\\t\\t\\t\\t<string>section</string>\\n\\t\\t\\t\\t<string>dieresis</string>\\n\\t\\t\\t\\t<string>copyright</string>\\n\\t\\t\\t\\t<string>ordfeminine</string>\\n\\t\\t\\t\\t<string>guillemotleft</string>\\n\\t\\t\\t\\t<string>logicalnot</string>\\n\\t\\t\\t\\t<string>registered</string>\\n\\t\\t\\t\\t<string>macron</string>\\n\\t\\t\\t\\t<string>degree</string>\\n\\t\\t\\t\\t<string>plusminus</string>\\n\\t\\t\\t\\t<string>twosuperior</string>\\n\\t\\t\\t\\t<string>threesuperior</string>\\n\\t\\t\\t\\t<string>acute</string>\\n\\t\\t\\t\\t<string>mu</string>\\n\\t\\t\\t\\t<string>paragraph</string>\\n\\t\\t\\t\\t<string>periodcentered</string>\\n\\t\\t\\t\\t<string>cedilla</string>\\n\\t\\t\\t\\t<string>onesuperior</string>\\n\\t\\t\\t\\t<string>ordmasculine</string>\\n\\t\\t\\t\\t<string>guillemotright</string>\\n\\t\\t\\t\\t<string>onequarter</string>\\n\\t\\t\\t\\t<string>onehalf</string>\\n\\t\\t\\t\\t<string>threequarters</string>\\n\\t\\t\\t\\t<string>questiondown</string>\\n\\t\\t\\t\\t<string>Agrave</string>\\n\\t\\t\\t\\t<string>Aacute</string>\\n\\t\\t\\t\\t<string>Acircumflex</string>\\n\\t\\t\\t\\t<string>Atilde</string>\\n\\t\\t\\t\\t<string>Adieresis</string>\\n\\t\\t\\t\\t<string>Aring</string>\\n\\t\\t\\t\\t<string>AE</string>\\n\\t\\t\\t\\t<string>Ccedilla</string>\\n\\t\\t\\t\\t<string>Egrave</string>\\n\\t\\t\\t\\t<string>Eacute</string>\\n\\t\\t\\t\\t<string>Ecircumflex</string>\\n\\t\\t\\t\\t<string>Edieresis</string>\\n\\t\\t\\t\\t<string>Igrave</string>\\n\\t\\t\\t\\t<string>Iacute</string>\\n\\t\\t\\t\\t<string>Icircumflex</string>\\n\\t\\t\\t\\t<string>Idieresis</string>\\n\\t\\t\\t\\t<string>Eth</string>\\n\\t\\t\\t\\t<string>Ntilde</string>\\n\\t\\t\\t\\t<string>Ograve</string>\\n\\t\\t\\t\\t<string>Oacute</string>\\n\\t\\t\\t\\t<string>Ocircumflex</string>\\n\\t\\t\\t\\t<string>Otilde</string>\\n\\t\\t\\t\\t<string>Odieresis</string>\\n\\t\\t\\t\\t<string>multiply</string>\\n\\t\\t\\t\\t<string>Oslash</string>\\n\\t\\t\\t\\t<string>Ugrave</string>\\n\\t\\t\\t\\t<string>Uacute</string>\\n\\t\\t\\t\\t<string>Ucircumflex</string>\\n\\t\\t\\t\\t<string>Udieresis</string>\\n\\t\\t\\t\\t<string>Yacute</string>\\n\\t\\t\\t\\t<string>Thorn</string>\\n\\t\\t\\t\\t<string>germandbls</string>\\n\\t\\t\\t\\t<string>agrave</string>\\n\\t\\t\\t\\t<string>aacute</string>\\n\\t\\t\\t\\t<string>acircumflex</string>\\n\\t\\t\\t\\t<string>atilde</string>\\n\\t\\t\\t\\t<string>adieresis</string>\\n\\t\\t\\t\\t<string>aring</string>\\n\\t\\t\\t\\t<string>ae</string>\\n\\t\\t\\t\\t<string>ccedilla</string>\\n\\t\\t\\t\\t<string>egrave</string>\\n\\t\\t\\t\\t<string>eacute</string>\\n\\t\\t\\t\\t<string>ecircumflex</string>\\n\\t\\t\\t\\t<string>edieresis</string>\\n\\t\\t\\t\\t<string>igrave</string>\\n\\t\\t\\t\\t<string>iacute</string>\\n\\t\\t\\t\\t<string>icircumflex</string>\\n\\t\\t\\t\\t<string>idieresis</string>\\n\\t\\t\\t\\t<string>eth</string>\\n\\t\\t\\t\\t<string>ntilde</string>\\n\\t\\t\\t\\t<string>ograve</string>\\n\\t\\t\\t\\t<string>oacute</string>\\n\\t\\t\\t\\t<string>ocircumflex</string>\\n\\t\\t\\t\\t<string>otilde</string>\\n\\t\\t\\t\\t<string>odieresis</string>\\n\\t\\t\\t\\t<string>divide</string>\\n\\t\\t\\t\\t<string>oslash</string>\\n\\t\\t\\t\\t<string>ugrave</string>\\n\\t\\t\\t\\t<string>uacute</string>\\n\\t\\t\\t\\t<string>ucircumflex</string>\\n\\t\\t\\t\\t<string>udieresis</string>\\n\\t\\t\\t\\t<string>yacute</string>\\n\\t\\t\\t\\t<string>thorn</string>\\n\\t\\t\\t\\t<string>ydieresis</string>\\n\\t\\t\\t\\t<string>dotlessi</string>\\n\\t\\t\\t\\t<string>circumflex</string>\\n\\t\\t\\t\\t<string>caron</string>\\n\\t\\t\\t\\t<string>breve</string>\\n\\t\\t\\t\\t<string>dotaccent</string>\\n\\t\\t\\t\\t<string>ring</string>\\n\\t\\t\\t\\t<string>ogonek</string>\\n\\t\\t\\t\\t<string>tilde</string>\\n\\t\\t\\t\\t<string>hungarumlaut</string>\\n\\t\\t\\t\\t<string>quoteleft</string>\\n\\t\\t\\t\\t<string>quoteright</string>\\n\\t\\t\\t\\t<string>minus</string>\\n\\t\\t\\t\\t<string>p.10</string>\\n\\t\\t\\t\\t<string>p.9</string>\\n\\t\\t\\t\\t<string>p.3</string>\\n\\t\\t\\t\\t<string>p.8</string>\\n\\t\\t\\t\\t<string>p.2</string>\\n\\t\\t\\t\\t<string>p.4</string>\\n\\t\\t\\t\\t<string>p.7</string>\\n\\t\\t\\t\\t<string>p.6</string>\\n\\t\\t\\t\\t<string>p.1</string>\\n\\t\\t\\t\\t<string>p.5</string>\\n\\t\\t\\t\\t<string>p.3.copy_1</string>\\n\\t\\t\\t\\t<string>p.8.copy_2.copy_1</string>\\n\\t\\t\\t\\t<string>p.8.copy_1.copy_2</string>\\n\\t\\t\\t\\t<string>p.8.copy_1.copy_3</string>\\n\\t\\t\\t\\t<string>p.8.copy_1.copy_1</string>\\n\\t\\t\\t\\t<string>p.8.copy_1</string>\\n\\t\\t\\t\\t<string>p.8.copy_2</string>\\n\\t\\t\\t\\t<string>p.9.copy_1</string>\\n\\t\\t\\t\\t<string>p.2.copy_2</string>\\n\\t\\t\\t\\t<string>p.2.copy_3</string>\\n\\t\\t\\t\\t<string>p.2.copy_1</string>\\n\\t\\t\\t\\t<string>p_.8</string>\\n\\t\\t\\t\\t<string>p.8.copy_1.copy_3.copy_1</string>\\n\\t\\t\\t\\t<string>four.tl</string>\\n\\t\\t\\t\\t<string>two.tl</string>\\n\\t\\t\\t\\t<string>eight.tl</string>\\n\\t\\t\\t\\t<string>seven.tl</string>\\n\\t\\t\\t\\t<string>six.tl</string>\\n\\t\\t\\t\\t<string>five.tl</string>\\n\\t\\t\\t\\t<string>three.tl</string>\\n\\t\\t\\t\\t<string>nine.tl</string>\\n\\t\\t\\t\\t<string>one.tl</string>\\n\\t\\t\\t\\t<string>zero.tl</string>\\n\\t\\t\\t</array>\\n\\t\\t</dict>\\n\\t\\t<dict>\\n\\t\\t\\t<key>name</key>\\n\\t\\t\\t<string>Use Typo Metrics</string>\\n\\t\\t\\t<key>value</key>\\n\\t\\t\\t<true/>\\n\\t\\t</dict>\\n\\t</array>\\n\\t<key>com.schriftgestaltung.fontMasterID</key>\\n\\t<string>master01</string>\\n\\t<key>com.schriftgestaltung.glyphOrder</key>\\n\\t<array>\\n\\t\\t<string>space</string>\\n\\t\\t<string>exclam</string>\\n\\t\\t<string>quotesingle</string>\\n\\t\\t<string>quotedbl</string>\\n\\t\\t<string>numbersign</string>\\n\\t\\t<string>dollar</string>\\n\\t\\t<string>percent</string>\\n\\t\\t<string>ampersand</string>\\n\\t\\t<string>parenleft</string>\\n\\t\\t<string>parenright</string>\\n\\t\\t<string>asterisk</string>\\n\\t\\t<string>plus</string>\\n\\t\\t<string>comma</string>\\n\\t\\t<string>hyphen</string>\\n\\t\\t<string>period</string>\\n\\t\\t<string>slash</string>\\n\\t\\t<string>zero</string>\\n\\t\\t<string>one</string>\\n\\t\\t<string>two</string>\\n\\t\\t<string>three</string>\\n\\t\\t<string>four</string>\\n\\t\\t<string>five</string>\\n\\t\\t<string>six</string>\\n\\t\\t<string>seven</string>\\n\\t\\t<string>eight</string>\\n\\t\\t<string>nine</string>\\n\\t\\t<string>colon</string>\\n\\t\\t<string>semicolon</string>\\n\\t\\t<string>less</string>\\n\\t\\t<string>equal</string>\\n\\t\\t<string>greater</string>\\n\\t\\t<string>question</string>\\n\\t\\t<string>at</string>\\n\\t\\t<string>A</string>\\n\\t\\t<string>B</string>\\n\\t\\t<string>C</string>\\n\\t\\t<string>D</string>\\n\\t\\t<string>E</string>\\n\\t\\t<string>F</string>\\n\\t\\t<string>G</string>\\n\\t\\t<string>H</string>\\n\\t\\t<string>I</string>\\n\\t\\t<string>J</string>\\n\\t\\t<string>K</string>\\n\\t\\t<string>L</string>\\n\\t\\t<string>M</string>\\n\\t\\t<string>N</string>\\n\\t\\t<string>O</string>\\n\\t\\t<string>P</string>\\n\\t\\t<string>Q</string>\\n\\t\\t<string>R</string>\\n\\t\\t<string>S</string>\\n\\t\\t<string>T</string>\\n\\t\\t<string>U</string>\\n\\t\\t<string>V</string>\\n\\t\\t<string>W</string>\\n\\t\\t<string>X</string>\\n\\t\\t<string>Y</string>\\n\\t\\t<string>Z</string>\\n\\t\\t<string>bracketleft</string>\\n\\t\\t<string>backslash</string>\\n\\t\\t<string>bracketright</string>\\n\\t\\t<string>asciicircum</string>\\n\\t\\t<string>underscore</string>\\n\\t\\t<string>grave</string>\\n\\t\\t<string>a</string>\\n\\t\\t<string>b</string>\\n\\t\\t<string>c</string>\\n\\t\\t<string>d</string>\\n\\t\\t<string>e</string>\\n\\t\\t<string>f</string>\\n\\t\\t<string>g</string>\\n\\t\\t<string>h</string>\\n\\t\\t<string>i</string>\\n\\t\\t<string>j</string>\\n\\t\\t<string>k</string>\\n\\t\\t<string>l</string>\\n\\t\\t<string>m</string>\\n\\t\\t<string>n</string>\\n\\t\\t<string>o</string>\\n\\t\\t<string>p</string>\\n\\t\\t<string>q</string>\\n\\t\\t<string>r</string>\\n\\t\\t<string>s</string>\\n\\t\\t<string>t</string>\\n\\t\\t<string>u</string>\\n\\t\\t<string>v</string>\\n\\t\\t<string>w</string>\\n\\t\\t<string>x</string>\\n\\t\\t<string>y</string>\\n\\t\\t<string>z</string>\\n\\t\\t<string>braceleft</string>\\n\\t\\t<string>bar</string>\\n\\t\\t<string>braceright</string>\\n\\t\\t<string>asciitilde</string>\\n\\t\\t<string>exclamdown</string>\\n\\t\\t<string>cent</string>\\n\\t\\t<string>sterling</string>\\n\\t\\t<string>currency</string>\\n\\t\\t<string>yen</string>\\n\\t\\t<string>brokenbar</string>\\n\\t\\t<string>section</string>\\n\\t\\t<string>dieresis</string>\\n\\t\\t<string>copyright</string>\\n\\t\\t<string>ordfeminine</string>\\n\\t\\t<string>guillemotleft</string>\\n\\t\\t<string>logicalnot</string>\\n\\t\\t<string>registered</string>\\n\\t\\t<string>macron</string>\\n\\t\\t<string>degree</string>\\n\\t\\t<string>plusminus</string>\\n\\t\\t<string>twosuperior</string>\\n\\t\\t<string>threesuperior</string>\\n\\t\\t<string>acute</string>\\n\\t\\t<string>mu</string>\\n\\t\\t<string>paragraph</string>\\n\\t\\t<string>periodcentered</string>\\n\\t\\t<string>cedilla</string>\\n\\t\\t<string>onesuperior</string>\\n\\t\\t<string>ordmasculine</string>\\n\\t\\t<string>guillemotright</string>\\n\\t\\t<string>onequarter</string>\\n\\t\\t<string>onehalf</string>\\n\\t\\t<string>threequarters</string>\\n\\t\\t<string>questiondown</string>\\n\\t\\t<string>Agrave</string>\\n\\t\\t<string>Aacute</string>\\n\\t\\t<string>Acircumflex</string>\\n\\t\\t<string>Atilde</string>\\n\\t\\t<string>Adieresis</string>\\n\\t\\t<string>Aring</string>\\n\\t\\t<string>AE</string>\\n\\t\\t<string>Ccedilla</string>\\n\\t\\t<string>Egrave</string>\\n\\t\\t<string>Eacute</string>\\n\\t\\t<string>Ecircumflex</string>\\n\\t\\t<string>Edieresis</string>\\n\\t\\t<string>Igrave</string>\\n\\t\\t<string>Iacute</string>\\n\\t\\t<string>Icircumflex</string>\\n\\t\\t<string>Idieresis</string>\\n\\t\\t<string>Eth</string>\\n\\t\\t<string>Ntilde</string>\\n\\t\\t<string>Ograve</string>\\n\\t\\t<string>Oacute</string>\\n\\t\\t<string>Ocircumflex</string>\\n\\t\\t<string>Otilde</string>\\n\\t\\t<string>Odieresis</string>\\n\\t\\t<string>multiply</string>\\n\\t\\t<string>Oslash</string>\\n\\t\\t<string>Ugrave</string>\\n\\t\\t<string>Uacute</string>\\n\\t\\t<string>Ucircumflex</string>\\n\\t\\t<string>Udieresis</string>\\n\\t\\t<string>Yacute</string>\\n\\t\\t<string>Thorn</string>\\n\\t\\t<string>germandbls</string>\\n\\t\\t<string>agrave</string>\\n\\t\\t<string>aacute</string>\\n\\t\\t<string>acircumflex</string>\\n\\t\\t<string>atilde</string>\\n\\t\\t<string>adieresis</string>\\n\\t\\t<string>aring</string>\\n\\t\\t<string>ae</string>\\n\\t\\t<string>ccedilla</string>\\n\\t\\t<string>egrave</string>\\n\\t\\t<string>eacute</string>\\n\\t\\t<string>ecircumflex</string>\\n\\t\\t<string>edieresis</string>\\n\\t\\t<string>igrave</string>\\n\\t\\t<string>iacute</string>\\n\\t\\t<string>icircumflex</string>\\n\\t\\t<string>idieresis</string>\\n\\t\\t<string>eth</string>\\n\\t\\t<string>ntilde</string>\\n\\t\\t<string>ograve</string>\\n\\t\\t<string>oacute</string>\\n\\t\\t<string>ocircumflex</string>\\n\\t\\t<string>otilde</string>\\n\\t\\t<string>odieresis</string>\\n\\t\\t<string>divide</string>\\n\\t\\t<string>oslash</string>\\n\\t\\t<string>ugrave</string>\\n\\t\\t<string>uacute</string>\\n\\t\\t<string>ucircumflex</string>\\n\\t\\t<string>udieresis</string>\\n\\t\\t<string>yacute</string>\\n\\t\\t<string>thorn</string>\\n\\t\\t<string>ydieresis</string>\\n\\t\\t<string>dotlessi</string>\\n\\t\\t<string>circumflex</string>\\n\\t\\t<string>caron</string>\\n\\t\\t<string>breve</string>\\n\\t\\t<string>dotaccent</string>\\n\\t\\t<string>ring</string>\\n\\t\\t<string>ogonek</string>\\n\\t\\t<string>tilde</string>\\n\\t\\t<string>hungarumlaut</string>\\n\\t\\t<string>quoteleft</string>\\n\\t\\t<string>quoteright</string>\\n\\t\\t<string>minus</string>\\n\\t\\t<string>p.10</string>\\n\\t\\t<string>p.9</string>\\n\\t\\t<string>p.3</string>\\n\\t\\t<string>p.8</string>\\n\\t\\t<string>p.2</string>\\n\\t\\t<string>p.4</string>\\n\\t\\t<string>p.7</string>\\n\\t\\t<string>p.6</string>\\n\\t\\t<string>p.1</string>\\n\\t\\t<string>p.5</string>\\n\\t\\t<string>p.3.copy_1</string>\\n\\t\\t<string>p.8.copy_2.copy_1</string>\\n\\t\\t<string>p.8.copy_1.copy_2</string>\\n\\t\\t<string>p.8.copy_1.copy_3</string>\\n\\t\\t<string>p.8.copy_1.copy_1</string>\\n\\t\\t<string>p.8.copy_1</string>\\n\\t\\t<string>p.8.copy_2</string>\\n\\t\\t<string>p.9.copy_1</string>\\n\\t\\t<string>p.2.copy_2</string>\\n\\t\\t<string>p.2.copy_3</string>\\n\\t\\t<string>p.2.copy_1</string>\\n\\t\\t<string>p_.8</string>\\n\\t\\t<string>p.8.copy_1.copy_3.copy_1</string>\\n\\t\\t<string>four.tl</string>\\n\\t\\t<string>two.tl</string>\\n\\t\\t<string>eight.tl</string>\\n\\t\\t<string>seven.tl</string>\\n\\t\\t<string>six.tl</string>\\n\\t\\t<string>five.tl</string>\\n\\t\\t<string>three.tl</string>\\n\\t\\t<string>nine.tl</string>\\n\\t\\t<string>one.tl</string>\\n\\t\\t<string>zero.tl</string>\\n\\t</array>\\n\\t<key>com.schriftgestaltung.gridSize</key>\\n\\t<integer>80</integer>\\n\\t<key>com.schriftgestaltung.useNiceNames</key>\\n\\t<false/>\\n\\t<key>com.schriftgestaltung.weightValue</key>\\n\\t<integer>400</integer>\\n\\t<key>com.typemytype.robofont.background.layerStrokeColor</key>\\n\\t<array>\\n\\t\\t<integer>0</integer>\\n\\t\\t<real>0.8</real>\\n\\t\\t<real>0.2</real>\\n\\t\\t<real>0.7</real>\\n\\t</array>\\n\\t<key>com.typemytype.robofont.compileSettings.autohint</key>\\n\\t<integer>1</integer>\\n\\t<key>com.typemytype.robofont.compileSettings.checkOutlines</key>\\n\\t<integer>0</integer>\\n\\t<key>com.typemytype.robofont.compileSettings.decompose</key>\\n\\t<integer>0</integer>\\n\\t<key>com.typemytype.robofont.compileSettings.generateFormat</key>\\n\\t<integer>0</integer>\\n\\t<key>com.typemytype.robofont.compileSettings.releaseMode</key>\\n\\t<integer>0</integer>\\n\\t<key>com.typemytype.robofont.foreground.layerStrokeColor</key>\\n\\t<array>\\n\\t\\t<real>0.5</real>\\n\\t\\t<integer>0</integer>\\n\\t\\t<real>0.5</real>\\n\\t\\t<real>0.7</real>\\n\\t</array>\\n\\t<key>com.typemytype.robofont.italicSlantOffset</key>\\n\\t<integer>0</integer>\\n\\t<key>com.typemytype.robofont.layerOrder</key>\\n\\t<array>\\n\\t\\t<string>background</string>\\n\\t</array>\\n\\t<key>com.typemytype.robofont.segmentType</key>\\n\\t<string>curve</string>\\n\\t<key>com.typemytype.robofont.shouldAddPointsInSplineConversion</key>\\n\\t<integer>0</integer>\\n\\t<key>com.typemytype.robofont.sort</key>\\n\\t<array>\\n\\t\\t<dict>\\n\\t\\t\\t<key>ascending</key>\\n\\t\\t\\t<array>\\n\\t\\t\\t\\t<string>space</string>\\n\\t\\t\\t\\t<string>exclam</string>\\n\\t\\t\\t\\t<string>quotesingle</string>\\n\\t\\t\\t\\t<string>quotedbl</string>\\n\\t\\t\\t\\t<string>numbersign</string>\\n\\t\\t\\t\\t<string>dollar</string>\\n\\t\\t\\t\\t<string>percent</string>\\n\\t\\t\\t\\t<string>ampersand</string>\\n\\t\\t\\t\\t<string>parenleft</string>\\n\\t\\t\\t\\t<string>parenright</string>\\n\\t\\t\\t\\t<string>asterisk</string>\\n\\t\\t\\t\\t<string>plus</string>\\n\\t\\t\\t\\t<string>comma</string>\\n\\t\\t\\t\\t<string>hyphen</string>\\n\\t\\t\\t\\t<string>period</string>\\n\\t\\t\\t\\t<string>slash</string>\\n\\t\\t\\t\\t<string>zero</string>\\n\\t\\t\\t\\t<string>one</string>\\n\\t\\t\\t\\t<string>two</string>\\n\\t\\t\\t\\t<string>three</string>\\n\\t\\t\\t\\t<string>four</string>\\n\\t\\t\\t\\t<string>five</string>\\n\\t\\t\\t\\t<string>six</string>\\n\\t\\t\\t\\t<string>seven</string>\\n\\t\\t\\t\\t<string>eight</string>\\n\\t\\t\\t\\t<string>nine</string>\\n\\t\\t\\t\\t<string>colon</string>\\n\\t\\t\\t\\t<string>semicolon</string>\\n\\t\\t\\t\\t<string>less</string>\\n\\t\\t\\t\\t<string>equal</string>\\n\\t\\t\\t\\t<string>greater</string>\\n\\t\\t\\t\\t<string>question</string>\\n\\t\\t\\t\\t<string>at</string>\\n\\t\\t\\t\\t<string>A</string>\\n\\t\\t\\t\\t<string>B</string>\\n\\t\\t\\t\\t<string>C</string>\\n\\t\\t\\t\\t<string>D</string>\\n\\t\\t\\t\\t<string>E</string>\\n\\t\\t\\t\\t<string>F</string>\\n\\t\\t\\t\\t<string>G</string>\\n\\t\\t\\t\\t<string>H</string>\\n\\t\\t\\t\\t<string>I</string>\\n\\t\\t\\t\\t<string>J</string>\\n\\t\\t\\t\\t<string>K</string>\\n\\t\\t\\t\\t<string>L</string>\\n\\t\\t\\t\\t<string>M</string>\\n\\t\\t\\t\\t<string>N</string>\\n\\t\\t\\t\\t<string>O</string>\\n\\t\\t\\t\\t<string>P</string>\\n\\t\\t\\t\\t<string>Q</string>\\n\\t\\t\\t\\t<string>R</string>\\n\\t\\t\\t\\t<string>S</string>\\n\\t\\t\\t\\t<string>T</string>\\n\\t\\t\\t\\t<string>U</string>\\n\\t\\t\\t\\t<string>V</string>\\n\\t\\t\\t\\t<string>W</string>\\n\\t\\t\\t\\t<string>X</string>\\n\\t\\t\\t\\t<string>Y</string>\\n\\t\\t\\t\\t<string>Z</string>\\n\\t\\t\\t\\t<string>bracketleft</string>\\n\\t\\t\\t\\t<string>backslash</string>\\n\\t\\t\\t\\t<string>bracketright</string>\\n\\t\\t\\t\\t<string>asciicircum</string>\\n\\t\\t\\t\\t<string>underscore</string>\\n\\t\\t\\t\\t<string>grave</string>\\n\\t\\t\\t\\t<string>a</string>\\n\\t\\t\\t\\t<string>b</string>\\n\\t\\t\\t\\t<string>c</string>\\n\\t\\t\\t\\t<string>d</string>\\n\\t\\t\\t\\t<string>e</string>\\n\\t\\t\\t\\t<string>f</string>\\n\\t\\t\\t\\t<string>g</string>\\n\\t\\t\\t\\t<string>h</string>\\n\\t\\t\\t\\t<string>i</string>\\n\\t\\t\\t\\t<string>j</string>\\n\\t\\t\\t\\t<string>k</string>\\n\\t\\t\\t\\t<string>l</string>\\n\\t\\t\\t\\t<string>m</string>\\n\\t\\t\\t\\t<string>n</string>\\n\\t\\t\\t\\t<string>o</string>\\n\\t\\t\\t\\t<string>p</string>\\n\\t\\t\\t\\t<string>q</string>\\n\\t\\t\\t\\t<string>r</string>\\n\\t\\t\\t\\t<string>s</string>\\n\\t\\t\\t\\t<string>t</string>\\n\\t\\t\\t\\t<string>u</string>\\n\\t\\t\\t\\t<string>v</string>\\n\\t\\t\\t\\t<string>w</string>\\n\\t\\t\\t\\t<string>x</string>\\n\\t\\t\\t\\t<string>y</string>\\n\\t\\t\\t\\t<string>z</string>\\n\\t\\t\\t\\t<string>braceleft</string>\\n\\t\\t\\t\\t<string>bar</string>\\n\\t\\t\\t\\t<string>braceright</string>\\n\\t\\t\\t\\t<string>asciitilde</string>\\n\\t\\t\\t\\t<string>exclamdown</string>\\n\\t\\t\\t\\t<string>cent</string>\\n\\t\\t\\t\\t<string>sterling</string>\\n\\t\\t\\t\\t<string>currency</string>\\n\\t\\t\\t\\t<string>yen</string>\\n\\t\\t\\t\\t<string>brokenbar</string>\\n\\t\\t\\t\\t<string>section</string>\\n\\t\\t\\t\\t<string>dieresis</string>\\n\\t\\t\\t\\t<string>copyright</string>\\n\\t\\t\\t\\t<string>ordfeminine</string>\\n\\t\\t\\t\\t<string>guillemotleft</string>\\n\\t\\t\\t\\t<string>logicalnot</string>\\n\\t\\t\\t\\t<string>registered</string>\\n\\t\\t\\t\\t<string>macron</string>\\n\\t\\t\\t\\t<string>degree</string>\\n\\t\\t\\t\\t<string>plusminus</string>\\n\\t\\t\\t\\t<string>twosuperior</string>\\n\\t\\t\\t\\t<string>threesuperior</string>\\n\\t\\t\\t\\t<string>acute</string>\\n\\t\\t\\t\\t<string>mu</string>\\n\\t\\t\\t\\t<string>paragraph</string>\\n\\t\\t\\t\\t<string>periodcentered</string>\\n\\t\\t\\t\\t<string>cedilla</string>\\n\\t\\t\\t\\t<string>onesuperior</string>\\n\\t\\t\\t\\t<string>ordmasculine</string>\\n\\t\\t\\t\\t<string>guillemotright</string>\\n\\t\\t\\t\\t<string>onequarter</string>\\n\\t\\t\\t\\t<string>onehalf</string>\\n\\t\\t\\t\\t<string>threequarters</string>\\n\\t\\t\\t\\t<string>questiondown</string>\\n\\t\\t\\t\\t<string>Agrave</string>\\n\\t\\t\\t\\t<string>Aacute</string>\\n\\t\\t\\t\\t<string>Acircumflex</string>\\n\\t\\t\\t\\t<string>Atilde</string>\\n\\t\\t\\t\\t<string>Adieresis</string>\\n\\t\\t\\t\\t<string>Aring</string>\\n\\t\\t\\t\\t<string>AE</string>\\n\\t\\t\\t\\t<string>Ccedilla</string>\\n\\t\\t\\t\\t<string>Egrave</string>\\n\\t\\t\\t\\t<string>Eacute</string>\\n\\t\\t\\t\\t<string>Ecircumflex</string>\\n\\t\\t\\t\\t<string>Edieresis</string>\\n\\t\\t\\t\\t<string>Igrave</string>\\n\\t\\t\\t\\t<string>Iacute</string>\\n\\t\\t\\t\\t<string>Icircumflex</string>\\n\\t\\t\\t\\t<string>Idieresis</string>\\n\\t\\t\\t\\t<string>Eth</string>\\n\\t\\t\\t\\t<string>Ntilde</string>\\n\\t\\t\\t\\t<string>Ograve</string>\\n\\t\\t\\t\\t<string>Oacute</string>\\n\\t\\t\\t\\t<string>Ocircumflex</string>\\n\\t\\t\\t\\t<string>Otilde</string>\\n\\t\\t\\t\\t<string>Odieresis</string>\\n\\t\\t\\t\\t<string>multiply</string>\\n\\t\\t\\t\\t<string>Oslash</string>\\n\\t\\t\\t\\t<string>Ugrave</string>\\n\\t\\t\\t\\t<string>Uacute</string>\\n\\t\\t\\t\\t<string>Ucircumflex</string>\\n\\t\\t\\t\\t<string>Udieresis</string>\\n\\t\\t\\t\\t<string>Yacute</string>\\n\\t\\t\\t\\t<string>Thorn</string>\\n\\t\\t\\t\\t<string>germandbls</string>\\n\\t\\t\\t\\t<string>agrave</string>\\n\\t\\t\\t\\t<string>aacute</string>\\n\\t\\t\\t\\t<string>acircumflex</string>\\n\\t\\t\\t\\t<string>atilde</string>\\n\\t\\t\\t\\t<string>adieresis</string>\\n\\t\\t\\t\\t<string>aring</string>\\n\\t\\t\\t\\t<string>ae</string>\\n\\t\\t\\t\\t<string>ccedilla</string>\\n\\t\\t\\t\\t<string>egrave</string>\\n\\t\\t\\t\\t<string>eacute</string>\\n\\t\\t\\t\\t<string>ecircumflex</string>\\n\\t\\t\\t\\t<string>edieresis</string>\\n\\t\\t\\t\\t<string>igrave</string>\\n\\t\\t\\t\\t<string>iacute</string>\\n\\t\\t\\t\\t<string>icircumflex</string>\\n\\t\\t\\t\\t<string>idieresis</string>\\n\\t\\t\\t\\t<string>eth</string>\\n\\t\\t\\t\\t<string>ntilde</string>\\n\\t\\t\\t\\t<string>ograve</string>\\n\\t\\t\\t\\t<string>oacute</string>\\n\\t\\t\\t\\t<string>ocircumflex</string>\\n\\t\\t\\t\\t<string>otilde</string>\\n\\t\\t\\t\\t<string>odieresis</string>\\n\\t\\t\\t\\t<string>divide</string>\\n\\t\\t\\t\\t<string>oslash</string>\\n\\t\\t\\t\\t<string>ugrave</string>\\n\\t\\t\\t\\t<string>uacute</string>\\n\\t\\t\\t\\t<string>ucircumflex</string>\\n\\t\\t\\t\\t<string>udieresis</string>\\n\\t\\t\\t\\t<string>yacute</string>\\n\\t\\t\\t\\t<string>thorn</string>\\n\\t\\t\\t\\t<string>ydieresis</string>\\n\\t\\t\\t\\t<string>dotlessi</string>\\n\\t\\t\\t\\t<string>circumflex</string>\\n\\t\\t\\t\\t<string>caron</string>\\n\\t\\t\\t\\t<string>breve</string>\\n\\t\\t\\t\\t<string>dotaccent</string>\\n\\t\\t\\t\\t<string>ring</string>\\n\\t\\t\\t\\t<string>ogonek</string>\\n\\t\\t\\t\\t<string>tilde</string>\\n\\t\\t\\t\\t<string>hungarumlaut</string>\\n\\t\\t\\t\\t<string>quoteleft</string>\\n\\t\\t\\t\\t<string>quoteright</string>\\n\\t\\t\\t\\t<string>minus</string>\\n\\t\\t\\t\\t<string>p.10</string>\\n\\t\\t\\t\\t<string>p.9</string>\\n\\t\\t\\t\\t<string>p.3</string>\\n\\t\\t\\t\\t<string>p.8</string>\\n\\t\\t\\t\\t<string>p.2</string>\\n\\t\\t\\t\\t<string>p.4</string>\\n\\t\\t\\t\\t<string>p.7</string>\\n\\t\\t\\t\\t<string>p.6</string>\\n\\t\\t\\t\\t<string>p.1</string>\\n\\t\\t\\t\\t<string>p.5</string>\\n\\t\\t\\t\\t<string>p.3.copy_1</string>\\n\\t\\t\\t\\t<string>p.8.copy_2.copy_1</string>\\n\\t\\t\\t\\t<string>p.8.copy_1.copy_2</string>\\n\\t\\t\\t\\t<string>p.8.copy_1.copy_3</string>\\n\\t\\t\\t\\t<string>p.8.copy_1.copy_1</string>\\n\\t\\t\\t\\t<string>p.8.copy_1</string>\\n\\t\\t\\t\\t<string>p.8.copy_2</string>\\n\\t\\t\\t\\t<string>p.9.copy_1</string>\\n\\t\\t\\t\\t<string>p.2.copy_2</string>\\n\\t\\t\\t\\t<string>p.2.copy_3</string>\\n\\t\\t\\t\\t<string>p.2.copy_1</string>\\n\\t\\t\\t\\t<string>p_.8</string>\\n\\t\\t\\t\\t<string>p.8.copy_1.copy_3.copy_1</string>\\n\\t\\t\\t\\t<string>four.tl</string>\\n\\t\\t\\t\\t<string>two.tl</string>\\n\\t\\t\\t\\t<string>eight.tl</string>\\n\\t\\t\\t\\t<string>seven.tl</string>\\n\\t\\t\\t\\t<string>six.tl</string>\\n\\t\\t\\t\\t<string>five.tl</string>\\n\\t\\t\\t\\t<string>three.tl</string>\\n\\t\\t\\t\\t<string>nine.tl</string>\\n\\t\\t\\t\\t<string>one.tl</string>\\n\\t\\t\\t\\t<string>zero.tl</string>\\n\\t\\t\\t</array>\\n\\t\\t\\t<key>type</key>\\n\\t\\t\\t<string>glyphList</string>\\n\\t\\t</dict>\\n\\t</array>\\n\\t<key>public.glyphOrder</key>\\n\\t<array>\\n\\t\\t<string>space</string>\\n\\t\\t<string>exclam</string>\\n\\t\\t<string>quotesingle</string>\\n\\t\\t<string>quotedbl</string>\\n\\t\\t<string>numbersign</string>\\n\\t\\t<string>dollar</string>\\n\\t\\t<string>percent</string>\\n\\t\\t<string>ampersand</string>\\n\\t\\t<string>parenleft</string>\\n\\t\\t<string>parenright</string>\\n\\t\\t<string>asterisk</string>\\n\\t\\t<string>plus</string>\\n\\t\\t<string>comma</string>\\n\\t\\t<string>hyphen</string>\\n\\t\\t<string>period</string>\\n\\t\\t<string>slash</string>\\n\\t\\t<string>zero</string>\\n\\t\\t<string>one</string>\\n\\t\\t<string>two</string>\\n\\t\\t<string>three</string>\\n\\t\\t<string>four</string>\\n\\t\\t<string>five</string>\\n\\t\\t<string>six</string>\\n\\t\\t<string>seven</string>\\n\\t\\t<string>eight</string>\\n\\t\\t<string>nine</string>\\n\\t\\t<string>colon</string>\\n\\t\\t<string>semicolon</string>\\n\\t\\t<string>less</string>\\n\\t\\t<string>equal</string>\\n\\t\\t<string>greater</string>\\n\\t\\t<string>question</string>\\n\\t\\t<string>at</string>\\n\\t\\t<string>A</string>\\n\\t\\t<string>B</string>\\n\\t\\t<string>C</string>\\n\\t\\t<string>D</string>\\n\\t\\t<string>E</string>\\n\\t\\t<string>F</string>\\n\\t\\t<string>G</string>\\n\\t\\t<string>H</string>\\n\\t\\t<string>I</string>\\n\\t\\t<string>J</string>\\n\\t\\t<string>K</string>\\n\\t\\t<string>L</string>\\n\\t\\t<string>M</string>\\n\\t\\t<string>N</string>\\n\\t\\t<string>O</string>\\n\\t\\t<string>P</string>\\n\\t\\t<string>Q</string>\\n\\t\\t<string>R</string>\\n\\t\\t<string>S</string>\\n\\t\\t<string>T</string>\\n\\t\\t<string>U</string>\\n\\t\\t<string>V</string>\\n\\t\\t<string>W</string>\\n\\t\\t<string>X</string>\\n\\t\\t<string>Y</string>\\n\\t\\t<string>Z</string>\\n\\t\\t<string>bracketleft</string>\\n\\t\\t<string>backslash</string>\\n\\t\\t<string>bracketright</string>\\n\\t\\t<string>asciicircum</string>\\n\\t\\t<string>underscore</string>\\n\\t\\t<string>grave</string>\\n\\t\\t<string>a</string>\\n\\t\\t<string>b</string>\\n\\t\\t<string>c</string>\\n\\t\\t<string>d</string>\\n\\t\\t<string>e</string>\\n\\t\\t<string>f</string>\\n\\t\\t<string>g</string>\\n\\t\\t<string>h</string>\\n\\t\\t<string>i</string>\\n\\t\\t<string>j</string>\\n\\t\\t<string>k</string>\\n\\t\\t<string>l</string>\\n\\t\\t<string>m</string>\\n\\t\\t<string>n</string>\\n\\t\\t<string>o</string>\\n\\t\\t<string>p</string>\\n\\t\\t<string>q</string>\\n\\t\\t<string>r</string>\\n\\t\\t<string>s</string>\\n\\t\\t<string>t</string>\\n\\t\\t<string>u</string>\\n\\t\\t<string>v</string>\\n\\t\\t<string>w</string>\\n\\t\\t<string>x</string>\\n\\t\\t<string>y</string>\\n\\t\\t<string>z</string>\\n\\t\\t<string>braceleft</string>\\n\\t\\t<string>bar</string>\\n\\t\\t<string>braceright</string>\\n\\t\\t<string>asciitilde</string>\\n\\t\\t<string>exclamdown</string>\\n\\t\\t<string>brokenbar</string>\\n\\t\\t<string>section</string>\\n\\t\\t<string>dieresis</string>\\n\\t\\t<string>copyright</string>\\n\\t\\t<string>logicalnot</string>\\n\\t\\t<string>registered</string>\\n\\t\\t<string>macron</string>\\n\\t\\t<string>degree</string>\\n\\t\\t<string>plusminus</string>\\n\\t\\t<string>acute</string>\\n\\t\\t<string>paragraph</string>\\n\\t\\t<string>periodcentered</string>\\n\\t\\t<string>cedilla</string>\\n\\t\\t<string>questiondown</string>\\n\\t\\t<string>Agrave</string>\\n\\t\\t<string>Aacute</string>\\n\\t\\t<string>Acircumflex</string>\\n\\t\\t<string>Atilde</string>\\n\\t\\t<string>Adieresis</string>\\n\\t\\t<string>Aring</string>\\n\\t\\t<string>AE</string>\\n\\t\\t<string>Ccedilla</string>\\n\\t\\t<string>Egrave</string>\\n\\t\\t<string>Eacute</string>\\n\\t\\t<string>Ecircumflex</string>\\n\\t\\t<string>Edieresis</string>\\n\\t\\t<string>Igrave</string>\\n\\t\\t<string>Iacute</string>\\n\\t\\t<string>Icircumflex</string>\\n\\t\\t<string>Idieresis</string>\\n\\t\\t<string>Eth</string>\\n\\t\\t<string>Ntilde</string>\\n\\t\\t<string>Ograve</string>\\n\\t\\t<string>Oacute</string>\\n\\t\\t<string>Ocircumflex</string>\\n\\t\\t<string>Otilde</string>\\n\\t\\t<string>Odieresis</string>\\n\\t\\t<string>multiply</string>\\n\\t\\t<string>Oslash</string>\\n\\t\\t<string>Ugrave</string>\\n\\t\\t<string>Uacute</string>\\n\\t\\t<string>Ucircumflex</string>\\n\\t\\t<string>Udieresis</string>\\n\\t\\t<string>Yacute</string>\\n\\t\\t<string>Thorn</string>\\n\\t\\t<string>germandbls</string>\\n\\t\\t<string>agrave</string>\\n\\t\\t<string>aacute</string>\\n\\t\\t<string>acircumflex</string>\\n\\t\\t<string>atilde</string>\\n\\t\\t<string>adieresis</string>\\n\\t\\t<string>aring</string>\\n\\t\\t<string>ae</string>\\n\\t\\t<string>ccedilla</string>\\n\\t\\t<string>egrave</string>\\n\\t\\t<string>eacute</string>\\n\\t\\t<string>ecircumflex</string>\\n\\t\\t<string>edieresis</string>\\n\\t\\t<string>igrave</string>\\n\\t\\t<string>iacute</string>\\n\\t\\t<string>icircumflex</string>\\n\\t\\t<string>idieresis</string>\\n\\t\\t<string>eth</string>\\n\\t\\t<string>ntilde</string>\\n\\t\\t<string>ograve</string>\\n\\t\\t<string>oacute</string>\\n\\t\\t<string>ocircumflex</string>\\n\\t\\t<string>otilde</string>\\n\\t\\t<string>odieresis</string>\\n\\t\\t<string>divide</string>\\n\\t\\t<string>oslash</string>\\n\\t\\t<string>ugrave</string>\\n\\t\\t<string>uacute</string>\\n\\t\\t<string>ucircumflex</string>\\n\\t\\t<string>udieresis</string>\\n\\t\\t<string>yacute</string>\\n\\t\\t<string>thorn</string>\\n\\t\\t<string>ydieresis</string>\\n\\t\\t<string>circumflex</string>\\n\\t\\t<string>caron</string>\\n\\t\\t<string>breve</string>\\n\\t\\t<string>dotaccent</string>\\n\\t\\t<string>ring</string>\\n\\t\\t<string>ogonek</string>\\n\\t\\t<string>tilde</string>\\n\\t\\t<string>hungarumlaut</string>\\n\\t\\t<string>minus</string>\\n\\t\\t<string>OE</string>\\n\\t\\t<string>Germandbls</string>\\n\\t\\t<string>Wacute</string>\\n\\t\\t<string>Wcircumflex</string>\\n\\t\\t<string>Wdieresis</string>\\n\\t\\t<string>Wgrave</string>\\n\\t\\t<string>Ycircumflex</string>\\n\\t\\t<string>Ydieresis</string>\\n\\t\\t<string>Ygrave</string>\\n\\t\\t<string>oe</string>\\n\\t\\t<string>wacute</string>\\n\\t\\t<string>wcircumflex</string>\\n\\t\\t<string>wdieresis</string>\\n\\t\\t<string>wgrave</string>\\n\\t\\t<string>ycircumflex</string>\\n\\t\\t<string>ygrave</string>\\n\\t\\t<string>f_f_i</string>\\n\\t\\t<string>fi</string>\\n\\t\\t<string>f_j.liga</string>\\n\\t\\t<string>g_j.liga</string>\\n\\t\\t<string>j_j.liga</string>\\n\\t\\t<string>s_s.liga</string>\\n\\t\\t<string>y_j.liga</string>\\n\\t\\t<string>A-cy</string>\\n\\t\\t<string>Be-cy</string>\\n\\t\\t<string>Ve-cy</string>\\n\\t\\t<string>Ge-cy</string>\\n\\t\\t<string>De-cy</string>\\n\\t\\t<string>Ie-cy</string>\\n\\t\\t<string>Io-cy</string>\\n\\t\\t<string>Zhe-cy</string>\\n\\t\\t<string>Ze-cy</string>\\n\\t\\t<string>Ii-cy</string>\\n\\t\\t<string>Iishort-cy</string>\\n\\t\\t<string>Ka-cy</string>\\n\\t\\t<string>El-cy</string>\\n\\t\\t<string>Em-cy</string>\\n\\t\\t<string>En-cy</string>\\n\\t\\t<string>O-cy</string>\\n\\t\\t<string>Pe-cy</string>\\n\\t\\t<string>Er-cy</string>\\n\\t\\t<string>Es-cy</string>\\n\\t\\t<string>Te-cy</string>\\n\\t\\t<string>U-cy</string>\\n\\t\\t<string>Ef-cy</string>\\n\\t\\t<string>Ha-cy</string>\\n\\t\\t<string>Che-cy</string>\\n\\t\\t<string>Tse-cy</string>\\n\\t\\t<string>Sha-cy</string>\\n\\t\\t<string>Shcha-cy</string>\\n\\t\\t<string>Softsign-cy</string>\\n\\t\\t<string>Hardsign-cy</string>\\n\\t\\t<string>Yeru-cy</string>\\n\\t\\t<string>Ereversed-cy</string>\\n\\t\\t<string>Iu-cy</string>\\n\\t\\t<string>Ia-cy</string>\\n\\t\\t<string>De-cy.001</string>\\n\\t\\t<string>Ii-cy.001</string>\\n\\t\\t<string>El-cy.001</string>\\n\\t\\t<string>U-cy.001</string>\\n\\t\\t<string>a-cy</string>\\n\\t\\t<string>be-cy</string>\\n\\t\\t<string>ve-cy</string>\\n\\t\\t<string>ge-cy</string>\\n\\t\\t<string>de-cy</string>\\n\\t\\t<string>ie-cy</string>\\n\\t\\t<string>io-cy</string>\\n\\t\\t<string>zhe-cy</string>\\n\\t\\t<string>ze-cy</string>\\n\\t\\t<string>ii-cy</string>\\n\\t\\t<string>iishort-cy</string>\\n\\t\\t<string>ka-cy</string>\\n\\t\\t<string>el-cy</string>\\n\\t\\t<string>em-cy</string>\\n\\t\\t<string>en-cy</string>\\n\\t\\t<string>o-cy</string>\\n\\t\\t<string>pe-cy</string>\\n\\t\\t<string>er-cy</string>\\n\\t\\t<string>es-cy</string>\\n\\t\\t<string>te-cy</string>\\n\\t\\t<string>u-cy</string>\\n\\t\\t<string>ef-cy</string>\\n\\t\\t<string>ha-cy</string>\\n\\t\\t<string>che-cy</string>\\n\\t\\t<string>tse-cy</string>\\n\\t\\t<string>sha-cy</string>\\n\\t\\t<string>shcha-cy</string>\\n\\t\\t<string>softsign-cy</string>\\n\\t\\t<string>hardsign-cy</string>\\n\\t\\t<string>yeru-cy</string>\\n\\t\\t<string>ereversed-cy</string>\\n\\t\\t<string>iu-cy</string>\\n\\t\\t<string>ia-cy</string>\\n\\t\\t<string>be-cy.001</string>\\n\\t\\t<string>ii-cy.001</string>\\n\\t\\t<string>be-cy.002</string>\\n\\t\\t<string>ii-cy.002</string>\\n\\t\\t<string>be-cy.003</string>\\n\\t\\t<string>fraction</string>\\n\\t\\t<string>ellipsis</string>\\n\\t\\t<string>bullet</string>\\n\\t\\t<string>endash</string>\\n\\t\\t<string>emdash</string>\\n\\t\\t<string>notequal</string>\\n\\t\\t<string>greaterequal</string>\\n\\t\\t<string>lessequal</string>\\n\\t\\t<string>approxequal</string>\\n\\t\\t<string>emptyset</string>\\n\\t\\t<string>infinity</string>\\n\\t\\t<string>integral</string>\\n\\t\\t<string>product</string>\\n\\t\\t<string>summation</string>\\n\\t\\t<string>radical</string>\\n\\t\\t<string>partialdiff</string>\\n\\t\\t<string>perthousand</string>\\n\\t\\t<string>upArrow</string>\\n\\t\\t<string>rightArrow</string>\\n\\t\\t<string>downArrow</string>\\n\\t\\t<string>leftArrow</string>\\n\\t\\t<string>lozenge</string>\\n\\t\\t<string>trademark</string>\\n\\t\\t<string>dagger</string>\\n\\t\\t<string>daggerdbl</string>\\n\\t\\t<string>dieresiscomb</string>\\n\\t\\t<string>dotaccentcomb</string>\\n\\t\\t<string>gravecomb</string>\\n\\t\\t<string>acutecomb</string>\\n\\t\\t<string>circumflexcomb</string>\\n\\t\\t<string>ringcomb</string>\\n\\t\\t<string>tildecomb</string>\\n\\t\\t<string>cedillacomb</string>\\n\\t\\t<string>brevecomb-cy</string>\\n\\t\\t<string>bubble</string>\\n\\t\\t<string>pixel</string>\\n\\t</array>\\n\\t<key>public.postscriptNames</key>\\n\\t<dict>\\n\\t\\t<key>downArrow</key>\\n\\t\\t<string>arrowdown</string>\\n\\t\\t<key>leftArrow</key>\\n\\t\\t<string>arrowleft</string>\\n\\t\\t<key>rightArrow</key>\\n\\t\\t<string>arrowright</string>\\n\\t\\t<key>upArrow</key>\\n\\t\\t<string>arrowup</string>\\n\\t</dict>\\n</dict>\\n</plist>\\n'"
            ]
          },
          "metadata": {
            "tags": []
          },
          "execution_count": 190
        }
      ]
    },
    {
      "cell_type": "markdown",
      "metadata": {
        "id": "ON6urKJWIll3",
        "colab_type": "text"
      },
      "source": [
        "Add root element to "
      ]
    },
    {
      "cell_type": "code",
      "metadata": {
        "id": "AAtWi2p6Ijs1",
        "colab_type": "code",
        "colab": {
          "base_uri": "https://localhost:8080/",
          "height": 34
        },
        "outputId": "9f3bade3-d361-4dc6-e621-13c85e78edbf"
      },
      "source": [
        "ufo3_1_xml_form = ET.fromstring(ufo3_1_xml)\n",
        "ufo3_1_xml_form"
      ],
      "execution_count": 191,
      "outputs": [
        {
          "output_type": "execute_result",
          "data": {
            "text/plain": [
              "<Element 'plist' at 0x7fa7af715c78>"
            ]
          },
          "metadata": {
            "tags": []
          },
          "execution_count": 191
        }
      ]
    },
    {
      "cell_type": "markdown",
      "metadata": {
        "id": "WaWK3zUE-YvT",
        "colab_type": "text"
      },
      "source": [
        "The second option: download the file direct from github"
      ]
    },
    {
      "cell_type": "code",
      "metadata": {
        "id": "ybaxYNK563PG",
        "colab_type": "code",
        "colab": {
          "base_uri": "https://localhost:8080/",
          "height": 34
        },
        "outputId": "e7348ab7-c3df-4bfd-f336-4a325454683c"
      },
      "source": [
        "!git clone https://github.com/kuzminadya/FHP-infovis-py.git\n"
      ],
      "execution_count": 192,
      "outputs": [
        {
          "output_type": "stream",
          "text": [
            "fatal: destination path 'FHP-infovis-py' already exists and is not an empty directory.\n"
          ],
          "name": "stdout"
        }
      ]
    },
    {
      "cell_type": "markdown",
      "metadata": {
        "id": "0zNDgDhzGYzt",
        "colab_type": "text"
      },
      "source": [
        "Read the file (with help of https://stackoverflow.com/questions/50843764/attributeerror-io-textiowrapper-object-has-no-attribute-split-error)"
      ]
    },
    {
      "cell_type": "code",
      "metadata": {
        "id": "UVg5z21xGhtd",
        "colab_type": "code",
        "colab": {
          "base_uri": "https://localhost:8080/",
          "height": 188
        },
        "outputId": "45e07037-4fd0-42a3-addc-190d1f5c4239"
      },
      "source": [
        "response_ver3 = open(\"FHP-infovis-py/ufo/2020.04.11mogeefont-v3.1.ufo/lib.plist\",\"r\")\n",
        "ufo3_1_xml = response_ver3.read()\n",
        "# print (ufo3_1_xml.split(\",\"))\n",
        "ufo3_1_xml"
      ],
      "execution_count": 193,
      "outputs": [
        {
          "output_type": "execute_result",
          "data": {
            "application/vnd.google.colaboratory.intrinsic": {
              "type": "string"
            },
            "text/plain": [
              "'<?xml version=\"1.0\" encoding=\"UTF-8\"?>\\n<!DOCTYPE plist PUBLIC \"-//Apple Computer//DTD PLIST 1.0//EN\" \"http://www.apple.com/DTDs/PropertyList-1.0.dtd\">\\n<plist version=\"1.0\">\\n<dict>\\n\\t<key>com.schriftgestaltung.disablesAutomaticAlignment</key>\\n\\t<true/>\\n\\t<key>com.schriftgestaltung.font.customParameters</key>\\n\\t<array>\\n\\t\\t<dict>\\n\\t\\t\\t<key>name</key>\\n\\t\\t\\t<string>glyphOrder</string>\\n\\t\\t\\t<key>value</key>\\n\\t\\t\\t<array>\\n\\t\\t\\t\\t<string>space</string>\\n\\t\\t\\t\\t<string>exclam</string>\\n\\t\\t\\t\\t<string>quotesingle</string>\\n\\t\\t\\t\\t<string>quotedbl</string>\\n\\t\\t\\t\\t<string>numbersign</string>\\n\\t\\t\\t\\t<string>dollar</string>\\n\\t\\t\\t\\t<string>percent</string>\\n\\t\\t\\t\\t<string>ampersand</string>\\n\\t\\t\\t\\t<string>parenleft</string>\\n\\t\\t\\t\\t<string>parenright</string>\\n\\t\\t\\t\\t<string>asterisk</string>\\n\\t\\t\\t\\t<string>plus</string>\\n\\t\\t\\t\\t<string>comma</string>\\n\\t\\t\\t\\t<string>hyphen</string>\\n\\t\\t\\t\\t<string>period</string>\\n\\t\\t\\t\\t<string>slash</string>\\n\\t\\t\\t\\t<string>zero</string>\\n\\t\\t\\t\\t<string>one</string>\\n\\t\\t\\t\\t<string>two</string>\\n\\t\\t\\t\\t<string>three</string>\\n\\t\\t\\t\\t<string>four</string>\\n\\t\\t\\t\\t<string>five</string>\\n\\t\\t\\t\\t<string>six</string>\\n\\t\\t\\t\\t<string>seven</string>\\n\\t\\t\\t\\t<string>eight</string>\\n\\t\\t\\t\\t<string>nine</string>\\n\\t\\t\\t\\t<string>colon</string>\\n\\t\\t\\t\\t<string>semicolon</string>\\n\\t\\t\\t\\t<string>less</string>\\n\\t\\t\\t\\t<string>equal</string>\\n\\t\\t\\t\\t<string>greater</string>\\n\\t\\t\\t\\t<string>question</string>\\n\\t\\t\\t\\t<string>at</string>\\n\\t\\t\\t\\t<string>A</string>\\n\\t\\t\\t\\t<string>B</string>\\n\\t\\t\\t\\t<string>C</string>\\n\\t\\t\\t\\t<string>D</string>\\n\\t\\t\\t\\t<string>E</string>\\n\\t\\t\\t\\t<string>F</string>\\n\\t\\t\\t\\t<string>G</string>\\n\\t\\t\\t\\t<string>H</string>\\n\\t\\t\\t\\t<string>I</string>\\n\\t\\t\\t\\t<string>J</string>\\n\\t\\t\\t\\t<string>K</string>\\n\\t\\t\\t\\t<string>L</string>\\n\\t\\t\\t\\t<string>M</string>\\n\\t\\t\\t\\t<string>N</string>\\n\\t\\t\\t\\t<string>O</string>\\n\\t\\t\\t\\t<string>P</string>\\n\\t\\t\\t\\t<string>Q</string>\\n\\t\\t\\t\\t<string>R</string>\\n\\t\\t\\t\\t<string>S</string>\\n\\t\\t\\t\\t<string>T</string>\\n\\t\\t\\t\\t<string>U</string>\\n\\t\\t\\t\\t<string>V</string>\\n\\t\\t\\t\\t<string>W</string>\\n\\t\\t\\t\\t<string>X</string>\\n\\t\\t\\t\\t<string>Y</string>\\n\\t\\t\\t\\t<string>Z</string>\\n\\t\\t\\t\\t<string>bracketleft</string>\\n\\t\\t\\t\\t<string>backslash</string>\\n\\t\\t\\t\\t<string>bracketright</string>\\n\\t\\t\\t\\t<string>asciicircum</string>\\n\\t\\t\\t\\t<string>underscore</string>\\n\\t\\t\\t\\t<string>grave</string>\\n\\t\\t\\t\\t<string>a</string>\\n\\t\\t\\t\\t<string>b</string>\\n\\t\\t\\t\\t<string>c</string>\\n\\t\\t\\t\\t<string>d</string>\\n\\t\\t\\t\\t<string>e</string>\\n\\t\\t\\t\\t<string>f</string>\\n\\t\\t\\t\\t<string>g</string>\\n\\t\\t\\t\\t<string>h</string>\\n\\t\\t\\t\\t<string>i</string>\\n\\t\\t\\t\\t<string>j</string>\\n\\t\\t\\t\\t<string>k</string>\\n\\t\\t\\t\\t<string>l</string>\\n\\t\\t\\t\\t<string>m</string>\\n\\t\\t\\t\\t<string>n</string>\\n\\t\\t\\t\\t<string>o</string>\\n\\t\\t\\t\\t<string>p</string>\\n\\t\\t\\t\\t<string>q</string>\\n\\t\\t\\t\\t<string>r</string>\\n\\t\\t\\t\\t<string>s</string>\\n\\t\\t\\t\\t<string>t</string>\\n\\t\\t\\t\\t<string>u</string>\\n\\t\\t\\t\\t<string>v</string>\\n\\t\\t\\t\\t<string>w</string>\\n\\t\\t\\t\\t<string>x</string>\\n\\t\\t\\t\\t<string>y</string>\\n\\t\\t\\t\\t<string>z</string>\\n\\t\\t\\t\\t<string>braceleft</string>\\n\\t\\t\\t\\t<string>bar</string>\\n\\t\\t\\t\\t<string>braceright</string>\\n\\t\\t\\t\\t<string>asciitilde</string>\\n\\t\\t\\t\\t<string>exclamdown</string>\\n\\t\\t\\t\\t<string>cent</string>\\n\\t\\t\\t\\t<string>sterling</string>\\n\\t\\t\\t\\t<string>currency</string>\\n\\t\\t\\t\\t<string>yen</string>\\n\\t\\t\\t\\t<string>brokenbar</string>\\n\\t\\t\\t\\t<string>section</string>\\n\\t\\t\\t\\t<string>dieresis</string>\\n\\t\\t\\t\\t<string>copyright</string>\\n\\t\\t\\t\\t<string>ordfeminine</string>\\n\\t\\t\\t\\t<string>guillemotleft</string>\\n\\t\\t\\t\\t<string>logicalnot</string>\\n\\t\\t\\t\\t<string>registered</string>\\n\\t\\t\\t\\t<string>macron</string>\\n\\t\\t\\t\\t<string>degree</string>\\n\\t\\t\\t\\t<string>plusminus</string>\\n\\t\\t\\t\\t<string>twosuperior</string>\\n\\t\\t\\t\\t<string>threesuperior</string>\\n\\t\\t\\t\\t<string>acute</string>\\n\\t\\t\\t\\t<string>mu</string>\\n\\t\\t\\t\\t<string>paragraph</string>\\n\\t\\t\\t\\t<string>periodcentered</string>\\n\\t\\t\\t\\t<string>cedilla</string>\\n\\t\\t\\t\\t<string>onesuperior</string>\\n\\t\\t\\t\\t<string>ordmasculine</string>\\n\\t\\t\\t\\t<string>guillemotright</string>\\n\\t\\t\\t\\t<string>onequarter</string>\\n\\t\\t\\t\\t<string>onehalf</string>\\n\\t\\t\\t\\t<string>threequarters</string>\\n\\t\\t\\t\\t<string>questiondown</string>\\n\\t\\t\\t\\t<string>Agrave</string>\\n\\t\\t\\t\\t<string>Aacute</string>\\n\\t\\t\\t\\t<string>Acircumflex</string>\\n\\t\\t\\t\\t<string>Atilde</string>\\n\\t\\t\\t\\t<string>Adieresis</string>\\n\\t\\t\\t\\t<string>Aring</string>\\n\\t\\t\\t\\t<string>AE</string>\\n\\t\\t\\t\\t<string>Ccedilla</string>\\n\\t\\t\\t\\t<string>Egrave</string>\\n\\t\\t\\t\\t<string>Eacute</string>\\n\\t\\t\\t\\t<string>Ecircumflex</string>\\n\\t\\t\\t\\t<string>Edieresis</string>\\n\\t\\t\\t\\t<string>Igrave</string>\\n\\t\\t\\t\\t<string>Iacute</string>\\n\\t\\t\\t\\t<string>Icircumflex</string>\\n\\t\\t\\t\\t<string>Idieresis</string>\\n\\t\\t\\t\\t<string>Eth</string>\\n\\t\\t\\t\\t<string>Ntilde</string>\\n\\t\\t\\t\\t<string>Ograve</string>\\n\\t\\t\\t\\t<string>Oacute</string>\\n\\t\\t\\t\\t<string>Ocircumflex</string>\\n\\t\\t\\t\\t<string>Otilde</string>\\n\\t\\t\\t\\t<string>Odieresis</string>\\n\\t\\t\\t\\t<string>multiply</string>\\n\\t\\t\\t\\t<string>Oslash</string>\\n\\t\\t\\t\\t<string>Ugrave</string>\\n\\t\\t\\t\\t<string>Uacute</string>\\n\\t\\t\\t\\t<string>Ucircumflex</string>\\n\\t\\t\\t\\t<string>Udieresis</string>\\n\\t\\t\\t\\t<string>Yacute</string>\\n\\t\\t\\t\\t<string>Thorn</string>\\n\\t\\t\\t\\t<string>germandbls</string>\\n\\t\\t\\t\\t<string>agrave</string>\\n\\t\\t\\t\\t<string>aacute</string>\\n\\t\\t\\t\\t<string>acircumflex</string>\\n\\t\\t\\t\\t<string>atilde</string>\\n\\t\\t\\t\\t<string>adieresis</string>\\n\\t\\t\\t\\t<string>aring</string>\\n\\t\\t\\t\\t<string>ae</string>\\n\\t\\t\\t\\t<string>ccedilla</string>\\n\\t\\t\\t\\t<string>egrave</string>\\n\\t\\t\\t\\t<string>eacute</string>\\n\\t\\t\\t\\t<string>ecircumflex</string>\\n\\t\\t\\t\\t<string>edieresis</string>\\n\\t\\t\\t\\t<string>igrave</string>\\n\\t\\t\\t\\t<string>iacute</string>\\n\\t\\t\\t\\t<string>icircumflex</string>\\n\\t\\t\\t\\t<string>idieresis</string>\\n\\t\\t\\t\\t<string>eth</string>\\n\\t\\t\\t\\t<string>ntilde</string>\\n\\t\\t\\t\\t<string>ograve</string>\\n\\t\\t\\t\\t<string>oacute</string>\\n\\t\\t\\t\\t<string>ocircumflex</string>\\n\\t\\t\\t\\t<string>otilde</string>\\n\\t\\t\\t\\t<string>odieresis</string>\\n\\t\\t\\t\\t<string>divide</string>\\n\\t\\t\\t\\t<string>oslash</string>\\n\\t\\t\\t\\t<string>ugrave</string>\\n\\t\\t\\t\\t<string>uacute</string>\\n\\t\\t\\t\\t<string>ucircumflex</string>\\n\\t\\t\\t\\t<string>udieresis</string>\\n\\t\\t\\t\\t<string>yacute</string>\\n\\t\\t\\t\\t<string>thorn</string>\\n\\t\\t\\t\\t<string>ydieresis</string>\\n\\t\\t\\t\\t<string>dotlessi</string>\\n\\t\\t\\t\\t<string>circumflex</string>\\n\\t\\t\\t\\t<string>caron</string>\\n\\t\\t\\t\\t<string>breve</string>\\n\\t\\t\\t\\t<string>dotaccent</string>\\n\\t\\t\\t\\t<string>ring</string>\\n\\t\\t\\t\\t<string>ogonek</string>\\n\\t\\t\\t\\t<string>tilde</string>\\n\\t\\t\\t\\t<string>hungarumlaut</string>\\n\\t\\t\\t\\t<string>quoteleft</string>\\n\\t\\t\\t\\t<string>quoteright</string>\\n\\t\\t\\t\\t<string>minus</string>\\n\\t\\t\\t\\t<string>p.10</string>\\n\\t\\t\\t\\t<string>p.9</string>\\n\\t\\t\\t\\t<string>p.3</string>\\n\\t\\t\\t\\t<string>p.8</string>\\n\\t\\t\\t\\t<string>p.2</string>\\n\\t\\t\\t\\t<string>p.4</string>\\n\\t\\t\\t\\t<string>p.7</string>\\n\\t\\t\\t\\t<string>p.6</string>\\n\\t\\t\\t\\t<string>p.1</string>\\n\\t\\t\\t\\t<string>p.5</string>\\n\\t\\t\\t\\t<string>p.3.copy_1</string>\\n\\t\\t\\t\\t<string>p.8.copy_2.copy_1</string>\\n\\t\\t\\t\\t<string>p.8.copy_1.copy_2</string>\\n\\t\\t\\t\\t<string>p.8.copy_1.copy_3</string>\\n\\t\\t\\t\\t<string>p.8.copy_1.copy_1</string>\\n\\t\\t\\t\\t<string>p.8.copy_1</string>\\n\\t\\t\\t\\t<string>p.8.copy_2</string>\\n\\t\\t\\t\\t<string>p.9.copy_1</string>\\n\\t\\t\\t\\t<string>p.2.copy_2</string>\\n\\t\\t\\t\\t<string>p.2.copy_3</string>\\n\\t\\t\\t\\t<string>p.2.copy_1</string>\\n\\t\\t\\t\\t<string>p_.8</string>\\n\\t\\t\\t\\t<string>p.8.copy_1.copy_3.copy_1</string>\\n\\t\\t\\t\\t<string>four.tl</string>\\n\\t\\t\\t\\t<string>two.tl</string>\\n\\t\\t\\t\\t<string>eight.tl</string>\\n\\t\\t\\t\\t<string>seven.tl</string>\\n\\t\\t\\t\\t<string>six.tl</string>\\n\\t\\t\\t\\t<string>five.tl</string>\\n\\t\\t\\t\\t<string>three.tl</string>\\n\\t\\t\\t\\t<string>nine.tl</string>\\n\\t\\t\\t\\t<string>one.tl</string>\\n\\t\\t\\t\\t<string>zero.tl</string>\\n\\t\\t\\t</array>\\n\\t\\t</dict>\\n\\t\\t<dict>\\n\\t\\t\\t<key>name</key>\\n\\t\\t\\t<string>Use Typo Metrics</string>\\n\\t\\t\\t<key>value</key>\\n\\t\\t\\t<true/>\\n\\t\\t</dict>\\n\\t</array>\\n\\t<key>com.schriftgestaltung.fontMasterID</key>\\n\\t<string>master01</string>\\n\\t<key>com.schriftgestaltung.glyphOrder</key>\\n\\t<array>\\n\\t\\t<string>space</string>\\n\\t\\t<string>exclam</string>\\n\\t\\t<string>quotesingle</string>\\n\\t\\t<string>quotedbl</string>\\n\\t\\t<string>numbersign</string>\\n\\t\\t<string>dollar</string>\\n\\t\\t<string>percent</string>\\n\\t\\t<string>ampersand</string>\\n\\t\\t<string>parenleft</string>\\n\\t\\t<string>parenright</string>\\n\\t\\t<string>asterisk</string>\\n\\t\\t<string>plus</string>\\n\\t\\t<string>comma</string>\\n\\t\\t<string>hyphen</string>\\n\\t\\t<string>period</string>\\n\\t\\t<string>slash</string>\\n\\t\\t<string>zero</string>\\n\\t\\t<string>one</string>\\n\\t\\t<string>two</string>\\n\\t\\t<string>three</string>\\n\\t\\t<string>four</string>\\n\\t\\t<string>five</string>\\n\\t\\t<string>six</string>\\n\\t\\t<string>seven</string>\\n\\t\\t<string>eight</string>\\n\\t\\t<string>nine</string>\\n\\t\\t<string>colon</string>\\n\\t\\t<string>semicolon</string>\\n\\t\\t<string>less</string>\\n\\t\\t<string>equal</string>\\n\\t\\t<string>greater</string>\\n\\t\\t<string>question</string>\\n\\t\\t<string>at</string>\\n\\t\\t<string>A</string>\\n\\t\\t<string>B</string>\\n\\t\\t<string>C</string>\\n\\t\\t<string>D</string>\\n\\t\\t<string>E</string>\\n\\t\\t<string>F</string>\\n\\t\\t<string>G</string>\\n\\t\\t<string>H</string>\\n\\t\\t<string>I</string>\\n\\t\\t<string>J</string>\\n\\t\\t<string>K</string>\\n\\t\\t<string>L</string>\\n\\t\\t<string>M</string>\\n\\t\\t<string>N</string>\\n\\t\\t<string>O</string>\\n\\t\\t<string>P</string>\\n\\t\\t<string>Q</string>\\n\\t\\t<string>R</string>\\n\\t\\t<string>S</string>\\n\\t\\t<string>T</string>\\n\\t\\t<string>U</string>\\n\\t\\t<string>V</string>\\n\\t\\t<string>W</string>\\n\\t\\t<string>X</string>\\n\\t\\t<string>Y</string>\\n\\t\\t<string>Z</string>\\n\\t\\t<string>bracketleft</string>\\n\\t\\t<string>backslash</string>\\n\\t\\t<string>bracketright</string>\\n\\t\\t<string>asciicircum</string>\\n\\t\\t<string>underscore</string>\\n\\t\\t<string>grave</string>\\n\\t\\t<string>a</string>\\n\\t\\t<string>b</string>\\n\\t\\t<string>c</string>\\n\\t\\t<string>d</string>\\n\\t\\t<string>e</string>\\n\\t\\t<string>f</string>\\n\\t\\t<string>g</string>\\n\\t\\t<string>h</string>\\n\\t\\t<string>i</string>\\n\\t\\t<string>j</string>\\n\\t\\t<string>k</string>\\n\\t\\t<string>l</string>\\n\\t\\t<string>m</string>\\n\\t\\t<string>n</string>\\n\\t\\t<string>o</string>\\n\\t\\t<string>p</string>\\n\\t\\t<string>q</string>\\n\\t\\t<string>r</string>\\n\\t\\t<string>s</string>\\n\\t\\t<string>t</string>\\n\\t\\t<string>u</string>\\n\\t\\t<string>v</string>\\n\\t\\t<string>w</string>\\n\\t\\t<string>x</string>\\n\\t\\t<string>y</string>\\n\\t\\t<string>z</string>\\n\\t\\t<string>braceleft</string>\\n\\t\\t<string>bar</string>\\n\\t\\t<string>braceright</string>\\n\\t\\t<string>asciitilde</string>\\n\\t\\t<string>exclamdown</string>\\n\\t\\t<string>cent</string>\\n\\t\\t<string>sterling</string>\\n\\t\\t<string>currency</string>\\n\\t\\t<string>yen</string>\\n\\t\\t<string>brokenbar</string>\\n\\t\\t<string>section</string>\\n\\t\\t<string>dieresis</string>\\n\\t\\t<string>copyright</string>\\n\\t\\t<string>ordfeminine</string>\\n\\t\\t<string>guillemotleft</string>\\n\\t\\t<string>logicalnot</string>\\n\\t\\t<string>registered</string>\\n\\t\\t<string>macron</string>\\n\\t\\t<string>degree</string>\\n\\t\\t<string>plusminus</string>\\n\\t\\t<string>twosuperior</string>\\n\\t\\t<string>threesuperior</string>\\n\\t\\t<string>acute</string>\\n\\t\\t<string>mu</string>\\n\\t\\t<string>paragraph</string>\\n\\t\\t<string>periodcentered</string>\\n\\t\\t<string>cedilla</string>\\n\\t\\t<string>onesuperior</string>\\n\\t\\t<string>ordmasculine</string>\\n\\t\\t<string>guillemotright</string>\\n\\t\\t<string>onequarter</string>\\n\\t\\t<string>onehalf</string>\\n\\t\\t<string>threequarters</string>\\n\\t\\t<string>questiondown</string>\\n\\t\\t<string>Agrave</string>\\n\\t\\t<string>Aacute</string>\\n\\t\\t<string>Acircumflex</string>\\n\\t\\t<string>Atilde</string>\\n\\t\\t<string>Adieresis</string>\\n\\t\\t<string>Aring</string>\\n\\t\\t<string>AE</string>\\n\\t\\t<string>Ccedilla</string>\\n\\t\\t<string>Egrave</string>\\n\\t\\t<string>Eacute</string>\\n\\t\\t<string>Ecircumflex</string>\\n\\t\\t<string>Edieresis</string>\\n\\t\\t<string>Igrave</string>\\n\\t\\t<string>Iacute</string>\\n\\t\\t<string>Icircumflex</string>\\n\\t\\t<string>Idieresis</string>\\n\\t\\t<string>Eth</string>\\n\\t\\t<string>Ntilde</string>\\n\\t\\t<string>Ograve</string>\\n\\t\\t<string>Oacute</string>\\n\\t\\t<string>Ocircumflex</string>\\n\\t\\t<string>Otilde</string>\\n\\t\\t<string>Odieresis</string>\\n\\t\\t<string>multiply</string>\\n\\t\\t<string>Oslash</string>\\n\\t\\t<string>Ugrave</string>\\n\\t\\t<string>Uacute</string>\\n\\t\\t<string>Ucircumflex</string>\\n\\t\\t<string>Udieresis</string>\\n\\t\\t<string>Yacute</string>\\n\\t\\t<string>Thorn</string>\\n\\t\\t<string>germandbls</string>\\n\\t\\t<string>agrave</string>\\n\\t\\t<string>aacute</string>\\n\\t\\t<string>acircumflex</string>\\n\\t\\t<string>atilde</string>\\n\\t\\t<string>adieresis</string>\\n\\t\\t<string>aring</string>\\n\\t\\t<string>ae</string>\\n\\t\\t<string>ccedilla</string>\\n\\t\\t<string>egrave</string>\\n\\t\\t<string>eacute</string>\\n\\t\\t<string>ecircumflex</string>\\n\\t\\t<string>edieresis</string>\\n\\t\\t<string>igrave</string>\\n\\t\\t<string>iacute</string>\\n\\t\\t<string>icircumflex</string>\\n\\t\\t<string>idieresis</string>\\n\\t\\t<string>eth</string>\\n\\t\\t<string>ntilde</string>\\n\\t\\t<string>ograve</string>\\n\\t\\t<string>oacute</string>\\n\\t\\t<string>ocircumflex</string>\\n\\t\\t<string>otilde</string>\\n\\t\\t<string>odieresis</string>\\n\\t\\t<string>divide</string>\\n\\t\\t<string>oslash</string>\\n\\t\\t<string>ugrave</string>\\n\\t\\t<string>uacute</string>\\n\\t\\t<string>ucircumflex</string>\\n\\t\\t<string>udieresis</string>\\n\\t\\t<string>yacute</string>\\n\\t\\t<string>thorn</string>\\n\\t\\t<string>ydieresis</string>\\n\\t\\t<string>dotlessi</string>\\n\\t\\t<string>circumflex</string>\\n\\t\\t<string>caron</string>\\n\\t\\t<string>breve</string>\\n\\t\\t<string>dotaccent</string>\\n\\t\\t<string>ring</string>\\n\\t\\t<string>ogonek</string>\\n\\t\\t<string>tilde</string>\\n\\t\\t<string>hungarumlaut</string>\\n\\t\\t<string>quoteleft</string>\\n\\t\\t<string>quoteright</string>\\n\\t\\t<string>minus</string>\\n\\t\\t<string>p.10</string>\\n\\t\\t<string>p.9</string>\\n\\t\\t<string>p.3</string>\\n\\t\\t<string>p.8</string>\\n\\t\\t<string>p.2</string>\\n\\t\\t<string>p.4</string>\\n\\t\\t<string>p.7</string>\\n\\t\\t<string>p.6</string>\\n\\t\\t<string>p.1</string>\\n\\t\\t<string>p.5</string>\\n\\t\\t<string>p.3.copy_1</string>\\n\\t\\t<string>p.8.copy_2.copy_1</string>\\n\\t\\t<string>p.8.copy_1.copy_2</string>\\n\\t\\t<string>p.8.copy_1.copy_3</string>\\n\\t\\t<string>p.8.copy_1.copy_1</string>\\n\\t\\t<string>p.8.copy_1</string>\\n\\t\\t<string>p.8.copy_2</string>\\n\\t\\t<string>p.9.copy_1</string>\\n\\t\\t<string>p.2.copy_2</string>\\n\\t\\t<string>p.2.copy_3</string>\\n\\t\\t<string>p.2.copy_1</string>\\n\\t\\t<string>p_.8</string>\\n\\t\\t<string>p.8.copy_1.copy_3.copy_1</string>\\n\\t\\t<string>four.tl</string>\\n\\t\\t<string>two.tl</string>\\n\\t\\t<string>eight.tl</string>\\n\\t\\t<string>seven.tl</string>\\n\\t\\t<string>six.tl</string>\\n\\t\\t<string>five.tl</string>\\n\\t\\t<string>three.tl</string>\\n\\t\\t<string>nine.tl</string>\\n\\t\\t<string>one.tl</string>\\n\\t\\t<string>zero.tl</string>\\n\\t</array>\\n\\t<key>com.schriftgestaltung.gridSize</key>\\n\\t<integer>80</integer>\\n\\t<key>com.schriftgestaltung.useNiceNames</key>\\n\\t<false/>\\n\\t<key>com.schriftgestaltung.weightValue</key>\\n\\t<integer>400</integer>\\n\\t<key>com.typemytype.robofont.background.layerStrokeColor</key>\\n\\t<array>\\n\\t\\t<integer>0</integer>\\n\\t\\t<real>0.8</real>\\n\\t\\t<real>0.2</real>\\n\\t\\t<real>0.7</real>\\n\\t</array>\\n\\t<key>com.typemytype.robofont.compileSettings.autohint</key>\\n\\t<integer>1</integer>\\n\\t<key>com.typemytype.robofont.compileSettings.checkOutlines</key>\\n\\t<integer>0</integer>\\n\\t<key>com.typemytype.robofont.compileSettings.decompose</key>\\n\\t<integer>0</integer>\\n\\t<key>com.typemytype.robofont.compileSettings.generateFormat</key>\\n\\t<integer>0</integer>\\n\\t<key>com.typemytype.robofont.compileSettings.releaseMode</key>\\n\\t<integer>0</integer>\\n\\t<key>com.typemytype.robofont.foreground.layerStrokeColor</key>\\n\\t<array>\\n\\t\\t<real>0.5</real>\\n\\t\\t<integer>0</integer>\\n\\t\\t<real>0.5</real>\\n\\t\\t<real>0.7</real>\\n\\t</array>\\n\\t<key>com.typemytype.robofont.italicSlantOffset</key>\\n\\t<integer>0</integer>\\n\\t<key>com.typemytype.robofont.layerOrder</key>\\n\\t<array>\\n\\t\\t<string>background</string>\\n\\t</array>\\n\\t<key>com.typemytype.robofont.segmentType</key>\\n\\t<string>curve</string>\\n\\t<key>com.typemytype.robofont.shouldAddPointsInSplineConversion</key>\\n\\t<integer>0</integer>\\n\\t<key>com.typemytype.robofont.sort</key>\\n\\t<array>\\n\\t\\t<dict>\\n\\t\\t\\t<key>ascending</key>\\n\\t\\t\\t<array>\\n\\t\\t\\t\\t<string>space</string>\\n\\t\\t\\t\\t<string>exclam</string>\\n\\t\\t\\t\\t<string>quotesingle</string>\\n\\t\\t\\t\\t<string>quotedbl</string>\\n\\t\\t\\t\\t<string>numbersign</string>\\n\\t\\t\\t\\t<string>dollar</string>\\n\\t\\t\\t\\t<string>percent</string>\\n\\t\\t\\t\\t<string>ampersand</string>\\n\\t\\t\\t\\t<string>parenleft</string>\\n\\t\\t\\t\\t<string>parenright</string>\\n\\t\\t\\t\\t<string>asterisk</string>\\n\\t\\t\\t\\t<string>plus</string>\\n\\t\\t\\t\\t<string>comma</string>\\n\\t\\t\\t\\t<string>hyphen</string>\\n\\t\\t\\t\\t<string>period</string>\\n\\t\\t\\t\\t<string>slash</string>\\n\\t\\t\\t\\t<string>zero</string>\\n\\t\\t\\t\\t<string>one</string>\\n\\t\\t\\t\\t<string>two</string>\\n\\t\\t\\t\\t<string>three</string>\\n\\t\\t\\t\\t<string>four</string>\\n\\t\\t\\t\\t<string>five</string>\\n\\t\\t\\t\\t<string>six</string>\\n\\t\\t\\t\\t<string>seven</string>\\n\\t\\t\\t\\t<string>eight</string>\\n\\t\\t\\t\\t<string>nine</string>\\n\\t\\t\\t\\t<string>colon</string>\\n\\t\\t\\t\\t<string>semicolon</string>\\n\\t\\t\\t\\t<string>less</string>\\n\\t\\t\\t\\t<string>equal</string>\\n\\t\\t\\t\\t<string>greater</string>\\n\\t\\t\\t\\t<string>question</string>\\n\\t\\t\\t\\t<string>at</string>\\n\\t\\t\\t\\t<string>A</string>\\n\\t\\t\\t\\t<string>B</string>\\n\\t\\t\\t\\t<string>C</string>\\n\\t\\t\\t\\t<string>D</string>\\n\\t\\t\\t\\t<string>E</string>\\n\\t\\t\\t\\t<string>F</string>\\n\\t\\t\\t\\t<string>G</string>\\n\\t\\t\\t\\t<string>H</string>\\n\\t\\t\\t\\t<string>I</string>\\n\\t\\t\\t\\t<string>J</string>\\n\\t\\t\\t\\t<string>K</string>\\n\\t\\t\\t\\t<string>L</string>\\n\\t\\t\\t\\t<string>M</string>\\n\\t\\t\\t\\t<string>N</string>\\n\\t\\t\\t\\t<string>O</string>\\n\\t\\t\\t\\t<string>P</string>\\n\\t\\t\\t\\t<string>Q</string>\\n\\t\\t\\t\\t<string>R</string>\\n\\t\\t\\t\\t<string>S</string>\\n\\t\\t\\t\\t<string>T</string>\\n\\t\\t\\t\\t<string>U</string>\\n\\t\\t\\t\\t<string>V</string>\\n\\t\\t\\t\\t<string>W</string>\\n\\t\\t\\t\\t<string>X</string>\\n\\t\\t\\t\\t<string>Y</string>\\n\\t\\t\\t\\t<string>Z</string>\\n\\t\\t\\t\\t<string>bracketleft</string>\\n\\t\\t\\t\\t<string>backslash</string>\\n\\t\\t\\t\\t<string>bracketright</string>\\n\\t\\t\\t\\t<string>asciicircum</string>\\n\\t\\t\\t\\t<string>underscore</string>\\n\\t\\t\\t\\t<string>grave</string>\\n\\t\\t\\t\\t<string>a</string>\\n\\t\\t\\t\\t<string>b</string>\\n\\t\\t\\t\\t<string>c</string>\\n\\t\\t\\t\\t<string>d</string>\\n\\t\\t\\t\\t<string>e</string>\\n\\t\\t\\t\\t<string>f</string>\\n\\t\\t\\t\\t<string>g</string>\\n\\t\\t\\t\\t<string>h</string>\\n\\t\\t\\t\\t<string>i</string>\\n\\t\\t\\t\\t<string>j</string>\\n\\t\\t\\t\\t<string>k</string>\\n\\t\\t\\t\\t<string>l</string>\\n\\t\\t\\t\\t<string>m</string>\\n\\t\\t\\t\\t<string>n</string>\\n\\t\\t\\t\\t<string>o</string>\\n\\t\\t\\t\\t<string>p</string>\\n\\t\\t\\t\\t<string>q</string>\\n\\t\\t\\t\\t<string>r</string>\\n\\t\\t\\t\\t<string>s</string>\\n\\t\\t\\t\\t<string>t</string>\\n\\t\\t\\t\\t<string>u</string>\\n\\t\\t\\t\\t<string>v</string>\\n\\t\\t\\t\\t<string>w</string>\\n\\t\\t\\t\\t<string>x</string>\\n\\t\\t\\t\\t<string>y</string>\\n\\t\\t\\t\\t<string>z</string>\\n\\t\\t\\t\\t<string>braceleft</string>\\n\\t\\t\\t\\t<string>bar</string>\\n\\t\\t\\t\\t<string>braceright</string>\\n\\t\\t\\t\\t<string>asciitilde</string>\\n\\t\\t\\t\\t<string>exclamdown</string>\\n\\t\\t\\t\\t<string>cent</string>\\n\\t\\t\\t\\t<string>sterling</string>\\n\\t\\t\\t\\t<string>currency</string>\\n\\t\\t\\t\\t<string>yen</string>\\n\\t\\t\\t\\t<string>brokenbar</string>\\n\\t\\t\\t\\t<string>section</string>\\n\\t\\t\\t\\t<string>dieresis</string>\\n\\t\\t\\t\\t<string>copyright</string>\\n\\t\\t\\t\\t<string>ordfeminine</string>\\n\\t\\t\\t\\t<string>guillemotleft</string>\\n\\t\\t\\t\\t<string>logicalnot</string>\\n\\t\\t\\t\\t<string>registered</string>\\n\\t\\t\\t\\t<string>macron</string>\\n\\t\\t\\t\\t<string>degree</string>\\n\\t\\t\\t\\t<string>plusminus</string>\\n\\t\\t\\t\\t<string>twosuperior</string>\\n\\t\\t\\t\\t<string>threesuperior</string>\\n\\t\\t\\t\\t<string>acute</string>\\n\\t\\t\\t\\t<string>mu</string>\\n\\t\\t\\t\\t<string>paragraph</string>\\n\\t\\t\\t\\t<string>periodcentered</string>\\n\\t\\t\\t\\t<string>cedilla</string>\\n\\t\\t\\t\\t<string>onesuperior</string>\\n\\t\\t\\t\\t<string>ordmasculine</string>\\n\\t\\t\\t\\t<string>guillemotright</string>\\n\\t\\t\\t\\t<string>onequarter</string>\\n\\t\\t\\t\\t<string>onehalf</string>\\n\\t\\t\\t\\t<string>threequarters</string>\\n\\t\\t\\t\\t<string>questiondown</string>\\n\\t\\t\\t\\t<string>Agrave</string>\\n\\t\\t\\t\\t<string>Aacute</string>\\n\\t\\t\\t\\t<string>Acircumflex</string>\\n\\t\\t\\t\\t<string>Atilde</string>\\n\\t\\t\\t\\t<string>Adieresis</string>\\n\\t\\t\\t\\t<string>Aring</string>\\n\\t\\t\\t\\t<string>AE</string>\\n\\t\\t\\t\\t<string>Ccedilla</string>\\n\\t\\t\\t\\t<string>Egrave</string>\\n\\t\\t\\t\\t<string>Eacute</string>\\n\\t\\t\\t\\t<string>Ecircumflex</string>\\n\\t\\t\\t\\t<string>Edieresis</string>\\n\\t\\t\\t\\t<string>Igrave</string>\\n\\t\\t\\t\\t<string>Iacute</string>\\n\\t\\t\\t\\t<string>Icircumflex</string>\\n\\t\\t\\t\\t<string>Idieresis</string>\\n\\t\\t\\t\\t<string>Eth</string>\\n\\t\\t\\t\\t<string>Ntilde</string>\\n\\t\\t\\t\\t<string>Ograve</string>\\n\\t\\t\\t\\t<string>Oacute</string>\\n\\t\\t\\t\\t<string>Ocircumflex</string>\\n\\t\\t\\t\\t<string>Otilde</string>\\n\\t\\t\\t\\t<string>Odieresis</string>\\n\\t\\t\\t\\t<string>multiply</string>\\n\\t\\t\\t\\t<string>Oslash</string>\\n\\t\\t\\t\\t<string>Ugrave</string>\\n\\t\\t\\t\\t<string>Uacute</string>\\n\\t\\t\\t\\t<string>Ucircumflex</string>\\n\\t\\t\\t\\t<string>Udieresis</string>\\n\\t\\t\\t\\t<string>Yacute</string>\\n\\t\\t\\t\\t<string>Thorn</string>\\n\\t\\t\\t\\t<string>germandbls</string>\\n\\t\\t\\t\\t<string>agrave</string>\\n\\t\\t\\t\\t<string>aacute</string>\\n\\t\\t\\t\\t<string>acircumflex</string>\\n\\t\\t\\t\\t<string>atilde</string>\\n\\t\\t\\t\\t<string>adieresis</string>\\n\\t\\t\\t\\t<string>aring</string>\\n\\t\\t\\t\\t<string>ae</string>\\n\\t\\t\\t\\t<string>ccedilla</string>\\n\\t\\t\\t\\t<string>egrave</string>\\n\\t\\t\\t\\t<string>eacute</string>\\n\\t\\t\\t\\t<string>ecircumflex</string>\\n\\t\\t\\t\\t<string>edieresis</string>\\n\\t\\t\\t\\t<string>igrave</string>\\n\\t\\t\\t\\t<string>iacute</string>\\n\\t\\t\\t\\t<string>icircumflex</string>\\n\\t\\t\\t\\t<string>idieresis</string>\\n\\t\\t\\t\\t<string>eth</string>\\n\\t\\t\\t\\t<string>ntilde</string>\\n\\t\\t\\t\\t<string>ograve</string>\\n\\t\\t\\t\\t<string>oacute</string>\\n\\t\\t\\t\\t<string>ocircumflex</string>\\n\\t\\t\\t\\t<string>otilde</string>\\n\\t\\t\\t\\t<string>odieresis</string>\\n\\t\\t\\t\\t<string>divide</string>\\n\\t\\t\\t\\t<string>oslash</string>\\n\\t\\t\\t\\t<string>ugrave</string>\\n\\t\\t\\t\\t<string>uacute</string>\\n\\t\\t\\t\\t<string>ucircumflex</string>\\n\\t\\t\\t\\t<string>udieresis</string>\\n\\t\\t\\t\\t<string>yacute</string>\\n\\t\\t\\t\\t<string>thorn</string>\\n\\t\\t\\t\\t<string>ydieresis</string>\\n\\t\\t\\t\\t<string>dotlessi</string>\\n\\t\\t\\t\\t<string>circumflex</string>\\n\\t\\t\\t\\t<string>caron</string>\\n\\t\\t\\t\\t<string>breve</string>\\n\\t\\t\\t\\t<string>dotaccent</string>\\n\\t\\t\\t\\t<string>ring</string>\\n\\t\\t\\t\\t<string>ogonek</string>\\n\\t\\t\\t\\t<string>tilde</string>\\n\\t\\t\\t\\t<string>hungarumlaut</string>\\n\\t\\t\\t\\t<string>quoteleft</string>\\n\\t\\t\\t\\t<string>quoteright</string>\\n\\t\\t\\t\\t<string>minus</string>\\n\\t\\t\\t\\t<string>p.10</string>\\n\\t\\t\\t\\t<string>p.9</string>\\n\\t\\t\\t\\t<string>p.3</string>\\n\\t\\t\\t\\t<string>p.8</string>\\n\\t\\t\\t\\t<string>p.2</string>\\n\\t\\t\\t\\t<string>p.4</string>\\n\\t\\t\\t\\t<string>p.7</string>\\n\\t\\t\\t\\t<string>p.6</string>\\n\\t\\t\\t\\t<string>p.1</string>\\n\\t\\t\\t\\t<string>p.5</string>\\n\\t\\t\\t\\t<string>p.3.copy_1</string>\\n\\t\\t\\t\\t<string>p.8.copy_2.copy_1</string>\\n\\t\\t\\t\\t<string>p.8.copy_1.copy_2</string>\\n\\t\\t\\t\\t<string>p.8.copy_1.copy_3</string>\\n\\t\\t\\t\\t<string>p.8.copy_1.copy_1</string>\\n\\t\\t\\t\\t<string>p.8.copy_1</string>\\n\\t\\t\\t\\t<string>p.8.copy_2</string>\\n\\t\\t\\t\\t<string>p.9.copy_1</string>\\n\\t\\t\\t\\t<string>p.2.copy_2</string>\\n\\t\\t\\t\\t<string>p.2.copy_3</string>\\n\\t\\t\\t\\t<string>p.2.copy_1</string>\\n\\t\\t\\t\\t<string>p_.8</string>\\n\\t\\t\\t\\t<string>p.8.copy_1.copy_3.copy_1</string>\\n\\t\\t\\t\\t<string>four.tl</string>\\n\\t\\t\\t\\t<string>two.tl</string>\\n\\t\\t\\t\\t<string>eight.tl</string>\\n\\t\\t\\t\\t<string>seven.tl</string>\\n\\t\\t\\t\\t<string>six.tl</string>\\n\\t\\t\\t\\t<string>five.tl</string>\\n\\t\\t\\t\\t<string>three.tl</string>\\n\\t\\t\\t\\t<string>nine.tl</string>\\n\\t\\t\\t\\t<string>one.tl</string>\\n\\t\\t\\t\\t<string>zero.tl</string>\\n\\t\\t\\t</array>\\n\\t\\t\\t<key>type</key>\\n\\t\\t\\t<string>glyphList</string>\\n\\t\\t</dict>\\n\\t</array>\\n\\t<key>public.glyphOrder</key>\\n\\t<array>\\n\\t\\t<string>space</string>\\n\\t\\t<string>exclam</string>\\n\\t\\t<string>quotesingle</string>\\n\\t\\t<string>quotedbl</string>\\n\\t\\t<string>numbersign</string>\\n\\t\\t<string>dollar</string>\\n\\t\\t<string>percent</string>\\n\\t\\t<string>ampersand</string>\\n\\t\\t<string>parenleft</string>\\n\\t\\t<string>parenright</string>\\n\\t\\t<string>asterisk</string>\\n\\t\\t<string>plus</string>\\n\\t\\t<string>comma</string>\\n\\t\\t<string>hyphen</string>\\n\\t\\t<string>period</string>\\n\\t\\t<string>slash</string>\\n\\t\\t<string>zero</string>\\n\\t\\t<string>one</string>\\n\\t\\t<string>two</string>\\n\\t\\t<string>three</string>\\n\\t\\t<string>four</string>\\n\\t\\t<string>five</string>\\n\\t\\t<string>six</string>\\n\\t\\t<string>seven</string>\\n\\t\\t<string>eight</string>\\n\\t\\t<string>nine</string>\\n\\t\\t<string>colon</string>\\n\\t\\t<string>semicolon</string>\\n\\t\\t<string>less</string>\\n\\t\\t<string>equal</string>\\n\\t\\t<string>greater</string>\\n\\t\\t<string>question</string>\\n\\t\\t<string>at</string>\\n\\t\\t<string>A</string>\\n\\t\\t<string>B</string>\\n\\t\\t<string>C</string>\\n\\t\\t<string>D</string>\\n\\t\\t<string>E</string>\\n\\t\\t<string>F</string>\\n\\t\\t<string>G</string>\\n\\t\\t<string>H</string>\\n\\t\\t<string>I</string>\\n\\t\\t<string>J</string>\\n\\t\\t<string>K</string>\\n\\t\\t<string>L</string>\\n\\t\\t<string>M</string>\\n\\t\\t<string>N</string>\\n\\t\\t<string>O</string>\\n\\t\\t<string>P</string>\\n\\t\\t<string>Q</string>\\n\\t\\t<string>R</string>\\n\\t\\t<string>S</string>\\n\\t\\t<string>T</string>\\n\\t\\t<string>U</string>\\n\\t\\t<string>V</string>\\n\\t\\t<string>W</string>\\n\\t\\t<string>X</string>\\n\\t\\t<string>Y</string>\\n\\t\\t<string>Z</string>\\n\\t\\t<string>bracketleft</string>\\n\\t\\t<string>backslash</string>\\n\\t\\t<string>bracketright</string>\\n\\t\\t<string>asciicircum</string>\\n\\t\\t<string>underscore</string>\\n\\t\\t<string>grave</string>\\n\\t\\t<string>a</string>\\n\\t\\t<string>b</string>\\n\\t\\t<string>c</string>\\n\\t\\t<string>d</string>\\n\\t\\t<string>e</string>\\n\\t\\t<string>f</string>\\n\\t\\t<string>g</string>\\n\\t\\t<string>h</string>\\n\\t\\t<string>i</string>\\n\\t\\t<string>j</string>\\n\\t\\t<string>k</string>\\n\\t\\t<string>l</string>\\n\\t\\t<string>m</string>\\n\\t\\t<string>n</string>\\n\\t\\t<string>o</string>\\n\\t\\t<string>p</string>\\n\\t\\t<string>q</string>\\n\\t\\t<string>r</string>\\n\\t\\t<string>s</string>\\n\\t\\t<string>t</string>\\n\\t\\t<string>u</string>\\n\\t\\t<string>v</string>\\n\\t\\t<string>w</string>\\n\\t\\t<string>x</string>\\n\\t\\t<string>y</string>\\n\\t\\t<string>z</string>\\n\\t\\t<string>braceleft</string>\\n\\t\\t<string>bar</string>\\n\\t\\t<string>braceright</string>\\n\\t\\t<string>asciitilde</string>\\n\\t\\t<string>exclamdown</string>\\n\\t\\t<string>brokenbar</string>\\n\\t\\t<string>section</string>\\n\\t\\t<string>dieresis</string>\\n\\t\\t<string>copyright</string>\\n\\t\\t<string>logicalnot</string>\\n\\t\\t<string>registered</string>\\n\\t\\t<string>macron</string>\\n\\t\\t<string>degree</string>\\n\\t\\t<string>plusminus</string>\\n\\t\\t<string>acute</string>\\n\\t\\t<string>paragraph</string>\\n\\t\\t<string>periodcentered</string>\\n\\t\\t<string>cedilla</string>\\n\\t\\t<string>questiondown</string>\\n\\t\\t<string>Agrave</string>\\n\\t\\t<string>Aacute</string>\\n\\t\\t<string>Acircumflex</string>\\n\\t\\t<string>Atilde</string>\\n\\t\\t<string>Adieresis</string>\\n\\t\\t<string>Aring</string>\\n\\t\\t<string>AE</string>\\n\\t\\t<string>Ccedilla</string>\\n\\t\\t<string>Egrave</string>\\n\\t\\t<string>Eacute</string>\\n\\t\\t<string>Ecircumflex</string>\\n\\t\\t<string>Edieresis</string>\\n\\t\\t<string>Igrave</string>\\n\\t\\t<string>Iacute</string>\\n\\t\\t<string>Icircumflex</string>\\n\\t\\t<string>Idieresis</string>\\n\\t\\t<string>Eth</string>\\n\\t\\t<string>Ntilde</string>\\n\\t\\t<string>Ograve</string>\\n\\t\\t<string>Oacute</string>\\n\\t\\t<string>Ocircumflex</string>\\n\\t\\t<string>Otilde</string>\\n\\t\\t<string>Odieresis</string>\\n\\t\\t<string>multiply</string>\\n\\t\\t<string>Oslash</string>\\n\\t\\t<string>Ugrave</string>\\n\\t\\t<string>Uacute</string>\\n\\t\\t<string>Ucircumflex</string>\\n\\t\\t<string>Udieresis</string>\\n\\t\\t<string>Yacute</string>\\n\\t\\t<string>Thorn</string>\\n\\t\\t<string>germandbls</string>\\n\\t\\t<string>agrave</string>\\n\\t\\t<string>aacute</string>\\n\\t\\t<string>acircumflex</string>\\n\\t\\t<string>atilde</string>\\n\\t\\t<string>adieresis</string>\\n\\t\\t<string>aring</string>\\n\\t\\t<string>ae</string>\\n\\t\\t<string>ccedilla</string>\\n\\t\\t<string>egrave</string>\\n\\t\\t<string>eacute</string>\\n\\t\\t<string>ecircumflex</string>\\n\\t\\t<string>edieresis</string>\\n\\t\\t<string>igrave</string>\\n\\t\\t<string>iacute</string>\\n\\t\\t<string>icircumflex</string>\\n\\t\\t<string>idieresis</string>\\n\\t\\t<string>eth</string>\\n\\t\\t<string>ntilde</string>\\n\\t\\t<string>ograve</string>\\n\\t\\t<string>oacute</string>\\n\\t\\t<string>ocircumflex</string>\\n\\t\\t<string>otilde</string>\\n\\t\\t<string>odieresis</string>\\n\\t\\t<string>divide</string>\\n\\t\\t<string>oslash</string>\\n\\t\\t<string>ugrave</string>\\n\\t\\t<string>uacute</string>\\n\\t\\t<string>ucircumflex</string>\\n\\t\\t<string>udieresis</string>\\n\\t\\t<string>yacute</string>\\n\\t\\t<string>thorn</string>\\n\\t\\t<string>ydieresis</string>\\n\\t\\t<string>circumflex</string>\\n\\t\\t<string>caron</string>\\n\\t\\t<string>breve</string>\\n\\t\\t<string>dotaccent</string>\\n\\t\\t<string>ring</string>\\n\\t\\t<string>ogonek</string>\\n\\t\\t<string>tilde</string>\\n\\t\\t<string>hungarumlaut</string>\\n\\t\\t<string>minus</string>\\n\\t\\t<string>OE</string>\\n\\t\\t<string>Germandbls</string>\\n\\t\\t<string>Wacute</string>\\n\\t\\t<string>Wcircumflex</string>\\n\\t\\t<string>Wdieresis</string>\\n\\t\\t<string>Wgrave</string>\\n\\t\\t<string>Ycircumflex</string>\\n\\t\\t<string>Ydieresis</string>\\n\\t\\t<string>Ygrave</string>\\n\\t\\t<string>oe</string>\\n\\t\\t<string>wacute</string>\\n\\t\\t<string>wcircumflex</string>\\n\\t\\t<string>wdieresis</string>\\n\\t\\t<string>wgrave</string>\\n\\t\\t<string>ycircumflex</string>\\n\\t\\t<string>ygrave</string>\\n\\t\\t<string>f_f_i</string>\\n\\t\\t<string>fi</string>\\n\\t\\t<string>f_j.liga</string>\\n\\t\\t<string>g_j.liga</string>\\n\\t\\t<string>j_j.liga</string>\\n\\t\\t<string>s_s.liga</string>\\n\\t\\t<string>y_j.liga</string>\\n\\t\\t<string>A-cy</string>\\n\\t\\t<string>Be-cy</string>\\n\\t\\t<string>Ve-cy</string>\\n\\t\\t<string>Ge-cy</string>\\n\\t\\t<string>De-cy</string>\\n\\t\\t<string>Ie-cy</string>\\n\\t\\t<string>Io-cy</string>\\n\\t\\t<string>Zhe-cy</string>\\n\\t\\t<string>Ze-cy</string>\\n\\t\\t<string>Ii-cy</string>\\n\\t\\t<string>Iishort-cy</string>\\n\\t\\t<string>Ka-cy</string>\\n\\t\\t<string>El-cy</string>\\n\\t\\t<string>Em-cy</string>\\n\\t\\t<string>En-cy</string>\\n\\t\\t<string>O-cy</string>\\n\\t\\t<string>Pe-cy</string>\\n\\t\\t<string>Er-cy</string>\\n\\t\\t<string>Es-cy</string>\\n\\t\\t<string>Te-cy</string>\\n\\t\\t<string>U-cy</string>\\n\\t\\t<string>Ef-cy</string>\\n\\t\\t<string>Ha-cy</string>\\n\\t\\t<string>Che-cy</string>\\n\\t\\t<string>Tse-cy</string>\\n\\t\\t<string>Sha-cy</string>\\n\\t\\t<string>Shcha-cy</string>\\n\\t\\t<string>Softsign-cy</string>\\n\\t\\t<string>Hardsign-cy</string>\\n\\t\\t<string>Yeru-cy</string>\\n\\t\\t<string>Ereversed-cy</string>\\n\\t\\t<string>Iu-cy</string>\\n\\t\\t<string>Ia-cy</string>\\n\\t\\t<string>De-cy.001</string>\\n\\t\\t<string>Ii-cy.001</string>\\n\\t\\t<string>El-cy.001</string>\\n\\t\\t<string>U-cy.001</string>\\n\\t\\t<string>a-cy</string>\\n\\t\\t<string>be-cy</string>\\n\\t\\t<string>ve-cy</string>\\n\\t\\t<string>ge-cy</string>\\n\\t\\t<string>de-cy</string>\\n\\t\\t<string>ie-cy</string>\\n\\t\\t<string>io-cy</string>\\n\\t\\t<string>zhe-cy</string>\\n\\t\\t<string>ze-cy</string>\\n\\t\\t<string>ii-cy</string>\\n\\t\\t<string>iishort-cy</string>\\n\\t\\t<string>ka-cy</string>\\n\\t\\t<string>el-cy</string>\\n\\t\\t<string>em-cy</string>\\n\\t\\t<string>en-cy</string>\\n\\t\\t<string>o-cy</string>\\n\\t\\t<string>pe-cy</string>\\n\\t\\t<string>er-cy</string>\\n\\t\\t<string>es-cy</string>\\n\\t\\t<string>te-cy</string>\\n\\t\\t<string>u-cy</string>\\n\\t\\t<string>ef-cy</string>\\n\\t\\t<string>ha-cy</string>\\n\\t\\t<string>che-cy</string>\\n\\t\\t<string>tse-cy</string>\\n\\t\\t<string>sha-cy</string>\\n\\t\\t<string>shcha-cy</string>\\n\\t\\t<string>softsign-cy</string>\\n\\t\\t<string>hardsign-cy</string>\\n\\t\\t<string>yeru-cy</string>\\n\\t\\t<string>ereversed-cy</string>\\n\\t\\t<string>iu-cy</string>\\n\\t\\t<string>ia-cy</string>\\n\\t\\t<string>be-cy.001</string>\\n\\t\\t<string>ii-cy.001</string>\\n\\t\\t<string>be-cy.002</string>\\n\\t\\t<string>ii-cy.002</string>\\n\\t\\t<string>be-cy.003</string>\\n\\t\\t<string>fraction</string>\\n\\t\\t<string>ellipsis</string>\\n\\t\\t<string>bullet</string>\\n\\t\\t<string>endash</string>\\n\\t\\t<string>emdash</string>\\n\\t\\t<string>notequal</string>\\n\\t\\t<string>greaterequal</string>\\n\\t\\t<string>lessequal</string>\\n\\t\\t<string>approxequal</string>\\n\\t\\t<string>emptyset</string>\\n\\t\\t<string>infinity</string>\\n\\t\\t<string>integral</string>\\n\\t\\t<string>product</string>\\n\\t\\t<string>summation</string>\\n\\t\\t<string>radical</string>\\n\\t\\t<string>partialdiff</string>\\n\\t\\t<string>perthousand</string>\\n\\t\\t<string>upArrow</string>\\n\\t\\t<string>rightArrow</string>\\n\\t\\t<string>downArrow</string>\\n\\t\\t<string>leftArrow</string>\\n\\t\\t<string>lozenge</string>\\n\\t\\t<string>trademark</string>\\n\\t\\t<string>dagger</string>\\n\\t\\t<string>daggerdbl</string>\\n\\t\\t<string>dieresiscomb</string>\\n\\t\\t<string>dotaccentcomb</string>\\n\\t\\t<string>gravecomb</string>\\n\\t\\t<string>acutecomb</string>\\n\\t\\t<string>circumflexcomb</string>\\n\\t\\t<string>ringcomb</string>\\n\\t\\t<string>tildecomb</string>\\n\\t\\t<string>cedillacomb</string>\\n\\t\\t<string>brevecomb-cy</string>\\n\\t\\t<string>bubble</string>\\n\\t\\t<string>pixel</string>\\n\\t</array>\\n\\t<key>public.postscriptNames</key>\\n\\t<dict>\\n\\t\\t<key>downArrow</key>\\n\\t\\t<string>arrowdown</string>\\n\\t\\t<key>leftArrow</key>\\n\\t\\t<string>arrowleft</string>\\n\\t\\t<key>rightArrow</key>\\n\\t\\t<string>arrowright</string>\\n\\t\\t<key>upArrow</key>\\n\\t\\t<string>arrowup</string>\\n\\t</dict>\\n</dict>\\n</plist>\\n'"
            ]
          },
          "metadata": {
            "tags": []
          },
          "execution_count": 193
        }
      ]
    },
    {
      "cell_type": "code",
      "metadata": {
        "id": "uA0xDP6RHdgg",
        "colab_type": "code",
        "colab": {
          "base_uri": "https://localhost:8080/",
          "height": 188
        },
        "outputId": "e3c887ad-1679-40a8-d875-b8f9afcc90d5"
      },
      "source": [
        "response_ver3_2 = open(\"FHP-infovis-py/ufo/2020.04.12mogeefont-v3.2.ufo/lib.plist\")\n",
        "ufo3_2_xml = response_ver3_2.read()\n",
        "# print (ufo3_1_xml.split(\",\"))\n",
        "ufo3_2_xml"
      ],
      "execution_count": 194,
      "outputs": [
        {
          "output_type": "execute_result",
          "data": {
            "application/vnd.google.colaboratory.intrinsic": {
              "type": "string"
            },
            "text/plain": [
              "'<?xml version=\"1.0\" encoding=\"UTF-8\"?>\\n<!DOCTYPE plist PUBLIC \"-//Apple Computer//DTD PLIST 1.0//EN\" \"http://www.apple.com/DTDs/PropertyList-1.0.dtd\">\\n<plist version=\"1.0\">\\n<dict>\\n\\t<key>com.schriftgestaltung.disablesAutomaticAlignment</key>\\n\\t<true/>\\n\\t<key>com.schriftgestaltung.font.customParameters</key>\\n\\t<array>\\n\\t\\t<dict>\\n\\t\\t\\t<key>name</key>\\n\\t\\t\\t<string>glyphOrder</string>\\n\\t\\t\\t<key>value</key>\\n\\t\\t\\t<array>\\n\\t\\t\\t\\t<string>space</string>\\n\\t\\t\\t\\t<string>exclam</string>\\n\\t\\t\\t\\t<string>quotesingle</string>\\n\\t\\t\\t\\t<string>quotedbl</string>\\n\\t\\t\\t\\t<string>numbersign</string>\\n\\t\\t\\t\\t<string>dollar</string>\\n\\t\\t\\t\\t<string>percent</string>\\n\\t\\t\\t\\t<string>ampersand</string>\\n\\t\\t\\t\\t<string>parenleft</string>\\n\\t\\t\\t\\t<string>parenright</string>\\n\\t\\t\\t\\t<string>asterisk</string>\\n\\t\\t\\t\\t<string>plus</string>\\n\\t\\t\\t\\t<string>comma</string>\\n\\t\\t\\t\\t<string>hyphen</string>\\n\\t\\t\\t\\t<string>period</string>\\n\\t\\t\\t\\t<string>slash</string>\\n\\t\\t\\t\\t<string>zero</string>\\n\\t\\t\\t\\t<string>one</string>\\n\\t\\t\\t\\t<string>two</string>\\n\\t\\t\\t\\t<string>three</string>\\n\\t\\t\\t\\t<string>four</string>\\n\\t\\t\\t\\t<string>five</string>\\n\\t\\t\\t\\t<string>six</string>\\n\\t\\t\\t\\t<string>seven</string>\\n\\t\\t\\t\\t<string>eight</string>\\n\\t\\t\\t\\t<string>nine</string>\\n\\t\\t\\t\\t<string>colon</string>\\n\\t\\t\\t\\t<string>semicolon</string>\\n\\t\\t\\t\\t<string>less</string>\\n\\t\\t\\t\\t<string>equal</string>\\n\\t\\t\\t\\t<string>greater</string>\\n\\t\\t\\t\\t<string>question</string>\\n\\t\\t\\t\\t<string>at</string>\\n\\t\\t\\t\\t<string>A</string>\\n\\t\\t\\t\\t<string>B</string>\\n\\t\\t\\t\\t<string>C</string>\\n\\t\\t\\t\\t<string>D</string>\\n\\t\\t\\t\\t<string>E</string>\\n\\t\\t\\t\\t<string>F</string>\\n\\t\\t\\t\\t<string>G</string>\\n\\t\\t\\t\\t<string>H</string>\\n\\t\\t\\t\\t<string>I</string>\\n\\t\\t\\t\\t<string>J</string>\\n\\t\\t\\t\\t<string>K</string>\\n\\t\\t\\t\\t<string>L</string>\\n\\t\\t\\t\\t<string>M</string>\\n\\t\\t\\t\\t<string>N</string>\\n\\t\\t\\t\\t<string>O</string>\\n\\t\\t\\t\\t<string>P</string>\\n\\t\\t\\t\\t<string>Q</string>\\n\\t\\t\\t\\t<string>R</string>\\n\\t\\t\\t\\t<string>S</string>\\n\\t\\t\\t\\t<string>T</string>\\n\\t\\t\\t\\t<string>U</string>\\n\\t\\t\\t\\t<string>V</string>\\n\\t\\t\\t\\t<string>W</string>\\n\\t\\t\\t\\t<string>X</string>\\n\\t\\t\\t\\t<string>Y</string>\\n\\t\\t\\t\\t<string>Z</string>\\n\\t\\t\\t\\t<string>bracketleft</string>\\n\\t\\t\\t\\t<string>backslash</string>\\n\\t\\t\\t\\t<string>bracketright</string>\\n\\t\\t\\t\\t<string>asciicircum</string>\\n\\t\\t\\t\\t<string>underscore</string>\\n\\t\\t\\t\\t<string>grave</string>\\n\\t\\t\\t\\t<string>a</string>\\n\\t\\t\\t\\t<string>b</string>\\n\\t\\t\\t\\t<string>c</string>\\n\\t\\t\\t\\t<string>d</string>\\n\\t\\t\\t\\t<string>e</string>\\n\\t\\t\\t\\t<string>f</string>\\n\\t\\t\\t\\t<string>g</string>\\n\\t\\t\\t\\t<string>h</string>\\n\\t\\t\\t\\t<string>i</string>\\n\\t\\t\\t\\t<string>j</string>\\n\\t\\t\\t\\t<string>k</string>\\n\\t\\t\\t\\t<string>l</string>\\n\\t\\t\\t\\t<string>m</string>\\n\\t\\t\\t\\t<string>n</string>\\n\\t\\t\\t\\t<string>o</string>\\n\\t\\t\\t\\t<string>p</string>\\n\\t\\t\\t\\t<string>q</string>\\n\\t\\t\\t\\t<string>r</string>\\n\\t\\t\\t\\t<string>s</string>\\n\\t\\t\\t\\t<string>t</string>\\n\\t\\t\\t\\t<string>u</string>\\n\\t\\t\\t\\t<string>v</string>\\n\\t\\t\\t\\t<string>w</string>\\n\\t\\t\\t\\t<string>x</string>\\n\\t\\t\\t\\t<string>y</string>\\n\\t\\t\\t\\t<string>z</string>\\n\\t\\t\\t\\t<string>braceleft</string>\\n\\t\\t\\t\\t<string>bar</string>\\n\\t\\t\\t\\t<string>braceright</string>\\n\\t\\t\\t\\t<string>asciitilde</string>\\n\\t\\t\\t\\t<string>exclamdown</string>\\n\\t\\t\\t\\t<string>cent</string>\\n\\t\\t\\t\\t<string>sterling</string>\\n\\t\\t\\t\\t<string>currency</string>\\n\\t\\t\\t\\t<string>yen</string>\\n\\t\\t\\t\\t<string>brokenbar</string>\\n\\t\\t\\t\\t<string>section</string>\\n\\t\\t\\t\\t<string>dieresis</string>\\n\\t\\t\\t\\t<string>copyright</string>\\n\\t\\t\\t\\t<string>ordfeminine</string>\\n\\t\\t\\t\\t<string>guillemotleft</string>\\n\\t\\t\\t\\t<string>logicalnot</string>\\n\\t\\t\\t\\t<string>registered</string>\\n\\t\\t\\t\\t<string>macron</string>\\n\\t\\t\\t\\t<string>degree</string>\\n\\t\\t\\t\\t<string>plusminus</string>\\n\\t\\t\\t\\t<string>twosuperior</string>\\n\\t\\t\\t\\t<string>threesuperior</string>\\n\\t\\t\\t\\t<string>acute</string>\\n\\t\\t\\t\\t<string>mu</string>\\n\\t\\t\\t\\t<string>paragraph</string>\\n\\t\\t\\t\\t<string>periodcentered</string>\\n\\t\\t\\t\\t<string>cedilla</string>\\n\\t\\t\\t\\t<string>onesuperior</string>\\n\\t\\t\\t\\t<string>ordmasculine</string>\\n\\t\\t\\t\\t<string>guillemotright</string>\\n\\t\\t\\t\\t<string>onequarter</string>\\n\\t\\t\\t\\t<string>onehalf</string>\\n\\t\\t\\t\\t<string>threequarters</string>\\n\\t\\t\\t\\t<string>questiondown</string>\\n\\t\\t\\t\\t<string>Agrave</string>\\n\\t\\t\\t\\t<string>Aacute</string>\\n\\t\\t\\t\\t<string>Acircumflex</string>\\n\\t\\t\\t\\t<string>Atilde</string>\\n\\t\\t\\t\\t<string>Adieresis</string>\\n\\t\\t\\t\\t<string>Aring</string>\\n\\t\\t\\t\\t<string>AE</string>\\n\\t\\t\\t\\t<string>Ccedilla</string>\\n\\t\\t\\t\\t<string>Egrave</string>\\n\\t\\t\\t\\t<string>Eacute</string>\\n\\t\\t\\t\\t<string>Ecircumflex</string>\\n\\t\\t\\t\\t<string>Edieresis</string>\\n\\t\\t\\t\\t<string>Igrave</string>\\n\\t\\t\\t\\t<string>Iacute</string>\\n\\t\\t\\t\\t<string>Icircumflex</string>\\n\\t\\t\\t\\t<string>Idieresis</string>\\n\\t\\t\\t\\t<string>Eth</string>\\n\\t\\t\\t\\t<string>Ntilde</string>\\n\\t\\t\\t\\t<string>Ograve</string>\\n\\t\\t\\t\\t<string>Oacute</string>\\n\\t\\t\\t\\t<string>Ocircumflex</string>\\n\\t\\t\\t\\t<string>Otilde</string>\\n\\t\\t\\t\\t<string>Odieresis</string>\\n\\t\\t\\t\\t<string>multiply</string>\\n\\t\\t\\t\\t<string>Oslash</string>\\n\\t\\t\\t\\t<string>Ugrave</string>\\n\\t\\t\\t\\t<string>Uacute</string>\\n\\t\\t\\t\\t<string>Ucircumflex</string>\\n\\t\\t\\t\\t<string>Udieresis</string>\\n\\t\\t\\t\\t<string>Yacute</string>\\n\\t\\t\\t\\t<string>Thorn</string>\\n\\t\\t\\t\\t<string>germandbls</string>\\n\\t\\t\\t\\t<string>agrave</string>\\n\\t\\t\\t\\t<string>aacute</string>\\n\\t\\t\\t\\t<string>acircumflex</string>\\n\\t\\t\\t\\t<string>atilde</string>\\n\\t\\t\\t\\t<string>adieresis</string>\\n\\t\\t\\t\\t<string>aring</string>\\n\\t\\t\\t\\t<string>ae</string>\\n\\t\\t\\t\\t<string>ccedilla</string>\\n\\t\\t\\t\\t<string>egrave</string>\\n\\t\\t\\t\\t<string>eacute</string>\\n\\t\\t\\t\\t<string>ecircumflex</string>\\n\\t\\t\\t\\t<string>edieresis</string>\\n\\t\\t\\t\\t<string>igrave</string>\\n\\t\\t\\t\\t<string>iacute</string>\\n\\t\\t\\t\\t<string>icircumflex</string>\\n\\t\\t\\t\\t<string>idieresis</string>\\n\\t\\t\\t\\t<string>eth</string>\\n\\t\\t\\t\\t<string>ntilde</string>\\n\\t\\t\\t\\t<string>ograve</string>\\n\\t\\t\\t\\t<string>oacute</string>\\n\\t\\t\\t\\t<string>ocircumflex</string>\\n\\t\\t\\t\\t<string>otilde</string>\\n\\t\\t\\t\\t<string>odieresis</string>\\n\\t\\t\\t\\t<string>divide</string>\\n\\t\\t\\t\\t<string>oslash</string>\\n\\t\\t\\t\\t<string>ugrave</string>\\n\\t\\t\\t\\t<string>uacute</string>\\n\\t\\t\\t\\t<string>ucircumflex</string>\\n\\t\\t\\t\\t<string>udieresis</string>\\n\\t\\t\\t\\t<string>yacute</string>\\n\\t\\t\\t\\t<string>thorn</string>\\n\\t\\t\\t\\t<string>ydieresis</string>\\n\\t\\t\\t\\t<string>dotlessi</string>\\n\\t\\t\\t\\t<string>circumflex</string>\\n\\t\\t\\t\\t<string>caron</string>\\n\\t\\t\\t\\t<string>breve</string>\\n\\t\\t\\t\\t<string>dotaccent</string>\\n\\t\\t\\t\\t<string>ring</string>\\n\\t\\t\\t\\t<string>ogonek</string>\\n\\t\\t\\t\\t<string>tilde</string>\\n\\t\\t\\t\\t<string>hungarumlaut</string>\\n\\t\\t\\t\\t<string>quoteleft</string>\\n\\t\\t\\t\\t<string>quoteright</string>\\n\\t\\t\\t\\t<string>minus</string>\\n\\t\\t\\t\\t<string>p.10</string>\\n\\t\\t\\t\\t<string>p.9</string>\\n\\t\\t\\t\\t<string>p.3</string>\\n\\t\\t\\t\\t<string>p.8</string>\\n\\t\\t\\t\\t<string>p.2</string>\\n\\t\\t\\t\\t<string>p.4</string>\\n\\t\\t\\t\\t<string>p.7</string>\\n\\t\\t\\t\\t<string>p.6</string>\\n\\t\\t\\t\\t<string>p.1</string>\\n\\t\\t\\t\\t<string>p.5</string>\\n\\t\\t\\t\\t<string>p.3.copy_1</string>\\n\\t\\t\\t\\t<string>p.8.copy_2.copy_1</string>\\n\\t\\t\\t\\t<string>p.8.copy_1.copy_2</string>\\n\\t\\t\\t\\t<string>p.8.copy_1.copy_3</string>\\n\\t\\t\\t\\t<string>p.8.copy_1.copy_1</string>\\n\\t\\t\\t\\t<string>p.8.copy_1</string>\\n\\t\\t\\t\\t<string>p.8.copy_2</string>\\n\\t\\t\\t\\t<string>p.9.copy_1</string>\\n\\t\\t\\t\\t<string>p.2.copy_2</string>\\n\\t\\t\\t\\t<string>p.2.copy_3</string>\\n\\t\\t\\t\\t<string>p.2.copy_1</string>\\n\\t\\t\\t\\t<string>p_.8</string>\\n\\t\\t\\t\\t<string>p.8.copy_1.copy_3.copy_1</string>\\n\\t\\t\\t\\t<string>four.tl</string>\\n\\t\\t\\t\\t<string>two.tl</string>\\n\\t\\t\\t\\t<string>eight.tl</string>\\n\\t\\t\\t\\t<string>seven.tl</string>\\n\\t\\t\\t\\t<string>six.tl</string>\\n\\t\\t\\t\\t<string>five.tl</string>\\n\\t\\t\\t\\t<string>three.tl</string>\\n\\t\\t\\t\\t<string>nine.tl</string>\\n\\t\\t\\t\\t<string>one.tl</string>\\n\\t\\t\\t\\t<string>zero.tl</string>\\n\\t\\t\\t</array>\\n\\t\\t</dict>\\n\\t\\t<dict>\\n\\t\\t\\t<key>name</key>\\n\\t\\t\\t<string>Use Typo Metrics</string>\\n\\t\\t\\t<key>value</key>\\n\\t\\t\\t<true/>\\n\\t\\t</dict>\\n\\t</array>\\n\\t<key>com.schriftgestaltung.fontMasterID</key>\\n\\t<string>master01</string>\\n\\t<key>com.schriftgestaltung.glyphOrder</key>\\n\\t<array>\\n\\t\\t<string>space</string>\\n\\t\\t<string>exclam</string>\\n\\t\\t<string>quotesingle</string>\\n\\t\\t<string>quotedbl</string>\\n\\t\\t<string>numbersign</string>\\n\\t\\t<string>dollar</string>\\n\\t\\t<string>percent</string>\\n\\t\\t<string>ampersand</string>\\n\\t\\t<string>parenleft</string>\\n\\t\\t<string>parenright</string>\\n\\t\\t<string>asterisk</string>\\n\\t\\t<string>plus</string>\\n\\t\\t<string>comma</string>\\n\\t\\t<string>hyphen</string>\\n\\t\\t<string>period</string>\\n\\t\\t<string>slash</string>\\n\\t\\t<string>zero</string>\\n\\t\\t<string>one</string>\\n\\t\\t<string>two</string>\\n\\t\\t<string>three</string>\\n\\t\\t<string>four</string>\\n\\t\\t<string>five</string>\\n\\t\\t<string>six</string>\\n\\t\\t<string>seven</string>\\n\\t\\t<string>eight</string>\\n\\t\\t<string>nine</string>\\n\\t\\t<string>colon</string>\\n\\t\\t<string>semicolon</string>\\n\\t\\t<string>less</string>\\n\\t\\t<string>equal</string>\\n\\t\\t<string>greater</string>\\n\\t\\t<string>question</string>\\n\\t\\t<string>at</string>\\n\\t\\t<string>A</string>\\n\\t\\t<string>B</string>\\n\\t\\t<string>C</string>\\n\\t\\t<string>D</string>\\n\\t\\t<string>E</string>\\n\\t\\t<string>F</string>\\n\\t\\t<string>G</string>\\n\\t\\t<string>H</string>\\n\\t\\t<string>I</string>\\n\\t\\t<string>J</string>\\n\\t\\t<string>K</string>\\n\\t\\t<string>L</string>\\n\\t\\t<string>M</string>\\n\\t\\t<string>N</string>\\n\\t\\t<string>O</string>\\n\\t\\t<string>P</string>\\n\\t\\t<string>Q</string>\\n\\t\\t<string>R</string>\\n\\t\\t<string>S</string>\\n\\t\\t<string>T</string>\\n\\t\\t<string>U</string>\\n\\t\\t<string>V</string>\\n\\t\\t<string>W</string>\\n\\t\\t<string>X</string>\\n\\t\\t<string>Y</string>\\n\\t\\t<string>Z</string>\\n\\t\\t<string>bracketleft</string>\\n\\t\\t<string>backslash</string>\\n\\t\\t<string>bracketright</string>\\n\\t\\t<string>asciicircum</string>\\n\\t\\t<string>underscore</string>\\n\\t\\t<string>grave</string>\\n\\t\\t<string>a</string>\\n\\t\\t<string>b</string>\\n\\t\\t<string>c</string>\\n\\t\\t<string>d</string>\\n\\t\\t<string>e</string>\\n\\t\\t<string>f</string>\\n\\t\\t<string>g</string>\\n\\t\\t<string>h</string>\\n\\t\\t<string>i</string>\\n\\t\\t<string>j</string>\\n\\t\\t<string>k</string>\\n\\t\\t<string>l</string>\\n\\t\\t<string>m</string>\\n\\t\\t<string>n</string>\\n\\t\\t<string>o</string>\\n\\t\\t<string>p</string>\\n\\t\\t<string>q</string>\\n\\t\\t<string>r</string>\\n\\t\\t<string>s</string>\\n\\t\\t<string>t</string>\\n\\t\\t<string>u</string>\\n\\t\\t<string>v</string>\\n\\t\\t<string>w</string>\\n\\t\\t<string>x</string>\\n\\t\\t<string>y</string>\\n\\t\\t<string>z</string>\\n\\t\\t<string>braceleft</string>\\n\\t\\t<string>bar</string>\\n\\t\\t<string>braceright</string>\\n\\t\\t<string>asciitilde</string>\\n\\t\\t<string>exclamdown</string>\\n\\t\\t<string>cent</string>\\n\\t\\t<string>sterling</string>\\n\\t\\t<string>currency</string>\\n\\t\\t<string>yen</string>\\n\\t\\t<string>brokenbar</string>\\n\\t\\t<string>section</string>\\n\\t\\t<string>dieresis</string>\\n\\t\\t<string>copyright</string>\\n\\t\\t<string>ordfeminine</string>\\n\\t\\t<string>guillemotleft</string>\\n\\t\\t<string>logicalnot</string>\\n\\t\\t<string>registered</string>\\n\\t\\t<string>macron</string>\\n\\t\\t<string>degree</string>\\n\\t\\t<string>plusminus</string>\\n\\t\\t<string>twosuperior</string>\\n\\t\\t<string>threesuperior</string>\\n\\t\\t<string>acute</string>\\n\\t\\t<string>mu</string>\\n\\t\\t<string>paragraph</string>\\n\\t\\t<string>periodcentered</string>\\n\\t\\t<string>cedilla</string>\\n\\t\\t<string>onesuperior</string>\\n\\t\\t<string>ordmasculine</string>\\n\\t\\t<string>guillemotright</string>\\n\\t\\t<string>onequarter</string>\\n\\t\\t<string>onehalf</string>\\n\\t\\t<string>threequarters</string>\\n\\t\\t<string>questiondown</string>\\n\\t\\t<string>Agrave</string>\\n\\t\\t<string>Aacute</string>\\n\\t\\t<string>Acircumflex</string>\\n\\t\\t<string>Atilde</string>\\n\\t\\t<string>Adieresis</string>\\n\\t\\t<string>Aring</string>\\n\\t\\t<string>AE</string>\\n\\t\\t<string>Ccedilla</string>\\n\\t\\t<string>Egrave</string>\\n\\t\\t<string>Eacute</string>\\n\\t\\t<string>Ecircumflex</string>\\n\\t\\t<string>Edieresis</string>\\n\\t\\t<string>Igrave</string>\\n\\t\\t<string>Iacute</string>\\n\\t\\t<string>Icircumflex</string>\\n\\t\\t<string>Idieresis</string>\\n\\t\\t<string>Eth</string>\\n\\t\\t<string>Ntilde</string>\\n\\t\\t<string>Ograve</string>\\n\\t\\t<string>Oacute</string>\\n\\t\\t<string>Ocircumflex</string>\\n\\t\\t<string>Otilde</string>\\n\\t\\t<string>Odieresis</string>\\n\\t\\t<string>multiply</string>\\n\\t\\t<string>Oslash</string>\\n\\t\\t<string>Ugrave</string>\\n\\t\\t<string>Uacute</string>\\n\\t\\t<string>Ucircumflex</string>\\n\\t\\t<string>Udieresis</string>\\n\\t\\t<string>Yacute</string>\\n\\t\\t<string>Thorn</string>\\n\\t\\t<string>germandbls</string>\\n\\t\\t<string>agrave</string>\\n\\t\\t<string>aacute</string>\\n\\t\\t<string>acircumflex</string>\\n\\t\\t<string>atilde</string>\\n\\t\\t<string>adieresis</string>\\n\\t\\t<string>aring</string>\\n\\t\\t<string>ae</string>\\n\\t\\t<string>ccedilla</string>\\n\\t\\t<string>egrave</string>\\n\\t\\t<string>eacute</string>\\n\\t\\t<string>ecircumflex</string>\\n\\t\\t<string>edieresis</string>\\n\\t\\t<string>igrave</string>\\n\\t\\t<string>iacute</string>\\n\\t\\t<string>icircumflex</string>\\n\\t\\t<string>idieresis</string>\\n\\t\\t<string>eth</string>\\n\\t\\t<string>ntilde</string>\\n\\t\\t<string>ograve</string>\\n\\t\\t<string>oacute</string>\\n\\t\\t<string>ocircumflex</string>\\n\\t\\t<string>otilde</string>\\n\\t\\t<string>odieresis</string>\\n\\t\\t<string>divide</string>\\n\\t\\t<string>oslash</string>\\n\\t\\t<string>ugrave</string>\\n\\t\\t<string>uacute</string>\\n\\t\\t<string>ucircumflex</string>\\n\\t\\t<string>udieresis</string>\\n\\t\\t<string>yacute</string>\\n\\t\\t<string>thorn</string>\\n\\t\\t<string>ydieresis</string>\\n\\t\\t<string>dotlessi</string>\\n\\t\\t<string>circumflex</string>\\n\\t\\t<string>caron</string>\\n\\t\\t<string>breve</string>\\n\\t\\t<string>dotaccent</string>\\n\\t\\t<string>ring</string>\\n\\t\\t<string>ogonek</string>\\n\\t\\t<string>tilde</string>\\n\\t\\t<string>hungarumlaut</string>\\n\\t\\t<string>quoteleft</string>\\n\\t\\t<string>quoteright</string>\\n\\t\\t<string>minus</string>\\n\\t\\t<string>p.10</string>\\n\\t\\t<string>p.9</string>\\n\\t\\t<string>p.3</string>\\n\\t\\t<string>p.8</string>\\n\\t\\t<string>p.2</string>\\n\\t\\t<string>p.4</string>\\n\\t\\t<string>p.7</string>\\n\\t\\t<string>p.6</string>\\n\\t\\t<string>p.1</string>\\n\\t\\t<string>p.5</string>\\n\\t\\t<string>p.3.copy_1</string>\\n\\t\\t<string>p.8.copy_2.copy_1</string>\\n\\t\\t<string>p.8.copy_1.copy_2</string>\\n\\t\\t<string>p.8.copy_1.copy_3</string>\\n\\t\\t<string>p.8.copy_1.copy_1</string>\\n\\t\\t<string>p.8.copy_1</string>\\n\\t\\t<string>p.8.copy_2</string>\\n\\t\\t<string>p.9.copy_1</string>\\n\\t\\t<string>p.2.copy_2</string>\\n\\t\\t<string>p.2.copy_3</string>\\n\\t\\t<string>p.2.copy_1</string>\\n\\t\\t<string>p_.8</string>\\n\\t\\t<string>p.8.copy_1.copy_3.copy_1</string>\\n\\t\\t<string>four.tl</string>\\n\\t\\t<string>two.tl</string>\\n\\t\\t<string>eight.tl</string>\\n\\t\\t<string>seven.tl</string>\\n\\t\\t<string>six.tl</string>\\n\\t\\t<string>five.tl</string>\\n\\t\\t<string>three.tl</string>\\n\\t\\t<string>nine.tl</string>\\n\\t\\t<string>one.tl</string>\\n\\t\\t<string>zero.tl</string>\\n\\t</array>\\n\\t<key>com.schriftgestaltung.gridSize</key>\\n\\t<integer>80</integer>\\n\\t<key>com.schriftgestaltung.useNiceNames</key>\\n\\t<false/>\\n\\t<key>com.schriftgestaltung.weightValue</key>\\n\\t<integer>400</integer>\\n\\t<key>com.typemytype.robofont.background.layerStrokeColor</key>\\n\\t<array>\\n\\t\\t<integer>0</integer>\\n\\t\\t<real>0.8</real>\\n\\t\\t<real>0.2</real>\\n\\t\\t<real>0.7</real>\\n\\t</array>\\n\\t<key>com.typemytype.robofont.compileSettings.autohint</key>\\n\\t<integer>1</integer>\\n\\t<key>com.typemytype.robofont.compileSettings.checkOutlines</key>\\n\\t<integer>0</integer>\\n\\t<key>com.typemytype.robofont.compileSettings.decompose</key>\\n\\t<integer>0</integer>\\n\\t<key>com.typemytype.robofont.compileSettings.generateFormat</key>\\n\\t<integer>0</integer>\\n\\t<key>com.typemytype.robofont.compileSettings.releaseMode</key>\\n\\t<integer>0</integer>\\n\\t<key>com.typemytype.robofont.foreground.layerStrokeColor</key>\\n\\t<array>\\n\\t\\t<real>0.5</real>\\n\\t\\t<integer>0</integer>\\n\\t\\t<real>0.5</real>\\n\\t\\t<real>0.7</real>\\n\\t</array>\\n\\t<key>com.typemytype.robofont.italicSlantOffset</key>\\n\\t<integer>0</integer>\\n\\t<key>com.typemytype.robofont.layerOrder</key>\\n\\t<array>\\n\\t\\t<string>background</string>\\n\\t</array>\\n\\t<key>com.typemytype.robofont.segmentType</key>\\n\\t<string>curve</string>\\n\\t<key>com.typemytype.robofont.shouldAddPointsInSplineConversion</key>\\n\\t<integer>0</integer>\\n\\t<key>com.typemytype.robofont.sort</key>\\n\\t<array>\\n\\t\\t<dict>\\n\\t\\t\\t<key>ascending</key>\\n\\t\\t\\t<array>\\n\\t\\t\\t\\t<string>space</string>\\n\\t\\t\\t\\t<string>exclam</string>\\n\\t\\t\\t\\t<string>quotesingle</string>\\n\\t\\t\\t\\t<string>quotedbl</string>\\n\\t\\t\\t\\t<string>numbersign</string>\\n\\t\\t\\t\\t<string>dollar</string>\\n\\t\\t\\t\\t<string>percent</string>\\n\\t\\t\\t\\t<string>ampersand</string>\\n\\t\\t\\t\\t<string>parenleft</string>\\n\\t\\t\\t\\t<string>parenright</string>\\n\\t\\t\\t\\t<string>asterisk</string>\\n\\t\\t\\t\\t<string>plus</string>\\n\\t\\t\\t\\t<string>comma</string>\\n\\t\\t\\t\\t<string>hyphen</string>\\n\\t\\t\\t\\t<string>period</string>\\n\\t\\t\\t\\t<string>slash</string>\\n\\t\\t\\t\\t<string>zero</string>\\n\\t\\t\\t\\t<string>one</string>\\n\\t\\t\\t\\t<string>two</string>\\n\\t\\t\\t\\t<string>three</string>\\n\\t\\t\\t\\t<string>four</string>\\n\\t\\t\\t\\t<string>five</string>\\n\\t\\t\\t\\t<string>six</string>\\n\\t\\t\\t\\t<string>seven</string>\\n\\t\\t\\t\\t<string>eight</string>\\n\\t\\t\\t\\t<string>nine</string>\\n\\t\\t\\t\\t<string>colon</string>\\n\\t\\t\\t\\t<string>semicolon</string>\\n\\t\\t\\t\\t<string>less</string>\\n\\t\\t\\t\\t<string>equal</string>\\n\\t\\t\\t\\t<string>greater</string>\\n\\t\\t\\t\\t<string>question</string>\\n\\t\\t\\t\\t<string>at</string>\\n\\t\\t\\t\\t<string>A</string>\\n\\t\\t\\t\\t<string>B</string>\\n\\t\\t\\t\\t<string>C</string>\\n\\t\\t\\t\\t<string>D</string>\\n\\t\\t\\t\\t<string>E</string>\\n\\t\\t\\t\\t<string>F</string>\\n\\t\\t\\t\\t<string>G</string>\\n\\t\\t\\t\\t<string>H</string>\\n\\t\\t\\t\\t<string>I</string>\\n\\t\\t\\t\\t<string>J</string>\\n\\t\\t\\t\\t<string>K</string>\\n\\t\\t\\t\\t<string>L</string>\\n\\t\\t\\t\\t<string>M</string>\\n\\t\\t\\t\\t<string>N</string>\\n\\t\\t\\t\\t<string>O</string>\\n\\t\\t\\t\\t<string>P</string>\\n\\t\\t\\t\\t<string>Q</string>\\n\\t\\t\\t\\t<string>R</string>\\n\\t\\t\\t\\t<string>S</string>\\n\\t\\t\\t\\t<string>T</string>\\n\\t\\t\\t\\t<string>U</string>\\n\\t\\t\\t\\t<string>V</string>\\n\\t\\t\\t\\t<string>W</string>\\n\\t\\t\\t\\t<string>X</string>\\n\\t\\t\\t\\t<string>Y</string>\\n\\t\\t\\t\\t<string>Z</string>\\n\\t\\t\\t\\t<string>bracketleft</string>\\n\\t\\t\\t\\t<string>backslash</string>\\n\\t\\t\\t\\t<string>bracketright</string>\\n\\t\\t\\t\\t<string>asciicircum</string>\\n\\t\\t\\t\\t<string>underscore</string>\\n\\t\\t\\t\\t<string>grave</string>\\n\\t\\t\\t\\t<string>a</string>\\n\\t\\t\\t\\t<string>b</string>\\n\\t\\t\\t\\t<string>c</string>\\n\\t\\t\\t\\t<string>d</string>\\n\\t\\t\\t\\t<string>e</string>\\n\\t\\t\\t\\t<string>f</string>\\n\\t\\t\\t\\t<string>g</string>\\n\\t\\t\\t\\t<string>h</string>\\n\\t\\t\\t\\t<string>i</string>\\n\\t\\t\\t\\t<string>j</string>\\n\\t\\t\\t\\t<string>k</string>\\n\\t\\t\\t\\t<string>l</string>\\n\\t\\t\\t\\t<string>m</string>\\n\\t\\t\\t\\t<string>n</string>\\n\\t\\t\\t\\t<string>o</string>\\n\\t\\t\\t\\t<string>p</string>\\n\\t\\t\\t\\t<string>q</string>\\n\\t\\t\\t\\t<string>r</string>\\n\\t\\t\\t\\t<string>s</string>\\n\\t\\t\\t\\t<string>t</string>\\n\\t\\t\\t\\t<string>u</string>\\n\\t\\t\\t\\t<string>v</string>\\n\\t\\t\\t\\t<string>w</string>\\n\\t\\t\\t\\t<string>x</string>\\n\\t\\t\\t\\t<string>y</string>\\n\\t\\t\\t\\t<string>z</string>\\n\\t\\t\\t\\t<string>braceleft</string>\\n\\t\\t\\t\\t<string>bar</string>\\n\\t\\t\\t\\t<string>braceright</string>\\n\\t\\t\\t\\t<string>asciitilde</string>\\n\\t\\t\\t\\t<string>exclamdown</string>\\n\\t\\t\\t\\t<string>cent</string>\\n\\t\\t\\t\\t<string>sterling</string>\\n\\t\\t\\t\\t<string>currency</string>\\n\\t\\t\\t\\t<string>yen</string>\\n\\t\\t\\t\\t<string>brokenbar</string>\\n\\t\\t\\t\\t<string>section</string>\\n\\t\\t\\t\\t<string>dieresis</string>\\n\\t\\t\\t\\t<string>copyright</string>\\n\\t\\t\\t\\t<string>ordfeminine</string>\\n\\t\\t\\t\\t<string>guillemotleft</string>\\n\\t\\t\\t\\t<string>logicalnot</string>\\n\\t\\t\\t\\t<string>registered</string>\\n\\t\\t\\t\\t<string>macron</string>\\n\\t\\t\\t\\t<string>degree</string>\\n\\t\\t\\t\\t<string>plusminus</string>\\n\\t\\t\\t\\t<string>twosuperior</string>\\n\\t\\t\\t\\t<string>threesuperior</string>\\n\\t\\t\\t\\t<string>acute</string>\\n\\t\\t\\t\\t<string>mu</string>\\n\\t\\t\\t\\t<string>paragraph</string>\\n\\t\\t\\t\\t<string>periodcentered</string>\\n\\t\\t\\t\\t<string>cedilla</string>\\n\\t\\t\\t\\t<string>onesuperior</string>\\n\\t\\t\\t\\t<string>ordmasculine</string>\\n\\t\\t\\t\\t<string>guillemotright</string>\\n\\t\\t\\t\\t<string>onequarter</string>\\n\\t\\t\\t\\t<string>onehalf</string>\\n\\t\\t\\t\\t<string>threequarters</string>\\n\\t\\t\\t\\t<string>questiondown</string>\\n\\t\\t\\t\\t<string>Agrave</string>\\n\\t\\t\\t\\t<string>Aacute</string>\\n\\t\\t\\t\\t<string>Acircumflex</string>\\n\\t\\t\\t\\t<string>Atilde</string>\\n\\t\\t\\t\\t<string>Adieresis</string>\\n\\t\\t\\t\\t<string>Aring</string>\\n\\t\\t\\t\\t<string>AE</string>\\n\\t\\t\\t\\t<string>Ccedilla</string>\\n\\t\\t\\t\\t<string>Egrave</string>\\n\\t\\t\\t\\t<string>Eacute</string>\\n\\t\\t\\t\\t<string>Ecircumflex</string>\\n\\t\\t\\t\\t<string>Edieresis</string>\\n\\t\\t\\t\\t<string>Igrave</string>\\n\\t\\t\\t\\t<string>Iacute</string>\\n\\t\\t\\t\\t<string>Icircumflex</string>\\n\\t\\t\\t\\t<string>Idieresis</string>\\n\\t\\t\\t\\t<string>Eth</string>\\n\\t\\t\\t\\t<string>Ntilde</string>\\n\\t\\t\\t\\t<string>Ograve</string>\\n\\t\\t\\t\\t<string>Oacute</string>\\n\\t\\t\\t\\t<string>Ocircumflex</string>\\n\\t\\t\\t\\t<string>Otilde</string>\\n\\t\\t\\t\\t<string>Odieresis</string>\\n\\t\\t\\t\\t<string>multiply</string>\\n\\t\\t\\t\\t<string>Oslash</string>\\n\\t\\t\\t\\t<string>Ugrave</string>\\n\\t\\t\\t\\t<string>Uacute</string>\\n\\t\\t\\t\\t<string>Ucircumflex</string>\\n\\t\\t\\t\\t<string>Udieresis</string>\\n\\t\\t\\t\\t<string>Yacute</string>\\n\\t\\t\\t\\t<string>Thorn</string>\\n\\t\\t\\t\\t<string>germandbls</string>\\n\\t\\t\\t\\t<string>agrave</string>\\n\\t\\t\\t\\t<string>aacute</string>\\n\\t\\t\\t\\t<string>acircumflex</string>\\n\\t\\t\\t\\t<string>atilde</string>\\n\\t\\t\\t\\t<string>adieresis</string>\\n\\t\\t\\t\\t<string>aring</string>\\n\\t\\t\\t\\t<string>ae</string>\\n\\t\\t\\t\\t<string>ccedilla</string>\\n\\t\\t\\t\\t<string>egrave</string>\\n\\t\\t\\t\\t<string>eacute</string>\\n\\t\\t\\t\\t<string>ecircumflex</string>\\n\\t\\t\\t\\t<string>edieresis</string>\\n\\t\\t\\t\\t<string>igrave</string>\\n\\t\\t\\t\\t<string>iacute</string>\\n\\t\\t\\t\\t<string>icircumflex</string>\\n\\t\\t\\t\\t<string>idieresis</string>\\n\\t\\t\\t\\t<string>eth</string>\\n\\t\\t\\t\\t<string>ntilde</string>\\n\\t\\t\\t\\t<string>ograve</string>\\n\\t\\t\\t\\t<string>oacute</string>\\n\\t\\t\\t\\t<string>ocircumflex</string>\\n\\t\\t\\t\\t<string>otilde</string>\\n\\t\\t\\t\\t<string>odieresis</string>\\n\\t\\t\\t\\t<string>divide</string>\\n\\t\\t\\t\\t<string>oslash</string>\\n\\t\\t\\t\\t<string>ugrave</string>\\n\\t\\t\\t\\t<string>uacute</string>\\n\\t\\t\\t\\t<string>ucircumflex</string>\\n\\t\\t\\t\\t<string>udieresis</string>\\n\\t\\t\\t\\t<string>yacute</string>\\n\\t\\t\\t\\t<string>thorn</string>\\n\\t\\t\\t\\t<string>ydieresis</string>\\n\\t\\t\\t\\t<string>dotlessi</string>\\n\\t\\t\\t\\t<string>circumflex</string>\\n\\t\\t\\t\\t<string>caron</string>\\n\\t\\t\\t\\t<string>breve</string>\\n\\t\\t\\t\\t<string>dotaccent</string>\\n\\t\\t\\t\\t<string>ring</string>\\n\\t\\t\\t\\t<string>ogonek</string>\\n\\t\\t\\t\\t<string>tilde</string>\\n\\t\\t\\t\\t<string>hungarumlaut</string>\\n\\t\\t\\t\\t<string>quoteleft</string>\\n\\t\\t\\t\\t<string>quoteright</string>\\n\\t\\t\\t\\t<string>minus</string>\\n\\t\\t\\t\\t<string>p.10</string>\\n\\t\\t\\t\\t<string>p.9</string>\\n\\t\\t\\t\\t<string>p.3</string>\\n\\t\\t\\t\\t<string>p.8</string>\\n\\t\\t\\t\\t<string>p.2</string>\\n\\t\\t\\t\\t<string>p.4</string>\\n\\t\\t\\t\\t<string>p.7</string>\\n\\t\\t\\t\\t<string>p.6</string>\\n\\t\\t\\t\\t<string>p.1</string>\\n\\t\\t\\t\\t<string>p.5</string>\\n\\t\\t\\t\\t<string>p.3.copy_1</string>\\n\\t\\t\\t\\t<string>p.8.copy_2.copy_1</string>\\n\\t\\t\\t\\t<string>p.8.copy_1.copy_2</string>\\n\\t\\t\\t\\t<string>p.8.copy_1.copy_3</string>\\n\\t\\t\\t\\t<string>p.8.copy_1.copy_1</string>\\n\\t\\t\\t\\t<string>p.8.copy_1</string>\\n\\t\\t\\t\\t<string>p.8.copy_2</string>\\n\\t\\t\\t\\t<string>p.9.copy_1</string>\\n\\t\\t\\t\\t<string>p.2.copy_2</string>\\n\\t\\t\\t\\t<string>p.2.copy_3</string>\\n\\t\\t\\t\\t<string>p.2.copy_1</string>\\n\\t\\t\\t\\t<string>p_.8</string>\\n\\t\\t\\t\\t<string>p.8.copy_1.copy_3.copy_1</string>\\n\\t\\t\\t\\t<string>four.tl</string>\\n\\t\\t\\t\\t<string>two.tl</string>\\n\\t\\t\\t\\t<string>eight.tl</string>\\n\\t\\t\\t\\t<string>seven.tl</string>\\n\\t\\t\\t\\t<string>six.tl</string>\\n\\t\\t\\t\\t<string>five.tl</string>\\n\\t\\t\\t\\t<string>three.tl</string>\\n\\t\\t\\t\\t<string>nine.tl</string>\\n\\t\\t\\t\\t<string>one.tl</string>\\n\\t\\t\\t\\t<string>zero.tl</string>\\n\\t\\t\\t</array>\\n\\t\\t\\t<key>type</key>\\n\\t\\t\\t<string>glyphList</string>\\n\\t\\t</dict>\\n\\t</array>\\n\\t<key>public.glyphOrder</key>\\n\\t<array>\\n\\t\\t<string>space</string>\\n\\t\\t<string>exclam</string>\\n\\t\\t<string>quotesingle</string>\\n\\t\\t<string>quotedbl</string>\\n\\t\\t<string>numbersign</string>\\n\\t\\t<string>dollar</string>\\n\\t\\t<string>percent</string>\\n\\t\\t<string>ampersand</string>\\n\\t\\t<string>parenleft</string>\\n\\t\\t<string>parenright</string>\\n\\t\\t<string>asterisk</string>\\n\\t\\t<string>plus</string>\\n\\t\\t<string>comma</string>\\n\\t\\t<string>hyphen</string>\\n\\t\\t<string>period</string>\\n\\t\\t<string>slash</string>\\n\\t\\t<string>zero</string>\\n\\t\\t<string>one</string>\\n\\t\\t<string>two</string>\\n\\t\\t<string>three</string>\\n\\t\\t<string>four</string>\\n\\t\\t<string>five</string>\\n\\t\\t<string>six</string>\\n\\t\\t<string>seven</string>\\n\\t\\t<string>eight</string>\\n\\t\\t<string>nine</string>\\n\\t\\t<string>colon</string>\\n\\t\\t<string>semicolon</string>\\n\\t\\t<string>less</string>\\n\\t\\t<string>equal</string>\\n\\t\\t<string>greater</string>\\n\\t\\t<string>question</string>\\n\\t\\t<string>at</string>\\n\\t\\t<string>A</string>\\n\\t\\t<string>B</string>\\n\\t\\t<string>C</string>\\n\\t\\t<string>D</string>\\n\\t\\t<string>E</string>\\n\\t\\t<string>F</string>\\n\\t\\t<string>G</string>\\n\\t\\t<string>H</string>\\n\\t\\t<string>I</string>\\n\\t\\t<string>J</string>\\n\\t\\t<string>K</string>\\n\\t\\t<string>L</string>\\n\\t\\t<string>M</string>\\n\\t\\t<string>N</string>\\n\\t\\t<string>O</string>\\n\\t\\t<string>P</string>\\n\\t\\t<string>Q</string>\\n\\t\\t<string>R</string>\\n\\t\\t<string>S</string>\\n\\t\\t<string>T</string>\\n\\t\\t<string>U</string>\\n\\t\\t<string>V</string>\\n\\t\\t<string>W</string>\\n\\t\\t<string>X</string>\\n\\t\\t<string>Y</string>\\n\\t\\t<string>Z</string>\\n\\t\\t<string>bracketleft</string>\\n\\t\\t<string>backslash</string>\\n\\t\\t<string>bracketright</string>\\n\\t\\t<string>asciicircum</string>\\n\\t\\t<string>underscore</string>\\n\\t\\t<string>grave</string>\\n\\t\\t<string>a</string>\\n\\t\\t<string>b</string>\\n\\t\\t<string>c</string>\\n\\t\\t<string>d</string>\\n\\t\\t<string>e</string>\\n\\t\\t<string>f</string>\\n\\t\\t<string>g</string>\\n\\t\\t<string>h</string>\\n\\t\\t<string>i</string>\\n\\t\\t<string>j</string>\\n\\t\\t<string>k</string>\\n\\t\\t<string>l</string>\\n\\t\\t<string>m</string>\\n\\t\\t<string>n</string>\\n\\t\\t<string>o</string>\\n\\t\\t<string>p</string>\\n\\t\\t<string>q</string>\\n\\t\\t<string>r</string>\\n\\t\\t<string>s</string>\\n\\t\\t<string>t</string>\\n\\t\\t<string>u</string>\\n\\t\\t<string>v</string>\\n\\t\\t<string>w</string>\\n\\t\\t<string>x</string>\\n\\t\\t<string>y</string>\\n\\t\\t<string>z</string>\\n\\t\\t<string>braceleft</string>\\n\\t\\t<string>bar</string>\\n\\t\\t<string>braceright</string>\\n\\t\\t<string>asciitilde</string>\\n\\t\\t<string>exclamdown</string>\\n\\t\\t<string>brokenbar</string>\\n\\t\\t<string>section</string>\\n\\t\\t<string>dieresis</string>\\n\\t\\t<string>copyright</string>\\n\\t\\t<string>logicalnot</string>\\n\\t\\t<string>registered</string>\\n\\t\\t<string>macron</string>\\n\\t\\t<string>degree</string>\\n\\t\\t<string>plusminus</string>\\n\\t\\t<string>acute</string>\\n\\t\\t<string>paragraph</string>\\n\\t\\t<string>periodcentered</string>\\n\\t\\t<string>cedilla</string>\\n\\t\\t<string>questiondown</string>\\n\\t\\t<string>Agrave</string>\\n\\t\\t<string>Aacute</string>\\n\\t\\t<string>Acircumflex</string>\\n\\t\\t<string>Atilde</string>\\n\\t\\t<string>Adieresis</string>\\n\\t\\t<string>Aring</string>\\n\\t\\t<string>AE</string>\\n\\t\\t<string>Ccedilla</string>\\n\\t\\t<string>Egrave</string>\\n\\t\\t<string>Eacute</string>\\n\\t\\t<string>Ecircumflex</string>\\n\\t\\t<string>Edieresis</string>\\n\\t\\t<string>Igrave</string>\\n\\t\\t<string>Iacute</string>\\n\\t\\t<string>Icircumflex</string>\\n\\t\\t<string>Idieresis</string>\\n\\t\\t<string>Eth</string>\\n\\t\\t<string>Ntilde</string>\\n\\t\\t<string>Ograve</string>\\n\\t\\t<string>Oacute</string>\\n\\t\\t<string>Ocircumflex</string>\\n\\t\\t<string>Otilde</string>\\n\\t\\t<string>Odieresis</string>\\n\\t\\t<string>multiply</string>\\n\\t\\t<string>Oslash</string>\\n\\t\\t<string>Ugrave</string>\\n\\t\\t<string>Uacute</string>\\n\\t\\t<string>Ucircumflex</string>\\n\\t\\t<string>Udieresis</string>\\n\\t\\t<string>Yacute</string>\\n\\t\\t<string>Thorn</string>\\n\\t\\t<string>germandbls</string>\\n\\t\\t<string>agrave</string>\\n\\t\\t<string>aacute</string>\\n\\t\\t<string>acircumflex</string>\\n\\t\\t<string>atilde</string>\\n\\t\\t<string>adieresis</string>\\n\\t\\t<string>aring</string>\\n\\t\\t<string>ae</string>\\n\\t\\t<string>ccedilla</string>\\n\\t\\t<string>egrave</string>\\n\\t\\t<string>eacute</string>\\n\\t\\t<string>ecircumflex</string>\\n\\t\\t<string>edieresis</string>\\n\\t\\t<string>igrave</string>\\n\\t\\t<string>iacute</string>\\n\\t\\t<string>icircumflex</string>\\n\\t\\t<string>idieresis</string>\\n\\t\\t<string>eth</string>\\n\\t\\t<string>ntilde</string>\\n\\t\\t<string>ograve</string>\\n\\t\\t<string>oacute</string>\\n\\t\\t<string>ocircumflex</string>\\n\\t\\t<string>otilde</string>\\n\\t\\t<string>odieresis</string>\\n\\t\\t<string>divide</string>\\n\\t\\t<string>oslash</string>\\n\\t\\t<string>ugrave</string>\\n\\t\\t<string>uacute</string>\\n\\t\\t<string>ucircumflex</string>\\n\\t\\t<string>udieresis</string>\\n\\t\\t<string>yacute</string>\\n\\t\\t<string>thorn</string>\\n\\t\\t<string>ydieresis</string>\\n\\t\\t<string>circumflex</string>\\n\\t\\t<string>caron</string>\\n\\t\\t<string>breve</string>\\n\\t\\t<string>dotaccent</string>\\n\\t\\t<string>ring</string>\\n\\t\\t<string>ogonek</string>\\n\\t\\t<string>tilde</string>\\n\\t\\t<string>hungarumlaut</string>\\n\\t\\t<string>minus</string>\\n\\t\\t<string>OE</string>\\n\\t\\t<string>Germandbls</string>\\n\\t\\t<string>Wacute</string>\\n\\t\\t<string>Wcircumflex</string>\\n\\t\\t<string>Wdieresis</string>\\n\\t\\t<string>Wgrave</string>\\n\\t\\t<string>Ycircumflex</string>\\n\\t\\t<string>Ydieresis</string>\\n\\t\\t<string>Ygrave</string>\\n\\t\\t<string>oe</string>\\n\\t\\t<string>wacute</string>\\n\\t\\t<string>wcircumflex</string>\\n\\t\\t<string>wdieresis</string>\\n\\t\\t<string>wgrave</string>\\n\\t\\t<string>ycircumflex</string>\\n\\t\\t<string>ygrave</string>\\n\\t\\t<string>f_f_i</string>\\n\\t\\t<string>fi</string>\\n\\t\\t<string>f_j.liga</string>\\n\\t\\t<string>g_j.liga</string>\\n\\t\\t<string>j_j.liga</string>\\n\\t\\t<string>s_s.liga</string>\\n\\t\\t<string>y_j.liga</string>\\n\\t\\t<string>A-cy</string>\\n\\t\\t<string>Be-cy</string>\\n\\t\\t<string>Ve-cy</string>\\n\\t\\t<string>Ge-cy</string>\\n\\t\\t<string>De-cy</string>\\n\\t\\t<string>Ie-cy</string>\\n\\t\\t<string>Io-cy</string>\\n\\t\\t<string>Zhe-cy</string>\\n\\t\\t<string>Ze-cy</string>\\n\\t\\t<string>Ii-cy</string>\\n\\t\\t<string>Iishort-cy</string>\\n\\t\\t<string>Ka-cy</string>\\n\\t\\t<string>El-cy</string>\\n\\t\\t<string>Em-cy</string>\\n\\t\\t<string>En-cy</string>\\n\\t\\t<string>O-cy</string>\\n\\t\\t<string>Pe-cy</string>\\n\\t\\t<string>Er-cy</string>\\n\\t\\t<string>Es-cy</string>\\n\\t\\t<string>Te-cy</string>\\n\\t\\t<string>U-cy</string>\\n\\t\\t<string>Ef-cy</string>\\n\\t\\t<string>Ha-cy</string>\\n\\t\\t<string>Che-cy</string>\\n\\t\\t<string>Tse-cy</string>\\n\\t\\t<string>Sha-cy</string>\\n\\t\\t<string>Shcha-cy</string>\\n\\t\\t<string>Softsign-cy</string>\\n\\t\\t<string>Hardsign-cy</string>\\n\\t\\t<string>Yeru-cy</string>\\n\\t\\t<string>Ereversed-cy</string>\\n\\t\\t<string>Iu-cy</string>\\n\\t\\t<string>Ia-cy</string>\\n\\t\\t<string>De-cy.001</string>\\n\\t\\t<string>Ii-cy.001</string>\\n\\t\\t<string>El-cy.001</string>\\n\\t\\t<string>U-cy.001</string>\\n\\t\\t<string>a-cy</string>\\n\\t\\t<string>be-cy</string>\\n\\t\\t<string>ve-cy</string>\\n\\t\\t<string>ge-cy</string>\\n\\t\\t<string>de-cy</string>\\n\\t\\t<string>ie-cy</string>\\n\\t\\t<string>io-cy</string>\\n\\t\\t<string>zhe-cy</string>\\n\\t\\t<string>ze-cy</string>\\n\\t\\t<string>ii-cy</string>\\n\\t\\t<string>iishort-cy</string>\\n\\t\\t<string>ka-cy</string>\\n\\t\\t<string>el-cy</string>\\n\\t\\t<string>em-cy</string>\\n\\t\\t<string>en-cy</string>\\n\\t\\t<string>o-cy</string>\\n\\t\\t<string>pe-cy</string>\\n\\t\\t<string>er-cy</string>\\n\\t\\t<string>es-cy</string>\\n\\t\\t<string>te-cy</string>\\n\\t\\t<string>u-cy</string>\\n\\t\\t<string>ef-cy</string>\\n\\t\\t<string>ha-cy</string>\\n\\t\\t<string>che-cy</string>\\n\\t\\t<string>tse-cy</string>\\n\\t\\t<string>sha-cy</string>\\n\\t\\t<string>shcha-cy</string>\\n\\t\\t<string>softsign-cy</string>\\n\\t\\t<string>hardsign-cy</string>\\n\\t\\t<string>yeru-cy</string>\\n\\t\\t<string>ereversed-cy</string>\\n\\t\\t<string>iu-cy</string>\\n\\t\\t<string>ia-cy</string>\\n\\t\\t<string>be-cy.001</string>\\n\\t\\t<string>ii-cy.001</string>\\n\\t\\t<string>be-cy.002</string>\\n\\t\\t<string>ii-cy.002</string>\\n\\t\\t<string>be-cy.003</string>\\n\\t\\t<string>fraction</string>\\n\\t\\t<string>ellipsis</string>\\n\\t\\t<string>bullet</string>\\n\\t\\t<string>endash</string>\\n\\t\\t<string>emdash</string>\\n\\t\\t<string>notequal</string>\\n\\t\\t<string>greaterequal</string>\\n\\t\\t<string>lessequal</string>\\n\\t\\t<string>approxequal</string>\\n\\t\\t<string>emptyset</string>\\n\\t\\t<string>infinity</string>\\n\\t\\t<string>integral</string>\\n\\t\\t<string>product</string>\\n\\t\\t<string>summation</string>\\n\\t\\t<string>radical</string>\\n\\t\\t<string>partialdiff</string>\\n\\t\\t<string>perthousand</string>\\n\\t\\t<string>upArrow</string>\\n\\t\\t<string>rightArrow</string>\\n\\t\\t<string>downArrow</string>\\n\\t\\t<string>leftArrow</string>\\n\\t\\t<string>lozenge</string>\\n\\t\\t<string>trademark</string>\\n\\t\\t<string>dagger</string>\\n\\t\\t<string>daggerdbl</string>\\n\\t\\t<string>pixel</string>\\n\\t</array>\\n\\t<key>public.postscriptNames</key>\\n\\t<dict>\\n\\t\\t<key>downArrow</key>\\n\\t\\t<string>arrowdown</string>\\n\\t\\t<key>leftArrow</key>\\n\\t\\t<string>arrowleft</string>\\n\\t\\t<key>rightArrow</key>\\n\\t\\t<string>arrowright</string>\\n\\t\\t<key>upArrow</key>\\n\\t\\t<string>arrowup</string>\\n\\t</dict>\\n</dict>\\n</plist>\\n'"
            ]
          },
          "metadata": {
            "tags": []
          },
          "execution_count": 194
        }
      ]
    },
    {
      "cell_type": "markdown",
      "metadata": {
        "id": "5G2BMdaZ-lXo",
        "colab_type": "text"
      },
      "source": [
        "Add root element to XML feed"
      ]
    },
    {
      "cell_type": "code",
      "metadata": {
        "id": "U4xyhMjcAyc-",
        "colab_type": "code",
        "colab": {
          "base_uri": "https://localhost:8080/",
          "height": 34
        },
        "outputId": "45c57f16-d531-4544-9802-294dfda9a26f"
      },
      "source": [
        "ufo3_1_xml_root = ET.fromstring(ufo3_1_xml)\n",
        "ufo3_1_xml_root"
      ],
      "execution_count": 195,
      "outputs": [
        {
          "output_type": "execute_result",
          "data": {
            "text/plain": [
              "<Element 'plist' at 0x7fa7af802f48>"
            ]
          },
          "metadata": {
            "tags": []
          },
          "execution_count": 195
        }
      ]
    },
    {
      "cell_type": "markdown",
      "metadata": {
        "id": "_7IimJISQBPP",
        "colab_type": "text"
      },
      "source": [
        "Creating a dataframe (based on https://colab.research.google.com/drive/1u4gucw1Lndk_Wpuo3pAhojEUp5iiq19u)"
      ]
    },
    {
      "cell_type": "code",
      "metadata": {
        "id": "wUdTEVQGJcWk",
        "colab_type": "code",
        "colab": {
          "base_uri": "https://localhost:8080/",
          "height": 49
        },
        "outputId": "ff6641e1-e4f1-461d-fa53-4fbc5d46919d"
      },
      "source": [
        "glyphs_list1 = []\n",
        "glyphs_list2 = []\n",
        "\n",
        "for item in ufo3_1_xml_root.findall('dict array dict array'): \n",
        "  glyphs_list1.append( item.find('.//string').text )\n",
        "  # titles.append( item.find('.//title').text )\n",
        "  # description.append( item.find('.//description').text)\n",
        "\n",
        "glyphs_list1_df = pd.DataFrame(    \n",
        "    {'glyphs_list1': glyphs_list1,\n",
        "    })  \n",
        "\n",
        "glyphs_list1_df"
      ],
      "execution_count": 196,
      "outputs": [
        {
          "output_type": "execute_result",
          "data": {
            "text/html": [
              "<div>\n",
              "<style scoped>\n",
              "    .dataframe tbody tr th:only-of-type {\n",
              "        vertical-align: middle;\n",
              "    }\n",
              "\n",
              "    .dataframe tbody tr th {\n",
              "        vertical-align: top;\n",
              "    }\n",
              "\n",
              "    .dataframe thead th {\n",
              "        text-align: right;\n",
              "    }\n",
              "</style>\n",
              "<table border=\"1\" class=\"dataframe\">\n",
              "  <thead>\n",
              "    <tr style=\"text-align: right;\">\n",
              "      <th></th>\n",
              "      <th>glyphs_list1</th>\n",
              "    </tr>\n",
              "  </thead>\n",
              "  <tbody>\n",
              "  </tbody>\n",
              "</table>\n",
              "</div>"
            ],
            "text/plain": [
              "Empty DataFrame\n",
              "Columns: [glyphs_list1]\n",
              "Index: []"
            ]
          },
          "metadata": {
            "tags": []
          },
          "execution_count": 196
        }
      ]
    },
    {
      "cell_type": "markdown",
      "metadata": {
        "id": "q59K10L2SjeJ",
        "colab_type": "text"
      },
      "source": [
        "What about visualizing the contents of a font file?\n",
        "First of all let's install [fontTools library](https://github.com/fonttools/fonttools) and [drawbot](https://www.drawbot.com/). If you don't have them uncommented the next two lines of code. \n",
        "\n",
        "Based on https://github.com/lynneyun/Tutorials/tree/master/FontTools%20%26%20DrawBot and https://github.com/aparrish/material-of-language/blob/master/manipulating-font-data.ipynb"
      ]
    },
    {
      "cell_type": "code",
      "metadata": {
        "id": "OfR7E6trSzMg",
        "colab_type": "code",
        "colab": {
          "base_uri": "https://localhost:8080/",
          "height": 34
        },
        "outputId": "637b782b-ffae-461b-c0bc-1caf4fb78da8"
      },
      "source": [
        "!pip install fonttools"
      ],
      "execution_count": 197,
      "outputs": [
        {
          "output_type": "stream",
          "text": [
            "Requirement already satisfied: fonttools in /usr/local/lib/python3.6/dist-packages (4.12.1)\n"
          ],
          "name": "stdout"
        }
      ]
    },
    {
      "cell_type": "markdown",
      "metadata": {
        "id": "k33UiedJTih8",
        "colab_type": "text"
      },
      "source": [
        "Then we need a font file itself.\\\n",
        "It is possibble to take it from the connected repo:\n"
      ]
    },
    {
      "cell_type": "code",
      "metadata": {
        "id": "bUaObqiYZh6u",
        "colab_type": "code",
        "colab": {}
      },
      "source": [
        "from fontTools.ttLib import TTFont\n",
        "\n",
        "font_ver3_1 = TTFont(\"/content/FHP-infovis-py/ttf/MogeeFont3.1.ttf\")\n",
        "font_ver3_2 = TTFont(\"/content/FHP-infovis-py/ttf/MogeeFont3.2.ttf\")"
      ],
      "execution_count": 198,
      "outputs": []
    },
    {
      "cell_type": "markdown",
      "metadata": {
        "id": "pO-n2n3lY2ol",
        "colab_type": "text"
      },
      "source": [
        "Some basic information about the font file such as amount of glyphs in file and the list of glyphs:"
      ]
    },
    {
      "cell_type": "code",
      "metadata": {
        "id": "YkRM6_GeZG4E",
        "colab_type": "code",
        "colab": {
          "base_uri": "https://localhost:8080/",
          "height": 34
        },
        "outputId": "918e8aab-d141-48c1-c3d8-26b58da37a0a"
      },
      "source": [
        "len(font_ver3_1.getGlyphNames())"
      ],
      "execution_count": 199,
      "outputs": [
        {
          "output_type": "execute_result",
          "data": {
            "text/plain": [
              "318"
            ]
          },
          "metadata": {
            "tags": []
          },
          "execution_count": 199
        }
      ]
    },
    {
      "cell_type": "code",
      "metadata": {
        "id": "Bd6mJ8XdZ2Wk",
        "colab_type": "code",
        "colab": {
          "base_uri": "https://localhost:8080/",
          "height": 34
        },
        "outputId": "669f99f5-4265-40fa-98bf-c29eff5216cb"
      },
      "source": [
        "len(font_ver3_2.getGlyphNames())"
      ],
      "execution_count": 200,
      "outputs": [
        {
          "output_type": "execute_result",
          "data": {
            "text/plain": [
              "308"
            ]
          },
          "metadata": {
            "tags": []
          },
          "execution_count": 200
        }
      ]
    },
    {
      "cell_type": "code",
      "metadata": {
        "id": "4AP4pJXGZT3x",
        "colab_type": "code",
        "colab": {
          "base_uri": "https://localhost:8080/",
          "height": 187
        },
        "outputId": "f8c2406e-dc71-420c-cf87-3e04dfebb643"
      },
      "source": [
        "font_ver3_1.getGlyphNames()[:10]"
      ],
      "execution_count": 201,
      "outputs": [
        {
          "output_type": "execute_result",
          "data": {
            "text/plain": [
              "['.notdef',\n",
              " 'A',\n",
              " 'AE',\n",
              " 'Aacute',\n",
              " 'Acircumflex',\n",
              " 'Adieresis',\n",
              " 'Agrave',\n",
              " 'Aring',\n",
              " 'Atilde',\n",
              " 'B']"
            ]
          },
          "metadata": {
            "tags": []
          },
          "execution_count": 201
        }
      ]
    },
    {
      "cell_type": "code",
      "metadata": {
        "id": "tF8tDyLiZ891",
        "colab_type": "code",
        "colab": {
          "base_uri": "https://localhost:8080/",
          "height": 187
        },
        "outputId": "7bf49fc3-1397-4960-8a67-eb13393a9f3a"
      },
      "source": [
        "font_ver3_2.getGlyphNames()[:10]"
      ],
      "execution_count": 202,
      "outputs": [
        {
          "output_type": "execute_result",
          "data": {
            "text/plain": [
              "['.notdef',\n",
              " 'A',\n",
              " 'AE',\n",
              " 'Aacute',\n",
              " 'Acircumflex',\n",
              " 'Adieresis',\n",
              " 'Agrave',\n",
              " 'Aring',\n",
              " 'Atilde',\n",
              " 'B']"
            ]
          },
          "metadata": {
            "tags": []
          },
          "execution_count": 202
        }
      ]
    },
    {
      "cell_type": "markdown",
      "metadata": {
        "id": "ST_k-QSsa8ph",
        "colab_type": "text"
      },
      "source": [
        "Also it is possible to see all the points and there connections in each glyph:"
      ]
    },
    {
      "cell_type": "code",
      "metadata": {
        "id": "r16ifbJwbLTR",
        "colab_type": "code",
        "colab": {
          "base_uri": "https://localhost:8080/",
          "height": 289
        },
        "outputId": "68446e9d-4fc7-45ff-b795-6e8be9472f53"
      },
      "source": [
        "from fontTools.pens.recordingPen import RecordingPen\n",
        "glyph = font_ver3_1.getGlyphSet()['A']\n",
        "p = RecordingPen()\n",
        "glyph.draw(p)\n",
        "p.value"
      ],
      "execution_count": 203,
      "outputs": [
        {
          "output_type": "execute_result",
          "data": {
            "text/plain": [
              "[('addComponent', ('pixel', (1, 0, 0, 1, 0, 500))),\n",
              " ('addComponent', ('pixel', (1, 0, 0, 1, 0, 400))),\n",
              " ('addComponent', ('pixel', (1, 0, 0, 1, 0, 300))),\n",
              " ('addComponent', ('pixel', (1, 0, 0, 1, 0, 200))),\n",
              " ('addComponent', ('pixel', (1, 0, 0, 1, 0, 100))),\n",
              " ('addComponent', ('pixel', (1, 0, 0, 1, 0, 0))),\n",
              " ('addComponent', ('pixel', (1, 0, 0, 1, 100, 600))),\n",
              " ('addComponent', ('pixel', (1, 0, 0, 1, 200, 600))),\n",
              " ('addComponent', ('pixel', (1, 0, 0, 1, 300, 500))),\n",
              " ('addComponent', ('pixel', (1, 0, 0, 1, 300, 400))),\n",
              " ('addComponent', ('pixel', (1, 0, 0, 1, 300, 300))),\n",
              " ('addComponent', ('pixel', (1, 0, 0, 1, 300, 200))),\n",
              " ('addComponent', ('pixel', (1, 0, 0, 1, 300, 100))),\n",
              " ('addComponent', ('pixel', (1, 0, 0, 1, 300, 0))),\n",
              " ('addComponent', ('pixel', (1, 0, 0, 1, 100, 200))),\n",
              " ('addComponent', ('pixel', (1, 0, 0, 1, 200, 200)))]"
            ]
          },
          "metadata": {
            "tags": []
          },
          "execution_count": 203
        }
      ]
    },
    {
      "cell_type": "code",
      "metadata": {
        "id": "YdvgxeE1bYat",
        "colab_type": "code",
        "colab": {
          "base_uri": "https://localhost:8080/",
          "height": 289
        },
        "outputId": "d37ee43e-e6cb-40f1-9095-bbaa2bfd107d"
      },
      "source": [
        "from fontTools.pens.recordingPen import RecordingPen\n",
        "glyph = font_ver3_2.getGlyphSet()['A']\n",
        "p = RecordingPen()\n",
        "glyph.draw(p)\n",
        "p.value"
      ],
      "execution_count": 204,
      "outputs": [
        {
          "output_type": "execute_result",
          "data": {
            "text/plain": [
              "[('addComponent', ('pixel', (1, 0, 0, 1, 0, 400))),\n",
              " ('addComponent', ('pixel', (1, 0, 0, 1, 0, 320))),\n",
              " ('addComponent', ('pixel', (1, 0, 0, 1, 0, 240))),\n",
              " ('addComponent', ('pixel', (1, 0, 0, 1, 0, 160))),\n",
              " ('addComponent', ('pixel', (1, 0, 0, 1, 0, 80))),\n",
              " ('addComponent', ('pixel', (1, 0, 0, 1, 0, 0))),\n",
              " ('addComponent', ('pixel', (1, 0, 0, 1, 80, 480))),\n",
              " ('addComponent', ('pixel', (1, 0, 0, 1, 160, 480))),\n",
              " ('addComponent', ('pixel', (1, 0, 0, 1, 240, 400))),\n",
              " ('addComponent', ('pixel', (1, 0, 0, 1, 240, 320))),\n",
              " ('addComponent', ('pixel', (1, 0, 0, 1, 240, 240))),\n",
              " ('addComponent', ('pixel', (1, 0, 0, 1, 240, 160))),\n",
              " ('addComponent', ('pixel', (1, 0, 0, 1, 240, 80))),\n",
              " ('addComponent', ('pixel', (1, 0, 0, 1, 240, 0))),\n",
              " ('addComponent', ('pixel', (1, 0, 0, 1, 80, 160))),\n",
              " ('addComponent', ('pixel', (1, 0, 0, 1, 160, 160)))]"
            ]
          },
          "metadata": {
            "tags": []
          },
          "execution_count": 204
        }
      ]
    },
    {
      "cell_type": "markdown",
      "metadata": {
        "id": "z-zBKAjCbqo2",
        "colab_type": "text"
      },
      "source": [
        "Or even it is possible to *draw* the glyph with a help of [flat library](https://xxyxyz.org/flat) and [bezmerizing](https://github.com/aparrish/bezmerizing/):"
      ]
    },
    {
      "cell_type": "code",
      "metadata": {
        "id": "3OTuuauEk0t4",
        "colab_type": "code",
        "colab": {
          "base_uri": "https://localhost:8080/",
          "height": 241
        },
        "outputId": "d3fb0575-ff7c-45a3-8f99-a1b65162c621"
      },
      "source": [
        "!pip install https://github.com/aparrish/bezmerizing/archive/master.zip\n",
        "!pip install Flat"
      ],
      "execution_count": 205,
      "outputs": [
        {
          "output_type": "stream",
          "text": [
            "Collecting https://github.com/aparrish/bezmerizing/archive/master.zip\n",
            "  Using cached https://github.com/aparrish/bezmerizing/archive/master.zip\n",
            "Requirement already satisfied (use --upgrade to upgrade): bezmerizing==0.1.0 from https://github.com/aparrish/bezmerizing/archive/master.zip in /usr/local/lib/python3.6/dist-packages\n",
            "Requirement already satisfied: flat>=0.0.3 in /usr/local/lib/python3.6/dist-packages (from bezmerizing==0.1.0) (0.3.1)\n",
            "Requirement already satisfied: scipy>=1.1.0 in /usr/local/lib/python3.6/dist-packages (from bezmerizing==0.1.0) (1.4.1)\n",
            "Requirement already satisfied: numpy>=1.13.3 in /usr/local/lib/python3.6/dist-packages (from scipy>=1.1.0->bezmerizing==0.1.0) (1.18.5)\n",
            "Building wheels for collected packages: bezmerizing\n",
            "  Building wheel for bezmerizing (setup.py) ... \u001b[?25l\u001b[?25hdone\n",
            "  Created wheel for bezmerizing: filename=bezmerizing-0.1.0-cp36-none-any.whl size=15816 sha256=da0b0ad28cc36cf33243683205df96c4fce0d06b9af47d1bcd8a19d64ee0b193\n",
            "  Stored in directory: /tmp/pip-ephem-wheel-cache-0qsurjtl/wheels/93/43/9b/8acebe44e4ac5fc93427a03a09bd7cd8110979c5701c77c7f8\n",
            "Successfully built bezmerizing\n",
            "Requirement already satisfied: Flat in /usr/local/lib/python3.6/dist-packages (0.3.1)\n"
          ],
          "name": "stdout"
        }
      ]
    },
    {
      "cell_type": "code",
      "metadata": {
        "id": "9l-ZlvhrkNDw",
        "colab_type": "code",
        "colab": {}
      },
      "source": [
        "from bezmerizing import Polyline, Path\n",
        "from flat import document, rgb, rgba, font, strike, shape\n",
        "from flat.command import moveto, quadto, curveto, lineto, closepath\n",
        "from copy import copy"
      ],
      "execution_count": 206,
      "outputs": []
    },
    {
      "cell_type": "code",
      "metadata": {
        "id": "9TmnQ48QBBPt",
        "colab_type": "code",
        "colab": {}
      },
      "source": [
        "from IPython.display import SVG, display\n",
        "def show(page):\n",
        "    display(SVG(page.svg()))"
      ],
      "execution_count": 207,
      "outputs": []
    },
    {
      "cell_type": "code",
      "metadata": {
        "id": "2_QWkZUvBUPd",
        "colab_type": "code",
        "colab": {}
      },
      "source": [
        "f_3_1 = font.open(\"/content/FHP-infovis-py/ttf/MogeeFont3.1.ttf\")\n",
        "f_3_4 = font.open(\"/content/FHP-infovis-py/ttf/MogeeFont3.4.ttf\")"
      ],
      "execution_count": 208,
      "outputs": []
    },
    {
      "cell_type": "code",
      "metadata": {
        "id": "C39smIz2Bl-B",
        "colab_type": "code",
        "colab": {
          "base_uri": "https://localhost:8080/",
          "height": 629
        },
        "outputId": "4a402e56-cfa3-4244-95b8-e23eb7ed762c"
      },
      "source": [
        "f_3_1.glyph(2)"
      ],
      "execution_count": 209,
      "outputs": [
        {
          "output_type": "execute_result",
          "data": {
            "text/plain": [
              "[<flat.command.moveto at 0x7fa7b566cf60>,\n",
              " <flat.command.lineto at 0x7fa7b566ca90>,\n",
              " <flat.command.lineto at 0x7fa7b566c898>,\n",
              " <flat.command.lineto at 0x7fa7b566c128>,\n",
              " <flat.command.lineto at 0x7fa7b5697f98>,\n",
              " <flat.command.closepath at 0x7fa7afa2f438>,\n",
              " <flat.command.moveto at 0x7fa7b569c780>,\n",
              " <flat.command.lineto at 0x7fa7b569c048>,\n",
              " <flat.command.lineto at 0x7fa7b569c198>,\n",
              " <flat.command.lineto at 0x7fa7b569c7f0>,\n",
              " <flat.command.lineto at 0x7fa7b569c080>,\n",
              " <flat.command.closepath at 0x7fa7afa2f438>,\n",
              " <flat.command.moveto at 0x7fa7b569c6d8>,\n",
              " <flat.command.lineto at 0x7fa7b569c0b8>,\n",
              " <flat.command.lineto at 0x7fa7b569c2b0>,\n",
              " <flat.command.lineto at 0x7fa7b569c7b8>,\n",
              " <flat.command.lineto at 0x7fa7b569c4a8>,\n",
              " <flat.command.closepath at 0x7fa7afa2f438>,\n",
              " <flat.command.moveto at 0x7fa7b569c4e0>,\n",
              " <flat.command.lineto at 0x7fa7b569c160>,\n",
              " <flat.command.lineto at 0x7fa7b569c470>,\n",
              " <flat.command.lineto at 0x7fa7b569c898>,\n",
              " <flat.command.lineto at 0x7fa7b569c5c0>,\n",
              " <flat.command.closepath at 0x7fa7afa2f438>,\n",
              " <flat.command.moveto at 0x7fa7b569c828>,\n",
              " <flat.command.lineto at 0x7fa7b569c748>,\n",
              " <flat.command.lineto at 0x7fa7b53c2828>,\n",
              " <flat.command.lineto at 0x7fa7b53c2860>,\n",
              " <flat.command.lineto at 0x7fa7b53c2438>,\n",
              " <flat.command.closepath at 0x7fa7afa2f438>,\n",
              " <flat.command.moveto at 0x7fa7b53c2588>,\n",
              " <flat.command.lineto at 0x7fa7b53c27b8>,\n",
              " <flat.command.lineto at 0x7fa7b53c2ef0>,\n",
              " <flat.command.lineto at 0x7fa7b53c2be0>,\n",
              " <flat.command.lineto at 0x7fa7b53c2b00>,\n",
              " <flat.command.closepath at 0x7fa7afa2f438>]"
            ]
          },
          "metadata": {
            "tags": []
          },
          "execution_count": 209
        }
      ]
    },
    {
      "cell_type": "code",
      "metadata": {
        "id": "b6_1zIDklbRA",
        "colab_type": "code",
        "colab": {
          "base_uri": "https://localhost:8080/",
          "height": 172
        },
        "outputId": "cbf57fce-5cfc-475c-a93b-ed127166f8af"
      },
      "source": [
        "glyph_path = Path(f_3_1.glyph(2)).translate(0, f_3_1.density).scale(72 / f_3_1.density * 0.385)\n",
        "page = document(40, 40, 'mm').addpage()\n",
        "pen = shape().stroke(rgb(240, 240, 240)).fill(rgb(0, 0, 0)).width(2)\n",
        "page.place(pen.path(glyph_path))\n",
        "show(page)"
      ],
      "execution_count": 210,
      "outputs": [
        {
          "output_type": "display_data",
          "data": {
            "text/plain": [
              "<IPython.core.display.SVG object>"
            ],
            "image/svg+xml": "<svg height=\"113.3858pt\" version=\"1.1\" width=\"113.3858pt\" xmlns=\"http://www.w3.org/2000/svg\" xmlns:xlink=\"http://www.w3.org/1999/xlink\">\n<title>Untitled</title>\n<path d=\"M0,40.8597 L6.2861,40.8597 L6.2861,47.1458 L0,47.1458 L0,40.8597 z M0,47.1458 L6.2861,47.1458 L6.2861,53.4319 L0,53.4319 L0,47.1458 z M0,53.4319 L6.2861,53.4319 L6.2861,59.718 L0,59.718 L0,53.4319 z M0,59.718 L6.2861,59.718 L6.2861,66.0042 L0,66.0042 L0,59.718 z M0,72.2903 L6.2861,72.2903 L6.2861,78.5764 L0,78.5764 L0,72.2903 z M0,34.5736 L6.2861,34.5736 L6.2861,40.8597 L0,40.8597 L0,34.5736 z\" fill=\"rgb(0,0,0)\" stroke=\"rgb(240,240,240)\" stroke-miterlimit=\"10\" stroke-width=\"2\"/>\n</svg>"
          },
          "metadata": {
            "tags": []
          }
        }
      ]
    },
    {
      "cell_type": "code",
      "metadata": {
        "id": "ztTS7ow0CZNK",
        "colab_type": "code",
        "colab": {
          "base_uri": "https://localhost:8080/",
          "height": 172
        },
        "outputId": "19c59fe1-ba74-4cf3-929b-fc85da27abeb"
      },
      "source": [
        "glyph_path = Path(f_3_4.glyph(2)).translate(0, f_3_1.density).scale(72 / f_3_1.density * 0.385)\n",
        "page = document(40, 40, 'mm').addpage()\n",
        "pen = shape().stroke(rgb(240, 240, 240)).fill(rgb(0, 0, 0)).width(2)\n",
        "page.place(pen.path(glyph_path))\n",
        "show(page)"
      ],
      "execution_count": 211,
      "outputs": [
        {
          "output_type": "display_data",
          "data": {
            "text/plain": [
              "<IPython.core.display.SVG object>"
            ],
            "image/svg+xml": "<svg height=\"113.3858pt\" version=\"1.1\" width=\"113.3858pt\" xmlns=\"http://www.w3.org/2000/svg\" xmlns:xlink=\"http://www.w3.org/1999/xlink\">\n<title>Untitled</title>\n<path d=\"M0,40.8597 L6.2861,40.8597 L6.2861,47.1458 L0,47.1458 L0,40.8597 z M0,47.1458 L6.2861,47.1458 L6.2861,53.4319 L0,53.4319 L0,47.1458 z M0,53.4319 L6.2861,53.4319 L6.2861,59.718 L0,59.718 L0,53.4319 z M0,59.718 L6.2861,59.718 L6.2861,66.0042 L0,66.0042 L0,59.718 z M0,72.2903 L6.2861,72.2903 L6.2861,78.5764 L0,78.5764 L0,72.2903 z M0,34.5736 L6.2861,34.5736 L6.2861,40.8597 L0,40.8597 L0,34.5736 z\" fill=\"rgb(0,0,0)\" stroke=\"rgb(240,240,240)\" stroke-miterlimit=\"10\" stroke-width=\"2\"/>\n</svg>"
          },
          "metadata": {
            "tags": []
          }
        }
      ]
    },
    {
      "cell_type": "markdown",
      "metadata": {
        "id": "gFxTBnIVD_me",
        "colab_type": "text"
      },
      "source": [
        "The next steps could be comparing the lists of glyphs and comparing the form itself."
      ]
    },
    {
      "cell_type": "markdown",
      "metadata": {
        "id": "vWwvBZVWCES3",
        "colab_type": "text"
      },
      "source": [
        "Failed attempts to install drawbot :("
      ]
    },
    {
      "cell_type": "code",
      "metadata": {
        "id": "4iJtKg_O1dVP",
        "colab_type": "code",
        "colab": {}
      },
      "source": [
        "# !pip install -U setuptools"
      ],
      "execution_count": 212,
      "outputs": []
    },
    {
      "cell_type": "code",
      "metadata": {
        "id": "3k15MPRC_Vq8",
        "colab_type": "code",
        "colab": {}
      },
      "source": [
        "# !pip install git+https://github.com/typemytype/drawbot"
      ],
      "execution_count": 213,
      "outputs": []
    },
    {
      "cell_type": "code",
      "metadata": {
        "id": "-SjmfICv8hS5",
        "colab_type": "code",
        "colab": {}
      },
      "source": [
        "# !git clone https://github.com/typemytype/drawbot.git"
      ],
      "execution_count": 215,
      "outputs": []
    },
    {
      "cell_type": "code",
      "metadata": {
        "id": "aoBOSY3Q9OUB",
        "colab_type": "code",
        "colab": {}
      },
      "source": [
        "# cd /content/drawbot"
      ],
      "execution_count": 216,
      "outputs": []
    },
    {
      "cell_type": "code",
      "metadata": {
        "id": "CkEcVMX_9f5d",
        "colab_type": "code",
        "colab": {}
      },
      "source": [
        "# !python setup.py install"
      ],
      "execution_count": 217,
      "outputs": []
    },
    {
      "cell_type": "code",
      "metadata": {
        "id": "UC8ZIgZebnDu",
        "colab_type": "code",
        "colab": {}
      },
      "source": [
        "# import drawBot as draw"
      ],
      "execution_count": 218,
      "outputs": []
    }
  ]
}